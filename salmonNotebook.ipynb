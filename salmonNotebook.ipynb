{
 "cells": [
  {
   "cell_type": "markdown",
   "metadata": {},
   "source": [
    "<p><img src=\"https://www.carkeekwatershed.org/wp-content/uploads/CWCAPlogo-1.png\" width=\"213\" height=\"72\"></p>\n",
    "\n",
    "# CWCAP Salmon Survey Analysis\n",
    "Press run all to create all figures and generate a report"
   ]
  },
  {
   "cell_type": "code",
   "execution_count": null,
   "metadata": {
    "hide_input": true,
    "tags": []
   },
   "outputs": [],
   "source": [
    "###ENTER SURVEY YEAR###\n",
    "surveyYear = '2021'\n",
    "\n",
    "##INITIALIZATION\n",
    "import matplotlib.pyplot as plt, plotly.express as px, pandas as pd, sys, pytz, io, base64, matplotlib.dates as mdates\n",
    "from jinja2 import Environment, FileSystemLoader\n",
    "from datetime import datetime\n",
    "\n",
    "currentTimePacific = datetime.now(pytz.timezone('America/Los_Angeles')).strftime('%Y-%m-%d_%H-%M-%S') #cannot use system time due to colab\n",
    "reportFileName = currentTimePacific + '_salmonReport.html'\n",
    "\n",
    "surveyURIs = {'2019':'https://five.epicollect.net/api/export/entries/salmon-survey-2019?form_ref=397fba6ecc674b74836efc190840c42d_5d6f454667a28',\n",
    "              '2020':'https://five.epicollect.net/api/export/entries/salmon-survey-2020?form_ref=f550ab6c4dab44f49bcc33b7c1904be9_5d6f454667a28',\n",
    "              '2021':'https://five.epicollect.net/api/export/entries/salmon-survey-2021?form_ref=ad5ffedf0a3246a18934e6ec36ed9569_5d6f454667a28'}\n",
    "salmonURIs = {'2019':'https://five.epicollect.net/api/export/entries/salmon-survey-2019?form_ref=397fba6ecc674b74836efc190840c42d_5d6f509867795',\n",
    "              '2020':'https://five.epicollect.net/api/export/entries/salmon-survey-2020?form_ref=f550ab6c4dab44f49bcc33b7c1904be9_5d6f509867795',\n",
    "              '2021':'https://five.epicollect.net/api/export/entries/salmon-survey-2021?form_ref=ad5ffedf0a3246a18934e6ec36ed9569_5d6f509867795'}\n",
    "IN_COLAB = 'google.colab' in sys.modules\n",
    "\n",
    "def getFigureAsHTML():\n",
    "    IObytes = io.BytesIO()\n",
    "    plt.savefig(IObytes, format = 'png')\n",
    "    IObytes.seek(0)\n",
    "    encodedPlot = base64.b64encode(IObytes.read()).decode(\"utf-8\")\n",
    "    return '<img src=\\'data:image/png;base64,{}\\'>'.format(encodedPlot)\n",
    "\n",
    "def clearPreviousReports():\n",
    "    if (not IN_COLAB):\n",
    "        import os, glob\n",
    "        from os.path import exists\n",
    "        for name in glob.glob('*salmonReport.html'):\n",
    "            print(\"Previous report file exists. Deleting \" + name)\n",
    "            os.remove(name)\n",
    "clearPreviousReports()"
   ]
  },
  {
   "cell_type": "code",
   "execution_count": null,
   "metadata": {},
   "outputs": [],
   "source": [
    "#clone all repo files - main branch only\n",
    "if IN_COLAB:\n",
    "  !git clone https://github.com/slfisco/salmonNotebook.git"
   ]
  },
  {
   "cell_type": "code",
   "execution_count": null,
   "metadata": {},
   "outputs": [],
   "source": [
    "###DATA FETCHING\n",
    "import requests, json\n",
    "def getEntries(uri):\n",
    "    request = requests.get(url = uri  + '&per_page=1000')\n",
    "    df = pd.DataFrame(pd.json_normalize(request.json()['data']['entries']))\n",
    "    while request.json()['links']['next'] is not None:\n",
    "        nextURL = request.json()['links']['next']\n",
    "        request = requests.get(url = nextURL)\n",
    "        df = df.append(pd.json_normalize(request.json()['data']['entries']))\n",
    "    return df\n",
    "\n",
    "def addStats(survey, salmonDf):\n",
    "    surveyUUID = survey['ec5_uuid']\n",
    "    todaySalmonDf = salmonDf[salmonDf['ec5_parent_uuid'] == surveyUUID]\n",
    "    remnantChum = todaySalmonDf.query('`Species` == \"Chum\" and `Type` == \"Remnant\"').shape[0]\n",
    "    deadChum = todaySalmonDf.query('`Species` == \"Chum\" and `Type` == \"Dead\"').shape[0] + remnantChum\n",
    "    remnantCoho = todaySalmonDf.query('`Species` == \"Coho\" and `Type` == \"Remnant\"').shape[0]\n",
    "    deadCoho = todaySalmonDf.query('`Species` == \"Coho\" and `Type` == \"Dead\"').shape[0] + remnantCoho\n",
    "    unknownRemnant = todaySalmonDf.query('`Species` == \"Unknown\" and `Type` == \"Remnant\"').shape[0]\n",
    "    deadUnknown = todaySalmonDf.query('`Species` == \"Unknown\" and `Type` == \"Dead\"').shape[0] + unknownRemnant\n",
    "    liveChum = todaySalmonDf.query('`Species` == \"Chum\" and `Type` == \"Live\"').shape[0]\n",
    "    liveCoho = todaySalmonDf.query('`Species` == \"Coho\" and `Type` == \"Live\"').shape[0]\n",
    "    liveUnknown = todaySalmonDf.query('`Species` == \"Unknown\" and `Type` == \"Live\"').shape[0]\n",
    "    todaySalmonDf.query('`Species` == \"Sea-run Cutthroat\" and `Type` == \"Live\"').shape[0]\n",
    "    liveSeaRunCutthroat = todaySalmonDf.query('`Species` == \"Sea-run Cutthroat\" and `Type` == \"Live\"').shape[0]\n",
    "    liveResidentCutthroat = todaySalmonDf.query('`Species` == \"Resident Cutthroat\" and `Type` == \"Live\"').shape[0]\n",
    "    liveCutthroat = liveSeaRunCutthroat + liveResidentCutthroat\n",
    "    remnantSeaRunCutthroat = todaySalmonDf.query('`Species` == \"Sea-run Cutthroat\" and `Type` == \"Remnant\"').shape[0]\n",
    "    deadSeaRunCutthroat = todaySalmonDf.query('`Species` == \"Sea-run Cutthroat\" and `Type` == \"Dead\"').shape[0] + remnantSeaRunCutthroat\n",
    "    remnantResidentCutthroat = todaySalmonDf.query('`Species` == \"Resident Cutthroat\" and `Type` == \"Remnant\"').shape[0]\n",
    "    deadResidentCutthroat = todaySalmonDf.query('`Species` == \"Resident Cutthroat\" and `Type` == \"Dead\"').shape[0] + remnantResidentCutthroat\n",
    "    deadCutthroat = deadSeaRunCutthroat + deadResidentCutthroat\n",
    "    redds = todaySalmonDf.query('`Type` == \"Redd\"').shape[0]\n",
    "    #totals include sea run cutthroat but not resident or redds\n",
    "    totalDeadSalmon = deadChum + deadCoho + deadSeaRunCutthroat + deadUnknown\n",
    "    totalLiveSalmon = liveChum + liveCoho + liveUnknown + liveSeaRunCutthroat\n",
    "    total = totalDeadSalmon + totalLiveSalmon\n",
    "    return pd.Series({'Survey Date': pd.Timestamp(survey['Survey_Date']), 'Dead Chum': deadChum, 'Dead Coho': deadCoho, 'Live Chum': liveChum, 'Live Coho': liveCoho, 'Live Cutthroat': liveCutthroat, 'Dead Cutthroat': deadCutthroat, 'Redds': redds, 'Total Dead Salmon' : totalDeadSalmon, 'Total Live Salmon': totalLiveSalmon, 'Total': total})\n",
    "\n",
    "def getSurveyEntries():\n",
    "    surveyDfs = {}\n",
    "    for year in surveyURIs:\n",
    "        surveyDfs[year] = getEntries(surveyURIs[year])\n",
    "    return surveyDfs\n",
    "\n",
    "def getSalmonEntries():\n",
    "    salmonDfs = {}\n",
    "    for year in salmonURIs:\n",
    "        salmonDfs[year] = getEntries(salmonURIs[year])\n",
    "    return salmonDfs\n",
    "    \n",
    "def getStats(surveyDfs, salmonDfs):\n",
    "    statsDfs = {}\n",
    "    for year in surveyDfs:\n",
    "        if not salmonDfs[year].empty:\n",
    "            statsDfs[year] = surveyDfs[year].apply(addStats, axis=1, args=[salmonDfs[year]]).groupby(['Survey Date']).sum().reset_index() \n",
    "            kwargs = {'Dead to Date' : statsDfs[year]['Total Dead Salmon'].cumsum(), 'Dead Chum to Date' : statsDfs[year]['Dead Chum'].cumsum(), 'Dead Coho to Date' : statsDfs[year]['Dead Coho'].cumsum()}\n",
    "            statsDfs[year] = statsDfs[year].assign(**kwargs)\n",
    "    return statsDfs\n",
    "\n",
    "surveyDfs = getSurveyEntries()\n",
    "salmonDfs = getSalmonEntries()\n",
    "statsDfs = getStats(surveyDfs, salmonDfs)\n",
    "salmonDf = salmonDfs[surveyYear]\n",
    "surveyDf = surveyDfs[surveyYear]\n",
    "statsDf = statsDfs[surveyYear]"
   ]
  },
  {
   "cell_type": "markdown",
   "metadata": {},
   "source": [
    "### Survey Stats Table"
   ]
  },
  {
   "cell_type": "code",
   "execution_count": null,
   "metadata": {
    "tags": []
   },
   "outputs": [],
   "source": [
    "###TABLES\n",
    "import IPython.core.display as ip\n",
    "\n",
    "def displayInNotebook(table):\n",
    "    display(ip.HTML(table))\n",
    "    \n",
    "def getSurveyStatsTable():\n",
    "    statsTable = statsDf[['Survey Date', 'Total Live Salmon', 'Total Dead Salmon', 'Live Chum', 'Dead Chum', 'Live Coho', 'Dead Coho', 'Live Cutthroat', 'Dead Cutthroat', 'Redds']].style.format({'Survey Date': \"{:%Y-%m-%d}\"}).hide_index().set_caption(\"Note: Total live salmon includes Sea-Run Cutthroat and Unknowns - entries where surveyors were unable to determine the species. Remnants are included in dead counts.\").render()\n",
    "    displayInNotebook(statsTable)\n",
    "    return statsTable\n",
    "    \n",
    "def getYearlyTotals():\n",
    "    max = (statsDf['Dead to Date']+statsDf['Total Live Salmon']).max()\n",
    "    idxmax = (statsDf['Dead to Date']+statsDf['Total Live Salmon']).idxmax()\n",
    "    yearlySalmonTotal = int(max)\n",
    "    yearlyChumTotal = int((statsDf['Dead Chum to Date']+statsDf['Live Chum']).max())\n",
    "    yearlyCohoTotal = int((statsDf['Dead Coho to Date']+statsDf['Live Coho']).max())\n",
    "    surveyOfCalculation = statsDf.iloc[idxmax]['Survey Date']\n",
    "    ### DEBUGGING\n",
    "    #print('Based on total dead count:', int(statsDf.iloc[idxmax]['Dead to Date']), '|', 'plus total live count:', int(statsDf.iloc[idxmax]['Total Live Salmon']))\n",
    "    return pd.DataFrame({'Salmon': yearlySalmonTotal, 'Chum': yearlyChumTotal, 'Coho': yearlyCohoTotal, 'Based on survey': surveyOfCalculation}, index=[0])\n",
    "    \n",
    "def getYearlyTotalsTable():\n",
    "    yearlyTotals = getYearlyTotals()\n",
    "    yearlyTotalsTable=yearlyTotals[['Salmon', 'Chum', 'Coho', 'Based on survey']].style.format({'Based on survey': \"{:%Y-%m-%d}\"}).hide_index().set_caption(\"Note: Yearly total is the survey date where (day\\'s live + dead up to date) is max\").render()\n",
    "    displayInNotebook(yearlyTotalsTable)\n",
    "    return yearlyTotalsTable\n",
    "    \n",
    "def getReddsTable():\n",
    "    mergedDf = pd.merge(salmonDf, surveyDf, how='inner', left_on = 'ec5_parent_uuid', right_on = 'ec5_uuid')\n",
    "    reddsTable = mergedDf.query('`Type` == \"Redd\"')[['Stream', 'Distance', 'Survey_Date']].sort_values(by=['Stream', 'Distance']).style.hide_index().render()\n",
    "    displayInNotebook(reddsTable)\n",
    "    return reddsTable\n",
    "    \n",
    "surveyTotals = getSurveyStatsTable()\n",
    "yearlyTotalsTable = getYearlyTotalsTable()\n",
    "reddsTable = getReddsTable()"
   ]
  },
  {
   "cell_type": "markdown",
   "metadata": {},
   "source": [
    "### Count Plot"
   ]
  },
  {
   "cell_type": "code",
   "execution_count": null,
   "metadata": {
    "tags": []
   },
   "outputs": [],
   "source": [
    "def getCountPlot(statsDf):\n",
    "    plot = statsDf.plot(ylabel = 'Count', title = surveyYear + ' Fish Count', rot=45, xticks=statsDf['Survey Date'], y=['Total Dead Salmon', 'Total Live Salmon', 'Live Chum', 'Dead Chum', 'Live Coho', 'Dead Coho'], x='Survey Date')\n",
    "    plot.xaxis.set_major_formatter(mdates.DateFormatter(\"%m-%d\"))\n",
    "    return getFigureAsHTML()\n",
    "countPlot = getCountPlot(statsDf)"
   ]
  },
  {
   "cell_type": "markdown",
   "metadata": {},
   "source": [
    "### Scatter Map"
   ]
  },
  {
   "cell_type": "code",
   "execution_count": null,
   "metadata": {
    "tags": []
   },
   "outputs": [],
   "source": [
    "def getScatterMap(salmonDf, figureTitle):\n",
    "    if locationDataAvailable(salmonDf):\n",
    "        fig = px.scatter_mapbox(salmonDf, lat='Location.latitude', lon='Location.longitude', color='Type', labels={'Type':'Type'}, color_discrete_map={'Live': 'green', 'Redd': 'red', 'Dead': 'black'},\n",
    "                        center=dict(lat=47.71157, lon=-122.3759), zoom=15, hover_name = 'title', hover_data = ['Location.accuracy'],\n",
    "                        mapbox_style='stamen-terrain', title=figureTitle)\n",
    "        fig.layout.coloraxis.showscale = False\n",
    "        fig.show()\n",
    "        return fig.to_html(reportFileName)\n",
    "\n",
    "def locationDataAvailable(salmonDf):\n",
    "    return len(salmonDf.value_counts('Location.latitude') > 0)\n",
    "    \n",
    "def dropInaccurateLocations(salmonDf):\n",
    "    return salmonDf.loc[pd.to_numeric(salmonDf['Location.accuracy']) < 50]\n",
    "\n",
    "mergedDf = pd.merge(salmonDf, surveyDf, how='inner', left_on = 'ec5_parent_uuid', right_on = 'ec5_uuid', suffixes=(None, '_y'))\n",
    "mergedDf.sort_values(by=['Survey_Date'])\n",
    "mostRecentSurveyDate = mergedDf.iloc[0]['Survey_Date']\n",
    "lastSurveySalmon = mergedDf.query('`Survey_Date` == @mostRecentSurveyDate')\n",
    "mostRecentScatterMap = getScatterMap(dropInaccurateLocations(lastSurveySalmon), mostRecentSurveyDate + ' Fish Scatter Map')\n",
    "yearScatterMap = getScatterMap(dropInaccurateLocations(salmonDf), surveyYear + ' Fish Scatter Map')  "
   ]
  },
  {
   "cell_type": "markdown",
   "metadata": {},
   "source": [
    "### Spawned Chart"
   ]
  },
  {
   "cell_type": "code",
   "execution_count": null,
   "metadata": {
    "tags": []
   },
   "outputs": [],
   "source": [
    "def getPieChart(df, column, colorsList, title):\n",
    "    if (df.shape[0] > 0):\n",
    "        value_counts = df.value_counts(column)\n",
    "        value_counts.drop(labels='', errors='ignore', inplace= True)\n",
    "        pie, ax1 = plt.subplots()\n",
    "        ax1.pie(pd.Series(value_counts), colors = [colorsList[p] for p in value_counts.index.values], labels= value_counts.index.values, autopct='%1.1f%%')\n",
    "        plt.title(title)\n",
    "        return getFigureAsHTML()\n",
    "    else:\n",
    "        print('Unable to display spawned chart. No spawning data to display')\n",
    "    \n",
    "def getPredationChart(df, title):\n",
    "    predationColors = {'Eye loss': 'teal', 'No':'pink', 'Unknown':'grey', 'Yes':'orange'}\n",
    "    return getPieChart(df, 'Predation', predationColors, title)\n",
    "    \n",
    "def getSpawningChart(df, title):\n",
    "    spawningColors = {'Partially spawned':'yellow', 'Spawned':'green', 'Unknown':'gray', 'Unspawned':'red'}\n",
    "    return getPieChart(df, 'Spawning_Success', spawningColors, title)\n",
    "\n",
    "deadChumDf = salmonDf.query('`Type` == \"Dead\" and `Species` == \"Chum\"')\n",
    "deadCohoDf = salmonDf.query('`Type` == \"Dead\" and `Species` == \"Coho\"')\n",
    "deadChumFemaleDf = deadChumDf.query('`Sex` == \"Female\"')\n",
    "deadChumMaleDf = deadChumDf.query('`Sex` == \"Male\"')\n",
    "chumPredationChart = getPredationChart(deadChumDf, surveyYear + ' Chum Predation')\n",
    "cohoPredationChart = getPredationChart(deadCohoDf, surveyYear + ' Coho Predation')\n",
    "chumSpawningChart = getSpawningChart(deadChumDf, surveyYear + ' Chum Spawn Percentage')\n",
    "cohoSpawningChart = getSpawningChart(deadCohoDf, surveyYear + ' Coho Spawn Percentage')\n",
    "chumFemaleSpawningChart = getSpawningChart(deadChumFemaleDf, surveyYear + ' Chum Female Spawn Percentage')\n",
    "chumMaleSpawningChart = getSpawningChart(deadChumMaleDf, surveyYear + ' Chum Male Spawn Percentage')\n",
    "pieCharts = [chumPredationChart, cohoPredationChart, chumSpawningChart, cohoSpawningChart, chumFemaleSpawningChart, chumMaleSpawningChart]"
   ]
  },
  {
   "cell_type": "markdown",
   "metadata": {},
   "source": [
    "### Year By Year Count"
   ]
  },
  {
   "cell_type": "code",
   "execution_count": null,
   "metadata": {
    "tags": []
   },
   "outputs": [],
   "source": [
    "def getYearByYearCountPlot(surveyURIs, salmonURIs):\n",
    "#plot each series\n",
    "    strippedStatsDfs = statsDfs.copy()\n",
    "    for year in surveyDfs:\n",
    "        strippedStatsDfs[year]['Survey Date'] = statsDfs[year]['Survey Date'].apply(lambda x: datetime.strptime(x.strftime(\"%m-%d\"), \"%m-%d\")) \n",
    "    fig, ax = plt.subplots()\n",
    "    plt.plot('Survey Date', 'Total', data=strippedStatsDfs['2019'], label=\"2019\")\n",
    "    plt.plot('Survey Date', 'Total', data=strippedStatsDfs['2020'], label=\"2020\")\n",
    "    plt.plot('Survey Date', 'Total', data=strippedStatsDfs['2021'], label=\"2021\")\n",
    "    plt.title('Count by time of year')\n",
    "    plt.ylabel('Count')\n",
    "    plt.xlabel('Survey Date')\n",
    "    plt.xticks(rotation = 45)\n",
    "    plt.legend()\n",
    "    ax.xaxis.set_major_formatter(mdates.DateFormatter('%m-%d'))\n",
    "    return getFigureAsHTML()\n",
    "yearByYearCountPlot = getYearByYearCountPlot(surveyURIs, salmonURIs)"
   ]
  },
  {
   "cell_type": "code",
   "execution_count": null,
   "metadata": {},
   "outputs": [],
   "source": [
    "#Generate HTML report from template\n",
    "env = Environment(loader=FileSystemLoader('templates'))\n",
    "template = env.get_template('report_template.html')\n",
    "reportData = {\n",
    "    'reportGenTime': currentTimePacific,\n",
    "    'surveyTotals': surveyTotals,\n",
    "    'yearlyTotalsTable': yearlyTotalsTable,\n",
    "    'reddsTable' : reddsTable,\n",
    "    'countPlot' : countPlot,\n",
    "    'pieCharts' : pieCharts,\n",
    "    'yearByYearCountPlot' : yearByYearCountPlot,\n",
    "    'mostRecentScatterMap' : mostRecentScatterMap,\n",
    "    'yearScatterMap' : yearScatterMap\n",
    "}\n",
    "html = template.render(reportData)\n",
    "with open(reportFileName, 'w') as f:\n",
    "    f.write(html)"
   ]
  },
  {
   "cell_type": "code",
   "execution_count": null,
   "metadata": {},
   "outputs": [],
   "source": [
    "#Download HTML report if in google colab\n",
    "if (IN_COLAB):\n",
    "    from google.colab import files\n",
    "    files.download(reportFileName)"
   ]
  },
  {
   "cell_type": "code",
   "execution_count": null,
   "metadata": {},
   "outputs": [],
   "source": []
  }
 ],
 "metadata": {
  "celltoolbar": "Edit Metadata",
  "kernelspec": {
   "display_name": "Python 3",
   "language": "python",
   "name": "python3"
  },
  "language_info": {
   "codemirror_mode": {
    "name": "ipython",
    "version": 3
   },
   "file_extension": ".py",
   "mimetype": "text/x-python",
   "name": "python",
   "nbconvert_exporter": "python",
   "pygments_lexer": "ipython3",
   "version": "3.8.5"
  }
 },
 "nbformat": 4,
 "nbformat_minor": 4
}
