{
 "cells": [
  {
   "cell_type": "markdown",
   "metadata": {},
   "source": [
    "<img src=\"https://www.carkeekwatershed.org/wp-content/uploads/CWCAPlogo-1.png\" style=\"width:213px;height:72px;float:left;\">\n",
    "\n",
    "# <center> CWCAP Salmon Survey Analysis</center>\n",
    "Press run all to generate all figures.\n",
    "### Table of contents\n",
    "- [Survey Stats Table](#SurveyStatsTable)\n",
    "- [Count Plot](#CountPlot)\n",
    "- [Scatter Map](#ScatterMap)\n",
    "- [Spawned Chart](#SpawnedChart)\n",
    "- [Year By Year Count](#YearByYearCount)"
   ]
  },
  {
   "cell_type": "code",
   "execution_count": null,
   "metadata": {},
   "outputs": [],
   "source": [
    "import requests, json, matplotlib.pyplot as plt, plotly.express as px, pandas as pd, IPython.core.display as ip\n",
    "from datetime import datetime\n",
    "from IPython.core.debugger import set_trace\n",
    "import matplotlib.dates as mdates\n",
    "mostRecentSurvey = '2020'\n",
    "surveyURIs = {'2019':'https://five.epicollect.net/api/export/entries/salmon-survey-2019?form_ref=397fba6ecc674b74836efc190840c42d_5d6f454667a28',\n",
    "              '2020':'https://five.epicollect.net/api/export/entries/salmon-survey-2020?form_ref=f550ab6c4dab44f49bcc33b7c1904be9_5d6f454667a28',\n",
    "              '2021':'https://five.epicollect.net/api/export/entries/salmon-survey-2021?form_ref=ad5ffedf0a3246a18934e6ec36ed9569_5d6f454667a28'}\n",
    "salmonURIs = {'2019':'https://five.epicollect.net/api/export/entries/salmon-survey-2019?form_ref=397fba6ecc674b74836efc190840c42d_5d6f509867795',\n",
    "              '2020':'https://five.epicollect.net/api/export/entries/salmon-survey-2020?form_ref=f550ab6c4dab44f49bcc33b7c1904be9_5d6f509867795',\n",
    "              '2021':'https://five.epicollect.net/api/export/entries/salmon-survey-2021?form_ref=ad5ffedf0a3246a18934e6ec36ed9569_5d6f509867795'}\n",
    "        \n",
    "def getEntries(uri):\n",
    "    request = requests.get(url = uri)\n",
    "    df = pd.DataFrame(pd.json_normalize(request.json()['data']['entries']))\n",
    "    while request.json()['links']['next'] is not None:\n",
    "        nextURL = request.json()['links']['next']\n",
    "        request = requests.get(url = nextURL)\n",
    "        df = df.append(pd.json_normalize(request.json()['data']['entries']))\n",
    "    return df\n",
    "\n",
    "def filterSalmonDf(salmonDf, *filters):\n",
    "    for filter in filters:\n",
    "        field, value = filter\n",
    "        salmonDf = salmonDf.loc[(salmonDf[field] == value)]\n",
    "    return salmonDf\n",
    "    \n",
    "def addStats(survey, salmonDf):\n",
    "    surveyUUID = survey['ec5_uuid']\n",
    "    todaySalmonDf = salmonDf[salmonDf['ec5_parent_uuid'] == surveyUUID]\n",
    "    deadChum = filterSalmonDf(todaySalmonDf, ('Species', 'Chum'), ('Type', 'Dead')).shape[0]\n",
    "    deadCoho = filterSalmonDf(todaySalmonDf, ('Species', 'Coho'), ('Type', 'Dead')).shape[0]\n",
    "    liveChum = filterSalmonDf(todaySalmonDf, ('Species', 'Chum'), ('Type', 'Live')).shape[0]\n",
    "    liveCoho = filterSalmonDf(todaySalmonDf, ('Species', 'Coho'), ('Type', 'Live')).shape[0]\n",
    "    remnant = filterSalmonDf(todaySalmonDf, ('Type', 'Remnant')).shape[0]\n",
    "    cutthroat = filterSalmonDf(todaySalmonDf, ('Species', 'Cutthroat')).shape[0]\n",
    "    totalDead = todaySalmonDf.loc[(todaySalmonDf['Type'] == 'Dead')].shape[0]\n",
    "    totalLiveSalmon = liveChum + liveCoho\n",
    "    total = (todaySalmonDf.shape[0])\n",
    "    return pd.Series({'Survey Date': datetime.strptime(survey['Survey_Date'], '%m/%d/%Y').date(), 'Dead Chum': deadChum, 'Dead Coho': deadCoho, 'Live Chum': liveChum, 'Live Coho': liveCoho, 'Total Dead': totalDead, 'Total Live Salmon': totalLiveSalmon, 'Total': total, 'Remnant': remnant, 'Cutthroat': cutthroat})\n",
    "\n",
    "salmonDf = getEntries(salmonURIs.get(mostRecentSurvey))\n",
    "surveyDf = getEntries(surveyURIs.get(mostRecentSurvey))\n",
    "statsDf = surveyDf.apply(addStats, axis=1, args=[salmonDf]).groupby(['Survey Date']).sum().reset_index()\n",
    "columnOrder =  ['Survey Date', 'Total', 'Total Live Salmon', 'Total Dead', 'Live Chum', 'Live Coho', 'Dead Chum', 'Dead Coho', 'Remnant', 'Cutthroat']\n",
    "statsDf = statsDf.sort_values(by=['Survey Date'])[columnOrder]\n",
    "kwargs = {'Dead to Date' : statsDf['Total Dead'].cumsum(), 'Dead Chum to Date' : statsDf['Dead Chum'].cumsum(), 'Dead Coho to Date' : statsDf['Dead Coho'].cumsum()}\n",
    "statsDf = statsDf.assign(**kwargs)\n",
    "surveyDfs = {};\n",
    "salmonDfs = {};\n",
    "statsDfs = {};\n",
    "for year in surveyURIs:\n",
    "    surveyDfs[year] = getEntries(surveyURIs[year])\n",
    "for year in salmonURIs:\n",
    "    salmonDfs[year] = getEntries(salmonURIs[year])\n",
    "for year in surveyDfs:\n",
    "    if not salmonDfs[year].empty:\n",
    "        statsDfs[year] = surveyDfs[year].apply(addStats, axis=1, args=[salmonDfs[year]]).groupby(['Survey Date']).sum().reset_index()\n",
    "        statsDfs[year]['Survey Date'] = statsDfs[year]['Survey Date'].apply(lambda x: datetime.strptime(x.strftime(\"%m-%d\"), \"%m-%d\"))"
   ]
  },
  {
   "cell_type": "markdown",
   "metadata": {},
   "source": [
    "<a id='SurveyStatsTable'></a>"
   ]
  },
  {
   "cell_type": "code",
   "execution_count": null,
   "metadata": {},
   "outputs": [],
   "source": [
    "def displaySurveyStatsTable(statsDf):\n",
    "    display(ip.HTML(statsDf[['Survey Date', 'Total', 'Total Live Salmon', 'Total Dead', 'Live Chum', 'Live Coho', 'Dead Chum', 'Dead Coho', 'Remnant', 'Cutthroat']].to_html()))\n",
    "\n",
    "def printYearlyTotals(statsDf):\n",
    "    max = (statsDf['Dead to Date']+statsDf['Total Live Salmon']).max()\n",
    "    idxmax = (statsDf['Dead to Date']+statsDf['Total Live Salmon']).idxmax()\n",
    "    print('Yearly salmon total is:', int(max))\n",
    "    print('Yearly total of Chum is:', int((statsDf['Dead Chum to Date']+statsDf['Live Chum']).max()))\n",
    "    print('Yearly total of Coho is:', int((statsDf['Dead Coho to Date']+statsDf['Live Coho']).max()))\n",
    "    print('Calculated based on date:', statsDf.iloc[idxmax]['Survey Date'])\n",
    "    print('Based on total dead count:', int(statsDf.iloc[idxmax]['Dead to Date']), '|', 'plus total live count:', int(statsDf.iloc[idxmax]['Total Live Salmon']))\n",
    "    \n",
    "displaySurveyStatsTable(statsDf)\n",
    "printYearlyTotals(statsDf)"
   ]
  },
  {
   "cell_type": "markdown",
   "metadata": {},
   "source": [
    "<a id='CountPlot'></a>"
   ]
  },
  {
   "cell_type": "code",
   "execution_count": null,
   "metadata": {},
   "outputs": [],
   "source": [
    "def displayCountPlot(statsDf):    \n",
    "    plot = statsDf.plot(ylabel = 'Count', title = mostRecentSurvey + ' Fish Count', rot=45, y=['Total', 'Total Dead', 'Live Chum', 'Dead Chum', 'Live Coho', 'Dead Coho'], x='Survey Date')\n",
    "displayCountPlot(statsDf)"
   ]
  },
  {
   "cell_type": "markdown",
   "metadata": {},
   "source": [
    "<a id='ScatterMap'></a>"
   ]
  },
  {
   "cell_type": "code",
   "execution_count": null,
   "metadata": {},
   "outputs": [],
   "source": [
    "def displayScatterMap(salmonDf):    \n",
    "    fig = px.scatter_mapbox(salmonDf, lat='Location.latitude', lon='Location.longitude', color='Type', labels={'Type':'Type'}, color_discrete_sequence=['blue', 'green', 'black'],\n",
    "                        center=dict(lat=47.71157, lon=-122.3759), zoom=15, hover_name = 'title', hover_data = ['Location.accuracy'],\n",
    "                        mapbox_style='stamen-terrain', title=mostRecentSurvey + ' Fish Heat Map')\n",
    "    fig.layout.coloraxis.showscale = False\n",
    "    fig.show()\n",
    "displayScatterMap(salmonDf)"
   ]
  },
  {
   "cell_type": "markdown",
   "metadata": {},
   "source": [
    "<a id='SpawnedChart'></a>"
   ]
  },
  {
   "cell_type": "code",
   "execution_count": null,
   "metadata": {},
   "outputs": [],
   "source": [
    "def displaySpawnedChart(salmonDf):\n",
    "    pie, ax1 = plt.subplots()\n",
    "    deadChumDf = filterSalmonDf(salmonDf, ('Species', 'Chum'), ('Type', 'Dead'))\n",
    "    totalDeadChum = deadChumDf.shape[0]\n",
    "    totalSpawnedChum = filterSalmonDf(deadChumDf, ('Spawning_Success', 'Spawned')).shape[0]\n",
    "    totalPartialSpawnedChum = filterSalmonDf(deadChumDf, ('Spawning_Success', 'Partially spawned')).shape[0]\n",
    "    totalUnspawnedChum = filterSalmonDf(deadChumDf, ('Spawning_Success', 'Unspawned')).shape[0]\n",
    "    totalUnknownSpawnedChum = filterSalmonDf(deadChumDf, ('Spawning_Success', 'Unknown')).shape[0]\n",
    "    spawnPercentages = [totalSpawnedChum/totalDeadChum*100, totalPartialSpawnedChum/totalDeadChum*100, totalUnspawnedChum/totalDeadChum*100, totalUnknownSpawnedChum/totalDeadChum*100]\n",
    "    ax1.pie(spawnPercentages, labels=['Spawned', 'Partially Spawned', 'Unspawned', 'Unknown'], autopct='%1.1f%%')\n",
    "    plt.title(mostRecentSurvey + ' Chum Spawn Percentage')\n",
    "    plt.show()\n",
    "displaySpawnedChart(salmonDf)"
   ]
  },
  {
   "cell_type": "markdown",
   "metadata": {},
   "source": [
    "<a id='YearByYearCount'></a>"
   ]
  },
  {
   "cell_type": "code",
   "execution_count": null,
   "metadata": {},
   "outputs": [],
   "source": [
    "def displayYearByYearCount(surveyURIs, salmonURIs):\n",
    "\n",
    "#plot each series\n",
    "    fig, ax = plt.subplots()\n",
    "    plt.plot('Survey Date', 'Total', data=statsDfs['2019'], label=\"2019\")\n",
    "    plt.plot('Survey Date', 'Total', data=statsDfs['2020'], label=\"2020\")\n",
    "    plt.plot('Survey Date', 'Total', data=statsDfs['2021'], label=\"2021\")\n",
    "    plt.title('Count by time of year')\n",
    "    plt.ylabel('Count')\n",
    "    plt.xlabel('Survey Date')\n",
    "    plt.xticks(rotation = 45)\n",
    "    plt.legend()\n",
    "    ax.xaxis.set_major_formatter(mdates.DateFormatter('%m-%d'))\n",
    "\n",
    "displayYearByYearCount(surveyURIs, salmonURIs)"
   ]
  },
  {
   "cell_type": "code",
   "execution_count": null,
   "metadata": {},
   "outputs": [],
   "source": []
  }
 ],
 "metadata": {
  "kernelspec": {
   "display_name": "Python 3 (ipykernel)",
   "language": "python",
   "name": "python3"
  },
  "language_info": {
   "codemirror_mode": {
    "name": "ipython",
    "version": 3
   },
   "file_extension": ".py",
   "mimetype": "text/x-python",
   "name": "python",
   "nbconvert_exporter": "python",
   "pygments_lexer": "ipython3",
   "version": "3.9.5"
  }
 },
 "nbformat": 4,
 "nbformat_minor": 4
}
