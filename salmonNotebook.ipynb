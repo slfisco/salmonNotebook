{
 "cells": [
  {
   "cell_type": "code",
   "execution_count": 10,
   "metadata": {
    "scrolled": true
   },
   "outputs": [
    {
     "name": "stdout",
     "output_type": "stream",
     "text": [
      "    Survey Date      Total    Total Live    Total Dead    Live Chum    Live Coho    Dead Chum    Dead Coho    Remnant\n",
      "--  -------------  -------  ------------  ------------  -----------  -----------  -----------  -----------  ---------\n",
      " 0  2020-10-15           2             1             1            0            0            0            1          0\n",
      " 1  2020-10-28           5             2             3            2            0            3            0          0\n",
      " 2  2020-10-29           4             4             0            4            0            0            0          0\n",
      " 3  2020-10-31          13            11             2            8            0            1            1          0\n",
      " 4  2020-11-04          36            31             5           28            0            2            3          0\n",
      " 5  2020-11-07          46            41             2           39            0            2            0          3\n",
      " 6  2020-11-11          63            42            18           40            1           17            1          3\n"
     ]
    },
    {
     "data": {
      "application/vnd.plotly.v1+json": {
       "config": {
        "plotlyServerURL": "https://plot.ly"
       },
       "data": [
        {
         "coloraxis": "coloraxis",
         "customdata": [
          [
           10
          ],
          [
           7
          ],
          [
           9
          ],
          [
           20
          ],
          [
           ""
          ],
          [
           9
          ],
          [
           8
          ],
          [
           17
          ],
          [
           6
          ],
          [
           6
          ],
          [
           4
          ],
          [
           7
          ],
          [
           9
          ],
          [
           5
          ],
          [
           19
          ],
          [
           9
          ],
          [
           5
          ],
          [
           6
          ],
          [
           4
          ],
          [
           4
          ],
          [
           6
          ],
          [
           7
          ],
          [
           12
          ],
          [
           5
          ],
          [
           ""
          ],
          [
           5
          ],
          [
           8
          ],
          [
           5
          ],
          [
           6
          ],
          [
           5
          ],
          [
           5
          ],
          [
           ""
          ],
          [
           6
          ],
          [
           8
          ],
          [
           12
          ],
          [
           5
          ],
          [
           8
          ],
          [
           5
          ],
          [
           4
          ],
          [
           7
          ],
          [
           5
          ],
          [
           11
          ],
          [
           8
          ],
          [
           11
          ],
          [
           4
          ],
          [
           5
          ],
          [
           5
          ],
          [
           8
          ],
          [
           6
          ],
          [
           6
          ],
          [
           4
          ],
          [
           4
          ],
          [
           4
          ],
          [
           6
          ],
          [
           5
          ],
          [
           5
          ],
          [
           4
          ],
          [
           4
          ],
          [
           8
          ],
          [
           4
          ],
          [
           6
          ],
          [
           4
          ],
          [
           13
          ],
          [
           10
          ],
          [
           14
          ],
          [
           5
          ],
          [
           ""
          ],
          [
           6
          ],
          [
           10
          ],
          [
           5
          ],
          [
           ""
          ],
          [
           ""
          ],
          [
           ""
          ],
          [
           5
          ],
          [
           ""
          ],
          [
           ""
          ],
          [
           ""
          ],
          [
           ""
          ],
          [
           ""
          ],
          [
           10
          ],
          [
           ""
          ],
          [
           ""
          ],
          [
           ""
          ],
          [
           ""
          ],
          [
           ""
          ],
          [
           ""
          ],
          [
           ""
          ],
          [
           5
          ],
          [
           ""
          ],
          [
           ""
          ],
          [
           ""
          ],
          [
           ""
          ],
          [
           ""
          ],
          [
           ""
          ],
          [
           5
          ],
          [
           5
          ],
          [
           ""
          ],
          [
           10
          ],
          [
           ""
          ],
          [
           ""
          ],
          [
           ""
          ],
          [
           ""
          ],
          [
           ""
          ],
          [
           10
          ],
          [
           5
          ],
          [
           ""
          ],
          [
           5
          ],
          [
           ""
          ],
          [
           5731
          ],
          [
           ""
          ],
          [
           ""
          ],
          [
           ""
          ],
          [
           4
          ],
          [
           5
          ],
          [
           5
          ],
          [
           11
          ],
          [
           8
          ],
          [
           5
          ],
          [
           4
          ],
          [
           6
          ],
          [
           9
          ],
          [
           4
          ],
          [
           9
          ],
          [
           5
          ],
          [
           7
          ],
          [
           10
          ],
          [
           8
          ],
          [
           27
          ],
          [
           ""
          ],
          [
           8
          ],
          [
           6
          ],
          [
           6
          ],
          [
           6
          ],
          [
           5
          ],
          [
           11
          ],
          [
           4
          ],
          [
           14
          ],
          [
           4
          ],
          [
           4
          ],
          [
           5
          ],
          [
           ""
          ],
          [
           4
          ],
          [
           5
          ],
          [
           4
          ],
          [
           4
          ],
          [
           14
          ],
          [
           9
          ],
          [
           4
          ],
          [
           8
          ],
          [
           6
          ],
          [
           5
          ],
          [
           4
          ],
          [
           9
          ],
          [
           4
          ],
          [
           3
          ],
          [
           5
          ],
          [
           4
          ],
          [
           4
          ],
          [
           6
          ],
          [
           5
          ],
          [
           4
          ],
          [
           8
          ],
          [
           4
          ],
          [
           8
          ],
          [
           5
          ],
          [
           5
          ],
          [
           5
          ],
          [
           5
          ],
          [
           9
          ]
         ],
         "hovertemplate": "<b>%{hovertext}</b><br><br>15_Location.latitude=%{lat}<br>15_Location.longitude=%{lon}<br>15_Location.accuracy=%{customdata[0]}<extra></extra>",
         "hovertext": [
          "1150 Chum Live",
          "880 Chum Live",
          "745 Chum Dead",
          "625 Chum Live",
          "410 Chum Live",
          "410 Chum Live",
          "410 Chum Live",
          "410 Chum Live",
          "410 Chum Live",
          "410 Chum Live",
          "410 Chum Live",
          "390 Chum Dead",
          "390 Chum Dead",
          "380 Chum Dead",
          "380 Chum Live",
          "380 Chum Live",
          "370 Chum Dead",
          "350 Chum Live",
          "350 Chum Live",
          "350 Chum Live",
          "325 Chum Live",
          "325 Chum Live",
          "325 Chum Live",
          "290 Chum Live",
          "290 Chum Live",
          "280 Coho Dead",
          "280 Chum Live",
          "280 Chum Live",
          "260 Chum Live",
          "260 Chum Live",
          "260 Chum Live",
          "250 Live",
          "250 Chum Live",
          "250 Chum Live",
          "130 Chum Remnant",
          "130 Chum Dead",
          "102 Chum Dead",
          "105 Coho Live",
          "90 Chum Live",
          "80 Chum Live",
          "80 Chum Live",
          "68 Chum Dead",
          "68 Chum Dead",
          "67 Chum Dead",
          "67 Chum Remnant",
          "67 Chum Dead",
          "65 Chum Dead",
          "62 Chum Remnant",
          "60 Chum Live",
          "60 Chum Live",
          "40 Chum Live",
          "10 Chum Dead",
          "0 Chum Live",
          "0 Chum Live",
          "0 Chum Live",
          "0 Chum Live",
          "0 Chum Live",
          "0 Chum Live",
          "0 Chum Live",
          "0 Chum Dead",
          "0 Chum Dead",
          "0 Chum Dead",
          "0 Chum Dead",
          "1600 Cutthroat Live",
          "1010 Chum Dead",
          "975 Cutthroat Live",
          "1550 Coho Remnant",
          "575 Chum Live",
          "575 Chum Live",
          "575 Chum Live",
          "1020 Chum Remnant",
          "1020 Chum Remnant",
          "410 Chum Live",
          "375 Chum Live",
          "350 Chum Live",
          "350 Chum Live",
          "350 Chum Live",
          "350 Chum Live",
          "350 Chum Live",
          "350 Chum Live",
          "320 Chum Live",
          "320 Chum Live",
          "320 Chum Live",
          "320 Chum Live",
          "320 Chum Live",
          "320 Chum Live",
          "320 Chum Live",
          "320 Chum Live",
          "320 Chum Live",
          "300 Chum Live",
          "300 Chum Live",
          "300 Chum Live",
          "300 Chum Live",
          "300 Chum Live",
          "300 Chum Live",
          "260 Chum Live",
          "100 Chum Dead",
          "180 Chum Live",
          "180 Chum Live",
          "180 Chum Live",
          "180 Chum Live",
          "180 Chum Live",
          "180 Chum Live",
          "180 Chum Live",
          "100 Chum Live",
          "50 Chum Live",
          "50 Chum Live",
          "50 Chum Live",
          "40 Chum Live",
          "1460 Coho Dead",
          "975 Chum Live",
          "880 Chum Live",
          "1940 Cutthroat Live",
          "1675 Coho Dead",
          "1675 Coho Dead",
          "795 Chum Live",
          "775 Cutthroat Live",
          "765 Chum Live",
          "765 Chum Live",
          "540 Chum Live",
          "540 Chum Live",
          "400 Cutthroat Live",
          "395 Chum Live",
          "395 Chum Live",
          "380 Chum Live",
          "380 Chum Live",
          "375 Chum Live",
          "370 Chum Live",
          "315 Chum Live",
          "315 Chum Live",
          "290 Chum Live",
          "250 Chum Live",
          "100 Chum Live",
          "85 Chum Live",
          "62 Chum Live",
          "62 Chum Live",
          "42 Chum Live",
          "12 Chum Live",
          "12 Chum Live",
          "0 Chum Live",
          "0 Chum Live",
          "0 Chum Live",
          "0 Chum Live",
          "0 Chum Dead",
          "0 Chum Dead",
          "1465 Cutthroat Live",
          "1380 Cutthroat Live",
          "705 Cutthroat Live",
          "195 Chum Live",
          "195 Chum Live",
          "80 Chum Dead",
          "50 Chum Live",
          "45 Chum Live",
          "45 Chum Live",
          "45 Chum Live",
          "0 Chum Live",
          "0 Chum Live",
          "0 Coho Dead",
          "1375 Chum Live",
          "0 Chum Live",
          "0 Chum Live",
          "0 Chum Live",
          "0 Chum Live",
          "0 Chum Live",
          "103 Chum Dead",
          "65 Chum Dead",
          "55 Chum Dead",
          "1100 Unknown Live",
          "675 Coho Dead"
         ],
         "lat": [
          47.711424,
          47.711373,
          47.711429,
          47.711126,
          "",
          47.711662,
          47.711618,
          47.711686,
          47.711639,
          47.711658,
          47.711661,
          47.711671,
          47.711654,
          47.711672,
          47.711698,
          47.711628,
          47.711606,
          47.7116,
          47.711615,
          47.711617,
          47.711637,
          47.711629,
          47.711773,
          47.711699,
          "",
          47.711763,
          47.711774,
          47.711744,
          47.711713,
          47.711753,
          47.711739,
          "",
          47.711781,
          47.711714,
          47.711801,
          47.71185,
          47.712065,
          47.711842,
          47.71186,
          47.71185,
          47.711845,
          47.711773,
          47.711827,
          47.711807,
          47.711826,
          47.711848,
          47.711866,
          47.711894,
          47.711856,
          47.711893,
          47.711899,
          47.711862,
          47.71185,
          47.711872,
          47.711902,
          47.711829,
          47.711889,
          47.711894,
          47.711897,
          47.711759,
          47.710977,
          47.711154,
          47.711573,
          47.711382,
          47.711849,
          47.711311,
          "",
          47.711516,
          47.711699,
          47.711706,
          "",
          "",
          "",
          47.711675,
          "",
          "",
          "",
          "",
          "",
          47.711717,
          "",
          "",
          "",
          "",
          "",
          "",
          "",
          47.711694,
          "",
          "",
          "",
          "",
          "",
          "",
          47.711623,
          47.711642,
          "",
          47.711801,
          "",
          "",
          "",
          "",
          "",
          47.711816,
          47.711838,
          "",
          47.711827,
          "",
          47.758856,
          "",
          "",
          "",
          47.710893,
          47.71106,
          47.711076,
          47.711321,
          47.711484,
          47.711404,
          47.711404,
          47.711609,
          47.711536,
          47.711654,
          47.711751,
          47.71175,
          47.711603,
          47.711539,
          47.71153,
          47.711463,
          "",
          47.711744,
          47.711747,
          47.711787,
          47.711755,
          47.711811,
          47.711762,
          47.711802,
          47.711802,
          47.711886,
          47.71182,
          47.711813,
          "",
          47.711777,
          47.711788,
          47.711432,
          47.711734,
          47.711166,
          47.711494,
          47.711524,
          47.711791,
          47.711781,
          47.711861,
          47.71184,
          47.7119,
          47.711897,
          47.711891,
          47.711866,
          47.711868,
          47.711493,
          47.711192,
          47.711854,
          47.711849,
          47.711771,
          47.711835,
          47.711817,
          47.711844,
          47.711777,
          47.711788,
          47.711432,
          47.711594
         ],
         "lon": [
          -122.374952,
          -122.376155,
          -122.376342,
          -122.377003,
          "",
          -122.377802,
          -122.377738,
          -122.37751,
          -122.377793,
          -122.377798,
          -122.377794,
          -122.377956,
          -122.377882,
          -122.377873,
          -122.377927,
          -122.377935,
          -122.37801,
          -122.37801,
          -122.378027,
          -122.378027,
          -122.378168,
          -122.378122,
          -122.378063,
          -122.378288,
          "",
          -122.378268,
          -122.378231,
          -122.37833,
          -122.37828,
          -122.37819,
          -122.378199,
          "",
          -122.378233,
          -122.378321,
          -122.378947,
          -122.37902,
          -122.378978,
          -122.379125,
          -122.379089,
          -122.379105,
          -122.379024,
          -122.378839,
          -122.379139,
          -122.379153,
          -122.379155,
          -122.379058,
          -122.379133,
          -122.37922,
          -122.379131,
          -122.379164,
          -122.379367,
          -122.379375,
          -122.379451,
          -122.379461,
          -122.379501,
          -122.379462,
          -122.379423,
          -122.379434,
          -122.379464,
          -122.379865,
          -122.38082,
          -122.3806,
          -122.380097,
          -122.372915,
          -122.37637,
          -122.375618,
          "",
          -122.377212,
          -122.377191,
          -122.377199,
          "",
          "",
          "",
          -122.377826,
          "",
          "",
          "",
          "",
          "",
          -122.377886,
          "",
          "",
          "",
          "",
          "",
          "",
          "",
          -122.378187,
          "",
          "",
          "",
          "",
          "",
          "",
          -122.378225,
          -122.378376,
          "",
          -122.378648,
          "",
          "",
          "",
          "",
          "",
          -122.378688,
          -122.379079,
          "",
          -122.379241,
          "",
          -122.390006,
          "",
          "",
          "",
          -122.371806,
          -122.372837,
          -122.372833,
          -122.376332,
          -122.376314,
          -122.376327,
          -122.376326,
          -122.377418,
          -122.377358,
          -122.377827,
          -122.37788,
          -122.377894,
          -122.37792,
          -122.377945,
          -122.377938,
          -122.377936,
          "",
          -122.378151,
          -122.378099,
          -122.378334,
          -122.379058,
          -122.379075,
          -122.379163,
          -122.379187,
          -122.379333,
          -122.379367,
          -122.379368,
          -122.379461,
          "",
          -122.379482,
          -122.379511,
          -122.380071,
          -122.380114,
          -122.373588,
          -122.373945,
          -122.376548,
          -122.378644,
          -122.37863,
          -122.379128,
          -122.379255,
          -122.379324,
          -122.379278,
          -122.379302,
          -122.379434,
          -122.37941,
          -122.38019,
          -122.373986,
          -122.379418,
          -122.379416,
          -122.379434,
          -122.379379,
          -122.379313,
          -122.379055,
          -122.37928,
          -122.37927,
          -122.375119,
          -122.376806
         ],
         "name": "",
         "radius": 15,
         "subplot": "mapbox",
         "type": "densitymapbox"
        }
       ],
       "layout": {
        "coloraxis": {
         "colorscale": [
          [
           0,
           "#0d0887"
          ],
          [
           0.1111111111111111,
           "#46039f"
          ],
          [
           0.2222222222222222,
           "#7201a8"
          ],
          [
           0.3333333333333333,
           "#9c179e"
          ],
          [
           0.4444444444444444,
           "#bd3786"
          ],
          [
           0.5555555555555556,
           "#d8576b"
          ],
          [
           0.6666666666666666,
           "#ed7953"
          ],
          [
           0.7777777777777778,
           "#fb9f3a"
          ],
          [
           0.8888888888888888,
           "#fdca26"
          ],
          [
           1,
           "#f0f921"
          ]
         ],
         "showscale": false
        },
        "legend": {
         "tracegroupgap": 0
        },
        "mapbox": {
         "center": {
          "lat": 47.71157,
          "lon": -122.3759
         },
         "domain": {
          "x": [
           0,
           1
          ],
          "y": [
           0,
           1
          ]
         },
         "style": "stamen-terrain",
         "zoom": 15
        },
        "template": {
         "data": {
          "bar": [
           {
            "error_x": {
             "color": "#2a3f5f"
            },
            "error_y": {
             "color": "#2a3f5f"
            },
            "marker": {
             "line": {
              "color": "#E5ECF6",
              "width": 0.5
             }
            },
            "type": "bar"
           }
          ],
          "barpolar": [
           {
            "marker": {
             "line": {
              "color": "#E5ECF6",
              "width": 0.5
             }
            },
            "type": "barpolar"
           }
          ],
          "carpet": [
           {
            "aaxis": {
             "endlinecolor": "#2a3f5f",
             "gridcolor": "white",
             "linecolor": "white",
             "minorgridcolor": "white",
             "startlinecolor": "#2a3f5f"
            },
            "baxis": {
             "endlinecolor": "#2a3f5f",
             "gridcolor": "white",
             "linecolor": "white",
             "minorgridcolor": "white",
             "startlinecolor": "#2a3f5f"
            },
            "type": "carpet"
           }
          ],
          "choropleth": [
           {
            "colorbar": {
             "outlinewidth": 0,
             "ticks": ""
            },
            "type": "choropleth"
           }
          ],
          "contour": [
           {
            "colorbar": {
             "outlinewidth": 0,
             "ticks": ""
            },
            "colorscale": [
             [
              0,
              "#0d0887"
             ],
             [
              0.1111111111111111,
              "#46039f"
             ],
             [
              0.2222222222222222,
              "#7201a8"
             ],
             [
              0.3333333333333333,
              "#9c179e"
             ],
             [
              0.4444444444444444,
              "#bd3786"
             ],
             [
              0.5555555555555556,
              "#d8576b"
             ],
             [
              0.6666666666666666,
              "#ed7953"
             ],
             [
              0.7777777777777778,
              "#fb9f3a"
             ],
             [
              0.8888888888888888,
              "#fdca26"
             ],
             [
              1,
              "#f0f921"
             ]
            ],
            "type": "contour"
           }
          ],
          "contourcarpet": [
           {
            "colorbar": {
             "outlinewidth": 0,
             "ticks": ""
            },
            "type": "contourcarpet"
           }
          ],
          "heatmap": [
           {
            "colorbar": {
             "outlinewidth": 0,
             "ticks": ""
            },
            "colorscale": [
             [
              0,
              "#0d0887"
             ],
             [
              0.1111111111111111,
              "#46039f"
             ],
             [
              0.2222222222222222,
              "#7201a8"
             ],
             [
              0.3333333333333333,
              "#9c179e"
             ],
             [
              0.4444444444444444,
              "#bd3786"
             ],
             [
              0.5555555555555556,
              "#d8576b"
             ],
             [
              0.6666666666666666,
              "#ed7953"
             ],
             [
              0.7777777777777778,
              "#fb9f3a"
             ],
             [
              0.8888888888888888,
              "#fdca26"
             ],
             [
              1,
              "#f0f921"
             ]
            ],
            "type": "heatmap"
           }
          ],
          "heatmapgl": [
           {
            "colorbar": {
             "outlinewidth": 0,
             "ticks": ""
            },
            "colorscale": [
             [
              0,
              "#0d0887"
             ],
             [
              0.1111111111111111,
              "#46039f"
             ],
             [
              0.2222222222222222,
              "#7201a8"
             ],
             [
              0.3333333333333333,
              "#9c179e"
             ],
             [
              0.4444444444444444,
              "#bd3786"
             ],
             [
              0.5555555555555556,
              "#d8576b"
             ],
             [
              0.6666666666666666,
              "#ed7953"
             ],
             [
              0.7777777777777778,
              "#fb9f3a"
             ],
             [
              0.8888888888888888,
              "#fdca26"
             ],
             [
              1,
              "#f0f921"
             ]
            ],
            "type": "heatmapgl"
           }
          ],
          "histogram": [
           {
            "marker": {
             "colorbar": {
              "outlinewidth": 0,
              "ticks": ""
             }
            },
            "type": "histogram"
           }
          ],
          "histogram2d": [
           {
            "colorbar": {
             "outlinewidth": 0,
             "ticks": ""
            },
            "colorscale": [
             [
              0,
              "#0d0887"
             ],
             [
              0.1111111111111111,
              "#46039f"
             ],
             [
              0.2222222222222222,
              "#7201a8"
             ],
             [
              0.3333333333333333,
              "#9c179e"
             ],
             [
              0.4444444444444444,
              "#bd3786"
             ],
             [
              0.5555555555555556,
              "#d8576b"
             ],
             [
              0.6666666666666666,
              "#ed7953"
             ],
             [
              0.7777777777777778,
              "#fb9f3a"
             ],
             [
              0.8888888888888888,
              "#fdca26"
             ],
             [
              1,
              "#f0f921"
             ]
            ],
            "type": "histogram2d"
           }
          ],
          "histogram2dcontour": [
           {
            "colorbar": {
             "outlinewidth": 0,
             "ticks": ""
            },
            "colorscale": [
             [
              0,
              "#0d0887"
             ],
             [
              0.1111111111111111,
              "#46039f"
             ],
             [
              0.2222222222222222,
              "#7201a8"
             ],
             [
              0.3333333333333333,
              "#9c179e"
             ],
             [
              0.4444444444444444,
              "#bd3786"
             ],
             [
              0.5555555555555556,
              "#d8576b"
             ],
             [
              0.6666666666666666,
              "#ed7953"
             ],
             [
              0.7777777777777778,
              "#fb9f3a"
             ],
             [
              0.8888888888888888,
              "#fdca26"
             ],
             [
              1,
              "#f0f921"
             ]
            ],
            "type": "histogram2dcontour"
           }
          ],
          "mesh3d": [
           {
            "colorbar": {
             "outlinewidth": 0,
             "ticks": ""
            },
            "type": "mesh3d"
           }
          ],
          "parcoords": [
           {
            "line": {
             "colorbar": {
              "outlinewidth": 0,
              "ticks": ""
             }
            },
            "type": "parcoords"
           }
          ],
          "pie": [
           {
            "automargin": true,
            "type": "pie"
           }
          ],
          "scatter": [
           {
            "marker": {
             "colorbar": {
              "outlinewidth": 0,
              "ticks": ""
             }
            },
            "type": "scatter"
           }
          ],
          "scatter3d": [
           {
            "line": {
             "colorbar": {
              "outlinewidth": 0,
              "ticks": ""
             }
            },
            "marker": {
             "colorbar": {
              "outlinewidth": 0,
              "ticks": ""
             }
            },
            "type": "scatter3d"
           }
          ],
          "scattercarpet": [
           {
            "marker": {
             "colorbar": {
              "outlinewidth": 0,
              "ticks": ""
             }
            },
            "type": "scattercarpet"
           }
          ],
          "scattergeo": [
           {
            "marker": {
             "colorbar": {
              "outlinewidth": 0,
              "ticks": ""
             }
            },
            "type": "scattergeo"
           }
          ],
          "scattergl": [
           {
            "marker": {
             "colorbar": {
              "outlinewidth": 0,
              "ticks": ""
             }
            },
            "type": "scattergl"
           }
          ],
          "scattermapbox": [
           {
            "marker": {
             "colorbar": {
              "outlinewidth": 0,
              "ticks": ""
             }
            },
            "type": "scattermapbox"
           }
          ],
          "scatterpolar": [
           {
            "marker": {
             "colorbar": {
              "outlinewidth": 0,
              "ticks": ""
             }
            },
            "type": "scatterpolar"
           }
          ],
          "scatterpolargl": [
           {
            "marker": {
             "colorbar": {
              "outlinewidth": 0,
              "ticks": ""
             }
            },
            "type": "scatterpolargl"
           }
          ],
          "scatterternary": [
           {
            "marker": {
             "colorbar": {
              "outlinewidth": 0,
              "ticks": ""
             }
            },
            "type": "scatterternary"
           }
          ],
          "surface": [
           {
            "colorbar": {
             "outlinewidth": 0,
             "ticks": ""
            },
            "colorscale": [
             [
              0,
              "#0d0887"
             ],
             [
              0.1111111111111111,
              "#46039f"
             ],
             [
              0.2222222222222222,
              "#7201a8"
             ],
             [
              0.3333333333333333,
              "#9c179e"
             ],
             [
              0.4444444444444444,
              "#bd3786"
             ],
             [
              0.5555555555555556,
              "#d8576b"
             ],
             [
              0.6666666666666666,
              "#ed7953"
             ],
             [
              0.7777777777777778,
              "#fb9f3a"
             ],
             [
              0.8888888888888888,
              "#fdca26"
             ],
             [
              1,
              "#f0f921"
             ]
            ],
            "type": "surface"
           }
          ],
          "table": [
           {
            "cells": {
             "fill": {
              "color": "#EBF0F8"
             },
             "line": {
              "color": "white"
             }
            },
            "header": {
             "fill": {
              "color": "#C8D4E3"
             },
             "line": {
              "color": "white"
             }
            },
            "type": "table"
           }
          ]
         },
         "layout": {
          "annotationdefaults": {
           "arrowcolor": "#2a3f5f",
           "arrowhead": 0,
           "arrowwidth": 1
          },
          "coloraxis": {
           "colorbar": {
            "outlinewidth": 0,
            "ticks": ""
           }
          },
          "colorscale": {
           "diverging": [
            [
             0,
             "#8e0152"
            ],
            [
             0.1,
             "#c51b7d"
            ],
            [
             0.2,
             "#de77ae"
            ],
            [
             0.3,
             "#f1b6da"
            ],
            [
             0.4,
             "#fde0ef"
            ],
            [
             0.5,
             "#f7f7f7"
            ],
            [
             0.6,
             "#e6f5d0"
            ],
            [
             0.7,
             "#b8e186"
            ],
            [
             0.8,
             "#7fbc41"
            ],
            [
             0.9,
             "#4d9221"
            ],
            [
             1,
             "#276419"
            ]
           ],
           "sequential": [
            [
             0,
             "#0d0887"
            ],
            [
             0.1111111111111111,
             "#46039f"
            ],
            [
             0.2222222222222222,
             "#7201a8"
            ],
            [
             0.3333333333333333,
             "#9c179e"
            ],
            [
             0.4444444444444444,
             "#bd3786"
            ],
            [
             0.5555555555555556,
             "#d8576b"
            ],
            [
             0.6666666666666666,
             "#ed7953"
            ],
            [
             0.7777777777777778,
             "#fb9f3a"
            ],
            [
             0.8888888888888888,
             "#fdca26"
            ],
            [
             1,
             "#f0f921"
            ]
           ],
           "sequentialminus": [
            [
             0,
             "#0d0887"
            ],
            [
             0.1111111111111111,
             "#46039f"
            ],
            [
             0.2222222222222222,
             "#7201a8"
            ],
            [
             0.3333333333333333,
             "#9c179e"
            ],
            [
             0.4444444444444444,
             "#bd3786"
            ],
            [
             0.5555555555555556,
             "#d8576b"
            ],
            [
             0.6666666666666666,
             "#ed7953"
            ],
            [
             0.7777777777777778,
             "#fb9f3a"
            ],
            [
             0.8888888888888888,
             "#fdca26"
            ],
            [
             1,
             "#f0f921"
            ]
           ]
          },
          "colorway": [
           "#636efa",
           "#EF553B",
           "#00cc96",
           "#ab63fa",
           "#FFA15A",
           "#19d3f3",
           "#FF6692",
           "#B6E880",
           "#FF97FF",
           "#FECB52"
          ],
          "font": {
           "color": "#2a3f5f"
          },
          "geo": {
           "bgcolor": "white",
           "lakecolor": "white",
           "landcolor": "#E5ECF6",
           "showlakes": true,
           "showland": true,
           "subunitcolor": "white"
          },
          "hoverlabel": {
           "align": "left"
          },
          "hovermode": "closest",
          "mapbox": {
           "style": "light"
          },
          "paper_bgcolor": "white",
          "plot_bgcolor": "#E5ECF6",
          "polar": {
           "angularaxis": {
            "gridcolor": "white",
            "linecolor": "white",
            "ticks": ""
           },
           "bgcolor": "#E5ECF6",
           "radialaxis": {
            "gridcolor": "white",
            "linecolor": "white",
            "ticks": ""
           }
          },
          "scene": {
           "xaxis": {
            "backgroundcolor": "#E5ECF6",
            "gridcolor": "white",
            "gridwidth": 2,
            "linecolor": "white",
            "showbackground": true,
            "ticks": "",
            "zerolinecolor": "white"
           },
           "yaxis": {
            "backgroundcolor": "#E5ECF6",
            "gridcolor": "white",
            "gridwidth": 2,
            "linecolor": "white",
            "showbackground": true,
            "ticks": "",
            "zerolinecolor": "white"
           },
           "zaxis": {
            "backgroundcolor": "#E5ECF6",
            "gridcolor": "white",
            "gridwidth": 2,
            "linecolor": "white",
            "showbackground": true,
            "ticks": "",
            "zerolinecolor": "white"
           }
          },
          "shapedefaults": {
           "line": {
            "color": "#2a3f5f"
           }
          },
          "ternary": {
           "aaxis": {
            "gridcolor": "white",
            "linecolor": "white",
            "ticks": ""
           },
           "baxis": {
            "gridcolor": "white",
            "linecolor": "white",
            "ticks": ""
           },
           "bgcolor": "#E5ECF6",
           "caxis": {
            "gridcolor": "white",
            "linecolor": "white",
            "ticks": ""
           }
          },
          "title": {
           "x": 0.05
          },
          "xaxis": {
           "automargin": true,
           "gridcolor": "white",
           "linecolor": "white",
           "ticks": "",
           "title": {
            "standoff": 15
           },
           "zerolinecolor": "white",
           "zerolinewidth": 2
          },
          "yaxis": {
           "automargin": true,
           "gridcolor": "white",
           "linecolor": "white",
           "ticks": "",
           "title": {
            "standoff": 15
           },
           "zerolinecolor": "white",
           "zerolinewidth": 2
          }
         }
        },
        "title": {
         "text": "Fish Heat Map"
        }
       }
      },
      "text/html": [
       "<div>                            <div id=\"6cfe1921-f39c-4f4a-86fd-7be0b4dd4c80\" class=\"plotly-graph-div\" style=\"height:525px; width:100%;\"></div>            <script type=\"text/javascript\">                require([\"plotly\"], function(Plotly) {                    window.PLOTLYENV=window.PLOTLYENV || {};                                    if (document.getElementById(\"6cfe1921-f39c-4f4a-86fd-7be0b4dd4c80\")) {                    Plotly.newPlot(                        \"6cfe1921-f39c-4f4a-86fd-7be0b4dd4c80\",                        [{\"coloraxis\": \"coloraxis\", \"customdata\": [[10], [7], [9], [20], [\"\"], [9], [8], [17], [6], [6], [4], [7], [9], [5], [19], [9], [5], [6], [4], [4], [6], [7], [12], [5], [\"\"], [5], [8], [5], [6], [5], [5], [\"\"], [6], [8], [12], [5], [8], [5], [4], [7], [5], [11], [8], [11], [4], [5], [5], [8], [6], [6], [4], [4], [4], [6], [5], [5], [4], [4], [8], [4], [6], [4], [13], [10], [14], [5], [\"\"], [6], [10], [5], [\"\"], [\"\"], [\"\"], [5], [\"\"], [\"\"], [\"\"], [\"\"], [\"\"], [10], [\"\"], [\"\"], [\"\"], [\"\"], [\"\"], [\"\"], [\"\"], [5], [\"\"], [\"\"], [\"\"], [\"\"], [\"\"], [\"\"], [5], [5], [\"\"], [10], [\"\"], [\"\"], [\"\"], [\"\"], [\"\"], [10], [5], [\"\"], [5], [\"\"], [5731], [\"\"], [\"\"], [\"\"], [4], [5], [5], [11], [8], [5], [4], [6], [9], [4], [9], [5], [7], [10], [8], [27], [\"\"], [8], [6], [6], [6], [5], [11], [4], [14], [4], [4], [5], [\"\"], [4], [5], [4], [4], [14], [9], [4], [8], [6], [5], [4], [9], [4], [3], [5], [4], [4], [6], [5], [4], [8], [4], [8], [5], [5], [5], [5], [9]], \"hovertemplate\": \"<b>%{hovertext}</b><br><br>15_Location.latitude=%{lat}<br>15_Location.longitude=%{lon}<br>15_Location.accuracy=%{customdata[0]}<extra></extra>\", \"hovertext\": [\"1150 Chum Live\", \"880 Chum Live\", \"745 Chum Dead\", \"625 Chum Live\", \"410 Chum Live\", \"410 Chum Live\", \"410 Chum Live\", \"410 Chum Live\", \"410 Chum Live\", \"410 Chum Live\", \"410 Chum Live\", \"390 Chum Dead\", \"390 Chum Dead\", \"380 Chum Dead\", \"380 Chum Live\", \"380 Chum Live\", \"370 Chum Dead\", \"350 Chum Live\", \"350 Chum Live\", \"350 Chum Live\", \"325 Chum Live\", \"325 Chum Live\", \"325 Chum Live\", \"290 Chum Live\", \"290 Chum Live\", \"280 Coho Dead\", \"280 Chum Live\", \"280 Chum Live\", \"260 Chum Live\", \"260 Chum Live\", \"260 Chum Live\", \"250 Live\", \"250 Chum Live\", \"250 Chum Live\", \"130 Chum Remnant\", \"130 Chum Dead\", \"102 Chum Dead\", \"105 Coho Live\", \"90 Chum Live\", \"80 Chum Live\", \"80 Chum Live\", \"68 Chum Dead\", \"68 Chum Dead\", \"67 Chum Dead\", \"67 Chum Remnant\", \"67 Chum Dead\", \"65 Chum Dead\", \"62 Chum Remnant\", \"60 Chum Live\", \"60 Chum Live\", \"40 Chum Live\", \"10 Chum Dead\", \"0 Chum Live\", \"0 Chum Live\", \"0 Chum Live\", \"0 Chum Live\", \"0 Chum Live\", \"0 Chum Live\", \"0 Chum Live\", \"0 Chum Dead\", \"0 Chum Dead\", \"0 Chum Dead\", \"0 Chum Dead\", \"1600 Cutthroat Live\", \"1010 Chum Dead\", \"975 Cutthroat Live\", \"1550 Coho Remnant\", \"575 Chum Live\", \"575 Chum Live\", \"575 Chum Live\", \"1020 Chum Remnant\", \"1020 Chum Remnant\", \"410 Chum Live\", \"375 Chum Live\", \"350 Chum Live\", \"350 Chum Live\", \"350 Chum Live\", \"350 Chum Live\", \"350 Chum Live\", \"350 Chum Live\", \"320 Chum Live\", \"320 Chum Live\", \"320 Chum Live\", \"320 Chum Live\", \"320 Chum Live\", \"320 Chum Live\", \"320 Chum Live\", \"320 Chum Live\", \"320 Chum Live\", \"300 Chum Live\", \"300 Chum Live\", \"300 Chum Live\", \"300 Chum Live\", \"300 Chum Live\", \"300 Chum Live\", \"260 Chum Live\", \"100 Chum Dead\", \"180 Chum Live\", \"180 Chum Live\", \"180 Chum Live\", \"180 Chum Live\", \"180 Chum Live\", \"180 Chum Live\", \"180 Chum Live\", \"100 Chum Live\", \"50 Chum Live\", \"50 Chum Live\", \"50 Chum Live\", \"40 Chum Live\", \"1460 Coho Dead\", \"975 Chum Live\", \"880 Chum Live\", \"1940 Cutthroat Live\", \"1675 Coho Dead\", \"1675 Coho Dead\", \"795 Chum Live\", \"775 Cutthroat Live\", \"765 Chum Live\", \"765 Chum Live\", \"540 Chum Live\", \"540 Chum Live\", \"400 Cutthroat Live\", \"395 Chum Live\", \"395 Chum Live\", \"380 Chum Live\", \"380 Chum Live\", \"375 Chum Live\", \"370 Chum Live\", \"315 Chum Live\", \"315 Chum Live\", \"290 Chum Live\", \"250 Chum Live\", \"100 Chum Live\", \"85 Chum Live\", \"62 Chum Live\", \"62 Chum Live\", \"42 Chum Live\", \"12 Chum Live\", \"12 Chum Live\", \"0 Chum Live\", \"0 Chum Live\", \"0 Chum Live\", \"0 Chum Live\", \"0 Chum Dead\", \"0 Chum Dead\", \"1465 Cutthroat Live\", \"1380 Cutthroat Live\", \"705 Cutthroat Live\", \"195 Chum Live\", \"195 Chum Live\", \"80 Chum Dead\", \"50 Chum Live\", \"45 Chum Live\", \"45 Chum Live\", \"45 Chum Live\", \"0 Chum Live\", \"0 Chum Live\", \"0 Coho Dead\", \"1375 Chum Live\", \"0 Chum Live\", \"0 Chum Live\", \"0 Chum Live\", \"0 Chum Live\", \"0 Chum Live\", \"103 Chum Dead\", \"65 Chum Dead\", \"55 Chum Dead\", \"1100 Unknown Live\", \"675 Coho Dead\"], \"lat\": [47.711424, 47.711373, 47.711429, 47.711126, \"\", 47.711662, 47.711618, 47.711686, 47.711639, 47.711658, 47.711661, 47.711671, 47.711654, 47.711672, 47.711698, 47.711628, 47.711606, 47.7116, 47.711615, 47.711617, 47.711637, 47.711629, 47.711773, 47.711699, \"\", 47.711763, 47.711774, 47.711744, 47.711713, 47.711753, 47.711739, \"\", 47.711781, 47.711714, 47.711801, 47.71185, 47.712065, 47.711842, 47.71186, 47.71185, 47.711845, 47.711773, 47.711827, 47.711807, 47.711826, 47.711848, 47.711866, 47.711894, 47.711856, 47.711893, 47.711899, 47.711862, 47.71185, 47.711872, 47.711902, 47.711829, 47.711889, 47.711894, 47.711897, 47.711759, 47.710977, 47.711154, 47.711573, 47.711382, 47.711849, 47.711311, \"\", 47.711516, 47.711699, 47.711706, \"\", \"\", \"\", 47.711675, \"\", \"\", \"\", \"\", \"\", 47.711717, \"\", \"\", \"\", \"\", \"\", \"\", \"\", 47.711694, \"\", \"\", \"\", \"\", \"\", \"\", 47.711623, 47.711642, \"\", 47.711801, \"\", \"\", \"\", \"\", \"\", 47.711816, 47.711838, \"\", 47.711827, \"\", 47.758856, \"\", \"\", \"\", 47.710893, 47.71106, 47.711076, 47.711321, 47.711484, 47.711404, 47.711404, 47.711609, 47.711536, 47.711654, 47.711751, 47.71175, 47.711603, 47.711539, 47.71153, 47.711463, \"\", 47.711744, 47.711747, 47.711787, 47.711755, 47.711811, 47.711762, 47.711802, 47.711802, 47.711886, 47.71182, 47.711813, \"\", 47.711777, 47.711788, 47.711432, 47.711734, 47.711166, 47.711494, 47.711524, 47.711791, 47.711781, 47.711861, 47.71184, 47.7119, 47.711897, 47.711891, 47.711866, 47.711868, 47.711493, 47.711192, 47.711854, 47.711849, 47.711771, 47.711835, 47.711817, 47.711844, 47.711777, 47.711788, 47.711432, 47.711594], \"lon\": [-122.374952, -122.376155, -122.376342, -122.377003, \"\", -122.377802, -122.377738, -122.37751, -122.377793, -122.377798, -122.377794, -122.377956, -122.377882, -122.377873, -122.377927, -122.377935, -122.37801, -122.37801, -122.378027, -122.378027, -122.378168, -122.378122, -122.378063, -122.378288, \"\", -122.378268, -122.378231, -122.37833, -122.37828, -122.37819, -122.378199, \"\", -122.378233, -122.378321, -122.378947, -122.37902, -122.378978, -122.379125, -122.379089, -122.379105, -122.379024, -122.378839, -122.379139, -122.379153, -122.379155, -122.379058, -122.379133, -122.37922, -122.379131, -122.379164, -122.379367, -122.379375, -122.379451, -122.379461, -122.379501, -122.379462, -122.379423, -122.379434, -122.379464, -122.379865, -122.38082, -122.3806, -122.380097, -122.372915, -122.37637, -122.375618, \"\", -122.377212, -122.377191, -122.377199, \"\", \"\", \"\", -122.377826, \"\", \"\", \"\", \"\", \"\", -122.377886, \"\", \"\", \"\", \"\", \"\", \"\", \"\", -122.378187, \"\", \"\", \"\", \"\", \"\", \"\", -122.378225, -122.378376, \"\", -122.378648, \"\", \"\", \"\", \"\", \"\", -122.378688, -122.379079, \"\", -122.379241, \"\", -122.390006, \"\", \"\", \"\", -122.371806, -122.372837, -122.372833, -122.376332, -122.376314, -122.376327, -122.376326, -122.377418, -122.377358, -122.377827, -122.37788, -122.377894, -122.37792, -122.377945, -122.377938, -122.377936, \"\", -122.378151, -122.378099, -122.378334, -122.379058, -122.379075, -122.379163, -122.379187, -122.379333, -122.379367, -122.379368, -122.379461, \"\", -122.379482, -122.379511, -122.380071, -122.380114, -122.373588, -122.373945, -122.376548, -122.378644, -122.37863, -122.379128, -122.379255, -122.379324, -122.379278, -122.379302, -122.379434, -122.37941, -122.38019, -122.373986, -122.379418, -122.379416, -122.379434, -122.379379, -122.379313, -122.379055, -122.37928, -122.37927, -122.375119, -122.376806], \"name\": \"\", \"radius\": 15, \"subplot\": \"mapbox\", \"type\": \"densitymapbox\"}],                        {\"coloraxis\": {\"colorscale\": [[0.0, \"#0d0887\"], [0.1111111111111111, \"#46039f\"], [0.2222222222222222, \"#7201a8\"], [0.3333333333333333, \"#9c179e\"], [0.4444444444444444, \"#bd3786\"], [0.5555555555555556, \"#d8576b\"], [0.6666666666666666, \"#ed7953\"], [0.7777777777777778, \"#fb9f3a\"], [0.8888888888888888, \"#fdca26\"], [1.0, \"#f0f921\"]], \"showscale\": false}, \"legend\": {\"tracegroupgap\": 0}, \"mapbox\": {\"center\": {\"lat\": 47.71157, \"lon\": -122.3759}, \"domain\": {\"x\": [0.0, 1.0], \"y\": [0.0, 1.0]}, \"style\": \"stamen-terrain\", \"zoom\": 15}, \"template\": {\"data\": {\"bar\": [{\"error_x\": {\"color\": \"#2a3f5f\"}, \"error_y\": {\"color\": \"#2a3f5f\"}, \"marker\": {\"line\": {\"color\": \"#E5ECF6\", \"width\": 0.5}}, \"type\": \"bar\"}], \"barpolar\": [{\"marker\": {\"line\": {\"color\": \"#E5ECF6\", \"width\": 0.5}}, \"type\": \"barpolar\"}], \"carpet\": [{\"aaxis\": {\"endlinecolor\": \"#2a3f5f\", \"gridcolor\": \"white\", \"linecolor\": \"white\", \"minorgridcolor\": \"white\", \"startlinecolor\": \"#2a3f5f\"}, \"baxis\": {\"endlinecolor\": \"#2a3f5f\", \"gridcolor\": \"white\", \"linecolor\": \"white\", \"minorgridcolor\": \"white\", \"startlinecolor\": \"#2a3f5f\"}, \"type\": \"carpet\"}], \"choropleth\": [{\"colorbar\": {\"outlinewidth\": 0, \"ticks\": \"\"}, \"type\": \"choropleth\"}], \"contour\": [{\"colorbar\": {\"outlinewidth\": 0, \"ticks\": \"\"}, \"colorscale\": [[0.0, \"#0d0887\"], [0.1111111111111111, \"#46039f\"], [0.2222222222222222, \"#7201a8\"], [0.3333333333333333, \"#9c179e\"], [0.4444444444444444, \"#bd3786\"], [0.5555555555555556, \"#d8576b\"], [0.6666666666666666, \"#ed7953\"], [0.7777777777777778, \"#fb9f3a\"], [0.8888888888888888, \"#fdca26\"], [1.0, \"#f0f921\"]], \"type\": \"contour\"}], \"contourcarpet\": [{\"colorbar\": {\"outlinewidth\": 0, \"ticks\": \"\"}, \"type\": \"contourcarpet\"}], \"heatmap\": [{\"colorbar\": {\"outlinewidth\": 0, \"ticks\": \"\"}, \"colorscale\": [[0.0, \"#0d0887\"], [0.1111111111111111, \"#46039f\"], [0.2222222222222222, \"#7201a8\"], [0.3333333333333333, \"#9c179e\"], [0.4444444444444444, \"#bd3786\"], [0.5555555555555556, \"#d8576b\"], [0.6666666666666666, \"#ed7953\"], [0.7777777777777778, \"#fb9f3a\"], [0.8888888888888888, \"#fdca26\"], [1.0, \"#f0f921\"]], \"type\": \"heatmap\"}], \"heatmapgl\": [{\"colorbar\": {\"outlinewidth\": 0, \"ticks\": \"\"}, \"colorscale\": [[0.0, \"#0d0887\"], [0.1111111111111111, \"#46039f\"], [0.2222222222222222, \"#7201a8\"], [0.3333333333333333, \"#9c179e\"], [0.4444444444444444, \"#bd3786\"], [0.5555555555555556, \"#d8576b\"], [0.6666666666666666, \"#ed7953\"], [0.7777777777777778, \"#fb9f3a\"], [0.8888888888888888, \"#fdca26\"], [1.0, \"#f0f921\"]], \"type\": \"heatmapgl\"}], \"histogram\": [{\"marker\": {\"colorbar\": {\"outlinewidth\": 0, \"ticks\": \"\"}}, \"type\": \"histogram\"}], \"histogram2d\": [{\"colorbar\": {\"outlinewidth\": 0, \"ticks\": \"\"}, \"colorscale\": [[0.0, \"#0d0887\"], [0.1111111111111111, \"#46039f\"], [0.2222222222222222, \"#7201a8\"], [0.3333333333333333, \"#9c179e\"], [0.4444444444444444, \"#bd3786\"], [0.5555555555555556, \"#d8576b\"], [0.6666666666666666, \"#ed7953\"], [0.7777777777777778, \"#fb9f3a\"], [0.8888888888888888, \"#fdca26\"], [1.0, \"#f0f921\"]], \"type\": \"histogram2d\"}], \"histogram2dcontour\": [{\"colorbar\": {\"outlinewidth\": 0, \"ticks\": \"\"}, \"colorscale\": [[0.0, \"#0d0887\"], [0.1111111111111111, \"#46039f\"], [0.2222222222222222, \"#7201a8\"], [0.3333333333333333, \"#9c179e\"], [0.4444444444444444, \"#bd3786\"], [0.5555555555555556, \"#d8576b\"], [0.6666666666666666, \"#ed7953\"], [0.7777777777777778, \"#fb9f3a\"], [0.8888888888888888, \"#fdca26\"], [1.0, \"#f0f921\"]], \"type\": \"histogram2dcontour\"}], \"mesh3d\": [{\"colorbar\": {\"outlinewidth\": 0, \"ticks\": \"\"}, \"type\": \"mesh3d\"}], \"parcoords\": [{\"line\": {\"colorbar\": {\"outlinewidth\": 0, \"ticks\": \"\"}}, \"type\": \"parcoords\"}], \"pie\": [{\"automargin\": true, \"type\": \"pie\"}], \"scatter\": [{\"marker\": {\"colorbar\": {\"outlinewidth\": 0, \"ticks\": \"\"}}, \"type\": \"scatter\"}], \"scatter3d\": [{\"line\": {\"colorbar\": {\"outlinewidth\": 0, \"ticks\": \"\"}}, \"marker\": {\"colorbar\": {\"outlinewidth\": 0, \"ticks\": \"\"}}, \"type\": \"scatter3d\"}], \"scattercarpet\": [{\"marker\": {\"colorbar\": {\"outlinewidth\": 0, \"ticks\": \"\"}}, \"type\": \"scattercarpet\"}], \"scattergeo\": [{\"marker\": {\"colorbar\": {\"outlinewidth\": 0, \"ticks\": \"\"}}, \"type\": \"scattergeo\"}], \"scattergl\": [{\"marker\": {\"colorbar\": {\"outlinewidth\": 0, \"ticks\": \"\"}}, \"type\": \"scattergl\"}], \"scattermapbox\": [{\"marker\": {\"colorbar\": {\"outlinewidth\": 0, \"ticks\": \"\"}}, \"type\": \"scattermapbox\"}], \"scatterpolar\": [{\"marker\": {\"colorbar\": {\"outlinewidth\": 0, \"ticks\": \"\"}}, \"type\": \"scatterpolar\"}], \"scatterpolargl\": [{\"marker\": {\"colorbar\": {\"outlinewidth\": 0, \"ticks\": \"\"}}, \"type\": \"scatterpolargl\"}], \"scatterternary\": [{\"marker\": {\"colorbar\": {\"outlinewidth\": 0, \"ticks\": \"\"}}, \"type\": \"scatterternary\"}], \"surface\": [{\"colorbar\": {\"outlinewidth\": 0, \"ticks\": \"\"}, \"colorscale\": [[0.0, \"#0d0887\"], [0.1111111111111111, \"#46039f\"], [0.2222222222222222, \"#7201a8\"], [0.3333333333333333, \"#9c179e\"], [0.4444444444444444, \"#bd3786\"], [0.5555555555555556, \"#d8576b\"], [0.6666666666666666, \"#ed7953\"], [0.7777777777777778, \"#fb9f3a\"], [0.8888888888888888, \"#fdca26\"], [1.0, \"#f0f921\"]], \"type\": \"surface\"}], \"table\": [{\"cells\": {\"fill\": {\"color\": \"#EBF0F8\"}, \"line\": {\"color\": \"white\"}}, \"header\": {\"fill\": {\"color\": \"#C8D4E3\"}, \"line\": {\"color\": \"white\"}}, \"type\": \"table\"}]}, \"layout\": {\"annotationdefaults\": {\"arrowcolor\": \"#2a3f5f\", \"arrowhead\": 0, \"arrowwidth\": 1}, \"coloraxis\": {\"colorbar\": {\"outlinewidth\": 0, \"ticks\": \"\"}}, \"colorscale\": {\"diverging\": [[0, \"#8e0152\"], [0.1, \"#c51b7d\"], [0.2, \"#de77ae\"], [0.3, \"#f1b6da\"], [0.4, \"#fde0ef\"], [0.5, \"#f7f7f7\"], [0.6, \"#e6f5d0\"], [0.7, \"#b8e186\"], [0.8, \"#7fbc41\"], [0.9, \"#4d9221\"], [1, \"#276419\"]], \"sequential\": [[0.0, \"#0d0887\"], [0.1111111111111111, \"#46039f\"], [0.2222222222222222, \"#7201a8\"], [0.3333333333333333, \"#9c179e\"], [0.4444444444444444, \"#bd3786\"], [0.5555555555555556, \"#d8576b\"], [0.6666666666666666, \"#ed7953\"], [0.7777777777777778, \"#fb9f3a\"], [0.8888888888888888, \"#fdca26\"], [1.0, \"#f0f921\"]], \"sequentialminus\": [[0.0, \"#0d0887\"], [0.1111111111111111, \"#46039f\"], [0.2222222222222222, \"#7201a8\"], [0.3333333333333333, \"#9c179e\"], [0.4444444444444444, \"#bd3786\"], [0.5555555555555556, \"#d8576b\"], [0.6666666666666666, \"#ed7953\"], [0.7777777777777778, \"#fb9f3a\"], [0.8888888888888888, \"#fdca26\"], [1.0, \"#f0f921\"]]}, \"colorway\": [\"#636efa\", \"#EF553B\", \"#00cc96\", \"#ab63fa\", \"#FFA15A\", \"#19d3f3\", \"#FF6692\", \"#B6E880\", \"#FF97FF\", \"#FECB52\"], \"font\": {\"color\": \"#2a3f5f\"}, \"geo\": {\"bgcolor\": \"white\", \"lakecolor\": \"white\", \"landcolor\": \"#E5ECF6\", \"showlakes\": true, \"showland\": true, \"subunitcolor\": \"white\"}, \"hoverlabel\": {\"align\": \"left\"}, \"hovermode\": \"closest\", \"mapbox\": {\"style\": \"light\"}, \"paper_bgcolor\": \"white\", \"plot_bgcolor\": \"#E5ECF6\", \"polar\": {\"angularaxis\": {\"gridcolor\": \"white\", \"linecolor\": \"white\", \"ticks\": \"\"}, \"bgcolor\": \"#E5ECF6\", \"radialaxis\": {\"gridcolor\": \"white\", \"linecolor\": \"white\", \"ticks\": \"\"}}, \"scene\": {\"xaxis\": {\"backgroundcolor\": \"#E5ECF6\", \"gridcolor\": \"white\", \"gridwidth\": 2, \"linecolor\": \"white\", \"showbackground\": true, \"ticks\": \"\", \"zerolinecolor\": \"white\"}, \"yaxis\": {\"backgroundcolor\": \"#E5ECF6\", \"gridcolor\": \"white\", \"gridwidth\": 2, \"linecolor\": \"white\", \"showbackground\": true, \"ticks\": \"\", \"zerolinecolor\": \"white\"}, \"zaxis\": {\"backgroundcolor\": \"#E5ECF6\", \"gridcolor\": \"white\", \"gridwidth\": 2, \"linecolor\": \"white\", \"showbackground\": true, \"ticks\": \"\", \"zerolinecolor\": \"white\"}}, \"shapedefaults\": {\"line\": {\"color\": \"#2a3f5f\"}}, \"ternary\": {\"aaxis\": {\"gridcolor\": \"white\", \"linecolor\": \"white\", \"ticks\": \"\"}, \"baxis\": {\"gridcolor\": \"white\", \"linecolor\": \"white\", \"ticks\": \"\"}, \"bgcolor\": \"#E5ECF6\", \"caxis\": {\"gridcolor\": \"white\", \"linecolor\": \"white\", \"ticks\": \"\"}}, \"title\": {\"x\": 0.05}, \"xaxis\": {\"automargin\": true, \"gridcolor\": \"white\", \"linecolor\": \"white\", \"ticks\": \"\", \"title\": {\"standoff\": 15}, \"zerolinecolor\": \"white\", \"zerolinewidth\": 2}, \"yaxis\": {\"automargin\": true, \"gridcolor\": \"white\", \"linecolor\": \"white\", \"ticks\": \"\", \"title\": {\"standoff\": 15}, \"zerolinecolor\": \"white\", \"zerolinewidth\": 2}}}, \"title\": {\"text\": \"Fish Heat Map\"}},                        {\"responsive\": true}                    ).then(function(){\n",
       "                            \n",
       "var gd = document.getElementById('6cfe1921-f39c-4f4a-86fd-7be0b4dd4c80');\n",
       "var x = new MutationObserver(function (mutations, observer) {{\n",
       "        var display = window.getComputedStyle(gd).display;\n",
       "        if (!display || display === 'none') {{\n",
       "            console.log([gd, 'removed!']);\n",
       "            Plotly.purge(gd);\n",
       "            observer.disconnect();\n",
       "        }}\n",
       "}});\n",
       "\n",
       "// Listen for the removal of the full notebook cells\n",
       "var notebookContainer = gd.closest('#notebook-container');\n",
       "if (notebookContainer) {{\n",
       "    x.observe(notebookContainer, {childList: true});\n",
       "}}\n",
       "\n",
       "// Listen for the clearing of the current output cell\n",
       "var outputEl = gd.closest('.output');\n",
       "if (outputEl) {{\n",
       "    x.observe(outputEl, {childList: true});\n",
       "}}\n",
       "\n",
       "                        })                };                });            </script>        </div>"
      ]
     },
     "metadata": {},
     "output_type": "display_data"
    },
    {
     "data": {
      "image/png": "[encoded data removed]",
      "text/plain": [
       "<Figure size 432x288 with 1 Axes>"
      ]
     },
     "metadata": {
      "needs_background": "light"
     },
     "output_type": "display_data"
    }
   ],
   "source": [
    "import requests, json, datetime, matplotlib.pyplot as plt, plotly.express as px, pandas as pd\n",
    "\n",
    "def getEntries(uri):\n",
    "    request = requests.get(url = uri)\n",
    "    df = pd.DataFrame(pd.json_normalize(request.json()['data']['entries']))\n",
    "    while request.json()['links']['next'] is not None:\n",
    "        nextURL = request.json()['links']['next']\n",
    "        request = requests.get(url = nextURL)\n",
    "        df = df.append(pd.json_normalize(request.json()['data']['entries']))\n",
    "    return df\n",
    "\n",
    "def addStats(survey, salmonDf):\n",
    "    surveyUUID = survey['ec5_uuid']\n",
    "    todaySalmonDf = salmonDf[salmonDf['ec5_parent_uuid'] == surveyUUID] \n",
    "    deadChum = (todaySalmonDf.loc[((todaySalmonDf['12_Species'] == 'Chum') & (todaySalmonDf['16_Status'] == 'Dead'))].shape[0]) \n",
    "    deadCoho = (todaySalmonDf.loc[((todaySalmonDf['12_Species'] == 'Coho') & (todaySalmonDf['16_Status'] == 'Dead'))].shape[0])\n",
    "    liveChum = (todaySalmonDf.loc[((todaySalmonDf['12_Species'] == 'Chum') & (todaySalmonDf['16_Status'] == 'Live'))].shape[0])\n",
    "    liveCoho = (todaySalmonDf.loc[((todaySalmonDf['12_Species'] == 'Coho') & (todaySalmonDf['16_Status'] == 'Live'))].shape[0])\n",
    "    remnant = todaySalmonDf.loc[(todaySalmonDf['16_Status'] == 'Remnant')].shape[0]\n",
    "    totalDead = todaySalmonDf.loc[(todaySalmonDf['16_Status'] == 'Dead')].shape[0]\n",
    "    totalLive = todaySalmonDf.loc[(todaySalmonDf['16_Status'] == 'Live')].shape[0]\n",
    "    total = (todaySalmonDf.shape[0])\n",
    "    statsRow = pd.Series({'Survey Date': datetime.datetime.strptime(survey['1_Survey_Date'], '%m/%d/%Y').date(), 'Dead Chum': deadChum, 'Dead Coho': deadCoho, 'Live Chum': liveChum, 'Live Coho': liveCoho, 'Remnant': remnant, 'Total Dead': totalDead, 'Total Live': totalLive, 'Total': total})\n",
    "    global statsDf\n",
    "    statsDf = statsDf.append(statsRow, ignore_index = True)\n",
    "    \n",
    "pd.set_option('display.precision', 0)\n",
    "salmonFormURI = 'https://five.epicollect.net/api/export/entries/salmon-survey-2020?form_ref=f550ab6c4dab44f49bcc33b7c1904be9_5d6f509867795'\n",
    "surveyFormURI = 'https://five.epicollect.net/api/export/entries/salmon-survey-2020?form_ref=f550ab6c4dab44f49bcc33b7c1904be9_5d6f454667a28'\n",
    "salmonDf = getEntries(salmonFormURI)\n",
    "surveyDf = getEntries(surveyFormURI)\n",
    "statsDf = pd.DataFrame()\n",
    "columnOrder =  ['Survey Date', 'Total', 'Total Live', 'Total Dead', 'Live Chum', 'Live Coho', 'Dead Chum', 'Dead Coho', 'Remnant']\n",
    "surveyDf.apply(addStats, axis=1, args=[salmonDf])\n",
    "statsDf= statsDf.groupby(['Survey Date']).sum().reset_index()\n",
    "statsDf = statsDf.sort_values(by=['Survey Date'])[columnOrder]\n",
    "print(statsDf.to_markdown(tablefmt='simple'))\n",
    "plot = statsDf.plot(ylabel = 'Count', title = 'Fish Count', rot=45, y=['Total', 'Total Live', 'Total Dead', 'Live Chum', 'Dead Chum', 'Live Coho', 'Dead Coho', 'Remnant'], x='Survey Date')\n",
    "fig = px.density_mapbox(salmonDf, lat='15_Location.latitude', lon='15_Location.longitude', radius=15,\n",
    "                        center=dict(lat=47.71157, lon=-122.3759), zoom=15, hover_name = 'title', hover_data = ['15_Location.accuracy'],\n",
    "                        mapbox_style='stamen-terrain', title='Fish Heat Map')\n",
    "fig.layout.coloraxis.showscale = False\n",
    "fig.show()"
   ]
  },
  {
   "cell_type": "code",
   "execution_count": null,
   "metadata": {},
   "outputs": [],
   "source": []
  },
  {
   "cell_type": "code",
   "execution_count": null,
   "metadata": {},
   "outputs": [],
   "source": []
  },
  {
   "cell_type": "code",
   "execution_count": null,
   "metadata": {},
   "outputs": [],
   "source": []
  },
  {
   "cell_type": "code",
   "execution_count": null,
   "metadata": {},
   "outputs": [],
   "source": []
  }
 ],
 "metadata": {
  "kernelspec": {
   "display_name": "Python 3",
   "language": "python",
   "name": "python3"
  },
  "language_info": {
   "codemirror_mode": {
    "name": "ipython",
    "version": 3
   },
   "file_extension": ".py",
   "mimetype": "text/x-python",
   "name": "python",
   "nbconvert_exporter": "python",
   "pygments_lexer": "ipython3",
   "version": "3.8.5"
  }
 },
 "nbformat": 4,
 "nbformat_minor": 4
}
