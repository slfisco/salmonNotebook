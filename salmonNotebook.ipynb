{
 "cells": [
  {
   "cell_type": "markdown",
   "metadata": {},
   "source": [
    "<p><img src=\"https://www.carkeekwatershed.org/wp-content/uploads/CWCAPlogo-1.png\" width=\"213\" height=\"72\"></p>\n",
    "\n",
    "# CWCAP Salmon Survey Analysis\n",
    "Press run all to create all figures and generate a report"
   ]
  },
  {
   "cell_type": "code",
   "execution_count": null,
   "metadata": {
    "hide_input": true,
    "tags": []
   },
   "outputs": [],
   "source": [
    "###ENTER SURVEY YEAR###\n",
    "surveyYear = '2021'\n",
    "\n",
    "##INITIALIZATION\n",
    "import matplotlib.pyplot as plt, plotly.express as px, pandas as pd, sys, pytz, io, base64, matplotlib.dates as mdates\n",
    "from datetime import datetime\n",
    "currentTimePacific = datetime.now(pytz.timezone('America/Los_Angeles')).strftime('%Y-%m-%d_%H-%M-%S') #cannot use system time due to colab\n",
    "reportFileName = currentTimePacific + '_salmonReport.html'\n",
    "surveyURIs = {'2019':'https://five.epicollect.net/api/export/entries/salmon-survey-2019?form_ref=397fba6ecc674b74836efc190840c42d_5d6f454667a28',\n",
    "              '2020':'https://five.epicollect.net/api/export/entries/salmon-survey-2020?form_ref=f550ab6c4dab44f49bcc33b7c1904be9_5d6f454667a28',\n",
    "              '2021':'https://five.epicollect.net/api/export/entries/salmon-survey-2021?form_ref=ad5ffedf0a3246a18934e6ec36ed9569_5d6f454667a28'}\n",
    "salmonURIs = {'2019':'https://five.epicollect.net/api/export/entries/salmon-survey-2019?form_ref=397fba6ecc674b74836efc190840c42d_5d6f509867795',\n",
    "              '2020':'https://five.epicollect.net/api/export/entries/salmon-survey-2020?form_ref=f550ab6c4dab44f49bcc33b7c1904be9_5d6f509867795',\n",
    "              '2021':'https://five.epicollect.net/api/export/entries/salmon-survey-2021?form_ref=ad5ffedf0a3246a18934e6ec36ed9569_5d6f509867795'}\n",
    "IN_COLAB = 'google.colab' in sys.modules\n",
    "\n",
    "def filterSalmonDf(salmonDf, *filters):\n",
    "    for filter in filters:\n",
    "        field, value = filter\n",
    "        salmonDf = salmonDf.loc[(salmonDf[field] == value)]\n",
    "    return salmonDf\n",
    "\n",
    "def getCountWithFilters(salmonDf, *filters):\n",
    "    return filterSalmonDf(salmonDf, *filters).shape[0]"
   ]
  },
  {
   "cell_type": "code",
   "execution_count": null,
   "metadata": {},
   "outputs": [],
   "source": [
    "###REPORT\n",
    "reportHeader = '<p><img src=\"https://www.carkeekwatershed.org/wp-content/uploads/CWCAPlogo-1.png\" width=\"213\" height=\"72\"></p><p><h2>CWCAP Salmon Survey Report</h2></p><p><h5>generated {}</h5></p>'.format(currentTimePacific)\n",
    "reportStyling = '''<style>body {\n",
    "  font-family: Arial, Helvetica, sans-serif;\n",
    "  border-collapse: collapse;\n",
    "  width: 100%;\n",
    "}\n",
    "\n",
    "table {\n",
    "    border-collapse:collapse;\n",
    "    caption-side: bottom;\n",
    "}\n",
    "\n",
    "caption {text-align:left;}\n",
    "\n",
    "td, th {\n",
    "  border: 1px solid #ddd;\n",
    "  padding: 8px;\n",
    "}\n",
    "\n",
    "tbody tr {text-align: center;}\n",
    "\n",
    "tr:nth-child(even){background-color: #f2f2f2;}\n",
    "\n",
    "tr:hover {background-color: #ddd;}\n",
    "\n",
    "th {\n",
    "  padding-top: 12px;\n",
    "  padding-bottom: 12px;\n",
    "  text-align: center;\n",
    "  background-color: #15331c;\n",
    "  color: white;\n",
    "}</style>'''\n",
    "    \n",
    "def addHTMLToReport(html):\n",
    "    with open(reportFileName, 'a') as f:\n",
    "      f.write(html)\n",
    "\n",
    "def initializeReport():\n",
    "    addHTMLToReport(reportStyling)\n",
    "    addHTMLToReport(reportHeader)\n",
    "    \n",
    "def addFigureToReport():\n",
    "    IObytes = io.BytesIO()\n",
    "    plt.savefig(IObytes, format = 'png')\n",
    "    IObytes.seek(0)\n",
    "    encodedPlot = base64.b64encode(IObytes.read()).decode(\"utf-8\")\n",
    "    html = '<img src=\\'data:image/png;base64,{}\\'>'.format(encodedPlot)\n",
    "    addHTMLToReport(html)\n",
    "    \n",
    "def clearPreviousReports():\n",
    "    if (not IN_COLAB):\n",
    "        import os, glob\n",
    "        from os.path import exists\n",
    "        for name in glob.glob('*salmonReport.html'):\n",
    "            print(\"Previous report file exists. Deleting \" + name)\n",
    "            os.remove(name)\n",
    "clearPreviousReports()\n",
    "initializeReport()"
   ]
  },
  {
   "cell_type": "code",
   "execution_count": null,
   "metadata": {},
   "outputs": [],
   "source": [
    "###DATA FETCHING\n",
    "import requests, json\n",
    "def getEntries(uri):\n",
    "    request = requests.get(url = uri  + '&per_page=1000')\n",
    "    df = pd.DataFrame(pd.json_normalize(request.json()['data']['entries']))\n",
    "    while request.json()['links']['next'] is not None:\n",
    "        nextURL = request.json()['links']['next']\n",
    "        request = requests.get(url = nextURL)\n",
    "        df = df.append(pd.json_normalize(request.json()['data']['entries']))\n",
    "    return df\n",
    "\n",
    "def addStats(survey, salmonDf):\n",
    "    surveyUUID = survey['ec5_uuid']\n",
    "    todaySalmonDf = salmonDf[salmonDf['ec5_parent_uuid'] == surveyUUID]\n",
    "    remnantChum = getCountWithFilters(todaySalmonDf, ('Species', 'Chum'), ('Type', 'Remnant'))\n",
    "    deadChum = getCountWithFilters(todaySalmonDf, ('Species', 'Chum'), ('Type', 'Dead')) + remnantChum\n",
    "    remnantCoho = getCountWithFilters(todaySalmonDf, ('Species', 'Coho'), ('Type', 'Remnant'))\n",
    "    deadCoho = getCountWithFilters(todaySalmonDf, ('Species', 'Coho'), ('Type', 'Dead')) + remnantCoho\n",
    "    unknownRemnant = getCountWithFilters(todaySalmonDf, ('Species', 'Unknown'), ('Type', 'Remnant'))\n",
    "    deadUnknown = getCountWithFilters(todaySalmonDf, ('Species', 'Unknown'), ('Type', 'Dead')) + unknownRemnant\n",
    "    liveChum = getCountWithFilters(todaySalmonDf, ('Species', 'Chum'), ('Type', 'Live'))\n",
    "    liveCoho = getCountWithFilters(todaySalmonDf, ('Species', 'Coho'), ('Type', 'Live'))\n",
    "    liveUnknown = getCountWithFilters(todaySalmonDf, ('Species', 'Unknown'), ('Type', 'Live'))\n",
    "    liveSeaRunCutthroat = getCountWithFilters(todaySalmonDf, ('Species', 'Sea-run Cutthroat'), ('Type', 'Live'))\n",
    "    liveResidentCutthroat = getCountWithFilters(todaySalmonDf, ('Species', 'Resident Cutthroat'), ('Type', 'Live'))\n",
    "    liveCutthroat = liveSeaRunCutthroat + liveResidentCutthroat\n",
    "    remnantSeaRunCutthroat = getCountWithFilters(todaySalmonDf, ('Species', 'Sea-run Cutthroat'), ('Type', 'Remnant'))\n",
    "    deadSeaRunCutthroat = getCountWithFilters(todaySalmonDf, ('Species', 'Sea-run Cutthroat'), ('Type', 'Dead')) + remnantSeaRunCutthroat\n",
    "    remnantResidentCutthroat = getCountWithFilters(todaySalmonDf, ('Species', 'Resident Cutthroat'), ('Type', 'Remnant'))\n",
    "    deadResidentCutthroat = getCountWithFilters(todaySalmonDf, ('Species', 'Resident Cutthroat'), ('Type', 'Dead'))\n",
    "    deadCutthroat = deadSeaRunCutthroat + deadResidentCutthroat\n",
    "    redds = getCountWithFilters(todaySalmonDf, ('Type', 'Redd'))\n",
    "    #totals include sea run cutthroat but not resident or redds\n",
    "    totalDeadSalmon = deadChum + deadCoho + deadSeaRunCutthroat + deadUnknown\n",
    "    totalLiveSalmon = liveChum + liveCoho + liveUnknown + liveSeaRunCutthroat\n",
    "    total = totalDeadSalmon + totalLiveSalmon\n",
    "    return pd.Series({'Survey Date': pd.Timestamp(survey['Survey_Date']), 'Dead Chum': deadChum, 'Dead Coho': deadCoho, 'Live Chum': liveChum, 'Live Coho': liveCoho, 'Live Cutthroat': liveCutthroat, 'Dead Cutthroat': deadCutthroat, 'Redds': redds, 'Total Dead Salmon' : totalDeadSalmon, 'Total Live Salmon': totalLiveSalmon, 'Total': total})\n",
    "\n",
    "def getSurveyEntries():\n",
    "    surveyDfs = {}\n",
    "    for year in surveyURIs:\n",
    "        surveyDfs[year] = getEntries(surveyURIs[year])\n",
    "    return surveyDfs\n",
    "\n",
    "def getSalmonEntries():\n",
    "    salmonDfs = {}\n",
    "    for year in salmonURIs:\n",
    "        salmonDfs[year] = getEntries(salmonURIs[year])\n",
    "    return salmonDfs\n",
    "    \n",
    "def getStats(surveyDfs, salmonDfs):\n",
    "    statsDfs = {}\n",
    "    for year in surveyDfs:\n",
    "        if not salmonDfs[year].empty:\n",
    "            statsDfs[year] = surveyDfs[year].apply(addStats, axis=1, args=[salmonDfs[year]]).groupby(['Survey Date']).sum().reset_index() \n",
    "            kwargs = {'Dead to Date' : statsDfs[year]['Total Dead Salmon'].cumsum(), 'Dead Chum to Date' : statsDfs[year]['Dead Chum'].cumsum(), 'Dead Coho to Date' : statsDfs[year]['Dead Coho'].cumsum()}\n",
    "            statsDfs[year] = statsDfs[year].assign(**kwargs)\n",
    "    return statsDfs\n",
    "\n",
    "surveyDfs = getSurveyEntries()\n",
    "salmonDfs = getSalmonEntries()\n",
    "statsDfs = getStats(surveyDfs, salmonDfs)\n",
    "salmonDf = salmonDfs[surveyYear]\n",
    "surveyDf = surveyDfs[surveyYear]\n",
    "statsDf = statsDfs[surveyYear]"
   ]
  },
  {
   "cell_type": "markdown",
   "metadata": {},
   "source": [
    "### Survey Stats Table"
   ]
  },
  {
   "cell_type": "code",
   "execution_count": null,
   "metadata": {
    "tags": []
   },
   "outputs": [],
   "source": [
    "###TABLES\n",
    "import IPython.core.display as ip\n",
    "\n",
    "def displayTable(title, table):\n",
    "    html = title + table\n",
    "    display(ip.HTML(html))\n",
    "    addHTMLToReport(html)\n",
    "    \n",
    "def displaySurveyStatsTable():\n",
    "    title = '<h3>Survey Totals</h3>'\n",
    "    statsTable = statsDf[['Survey Date', 'Total Live Salmon', 'Total Dead Salmon', 'Live Chum', 'Dead Chum', 'Live Coho', 'Dead Coho', 'Live Cutthroat', 'Dead Cutthroat', 'Redds']].style.format({'Survey Date': \"{:%Y-%m-%d}\"}).hide_index().set_caption(\"Note: Total live salmon includes Sea-Run Cutthroat and Unknowns - entries where surveyors were unable to determine the species. Remnants are included in dead counts.\").render()\n",
    "    displayTable(title, statsTable)\n",
    "    \n",
    "def getYearlyTotals():\n",
    "    max = (statsDf['Dead to Date']+statsDf['Total Live Salmon']).max()\n",
    "    idxmax = (statsDf['Dead to Date']+statsDf['Total Live Salmon']).idxmax()\n",
    "    yearlySalmonTotal = int(max)\n",
    "    yearlyChumTotal = int((statsDf['Dead Chum to Date']+statsDf['Live Chum']).max())\n",
    "    yearlyCohoTotal = int((statsDf['Dead Coho to Date']+statsDf['Live Coho']).max())\n",
    "    surveyOfCalculation = statsDf.iloc[idxmax]['Survey Date']\n",
    "    ### DEBUGGING\n",
    "    #print('Based on total dead count:', int(statsDf.iloc[idxmax]['Dead to Date']), '|', 'plus total live count:', int(statsDf.iloc[idxmax]['Total Live Salmon']))\n",
    "    return pd.DataFrame({'Salmon': yearlySalmonTotal, 'Chum': yearlyChumTotal, 'Coho': yearlyCohoTotal, 'Based on survey': surveyOfCalculation}, index=[0])\n",
    "    \n",
    "def displayYearlyTotalsTable():\n",
    "    title='<h3>Yearly Totals</h3>'\n",
    "    yearlyTotals = getYearlyTotals()\n",
    "    yearlyTotalsTable=yearlyTotals[['Salmon', 'Chum', 'Coho', 'Based on survey']].style.format({'Based on survey': \"{:%Y-%m-%d}\"}).hide_index().set_caption(\"Note: Yearly total is the survey date where (day\\'s live + dead up to date) is max\").render()\n",
    "    displayTable(title, yearlyTotalsTable)\n",
    "    \n",
    "def displayReddsTable():\n",
    "    mergedDf = pd.merge(salmonDf, surveyDf, how='inner', left_on = 'ec5_parent_uuid', right_on = 'ec5_uuid')\n",
    "    title = '<h3>Redds by location</h3>'\n",
    "    reddsTable = filterSalmonDf(mergedDf, ('Type', 'Redd'))[['Stream', 'Distance', 'Survey_Date']].sort_values(by=['Stream', 'Distance']).style.hide_index().render()\n",
    "    displayTable(title, reddsTable)\n",
    "    \n",
    "displaySurveyStatsTable()\n",
    "displayYearlyTotalsTable()\n",
    "displayReddsTable()"
   ]
  },
  {
   "cell_type": "markdown",
   "metadata": {},
   "source": [
    "### Count Plot"
   ]
  },
  {
   "cell_type": "code",
   "execution_count": null,
   "metadata": {
    "tags": []
   },
   "outputs": [],
   "source": [
    "def displayCountPlot(statsDf):\n",
    "    plot = statsDf.plot(ylabel = 'Count', title = surveyYear + ' Fish Count', rot=45, xticks=statsDf['Survey Date'], y=['Total Dead Salmon', 'Total Live Salmon', 'Live Chum', 'Dead Chum', 'Live Coho', 'Dead Coho'], x='Survey Date')\n",
    "    plot.xaxis.set_major_formatter(mdates.DateFormatter(\"%m-%d\"))\n",
    "    addFigureToReport()\n",
    "displayCountPlot(statsDf)"
   ]
  },
  {
   "cell_type": "markdown",
   "metadata": {},
   "source": [
    "### Scatter Map"
   ]
  },
  {
   "cell_type": "code",
   "execution_count": null,
   "metadata": {
    "tags": []
   },
   "outputs": [],
   "source": [
    "def displayScatterMap(salmonDf, figureTitle):    \n",
    "    fig = px.scatter_mapbox(salmonDf, lat='Location.latitude', lon='Location.longitude', color='Type', labels={'Type':'Type'}, color_discrete_map={'Live': 'green', 'Redd': 'red', 'Dead': 'black'},\n",
    "                        center=dict(lat=47.71157, lon=-122.3759), zoom=15, hover_name = 'title', hover_data = ['Location.accuracy'],\n",
    "                        mapbox_style='stamen-terrain', title=figureTitle)\n",
    "    fig.layout.coloraxis.showscale = False\n",
    "    fig.show()\n",
    "    addHTMLToReport(fig.to_html(reportFileName))\n",
    "    \n",
    "def dropInaccurateLocations(salmonDf):\n",
    "    return salmonDf.loc[pd.to_numeric(salmonDf['Location.accuracy']) < 50]\n",
    "mergedDf = pd.merge(salmonDf, surveyDf, how='inner', left_on = 'ec5_parent_uuid', right_on = 'ec5_uuid', suffixes=(None, '_y'))\n",
    "mergedDf.sort_values(by=['Survey_Date'])\n",
    "mostRecentSurveyDate = mergedDf.iloc[0]['Survey_Date']\n",
    "lastSurveySalmon = filterSalmonDf(mergedDf, ('Survey_Date', mostRecentSurveyDate))\n",
    "displayScatterMap(dropInaccurateLocations(lastSurveySalmon), mostRecentSurveyDate + ' Fish Scatter Map')\n",
    "displayScatterMap(dropInaccurateLocations(salmonDf), surveyYear + ' Fish Scatter Map')  "
   ]
  },
  {
   "cell_type": "markdown",
   "metadata": {},
   "source": [
    "### Spawned Chart"
   ]
  },
  {
   "cell_type": "code",
   "execution_count": null,
   "metadata": {
    "tags": []
   },
   "outputs": [],
   "source": [
    "import numpy as np\n",
    "def displaySpawnedChart(salmonDf, species):\n",
    "    try:\n",
    "        deadDf = filterSalmonDf(salmonDf, ('Species', species), ('Type', 'Dead'))\n",
    "        totalDead = deadDf.shape[0]\n",
    "        totalSpawned = getCountWithFilters(deadDf, ('Spawning_Success', 'Spawned'))\n",
    "        totalPartialSpawned = getCountWithFilters(deadDf, ('Spawning_Success', 'Partially spawned'))\n",
    "        totalUnspawned = getCountWithFilters(deadDf, ('Spawning_Success', 'Unspawned'))\n",
    "        totalUnknownSpawned = getCountWithFilters(deadDf, ('Spawning_Success', 'Unknown'))\n",
    "        spawnPercentages = [totalSpawned/totalDead*100, totalPartialSpawned/totalDead*100, totalUnspawned/totalDead*100, totalUnknownSpawned/totalDead*100]\n",
    "        colorsList = {'green' : 'Spawned', 'yellow' : 'Partially Spawned', 'red' : 'Unspawned', 'gray' : 'Unknown'}\n",
    "        pie, ax1 = plt.subplots()\n",
    "        ax1.pie(spawnPercentages, colors = colorsList, labels=['Spawned', 'Partially Spawned', 'Unspawned', 'Unknown'], autopct='%1.1f%%')\n",
    "        plt.title(surveyYear + ' ' + species + ' Spawn Percentage')\n",
    "        addFigureToReport()\n",
    "        plt.show()\n",
    "    except ZeroDivisionError:\n",
    "        print('Unable to display spawned chart. No spawning data to display')\n",
    "displaySpawnedChart(salmonDf, 'Chum')\n",
    "displaySpawnedChart(salmonDf, 'Coho')\n",
    "\n",
    "def displayPieChartOfColumn(df, column, title):\n",
    "    ax= df.replace('', np.nan).value_counts(column).plot(kind='pie', autopct='%1.1F%%', title=title, ylabel='')\n",
    "displayPieChartOfColumn(filterSalmonDf(salmonDf, ('Type', 'Dead'), ('Species', 'Coho')), 'Spawning_Success', surveyYear + ' ' + 'Coho' + ' Spawn Percentage')\n",
    "displayPieChartOfColumn(filterSalmonDf(salmonDf, ('Type', 'Dead'), ('Species', 'Chum')), 'Spawning_Success', surveyYear + ' ' + 'Chum' + ' Spawn Percentage')\n",
    "#displayPieChartOfColumn(filterSalmonDf(salmonDf, ('Type', 'Dead'), ('Species', 'Coho')), 'Predation', surveyYear + ' ' + 'Coho' + ' Predation')"
   ]
  },
  {
   "cell_type": "markdown",
   "metadata": {},
   "source": [
    "### Year By Year Count"
   ]
  },
  {
   "cell_type": "code",
   "execution_count": null,
   "metadata": {
    "tags": []
   },
   "outputs": [],
   "source": [
    "def displayYearByYearCount(surveyURIs, salmonURIs):\n",
    "#plot each series\n",
    "    strippedStatsDfs = statsDfs.copy()\n",
    "    for year in surveyDfs:\n",
    "        strippedStatsDfs[year]['Survey Date'] = statsDfs[year]['Survey Date'].apply(lambda x: datetime.strptime(x.strftime(\"%m-%d\"), \"%m-%d\")) \n",
    "    fig, ax = plt.subplots()\n",
    "    plt.plot('Survey Date', 'Total', data=strippedStatsDfs['2019'], label=\"2019\")\n",
    "    plt.plot('Survey Date', 'Total', data=strippedStatsDfs['2020'], label=\"2020\")\n",
    "    plt.plot('Survey Date', 'Total', data=strippedStatsDfs['2021'], label=\"2021\")\n",
    "    plt.title('Count by time of year')\n",
    "    plt.ylabel('Count')\n",
    "    plt.xlabel('Survey Date')\n",
    "    plt.xticks(rotation = 45)\n",
    "    plt.legend()\n",
    "    ax.xaxis.set_major_formatter(mdates.DateFormatter('%m-%d'))\n",
    "    addFigureToReport()\n",
    "displayYearByYearCount(surveyURIs, salmonURIs)"
   ]
  },
  {
   "cell_type": "code",
   "execution_count": null,
   "metadata": {},
   "outputs": [],
   "source": [
    "#Generate HTML report if in google colab\n",
    "def generateReport():\n",
    "    if (IN_COLAB):\n",
    "      from google.colab import files\n",
    "      files.download(reportFileName)\n",
    "generateReport()"
   ]
  }
 ],
 "metadata": {
  "celltoolbar": "Edit Metadata",
  "kernelspec": {
   "display_name": "Python 3 (ipykernel)",
   "language": "python",
   "name": "python3"
  },
  "language_info": {
   "codemirror_mode": {
    "name": "ipython",
    "version": 3
   },
   "file_extension": ".py",
   "mimetype": "text/x-python",
   "name": "python",
   "nbconvert_exporter": "python",
   "pygments_lexer": "ipython3",
   "version": "3.9.5"
  }
 },
 "nbformat": 4,
 "nbformat_minor": 4
}
