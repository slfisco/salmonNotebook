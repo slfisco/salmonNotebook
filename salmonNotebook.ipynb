{
 "cells": [
  {
   "cell_type": "code",
   "execution_count": 1,
   "metadata": {},
   "outputs": [
    {
     "name": "stdout",
     "output_type": "stream",
     "text": [
      "  Survey Date  Total  Total Live  Total Dead  Live Chum  Live Coho  Dead Chum  \\\n",
      "0  2020-10-07      1           1           0          1          0          0   \n",
      "\n",
      "   Dead Coho  Remnant  \n",
      "0          0        0  \n"
     ]
    },
    {
     "data": {
      "text/plain": [
       "<AxesSubplot:xlabel='Survey Date'>"
      ]
     },
     "execution_count": 1,
     "metadata": {},
     "output_type": "execute_result"
    },
    {
     "data": {
      "image/png": "[encoded data removed]",
      "text/plain": [
       "<Figure size 432x288 with 1 Axes>"
      ]
     },
     "metadata": {
      "needs_background": "light"
     },
     "output_type": "display_data"
    }
   ],
   "source": [
    "import requests, json, datetime, matplotlib.pyplot, pandas as pd\n",
    "\n",
    "def getEntries(uri):\n",
    "    request = requests.get(url = uri)\n",
    "    df = pd.DataFrame(request.json()['data']['entries'])\n",
    "    while request.json()['links']['next'] is not None:\n",
    "        nextURL = request.json()['links']['next']\n",
    "        request = requests.get(url = nextURL)\n",
    "        df = df.append(pd.DataFrame(request.json()['data']['entries']))\n",
    "    return df\n",
    "\n",
    "def addStats(survey, salmonDf):\n",
    "    surveyUUID = survey['ec5_uuid']\n",
    "    todaySalmonDf = salmonDf[salmonDf['ec5_parent_uuid'] == surveyUUID] \n",
    "    deadChum = (todaySalmonDf.loc[((todaySalmonDf['12_Species'] == \"Chum\") & (todaySalmonDf['16_Status'] == \"Dead\"))].shape[0]) \n",
    "    deadCoho = (todaySalmonDf.loc[((todaySalmonDf['12_Species'] == \"Coho\") & (todaySalmonDf['16_Status'] == \"Dead\"))].shape[0])\n",
    "    liveChum = (todaySalmonDf.loc[((todaySalmonDf['12_Species'] == \"Chum\") & (todaySalmonDf['16_Status'] == \"Live\"))].shape[0])\n",
    "    liveCoho = (todaySalmonDf.loc[((todaySalmonDf['12_Species'] == \"Coho\") & (todaySalmonDf['16_Status'] == \"Live\"))].shape[0])\n",
    "    remnant = todaySalmonDf.loc[(todaySalmonDf['16_Status'] == \"Remnant\")].shape[0]\n",
    "    totalDead = todaySalmonDf.loc[(todaySalmonDf['16_Status'] == \"Dead\")].shape[0]\n",
    "    totalLive = todaySalmonDf.loc[(todaySalmonDf['16_Status'] == \"Live\")].shape[0]\n",
    "    total = (todaySalmonDf.shape[0])\n",
    "    statsRow = pd.Series({'Survey Date': datetime.datetime.strptime(survey['1_Survey_Date'], '%m/%d/%Y'), 'Dead Chum': deadChum, 'Dead Coho': deadCoho, 'Live Chum': liveChum, 'Live Coho': liveCoho, 'Remnant': remnant, 'Total Dead': totalDead, 'Total Live': totalLive, 'Total': total})\n",
    "    global statsDf\n",
    "    statsDf = statsDf.append(statsRow, ignore_index = True)\n",
    "    \n",
    "pd.set_option('display.precision', 0)\n",
    "salmonFormURI = \"https://five.epicollect.net/api/export/entries/salmon-survey-2020?form_ref=f550ab6c4dab44f49bcc33b7c1904be9_5d6f509867795\"\n",
    "surveyFormURI = \"https://five.epicollect.net/api/export/entries/salmon-survey-2020?form_ref=f550ab6c4dab44f49bcc33b7c1904be9_5d6f454667a28\"\n",
    "salmonDf = getEntries(salmonFormURI)\n",
    "surveyDf = getEntries(surveyFormURI)\n",
    "statsDf = pd.DataFrame()\n",
    "columnOrder =  ['Survey Date', 'Total', 'Total Live', 'Total Dead', 'Live Chum', 'Live Coho', 'Dead Chum', 'Dead Coho', 'Remnant']\n",
    "surveyDf.apply(addStats, axis=1, args=[salmonDf])\n",
    "print(statsDf.sort_values(by=['Survey Date'])[columnOrder])\n",
    "statsDf.plot(y=['Total', 'Total Live', 'Total Dead', 'Live Chum', 'Dead Chum', 'Live Coho', 'Dead Coho'], x='Survey Date')"
   ]
  },
  {
   "cell_type": "code",
   "execution_count": null,
   "metadata": {},
   "outputs": [],
   "source": []
  },
  {
   "cell_type": "code",
   "execution_count": null,
   "metadata": {},
   "outputs": [],
   "source": []
  },
  {
   "cell_type": "code",
   "execution_count": null,
   "metadata": {},
   "outputs": [],
   "source": []
  },
  {
   "cell_type": "code",
   "execution_count": null,
   "metadata": {},
   "outputs": [],
   "source": []
  }
 ],
 "metadata": {
  "kernelspec": {
   "display_name": "Python 3",
   "language": "python",
   "name": "python3"
  },
  "language_info": {
   "codemirror_mode": {
    "name": "ipython",
    "version": 3
   },
   "file_extension": ".py",
   "mimetype": "text/x-python",
   "name": "python",
   "nbconvert_exporter": "python",
   "pygments_lexer": "ipython3",
   "version": "3.8.5"
  }
 },
 "nbformat": 4,
 "nbformat_minor": 4
}
