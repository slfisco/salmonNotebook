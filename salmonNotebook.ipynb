{
 "cells": [
  {
   "cell_type": "markdown",
   "metadata": {},
   "source": [
    "<p><img src=\"https://www.carkeekwatershed.org/wp-content/uploads/CWCAPlogo-1.png\" width=\"213\" height=\"72\"></p>\n",
    "\n",
    "# CWCAP Salmon Survey Analysis\n",
    "Press run all to generate all figures."
   ]
  },
  {
   "cell_type": "code",
   "execution_count": 60,
   "metadata": {
    "hide_input": true,
    "tags": []
   },
   "outputs": [],
   "source": [
    "import requests, json, matplotlib.pyplot as plt, plotly.express as px, pandas as pd, IPython.core.display as ip\n",
    "from datetime import datetime\n",
    "from IPython.core.debugger import set_trace\n",
    "import matplotlib.dates as mdates\n",
    "mostRecentSurvey = '2021'\n",
    "surveyURIs = {'2019':'https://five.epicollect.net/api/export/entries/salmon-survey-2019?form_ref=397fba6ecc674b74836efc190840c42d_5d6f454667a28',\n",
    "              '2020':'https://five.epicollect.net/api/export/entries/salmon-survey-2020?form_ref=f550ab6c4dab44f49bcc33b7c1904be9_5d6f454667a28',\n",
    "              '2021':'https://five.epicollect.net/api/export/entries/salmon-survey-2021?form_ref=ad5ffedf0a3246a18934e6ec36ed9569_5d6f454667a28'}\n",
    "salmonURIs = {'2019':'https://five.epicollect.net/api/export/entries/salmon-survey-2019?form_ref=397fba6ecc674b74836efc190840c42d_5d6f509867795',\n",
    "              '2020':'https://five.epicollect.net/api/export/entries/salmon-survey-2020?form_ref=f550ab6c4dab44f49bcc33b7c1904be9_5d6f509867795',\n",
    "              '2021':'https://five.epicollect.net/api/export/entries/salmon-survey-2021?form_ref=ad5ffedf0a3246a18934e6ec36ed9569_5d6f509867795'}\n",
    "        \n",
    "def getEntries(uri):\n",
    "    request = requests.get(url = uri)\n",
    "    df = pd.DataFrame(pd.json_normalize(request.json()['data']['entries']))\n",
    "    while request.json()['links']['next'] is not None:\n",
    "        nextURL = request.json()['links']['next']\n",
    "        request = requests.get(url = nextURL)\n",
    "        df = df.append(pd.json_normalize(request.json()['data']['entries']))\n",
    "    return df\n",
    "\n",
    "def filterSalmonDf(salmonDf, *filters):\n",
    "    for filter in filters:\n",
    "        field, value = filter\n",
    "        salmonDf = salmonDf.loc[(salmonDf[field] == value)]\n",
    "    return salmonDf\n",
    "    \n",
    "def addStats(survey, salmonDf):\n",
    "    surveyUUID = survey['ec5_uuid']\n",
    "    todaySalmonDf = salmonDf[salmonDf['ec5_parent_uuid'] == surveyUUID]\n",
    "    deadChum = filterSalmonDf(todaySalmonDf, ('Species', 'Chum'), ('Type', 'Dead')).shape[0] + filterSalmonDf(todaySalmonDf, ('Species', 'Chum'), ('Type', 'Remnant')).shape[0]\n",
    "    deadCoho = filterSalmonDf(todaySalmonDf, ('Species', 'Coho'), ('Type', 'Dead')).shape[0] + filterSalmonDf(todaySalmonDf, ('Species', 'Coho'), ('Type', 'Remnant')).shape[0]\n",
    "    deadUnknown = filterSalmonDf(todaySalmonDf, ('Species', 'Unknown'), ('Type', 'Dead')).shape[0] + filterSalmonDf(todaySalmonDf, ('Species', 'Unknown'), ('Type', 'Remnant')).shape[0]\n",
    "    liveChum = filterSalmonDf(todaySalmonDf, ('Species', 'Chum'), ('Type', 'Live')).shape[0]\n",
    "    liveCoho = filterSalmonDf(todaySalmonDf, ('Species', 'Coho'), ('Type', 'Live')).shape[0]\n",
    "    liveUnknown = filterSalmonDf(todaySalmonDf, ('Species', 'Unknown'), ('Type', 'Live')).shape[0]\n",
    "    liveSeaRunCutthroat = filterSalmonDf(todaySalmonDf, ('Species', 'Sea-run Cutthroat'), ('Type', 'Live')).shape[0]\n",
    "    liveResidentCutthroat = filterSalmonDf(todaySalmonDf, ('Species', 'Resident Cutthroat'), ('Type', 'Live')).shape[0]\n",
    "    liveCutthroat = liveSeaRunCutthroat + liveResidentCutthroat\n",
    "    deadSeaRunCutthroat = filterSalmonDf(todaySalmonDf, ('Species', 'Sea-run Cutthroat'), ('Type', 'Dead')).shape[0] + filterSalmonDf(todaySalmonDf, ('Species', 'Sea-run Cutthroat'), ('Type', 'Remnant')).shape[0]\n",
    "    deadResidentCutthroat = filterSalmonDf(todaySalmonDf, ('Species', 'Resident Cutthroat'), ('Type', 'Dead')).shape[0] + filterSalmonDf(todaySalmonDf, ('Species', 'Resident Cutthroat'), ('Type', 'Remnant')).shape[0]\n",
    "    deadCutthroat = deadSeaRunCutthroat + deadResidentCutthroat\n",
    "    redds = filterSalmonDf(todaySalmonDf, ('Type', 'Redd')).shape[0]\n",
    "    totalDead = deadChum + deadCoho + deadSeaRunCutthroat + deadUnknown\n",
    "    totalLiveSalmon = liveChum + liveCoho + liveUnknown\n",
    "    total = totalDead + totalLiveSalmon #does not include redds or resident cutthroat\n",
    "    return pd.Series({'Survey Date': pd.Timestamp(survey['Survey_Date']), 'Dead Chum': deadChum, 'Dead Coho': deadCoho, 'Live Chum': liveChum, 'Live Coho': liveCoho, 'Live Cutthroat': liveCutthroat, 'Dead Cutthroat': deadCutthroat, 'Redds': redds, 'Total Dead' : totalDead, 'Total Live Salmon': totalLiveSalmon, 'Total': total})\n",
    "\n",
    "salmonDf = getEntries(salmonURIs.get(mostRecentSurvey))\n",
    "surveyDf = getEntries(surveyURIs.get(mostRecentSurvey))\n",
    "statsDf = surveyDf.apply(addStats, axis=1, args=[salmonDf]).groupby(['Survey Date']).sum().reset_index()\n",
    "columnOrder =  ['Survey Date', 'Total Live Salmon', 'Live Chum', 'Live Coho', 'Dead Chum', 'Dead Coho', 'Total Dead', 'Live Cutthroat', 'Dead Cutthroat', 'Redds']\n",
    "statsDf = statsDf.sort_values(by=['Survey Date'])[columnOrder]\n",
    "kwargs = {'Dead to Date' : statsDf['Total Dead'].cumsum(), 'Dead Chum to Date' : statsDf['Dead Chum'].cumsum(), 'Dead Coho to Date' : statsDf['Dead Coho'].cumsum()}\n",
    "statsDf = statsDf.assign(**kwargs)\n",
    "surveyDfs = {};\n",
    "salmonDfs = {};\n",
    "statsDfs = {};\n",
    "for year in surveyURIs:\n",
    "    surveyDfs[year] = getEntries(surveyURIs[year])\n",
    "for year in salmonURIs:\n",
    "    salmonDfs[year] = getEntries(salmonURIs[year])\n",
    "for year in surveyDfs:\n",
    "    if not salmonDfs[year].empty:\n",
    "        statsDfs[year] = surveyDfs[year].apply(addStats, axis=1, args=[salmonDfs[year]]).groupby(['Survey Date']).sum().reset_index()\n",
    "        statsDfs[year]['Survey Date'] = statsDfs[year]['Survey Date'].apply(lambda x: datetime.strptime(x.strftime(\"%m-%d\"), \"%m-%d\"))"
   ]
  },
  {
   "cell_type": "markdown",
   "metadata": {},
   "source": [
    "### Survey Stats Table"
   ]
  },
  {
   "cell_type": "code",
   "execution_count": 61,
   "metadata": {
    "tags": []
   },
   "outputs": [
    {
     "data": {
      "text/html": [
       "<h3>Survey Totals</h3>"
      ],
      "text/plain": [
       "<IPython.core.display.HTML object>"
      ]
     },
     "metadata": {},
     "output_type": "display_data"
    },
    {
     "data": {
      "text/html": [
       "<table border=\"1\" class=\"dataframe\">\n",
       "  <thead>\n",
       "    <tr style=\"text-align: right;\">\n",
       "      <th>Survey Date</th>\n",
       "      <th>Total Live Salmon</th>\n",
       "      <th>Live Chum</th>\n",
       "      <th>Dead Chum</th>\n",
       "      <th>Live Coho</th>\n",
       "      <th>Dead Coho</th>\n",
       "      <th>Live Cutthroat</th>\n",
       "      <th>Dead Cutthroat</th>\n",
       "      <th>Redds</th>\n",
       "    </tr>\n",
       "  </thead>\n",
       "  <tbody>\n",
       "    <tr>\n",
       "      <td>2021-10-23</td>\n",
       "      <td>8</td>\n",
       "      <td>6</td>\n",
       "      <td>0</td>\n",
       "      <td>1</td>\n",
       "      <td>0</td>\n",
       "      <td>0</td>\n",
       "      <td>0</td>\n",
       "      <td>0</td>\n",
       "    </tr>\n",
       "    <tr>\n",
       "      <td>2021-10-26</td>\n",
       "      <td>33</td>\n",
       "      <td>27</td>\n",
       "      <td>0</td>\n",
       "      <td>4</td>\n",
       "      <td>3</td>\n",
       "      <td>1</td>\n",
       "      <td>0</td>\n",
       "      <td>3</td>\n",
       "    </tr>\n",
       "    <tr>\n",
       "      <td>2021-10-30</td>\n",
       "      <td>56</td>\n",
       "      <td>44</td>\n",
       "      <td>9</td>\n",
       "      <td>1</td>\n",
       "      <td>5</td>\n",
       "      <td>0</td>\n",
       "      <td>0</td>\n",
       "      <td>2</td>\n",
       "    </tr>\n",
       "    <tr>\n",
       "      <td>2021-11-02</td>\n",
       "      <td>94</td>\n",
       "      <td>91</td>\n",
       "      <td>12</td>\n",
       "      <td>1</td>\n",
       "      <td>4</td>\n",
       "      <td>1</td>\n",
       "      <td>0</td>\n",
       "      <td>14</td>\n",
       "    </tr>\n",
       "  </tbody>\n",
       "</table>"
      ],
      "text/plain": [
       "<IPython.core.display.HTML object>"
      ]
     },
     "metadata": {},
     "output_type": "display_data"
    },
    {
     "data": {
      "text/html": [
       "<i>Note: Total live salmon includes Sea-Run Cutthroat and Unknowns - entries where surveyors were unable to determine the species. Remnants are included in dead counts.</i>"
      ],
      "text/plain": [
       "<IPython.core.display.HTML object>"
      ]
     },
     "metadata": {},
     "output_type": "display_data"
    },
    {
     "data": {
      "text/html": [
       "<h3>Yearly Totals</h3>"
      ],
      "text/plain": [
       "<IPython.core.display.HTML object>"
      ]
     },
     "metadata": {},
     "output_type": "display_data"
    },
    {
     "data": {
      "text/html": [
       "<table border=\"1\" class=\"dataframe\">\n",
       "  <thead>\n",
       "    <tr style=\"text-align: right;\">\n",
       "      <th>Salmon</th>\n",
       "      <th>Chum</th>\n",
       "      <th>Coho</th>\n",
       "      <th>Based on survey</th>\n",
       "    </tr>\n",
       "  </thead>\n",
       "  <tbody>\n",
       "    <tr>\n",
       "      <td>128</td>\n",
       "      <td>112</td>\n",
       "      <td>13</td>\n",
       "      <td>2021-11-02</td>\n",
       "    </tr>\n",
       "  </tbody>\n",
       "</table>"
      ],
      "text/plain": [
       "<IPython.core.display.HTML object>"
      ]
     },
     "metadata": {},
     "output_type": "display_data"
    },
    {
     "data": {
      "text/html": [
       "<i>Note: Yearly total is the survey date where (day's live + dead up to date) is max</i>"
      ],
      "text/plain": [
       "<IPython.core.display.HTML object>"
      ]
     },
     "metadata": {},
     "output_type": "display_data"
    },
    {
     "data": {
      "text/html": [
       "<h3>Redds by location</h3>"
      ],
      "text/plain": [
       "<IPython.core.display.HTML object>"
      ]
     },
     "metadata": {},
     "output_type": "display_data"
    },
    {
     "data": {
      "text/html": [
       "<table border=\"1\" class=\"dataframe\">\n",
       "  <thead>\n",
       "    <tr style=\"text-align: right;\">\n",
       "      <th>Distance</th>\n",
       "      <th>Survey_Date</th>\n",
       "    </tr>\n",
       "  </thead>\n",
       "  <tbody>\n",
       "    <tr>\n",
       "      <td>1970</td>\n",
       "      <td>11/02/2021</td>\n",
       "    </tr>\n",
       "    <tr>\n",
       "      <td>1750</td>\n",
       "      <td>11/02/2021</td>\n",
       "    </tr>\n",
       "    <tr>\n",
       "      <td>1675</td>\n",
       "      <td>11/02/2021</td>\n",
       "    </tr>\n",
       "    <tr>\n",
       "      <td>1550</td>\n",
       "      <td>11/02/2021</td>\n",
       "    </tr>\n",
       "    <tr>\n",
       "      <td>1400</td>\n",
       "      <td>11/02/2021</td>\n",
       "    </tr>\n",
       "    <tr>\n",
       "      <td>1125</td>\n",
       "      <td>11/02/2021</td>\n",
       "    </tr>\n",
       "    <tr>\n",
       "      <td>1060</td>\n",
       "      <td>11/02/2021</td>\n",
       "    </tr>\n",
       "    <tr>\n",
       "      <td>1000</td>\n",
       "      <td>11/02/2021</td>\n",
       "    </tr>\n",
       "    <tr>\n",
       "      <td>800</td>\n",
       "      <td>11/02/2021</td>\n",
       "    </tr>\n",
       "    <tr>\n",
       "      <td>690</td>\n",
       "      <td>11/02/2021</td>\n",
       "    </tr>\n",
       "    <tr>\n",
       "      <td>660</td>\n",
       "      <td>11/02/2021</td>\n",
       "    </tr>\n",
       "    <tr>\n",
       "      <td>535</td>\n",
       "      <td>11/02/2021</td>\n",
       "    </tr>\n",
       "    <tr>\n",
       "      <td>500</td>\n",
       "      <td>11/02/2021</td>\n",
       "    </tr>\n",
       "    <tr>\n",
       "      <td>290</td>\n",
       "      <td>11/02/2021</td>\n",
       "    </tr>\n",
       "    <tr>\n",
       "      <td>1450</td>\n",
       "      <td>10/30/2021</td>\n",
       "    </tr>\n",
       "    <tr>\n",
       "      <td>1375</td>\n",
       "      <td>10/30/2021</td>\n",
       "    </tr>\n",
       "    <tr>\n",
       "      <td>815</td>\n",
       "      <td>10/26/2021</td>\n",
       "    </tr>\n",
       "    <tr>\n",
       "      <td>945</td>\n",
       "      <td>10/26/2021</td>\n",
       "    </tr>\n",
       "    <tr>\n",
       "      <td>715</td>\n",
       "      <td>10/26/2021</td>\n",
       "    </tr>\n",
       "  </tbody>\n",
       "</table>"
      ],
      "text/plain": [
       "<IPython.core.display.HTML object>"
      ]
     },
     "metadata": {},
     "output_type": "display_data"
    }
   ],
   "source": [
    "def displaySurveyStatsTable(statsDf):\n",
    "    display(ip.HTML('<h3>Survey Totals</h3>'))\n",
    "    display(ip.HTML(statsDf[['Survey Date', 'Total Live Salmon', 'Live Chum', 'Dead Chum', 'Live Coho', 'Dead Coho', 'Live Cutthroat', 'Dead Cutthroat', 'Redds']].to_html(index=False)))\n",
    "    display(ip.HTML('<i>Note: Total live salmon includes Sea-Run Cutthroat and Unknowns - entries where surveyors were unable to determine the species. Remnants are included in dead counts.</i>'))\n",
    "    \n",
    "def printYearlyTotals(statsDf):\n",
    "    max = (statsDf['Dead to Date']+statsDf['Total Live Salmon']).max()\n",
    "    idxmax = (statsDf['Dead to Date']+statsDf['Total Live Salmon']).idxmax()\n",
    "    yearlySalmonTotal = int(max)\n",
    "    yearlyChumTotal = int((statsDf['Dead Chum to Date']+statsDf['Live Chum']).max())\n",
    "    yearlyCohoTotal = int((statsDf['Dead Coho to Date']+statsDf['Live Coho']).max())\n",
    "    surveyOfCalculation = statsDf.iloc[idxmax]['Survey Date']\n",
    "    display(ip.HTML('<h3>Yearly Totals</h3>'))\n",
    "    yearlyTotals=pd.DataFrame({'Salmon': yearlySalmonTotal, 'Chum': yearlyChumTotal, 'Coho': yearlyCohoTotal, 'Based on survey': surveyOfCalculation}, index=[0])\n",
    "    display(ip.HTML(yearlyTotals[['Salmon', 'Chum', 'Coho', 'Based on survey']].to_html(index=False)))\n",
    "    display(ip.HTML('<i>Note: Yearly total is the survey date where (day\\'s live + dead up to date) is max</i>'))\n",
    "    ### DEBUGGING\n",
    "    #print('Based on total dead count:', int(statsDf.iloc[idxmax]['Dead to Date']), '|', 'plus total live count:', int(statsDf.iloc[idxmax]['Total Live Salmon']))\n",
    "    mergedDf = pd.merge(salmonDf, surveyDf, how='inner', left_on = 'ec5_parent_uuid', right_on = 'ec5_uuid')\n",
    "    display(ip.HTML('<h3>Redds by location</h3>'))\n",
    "    display(ip.HTML(filterSalmonDf(mergedDf, ('Type', 'Redd'))[['Distance', 'Survey_Date']].to_html(index=False)))\n",
    "    \n",
    "displaySurveyStatsTable(statsDf)\n",
    "printYearlyTotals(statsDf)"
   ]
  },
  {
   "cell_type": "markdown",
   "metadata": {},
   "source": [
    "### Count Plot"
   ]
  },
  {
   "cell_type": "code",
   "execution_count": 62,
   "metadata": {
    "tags": []
   },
   "outputs": [
    {
     "data": {
      "image/png": "[encoded data removed]",
      "text/plain": [
       "<Figure size 432x288 with 1 Axes>"
      ]
     },
     "metadata": {
      "needs_background": "light"
     },
     "output_type": "display_data"
    }
   ],
   "source": [
    "def displayCountPlot(statsDf):\n",
    "    plot = statsDf.plot(ylabel = 'Count', title = mostRecentSurvey + ' Fish Count', rot=45, xticks=statsDf['Survey Date'], y=['Total Dead', 'Live Chum', 'Dead Chum', 'Live Coho', 'Dead Coho'], x='Survey Date')\n",
    "    plot.xaxis.set_major_formatter(mdates.DateFormatter(\"%m-%d\"))\n",
    "displayCountPlot(statsDf)"
   ]
  },
  {
   "cell_type": "markdown",
   "metadata": {},
   "source": [
    "### Scatter Map"
   ]
  },
  {
   "cell_type": "code",
   "execution_count": 63,
   "metadata": {
    "tags": []
   },
   "outputs": [
    {
     "data": {
      "application/vnd.plotly.v1+json": {
       "config": {
        "plotlyServerURL": "https://plotly.com"
       },
       "data": [
        {
         "customdata": [
          [
           6
          ],
          [
           5
          ],
          [
           5
          ],
          [
           5
          ],
          [
           5
          ],
          [
           5
          ],
          [
           5
          ],
          [
           5
          ],
          [
           5
          ],
          [
           5
          ],
          [
           5
          ],
          [
           5
          ],
          [
           5
          ],
          [
           5
          ],
          [
           5
          ],
          [
           5
          ],
          [
           5
          ],
          [
           5
          ],
          [
           5
          ],
          [
           5
          ],
          [
           5
          ],
          [
           5
          ],
          [
           6
          ],
          [
           5
          ],
          [
           5
          ],
          [
           5
          ],
          [
           5
          ],
          [
           5
          ],
          [
           5
          ],
          [
           5
          ],
          [
           5
          ],
          [
           5
          ],
          [
           5
          ],
          [
           5
          ],
          [
           5
          ],
          [
           5
          ],
          [
           4
          ],
          [
           5
          ]
         ],
         "hovertemplate": "<b>%{hovertext}</b><br><br>Type=Live<br>Location.latitude=%{lat}<br>Location.longitude=%{lon}<br>Location.accuracy=%{customdata[0]}<extra></extra>",
         "hovertext": [
          "2010 Live Coho",
          "100 Live Chum",
          "2000 Live Chum",
          "2000 Live Resident Cutthroat",
          "1960 Live Chum",
          "1950 Live Chum",
          "1900 Live Chum",
          "1875 Live Chum",
          "1850 Live Chum",
          "1780 Live Chum",
          "1700 Live Chum",
          "1675 Live Chum",
          "1620 Live Chum",
          "1610 Live Chum",
          "1450 Live Chum",
          "1450 Live Chum",
          "1475 Live Chum",
          "1450 Live Chum",
          "1450 Live Chum",
          "1400 Live Chum",
          "1350 Live Chum",
          "1250 Live Chum",
          "1210 Live Chum",
          "1155 Live Chum",
          "1125 Live Chum",
          "1100 Live Chum",
          "1060 Live Chum",
          "1050 Live Chum",
          "600 Live Unknown",
          "600 Live Chum",
          "565 Live Chum",
          "425 Live Chum",
          "425 Live Chum",
          "415 Live Chum",
          "415 Live Chum",
          "350 Live Chum",
          "0 Live Chum",
          "0 Live Unknown"
         ],
         "lat": [
          47.710734,
          47.711175,
          47.710796,
          47.710799,
          47.710857,
          47.710874,
          47.710828,
          47.710883,
          47.710973,
          47.710922,
          47.71113,
          47.711112,
          47.711161,
          47.7112,
          47.711228,
          47.711161,
          47.711199,
          47.711239,
          47.711189,
          47.711317,
          47.711315,
          47.711244,
          47.711266,
          47.711317,
          47.711348,
          47.711378,
          47.7114,
          47.711416,
          47.711502,
          47.711495,
          47.71163,
          47.711636,
          47.71161,
          47.71161,
          47.711587,
          47.711711,
          47.711723,
          47.711968
         ],
         "legendgroup": "Live",
         "lon": [
          -122.371542,
          -122.371726,
          -122.371619,
          -122.3716,
          -122.371725,
          -122.37179,
          -122.372031,
          -122.37196,
          -122.37221,
          -122.372227,
          -122.37274,
          -122.37276,
          -122.372955,
          -122.372967,
          -122.373489,
          -122.373545,
          -122.373485,
          -122.373686,
          -122.373831,
          -122.373942,
          -122.374106,
          -122.374496,
          -122.374694,
          -122.374889,
          -122.374923,
          -122.374968,
          -122.375114,
          -122.375097,
          -122.37683,
          -122.376788,
          -122.377147,
          -122.37757,
          -122.377583,
          -122.377667,
          -122.377746,
          -122.378047,
          -122.378442,
          -122.379486
         ],
         "marker": {
          "color": "green"
         },
         "mode": "markers",
         "name": "Live",
         "showlegend": true,
         "subplot": "mapbox",
         "type": "scattermapbox"
        },
        {
         "customdata": [
          [
           5
          ],
          [
           5
          ],
          [
           5
          ],
          [
           5
          ],
          [
           5
          ],
          [
           5
          ],
          [
           5
          ]
         ],
         "hovertemplate": "<b>%{hovertext}</b><br><br>Type=Redd<br>Location.latitude=%{lat}<br>Location.longitude=%{lon}<br>Location.accuracy=%{customdata[0]}<extra></extra>",
         "hovertext": [
          "1970 Redd Unknown",
          "1550 Redd Unknown",
          "1000 Redd Unknown",
          "660 Redd Unknown",
          "535 Redd Unknown",
          "500 Redd Unknown",
          "290 Redd Chum"
         ],
         "lat": [
          47.710668,
          47.711205,
          47.711402,
          47.711534,
          47.711563,
          47.711604,
          47.711704
         ],
         "legendgroup": "Redd",
         "lon": [
          -122.371529,
          -122.373354,
          -122.375324,
          -122.376601,
          -122.377164,
          -122.377251,
          -122.37803
         ],
         "marker": {
          "color": "red"
         },
         "mode": "markers",
         "name": "Redd",
         "showlegend": true,
         "subplot": "mapbox",
         "type": "scattermapbox"
        },
        {
         "customdata": [
          [
           5
          ]
         ],
         "hovertemplate": "<b>%{hovertext}</b><br><br>Type=<br>Location.latitude=%{lat}<br>Location.longitude=%{lon}<br>Location.accuracy=%{customdata[0]}<extra></extra>",
         "hovertext": [
          "0 Unknown"
         ],
         "lat": [
          47.711605
         ],
         "legendgroup": "",
         "lon": [
          -122.380359
         ],
         "marker": {
          "color": "#ab63fa"
         },
         "mode": "markers",
         "name": "",
         "showlegend": false,
         "subplot": "mapbox",
         "type": "scattermapbox"
        },
        {
         "customdata": [
          [
           5
          ],
          [
           10
          ],
          [
           40
          ],
          [
           16
          ],
          [
           10
          ],
          [
           17
          ],
          [
           8
          ],
          [
           16
          ],
          [
           13
          ],
          [
           9
          ],
          [
           40
          ],
          [
           20
          ],
          [
           10
          ]
         ],
         "hovertemplate": "<b>%{hovertext}</b><br><br>Type=Dead<br>Location.latitude=%{lat}<br>Location.longitude=%{lon}<br>Location.accuracy=%{customdata[0]}<extra></extra>",
         "hovertext": [
          "190 Dead Chum",
          "90 Dead Chum",
          "1985 Dead Coho",
          "1885 Dead Chum",
          "1810 Dead Chum",
          "1710 Dead Chum",
          "1690 Dead Chum",
          "1320 Dead Coho",
          "895 Dead Chum",
          "775 Dead Chum",
          "650 Dead Chum",
          "610 Dead Chum",
          "0 Dead Coho"
         ],
         "lat": [
          47.711289,
          47.711115,
          47.710878,
          47.710902,
          47.711054,
          47.711114,
          47.711162,
          47.711338,
          47.711414,
          47.711346,
          47.71162,
          47.711474,
          47.710343
         ],
         "legendgroup": "Dead",
         "lon": [
          -122.371657,
          -122.371797,
          -122.371621,
          -122.372164,
          -122.372384,
          -122.372663,
          -122.372883,
          -122.374358,
          -122.37595,
          -122.376287,
          -122.376875,
          -122.377032,
          -122.380988
         ],
         "marker": {
          "color": "black"
         },
         "mode": "markers",
         "name": "Dead",
         "showlegend": true,
         "subplot": "mapbox",
         "type": "scattermapbox"
        }
       ],
       "layout": {
        "autosize": true,
        "coloraxis": {
         "showscale": false
        },
        "legend": {
         "title": {
          "text": "Type"
         },
         "tracegroupgap": 0
        },
        "mapbox": {
         "center": {
          "lat": 47.71157,
          "lon": -122.3759
         },
         "domain": {
          "x": [
           0,
           1
          ],
          "y": [
           0,
           1
          ]
         },
         "style": "stamen-terrain",
         "zoom": 15
        },
        "template": {
         "data": {
          "bar": [
           {
            "error_x": {
             "color": "#2a3f5f"
            },
            "error_y": {
             "color": "#2a3f5f"
            },
            "marker": {
             "line": {
              "color": "#E5ECF6",
              "width": 0.5
             },
             "pattern": {
              "fillmode": "overlay",
              "size": 10,
              "solidity": 0.2
             }
            },
            "type": "bar"
           }
          ],
          "barpolar": [
           {
            "marker": {
             "line": {
              "color": "#E5ECF6",
              "width": 0.5
             },
             "pattern": {
              "fillmode": "overlay",
              "size": 10,
              "solidity": 0.2
             }
            },
            "type": "barpolar"
           }
          ],
          "carpet": [
           {
            "aaxis": {
             "endlinecolor": "#2a3f5f",
             "gridcolor": "white",
             "linecolor": "white",
             "minorgridcolor": "white",
             "startlinecolor": "#2a3f5f"
            },
            "baxis": {
             "endlinecolor": "#2a3f5f",
             "gridcolor": "white",
             "linecolor": "white",
             "minorgridcolor": "white",
             "startlinecolor": "#2a3f5f"
            },
            "type": "carpet"
           }
          ],
          "choropleth": [
           {
            "colorbar": {
             "outlinewidth": 0,
             "ticks": ""
            },
            "type": "choropleth"
           }
          ],
          "contour": [
           {
            "colorbar": {
             "outlinewidth": 0,
             "ticks": ""
            },
            "colorscale": [
             [
              0,
              "#0d0887"
             ],
             [
              0.1111111111111111,
              "#46039f"
             ],
             [
              0.2222222222222222,
              "#7201a8"
             ],
             [
              0.3333333333333333,
              "#9c179e"
             ],
             [
              0.4444444444444444,
              "#bd3786"
             ],
             [
              0.5555555555555556,
              "#d8576b"
             ],
             [
              0.6666666666666666,
              "#ed7953"
             ],
             [
              0.7777777777777778,
              "#fb9f3a"
             ],
             [
              0.8888888888888888,
              "#fdca26"
             ],
             [
              1,
              "#f0f921"
             ]
            ],
            "type": "contour"
           }
          ],
          "contourcarpet": [
           {
            "colorbar": {
             "outlinewidth": 0,
             "ticks": ""
            },
            "type": "contourcarpet"
           }
          ],
          "heatmap": [
           {
            "colorbar": {
             "outlinewidth": 0,
             "ticks": ""
            },
            "colorscale": [
             [
              0,
              "#0d0887"
             ],
             [
              0.1111111111111111,
              "#46039f"
             ],
             [
              0.2222222222222222,
              "#7201a8"
             ],
             [
              0.3333333333333333,
              "#9c179e"
             ],
             [
              0.4444444444444444,
              "#bd3786"
             ],
             [
              0.5555555555555556,
              "#d8576b"
             ],
             [
              0.6666666666666666,
              "#ed7953"
             ],
             [
              0.7777777777777778,
              "#fb9f3a"
             ],
             [
              0.8888888888888888,
              "#fdca26"
             ],
             [
              1,
              "#f0f921"
             ]
            ],
            "type": "heatmap"
           }
          ],
          "heatmapgl": [
           {
            "colorbar": {
             "outlinewidth": 0,
             "ticks": ""
            },
            "colorscale": [
             [
              0,
              "#0d0887"
             ],
             [
              0.1111111111111111,
              "#46039f"
             ],
             [
              0.2222222222222222,
              "#7201a8"
             ],
             [
              0.3333333333333333,
              "#9c179e"
             ],
             [
              0.4444444444444444,
              "#bd3786"
             ],
             [
              0.5555555555555556,
              "#d8576b"
             ],
             [
              0.6666666666666666,
              "#ed7953"
             ],
             [
              0.7777777777777778,
              "#fb9f3a"
             ],
             [
              0.8888888888888888,
              "#fdca26"
             ],
             [
              1,
              "#f0f921"
             ]
            ],
            "type": "heatmapgl"
           }
          ],
          "histogram": [
           {
            "marker": {
             "pattern": {
              "fillmode": "overlay",
              "size": 10,
              "solidity": 0.2
             }
            },
            "type": "histogram"
           }
          ],
          "histogram2d": [
           {
            "colorbar": {
             "outlinewidth": 0,
             "ticks": ""
            },
            "colorscale": [
             [
              0,
              "#0d0887"
             ],
             [
              0.1111111111111111,
              "#46039f"
             ],
             [
              0.2222222222222222,
              "#7201a8"
             ],
             [
              0.3333333333333333,
              "#9c179e"
             ],
             [
              0.4444444444444444,
              "#bd3786"
             ],
             [
              0.5555555555555556,
              "#d8576b"
             ],
             [
              0.6666666666666666,
              "#ed7953"
             ],
             [
              0.7777777777777778,
              "#fb9f3a"
             ],
             [
              0.8888888888888888,
              "#fdca26"
             ],
             [
              1,
              "#f0f921"
             ]
            ],
            "type": "histogram2d"
           }
          ],
          "histogram2dcontour": [
           {
            "colorbar": {
             "outlinewidth": 0,
             "ticks": ""
            },
            "colorscale": [
             [
              0,
              "#0d0887"
             ],
             [
              0.1111111111111111,
              "#46039f"
             ],
             [
              0.2222222222222222,
              "#7201a8"
             ],
             [
              0.3333333333333333,
              "#9c179e"
             ],
             [
              0.4444444444444444,
              "#bd3786"
             ],
             [
              0.5555555555555556,
              "#d8576b"
             ],
             [
              0.6666666666666666,
              "#ed7953"
             ],
             [
              0.7777777777777778,
              "#fb9f3a"
             ],
             [
              0.8888888888888888,
              "#fdca26"
             ],
             [
              1,
              "#f0f921"
             ]
            ],
            "type": "histogram2dcontour"
           }
          ],
          "mesh3d": [
           {
            "colorbar": {
             "outlinewidth": 0,
             "ticks": ""
            },
            "type": "mesh3d"
           }
          ],
          "parcoords": [
           {
            "line": {
             "colorbar": {
              "outlinewidth": 0,
              "ticks": ""
             }
            },
            "type": "parcoords"
           }
          ],
          "pie": [
           {
            "automargin": true,
            "type": "pie"
           }
          ],
          "scatter": [
           {
            "marker": {
             "colorbar": {
              "outlinewidth": 0,
              "ticks": ""
             }
            },
            "type": "scatter"
           }
          ],
          "scatter3d": [
           {
            "line": {
             "colorbar": {
              "outlinewidth": 0,
              "ticks": ""
             }
            },
            "marker": {
             "colorbar": {
              "outlinewidth": 0,
              "ticks": ""
             }
            },
            "type": "scatter3d"
           }
          ],
          "scattercarpet": [
           {
            "marker": {
             "colorbar": {
              "outlinewidth": 0,
              "ticks": ""
             }
            },
            "type": "scattercarpet"
           }
          ],
          "scattergeo": [
           {
            "marker": {
             "colorbar": {
              "outlinewidth": 0,
              "ticks": ""
             }
            },
            "type": "scattergeo"
           }
          ],
          "scattergl": [
           {
            "marker": {
             "colorbar": {
              "outlinewidth": 0,
              "ticks": ""
             }
            },
            "type": "scattergl"
           }
          ],
          "scattermapbox": [
           {
            "marker": {
             "colorbar": {
              "outlinewidth": 0,
              "ticks": ""
             }
            },
            "type": "scattermapbox"
           }
          ],
          "scatterpolar": [
           {
            "marker": {
             "colorbar": {
              "outlinewidth": 0,
              "ticks": ""
             }
            },
            "type": "scatterpolar"
           }
          ],
          "scatterpolargl": [
           {
            "marker": {
             "colorbar": {
              "outlinewidth": 0,
              "ticks": ""
             }
            },
            "type": "scatterpolargl"
           }
          ],
          "scatterternary": [
           {
            "marker": {
             "colorbar": {
              "outlinewidth": 0,
              "ticks": ""
             }
            },
            "type": "scatterternary"
           }
          ],
          "surface": [
           {
            "colorbar": {
             "outlinewidth": 0,
             "ticks": ""
            },
            "colorscale": [
             [
              0,
              "#0d0887"
             ],
             [
              0.1111111111111111,
              "#46039f"
             ],
             [
              0.2222222222222222,
              "#7201a8"
             ],
             [
              0.3333333333333333,
              "#9c179e"
             ],
             [
              0.4444444444444444,
              "#bd3786"
             ],
             [
              0.5555555555555556,
              "#d8576b"
             ],
             [
              0.6666666666666666,
              "#ed7953"
             ],
             [
              0.7777777777777778,
              "#fb9f3a"
             ],
             [
              0.8888888888888888,
              "#fdca26"
             ],
             [
              1,
              "#f0f921"
             ]
            ],
            "type": "surface"
           }
          ],
          "table": [
           {
            "cells": {
             "fill": {
              "color": "#EBF0F8"
             },
             "line": {
              "color": "white"
             }
            },
            "header": {
             "fill": {
              "color": "#C8D4E3"
             },
             "line": {
              "color": "white"
             }
            },
            "type": "table"
           }
          ]
         },
         "layout": {
          "annotationdefaults": {
           "arrowcolor": "#2a3f5f",
           "arrowhead": 0,
           "arrowwidth": 1
          },
          "autotypenumbers": "strict",
          "coloraxis": {
           "colorbar": {
            "outlinewidth": 0,
            "ticks": ""
           }
          },
          "colorscale": {
           "diverging": [
            [
             0,
             "#8e0152"
            ],
            [
             0.1,
             "#c51b7d"
            ],
            [
             0.2,
             "#de77ae"
            ],
            [
             0.3,
             "#f1b6da"
            ],
            [
             0.4,
             "#fde0ef"
            ],
            [
             0.5,
             "#f7f7f7"
            ],
            [
             0.6,
             "#e6f5d0"
            ],
            [
             0.7,
             "#b8e186"
            ],
            [
             0.8,
             "#7fbc41"
            ],
            [
             0.9,
             "#4d9221"
            ],
            [
             1,
             "#276419"
            ]
           ],
           "sequential": [
            [
             0,
             "#0d0887"
            ],
            [
             0.1111111111111111,
             "#46039f"
            ],
            [
             0.2222222222222222,
             "#7201a8"
            ],
            [
             0.3333333333333333,
             "#9c179e"
            ],
            [
             0.4444444444444444,
             "#bd3786"
            ],
            [
             0.5555555555555556,
             "#d8576b"
            ],
            [
             0.6666666666666666,
             "#ed7953"
            ],
            [
             0.7777777777777778,
             "#fb9f3a"
            ],
            [
             0.8888888888888888,
             "#fdca26"
            ],
            [
             1,
             "#f0f921"
            ]
           ],
           "sequentialminus": [
            [
             0,
             "#0d0887"
            ],
            [
             0.1111111111111111,
             "#46039f"
            ],
            [
             0.2222222222222222,
             "#7201a8"
            ],
            [
             0.3333333333333333,
             "#9c179e"
            ],
            [
             0.4444444444444444,
             "#bd3786"
            ],
            [
             0.5555555555555556,
             "#d8576b"
            ],
            [
             0.6666666666666666,
             "#ed7953"
            ],
            [
             0.7777777777777778,
             "#fb9f3a"
            ],
            [
             0.8888888888888888,
             "#fdca26"
            ],
            [
             1,
             "#f0f921"
            ]
           ]
          },
          "colorway": [
           "#636efa",
           "#EF553B",
           "#00cc96",
           "#ab63fa",
           "#FFA15A",
           "#19d3f3",
           "#FF6692",
           "#B6E880",
           "#FF97FF",
           "#FECB52"
          ],
          "font": {
           "color": "#2a3f5f"
          },
          "geo": {
           "bgcolor": "white",
           "lakecolor": "white",
           "landcolor": "#E5ECF6",
           "showlakes": true,
           "showland": true,
           "subunitcolor": "white"
          },
          "hoverlabel": {
           "align": "left"
          },
          "hovermode": "closest",
          "mapbox": {
           "style": "light"
          },
          "paper_bgcolor": "white",
          "plot_bgcolor": "#E5ECF6",
          "polar": {
           "angularaxis": {
            "gridcolor": "white",
            "linecolor": "white",
            "ticks": ""
           },
           "bgcolor": "#E5ECF6",
           "radialaxis": {
            "gridcolor": "white",
            "linecolor": "white",
            "ticks": ""
           }
          },
          "scene": {
           "xaxis": {
            "backgroundcolor": "#E5ECF6",
            "gridcolor": "white",
            "gridwidth": 2,
            "linecolor": "white",
            "showbackground": true,
            "ticks": "",
            "zerolinecolor": "white"
           },
           "yaxis": {
            "backgroundcolor": "#E5ECF6",
            "gridcolor": "white",
            "gridwidth": 2,
            "linecolor": "white",
            "showbackground": true,
            "ticks": "",
            "zerolinecolor": "white"
           },
           "zaxis": {
            "backgroundcolor": "#E5ECF6",
            "gridcolor": "white",
            "gridwidth": 2,
            "linecolor": "white",
            "showbackground": true,
            "ticks": "",
            "zerolinecolor": "white"
           }
          },
          "shapedefaults": {
           "line": {
            "color": "#2a3f5f"
           }
          },
          "ternary": {
           "aaxis": {
            "gridcolor": "white",
            "linecolor": "white",
            "ticks": ""
           },
           "baxis": {
            "gridcolor": "white",
            "linecolor": "white",
            "ticks": ""
           },
           "bgcolor": "#E5ECF6",
           "caxis": {
            "gridcolor": "white",
            "linecolor": "white",
            "ticks": ""
           }
          },
          "title": {
           "x": 0.05
          },
          "xaxis": {
           "automargin": true,
           "gridcolor": "white",
           "linecolor": "white",
           "ticks": "",
           "title": {
            "standoff": 15
           },
           "zerolinecolor": "white",
           "zerolinewidth": 2
          },
          "yaxis": {
           "automargin": true,
           "gridcolor": "white",
           "linecolor": "white",
           "ticks": "",
           "title": {
            "standoff": 15
           },
           "zerolinecolor": "white",
           "zerolinewidth": 2
          }
         }
        },
        "title": {
         "text": "11/02/2021 Fish Scatter Map"
        }
       }
      },
      "image/png": "[encoded data removed]",
      "text/html": [
       "<div>                            <div id=\"fc660f59-5c33-4b1b-a091-680be171f591\" class=\"plotly-graph-div\" style=\"height:525px; width:100%;\"></div>            <script type=\"text/javascript\">                require([\"plotly\"], function(Plotly) {                    window.PLOTLYENV=window.PLOTLYENV || {};                                    if (document.getElementById(\"fc660f59-5c33-4b1b-a091-680be171f591\")) {                    Plotly.newPlot(                        \"fc660f59-5c33-4b1b-a091-680be171f591\",                        [{\"customdata\":[[6],[5],[5],[5],[5],[5],[5],[5],[5],[5],[5],[5],[5],[5],[5],[5],[5],[5],[5],[5],[5],[5],[6],[5],[5],[5],[5],[5],[5],[5],[5],[5],[5],[5],[5],[5],[4],[5]],\"hovertemplate\":\"<b>%{hovertext}</b><br><br>Type=Live<br>Location.latitude=%{lat}<br>Location.longitude=%{lon}<br>Location.accuracy=%{customdata[0]}<extra></extra>\",\"hovertext\":[\"2010 Live Coho\",\"100 Live Chum\",\"2000 Live Chum\",\"2000 Live Resident Cutthroat\",\"1960 Live Chum\",\"1950 Live Chum\",\"1900 Live Chum\",\"1875 Live Chum\",\"1850 Live Chum\",\"1780 Live Chum\",\"1700 Live Chum\",\"1675 Live Chum\",\"1620 Live Chum\",\"1610 Live Chum\",\"1450 Live Chum\",\"1450 Live Chum\",\"1475 Live Chum\",\"1450 Live Chum\",\"1450 Live Chum\",\"1400 Live Chum\",\"1350 Live Chum\",\"1250 Live Chum\",\"1210 Live Chum\",\"1155 Live Chum\",\"1125 Live Chum\",\"1100 Live Chum\",\"1060 Live Chum\",\"1050 Live Chum\",\"600 Live Unknown\",\"600 Live Chum\",\"565 Live Chum\",\"425 Live Chum\",\"425 Live Chum\",\"415 Live Chum\",\"415 Live Chum\",\"350 Live Chum\",\"0 Live Chum\",\"0 Live Unknown\"],\"lat\":[47.710734,47.711175,47.710796,47.710799,47.710857,47.710874,47.710828,47.710883,47.710973,47.710922,47.71113,47.711112,47.711161,47.7112,47.711228,47.711161,47.711199,47.711239,47.711189,47.711317,47.711315,47.711244,47.711266,47.711317,47.711348,47.711378,47.7114,47.711416,47.711502,47.711495,47.71163,47.711636,47.71161,47.71161,47.711587,47.711711,47.711723,47.711968],\"legendgroup\":\"Live\",\"lon\":[-122.371542,-122.371726,-122.371619,-122.3716,-122.371725,-122.37179,-122.372031,-122.37196,-122.37221,-122.372227,-122.37274,-122.37276,-122.372955,-122.372967,-122.373489,-122.373545,-122.373485,-122.373686,-122.373831,-122.373942,-122.374106,-122.374496,-122.374694,-122.374889,-122.374923,-122.374968,-122.375114,-122.375097,-122.37683,-122.376788,-122.377147,-122.37757,-122.377583,-122.377667,-122.377746,-122.378047,-122.378442,-122.379486],\"marker\":{\"color\":\"green\"},\"mode\":\"markers\",\"name\":\"Live\",\"showlegend\":true,\"subplot\":\"mapbox\",\"type\":\"scattermapbox\"},{\"customdata\":[[5],[5],[5],[5],[5],[5],[5]],\"hovertemplate\":\"<b>%{hovertext}</b><br><br>Type=Redd<br>Location.latitude=%{lat}<br>Location.longitude=%{lon}<br>Location.accuracy=%{customdata[0]}<extra></extra>\",\"hovertext\":[\"1970 Redd Unknown\",\"1550 Redd Unknown\",\"1000 Redd Unknown\",\"660 Redd Unknown\",\"535 Redd Unknown\",\"500 Redd Unknown\",\"290 Redd Chum\"],\"lat\":[47.710668,47.711205,47.711402,47.711534,47.711563,47.711604,47.711704],\"legendgroup\":\"Redd\",\"lon\":[-122.371529,-122.373354,-122.375324,-122.376601,-122.377164,-122.377251,-122.37803],\"marker\":{\"color\":\"red\"},\"mode\":\"markers\",\"name\":\"Redd\",\"showlegend\":true,\"subplot\":\"mapbox\",\"type\":\"scattermapbox\"},{\"customdata\":[[5]],\"hovertemplate\":\"<b>%{hovertext}</b><br><br>Type=<br>Location.latitude=%{lat}<br>Location.longitude=%{lon}<br>Location.accuracy=%{customdata[0]}<extra></extra>\",\"hovertext\":[\"0 Unknown\"],\"lat\":[47.711605],\"legendgroup\":\"\",\"lon\":[-122.380359],\"marker\":{\"color\":\"#ab63fa\"},\"mode\":\"markers\",\"name\":\"\",\"showlegend\":false,\"subplot\":\"mapbox\",\"type\":\"scattermapbox\"},{\"customdata\":[[5],[10],[40],[16],[10],[17],[8],[16],[13],[9],[40],[20],[10]],\"hovertemplate\":\"<b>%{hovertext}</b><br><br>Type=Dead<br>Location.latitude=%{lat}<br>Location.longitude=%{lon}<br>Location.accuracy=%{customdata[0]}<extra></extra>\",\"hovertext\":[\"190 Dead Chum\",\"90 Dead Chum\",\"1985 Dead Coho\",\"1885 Dead Chum\",\"1810 Dead Chum\",\"1710 Dead Chum\",\"1690 Dead Chum\",\"1320 Dead Coho\",\"895 Dead Chum\",\"775 Dead Chum\",\"650 Dead Chum\",\"610 Dead Chum\",\"0 Dead Coho\"],\"lat\":[47.711289,47.711115,47.710878,47.710902,47.711054,47.711114,47.711162,47.711338,47.711414,47.711346,47.71162,47.711474,47.710343],\"legendgroup\":\"Dead\",\"lon\":[-122.371657,-122.371797,-122.371621,-122.372164,-122.372384,-122.372663,-122.372883,-122.374358,-122.37595,-122.376287,-122.376875,-122.377032,-122.380988],\"marker\":{\"color\":\"black\"},\"mode\":\"markers\",\"name\":\"Dead\",\"showlegend\":true,\"subplot\":\"mapbox\",\"type\":\"scattermapbox\"}],                        {\"coloraxis\":{\"showscale\":false},\"legend\":{\"title\":{\"text\":\"Type\"},\"tracegroupgap\":0},\"mapbox\":{\"center\":{\"lat\":47.71157,\"lon\":-122.3759},\"domain\":{\"x\":[0.0,1.0],\"y\":[0.0,1.0]},\"style\":\"stamen-terrain\",\"zoom\":15},\"template\":{\"data\":{\"bar\":[{\"error_x\":{\"color\":\"#2a3f5f\"},\"error_y\":{\"color\":\"#2a3f5f\"},\"marker\":{\"line\":{\"color\":\"#E5ECF6\",\"width\":0.5},\"pattern\":{\"fillmode\":\"overlay\",\"size\":10,\"solidity\":0.2}},\"type\":\"bar\"}],\"barpolar\":[{\"marker\":{\"line\":{\"color\":\"#E5ECF6\",\"width\":0.5},\"pattern\":{\"fillmode\":\"overlay\",\"size\":10,\"solidity\":0.2}},\"type\":\"barpolar\"}],\"carpet\":[{\"aaxis\":{\"endlinecolor\":\"#2a3f5f\",\"gridcolor\":\"white\",\"linecolor\":\"white\",\"minorgridcolor\":\"white\",\"startlinecolor\":\"#2a3f5f\"},\"baxis\":{\"endlinecolor\":\"#2a3f5f\",\"gridcolor\":\"white\",\"linecolor\":\"white\",\"minorgridcolor\":\"white\",\"startlinecolor\":\"#2a3f5f\"},\"type\":\"carpet\"}],\"choropleth\":[{\"colorbar\":{\"outlinewidth\":0,\"ticks\":\"\"},\"type\":\"choropleth\"}],\"contour\":[{\"colorbar\":{\"outlinewidth\":0,\"ticks\":\"\"},\"colorscale\":[[0.0,\"#0d0887\"],[0.1111111111111111,\"#46039f\"],[0.2222222222222222,\"#7201a8\"],[0.3333333333333333,\"#9c179e\"],[0.4444444444444444,\"#bd3786\"],[0.5555555555555556,\"#d8576b\"],[0.6666666666666666,\"#ed7953\"],[0.7777777777777778,\"#fb9f3a\"],[0.8888888888888888,\"#fdca26\"],[1.0,\"#f0f921\"]],\"type\":\"contour\"}],\"contourcarpet\":[{\"colorbar\":{\"outlinewidth\":0,\"ticks\":\"\"},\"type\":\"contourcarpet\"}],\"heatmap\":[{\"colorbar\":{\"outlinewidth\":0,\"ticks\":\"\"},\"colorscale\":[[0.0,\"#0d0887\"],[0.1111111111111111,\"#46039f\"],[0.2222222222222222,\"#7201a8\"],[0.3333333333333333,\"#9c179e\"],[0.4444444444444444,\"#bd3786\"],[0.5555555555555556,\"#d8576b\"],[0.6666666666666666,\"#ed7953\"],[0.7777777777777778,\"#fb9f3a\"],[0.8888888888888888,\"#fdca26\"],[1.0,\"#f0f921\"]],\"type\":\"heatmap\"}],\"heatmapgl\":[{\"colorbar\":{\"outlinewidth\":0,\"ticks\":\"\"},\"colorscale\":[[0.0,\"#0d0887\"],[0.1111111111111111,\"#46039f\"],[0.2222222222222222,\"#7201a8\"],[0.3333333333333333,\"#9c179e\"],[0.4444444444444444,\"#bd3786\"],[0.5555555555555556,\"#d8576b\"],[0.6666666666666666,\"#ed7953\"],[0.7777777777777778,\"#fb9f3a\"],[0.8888888888888888,\"#fdca26\"],[1.0,\"#f0f921\"]],\"type\":\"heatmapgl\"}],\"histogram\":[{\"marker\":{\"pattern\":{\"fillmode\":\"overlay\",\"size\":10,\"solidity\":0.2}},\"type\":\"histogram\"}],\"histogram2d\":[{\"colorbar\":{\"outlinewidth\":0,\"ticks\":\"\"},\"colorscale\":[[0.0,\"#0d0887\"],[0.1111111111111111,\"#46039f\"],[0.2222222222222222,\"#7201a8\"],[0.3333333333333333,\"#9c179e\"],[0.4444444444444444,\"#bd3786\"],[0.5555555555555556,\"#d8576b\"],[0.6666666666666666,\"#ed7953\"],[0.7777777777777778,\"#fb9f3a\"],[0.8888888888888888,\"#fdca26\"],[1.0,\"#f0f921\"]],\"type\":\"histogram2d\"}],\"histogram2dcontour\":[{\"colorbar\":{\"outlinewidth\":0,\"ticks\":\"\"},\"colorscale\":[[0.0,\"#0d0887\"],[0.1111111111111111,\"#46039f\"],[0.2222222222222222,\"#7201a8\"],[0.3333333333333333,\"#9c179e\"],[0.4444444444444444,\"#bd3786\"],[0.5555555555555556,\"#d8576b\"],[0.6666666666666666,\"#ed7953\"],[0.7777777777777778,\"#fb9f3a\"],[0.8888888888888888,\"#fdca26\"],[1.0,\"#f0f921\"]],\"type\":\"histogram2dcontour\"}],\"mesh3d\":[{\"colorbar\":{\"outlinewidth\":0,\"ticks\":\"\"},\"type\":\"mesh3d\"}],\"parcoords\":[{\"line\":{\"colorbar\":{\"outlinewidth\":0,\"ticks\":\"\"}},\"type\":\"parcoords\"}],\"pie\":[{\"automargin\":true,\"type\":\"pie\"}],\"scatter\":[{\"marker\":{\"colorbar\":{\"outlinewidth\":0,\"ticks\":\"\"}},\"type\":\"scatter\"}],\"scatter3d\":[{\"line\":{\"colorbar\":{\"outlinewidth\":0,\"ticks\":\"\"}},\"marker\":{\"colorbar\":{\"outlinewidth\":0,\"ticks\":\"\"}},\"type\":\"scatter3d\"}],\"scattercarpet\":[{\"marker\":{\"colorbar\":{\"outlinewidth\":0,\"ticks\":\"\"}},\"type\":\"scattercarpet\"}],\"scattergeo\":[{\"marker\":{\"colorbar\":{\"outlinewidth\":0,\"ticks\":\"\"}},\"type\":\"scattergeo\"}],\"scattergl\":[{\"marker\":{\"colorbar\":{\"outlinewidth\":0,\"ticks\":\"\"}},\"type\":\"scattergl\"}],\"scattermapbox\":[{\"marker\":{\"colorbar\":{\"outlinewidth\":0,\"ticks\":\"\"}},\"type\":\"scattermapbox\"}],\"scatterpolar\":[{\"marker\":{\"colorbar\":{\"outlinewidth\":0,\"ticks\":\"\"}},\"type\":\"scatterpolar\"}],\"scatterpolargl\":[{\"marker\":{\"colorbar\":{\"outlinewidth\":0,\"ticks\":\"\"}},\"type\":\"scatterpolargl\"}],\"scatterternary\":[{\"marker\":{\"colorbar\":{\"outlinewidth\":0,\"ticks\":\"\"}},\"type\":\"scatterternary\"}],\"surface\":[{\"colorbar\":{\"outlinewidth\":0,\"ticks\":\"\"},\"colorscale\":[[0.0,\"#0d0887\"],[0.1111111111111111,\"#46039f\"],[0.2222222222222222,\"#7201a8\"],[0.3333333333333333,\"#9c179e\"],[0.4444444444444444,\"#bd3786\"],[0.5555555555555556,\"#d8576b\"],[0.6666666666666666,\"#ed7953\"],[0.7777777777777778,\"#fb9f3a\"],[0.8888888888888888,\"#fdca26\"],[1.0,\"#f0f921\"]],\"type\":\"surface\"}],\"table\":[{\"cells\":{\"fill\":{\"color\":\"#EBF0F8\"},\"line\":{\"color\":\"white\"}},\"header\":{\"fill\":{\"color\":\"#C8D4E3\"},\"line\":{\"color\":\"white\"}},\"type\":\"table\"}]},\"layout\":{\"annotationdefaults\":{\"arrowcolor\":\"#2a3f5f\",\"arrowhead\":0,\"arrowwidth\":1},\"autotypenumbers\":\"strict\",\"coloraxis\":{\"colorbar\":{\"outlinewidth\":0,\"ticks\":\"\"}},\"colorscale\":{\"diverging\":[[0,\"#8e0152\"],[0.1,\"#c51b7d\"],[0.2,\"#de77ae\"],[0.3,\"#f1b6da\"],[0.4,\"#fde0ef\"],[0.5,\"#f7f7f7\"],[0.6,\"#e6f5d0\"],[0.7,\"#b8e186\"],[0.8,\"#7fbc41\"],[0.9,\"#4d9221\"],[1,\"#276419\"]],\"sequential\":[[0.0,\"#0d0887\"],[0.1111111111111111,\"#46039f\"],[0.2222222222222222,\"#7201a8\"],[0.3333333333333333,\"#9c179e\"],[0.4444444444444444,\"#bd3786\"],[0.5555555555555556,\"#d8576b\"],[0.6666666666666666,\"#ed7953\"],[0.7777777777777778,\"#fb9f3a\"],[0.8888888888888888,\"#fdca26\"],[1.0,\"#f0f921\"]],\"sequentialminus\":[[0.0,\"#0d0887\"],[0.1111111111111111,\"#46039f\"],[0.2222222222222222,\"#7201a8\"],[0.3333333333333333,\"#9c179e\"],[0.4444444444444444,\"#bd3786\"],[0.5555555555555556,\"#d8576b\"],[0.6666666666666666,\"#ed7953\"],[0.7777777777777778,\"#fb9f3a\"],[0.8888888888888888,\"#fdca26\"],[1.0,\"#f0f921\"]]},\"colorway\":[\"#636efa\",\"#EF553B\",\"#00cc96\",\"#ab63fa\",\"#FFA15A\",\"#19d3f3\",\"#FF6692\",\"#B6E880\",\"#FF97FF\",\"#FECB52\"],\"font\":{\"color\":\"#2a3f5f\"},\"geo\":{\"bgcolor\":\"white\",\"lakecolor\":\"white\",\"landcolor\":\"#E5ECF6\",\"showlakes\":true,\"showland\":true,\"subunitcolor\":\"white\"},\"hoverlabel\":{\"align\":\"left\"},\"hovermode\":\"closest\",\"mapbox\":{\"style\":\"light\"},\"paper_bgcolor\":\"white\",\"plot_bgcolor\":\"#E5ECF6\",\"polar\":{\"angularaxis\":{\"gridcolor\":\"white\",\"linecolor\":\"white\",\"ticks\":\"\"},\"bgcolor\":\"#E5ECF6\",\"radialaxis\":{\"gridcolor\":\"white\",\"linecolor\":\"white\",\"ticks\":\"\"}},\"scene\":{\"xaxis\":{\"backgroundcolor\":\"#E5ECF6\",\"gridcolor\":\"white\",\"gridwidth\":2,\"linecolor\":\"white\",\"showbackground\":true,\"ticks\":\"\",\"zerolinecolor\":\"white\"},\"yaxis\":{\"backgroundcolor\":\"#E5ECF6\",\"gridcolor\":\"white\",\"gridwidth\":2,\"linecolor\":\"white\",\"showbackground\":true,\"ticks\":\"\",\"zerolinecolor\":\"white\"},\"zaxis\":{\"backgroundcolor\":\"#E5ECF6\",\"gridcolor\":\"white\",\"gridwidth\":2,\"linecolor\":\"white\",\"showbackground\":true,\"ticks\":\"\",\"zerolinecolor\":\"white\"}},\"shapedefaults\":{\"line\":{\"color\":\"#2a3f5f\"}},\"ternary\":{\"aaxis\":{\"gridcolor\":\"white\",\"linecolor\":\"white\",\"ticks\":\"\"},\"baxis\":{\"gridcolor\":\"white\",\"linecolor\":\"white\",\"ticks\":\"\"},\"bgcolor\":\"#E5ECF6\",\"caxis\":{\"gridcolor\":\"white\",\"linecolor\":\"white\",\"ticks\":\"\"}},\"title\":{\"x\":0.05},\"xaxis\":{\"automargin\":true,\"gridcolor\":\"white\",\"linecolor\":\"white\",\"ticks\":\"\",\"title\":{\"standoff\":15},\"zerolinecolor\":\"white\",\"zerolinewidth\":2},\"yaxis\":{\"automargin\":true,\"gridcolor\":\"white\",\"linecolor\":\"white\",\"ticks\":\"\",\"title\":{\"standoff\":15},\"zerolinecolor\":\"white\",\"zerolinewidth\":2}}},\"title\":{\"text\":\"11/02/2021 Fish Scatter Map\"}},                        {\"responsive\": true}                    ).then(function(){\n",
       "                            \n",
       "var gd = document.getElementById('fc660f59-5c33-4b1b-a091-680be171f591');\n",
       "var x = new MutationObserver(function (mutations, observer) {{\n",
       "        var display = window.getComputedStyle(gd).display;\n",
       "        if (!display || display === 'none') {{\n",
       "            console.log([gd, 'removed!']);\n",
       "            Plotly.purge(gd);\n",
       "            observer.disconnect();\n",
       "        }}\n",
       "}});\n",
       "\n",
       "// Listen for the removal of the full notebook cells\n",
       "var notebookContainer = gd.closest('#notebook-container');\n",
       "if (notebookContainer) {{\n",
       "    x.observe(notebookContainer, {childList: true});\n",
       "}}\n",
       "\n",
       "// Listen for the clearing of the current output cell\n",
       "var outputEl = gd.closest('.output');\n",
       "if (outputEl) {{\n",
       "    x.observe(outputEl, {childList: true});\n",
       "}}\n",
       "\n",
       "                        })                };                });            </script>        </div>"
      ]
     },
     "metadata": {},
     "output_type": "display_data"
    },
    {
     "data": {
      "application/vnd.plotly.v1+json": {
       "config": {
        "plotlyServerURL": "https://plotly.com"
       },
       "data": [
        {
         "customdata": [
          [
           6
          ],
          [
           5
          ],
          [
           5
          ],
          [
           5
          ],
          [
           5
          ],
          [
           5
          ],
          [
           5
          ],
          [
           5
          ],
          [
           5
          ],
          [
           5
          ],
          [
           5
          ],
          [
           5
          ],
          [
           5
          ],
          [
           5
          ],
          [
           5
          ],
          [
           5
          ],
          [
           5
          ],
          [
           5
          ],
          [
           5
          ],
          [
           5
          ],
          [
           5
          ],
          [
           5
          ],
          [
           6
          ],
          [
           5
          ],
          [
           5
          ],
          [
           5
          ],
          [
           5
          ],
          [
           5
          ],
          [
           5
          ],
          [
           5
          ],
          [
           5
          ],
          [
           5
          ],
          [
           5
          ],
          [
           5
          ],
          [
           5
          ],
          [
           5
          ],
          [
           4
          ],
          [
           5
          ],
          [
           15
          ],
          [
           29
          ],
          [
           5
          ],
          [
           11
          ],
          [
           5
          ],
          [
           30
          ],
          [
           6
          ],
          [
           6
          ],
          [
           7
          ],
          [
           23
          ],
          [
           25
          ],
          [
           5
          ],
          [
           17
          ],
          [
           24
          ],
          [
           25
          ],
          [
           18
          ],
          [
           15
          ],
          [
           23
          ],
          [
           5
          ],
          [
           13
          ],
          [
           21
          ],
          [
           5
          ],
          [
           5
          ],
          [
           12
          ],
          [
           20
          ],
          [
           17
          ],
          [
           22
          ],
          [
           6
          ],
          [
           5
          ],
          [
           5
          ],
          [
           5
          ],
          [
           10
          ],
          [
           5
          ],
          [
           5
          ],
          [
           14
          ],
          [
           8
          ],
          [
           5
          ],
          [
           9
          ],
          [
           17
          ],
          [
           23
          ],
          [
           33
          ],
          [
           5
          ],
          [
           8
          ],
          [
           7
          ],
          [
           36
          ],
          [
           11
          ],
          [
           5
          ],
          [
           5
          ],
          [
           5
          ],
          [
           5
          ],
          [
           5
          ],
          [
           16
          ],
          [
           9
          ],
          [
           25
          ],
          [
           22
          ],
          [
           15
          ],
          [
           18
          ],
          [
           9
          ],
          [
           26
          ],
          [
           9
          ],
          [
           18
          ],
          [
           20
          ],
          [
           6
          ],
          [
           11
          ],
          [
           35
          ],
          [
           27
          ],
          [
           19
          ],
          [
           8
          ],
          [
           10
          ],
          [
           12
          ],
          [
           12
          ],
          [
           11
          ],
          [
           9
          ],
          [
           18
          ],
          [
           5
          ],
          [
           5
          ],
          [
           5
          ],
          [
           5
          ],
          [
           12
          ],
          [
           6
          ],
          [
           9
          ],
          [
           16
          ],
          [
           6
          ]
         ],
         "hovertemplate": "<b>%{hovertext}</b><br><br>Type=Live<br>Location.latitude=%{lat}<br>Location.longitude=%{lon}<br>Location.accuracy=%{customdata[0]}<extra></extra>",
         "hovertext": [
          "2010 Live Coho",
          "100 Live Chum",
          "2000 Live Chum",
          "2000 Live Resident Cutthroat",
          "1960 Live Chum",
          "1950 Live Chum",
          "1900 Live Chum",
          "1875 Live Chum",
          "1850 Live Chum",
          "1780 Live Chum",
          "1700 Live Chum",
          "1675 Live Chum",
          "1620 Live Chum",
          "1610 Live Chum",
          "1450 Live Chum",
          "1450 Live Chum",
          "1475 Live Chum",
          "1450 Live Chum",
          "1450 Live Chum",
          "1400 Live Chum",
          "1350 Live Chum",
          "1250 Live Chum",
          "1210 Live Chum",
          "1155 Live Chum",
          "1125 Live Chum",
          "1100 Live Chum",
          "1060 Live Chum",
          "1050 Live Chum",
          "600 Live Unknown",
          "600 Live Chum",
          "565 Live Chum",
          "425 Live Chum",
          "425 Live Chum",
          "415 Live Chum",
          "415 Live Chum",
          "350 Live Chum",
          "0 Live Chum",
          "0 Live Unknown",
          "525 Live Chum",
          "100 Live Chum",
          "10 Live Unknown",
          "2000 Live Chum",
          "1910 Live Unknown",
          "1910 Live Chum",
          "1908 Live Chum",
          "1900 Live Chum",
          "1875 Live Chum",
          "1800 Live Chum",
          "1750 Live Chum",
          "1700 Live Coho",
          "1650 Live Chum",
          "1650 Live Chum",
          "1600 Live Chum",
          "1605 Live Chum",
          "1605 Live Chum",
          "1600 Live Chum",
          "1500 Live Chum",
          "1500 Live Chum",
          "1500 Live Chum",
          "1405 Live Chum",
          "1405 Live Chum",
          "1400 Live Unknown",
          "1375 Live Chum",
          "1375 Live Chum",
          "1245 Live Chum",
          "1210 Live Chum",
          "1210 Live Chum",
          "1200 Live Chum",
          "1200 Live Chum",
          "1200 Live Chum",
          "1150 Live Chum",
          "1150 Live Chum",
          "1150 Live Chum",
          "1060 Live Chum",
          "1060 Live Chum",
          "1060 Live Chum",
          "1060 Live Chum",
          "950 Live Chum",
          "950 Live Chum",
          "705 Live Unknown",
          "705 Live Unknown",
          "600 Live Unknown",
          "600 Live Unknown",
          "600 Live Chum",
          "550 Live Chum",
          "Live Chum",
          "375 Live Unknown",
          "400 Live Chum",
          "300 Live Chum",
          "300 Live Chum",
          "250 Live Unknown",
          "1695 Live Coho",
          "1470 Live Unknown",
          "1125 Live Chum",
          "980 Live Chum",
          "815 Live Chum",
          "815 Live Chum",
          "945 Live Chum",
          "945 Live Chum",
          "945 Live Chum",
          "715 Live Chum",
          "715 Live Chum",
          "715 Live Chum",
          "695 Live Chum",
          "415 Live Chum",
          "410 Live Chum",
          "410 Live Chum",
          "375 Live Chum",
          "345 Live Chum",
          "300 Live Chum",
          "70 Live Coho",
          "50 Live Chum",
          "0 Live Coho",
          "0 Live Chum",
          "0 Live Chum",
          "0 Live Chum",
          "0 Live Chum",
          "0 Live Chum",
          "0 Live Chum",
          "0 Live Chum",
          "0 Live Chum"
         ],
         "lat": [
          47.710734,
          47.711175,
          47.710796,
          47.710799,
          47.710857,
          47.710874,
          47.710828,
          47.710883,
          47.710973,
          47.710922,
          47.71113,
          47.711112,
          47.711161,
          47.7112,
          47.711228,
          47.711161,
          47.711199,
          47.711239,
          47.711189,
          47.711317,
          47.711315,
          47.711244,
          47.711266,
          47.711317,
          47.711348,
          47.711378,
          47.7114,
          47.711416,
          47.711502,
          47.711495,
          47.71163,
          47.711636,
          47.71161,
          47.71161,
          47.711587,
          47.711711,
          47.711723,
          47.711968,
          47.711927,
          47.711364,
          47.71113,
          47.710797,
          47.710951,
          47.710837,
          47.710974,
          47.71096,
          47.710968,
          47.71115,
          47.711149,
          47.711105,
          47.711217,
          47.711285,
          47.711243,
          47.71123,
          47.711262,
          47.711283,
          47.71113,
          47.711134,
          47.711159,
          47.711364,
          47.711219,
          47.711114,
          47.71124,
          47.711267,
          47.711116,
          47.711172,
          47.711136,
          47.711165,
          47.71121,
          47.711156,
          47.711362,
          47.711312,
          47.711424,
          47.711353,
          47.711377,
          47.711406,
          47.711451,
          47.711406,
          47.71139,
          47.711456,
          47.711473,
          47.71151,
          47.711561,
          47.711519,
          47.711633,
          47.711587,
          47.711641,
          47.711633,
          47.71171,
          47.71167,
          47.711699,
          47.711059,
          47.71135,
          47.711365,
          47.711442,
          47.711307,
          47.711333,
          47.711315,
          47.711344,
          47.711356,
          47.711448,
          47.711423,
          47.711612,
          47.711594,
          47.711618,
          47.711653,
          47.711597,
          47.711706,
          47.711703,
          47.711643,
          47.71181,
          47.711898,
          47.711836,
          47.711867,
          47.711822,
          47.711866,
          47.711855,
          47.711831,
          47.711824,
          47.711778,
          47.711845
         ],
         "legendgroup": "Live",
         "lon": [
          -122.371542,
          -122.371726,
          -122.371619,
          -122.3716,
          -122.371725,
          -122.37179,
          -122.372031,
          -122.37196,
          -122.37221,
          -122.372227,
          -122.37274,
          -122.37276,
          -122.372955,
          -122.372967,
          -122.373489,
          -122.373545,
          -122.373485,
          -122.373686,
          -122.373831,
          -122.373942,
          -122.374106,
          -122.374496,
          -122.374694,
          -122.374889,
          -122.374923,
          -122.374968,
          -122.375114,
          -122.375097,
          -122.37683,
          -122.376788,
          -122.377147,
          -122.37757,
          -122.377583,
          -122.377667,
          -122.377746,
          -122.378047,
          -122.378442,
          -122.379486,
          -122.370713,
          -122.371711,
          -122.371838,
          -122.371694,
          -122.371851,
          -122.371881,
          -122.371951,
          -122.371995,
          -122.371972,
          -122.372381,
          -122.372335,
          -122.372816,
          -122.372932,
          -122.372874,
          -122.372994,
          -122.373082,
          -122.373094,
          -122.373133,
          -122.373421,
          -122.373408,
          -122.373432,
          -122.373626,
          -122.373914,
          -122.374047,
          -122.374098,
          -122.373905,
          -122.374306,
          -122.374641,
          -122.374622,
          -122.374628,
          -122.374622,
          -122.374637,
          -122.374838,
          -122.374855,
          -122.374787,
          -122.375217,
          -122.375117,
          -122.375121,
          -122.375157,
          -122.375425,
          -122.375669,
          -122.376436,
          -122.376533,
          -122.376845,
          -122.376933,
          -122.377013,
          -122.377165,
          -122.377303,
          -122.377708,
          -122.377762,
          -122.378056,
          -122.37807,
          -122.378304,
          -122.372689,
          -122.373632,
          -122.374991,
          -122.375452,
          -122.375757,
          -122.375703,
          -122.375774,
          -122.37578,
          -122.375782,
          -122.376443,
          -122.376425,
          -122.376468,
          -122.376731,
          -122.377639,
          -122.377605,
          -122.377626,
          -122.377922,
          -122.378183,
          -122.378239,
          -122.37914,
          -122.379193,
          -122.379368,
          -122.379405,
          -122.379365,
          -122.379382,
          -122.379366,
          -122.379357,
          -122.379378,
          -122.37941,
          -122.379334
         ],
         "marker": {
          "color": "green"
         },
         "mode": "markers",
         "name": "Live",
         "showlegend": true,
         "subplot": "mapbox",
         "type": "scattermapbox"
        },
        {
         "customdata": [
          [
           5
          ],
          [
           10
          ],
          [
           40
          ],
          [
           16
          ],
          [
           10
          ],
          [
           17
          ],
          [
           8
          ],
          [
           16
          ],
          [
           13
          ],
          [
           9
          ],
          [
           40
          ],
          [
           20
          ],
          [
           10
          ],
          [
           4
          ],
          [
           4
          ],
          [
           11
          ],
          [
           23
          ],
          [
           12
          ],
          [
           9
          ],
          [
           12
          ],
          [
           34
          ],
          [
           14
          ],
          [
           8
          ],
          [
           7
          ],
          [
           15
          ],
          [
           27
          ],
          [
           12
          ]
         ],
         "hovertemplate": "<b>%{hovertext}</b><br><br>Type=Dead<br>Location.latitude=%{lat}<br>Location.longitude=%{lon}<br>Location.accuracy=%{customdata[0]}<extra></extra>",
         "hovertext": [
          "190 Dead Chum",
          "90 Dead Chum",
          "1985 Dead Coho",
          "1885 Dead Chum",
          "1810 Dead Chum",
          "1710 Dead Chum",
          "1690 Dead Chum",
          "1320 Dead Coho",
          "895 Dead Chum",
          "775 Dead Chum",
          "650 Dead Chum",
          "610 Dead Chum",
          "0 Dead Coho",
          "675 Dead Chum",
          "750 Dead Chum",
          "770 Dead Chum",
          "1490 Dead Chum",
          "1400 Dead Coho",
          "1325 Dead Chum",
          "575 Dead Coho",
          "575 Dead Coho",
          "525 Dead Coho",
          "0 Dead Chum",
          "0 Dead Chum",
          "175 Dead Coho",
          "1875 Dead Coho",
          "60 Dead Coho"
         ],
         "lat": [
          47.711289,
          47.711115,
          47.710878,
          47.710902,
          47.711054,
          47.711114,
          47.711162,
          47.711338,
          47.711414,
          47.711346,
          47.71162,
          47.711474,
          47.710343,
          47.711951,
          47.711319,
          47.712336,
          47.711285,
          47.711229,
          47.711299,
          47.711595,
          47.711465,
          47.711568,
          47.711134,
          47.711595,
          47.711146,
          47.710884,
          47.711843
         ],
         "legendgroup": "Dead",
         "lon": [
          -122.371657,
          -122.371797,
          -122.371621,
          -122.372164,
          -122.372384,
          -122.372663,
          -122.372883,
          -122.374358,
          -122.37595,
          -122.376287,
          -122.376875,
          -122.377032,
          -122.380988,
          -122.370519,
          -122.376502,
          -122.369986,
          -122.37359,
          -122.373978,
          -122.374233,
          -122.377001,
          -122.376942,
          -122.377243,
          -122.380493,
          -122.380298,
          -122.371832,
          -122.371999,
          -122.379118
         ],
         "marker": {
          "color": "black"
         },
         "mode": "markers",
         "name": "Dead",
         "showlegend": true,
         "subplot": "mapbox",
         "type": "scattermapbox"
        },
        {
         "customdata": [
          [
           5
          ],
          [
           5
          ],
          [
           5
          ],
          [
           5
          ],
          [
           5
          ],
          [
           5
          ],
          [
           5
          ],
          [
           15
          ],
          [
           5
          ],
          [
           5
          ],
          [
           5
          ],
          [
           5
          ]
         ],
         "hovertemplate": "<b>%{hovertext}</b><br><br>Type=Redd<br>Location.latitude=%{lat}<br>Location.longitude=%{lon}<br>Location.accuracy=%{customdata[0]}<extra></extra>",
         "hovertext": [
          "1970 Redd Unknown",
          "1550 Redd Unknown",
          "1000 Redd Unknown",
          "660 Redd Unknown",
          "535 Redd Unknown",
          "500 Redd Unknown",
          "290 Redd Chum",
          "1450 Redd Unknown",
          "1375 Redd Unknown",
          "815 Redd Unknown",
          "945 Redd Unknown",
          "715 Redd Unknown"
         ],
         "lat": [
          47.710668,
          47.711205,
          47.711402,
          47.711534,
          47.711563,
          47.711604,
          47.711704,
          47.711109,
          47.711149,
          47.711336,
          47.711358,
          47.711452
         ],
         "legendgroup": "Redd",
         "lon": [
          -122.371529,
          -122.373354,
          -122.375324,
          -122.376601,
          -122.377164,
          -122.377251,
          -122.37803,
          -122.373722,
          -122.373958,
          -122.375792,
          -122.375746,
          -122.376451
         ],
         "marker": {
          "color": "red"
         },
         "mode": "markers",
         "name": "Redd",
         "showlegend": true,
         "subplot": "mapbox",
         "type": "scattermapbox"
        },
        {
         "customdata": [
          [
           5
          ]
         ],
         "hovertemplate": "<b>%{hovertext}</b><br><br>Type=<br>Location.latitude=%{lat}<br>Location.longitude=%{lon}<br>Location.accuracy=%{customdata[0]}<extra></extra>",
         "hovertext": [
          "0 Unknown"
         ],
         "lat": [
          47.711605
         ],
         "legendgroup": "",
         "lon": [
          -122.380359
         ],
         "marker": {
          "color": "#ab63fa"
         },
         "mode": "markers",
         "name": "",
         "showlegend": false,
         "subplot": "mapbox",
         "type": "scattermapbox"
        }
       ],
       "layout": {
        "autosize": true,
        "coloraxis": {
         "showscale": false
        },
        "legend": {
         "title": {
          "text": "Type"
         },
         "tracegroupgap": 0
        },
        "mapbox": {
         "center": {
          "lat": 47.71157,
          "lon": -122.3759
         },
         "domain": {
          "x": [
           0,
           1
          ],
          "y": [
           0,
           1
          ]
         },
         "style": "stamen-terrain",
         "zoom": 15
        },
        "template": {
         "data": {
          "bar": [
           {
            "error_x": {
             "color": "#2a3f5f"
            },
            "error_y": {
             "color": "#2a3f5f"
            },
            "marker": {
             "line": {
              "color": "#E5ECF6",
              "width": 0.5
             },
             "pattern": {
              "fillmode": "overlay",
              "size": 10,
              "solidity": 0.2
             }
            },
            "type": "bar"
           }
          ],
          "barpolar": [
           {
            "marker": {
             "line": {
              "color": "#E5ECF6",
              "width": 0.5
             },
             "pattern": {
              "fillmode": "overlay",
              "size": 10,
              "solidity": 0.2
             }
            },
            "type": "barpolar"
           }
          ],
          "carpet": [
           {
            "aaxis": {
             "endlinecolor": "#2a3f5f",
             "gridcolor": "white",
             "linecolor": "white",
             "minorgridcolor": "white",
             "startlinecolor": "#2a3f5f"
            },
            "baxis": {
             "endlinecolor": "#2a3f5f",
             "gridcolor": "white",
             "linecolor": "white",
             "minorgridcolor": "white",
             "startlinecolor": "#2a3f5f"
            },
            "type": "carpet"
           }
          ],
          "choropleth": [
           {
            "colorbar": {
             "outlinewidth": 0,
             "ticks": ""
            },
            "type": "choropleth"
           }
          ],
          "contour": [
           {
            "colorbar": {
             "outlinewidth": 0,
             "ticks": ""
            },
            "colorscale": [
             [
              0,
              "#0d0887"
             ],
             [
              0.1111111111111111,
              "#46039f"
             ],
             [
              0.2222222222222222,
              "#7201a8"
             ],
             [
              0.3333333333333333,
              "#9c179e"
             ],
             [
              0.4444444444444444,
              "#bd3786"
             ],
             [
              0.5555555555555556,
              "#d8576b"
             ],
             [
              0.6666666666666666,
              "#ed7953"
             ],
             [
              0.7777777777777778,
              "#fb9f3a"
             ],
             [
              0.8888888888888888,
              "#fdca26"
             ],
             [
              1,
              "#f0f921"
             ]
            ],
            "type": "contour"
           }
          ],
          "contourcarpet": [
           {
            "colorbar": {
             "outlinewidth": 0,
             "ticks": ""
            },
            "type": "contourcarpet"
           }
          ],
          "heatmap": [
           {
            "colorbar": {
             "outlinewidth": 0,
             "ticks": ""
            },
            "colorscale": [
             [
              0,
              "#0d0887"
             ],
             [
              0.1111111111111111,
              "#46039f"
             ],
             [
              0.2222222222222222,
              "#7201a8"
             ],
             [
              0.3333333333333333,
              "#9c179e"
             ],
             [
              0.4444444444444444,
              "#bd3786"
             ],
             [
              0.5555555555555556,
              "#d8576b"
             ],
             [
              0.6666666666666666,
              "#ed7953"
             ],
             [
              0.7777777777777778,
              "#fb9f3a"
             ],
             [
              0.8888888888888888,
              "#fdca26"
             ],
             [
              1,
              "#f0f921"
             ]
            ],
            "type": "heatmap"
           }
          ],
          "heatmapgl": [
           {
            "colorbar": {
             "outlinewidth": 0,
             "ticks": ""
            },
            "colorscale": [
             [
              0,
              "#0d0887"
             ],
             [
              0.1111111111111111,
              "#46039f"
             ],
             [
              0.2222222222222222,
              "#7201a8"
             ],
             [
              0.3333333333333333,
              "#9c179e"
             ],
             [
              0.4444444444444444,
              "#bd3786"
             ],
             [
              0.5555555555555556,
              "#d8576b"
             ],
             [
              0.6666666666666666,
              "#ed7953"
             ],
             [
              0.7777777777777778,
              "#fb9f3a"
             ],
             [
              0.8888888888888888,
              "#fdca26"
             ],
             [
              1,
              "#f0f921"
             ]
            ],
            "type": "heatmapgl"
           }
          ],
          "histogram": [
           {
            "marker": {
             "pattern": {
              "fillmode": "overlay",
              "size": 10,
              "solidity": 0.2
             }
            },
            "type": "histogram"
           }
          ],
          "histogram2d": [
           {
            "colorbar": {
             "outlinewidth": 0,
             "ticks": ""
            },
            "colorscale": [
             [
              0,
              "#0d0887"
             ],
             [
              0.1111111111111111,
              "#46039f"
             ],
             [
              0.2222222222222222,
              "#7201a8"
             ],
             [
              0.3333333333333333,
              "#9c179e"
             ],
             [
              0.4444444444444444,
              "#bd3786"
             ],
             [
              0.5555555555555556,
              "#d8576b"
             ],
             [
              0.6666666666666666,
              "#ed7953"
             ],
             [
              0.7777777777777778,
              "#fb9f3a"
             ],
             [
              0.8888888888888888,
              "#fdca26"
             ],
             [
              1,
              "#f0f921"
             ]
            ],
            "type": "histogram2d"
           }
          ],
          "histogram2dcontour": [
           {
            "colorbar": {
             "outlinewidth": 0,
             "ticks": ""
            },
            "colorscale": [
             [
              0,
              "#0d0887"
             ],
             [
              0.1111111111111111,
              "#46039f"
             ],
             [
              0.2222222222222222,
              "#7201a8"
             ],
             [
              0.3333333333333333,
              "#9c179e"
             ],
             [
              0.4444444444444444,
              "#bd3786"
             ],
             [
              0.5555555555555556,
              "#d8576b"
             ],
             [
              0.6666666666666666,
              "#ed7953"
             ],
             [
              0.7777777777777778,
              "#fb9f3a"
             ],
             [
              0.8888888888888888,
              "#fdca26"
             ],
             [
              1,
              "#f0f921"
             ]
            ],
            "type": "histogram2dcontour"
           }
          ],
          "mesh3d": [
           {
            "colorbar": {
             "outlinewidth": 0,
             "ticks": ""
            },
            "type": "mesh3d"
           }
          ],
          "parcoords": [
           {
            "line": {
             "colorbar": {
              "outlinewidth": 0,
              "ticks": ""
             }
            },
            "type": "parcoords"
           }
          ],
          "pie": [
           {
            "automargin": true,
            "type": "pie"
           }
          ],
          "scatter": [
           {
            "marker": {
             "colorbar": {
              "outlinewidth": 0,
              "ticks": ""
             }
            },
            "type": "scatter"
           }
          ],
          "scatter3d": [
           {
            "line": {
             "colorbar": {
              "outlinewidth": 0,
              "ticks": ""
             }
            },
            "marker": {
             "colorbar": {
              "outlinewidth": 0,
              "ticks": ""
             }
            },
            "type": "scatter3d"
           }
          ],
          "scattercarpet": [
           {
            "marker": {
             "colorbar": {
              "outlinewidth": 0,
              "ticks": ""
             }
            },
            "type": "scattercarpet"
           }
          ],
          "scattergeo": [
           {
            "marker": {
             "colorbar": {
              "outlinewidth": 0,
              "ticks": ""
             }
            },
            "type": "scattergeo"
           }
          ],
          "scattergl": [
           {
            "marker": {
             "colorbar": {
              "outlinewidth": 0,
              "ticks": ""
             }
            },
            "type": "scattergl"
           }
          ],
          "scattermapbox": [
           {
            "marker": {
             "colorbar": {
              "outlinewidth": 0,
              "ticks": ""
             }
            },
            "type": "scattermapbox"
           }
          ],
          "scatterpolar": [
           {
            "marker": {
             "colorbar": {
              "outlinewidth": 0,
              "ticks": ""
             }
            },
            "type": "scatterpolar"
           }
          ],
          "scatterpolargl": [
           {
            "marker": {
             "colorbar": {
              "outlinewidth": 0,
              "ticks": ""
             }
            },
            "type": "scatterpolargl"
           }
          ],
          "scatterternary": [
           {
            "marker": {
             "colorbar": {
              "outlinewidth": 0,
              "ticks": ""
             }
            },
            "type": "scatterternary"
           }
          ],
          "surface": [
           {
            "colorbar": {
             "outlinewidth": 0,
             "ticks": ""
            },
            "colorscale": [
             [
              0,
              "#0d0887"
             ],
             [
              0.1111111111111111,
              "#46039f"
             ],
             [
              0.2222222222222222,
              "#7201a8"
             ],
             [
              0.3333333333333333,
              "#9c179e"
             ],
             [
              0.4444444444444444,
              "#bd3786"
             ],
             [
              0.5555555555555556,
              "#d8576b"
             ],
             [
              0.6666666666666666,
              "#ed7953"
             ],
             [
              0.7777777777777778,
              "#fb9f3a"
             ],
             [
              0.8888888888888888,
              "#fdca26"
             ],
             [
              1,
              "#f0f921"
             ]
            ],
            "type": "surface"
           }
          ],
          "table": [
           {
            "cells": {
             "fill": {
              "color": "#EBF0F8"
             },
             "line": {
              "color": "white"
             }
            },
            "header": {
             "fill": {
              "color": "#C8D4E3"
             },
             "line": {
              "color": "white"
             }
            },
            "type": "table"
           }
          ]
         },
         "layout": {
          "annotationdefaults": {
           "arrowcolor": "#2a3f5f",
           "arrowhead": 0,
           "arrowwidth": 1
          },
          "autotypenumbers": "strict",
          "coloraxis": {
           "colorbar": {
            "outlinewidth": 0,
            "ticks": ""
           }
          },
          "colorscale": {
           "diverging": [
            [
             0,
             "#8e0152"
            ],
            [
             0.1,
             "#c51b7d"
            ],
            [
             0.2,
             "#de77ae"
            ],
            [
             0.3,
             "#f1b6da"
            ],
            [
             0.4,
             "#fde0ef"
            ],
            [
             0.5,
             "#f7f7f7"
            ],
            [
             0.6,
             "#e6f5d0"
            ],
            [
             0.7,
             "#b8e186"
            ],
            [
             0.8,
             "#7fbc41"
            ],
            [
             0.9,
             "#4d9221"
            ],
            [
             1,
             "#276419"
            ]
           ],
           "sequential": [
            [
             0,
             "#0d0887"
            ],
            [
             0.1111111111111111,
             "#46039f"
            ],
            [
             0.2222222222222222,
             "#7201a8"
            ],
            [
             0.3333333333333333,
             "#9c179e"
            ],
            [
             0.4444444444444444,
             "#bd3786"
            ],
            [
             0.5555555555555556,
             "#d8576b"
            ],
            [
             0.6666666666666666,
             "#ed7953"
            ],
            [
             0.7777777777777778,
             "#fb9f3a"
            ],
            [
             0.8888888888888888,
             "#fdca26"
            ],
            [
             1,
             "#f0f921"
            ]
           ],
           "sequentialminus": [
            [
             0,
             "#0d0887"
            ],
            [
             0.1111111111111111,
             "#46039f"
            ],
            [
             0.2222222222222222,
             "#7201a8"
            ],
            [
             0.3333333333333333,
             "#9c179e"
            ],
            [
             0.4444444444444444,
             "#bd3786"
            ],
            [
             0.5555555555555556,
             "#d8576b"
            ],
            [
             0.6666666666666666,
             "#ed7953"
            ],
            [
             0.7777777777777778,
             "#fb9f3a"
            ],
            [
             0.8888888888888888,
             "#fdca26"
            ],
            [
             1,
             "#f0f921"
            ]
           ]
          },
          "colorway": [
           "#636efa",
           "#EF553B",
           "#00cc96",
           "#ab63fa",
           "#FFA15A",
           "#19d3f3",
           "#FF6692",
           "#B6E880",
           "#FF97FF",
           "#FECB52"
          ],
          "font": {
           "color": "#2a3f5f"
          },
          "geo": {
           "bgcolor": "white",
           "lakecolor": "white",
           "landcolor": "#E5ECF6",
           "showlakes": true,
           "showland": true,
           "subunitcolor": "white"
          },
          "hoverlabel": {
           "align": "left"
          },
          "hovermode": "closest",
          "mapbox": {
           "style": "light"
          },
          "paper_bgcolor": "white",
          "plot_bgcolor": "#E5ECF6",
          "polar": {
           "angularaxis": {
            "gridcolor": "white",
            "linecolor": "white",
            "ticks": ""
           },
           "bgcolor": "#E5ECF6",
           "radialaxis": {
            "gridcolor": "white",
            "linecolor": "white",
            "ticks": ""
           }
          },
          "scene": {
           "xaxis": {
            "backgroundcolor": "#E5ECF6",
            "gridcolor": "white",
            "gridwidth": 2,
            "linecolor": "white",
            "showbackground": true,
            "ticks": "",
            "zerolinecolor": "white"
           },
           "yaxis": {
            "backgroundcolor": "#E5ECF6",
            "gridcolor": "white",
            "gridwidth": 2,
            "linecolor": "white",
            "showbackground": true,
            "ticks": "",
            "zerolinecolor": "white"
           },
           "zaxis": {
            "backgroundcolor": "#E5ECF6",
            "gridcolor": "white",
            "gridwidth": 2,
            "linecolor": "white",
            "showbackground": true,
            "ticks": "",
            "zerolinecolor": "white"
           }
          },
          "shapedefaults": {
           "line": {
            "color": "#2a3f5f"
           }
          },
          "ternary": {
           "aaxis": {
            "gridcolor": "white",
            "linecolor": "white",
            "ticks": ""
           },
           "baxis": {
            "gridcolor": "white",
            "linecolor": "white",
            "ticks": ""
           },
           "bgcolor": "#E5ECF6",
           "caxis": {
            "gridcolor": "white",
            "linecolor": "white",
            "ticks": ""
           }
          },
          "title": {
           "x": 0.05
          },
          "xaxis": {
           "automargin": true,
           "gridcolor": "white",
           "linecolor": "white",
           "ticks": "",
           "title": {
            "standoff": 15
           },
           "zerolinecolor": "white",
           "zerolinewidth": 2
          },
          "yaxis": {
           "automargin": true,
           "gridcolor": "white",
           "linecolor": "white",
           "ticks": "",
           "title": {
            "standoff": 15
           },
           "zerolinecolor": "white",
           "zerolinewidth": 2
          }
         }
        },
        "title": {
         "text": "2021 Fish Scatter Map"
        }
       }
      },
      "image/png": "[encoded data removed]",
      "text/html": [
       "<div>                            <div id=\"3c0b88e7-755e-4a17-b445-f80d585c76ad\" class=\"plotly-graph-div\" style=\"height:525px; width:100%;\"></div>            <script type=\"text/javascript\">                require([\"plotly\"], function(Plotly) {                    window.PLOTLYENV=window.PLOTLYENV || {};                                    if (document.getElementById(\"3c0b88e7-755e-4a17-b445-f80d585c76ad\")) {                    Plotly.newPlot(                        \"3c0b88e7-755e-4a17-b445-f80d585c76ad\",                        [{\"customdata\":[[6],[5],[5],[5],[5],[5],[5],[5],[5],[5],[5],[5],[5],[5],[5],[5],[5],[5],[5],[5],[5],[5],[6],[5],[5],[5],[5],[5],[5],[5],[5],[5],[5],[5],[5],[5],[4],[5],[15],[29],[5],[11],[5],[30],[6],[6],[7],[23],[25],[5],[17],[24],[25],[18],[15],[23],[5],[13],[21],[5],[5],[12],[20],[17],[22],[6],[5],[5],[5],[10],[5],[5],[14],[8],[5],[9],[17],[23],[33],[5],[8],[7],[36],[11],[5],[5],[5],[5],[5],[16],[9],[25],[22],[15],[18],[9],[26],[9],[18],[20],[6],[11],[35],[27],[19],[8],[10],[12],[12],[11],[9],[18],[5],[5],[5],[5],[12],[6],[9],[16],[6]],\"hovertemplate\":\"<b>%{hovertext}</b><br><br>Type=Live<br>Location.latitude=%{lat}<br>Location.longitude=%{lon}<br>Location.accuracy=%{customdata[0]}<extra></extra>\",\"hovertext\":[\"2010 Live Coho\",\"100 Live Chum\",\"2000 Live Chum\",\"2000 Live Resident Cutthroat\",\"1960 Live Chum\",\"1950 Live Chum\",\"1900 Live Chum\",\"1875 Live Chum\",\"1850 Live Chum\",\"1780 Live Chum\",\"1700 Live Chum\",\"1675 Live Chum\",\"1620 Live Chum\",\"1610 Live Chum\",\"1450 Live Chum\",\"1450 Live Chum\",\"1475 Live Chum\",\"1450 Live Chum\",\"1450 Live Chum\",\"1400 Live Chum\",\"1350 Live Chum\",\"1250 Live Chum\",\"1210 Live Chum\",\"1155 Live Chum\",\"1125 Live Chum\",\"1100 Live Chum\",\"1060 Live Chum\",\"1050 Live Chum\",\"600 Live Unknown\",\"600 Live Chum\",\"565 Live Chum\",\"425 Live Chum\",\"425 Live Chum\",\"415 Live Chum\",\"415 Live Chum\",\"350 Live Chum\",\"0 Live Chum\",\"0 Live Unknown\",\"525 Live Chum\",\"100 Live Chum\",\"10 Live Unknown\",\"2000 Live Chum\",\"1910 Live Unknown\",\"1910 Live Chum\",\"1908 Live Chum\",\"1900 Live Chum\",\"1875 Live Chum\",\"1800 Live Chum\",\"1750 Live Chum\",\"1700 Live Coho\",\"1650 Live Chum\",\"1650 Live Chum\",\"1600 Live Chum\",\"1605 Live Chum\",\"1605 Live Chum\",\"1600 Live Chum\",\"1500 Live Chum\",\"1500 Live Chum\",\"1500 Live Chum\",\"1405 Live Chum\",\"1405 Live Chum\",\"1400 Live Unknown\",\"1375 Live Chum\",\"1375 Live Chum\",\"1245 Live Chum\",\"1210 Live Chum\",\"1210 Live Chum\",\"1200 Live Chum\",\"1200 Live Chum\",\"1200 Live Chum\",\"1150 Live Chum\",\"1150 Live Chum\",\"1150 Live Chum\",\"1060 Live Chum\",\"1060 Live Chum\",\"1060 Live Chum\",\"1060 Live Chum\",\"950 Live Chum\",\"950 Live Chum\",\"705 Live Unknown\",\"705 Live Unknown\",\"600 Live Unknown\",\"600 Live Unknown\",\"600 Live Chum\",\"550 Live Chum\",\"Live Chum\",\"375 Live Unknown\",\"400 Live Chum\",\"300 Live Chum\",\"300 Live Chum\",\"250 Live Unknown\",\"1695 Live Coho\",\"1470 Live Unknown\",\"1125 Live Chum\",\"980 Live Chum\",\"815 Live Chum\",\"815 Live Chum\",\"945 Live Chum\",\"945 Live Chum\",\"945 Live Chum\",\"715 Live Chum\",\"715 Live Chum\",\"715 Live Chum\",\"695 Live Chum\",\"415 Live Chum\",\"410 Live Chum\",\"410 Live Chum\",\"375 Live Chum\",\"345 Live Chum\",\"300 Live Chum\",\"70 Live Coho\",\"50 Live Chum\",\"0 Live Coho\",\"0 Live Chum\",\"0 Live Chum\",\"0 Live Chum\",\"0 Live Chum\",\"0 Live Chum\",\"0 Live Chum\",\"0 Live Chum\",\"0 Live Chum\"],\"lat\":[47.710734,47.711175,47.710796,47.710799,47.710857,47.710874,47.710828,47.710883,47.710973,47.710922,47.71113,47.711112,47.711161,47.7112,47.711228,47.711161,47.711199,47.711239,47.711189,47.711317,47.711315,47.711244,47.711266,47.711317,47.711348,47.711378,47.7114,47.711416,47.711502,47.711495,47.71163,47.711636,47.71161,47.71161,47.711587,47.711711,47.711723,47.711968,47.711927,47.711364,47.71113,47.710797,47.710951,47.710837,47.710974,47.71096,47.710968,47.71115,47.711149,47.711105,47.711217,47.711285,47.711243,47.71123,47.711262,47.711283,47.71113,47.711134,47.711159,47.711364,47.711219,47.711114,47.71124,47.711267,47.711116,47.711172,47.711136,47.711165,47.71121,47.711156,47.711362,47.711312,47.711424,47.711353,47.711377,47.711406,47.711451,47.711406,47.71139,47.711456,47.711473,47.71151,47.711561,47.711519,47.711633,47.711587,47.711641,47.711633,47.71171,47.71167,47.711699,47.711059,47.71135,47.711365,47.711442,47.711307,47.711333,47.711315,47.711344,47.711356,47.711448,47.711423,47.711612,47.711594,47.711618,47.711653,47.711597,47.711706,47.711703,47.711643,47.71181,47.711898,47.711836,47.711867,47.711822,47.711866,47.711855,47.711831,47.711824,47.711778,47.711845],\"legendgroup\":\"Live\",\"lon\":[-122.371542,-122.371726,-122.371619,-122.3716,-122.371725,-122.37179,-122.372031,-122.37196,-122.37221,-122.372227,-122.37274,-122.37276,-122.372955,-122.372967,-122.373489,-122.373545,-122.373485,-122.373686,-122.373831,-122.373942,-122.374106,-122.374496,-122.374694,-122.374889,-122.374923,-122.374968,-122.375114,-122.375097,-122.37683,-122.376788,-122.377147,-122.37757,-122.377583,-122.377667,-122.377746,-122.378047,-122.378442,-122.379486,-122.370713,-122.371711,-122.371838,-122.371694,-122.371851,-122.371881,-122.371951,-122.371995,-122.371972,-122.372381,-122.372335,-122.372816,-122.372932,-122.372874,-122.372994,-122.373082,-122.373094,-122.373133,-122.373421,-122.373408,-122.373432,-122.373626,-122.373914,-122.374047,-122.374098,-122.373905,-122.374306,-122.374641,-122.374622,-122.374628,-122.374622,-122.374637,-122.374838,-122.374855,-122.374787,-122.375217,-122.375117,-122.375121,-122.375157,-122.375425,-122.375669,-122.376436,-122.376533,-122.376845,-122.376933,-122.377013,-122.377165,-122.377303,-122.377708,-122.377762,-122.378056,-122.37807,-122.378304,-122.372689,-122.373632,-122.374991,-122.375452,-122.375757,-122.375703,-122.375774,-122.37578,-122.375782,-122.376443,-122.376425,-122.376468,-122.376731,-122.377639,-122.377605,-122.377626,-122.377922,-122.378183,-122.378239,-122.37914,-122.379193,-122.379368,-122.379405,-122.379365,-122.379382,-122.379366,-122.379357,-122.379378,-122.37941,-122.379334],\"marker\":{\"color\":\"green\"},\"mode\":\"markers\",\"name\":\"Live\",\"showlegend\":true,\"subplot\":\"mapbox\",\"type\":\"scattermapbox\"},{\"customdata\":[[5],[10],[40],[16],[10],[17],[8],[16],[13],[9],[40],[20],[10],[4],[4],[11],[23],[12],[9],[12],[34],[14],[8],[7],[15],[27],[12]],\"hovertemplate\":\"<b>%{hovertext}</b><br><br>Type=Dead<br>Location.latitude=%{lat}<br>Location.longitude=%{lon}<br>Location.accuracy=%{customdata[0]}<extra></extra>\",\"hovertext\":[\"190 Dead Chum\",\"90 Dead Chum\",\"1985 Dead Coho\",\"1885 Dead Chum\",\"1810 Dead Chum\",\"1710 Dead Chum\",\"1690 Dead Chum\",\"1320 Dead Coho\",\"895 Dead Chum\",\"775 Dead Chum\",\"650 Dead Chum\",\"610 Dead Chum\",\"0 Dead Coho\",\"675 Dead Chum\",\"750 Dead Chum\",\"770 Dead Chum\",\"1490 Dead Chum\",\"1400 Dead Coho\",\"1325 Dead Chum\",\"575 Dead Coho\",\"575 Dead Coho\",\"525 Dead Coho\",\"0 Dead Chum\",\"0 Dead Chum\",\"175 Dead Coho\",\"1875 Dead Coho\",\"60 Dead Coho\"],\"lat\":[47.711289,47.711115,47.710878,47.710902,47.711054,47.711114,47.711162,47.711338,47.711414,47.711346,47.71162,47.711474,47.710343,47.711951,47.711319,47.712336,47.711285,47.711229,47.711299,47.711595,47.711465,47.711568,47.711134,47.711595,47.711146,47.710884,47.711843],\"legendgroup\":\"Dead\",\"lon\":[-122.371657,-122.371797,-122.371621,-122.372164,-122.372384,-122.372663,-122.372883,-122.374358,-122.37595,-122.376287,-122.376875,-122.377032,-122.380988,-122.370519,-122.376502,-122.369986,-122.37359,-122.373978,-122.374233,-122.377001,-122.376942,-122.377243,-122.380493,-122.380298,-122.371832,-122.371999,-122.379118],\"marker\":{\"color\":\"black\"},\"mode\":\"markers\",\"name\":\"Dead\",\"showlegend\":true,\"subplot\":\"mapbox\",\"type\":\"scattermapbox\"},{\"customdata\":[[5],[5],[5],[5],[5],[5],[5],[15],[5],[5],[5],[5]],\"hovertemplate\":\"<b>%{hovertext}</b><br><br>Type=Redd<br>Location.latitude=%{lat}<br>Location.longitude=%{lon}<br>Location.accuracy=%{customdata[0]}<extra></extra>\",\"hovertext\":[\"1970 Redd Unknown\",\"1550 Redd Unknown\",\"1000 Redd Unknown\",\"660 Redd Unknown\",\"535 Redd Unknown\",\"500 Redd Unknown\",\"290 Redd Chum\",\"1450 Redd Unknown\",\"1375 Redd Unknown\",\"815 Redd Unknown\",\"945 Redd Unknown\",\"715 Redd Unknown\"],\"lat\":[47.710668,47.711205,47.711402,47.711534,47.711563,47.711604,47.711704,47.711109,47.711149,47.711336,47.711358,47.711452],\"legendgroup\":\"Redd\",\"lon\":[-122.371529,-122.373354,-122.375324,-122.376601,-122.377164,-122.377251,-122.37803,-122.373722,-122.373958,-122.375792,-122.375746,-122.376451],\"marker\":{\"color\":\"red\"},\"mode\":\"markers\",\"name\":\"Redd\",\"showlegend\":true,\"subplot\":\"mapbox\",\"type\":\"scattermapbox\"},{\"customdata\":[[5]],\"hovertemplate\":\"<b>%{hovertext}</b><br><br>Type=<br>Location.latitude=%{lat}<br>Location.longitude=%{lon}<br>Location.accuracy=%{customdata[0]}<extra></extra>\",\"hovertext\":[\"0 Unknown\"],\"lat\":[47.711605],\"legendgroup\":\"\",\"lon\":[-122.380359],\"marker\":{\"color\":\"#ab63fa\"},\"mode\":\"markers\",\"name\":\"\",\"showlegend\":false,\"subplot\":\"mapbox\",\"type\":\"scattermapbox\"}],                        {\"coloraxis\":{\"showscale\":false},\"legend\":{\"title\":{\"text\":\"Type\"},\"tracegroupgap\":0},\"mapbox\":{\"center\":{\"lat\":47.71157,\"lon\":-122.3759},\"domain\":{\"x\":[0.0,1.0],\"y\":[0.0,1.0]},\"style\":\"stamen-terrain\",\"zoom\":15},\"template\":{\"data\":{\"bar\":[{\"error_x\":{\"color\":\"#2a3f5f\"},\"error_y\":{\"color\":\"#2a3f5f\"},\"marker\":{\"line\":{\"color\":\"#E5ECF6\",\"width\":0.5},\"pattern\":{\"fillmode\":\"overlay\",\"size\":10,\"solidity\":0.2}},\"type\":\"bar\"}],\"barpolar\":[{\"marker\":{\"line\":{\"color\":\"#E5ECF6\",\"width\":0.5},\"pattern\":{\"fillmode\":\"overlay\",\"size\":10,\"solidity\":0.2}},\"type\":\"barpolar\"}],\"carpet\":[{\"aaxis\":{\"endlinecolor\":\"#2a3f5f\",\"gridcolor\":\"white\",\"linecolor\":\"white\",\"minorgridcolor\":\"white\",\"startlinecolor\":\"#2a3f5f\"},\"baxis\":{\"endlinecolor\":\"#2a3f5f\",\"gridcolor\":\"white\",\"linecolor\":\"white\",\"minorgridcolor\":\"white\",\"startlinecolor\":\"#2a3f5f\"},\"type\":\"carpet\"}],\"choropleth\":[{\"colorbar\":{\"outlinewidth\":0,\"ticks\":\"\"},\"type\":\"choropleth\"}],\"contour\":[{\"colorbar\":{\"outlinewidth\":0,\"ticks\":\"\"},\"colorscale\":[[0.0,\"#0d0887\"],[0.1111111111111111,\"#46039f\"],[0.2222222222222222,\"#7201a8\"],[0.3333333333333333,\"#9c179e\"],[0.4444444444444444,\"#bd3786\"],[0.5555555555555556,\"#d8576b\"],[0.6666666666666666,\"#ed7953\"],[0.7777777777777778,\"#fb9f3a\"],[0.8888888888888888,\"#fdca26\"],[1.0,\"#f0f921\"]],\"type\":\"contour\"}],\"contourcarpet\":[{\"colorbar\":{\"outlinewidth\":0,\"ticks\":\"\"},\"type\":\"contourcarpet\"}],\"heatmap\":[{\"colorbar\":{\"outlinewidth\":0,\"ticks\":\"\"},\"colorscale\":[[0.0,\"#0d0887\"],[0.1111111111111111,\"#46039f\"],[0.2222222222222222,\"#7201a8\"],[0.3333333333333333,\"#9c179e\"],[0.4444444444444444,\"#bd3786\"],[0.5555555555555556,\"#d8576b\"],[0.6666666666666666,\"#ed7953\"],[0.7777777777777778,\"#fb9f3a\"],[0.8888888888888888,\"#fdca26\"],[1.0,\"#f0f921\"]],\"type\":\"heatmap\"}],\"heatmapgl\":[{\"colorbar\":{\"outlinewidth\":0,\"ticks\":\"\"},\"colorscale\":[[0.0,\"#0d0887\"],[0.1111111111111111,\"#46039f\"],[0.2222222222222222,\"#7201a8\"],[0.3333333333333333,\"#9c179e\"],[0.4444444444444444,\"#bd3786\"],[0.5555555555555556,\"#d8576b\"],[0.6666666666666666,\"#ed7953\"],[0.7777777777777778,\"#fb9f3a\"],[0.8888888888888888,\"#fdca26\"],[1.0,\"#f0f921\"]],\"type\":\"heatmapgl\"}],\"histogram\":[{\"marker\":{\"pattern\":{\"fillmode\":\"overlay\",\"size\":10,\"solidity\":0.2}},\"type\":\"histogram\"}],\"histogram2d\":[{\"colorbar\":{\"outlinewidth\":0,\"ticks\":\"\"},\"colorscale\":[[0.0,\"#0d0887\"],[0.1111111111111111,\"#46039f\"],[0.2222222222222222,\"#7201a8\"],[0.3333333333333333,\"#9c179e\"],[0.4444444444444444,\"#bd3786\"],[0.5555555555555556,\"#d8576b\"],[0.6666666666666666,\"#ed7953\"],[0.7777777777777778,\"#fb9f3a\"],[0.8888888888888888,\"#fdca26\"],[1.0,\"#f0f921\"]],\"type\":\"histogram2d\"}],\"histogram2dcontour\":[{\"colorbar\":{\"outlinewidth\":0,\"ticks\":\"\"},\"colorscale\":[[0.0,\"#0d0887\"],[0.1111111111111111,\"#46039f\"],[0.2222222222222222,\"#7201a8\"],[0.3333333333333333,\"#9c179e\"],[0.4444444444444444,\"#bd3786\"],[0.5555555555555556,\"#d8576b\"],[0.6666666666666666,\"#ed7953\"],[0.7777777777777778,\"#fb9f3a\"],[0.8888888888888888,\"#fdca26\"],[1.0,\"#f0f921\"]],\"type\":\"histogram2dcontour\"}],\"mesh3d\":[{\"colorbar\":{\"outlinewidth\":0,\"ticks\":\"\"},\"type\":\"mesh3d\"}],\"parcoords\":[{\"line\":{\"colorbar\":{\"outlinewidth\":0,\"ticks\":\"\"}},\"type\":\"parcoords\"}],\"pie\":[{\"automargin\":true,\"type\":\"pie\"}],\"scatter\":[{\"marker\":{\"colorbar\":{\"outlinewidth\":0,\"ticks\":\"\"}},\"type\":\"scatter\"}],\"scatter3d\":[{\"line\":{\"colorbar\":{\"outlinewidth\":0,\"ticks\":\"\"}},\"marker\":{\"colorbar\":{\"outlinewidth\":0,\"ticks\":\"\"}},\"type\":\"scatter3d\"}],\"scattercarpet\":[{\"marker\":{\"colorbar\":{\"outlinewidth\":0,\"ticks\":\"\"}},\"type\":\"scattercarpet\"}],\"scattergeo\":[{\"marker\":{\"colorbar\":{\"outlinewidth\":0,\"ticks\":\"\"}},\"type\":\"scattergeo\"}],\"scattergl\":[{\"marker\":{\"colorbar\":{\"outlinewidth\":0,\"ticks\":\"\"}},\"type\":\"scattergl\"}],\"scattermapbox\":[{\"marker\":{\"colorbar\":{\"outlinewidth\":0,\"ticks\":\"\"}},\"type\":\"scattermapbox\"}],\"scatterpolar\":[{\"marker\":{\"colorbar\":{\"outlinewidth\":0,\"ticks\":\"\"}},\"type\":\"scatterpolar\"}],\"scatterpolargl\":[{\"marker\":{\"colorbar\":{\"outlinewidth\":0,\"ticks\":\"\"}},\"type\":\"scatterpolargl\"}],\"scatterternary\":[{\"marker\":{\"colorbar\":{\"outlinewidth\":0,\"ticks\":\"\"}},\"type\":\"scatterternary\"}],\"surface\":[{\"colorbar\":{\"outlinewidth\":0,\"ticks\":\"\"},\"colorscale\":[[0.0,\"#0d0887\"],[0.1111111111111111,\"#46039f\"],[0.2222222222222222,\"#7201a8\"],[0.3333333333333333,\"#9c179e\"],[0.4444444444444444,\"#bd3786\"],[0.5555555555555556,\"#d8576b\"],[0.6666666666666666,\"#ed7953\"],[0.7777777777777778,\"#fb9f3a\"],[0.8888888888888888,\"#fdca26\"],[1.0,\"#f0f921\"]],\"type\":\"surface\"}],\"table\":[{\"cells\":{\"fill\":{\"color\":\"#EBF0F8\"},\"line\":{\"color\":\"white\"}},\"header\":{\"fill\":{\"color\":\"#C8D4E3\"},\"line\":{\"color\":\"white\"}},\"type\":\"table\"}]},\"layout\":{\"annotationdefaults\":{\"arrowcolor\":\"#2a3f5f\",\"arrowhead\":0,\"arrowwidth\":1},\"autotypenumbers\":\"strict\",\"coloraxis\":{\"colorbar\":{\"outlinewidth\":0,\"ticks\":\"\"}},\"colorscale\":{\"diverging\":[[0,\"#8e0152\"],[0.1,\"#c51b7d\"],[0.2,\"#de77ae\"],[0.3,\"#f1b6da\"],[0.4,\"#fde0ef\"],[0.5,\"#f7f7f7\"],[0.6,\"#e6f5d0\"],[0.7,\"#b8e186\"],[0.8,\"#7fbc41\"],[0.9,\"#4d9221\"],[1,\"#276419\"]],\"sequential\":[[0.0,\"#0d0887\"],[0.1111111111111111,\"#46039f\"],[0.2222222222222222,\"#7201a8\"],[0.3333333333333333,\"#9c179e\"],[0.4444444444444444,\"#bd3786\"],[0.5555555555555556,\"#d8576b\"],[0.6666666666666666,\"#ed7953\"],[0.7777777777777778,\"#fb9f3a\"],[0.8888888888888888,\"#fdca26\"],[1.0,\"#f0f921\"]],\"sequentialminus\":[[0.0,\"#0d0887\"],[0.1111111111111111,\"#46039f\"],[0.2222222222222222,\"#7201a8\"],[0.3333333333333333,\"#9c179e\"],[0.4444444444444444,\"#bd3786\"],[0.5555555555555556,\"#d8576b\"],[0.6666666666666666,\"#ed7953\"],[0.7777777777777778,\"#fb9f3a\"],[0.8888888888888888,\"#fdca26\"],[1.0,\"#f0f921\"]]},\"colorway\":[\"#636efa\",\"#EF553B\",\"#00cc96\",\"#ab63fa\",\"#FFA15A\",\"#19d3f3\",\"#FF6692\",\"#B6E880\",\"#FF97FF\",\"#FECB52\"],\"font\":{\"color\":\"#2a3f5f\"},\"geo\":{\"bgcolor\":\"white\",\"lakecolor\":\"white\",\"landcolor\":\"#E5ECF6\",\"showlakes\":true,\"showland\":true,\"subunitcolor\":\"white\"},\"hoverlabel\":{\"align\":\"left\"},\"hovermode\":\"closest\",\"mapbox\":{\"style\":\"light\"},\"paper_bgcolor\":\"white\",\"plot_bgcolor\":\"#E5ECF6\",\"polar\":{\"angularaxis\":{\"gridcolor\":\"white\",\"linecolor\":\"white\",\"ticks\":\"\"},\"bgcolor\":\"#E5ECF6\",\"radialaxis\":{\"gridcolor\":\"white\",\"linecolor\":\"white\",\"ticks\":\"\"}},\"scene\":{\"xaxis\":{\"backgroundcolor\":\"#E5ECF6\",\"gridcolor\":\"white\",\"gridwidth\":2,\"linecolor\":\"white\",\"showbackground\":true,\"ticks\":\"\",\"zerolinecolor\":\"white\"},\"yaxis\":{\"backgroundcolor\":\"#E5ECF6\",\"gridcolor\":\"white\",\"gridwidth\":2,\"linecolor\":\"white\",\"showbackground\":true,\"ticks\":\"\",\"zerolinecolor\":\"white\"},\"zaxis\":{\"backgroundcolor\":\"#E5ECF6\",\"gridcolor\":\"white\",\"gridwidth\":2,\"linecolor\":\"white\",\"showbackground\":true,\"ticks\":\"\",\"zerolinecolor\":\"white\"}},\"shapedefaults\":{\"line\":{\"color\":\"#2a3f5f\"}},\"ternary\":{\"aaxis\":{\"gridcolor\":\"white\",\"linecolor\":\"white\",\"ticks\":\"\"},\"baxis\":{\"gridcolor\":\"white\",\"linecolor\":\"white\",\"ticks\":\"\"},\"bgcolor\":\"#E5ECF6\",\"caxis\":{\"gridcolor\":\"white\",\"linecolor\":\"white\",\"ticks\":\"\"}},\"title\":{\"x\":0.05},\"xaxis\":{\"automargin\":true,\"gridcolor\":\"white\",\"linecolor\":\"white\",\"ticks\":\"\",\"title\":{\"standoff\":15},\"zerolinecolor\":\"white\",\"zerolinewidth\":2},\"yaxis\":{\"automargin\":true,\"gridcolor\":\"white\",\"linecolor\":\"white\",\"ticks\":\"\",\"title\":{\"standoff\":15},\"zerolinecolor\":\"white\",\"zerolinewidth\":2}}},\"title\":{\"text\":\"2021 Fish Scatter Map\"}},                        {\"responsive\": true}                    ).then(function(){\n",
       "                            \n",
       "var gd = document.getElementById('3c0b88e7-755e-4a17-b445-f80d585c76ad');\n",
       "var x = new MutationObserver(function (mutations, observer) {{\n",
       "        var display = window.getComputedStyle(gd).display;\n",
       "        if (!display || display === 'none') {{\n",
       "            console.log([gd, 'removed!']);\n",
       "            Plotly.purge(gd);\n",
       "            observer.disconnect();\n",
       "        }}\n",
       "}});\n",
       "\n",
       "// Listen for the removal of the full notebook cells\n",
       "var notebookContainer = gd.closest('#notebook-container');\n",
       "if (notebookContainer) {{\n",
       "    x.observe(notebookContainer, {childList: true});\n",
       "}}\n",
       "\n",
       "// Listen for the clearing of the current output cell\n",
       "var outputEl = gd.closest('.output');\n",
       "if (outputEl) {{\n",
       "    x.observe(outputEl, {childList: true});\n",
       "}}\n",
       "\n",
       "                        })                };                });            </script>        </div>"
      ]
     },
     "metadata": {},
     "output_type": "display_data"
    }
   ],
   "source": [
    "def displayScatterMap(salmonDf, figureTitle):    \n",
    "    fig = px.scatter_mapbox(salmonDf, lat='Location.latitude', lon='Location.longitude', color='Type', labels={'Type':'Type'}, color_discrete_map={'Live': 'green', 'Redd': 'red', 'Dead': 'black'},\n",
    "                        center=dict(lat=47.71157, lon=-122.3759), zoom=15, hover_name = 'title', hover_data = ['Location.accuracy'],\n",
    "                        mapbox_style='stamen-terrain', title=figureTitle)\n",
    "    fig.layout.coloraxis.showscale = False\n",
    "    fig.show()\n",
    "def dropInaccurateLocations(salmonDf):\n",
    "    return salmonDf.loc[pd.to_numeric(salmonDf['Location.accuracy']) < 50]\n",
    "mergedDf = pd.merge(salmonDf, surveyDf, how='inner', left_on = 'ec5_parent_uuid', right_on = 'ec5_uuid', suffixes=(None, '_y'))\n",
    "mergedDf.sort_values(by=['Survey_Date'])\n",
    "mostRecentSurveyDate = mergedDf.iloc[0]['Survey_Date']\n",
    "displayScatterMap(dropInaccurateLocations(filterSalmonDf(mergedDf, ('Survey_Date', mostRecentSurveyDate))), mostRecentSurveyDate + ' Fish Scatter Map')\n",
    "displayScatterMap(dropInaccurateLocations(salmonDf), mostRecentSurvey + ' Fish Scatter Map')  "
   ]
  },
  {
   "cell_type": "markdown",
   "metadata": {},
   "source": [
    "### Spawned Chart"
   ]
  },
  {
   "cell_type": "code",
   "execution_count": 64,
   "metadata": {
    "tags": []
   },
   "outputs": [
    {
     "data": {
      "image/png": "[encoded data removed]",
      "text/plain": [
       "<Figure size 432x288 with 1 Axes>"
      ]
     },
     "metadata": {},
     "output_type": "display_data"
    },
    {
     "data": {
      "image/png": "[encoded data removed]",
      "text/plain": [
       "<Figure size 432x288 with 1 Axes>"
      ]
     },
     "metadata": {},
     "output_type": "display_data"
    }
   ],
   "source": [
    "def displaySpawnedChart(salmonDf, species):\n",
    "    try:\n",
    "        deadDf = filterSalmonDf(salmonDf, ('Species', species), ('Type', 'Dead'))\n",
    "        totalDead = deadDf.shape[0]\n",
    "        totalSpawned = filterSalmonDf(deadDf, ('Spawning_Success', 'Spawned')).shape[0]\n",
    "        totalPartialSpawned = filterSalmonDf(deadDf, ('Spawning_Success', 'Partially spawned')).shape[0]\n",
    "        totalUnspawned = filterSalmonDf(deadDf, ('Spawning_Success', 'Unspawned')).shape[0]\n",
    "        totalUnknownSpawned = filterSalmonDf(deadDf, ('Spawning_Success', 'Unknown')).shape[0]\n",
    "        spawnPercentages = [totalSpawned/totalDead*100, totalPartialSpawned/totalDead*100, totalUnspawned/totalDead*100, totalUnknownSpawned/totalDead*100]\n",
    "        pie, ax1 = plt.subplots()\n",
    "        ax1.pie(spawnPercentages, labels=['Spawned', 'Partially Spawned', 'Unspawned', 'Unknown'], autopct='%1.1f%%')\n",
    "        plt.title(mostRecentSurvey + ' ' + species + ' Spawn Percentage')\n",
    "        plt.show()\n",
    "    except ZeroDivisionError:\n",
    "        print('Unable to display spawned chart. No spawning data to display')\n",
    "displaySpawnedChart(salmonDf, 'Chum')\n",
    "displaySpawnedChart(salmonDf, 'Coho')"
   ]
  },
  {
   "cell_type": "markdown",
   "metadata": {},
   "source": [
    "### Year By Year Count"
   ]
  },
  {
   "cell_type": "code",
   "execution_count": 65,
   "metadata": {
    "tags": []
   },
   "outputs": [
    {
     "data": {
      "image/png": "[encoded data removed]",
      "text/plain": [
       "<Figure size 432x288 with 1 Axes>"
      ]
     },
     "metadata": {
      "needs_background": "light"
     },
     "output_type": "display_data"
    }
   ],
   "source": [
    "def displayYearByYearCount(surveyURIs, salmonURIs):\n",
    "\n",
    "#plot each series\n",
    "    fig, ax = plt.subplots()\n",
    "    plt.plot('Survey Date', 'Total', data=statsDfs['2019'], label=\"2019\")\n",
    "    plt.plot('Survey Date', 'Total', data=statsDfs['2020'], label=\"2020\")\n",
    "    plt.plot('Survey Date', 'Total', data=statsDfs['2021'], label=\"2021\")\n",
    "    plt.title('Count by time of year')\n",
    "    plt.ylabel('Count')\n",
    "    plt.xlabel('Survey Date')\n",
    "    plt.xticks(rotation = 45)\n",
    "    plt.legend()\n",
    "    ax.xaxis.set_major_formatter(mdates.DateFormatter('%m-%d'))\n",
    "\n",
    "displayYearByYearCount(surveyURIs, salmonURIs)"
   ]
  },
  {
   "cell_type": "code",
   "execution_count": null,
   "metadata": {},
   "outputs": [],
   "source": []
  }
 ],
 "metadata": {
  "celltoolbar": "Edit Metadata",
  "kernelspec": {
   "display_name": "Python 3 (ipykernel)",
   "language": "python",
   "name": "python3"
  },
  "language_info": {
   "codemirror_mode": {
    "name": "ipython",
    "version": 3
   },
   "file_extension": ".py",
   "mimetype": "text/x-python",
   "name": "python",
   "nbconvert_exporter": "python",
   "pygments_lexer": "ipython3",
   "version": "3.9.5"
  }
 },
 "nbformat": 4,
 "nbformat_minor": 4
}
