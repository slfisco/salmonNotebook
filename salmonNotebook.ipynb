{
 "cells": [
  {
   "cell_type": "code",
   "execution_count": 16,
   "metadata": {
    "scrolled": true
   },
   "outputs": [
    {
     "data": {
      "text/html": [
       "<table border=\"1\" class=\"dataframe\">\n",
       "  <thead>\n",
       "    <tr style=\"text-align: right;\">\n",
       "      <th></th>\n",
       "      <th>Survey Date</th>\n",
       "      <th>Total</th>\n",
       "      <th>Total Live Salmon</th>\n",
       "      <th>Total Dead</th>\n",
       "      <th>Live Chum</th>\n",
       "      <th>Live Coho</th>\n",
       "      <th>Dead Chum</th>\n",
       "      <th>Dead Coho</th>\n",
       "      <th>Remnant</th>\n",
       "      <th>Cutthroat</th>\n",
       "    </tr>\n",
       "  </thead>\n",
       "  <tbody>\n",
       "    <tr>\n",
       "      <th>0</th>\n",
       "      <td>2020-10-15</td>\n",
       "      <td>2</td>\n",
       "      <td>0</td>\n",
       "      <td>1</td>\n",
       "      <td>0</td>\n",
       "      <td>0</td>\n",
       "      <td>0</td>\n",
       "      <td>1</td>\n",
       "      <td>0</td>\n",
       "      <td>0</td>\n",
       "    </tr>\n",
       "    <tr>\n",
       "      <th>1</th>\n",
       "      <td>2020-10-28</td>\n",
       "      <td>5</td>\n",
       "      <td>2</td>\n",
       "      <td>3</td>\n",
       "      <td>2</td>\n",
       "      <td>0</td>\n",
       "      <td>3</td>\n",
       "      <td>0</td>\n",
       "      <td>0</td>\n",
       "      <td>0</td>\n",
       "    </tr>\n",
       "    <tr>\n",
       "      <th>2</th>\n",
       "      <td>2020-10-29</td>\n",
       "      <td>4</td>\n",
       "      <td>4</td>\n",
       "      <td>0</td>\n",
       "      <td>4</td>\n",
       "      <td>0</td>\n",
       "      <td>0</td>\n",
       "      <td>0</td>\n",
       "      <td>0</td>\n",
       "      <td>0</td>\n",
       "    </tr>\n",
       "    <tr>\n",
       "      <th>3</th>\n",
       "      <td>2020-10-31</td>\n",
       "      <td>13</td>\n",
       "      <td>8</td>\n",
       "      <td>2</td>\n",
       "      <td>8</td>\n",
       "      <td>0</td>\n",
       "      <td>1</td>\n",
       "      <td>1</td>\n",
       "      <td>0</td>\n",
       "      <td>3</td>\n",
       "    </tr>\n",
       "    <tr>\n",
       "      <th>4</th>\n",
       "      <td>2020-11-04</td>\n",
       "      <td>36</td>\n",
       "      <td>28</td>\n",
       "      <td>5</td>\n",
       "      <td>28</td>\n",
       "      <td>0</td>\n",
       "      <td>2</td>\n",
       "      <td>3</td>\n",
       "      <td>0</td>\n",
       "      <td>3</td>\n",
       "    </tr>\n",
       "    <tr>\n",
       "      <th>5</th>\n",
       "      <td>2020-11-07</td>\n",
       "      <td>46</td>\n",
       "      <td>39</td>\n",
       "      <td>2</td>\n",
       "      <td>39</td>\n",
       "      <td>0</td>\n",
       "      <td>2</td>\n",
       "      <td>0</td>\n",
       "      <td>3</td>\n",
       "      <td>2</td>\n",
       "    </tr>\n",
       "    <tr>\n",
       "      <th>6</th>\n",
       "      <td>2020-11-11</td>\n",
       "      <td>63</td>\n",
       "      <td>41</td>\n",
       "      <td>18</td>\n",
       "      <td>40</td>\n",
       "      <td>1</td>\n",
       "      <td>17</td>\n",
       "      <td>1</td>\n",
       "      <td>3</td>\n",
       "      <td>0</td>\n",
       "    </tr>\n",
       "    <tr>\n",
       "      <th>7</th>\n",
       "      <td>2020-11-14</td>\n",
       "      <td>95</td>\n",
       "      <td>77</td>\n",
       "      <td>16</td>\n",
       "      <td>76</td>\n",
       "      <td>1</td>\n",
       "      <td>12</td>\n",
       "      <td>4</td>\n",
       "      <td>0</td>\n",
       "      <td>0</td>\n",
       "    </tr>\n",
       "    <tr>\n",
       "      <th>8</th>\n",
       "      <td>2020-11-18</td>\n",
       "      <td>108</td>\n",
       "      <td>75</td>\n",
       "      <td>12</td>\n",
       "      <td>75</td>\n",
       "      <td>0</td>\n",
       "      <td>11</td>\n",
       "      <td>1</td>\n",
       "      <td>3</td>\n",
       "      <td>0</td>\n",
       "    </tr>\n",
       "    <tr>\n",
       "      <th>9</th>\n",
       "      <td>2020-11-21</td>\n",
       "      <td>105</td>\n",
       "      <td>71</td>\n",
       "      <td>34</td>\n",
       "      <td>71</td>\n",
       "      <td>0</td>\n",
       "      <td>34</td>\n",
       "      <td>0</td>\n",
       "      <td>0</td>\n",
       "      <td>0</td>\n",
       "    </tr>\n",
       "  </tbody>\n",
       "</table>"
      ],
      "text/plain": [
       "<IPython.core.display.HTML object>"
      ]
     },
     "metadata": {},
     "output_type": "display_data"
    },
    {
     "name": "stdout",
     "output_type": "stream",
     "text": [
      "Yearly salmon total is: 164\n",
      "Yearly total of Chum is: 153\n",
      "Yearly total of Coho is: 11\n",
      "Calculated based on date: 2020-11-21\n",
      "Based on total dead count: 93 | plus total live count: 71\n"
     ]
    },
    {
     "data": {
      "application/vnd.plotly.v1+json": {
       "config": {
        "plotlyServerURL": "https://plot.ly"
       },
       "data": [
        {
         "coloraxis": "coloraxis",
         "customdata": [
          [
           6
          ],
          [
           7
          ],
          [
           4
          ],
          [
           5
          ],
          [
           5
          ],
          [
           5
          ],
          [
           10
          ],
          [
           5
          ],
          [
           5
          ],
          [
           13
          ],
          [
           10
          ],
          [
           6
          ],
          [
           5
          ],
          [
           7
          ],
          [
           10
          ],
          [
           5
          ],
          [
           5
          ],
          [
           5
          ],
          [
           5
          ],
          [
           5
          ],
          [
           5
          ],
          [
           10
          ],
          [
           5
          ],
          [
           10
          ],
          [
           10
          ],
          [
           5
          ],
          [
           5
          ],
          [
           10
          ],
          [
           13
          ],
          [
           10
          ],
          [
           10
          ],
          [
           4
          ],
          [
           10
          ],
          [
           10
          ],
          [
           10
          ],
          [
           5
          ],
          [
           10
          ],
          [
           10
          ],
          [
           7
          ],
          [
           5
          ],
          [
           5
          ],
          [
           5
          ],
          [
           5
          ],
          [
           5
          ],
          [
           10
          ],
          [
           10
          ],
          [
           10
          ],
          [
           7
          ],
          [
           10
          ],
          [
           5
          ],
          [
           10
          ],
          [
           10
          ],
          [
           5
          ],
          [
           5
          ],
          [
           10
          ],
          [
           5
          ],
          [
           6
          ],
          [
           9
          ],
          [
           5
          ],
          [
           10
          ],
          [
           5
          ],
          [
           9
          ],
          [
           10
          ],
          [
           10
          ],
          [
           11
          ],
          [
           15
          ],
          [
           10
          ],
          [
           10
          ],
          [
           10
          ],
          [
           8
          ],
          [
           10
          ],
          [
           13
          ],
          [
           10
          ],
          [
           17
          ],
          [
           6
          ],
          [
           5
          ],
          [
           10
          ],
          [
           10
          ],
          [
           9
          ],
          [
           6
          ],
          [
           6
          ],
          [
           4
          ],
          [
           5
          ],
          [
           5
          ],
          [
           10
          ],
          [
           12
          ],
          [
           5
          ],
          [
           10
          ],
          [
           5
          ],
          [
           5
          ],
          [
           11
          ],
          [
           5
          ],
          [
           5
          ],
          [
           10
          ],
          [
           7
          ],
          [
           5
          ],
          [
           5
          ],
          [
           9
          ],
          [
           10
          ],
          [
           10
          ],
          [
           5
          ],
          [
           5
          ],
          [
           6
          ],
          [
           5
          ],
          [
           6
          ],
          [
           39
          ],
          [
           16
          ],
          [
           ""
          ],
          [
           ""
          ],
          [
           ""
          ],
          [
           5
          ],
          [
           15
          ],
          [
           5348
          ],
          [
           16
          ],
          [
           60
          ],
          [
           88
          ],
          [
           5
          ],
          [
           5
          ],
          [
           5
          ],
          [
           36
          ],
          [
           9
          ],
          [
           16
          ],
          [
           66
          ],
          [
           ""
          ],
          [
           5
          ],
          [
           10
          ],
          [
           5
          ],
          [
           13
          ],
          [
           21
          ],
          [
           11
          ],
          [
           17
          ],
          [
           30
          ],
          [
           13
          ],
          [
           5
          ],
          [
           5
          ],
          [
           5
          ],
          [
           11
          ],
          [
           5
          ],
          [
           5
          ],
          [
           6
          ],
          [
           9
          ],
          [
           21
          ],
          [
           5
          ],
          [
           12
          ],
          [
           200
          ],
          [
           10
          ],
          [
           20
          ],
          [
           13
          ],
          [
           22
          ],
          [
           102
          ],
          [
           5
          ],
          [
           5
          ],
          [
           5
          ],
          [
           5
          ],
          [
           17
          ],
          [
           57
          ],
          [
           5
          ],
          [
           19
          ],
          [
           33
          ],
          [
           19
          ],
          [
           37
          ],
          [
           5
          ],
          [
           ""
          ],
          [
           18
          ],
          [
           6651
          ],
          [
           200
          ],
          [
           5
          ],
          [
           5
          ],
          [
           6
          ],
          [
           7
          ],
          [
           ""
          ],
          [
           ""
          ],
          [
           27
          ],
          [
           19
          ],
          [
           ""
          ],
          [
           8
          ],
          [
           55
          ],
          [
           5
          ],
          [
           5
          ],
          [
           10
          ],
          [
           5
          ],
          [
           5
          ],
          [
           5
          ],
          [
           5
          ],
          [
           61
          ],
          [
           5
          ],
          [
           14
          ],
          [
           11
          ],
          [
           111
          ],
          [
           8
          ],
          [
           18
          ],
          [
           6
          ],
          [
           9
          ],
          [
           6
          ],
          [
           20
          ],
          [
           5
          ],
          [
           5
          ],
          [
           11
          ],
          [
           5
          ],
          [
           10
          ],
          [
           20
          ],
          [
           23
          ],
          [
           5
          ],
          [
           5
          ],
          [
           5
          ],
          [
           12
          ],
          [
           23
          ],
          [
           9
          ],
          [
           5
          ],
          [
           14
          ],
          [
           6
          ],
          [
           5
          ],
          [
           6
          ],
          [
           10
          ],
          [
           10
          ],
          [
           50
          ],
          [
           50
          ],
          [
           10
          ],
          [
           13
          ],
          [
           10
          ],
          [
           10
          ],
          [
           50
          ],
          [
           30
          ],
          [
           10
          ],
          [
           50
          ],
          [
           15
          ],
          [
           5
          ],
          [
           10
          ],
          [
           10
          ],
          [
           30
          ],
          [
           18
          ],
          [
           12
          ],
          [
           50
          ],
          [
           22
          ],
          [
           5
          ],
          [
           10
          ],
          [
           5
          ],
          [
           10
          ],
          [
           5
          ],
          [
           30
          ],
          [
           5
          ],
          [
           10
          ],
          [
           10
          ],
          [
           10
          ],
          [
           10
          ],
          [
           5
          ],
          [
           5
          ],
          [
           5
          ],
          [
           5
          ],
          [
           5
          ],
          [
           10
          ],
          [
           15
          ],
          [
           30
          ],
          [
           10
          ],
          [
           5
          ],
          [
           5
          ],
          [
           338
          ],
          [
           5
          ],
          [
           10
          ],
          [
           5
          ],
          [
           5
          ],
          [
           5
          ],
          [
           5
          ],
          [
           5
          ],
          [
           5
          ],
          [
           5
          ],
          [
           5
          ],
          [
           5
          ],
          [
           5
          ],
          [
           50
          ],
          [
           5
          ],
          [
           5
          ],
          [
           5
          ],
          [
           30
          ],
          [
           10
          ],
          [
           5
          ],
          [
           5
          ],
          [
           5
          ],
          [
           10
          ],
          [
           5
          ],
          [
           5
          ],
          [
           5
          ],
          [
           5
          ],
          [
           10
          ],
          [
           10
          ],
          [
           8
          ],
          [
           5
          ],
          [
           5
          ],
          [
           5
          ],
          [
           10
          ],
          [
           5
          ],
          [
           5
          ],
          [
           10
          ],
          [
           10
          ],
          [
           5
          ],
          [
           5
          ],
          [
           5
          ],
          [
           5
          ],
          [
           10
          ],
          [
           10
          ],
          [
           5
          ],
          [
           10
          ],
          [
           5
          ],
          [
           50
          ],
          [
           9
          ],
          [
           5
          ],
          [
           10
          ],
          [
           5
          ],
          [
           10
          ],
          [
           7
          ],
          [
           9
          ],
          [
           20
          ],
          [
           ""
          ],
          [
           9
          ],
          [
           8
          ],
          [
           17
          ],
          [
           6
          ],
          [
           6
          ],
          [
           4
          ],
          [
           7
          ],
          [
           9
          ],
          [
           5
          ],
          [
           19
          ],
          [
           9
          ],
          [
           5
          ],
          [
           6
          ],
          [
           4
          ],
          [
           4
          ],
          [
           6
          ],
          [
           7
          ],
          [
           12
          ],
          [
           5
          ],
          [
           ""
          ],
          [
           5
          ],
          [
           8
          ],
          [
           5
          ],
          [
           6
          ],
          [
           5
          ],
          [
           5
          ],
          [
           ""
          ],
          [
           6
          ],
          [
           8
          ],
          [
           12
          ],
          [
           5
          ],
          [
           8
          ],
          [
           5
          ],
          [
           4
          ],
          [
           7
          ],
          [
           5
          ],
          [
           11
          ],
          [
           8
          ],
          [
           11
          ],
          [
           4
          ],
          [
           5
          ],
          [
           5
          ],
          [
           8
          ],
          [
           6
          ],
          [
           6
          ],
          [
           4
          ],
          [
           4
          ],
          [
           4
          ],
          [
           6
          ],
          [
           5
          ],
          [
           5
          ],
          [
           4
          ],
          [
           4
          ],
          [
           8
          ],
          [
           4
          ],
          [
           6
          ],
          [
           4
          ],
          [
           13
          ],
          [
           10
          ],
          [
           14
          ],
          [
           5
          ],
          [
           ""
          ],
          [
           6
          ],
          [
           10
          ],
          [
           5
          ],
          [
           ""
          ],
          [
           ""
          ],
          [
           ""
          ],
          [
           5
          ],
          [
           ""
          ],
          [
           ""
          ],
          [
           ""
          ],
          [
           ""
          ],
          [
           ""
          ],
          [
           10
          ],
          [
           ""
          ],
          [
           ""
          ],
          [
           ""
          ],
          [
           ""
          ],
          [
           ""
          ],
          [
           ""
          ],
          [
           ""
          ],
          [
           5
          ],
          [
           ""
          ],
          [
           ""
          ],
          [
           ""
          ],
          [
           ""
          ],
          [
           ""
          ],
          [
           ""
          ],
          [
           5
          ],
          [
           5
          ],
          [
           ""
          ],
          [
           10
          ],
          [
           ""
          ],
          [
           ""
          ],
          [
           ""
          ],
          [
           ""
          ],
          [
           ""
          ],
          [
           10
          ],
          [
           5
          ],
          [
           ""
          ],
          [
           5
          ],
          [
           ""
          ],
          [
           5731
          ],
          [
           ""
          ],
          [
           ""
          ],
          [
           ""
          ],
          [
           4
          ],
          [
           5
          ],
          [
           5
          ],
          [
           11
          ],
          [
           8
          ],
          [
           5
          ],
          [
           4
          ],
          [
           6
          ],
          [
           9
          ],
          [
           4
          ],
          [
           9
          ],
          [
           5
          ],
          [
           7
          ],
          [
           10
          ],
          [
           8
          ],
          [
           27
          ],
          [
           ""
          ],
          [
           8
          ],
          [
           6
          ],
          [
           6
          ],
          [
           6
          ],
          [
           5
          ],
          [
           11
          ],
          [
           4
          ],
          [
           14
          ],
          [
           4
          ],
          [
           4
          ],
          [
           5
          ],
          [
           ""
          ],
          [
           4
          ],
          [
           5
          ],
          [
           4
          ],
          [
           4
          ],
          [
           14
          ],
          [
           9
          ],
          [
           4
          ],
          [
           8
          ],
          [
           6
          ],
          [
           5
          ],
          [
           4
          ],
          [
           9
          ],
          [
           4
          ],
          [
           3
          ],
          [
           5
          ],
          [
           4
          ],
          [
           4
          ],
          [
           6
          ],
          [
           5
          ],
          [
           4
          ],
          [
           8
          ],
          [
           4
          ],
          [
           8
          ],
          [
           5
          ],
          [
           5
          ],
          [
           5
          ],
          [
           5
          ],
          [
           9
          ]
         ],
         "hovertemplate": "<b>%{hovertext}</b><br><br>15_Location.latitude=%{lat}<br>15_Location.longitude=%{lon}<br>15_Location.accuracy=%{customdata[0]}<extra></extra>",
         "hovertext": [
          "2000 Chum Dead",
          "2000 Chum Dead",
          "2000 Chum Dead",
          "1720 Chum Dead",
          "1940 Chum Live",
          "1940 Chum Live",
          "1940 Chum Live",
          "1925 Chum Live",
          "1925 Chum Live",
          "1670 Chum Dead",
          "1900 Chum Live",
          "1635 Chum Dead",
          "1850 Chum Live",
          "1610 Chum Dead",
          "1725 Chum Live",
          "1700 Chum Live",
          "1515 Chum Dead",
          "1675 Chum Live",
          "1650 Chum Live",
          "1650 Chum Live",
          "1650 Chum Live",
          "1600 Chum Live",
          "1600 Chum Live",
          "1590 Chum Live",
          "1590 Chum Live",
          "1550 Chum Live",
          "1550 Chum Live",
          "1510 Chum Live",
          "1350 Chum Dead",
          "1490 Chum Live",
          "1460 Chum Live",
          "1290 Chum Dead",
          "1460 Chum Live",
          "1440 Chum Live",
          "1420 Chum Live",
          "1420 Chum Live",
          "1420 Chum Live",
          "1410 Chum Live",
          "1225 Chum Dead",
          "1410 Chum Live",
          "1410 Chum Live",
          "1410 Chum Live",
          "1400 Chum Live",
          "1375 Chum Live",
          "1375 Chum Live",
          "1370 Chum Live",
          "1360 Chum Live",
          "1190 Chum Dead",
          "1320 Chum Live",
          "1300 Chum Live",
          "1300 Chum Live",
          "1230 Chum Live",
          "1225 Chum Live",
          "1200 Chum Live",
          "1200 Chum Live",
          "1175 Chum Live",
          "1020 Chum Dead",
          "1010 Chum Dead",
          "1150 Chum Live",
          "1150 Chum Live",
          "1100 Chum Live",
          "975 Chum Dead",
          "1070 Chum Live",
          "1070 Chum Live",
          "800 Chum Dead",
          "730 Chum Dead",
          "950 Chum Live",
          "975 Chum Live",
          "950 Chum Live",
          "545 Chum Dead",
          "875 Chum Live",
          "500 Chum Dead",
          "800 Chum Live",
          "443 Chum Dead",
          "445 Chum Dead",
          "750 Chum Live",
          "750 Chum Live",
          "700 Chum Live",
          "345 Chum Dead",
          "350 Chum Dead",
          "290 Chum Dead",
          "280 Chum Dead",
          "260 Chum Dead",
          "400 Chum Live",
          "400 Chum Live",
          "250 Chum Dead",
          "350 Chum Live",
          "350 Chum Live",
          "315 Chum Live",
          "310 Chum Live",
          "150 Chum Dead",
          "300 Chum Live",
          "300 Chum Live",
          "85 Chum Dead",
          "70 Chum Dead",
          "250 Chum Live",
          "250 Chum Live",
          "0 Chum Dead",
          "200 Chum Live",
          "175 Chum Live",
          "75 Chum Live",
          "0 Chum Dead",
          "0 Chum Dead",
          "50 Chum Live",
          "0 Chum Dead",
          "175 Chum Live",
          "100 Live",
          "2000 Chum Live",
          "2000 Chum Live",
          "2000 Chum Live",
          "2000 Chum Live",
          "2000 Chum Live",
          "2000 Chum Live",
          "1950 Chum Live",
          "1950 Chum Live",
          "1825 Chum Live",
          "1725 Chum Live",
          "1700 Live",
          "1700 Chum Live",
          "1700 Chum Live",
          "1700 Chum Live",
          "1700 Live",
          "1650 Live",
          "1610 Live",
          "1590 Live",
          "1590 Chum Live",
          "1590 Chum Live",
          "1590 Live",
          "1590 Chum Live",
          "1550 Chum Live",
          "1550 Chum Live",
          "1520 Chum Dead",
          "1400 Chum Live",
          "1375 Chum Dead",
          "1375 Chum Live",
          "1375 Chum Live",
          "1375 Chum Live",
          "1250 Chum Live",
          "1250 Chum Live",
          "1250 Chum Live",
          "1250 Chum Live",
          "1250 Chum Live",
          "1200 Chum Live",
          "1200 Live",
          "1200 Chum Live",
          "1100 Chum Live",
          "1100 Chum Live",
          "950 Chum Live",
          "950 Chum Live",
          "900 Chum Live",
          "875 Live",
          "875 Chum Live",
          "875 Live",
          "875 Chum Live",
          "875 Live",
          "800 Chum Live",
          "800 Chum Live",
          "775 Chum Live",
          "750 Live",
          "705 Chum Live",
          "650 Chum Live",
          "615 Chum Live",
          "615 Chum Live",
          "600 Chum Live",
          "600 Live",
          "450 Chum Live",
          "420 Chum Dead",
          "425 Chum Live",
          "425 Chum Live",
          "425 Chum Live",
          "410 Chum Live",
          "410 Chum Live",
          "400 Chum Live",
          "400 Chum Live",
          "375 Chum Live",
          "350 Chum Live",
          "350 Chum Live",
          "350 Chum Live",
          "350 Live",
          "325 Chum Live",
          "315 Chum Live",
          "315 Chum Live",
          "300 Chum Live",
          "300 Chum Live",
          "295 Chum Dead",
          "290 Chum Dead",
          "280 Chum Live",
          "260 Chum Live",
          "260 Chum Live",
          "248 Chum Dead",
          "245 Chum Live",
          "215 Chum Dead",
          "198 Chum Dead",
          "195 Chum Live",
          "195 Chum Live",
          "175 Chum Live",
          "170 Chum Live",
          "170 Chum Live",
          "120 Chum Dead",
          "105 Live",
          "100 Live",
          "95 Chum Dead",
          "95 Chum Live",
          "90 Live",
          "90 Live",
          "90 Unknown Remnant",
          "70 Chum Dead",
          "70 Chum Remnant",
          "40 Chum Live",
          "40 Unknown Remnant",
          "10 Coho Dead",
          "0 Chum Live",
          "0 Chum Live",
          "1760 Chum Live",
          "1375 Chum Live",
          "1375 Chum Live",
          "1350 Chum Live",
          "1300 Chum Live",
          "1350 Chum Dead",
          "1225 Chum Live",
          "1225 Chum Live",
          "1225 Chum Live",
          "1170 Chum Live",
          "1150 Chum Live",
          "1150 Chum Live",
          "1050 Chum Dead",
          "925 Live",
          "925 Chum Live",
          "875 Chum Live",
          "875 Chum Live",
          "750 Chum Dead",
          "620 Chum Dead",
          "650 Chum Live",
          "380 Chum Dead",
          "580 Chum Live",
          "580 Chum Live",
          "350 Coho Dead",
          "500 Chum Live",
          "350 Coho Dead",
          "490 Chum Live",
          "350 Chum Dead",
          "350 Chum Dead",
          "450 Chum Live",
          "450 Chum Live",
          "410 Chum Live",
          "90 Coho Dead",
          "410 Chum Live",
          "400 Chum Live",
          "150 Chum Dead",
          "400 Chum Live",
          "400 Live",
          "120 Chum Dead",
          "380 Chum Live",
          "380 Chum Live",
          "375 Chum Live",
          "375 Chum Live",
          "375 Chum Live",
          "350 Chum Live",
          "350 Chum Live",
          "350 Chum Live",
          "350 Chum Live",
          "350 Chum Live",
          "350 Chum Live",
          "350 Chum Live",
          "350 Chum Live",
          "350 Chum Live",
          "350 Chum Live",
          "350 Chum Live",
          "350 Chum Live",
          "350 Coho Live",
          "25 Chum Dead",
          "310 Chum Live",
          "310 Chum Live",
          "310 Chum Live",
          "310 Chum Live",
          "310 Chum Live",
          "310 Chum Live",
          "310 Chum Live",
          "310 Chum Live",
          "300 Chum Live",
          "300 Chum Live",
          "300 Chum Live",
          "260 Chum Live",
          "260 Chum Live",
          "250 Chum Live",
          "0 Chum Dead",
          "250 Chum Live",
          "250 Chum Live",
          "240 Chum Live",
          "240 Chum Live",
          "200 Chum Live",
          "200 Chum Live",
          "200 Chum Live",
          "0 Chum Dead",
          "190 Chum Live",
          "190 Chum Live",
          "190 Chum Live",
          "180 Chum Live",
          "180 Chum Live",
          "125 Chum Live",
          "120 Chum Live",
          "120 Chum Live",
          "60 Chum Live",
          "75 Chum Live",
          "0 Coho Dead",
          "40 Chum Live",
          "40 Chum Live",
          "30 Chum Live",
          "1150 Chum Live",
          "880 Chum Live",
          "745 Chum Dead",
          "625 Chum Live",
          "410 Chum Live",
          "410 Chum Live",
          "410 Chum Live",
          "410 Chum Live",
          "410 Chum Live",
          "410 Chum Live",
          "410 Chum Live",
          "390 Chum Dead",
          "390 Chum Dead",
          "380 Chum Dead",
          "380 Chum Live",
          "380 Chum Live",
          "370 Chum Dead",
          "350 Chum Live",
          "350 Chum Live",
          "350 Chum Live",
          "325 Chum Live",
          "325 Chum Live",
          "325 Chum Live",
          "290 Chum Live",
          "290 Chum Live",
          "280 Coho Dead",
          "280 Chum Live",
          "280 Chum Live",
          "260 Chum Live",
          "260 Chum Live",
          "260 Chum Live",
          "250 Live",
          "250 Chum Live",
          "250 Chum Live",
          "130 Chum Remnant",
          "130 Chum Dead",
          "102 Chum Dead",
          "105 Coho Live",
          "90 Chum Live",
          "80 Chum Live",
          "80 Chum Live",
          "68 Chum Dead",
          "68 Chum Dead",
          "67 Chum Dead",
          "67 Chum Remnant",
          "67 Chum Dead",
          "65 Chum Dead",
          "62 Chum Remnant",
          "60 Chum Live",
          "60 Chum Live",
          "40 Chum Live",
          "10 Chum Dead",
          "0 Chum Live",
          "0 Chum Live",
          "0 Chum Live",
          "0 Chum Live",
          "0 Chum Live",
          "0 Chum Live",
          "0 Chum Live",
          "0 Chum Dead",
          "0 Chum Dead",
          "0 Chum Dead",
          "0 Chum Dead",
          "1600 Cutthroat Live",
          "1010 Chum Dead",
          "975 Cutthroat Live",
          "1550 Coho Remnant",
          "575 Chum Live",
          "575 Chum Live",
          "575 Chum Live",
          "1020 Chum Remnant",
          "1020 Chum Remnant",
          "410 Chum Live",
          "375 Chum Live",
          "350 Chum Live",
          "350 Chum Live",
          "350 Chum Live",
          "350 Chum Live",
          "350 Chum Live",
          "350 Chum Live",
          "320 Chum Live",
          "320 Chum Live",
          "320 Chum Live",
          "320 Chum Live",
          "320 Chum Live",
          "320 Chum Live",
          "320 Chum Live",
          "320 Chum Live",
          "320 Chum Live",
          "300 Chum Live",
          "300 Chum Live",
          "300 Chum Live",
          "300 Chum Live",
          "300 Chum Live",
          "300 Chum Live",
          "260 Chum Live",
          "100 Chum Dead",
          "180 Chum Live",
          "180 Chum Live",
          "180 Chum Live",
          "180 Chum Live",
          "180 Chum Live",
          "180 Chum Live",
          "180 Chum Live",
          "100 Chum Live",
          "50 Chum Live",
          "50 Chum Live",
          "50 Chum Live",
          "40 Chum Live",
          "1460 Coho Dead",
          "975 Chum Live",
          "880 Chum Live",
          "1940 Cutthroat Live",
          "1675 Coho Dead",
          "1675 Coho Dead",
          "795 Chum Live",
          "775 Cutthroat Live",
          "765 Chum Live",
          "765 Chum Live",
          "540 Chum Live",
          "540 Chum Live",
          "400 Cutthroat Live",
          "395 Chum Live",
          "395 Chum Live",
          "380 Chum Live",
          "380 Chum Live",
          "375 Chum Live",
          "370 Chum Live",
          "315 Chum Live",
          "315 Chum Live",
          "290 Chum Live",
          "250 Chum Live",
          "100 Chum Live",
          "85 Chum Live",
          "62 Chum Live",
          "62 Chum Live",
          "42 Chum Live",
          "12 Chum Live",
          "12 Chum Live",
          "0 Chum Live",
          "0 Chum Live",
          "0 Chum Live",
          "0 Chum Live",
          "0 Chum Dead",
          "0 Chum Dead",
          "1465 Cutthroat Live",
          "1380 Cutthroat Live",
          "705 Cutthroat Live",
          "195 Chum Live",
          "195 Chum Live",
          "80 Chum Dead",
          "50 Chum Live",
          "45 Chum Live",
          "45 Chum Live",
          "45 Chum Live",
          "0 Chum Live",
          "0 Chum Live",
          "0 Coho Dead",
          "1375 Chum Live",
          "0 Chum Live",
          "0 Chum Live",
          "0 Chum Live",
          "0 Chum Live",
          "0 Chum Live",
          "103 Chum Dead",
          "65 Chum Dead",
          "55 Chum Dead",
          "1100 Unknown Live",
          "675 Coho Dead"
         ],
         "lat": [
          47.71076,
          47.710798,
          47.710766,
          47.711037,
          47.71077,
          47.710812,
          47.710916,
          47.710973,
          47.710954,
          47.711052,
          47.710921,
          47.711262,
          47.711021,
          47.711206,
          47.711167,
          47.711094,
          47.711121,
          47.711152,
          47.711152,
          47.711152,
          47.711148,
          47.711248,
          47.711248,
          47.711248,
          47.711193,
          47.711195,
          47.711195,
          47.711402,
          47.711144,
          47.711229,
          47.711152,
          47.711303,
          47.711328,
          47.711421,
          47.71124,
          47.711235,
          47.711284,
          47.711374,
          47.711267,
          47.711374,
          47.711317,
          47.711365,
          47.711358,
          47.711282,
          47.711282,
          47.711281,
          47.711225,
          47.711336,
          47.711035,
          47.711459,
          47.711561,
          47.711224,
          47.71126,
          47.711267,
          47.711267,
          47.711232,
          47.711464,
          47.711435,
          47.71138,
          47.71138,
          47.711052,
          47.71175,
          47.711456,
          47.711458,
          47.711637,
          47.711742,
          47.711688,
          47.711522,
          47.711645,
          47.711614,
          47.711535,
          47.711576,
          47.711543,
          47.711511,
          47.711482,
          47.711525,
          47.711577,
          47.711469,
          47.711641,
          47.711725,
          47.711638,
          47.711663,
          47.711824,
          47.711582,
          47.711582,
          47.711832,
          47.711639,
          47.711606,
          47.711679,
          47.711567,
          47.711785,
          47.711665,
          47.711594,
          47.711879,
          47.711822,
          47.711674,
          47.711674,
          47.711846,
          47.711741,
          47.711752,
          47.711784,
          47.711957,
          47.711971,
          47.711886,
          47.71198,
          47.711531,
          47.71112,
          "",
          "",
          "",
          47.710798,
          47.710729,
          47.700696,
          47.710883,
          47.711038,
          47.710982,
          47.71101,
          47.711035,
          47.711051,
          47.71109,
          47.71113,
          47.711105,
          47.711107,
          "",
          47.711237,
          47.711276,
          47.711087,
          47.71109,
          47.711273,
          47.711335,
          47.711231,
          47.711193,
          47.711123,
          47.711079,
          47.711131,
          47.711142,
          47.711115,
          47.711231,
          47.71129,
          47.711295,
          47.711272,
          47.711266,
          47.711243,
          47.711209,
          47.710154,
          47.711302,
          47.711157,
          47.711403,
          47.711335,
          47.711697,
          47.711566,
          47.711522,
          47.711461,
          47.711527,
          47.711562,
          47.711407,
          47.711417,
          47.711434,
          47.711437,
          47.711514,
          47.711419,
          47.711497,
          "",
          47.711254,
          47.745754,
          47.712143,
          47.711636,
          47.71177,
          47.711627,
          47.711611,
          "",
          "",
          47.711615,
          47.711635,
          "",
          47.711674,
          47.711583,
          47.711705,
          47.711716,
          47.711662,
          47.711702,
          47.711686,
          47.711662,
          47.71176,
          47.711678,
          47.711793,
          47.711756,
          47.71175,
          47.711605,
          47.711752,
          47.711833,
          47.711683,
          47.711789,
          47.711787,
          47.711765,
          47.711692,
          47.711718,
          47.711775,
          47.71186,
          47.711861,
          47.711898,
          47.711722,
          47.711867,
          47.711839,
          47.711886,
          47.711812,
          47.711817,
          47.711809,
          47.711786,
          47.711822,
          47.711843,
          47.712053,
          47.712066,
          47.711025,
          47.711156,
          47.710317,
          47.711276,
          47.71157,
          47.711275,
          47.711243,
          47.711302,
          47.711015,
          47.711306,
          47.711345,
          47.711334,
          47.711415,
          47.711463,
          47.711098,
          47.711365,
          47.711724,
          47.711534,
          47.711549,
          47.71118,
          47.711561,
          47.711634,
          47.711699,
          47.711777,
          47.711574,
          47.711732,
          47.711737,
          47.71172,
          47.71176,
          47.711689,
          47.711316,
          47.711511,
          47.711724,
          47.711607,
          47.711606,
          47.711752,
          47.711538,
          47.711501,
          47.711731,
          47.711754,
          47.7118,
          47.711681,
          47.711681,
          47.711676,
          47.711695,
          47.711626,
          47.711713,
          47.711713,
          47.711713,
          47.711713,
          47.711713,
          47.711713,
          47.711713,
          47.711713,
          47.711713,
          47.711811,
          47.711864,
          47.71194,
          47.711659,
          47.71166,
          47.711563,
          47.711711,
          47.711728,
          47.711699,
          47.711686,
          47.711677,
          47.711644,
          47.711644,
          47.711691,
          47.711737,
          47.711463,
          47.711529,
          47.711832,
          47.711724,
          47.711703,
          47.711608,
          47.711706,
          47.711751,
          47.711788,
          47.711828,
          47.711625,
          47.711843,
          47.711843,
          47.711828,
          47.711768,
          47.711768,
          47.711792,
          47.711761,
          47.711736,
          47.711903,
          47.711889,
          47.711002,
          47.711907,
          47.711883,
          47.711848,
          47.711424,
          47.711373,
          47.711429,
          47.711126,
          "",
          47.711662,
          47.711618,
          47.711686,
          47.711639,
          47.711658,
          47.711661,
          47.711671,
          47.711654,
          47.711672,
          47.711698,
          47.711628,
          47.711606,
          47.7116,
          47.711615,
          47.711617,
          47.711637,
          47.711629,
          47.711773,
          47.711699,
          "",
          47.711763,
          47.711774,
          47.711744,
          47.711713,
          47.711753,
          47.711739,
          "",
          47.711781,
          47.711714,
          47.711801,
          47.71185,
          47.712065,
          47.711842,
          47.71186,
          47.71185,
          47.711845,
          47.711773,
          47.711827,
          47.711807,
          47.711826,
          47.711848,
          47.711866,
          47.711894,
          47.711856,
          47.711893,
          47.711899,
          47.711862,
          47.71185,
          47.711872,
          47.711902,
          47.711829,
          47.711889,
          47.711894,
          47.711897,
          47.711759,
          47.710977,
          47.711154,
          47.711573,
          47.711382,
          47.711849,
          47.711311,
          "",
          47.711516,
          47.711699,
          47.711706,
          "",
          "",
          "",
          47.711675,
          "",
          "",
          "",
          "",
          "",
          47.711717,
          "",
          "",
          "",
          "",
          "",
          "",
          "",
          47.711694,
          "",
          "",
          "",
          "",
          "",
          "",
          47.711623,
          47.711642,
          "",
          47.711801,
          "",
          "",
          "",
          "",
          "",
          47.711816,
          47.711838,
          "",
          47.711827,
          "",
          47.758856,
          "",
          "",
          "",
          47.710893,
          47.71106,
          47.711076,
          47.711321,
          47.711484,
          47.711404,
          47.711404,
          47.711609,
          47.711536,
          47.711654,
          47.711751,
          47.71175,
          47.711603,
          47.711539,
          47.71153,
          47.711463,
          "",
          47.711744,
          47.711747,
          47.711787,
          47.711755,
          47.711811,
          47.711762,
          47.711802,
          47.711802,
          47.711886,
          47.71182,
          47.711813,
          "",
          47.711777,
          47.711788,
          47.711432,
          47.711734,
          47.711166,
          47.711494,
          47.711524,
          47.711791,
          47.711781,
          47.711861,
          47.71184,
          47.7119,
          47.711897,
          47.711891,
          47.711866,
          47.711868,
          47.711493,
          47.711192,
          47.711854,
          47.711849,
          47.711771,
          47.711835,
          47.711817,
          47.711844,
          47.711777,
          47.711788,
          47.711432,
          47.711594
         ],
         "lon": [
          -122.371593,
          -122.371638,
          -122.371661,
          -122.37255,
          -122.371934,
          -122.371904,
          -122.371844,
          -122.371875,
          -122.371905,
          -122.372827,
          -122.371992,
          -122.372971,
          -122.372307,
          -122.373163,
          -122.37276,
          -122.372788,
          -122.373354,
          -122.373063,
          -122.373063,
          -122.373063,
          -122.373044,
          -122.373272,
          -122.373272,
          -122.373272,
          -122.373403,
          -122.373454,
          -122.373454,
          -122.373492,
          -122.373987,
          -122.373655,
          -122.37365,
          -122.374389,
          -122.373856,
          -122.374003,
          -122.373842,
          -122.373819,
          -122.373872,
          -122.373941,
          -122.374666,
          -122.373941,
          -122.373905,
          -122.373964,
          -122.374006,
          -122.374081,
          -122.374081,
          -122.374067,
          -122.373817,
          -122.374699,
          -122.374264,
          -122.374341,
          -122.374392,
          -122.374587,
          -122.374683,
          -122.374668,
          -122.374668,
          -122.374848,
          -122.37529,
          -122.375225,
          -122.37463,
          -122.37463,
          -122.375009,
          -122.375619,
          -122.375009,
          -122.37497,
          -122.376474,
          -122.376596,
          -122.375466,
          -122.37548,
          -122.375419,
          -122.377186,
          -122.375753,
          -122.377129,
          -122.376351,
          -122.377707,
          -122.377707,
          -122.376578,
          -122.376641,
          -122.376494,
          -122.377868,
          -122.378008,
          -122.378107,
          -122.378139,
          -122.378357,
          -122.377732,
          -122.377732,
          -122.37832,
          -122.377918,
          -122.377885,
          -122.378021,
          -122.378012,
          -122.378905,
          -122.378209,
          -122.378141,
          -122.379043,
          -122.379156,
          -122.378469,
          -122.378469,
          -122.379363,
          -122.37847,
          -122.378765,
          -122.379149,
          -122.379708,
          -122.379719,
          -122.379352,
          -122.37972,
          -122.37171,
          -122.371752,
          "",
          "",
          "",
          -122.371584,
          -122.371478,
          -122.386803,
          -122.371953,
          -122.371911,
          -122.3719,
          -122.372501,
          -122.372548,
          -122.372544,
          -122.372255,
          -122.372603,
          -122.372634,
          -122.372814,
          "",
          -122.372999,
          -122.373033,
          -122.373051,
          -122.373117,
          -122.373034,
          -122.373398,
          -122.373422,
          -122.373467,
          -122.374026,
          -122.374039,
          -122.374053,
          -122.37403,
          -122.374097,
          -122.374468,
          -122.37443,
          -122.374315,
          -122.374365,
          -122.374393,
          -122.374888,
          -122.374798,
          -122.375048,
          -122.375159,
          -122.375164,
          -122.375413,
          -122.375573,
          -122.375831,
          -122.375895,
          -122.375916,
          -122.375808,
          -122.375921,
          -122.375901,
          -122.376093,
          -122.376177,
          -122.37623,
          -122.376185,
          -122.376411,
          -122.376754,
          -122.376795,
          "",
          -122.376931,
          -122.394985,
          -122.377329,
          -122.377727,
          -122.377675,
          -122.377675,
          -122.377739,
          "",
          "",
          -122.377737,
          -122.377804,
          "",
          -122.377899,
          -122.377928,
          -122.378001,
          -122.378028,
          -122.377991,
          -122.3782,
          -122.378205,
          -122.378224,
          -122.378227,
          -122.378155,
          -122.378388,
          -122.378352,
          -122.378382,
          -122.378409,
          -122.378481,
          -122.378408,
          -122.378535,
          -122.378691,
          -122.378715,
          -122.378613,
          -122.378844,
          -122.378799,
          -122.378818,
          -122.379002,
          -122.37904,
          -122.379035,
          -122.378988,
          -122.379004,
          -122.379051,
          -122.379007,
          -122.379017,
          -122.379125,
          -122.379147,
          -122.37927,
          -122.379271,
          -122.37946,
          -122.379898,
          -122.37991,
          -122.372765,
          -122.374234,
          -122.374104,
          -122.37469,
          -122.374594,
          -122.374187,
          -122.37462,
          -122.374562,
          -122.374221,
          -122.374697,
          -122.374731,
          -122.375038,
          -122.375058,
          -122.375754,
          -122.375808,
          -122.37603,
          -122.375558,
          -122.37659,
          -122.376758,
          -122.37545,
          -122.377954,
          -122.377003,
          -122.377052,
          -122.378029,
          -122.377483,
          -122.378037,
          -122.377651,
          -122.377987,
          -122.378035,
          -122.377755,
          -122.377676,
          -122.37778,
          -122.378551,
          -122.377817,
          -122.377879,
          -122.378506,
          -122.377634,
          -122.37799,
          -122.378595,
          -122.377693,
          -122.377971,
          -122.378007,
          -122.378007,
          -122.37801,
          -122.378032,
          -122.37798,
          -122.378037,
          -122.378037,
          -122.378037,
          -122.378037,
          -122.378037,
          -122.378037,
          -122.378037,
          -122.378037,
          -122.378037,
          -122.378064,
          -122.378098,
          -122.379503,
          -122.378105,
          -122.378113,
          -122.378051,
          -122.378216,
          -122.378192,
          -122.378182,
          -122.378172,
          -122.378191,
          -122.378222,
          -122.378222,
          -122.378208,
          -122.378349,
          -122.378114,
          -122.378425,
          -122.380041,
          -122.378329,
          -122.378343,
          -122.378409,
          -122.378318,
          -122.378682,
          -122.378662,
          -122.378686,
          -122.380145,
          -122.378701,
          -122.378701,
          -122.378714,
          -122.378919,
          -122.378919,
          -122.379008,
          -122.379014,
          -122.378956,
          -122.379204,
          -122.379302,
          -122.380471,
          -122.379288,
          -122.379279,
          -122.379272,
          -122.374952,
          -122.376155,
          -122.376342,
          -122.377003,
          "",
          -122.377802,
          -122.377738,
          -122.37751,
          -122.377793,
          -122.377798,
          -122.377794,
          -122.377956,
          -122.377882,
          -122.377873,
          -122.377927,
          -122.377935,
          -122.37801,
          -122.37801,
          -122.378027,
          -122.378027,
          -122.378168,
          -122.378122,
          -122.378063,
          -122.378288,
          "",
          -122.378268,
          -122.378231,
          -122.37833,
          -122.37828,
          -122.37819,
          -122.378199,
          "",
          -122.378233,
          -122.378321,
          -122.378947,
          -122.37902,
          -122.378978,
          -122.379125,
          -122.379089,
          -122.379105,
          -122.379024,
          -122.378839,
          -122.379139,
          -122.379153,
          -122.379155,
          -122.379058,
          -122.379133,
          -122.37922,
          -122.379131,
          -122.379164,
          -122.379367,
          -122.379375,
          -122.379451,
          -122.379461,
          -122.379501,
          -122.379462,
          -122.379423,
          -122.379434,
          -122.379464,
          -122.379865,
          -122.38082,
          -122.3806,
          -122.380097,
          -122.372915,
          -122.37637,
          -122.375618,
          "",
          -122.377212,
          -122.377191,
          -122.377199,
          "",
          "",
          "",
          -122.377826,
          "",
          "",
          "",
          "",
          "",
          -122.377886,
          "",
          "",
          "",
          "",
          "",
          "",
          "",
          -122.378187,
          "",
          "",
          "",
          "",
          "",
          "",
          -122.378225,
          -122.378376,
          "",
          -122.378648,
          "",
          "",
          "",
          "",
          "",
          -122.378688,
          -122.379079,
          "",
          -122.379241,
          "",
          -122.390006,
          "",
          "",
          "",
          -122.371806,
          -122.372837,
          -122.372833,
          -122.376332,
          -122.376314,
          -122.376327,
          -122.376326,
          -122.377418,
          -122.377358,
          -122.377827,
          -122.37788,
          -122.377894,
          -122.37792,
          -122.377945,
          -122.377938,
          -122.377936,
          "",
          -122.378151,
          -122.378099,
          -122.378334,
          -122.379058,
          -122.379075,
          -122.379163,
          -122.379187,
          -122.379333,
          -122.379367,
          -122.379368,
          -122.379461,
          "",
          -122.379482,
          -122.379511,
          -122.380071,
          -122.380114,
          -122.373588,
          -122.373945,
          -122.376548,
          -122.378644,
          -122.37863,
          -122.379128,
          -122.379255,
          -122.379324,
          -122.379278,
          -122.379302,
          -122.379434,
          -122.37941,
          -122.38019,
          -122.373986,
          -122.379418,
          -122.379416,
          -122.379434,
          -122.379379,
          -122.379313,
          -122.379055,
          -122.37928,
          -122.37927,
          -122.375119,
          -122.376806
         ],
         "name": "",
         "radius": 15,
         "subplot": "mapbox",
         "type": "densitymapbox"
        }
       ],
       "layout": {
        "coloraxis": {
         "colorscale": [
          [
           0,
           "#0d0887"
          ],
          [
           0.1111111111111111,
           "#46039f"
          ],
          [
           0.2222222222222222,
           "#7201a8"
          ],
          [
           0.3333333333333333,
           "#9c179e"
          ],
          [
           0.4444444444444444,
           "#bd3786"
          ],
          [
           0.5555555555555556,
           "#d8576b"
          ],
          [
           0.6666666666666666,
           "#ed7953"
          ],
          [
           0.7777777777777778,
           "#fb9f3a"
          ],
          [
           0.8888888888888888,
           "#fdca26"
          ],
          [
           1,
           "#f0f921"
          ]
         ],
         "showscale": false
        },
        "legend": {
         "tracegroupgap": 0
        },
        "mapbox": {
         "center": {
          "lat": 47.71157,
          "lon": -122.3759
         },
         "domain": {
          "x": [
           0,
           1
          ],
          "y": [
           0,
           1
          ]
         },
         "style": "stamen-terrain",
         "zoom": 15
        },
        "template": {
         "data": {
          "bar": [
           {
            "error_x": {
             "color": "#2a3f5f"
            },
            "error_y": {
             "color": "#2a3f5f"
            },
            "marker": {
             "line": {
              "color": "#E5ECF6",
              "width": 0.5
             }
            },
            "type": "bar"
           }
          ],
          "barpolar": [
           {
            "marker": {
             "line": {
              "color": "#E5ECF6",
              "width": 0.5
             }
            },
            "type": "barpolar"
           }
          ],
          "carpet": [
           {
            "aaxis": {
             "endlinecolor": "#2a3f5f",
             "gridcolor": "white",
             "linecolor": "white",
             "minorgridcolor": "white",
             "startlinecolor": "#2a3f5f"
            },
            "baxis": {
             "endlinecolor": "#2a3f5f",
             "gridcolor": "white",
             "linecolor": "white",
             "minorgridcolor": "white",
             "startlinecolor": "#2a3f5f"
            },
            "type": "carpet"
           }
          ],
          "choropleth": [
           {
            "colorbar": {
             "outlinewidth": 0,
             "ticks": ""
            },
            "type": "choropleth"
           }
          ],
          "contour": [
           {
            "colorbar": {
             "outlinewidth": 0,
             "ticks": ""
            },
            "colorscale": [
             [
              0,
              "#0d0887"
             ],
             [
              0.1111111111111111,
              "#46039f"
             ],
             [
              0.2222222222222222,
              "#7201a8"
             ],
             [
              0.3333333333333333,
              "#9c179e"
             ],
             [
              0.4444444444444444,
              "#bd3786"
             ],
             [
              0.5555555555555556,
              "#d8576b"
             ],
             [
              0.6666666666666666,
              "#ed7953"
             ],
             [
              0.7777777777777778,
              "#fb9f3a"
             ],
             [
              0.8888888888888888,
              "#fdca26"
             ],
             [
              1,
              "#f0f921"
             ]
            ],
            "type": "contour"
           }
          ],
          "contourcarpet": [
           {
            "colorbar": {
             "outlinewidth": 0,
             "ticks": ""
            },
            "type": "contourcarpet"
           }
          ],
          "heatmap": [
           {
            "colorbar": {
             "outlinewidth": 0,
             "ticks": ""
            },
            "colorscale": [
             [
              0,
              "#0d0887"
             ],
             [
              0.1111111111111111,
              "#46039f"
             ],
             [
              0.2222222222222222,
              "#7201a8"
             ],
             [
              0.3333333333333333,
              "#9c179e"
             ],
             [
              0.4444444444444444,
              "#bd3786"
             ],
             [
              0.5555555555555556,
              "#d8576b"
             ],
             [
              0.6666666666666666,
              "#ed7953"
             ],
             [
              0.7777777777777778,
              "#fb9f3a"
             ],
             [
              0.8888888888888888,
              "#fdca26"
             ],
             [
              1,
              "#f0f921"
             ]
            ],
            "type": "heatmap"
           }
          ],
          "heatmapgl": [
           {
            "colorbar": {
             "outlinewidth": 0,
             "ticks": ""
            },
            "colorscale": [
             [
              0,
              "#0d0887"
             ],
             [
              0.1111111111111111,
              "#46039f"
             ],
             [
              0.2222222222222222,
              "#7201a8"
             ],
             [
              0.3333333333333333,
              "#9c179e"
             ],
             [
              0.4444444444444444,
              "#bd3786"
             ],
             [
              0.5555555555555556,
              "#d8576b"
             ],
             [
              0.6666666666666666,
              "#ed7953"
             ],
             [
              0.7777777777777778,
              "#fb9f3a"
             ],
             [
              0.8888888888888888,
              "#fdca26"
             ],
             [
              1,
              "#f0f921"
             ]
            ],
            "type": "heatmapgl"
           }
          ],
          "histogram": [
           {
            "marker": {
             "colorbar": {
              "outlinewidth": 0,
              "ticks": ""
             }
            },
            "type": "histogram"
           }
          ],
          "histogram2d": [
           {
            "colorbar": {
             "outlinewidth": 0,
             "ticks": ""
            },
            "colorscale": [
             [
              0,
              "#0d0887"
             ],
             [
              0.1111111111111111,
              "#46039f"
             ],
             [
              0.2222222222222222,
              "#7201a8"
             ],
             [
              0.3333333333333333,
              "#9c179e"
             ],
             [
              0.4444444444444444,
              "#bd3786"
             ],
             [
              0.5555555555555556,
              "#d8576b"
             ],
             [
              0.6666666666666666,
              "#ed7953"
             ],
             [
              0.7777777777777778,
              "#fb9f3a"
             ],
             [
              0.8888888888888888,
              "#fdca26"
             ],
             [
              1,
              "#f0f921"
             ]
            ],
            "type": "histogram2d"
           }
          ],
          "histogram2dcontour": [
           {
            "colorbar": {
             "outlinewidth": 0,
             "ticks": ""
            },
            "colorscale": [
             [
              0,
              "#0d0887"
             ],
             [
              0.1111111111111111,
              "#46039f"
             ],
             [
              0.2222222222222222,
              "#7201a8"
             ],
             [
              0.3333333333333333,
              "#9c179e"
             ],
             [
              0.4444444444444444,
              "#bd3786"
             ],
             [
              0.5555555555555556,
              "#d8576b"
             ],
             [
              0.6666666666666666,
              "#ed7953"
             ],
             [
              0.7777777777777778,
              "#fb9f3a"
             ],
             [
              0.8888888888888888,
              "#fdca26"
             ],
             [
              1,
              "#f0f921"
             ]
            ],
            "type": "histogram2dcontour"
           }
          ],
          "mesh3d": [
           {
            "colorbar": {
             "outlinewidth": 0,
             "ticks": ""
            },
            "type": "mesh3d"
           }
          ],
          "parcoords": [
           {
            "line": {
             "colorbar": {
              "outlinewidth": 0,
              "ticks": ""
             }
            },
            "type": "parcoords"
           }
          ],
          "pie": [
           {
            "automargin": true,
            "type": "pie"
           }
          ],
          "scatter": [
           {
            "marker": {
             "colorbar": {
              "outlinewidth": 0,
              "ticks": ""
             }
            },
            "type": "scatter"
           }
          ],
          "scatter3d": [
           {
            "line": {
             "colorbar": {
              "outlinewidth": 0,
              "ticks": ""
             }
            },
            "marker": {
             "colorbar": {
              "outlinewidth": 0,
              "ticks": ""
             }
            },
            "type": "scatter3d"
           }
          ],
          "scattercarpet": [
           {
            "marker": {
             "colorbar": {
              "outlinewidth": 0,
              "ticks": ""
             }
            },
            "type": "scattercarpet"
           }
          ],
          "scattergeo": [
           {
            "marker": {
             "colorbar": {
              "outlinewidth": 0,
              "ticks": ""
             }
            },
            "type": "scattergeo"
           }
          ],
          "scattergl": [
           {
            "marker": {
             "colorbar": {
              "outlinewidth": 0,
              "ticks": ""
             }
            },
            "type": "scattergl"
           }
          ],
          "scattermapbox": [
           {
            "marker": {
             "colorbar": {
              "outlinewidth": 0,
              "ticks": ""
             }
            },
            "type": "scattermapbox"
           }
          ],
          "scatterpolar": [
           {
            "marker": {
             "colorbar": {
              "outlinewidth": 0,
              "ticks": ""
             }
            },
            "type": "scatterpolar"
           }
          ],
          "scatterpolargl": [
           {
            "marker": {
             "colorbar": {
              "outlinewidth": 0,
              "ticks": ""
             }
            },
            "type": "scatterpolargl"
           }
          ],
          "scatterternary": [
           {
            "marker": {
             "colorbar": {
              "outlinewidth": 0,
              "ticks": ""
             }
            },
            "type": "scatterternary"
           }
          ],
          "surface": [
           {
            "colorbar": {
             "outlinewidth": 0,
             "ticks": ""
            },
            "colorscale": [
             [
              0,
              "#0d0887"
             ],
             [
              0.1111111111111111,
              "#46039f"
             ],
             [
              0.2222222222222222,
              "#7201a8"
             ],
             [
              0.3333333333333333,
              "#9c179e"
             ],
             [
              0.4444444444444444,
              "#bd3786"
             ],
             [
              0.5555555555555556,
              "#d8576b"
             ],
             [
              0.6666666666666666,
              "#ed7953"
             ],
             [
              0.7777777777777778,
              "#fb9f3a"
             ],
             [
              0.8888888888888888,
              "#fdca26"
             ],
             [
              1,
              "#f0f921"
             ]
            ],
            "type": "surface"
           }
          ],
          "table": [
           {
            "cells": {
             "fill": {
              "color": "#EBF0F8"
             },
             "line": {
              "color": "white"
             }
            },
            "header": {
             "fill": {
              "color": "#C8D4E3"
             },
             "line": {
              "color": "white"
             }
            },
            "type": "table"
           }
          ]
         },
         "layout": {
          "annotationdefaults": {
           "arrowcolor": "#2a3f5f",
           "arrowhead": 0,
           "arrowwidth": 1
          },
          "coloraxis": {
           "colorbar": {
            "outlinewidth": 0,
            "ticks": ""
           }
          },
          "colorscale": {
           "diverging": [
            [
             0,
             "#8e0152"
            ],
            [
             0.1,
             "#c51b7d"
            ],
            [
             0.2,
             "#de77ae"
            ],
            [
             0.3,
             "#f1b6da"
            ],
            [
             0.4,
             "#fde0ef"
            ],
            [
             0.5,
             "#f7f7f7"
            ],
            [
             0.6,
             "#e6f5d0"
            ],
            [
             0.7,
             "#b8e186"
            ],
            [
             0.8,
             "#7fbc41"
            ],
            [
             0.9,
             "#4d9221"
            ],
            [
             1,
             "#276419"
            ]
           ],
           "sequential": [
            [
             0,
             "#0d0887"
            ],
            [
             0.1111111111111111,
             "#46039f"
            ],
            [
             0.2222222222222222,
             "#7201a8"
            ],
            [
             0.3333333333333333,
             "#9c179e"
            ],
            [
             0.4444444444444444,
             "#bd3786"
            ],
            [
             0.5555555555555556,
             "#d8576b"
            ],
            [
             0.6666666666666666,
             "#ed7953"
            ],
            [
             0.7777777777777778,
             "#fb9f3a"
            ],
            [
             0.8888888888888888,
             "#fdca26"
            ],
            [
             1,
             "#f0f921"
            ]
           ],
           "sequentialminus": [
            [
             0,
             "#0d0887"
            ],
            [
             0.1111111111111111,
             "#46039f"
            ],
            [
             0.2222222222222222,
             "#7201a8"
            ],
            [
             0.3333333333333333,
             "#9c179e"
            ],
            [
             0.4444444444444444,
             "#bd3786"
            ],
            [
             0.5555555555555556,
             "#d8576b"
            ],
            [
             0.6666666666666666,
             "#ed7953"
            ],
            [
             0.7777777777777778,
             "#fb9f3a"
            ],
            [
             0.8888888888888888,
             "#fdca26"
            ],
            [
             1,
             "#f0f921"
            ]
           ]
          },
          "colorway": [
           "#636efa",
           "#EF553B",
           "#00cc96",
           "#ab63fa",
           "#FFA15A",
           "#19d3f3",
           "#FF6692",
           "#B6E880",
           "#FF97FF",
           "#FECB52"
          ],
          "font": {
           "color": "#2a3f5f"
          },
          "geo": {
           "bgcolor": "white",
           "lakecolor": "white",
           "landcolor": "#E5ECF6",
           "showlakes": true,
           "showland": true,
           "subunitcolor": "white"
          },
          "hoverlabel": {
           "align": "left"
          },
          "hovermode": "closest",
          "mapbox": {
           "style": "light"
          },
          "paper_bgcolor": "white",
          "plot_bgcolor": "#E5ECF6",
          "polar": {
           "angularaxis": {
            "gridcolor": "white",
            "linecolor": "white",
            "ticks": ""
           },
           "bgcolor": "#E5ECF6",
           "radialaxis": {
            "gridcolor": "white",
            "linecolor": "white",
            "ticks": ""
           }
          },
          "scene": {
           "xaxis": {
            "backgroundcolor": "#E5ECF6",
            "gridcolor": "white",
            "gridwidth": 2,
            "linecolor": "white",
            "showbackground": true,
            "ticks": "",
            "zerolinecolor": "white"
           },
           "yaxis": {
            "backgroundcolor": "#E5ECF6",
            "gridcolor": "white",
            "gridwidth": 2,
            "linecolor": "white",
            "showbackground": true,
            "ticks": "",
            "zerolinecolor": "white"
           },
           "zaxis": {
            "backgroundcolor": "#E5ECF6",
            "gridcolor": "white",
            "gridwidth": 2,
            "linecolor": "white",
            "showbackground": true,
            "ticks": "",
            "zerolinecolor": "white"
           }
          },
          "shapedefaults": {
           "line": {
            "color": "#2a3f5f"
           }
          },
          "ternary": {
           "aaxis": {
            "gridcolor": "white",
            "linecolor": "white",
            "ticks": ""
           },
           "baxis": {
            "gridcolor": "white",
            "linecolor": "white",
            "ticks": ""
           },
           "bgcolor": "#E5ECF6",
           "caxis": {
            "gridcolor": "white",
            "linecolor": "white",
            "ticks": ""
           }
          },
          "title": {
           "x": 0.05
          },
          "xaxis": {
           "automargin": true,
           "gridcolor": "white",
           "linecolor": "white",
           "ticks": "",
           "title": {
            "standoff": 15
           },
           "zerolinecolor": "white",
           "zerolinewidth": 2
          },
          "yaxis": {
           "automargin": true,
           "gridcolor": "white",
           "linecolor": "white",
           "ticks": "",
           "title": {
            "standoff": 15
           },
           "zerolinecolor": "white",
           "zerolinewidth": 2
          }
         }
        },
        "title": {
         "text": "Fish Heat Map"
        }
       }
      },
      "text/html": [
       "<div>                            <div id=\"6c209518-5cd0-4a36-a23c-f66d60bad811\" class=\"plotly-graph-div\" style=\"height:525px; width:100%;\"></div>            <script type=\"text/javascript\">                require([\"plotly\"], function(Plotly) {                    window.PLOTLYENV=window.PLOTLYENV || {};                                    if (document.getElementById(\"6c209518-5cd0-4a36-a23c-f66d60bad811\")) {                    Plotly.newPlot(                        \"6c209518-5cd0-4a36-a23c-f66d60bad811\",                        [{\"coloraxis\": \"coloraxis\", \"customdata\": [[6], [7], [4], [5], [5], [5], [10], [5], [5], [13], [10], [6], [5], [7], [10], [5], [5], [5], [5], [5], [5], [10], [5], [10], [10], [5], [5], [10], [13], [10], [10], [4], [10], [10], [10], [5], [10], [10], [7], [5], [5], [5], [5], [5], [10], [10], [10], [7], [10], [5], [10], [10], [5], [5], [10], [5], [6], [9], [5], [10], [5], [9], [10], [10], [11], [15], [10], [10], [10], [8], [10], [13], [10], [17], [6], [5], [10], [10], [9], [6], [6], [4], [5], [5], [10], [12], [5], [10], [5], [5], [11], [5], [5], [10], [7], [5], [5], [9], [10], [10], [5], [5], [6], [5], [6], [39], [16], [\"\"], [\"\"], [\"\"], [5], [15], [5348], [16], [60], [88], [5], [5], [5], [36], [9], [16], [66], [\"\"], [5], [10], [5], [13], [21], [11], [17], [30], [13], [5], [5], [5], [11], [5], [5], [6], [9], [21], [5], [12], [200], [10], [20], [13], [22], [102], [5], [5], [5], [5], [17], [57], [5], [19], [33], [19], [37], [5], [\"\"], [18], [6651], [200], [5], [5], [6], [7], [\"\"], [\"\"], [27], [19], [\"\"], [8], [55], [5], [5], [10], [5], [5], [5], [5], [61], [5], [14], [11], [111], [8], [18], [6], [9], [6], [20], [5], [5], [11], [5], [10], [20], [23], [5], [5], [5], [12], [23], [9], [5], [14], [6], [5], [6], [10], [10], [50], [50], [10], [13], [10], [10], [50], [30], [10], [50], [15], [5], [10], [10], [30], [18], [12], [50], [22], [5], [10], [5], [10], [5], [30], [5], [10], [10], [10], [10], [5], [5], [5], [5], [5], [10], [15], [30], [10], [5], [5], [338], [5], [10], [5], [5], [5], [5], [5], [5], [5], [5], [5], [5], [50], [5], [5], [5], [30], [10], [5], [5], [5], [10], [5], [5], [5], [5], [10], [10], [8], [5], [5], [5], [10], [5], [5], [10], [10], [5], [5], [5], [5], [10], [10], [5], [10], [5], [50], [9], [5], [10], [5], [10], [7], [9], [20], [\"\"], [9], [8], [17], [6], [6], [4], [7], [9], [5], [19], [9], [5], [6], [4], [4], [6], [7], [12], [5], [\"\"], [5], [8], [5], [6], [5], [5], [\"\"], [6], [8], [12], [5], [8], [5], [4], [7], [5], [11], [8], [11], [4], [5], [5], [8], [6], [6], [4], [4], [4], [6], [5], [5], [4], [4], [8], [4], [6], [4], [13], [10], [14], [5], [\"\"], [6], [10], [5], [\"\"], [\"\"], [\"\"], [5], [\"\"], [\"\"], [\"\"], [\"\"], [\"\"], [10], [\"\"], [\"\"], [\"\"], [\"\"], [\"\"], [\"\"], [\"\"], [5], [\"\"], [\"\"], [\"\"], [\"\"], [\"\"], [\"\"], [5], [5], [\"\"], [10], [\"\"], [\"\"], [\"\"], [\"\"], [\"\"], [10], [5], [\"\"], [5], [\"\"], [5731], [\"\"], [\"\"], [\"\"], [4], [5], [5], [11], [8], [5], [4], [6], [9], [4], [9], [5], [7], [10], [8], [27], [\"\"], [8], [6], [6], [6], [5], [11], [4], [14], [4], [4], [5], [\"\"], [4], [5], [4], [4], [14], [9], [4], [8], [6], [5], [4], [9], [4], [3], [5], [4], [4], [6], [5], [4], [8], [4], [8], [5], [5], [5], [5], [9]], \"hovertemplate\": \"<b>%{hovertext}</b><br><br>15_Location.latitude=%{lat}<br>15_Location.longitude=%{lon}<br>15_Location.accuracy=%{customdata[0]}<extra></extra>\", \"hovertext\": [\"2000 Chum Dead\", \"2000 Chum Dead\", \"2000 Chum Dead\", \"1720 Chum Dead\", \"1940 Chum Live\", \"1940 Chum Live\", \"1940 Chum Live\", \"1925 Chum Live\", \"1925 Chum Live\", \"1670 Chum Dead\", \"1900 Chum Live\", \"1635 Chum Dead\", \"1850 Chum Live\", \"1610 Chum Dead\", \"1725 Chum Live\", \"1700 Chum Live\", \"1515 Chum Dead\", \"1675 Chum Live\", \"1650 Chum Live\", \"1650 Chum Live\", \"1650 Chum Live\", \"1600 Chum Live\", \"1600 Chum Live\", \"1590 Chum Live\", \"1590 Chum Live\", \"1550 Chum Live\", \"1550 Chum Live\", \"1510 Chum Live\", \"1350 Chum Dead\", \"1490 Chum Live\", \"1460 Chum Live\", \"1290 Chum Dead\", \"1460 Chum Live\", \"1440 Chum Live\", \"1420 Chum Live\", \"1420 Chum Live\", \"1420 Chum Live\", \"1410 Chum Live\", \"1225 Chum Dead\", \"1410 Chum Live\", \"1410 Chum Live\", \"1410 Chum Live\", \"1400 Chum Live\", \"1375 Chum Live\", \"1375 Chum Live\", \"1370 Chum Live\", \"1360 Chum Live\", \"1190 Chum Dead\", \"1320 Chum Live\", \"1300 Chum Live\", \"1300 Chum Live\", \"1230 Chum Live\", \"1225 Chum Live\", \"1200 Chum Live\", \"1200 Chum Live\", \"1175 Chum Live\", \"1020 Chum Dead\", \"1010 Chum Dead\", \"1150 Chum Live\", \"1150 Chum Live\", \"1100 Chum Live\", \"975 Chum Dead\", \"1070 Chum Live\", \"1070 Chum Live\", \"800 Chum Dead\", \"730 Chum Dead\", \"950 Chum Live\", \"975 Chum Live\", \"950 Chum Live\", \"545 Chum Dead\", \"875 Chum Live\", \"500 Chum Dead\", \"800 Chum Live\", \"443 Chum Dead\", \"445 Chum Dead\", \"750 Chum Live\", \"750 Chum Live\", \"700 Chum Live\", \"345 Chum Dead\", \"350 Chum Dead\", \"290 Chum Dead\", \"280 Chum Dead\", \"260 Chum Dead\", \"400 Chum Live\", \"400 Chum Live\", \"250 Chum Dead\", \"350 Chum Live\", \"350 Chum Live\", \"315 Chum Live\", \"310 Chum Live\", \"150 Chum Dead\", \"300 Chum Live\", \"300 Chum Live\", \"85 Chum Dead\", \"70 Chum Dead\", \"250 Chum Live\", \"250 Chum Live\", \"0 Chum Dead\", \"200 Chum Live\", \"175 Chum Live\", \"75 Chum Live\", \"0 Chum Dead\", \"0 Chum Dead\", \"50 Chum Live\", \"0 Chum Dead\", \"175 Chum Live\", \"100 Live\", \"2000 Chum Live\", \"2000 Chum Live\", \"2000 Chum Live\", \"2000 Chum Live\", \"2000 Chum Live\", \"2000 Chum Live\", \"1950 Chum Live\", \"1950 Chum Live\", \"1825 Chum Live\", \"1725 Chum Live\", \"1700 Live\", \"1700 Chum Live\", \"1700 Chum Live\", \"1700 Chum Live\", \"1700 Live\", \"1650 Live\", \"1610 Live\", \"1590 Live\", \"1590 Chum Live\", \"1590 Chum Live\", \"1590 Live\", \"1590 Chum Live\", \"1550 Chum Live\", \"1550 Chum Live\", \"1520 Chum Dead\", \"1400 Chum Live\", \"1375 Chum Dead\", \"1375 Chum Live\", \"1375 Chum Live\", \"1375 Chum Live\", \"1250 Chum Live\", \"1250 Chum Live\", \"1250 Chum Live\", \"1250 Chum Live\", \"1250 Chum Live\", \"1200 Chum Live\", \"1200 Live\", \"1200 Chum Live\", \"1100 Chum Live\", \"1100 Chum Live\", \"950 Chum Live\", \"950 Chum Live\", \"900 Chum Live\", \"875 Live\", \"875 Chum Live\", \"875 Live\", \"875 Chum Live\", \"875 Live\", \"800 Chum Live\", \"800 Chum Live\", \"775 Chum Live\", \"750 Live\", \"705 Chum Live\", \"650 Chum Live\", \"615 Chum Live\", \"615 Chum Live\", \"600 Chum Live\", \"600 Live\", \"450 Chum Live\", \"420 Chum Dead\", \"425 Chum Live\", \"425 Chum Live\", \"425 Chum Live\", \"410 Chum Live\", \"410 Chum Live\", \"400 Chum Live\", \"400 Chum Live\", \"375 Chum Live\", \"350 Chum Live\", \"350 Chum Live\", \"350 Chum Live\", \"350 Live\", \"325 Chum Live\", \"315 Chum Live\", \"315 Chum Live\", \"300 Chum Live\", \"300 Chum Live\", \"295 Chum Dead\", \"290 Chum Dead\", \"280 Chum Live\", \"260 Chum Live\", \"260 Chum Live\", \"248 Chum Dead\", \"245 Chum Live\", \"215 Chum Dead\", \"198 Chum Dead\", \"195 Chum Live\", \"195 Chum Live\", \"175 Chum Live\", \"170 Chum Live\", \"170 Chum Live\", \"120 Chum Dead\", \"105 Live\", \"100 Live\", \"95 Chum Dead\", \"95 Chum Live\", \"90 Live\", \"90 Live\", \"90 Unknown Remnant\", \"70 Chum Dead\", \"70 Chum Remnant\", \"40 Chum Live\", \"40 Unknown Remnant\", \"10 Coho Dead\", \"0 Chum Live\", \"0 Chum Live\", \"1760 Chum Live\", \"1375 Chum Live\", \"1375 Chum Live\", \"1350 Chum Live\", \"1300 Chum Live\", \"1350 Chum Dead\", \"1225 Chum Live\", \"1225 Chum Live\", \"1225 Chum Live\", \"1170 Chum Live\", \"1150 Chum Live\", \"1150 Chum Live\", \"1050 Chum Dead\", \"925 Live\", \"925 Chum Live\", \"875 Chum Live\", \"875 Chum Live\", \"750 Chum Dead\", \"620 Chum Dead\", \"650 Chum Live\", \"380 Chum Dead\", \"580 Chum Live\", \"580 Chum Live\", \"350 Coho Dead\", \"500 Chum Live\", \"350 Coho Dead\", \"490 Chum Live\", \"350 Chum Dead\", \"350 Chum Dead\", \"450 Chum Live\", \"450 Chum Live\", \"410 Chum Live\", \"90 Coho Dead\", \"410 Chum Live\", \"400 Chum Live\", \"150 Chum Dead\", \"400 Chum Live\", \"400 Live\", \"120 Chum Dead\", \"380 Chum Live\", \"380 Chum Live\", \"375 Chum Live\", \"375 Chum Live\", \"375 Chum Live\", \"350 Chum Live\", \"350 Chum Live\", \"350 Chum Live\", \"350 Chum Live\", \"350 Chum Live\", \"350 Chum Live\", \"350 Chum Live\", \"350 Chum Live\", \"350 Chum Live\", \"350 Chum Live\", \"350 Chum Live\", \"350 Chum Live\", \"350 Coho Live\", \"25 Chum Dead\", \"310 Chum Live\", \"310 Chum Live\", \"310 Chum Live\", \"310 Chum Live\", \"310 Chum Live\", \"310 Chum Live\", \"310 Chum Live\", \"310 Chum Live\", \"300 Chum Live\", \"300 Chum Live\", \"300 Chum Live\", \"260 Chum Live\", \"260 Chum Live\", \"250 Chum Live\", \"0 Chum Dead\", \"250 Chum Live\", \"250 Chum Live\", \"240 Chum Live\", \"240 Chum Live\", \"200 Chum Live\", \"200 Chum Live\", \"200 Chum Live\", \"0 Chum Dead\", \"190 Chum Live\", \"190 Chum Live\", \"190 Chum Live\", \"180 Chum Live\", \"180 Chum Live\", \"125 Chum Live\", \"120 Chum Live\", \"120 Chum Live\", \"60 Chum Live\", \"75 Chum Live\", \"0 Coho Dead\", \"40 Chum Live\", \"40 Chum Live\", \"30 Chum Live\", \"1150 Chum Live\", \"880 Chum Live\", \"745 Chum Dead\", \"625 Chum Live\", \"410 Chum Live\", \"410 Chum Live\", \"410 Chum Live\", \"410 Chum Live\", \"410 Chum Live\", \"410 Chum Live\", \"410 Chum Live\", \"390 Chum Dead\", \"390 Chum Dead\", \"380 Chum Dead\", \"380 Chum Live\", \"380 Chum Live\", \"370 Chum Dead\", \"350 Chum Live\", \"350 Chum Live\", \"350 Chum Live\", \"325 Chum Live\", \"325 Chum Live\", \"325 Chum Live\", \"290 Chum Live\", \"290 Chum Live\", \"280 Coho Dead\", \"280 Chum Live\", \"280 Chum Live\", \"260 Chum Live\", \"260 Chum Live\", \"260 Chum Live\", \"250 Live\", \"250 Chum Live\", \"250 Chum Live\", \"130 Chum Remnant\", \"130 Chum Dead\", \"102 Chum Dead\", \"105 Coho Live\", \"90 Chum Live\", \"80 Chum Live\", \"80 Chum Live\", \"68 Chum Dead\", \"68 Chum Dead\", \"67 Chum Dead\", \"67 Chum Remnant\", \"67 Chum Dead\", \"65 Chum Dead\", \"62 Chum Remnant\", \"60 Chum Live\", \"60 Chum Live\", \"40 Chum Live\", \"10 Chum Dead\", \"0 Chum Live\", \"0 Chum Live\", \"0 Chum Live\", \"0 Chum Live\", \"0 Chum Live\", \"0 Chum Live\", \"0 Chum Live\", \"0 Chum Dead\", \"0 Chum Dead\", \"0 Chum Dead\", \"0 Chum Dead\", \"1600 Cutthroat Live\", \"1010 Chum Dead\", \"975 Cutthroat Live\", \"1550 Coho Remnant\", \"575 Chum Live\", \"575 Chum Live\", \"575 Chum Live\", \"1020 Chum Remnant\", \"1020 Chum Remnant\", \"410 Chum Live\", \"375 Chum Live\", \"350 Chum Live\", \"350 Chum Live\", \"350 Chum Live\", \"350 Chum Live\", \"350 Chum Live\", \"350 Chum Live\", \"320 Chum Live\", \"320 Chum Live\", \"320 Chum Live\", \"320 Chum Live\", \"320 Chum Live\", \"320 Chum Live\", \"320 Chum Live\", \"320 Chum Live\", \"320 Chum Live\", \"300 Chum Live\", \"300 Chum Live\", \"300 Chum Live\", \"300 Chum Live\", \"300 Chum Live\", \"300 Chum Live\", \"260 Chum Live\", \"100 Chum Dead\", \"180 Chum Live\", \"180 Chum Live\", \"180 Chum Live\", \"180 Chum Live\", \"180 Chum Live\", \"180 Chum Live\", \"180 Chum Live\", \"100 Chum Live\", \"50 Chum Live\", \"50 Chum Live\", \"50 Chum Live\", \"40 Chum Live\", \"1460 Coho Dead\", \"975 Chum Live\", \"880 Chum Live\", \"1940 Cutthroat Live\", \"1675 Coho Dead\", \"1675 Coho Dead\", \"795 Chum Live\", \"775 Cutthroat Live\", \"765 Chum Live\", \"765 Chum Live\", \"540 Chum Live\", \"540 Chum Live\", \"400 Cutthroat Live\", \"395 Chum Live\", \"395 Chum Live\", \"380 Chum Live\", \"380 Chum Live\", \"375 Chum Live\", \"370 Chum Live\", \"315 Chum Live\", \"315 Chum Live\", \"290 Chum Live\", \"250 Chum Live\", \"100 Chum Live\", \"85 Chum Live\", \"62 Chum Live\", \"62 Chum Live\", \"42 Chum Live\", \"12 Chum Live\", \"12 Chum Live\", \"0 Chum Live\", \"0 Chum Live\", \"0 Chum Live\", \"0 Chum Live\", \"0 Chum Dead\", \"0 Chum Dead\", \"1465 Cutthroat Live\", \"1380 Cutthroat Live\", \"705 Cutthroat Live\", \"195 Chum Live\", \"195 Chum Live\", \"80 Chum Dead\", \"50 Chum Live\", \"45 Chum Live\", \"45 Chum Live\", \"45 Chum Live\", \"0 Chum Live\", \"0 Chum Live\", \"0 Coho Dead\", \"1375 Chum Live\", \"0 Chum Live\", \"0 Chum Live\", \"0 Chum Live\", \"0 Chum Live\", \"0 Chum Live\", \"103 Chum Dead\", \"65 Chum Dead\", \"55 Chum Dead\", \"1100 Unknown Live\", \"675 Coho Dead\"], \"lat\": [47.71076, 47.710798, 47.710766, 47.711037, 47.71077, 47.710812, 47.710916, 47.710973, 47.710954, 47.711052, 47.710921, 47.711262, 47.711021, 47.711206, 47.711167, 47.711094, 47.711121, 47.711152, 47.711152, 47.711152, 47.711148, 47.711248, 47.711248, 47.711248, 47.711193, 47.711195, 47.711195, 47.711402, 47.711144, 47.711229, 47.711152, 47.711303, 47.711328, 47.711421, 47.71124, 47.711235, 47.711284, 47.711374, 47.711267, 47.711374, 47.711317, 47.711365, 47.711358, 47.711282, 47.711282, 47.711281, 47.711225, 47.711336, 47.711035, 47.711459, 47.711561, 47.711224, 47.71126, 47.711267, 47.711267, 47.711232, 47.711464, 47.711435, 47.71138, 47.71138, 47.711052, 47.71175, 47.711456, 47.711458, 47.711637, 47.711742, 47.711688, 47.711522, 47.711645, 47.711614, 47.711535, 47.711576, 47.711543, 47.711511, 47.711482, 47.711525, 47.711577, 47.711469, 47.711641, 47.711725, 47.711638, 47.711663, 47.711824, 47.711582, 47.711582, 47.711832, 47.711639, 47.711606, 47.711679, 47.711567, 47.711785, 47.711665, 47.711594, 47.711879, 47.711822, 47.711674, 47.711674, 47.711846, 47.711741, 47.711752, 47.711784, 47.711957, 47.711971, 47.711886, 47.71198, 47.711531, 47.71112, \"\", \"\", \"\", 47.710798, 47.710729, 47.700696, 47.710883, 47.711038, 47.710982, 47.71101, 47.711035, 47.711051, 47.71109, 47.71113, 47.711105, 47.711107, \"\", 47.711237, 47.711276, 47.711087, 47.71109, 47.711273, 47.711335, 47.711231, 47.711193, 47.711123, 47.711079, 47.711131, 47.711142, 47.711115, 47.711231, 47.71129, 47.711295, 47.711272, 47.711266, 47.711243, 47.711209, 47.710154, 47.711302, 47.711157, 47.711403, 47.711335, 47.711697, 47.711566, 47.711522, 47.711461, 47.711527, 47.711562, 47.711407, 47.711417, 47.711434, 47.711437, 47.711514, 47.711419, 47.711497, \"\", 47.711254, 47.745754, 47.712143, 47.711636, 47.71177, 47.711627, 47.711611, \"\", \"\", 47.711615, 47.711635, \"\", 47.711674, 47.711583, 47.711705, 47.711716, 47.711662, 47.711702, 47.711686, 47.711662, 47.71176, 47.711678, 47.711793, 47.711756, 47.71175, 47.711605, 47.711752, 47.711833, 47.711683, 47.711789, 47.711787, 47.711765, 47.711692, 47.711718, 47.711775, 47.71186, 47.711861, 47.711898, 47.711722, 47.711867, 47.711839, 47.711886, 47.711812, 47.711817, 47.711809, 47.711786, 47.711822, 47.711843, 47.712053, 47.712066, 47.711025, 47.711156, 47.710317, 47.711276, 47.71157, 47.711275, 47.711243, 47.711302, 47.711015, 47.711306, 47.711345, 47.711334, 47.711415, 47.711463, 47.711098, 47.711365, 47.711724, 47.711534, 47.711549, 47.71118, 47.711561, 47.711634, 47.711699, 47.711777, 47.711574, 47.711732, 47.711737, 47.71172, 47.71176, 47.711689, 47.711316, 47.711511, 47.711724, 47.711607, 47.711606, 47.711752, 47.711538, 47.711501, 47.711731, 47.711754, 47.7118, 47.711681, 47.711681, 47.711676, 47.711695, 47.711626, 47.711713, 47.711713, 47.711713, 47.711713, 47.711713, 47.711713, 47.711713, 47.711713, 47.711713, 47.711811, 47.711864, 47.71194, 47.711659, 47.71166, 47.711563, 47.711711, 47.711728, 47.711699, 47.711686, 47.711677, 47.711644, 47.711644, 47.711691, 47.711737, 47.711463, 47.711529, 47.711832, 47.711724, 47.711703, 47.711608, 47.711706, 47.711751, 47.711788, 47.711828, 47.711625, 47.711843, 47.711843, 47.711828, 47.711768, 47.711768, 47.711792, 47.711761, 47.711736, 47.711903, 47.711889, 47.711002, 47.711907, 47.711883, 47.711848, 47.711424, 47.711373, 47.711429, 47.711126, \"\", 47.711662, 47.711618, 47.711686, 47.711639, 47.711658, 47.711661, 47.711671, 47.711654, 47.711672, 47.711698, 47.711628, 47.711606, 47.7116, 47.711615, 47.711617, 47.711637, 47.711629, 47.711773, 47.711699, \"\", 47.711763, 47.711774, 47.711744, 47.711713, 47.711753, 47.711739, \"\", 47.711781, 47.711714, 47.711801, 47.71185, 47.712065, 47.711842, 47.71186, 47.71185, 47.711845, 47.711773, 47.711827, 47.711807, 47.711826, 47.711848, 47.711866, 47.711894, 47.711856, 47.711893, 47.711899, 47.711862, 47.71185, 47.711872, 47.711902, 47.711829, 47.711889, 47.711894, 47.711897, 47.711759, 47.710977, 47.711154, 47.711573, 47.711382, 47.711849, 47.711311, \"\", 47.711516, 47.711699, 47.711706, \"\", \"\", \"\", 47.711675, \"\", \"\", \"\", \"\", \"\", 47.711717, \"\", \"\", \"\", \"\", \"\", \"\", \"\", 47.711694, \"\", \"\", \"\", \"\", \"\", \"\", 47.711623, 47.711642, \"\", 47.711801, \"\", \"\", \"\", \"\", \"\", 47.711816, 47.711838, \"\", 47.711827, \"\", 47.758856, \"\", \"\", \"\", 47.710893, 47.71106, 47.711076, 47.711321, 47.711484, 47.711404, 47.711404, 47.711609, 47.711536, 47.711654, 47.711751, 47.71175, 47.711603, 47.711539, 47.71153, 47.711463, \"\", 47.711744, 47.711747, 47.711787, 47.711755, 47.711811, 47.711762, 47.711802, 47.711802, 47.711886, 47.71182, 47.711813, \"\", 47.711777, 47.711788, 47.711432, 47.711734, 47.711166, 47.711494, 47.711524, 47.711791, 47.711781, 47.711861, 47.71184, 47.7119, 47.711897, 47.711891, 47.711866, 47.711868, 47.711493, 47.711192, 47.711854, 47.711849, 47.711771, 47.711835, 47.711817, 47.711844, 47.711777, 47.711788, 47.711432, 47.711594], \"lon\": [-122.371593, -122.371638, -122.371661, -122.37255, -122.371934, -122.371904, -122.371844, -122.371875, -122.371905, -122.372827, -122.371992, -122.372971, -122.372307, -122.373163, -122.37276, -122.372788, -122.373354, -122.373063, -122.373063, -122.373063, -122.373044, -122.373272, -122.373272, -122.373272, -122.373403, -122.373454, -122.373454, -122.373492, -122.373987, -122.373655, -122.37365, -122.374389, -122.373856, -122.374003, -122.373842, -122.373819, -122.373872, -122.373941, -122.374666, -122.373941, -122.373905, -122.373964, -122.374006, -122.374081, -122.374081, -122.374067, -122.373817, -122.374699, -122.374264, -122.374341, -122.374392, -122.374587, -122.374683, -122.374668, -122.374668, -122.374848, -122.37529, -122.375225, -122.37463, -122.37463, -122.375009, -122.375619, -122.375009, -122.37497, -122.376474, -122.376596, -122.375466, -122.37548, -122.375419, -122.377186, -122.375753, -122.377129, -122.376351, -122.377707, -122.377707, -122.376578, -122.376641, -122.376494, -122.377868, -122.378008, -122.378107, -122.378139, -122.378357, -122.377732, -122.377732, -122.37832, -122.377918, -122.377885, -122.378021, -122.378012, -122.378905, -122.378209, -122.378141, -122.379043, -122.379156, -122.378469, -122.378469, -122.379363, -122.37847, -122.378765, -122.379149, -122.379708, -122.379719, -122.379352, -122.37972, -122.37171, -122.371752, \"\", \"\", \"\", -122.371584, -122.371478, -122.386803, -122.371953, -122.371911, -122.3719, -122.372501, -122.372548, -122.372544, -122.372255, -122.372603, -122.372634, -122.372814, \"\", -122.372999, -122.373033, -122.373051, -122.373117, -122.373034, -122.373398, -122.373422, -122.373467, -122.374026, -122.374039, -122.374053, -122.37403, -122.374097, -122.374468, -122.37443, -122.374315, -122.374365, -122.374393, -122.374888, -122.374798, -122.375048, -122.375159, -122.375164, -122.375413, -122.375573, -122.375831, -122.375895, -122.375916, -122.375808, -122.375921, -122.375901, -122.376093, -122.376177, -122.37623, -122.376185, -122.376411, -122.376754, -122.376795, \"\", -122.376931, -122.394985, -122.377329, -122.377727, -122.377675, -122.377675, -122.377739, \"\", \"\", -122.377737, -122.377804, \"\", -122.377899, -122.377928, -122.378001, -122.378028, -122.377991, -122.3782, -122.378205, -122.378224, -122.378227, -122.378155, -122.378388, -122.378352, -122.378382, -122.378409, -122.378481, -122.378408, -122.378535, -122.378691, -122.378715, -122.378613, -122.378844, -122.378799, -122.378818, -122.379002, -122.37904, -122.379035, -122.378988, -122.379004, -122.379051, -122.379007, -122.379017, -122.379125, -122.379147, -122.37927, -122.379271, -122.37946, -122.379898, -122.37991, -122.372765, -122.374234, -122.374104, -122.37469, -122.374594, -122.374187, -122.37462, -122.374562, -122.374221, -122.374697, -122.374731, -122.375038, -122.375058, -122.375754, -122.375808, -122.37603, -122.375558, -122.37659, -122.376758, -122.37545, -122.377954, -122.377003, -122.377052, -122.378029, -122.377483, -122.378037, -122.377651, -122.377987, -122.378035, -122.377755, -122.377676, -122.37778, -122.378551, -122.377817, -122.377879, -122.378506, -122.377634, -122.37799, -122.378595, -122.377693, -122.377971, -122.378007, -122.378007, -122.37801, -122.378032, -122.37798, -122.378037, -122.378037, -122.378037, -122.378037, -122.378037, -122.378037, -122.378037, -122.378037, -122.378037, -122.378064, -122.378098, -122.379503, -122.378105, -122.378113, -122.378051, -122.378216, -122.378192, -122.378182, -122.378172, -122.378191, -122.378222, -122.378222, -122.378208, -122.378349, -122.378114, -122.378425, -122.380041, -122.378329, -122.378343, -122.378409, -122.378318, -122.378682, -122.378662, -122.378686, -122.380145, -122.378701, -122.378701, -122.378714, -122.378919, -122.378919, -122.379008, -122.379014, -122.378956, -122.379204, -122.379302, -122.380471, -122.379288, -122.379279, -122.379272, -122.374952, -122.376155, -122.376342, -122.377003, \"\", -122.377802, -122.377738, -122.37751, -122.377793, -122.377798, -122.377794, -122.377956, -122.377882, -122.377873, -122.377927, -122.377935, -122.37801, -122.37801, -122.378027, -122.378027, -122.378168, -122.378122, -122.378063, -122.378288, \"\", -122.378268, -122.378231, -122.37833, -122.37828, -122.37819, -122.378199, \"\", -122.378233, -122.378321, -122.378947, -122.37902, -122.378978, -122.379125, -122.379089, -122.379105, -122.379024, -122.378839, -122.379139, -122.379153, -122.379155, -122.379058, -122.379133, -122.37922, -122.379131, -122.379164, -122.379367, -122.379375, -122.379451, -122.379461, -122.379501, -122.379462, -122.379423, -122.379434, -122.379464, -122.379865, -122.38082, -122.3806, -122.380097, -122.372915, -122.37637, -122.375618, \"\", -122.377212, -122.377191, -122.377199, \"\", \"\", \"\", -122.377826, \"\", \"\", \"\", \"\", \"\", -122.377886, \"\", \"\", \"\", \"\", \"\", \"\", \"\", -122.378187, \"\", \"\", \"\", \"\", \"\", \"\", -122.378225, -122.378376, \"\", -122.378648, \"\", \"\", \"\", \"\", \"\", -122.378688, -122.379079, \"\", -122.379241, \"\", -122.390006, \"\", \"\", \"\", -122.371806, -122.372837, -122.372833, -122.376332, -122.376314, -122.376327, -122.376326, -122.377418, -122.377358, -122.377827, -122.37788, -122.377894, -122.37792, -122.377945, -122.377938, -122.377936, \"\", -122.378151, -122.378099, -122.378334, -122.379058, -122.379075, -122.379163, -122.379187, -122.379333, -122.379367, -122.379368, -122.379461, \"\", -122.379482, -122.379511, -122.380071, -122.380114, -122.373588, -122.373945, -122.376548, -122.378644, -122.37863, -122.379128, -122.379255, -122.379324, -122.379278, -122.379302, -122.379434, -122.37941, -122.38019, -122.373986, -122.379418, -122.379416, -122.379434, -122.379379, -122.379313, -122.379055, -122.37928, -122.37927, -122.375119, -122.376806], \"name\": \"\", \"radius\": 15, \"subplot\": \"mapbox\", \"type\": \"densitymapbox\"}],                        {\"coloraxis\": {\"colorscale\": [[0.0, \"#0d0887\"], [0.1111111111111111, \"#46039f\"], [0.2222222222222222, \"#7201a8\"], [0.3333333333333333, \"#9c179e\"], [0.4444444444444444, \"#bd3786\"], [0.5555555555555556, \"#d8576b\"], [0.6666666666666666, \"#ed7953\"], [0.7777777777777778, \"#fb9f3a\"], [0.8888888888888888, \"#fdca26\"], [1.0, \"#f0f921\"]], \"showscale\": false}, \"legend\": {\"tracegroupgap\": 0}, \"mapbox\": {\"center\": {\"lat\": 47.71157, \"lon\": -122.3759}, \"domain\": {\"x\": [0.0, 1.0], \"y\": [0.0, 1.0]}, \"style\": \"stamen-terrain\", \"zoom\": 15}, \"template\": {\"data\": {\"bar\": [{\"error_x\": {\"color\": \"#2a3f5f\"}, \"error_y\": {\"color\": \"#2a3f5f\"}, \"marker\": {\"line\": {\"color\": \"#E5ECF6\", \"width\": 0.5}}, \"type\": \"bar\"}], \"barpolar\": [{\"marker\": {\"line\": {\"color\": \"#E5ECF6\", \"width\": 0.5}}, \"type\": \"barpolar\"}], \"carpet\": [{\"aaxis\": {\"endlinecolor\": \"#2a3f5f\", \"gridcolor\": \"white\", \"linecolor\": \"white\", \"minorgridcolor\": \"white\", \"startlinecolor\": \"#2a3f5f\"}, \"baxis\": {\"endlinecolor\": \"#2a3f5f\", \"gridcolor\": \"white\", \"linecolor\": \"white\", \"minorgridcolor\": \"white\", \"startlinecolor\": \"#2a3f5f\"}, \"type\": \"carpet\"}], \"choropleth\": [{\"colorbar\": {\"outlinewidth\": 0, \"ticks\": \"\"}, \"type\": \"choropleth\"}], \"contour\": [{\"colorbar\": {\"outlinewidth\": 0, \"ticks\": \"\"}, \"colorscale\": [[0.0, \"#0d0887\"], [0.1111111111111111, \"#46039f\"], [0.2222222222222222, \"#7201a8\"], [0.3333333333333333, \"#9c179e\"], [0.4444444444444444, \"#bd3786\"], [0.5555555555555556, \"#d8576b\"], [0.6666666666666666, \"#ed7953\"], [0.7777777777777778, \"#fb9f3a\"], [0.8888888888888888, \"#fdca26\"], [1.0, \"#f0f921\"]], \"type\": \"contour\"}], \"contourcarpet\": [{\"colorbar\": {\"outlinewidth\": 0, \"ticks\": \"\"}, \"type\": \"contourcarpet\"}], \"heatmap\": [{\"colorbar\": {\"outlinewidth\": 0, \"ticks\": \"\"}, \"colorscale\": [[0.0, \"#0d0887\"], [0.1111111111111111, \"#46039f\"], [0.2222222222222222, \"#7201a8\"], [0.3333333333333333, \"#9c179e\"], [0.4444444444444444, \"#bd3786\"], [0.5555555555555556, \"#d8576b\"], [0.6666666666666666, \"#ed7953\"], [0.7777777777777778, \"#fb9f3a\"], [0.8888888888888888, \"#fdca26\"], [1.0, \"#f0f921\"]], \"type\": \"heatmap\"}], \"heatmapgl\": [{\"colorbar\": {\"outlinewidth\": 0, \"ticks\": \"\"}, \"colorscale\": [[0.0, \"#0d0887\"], [0.1111111111111111, \"#46039f\"], [0.2222222222222222, \"#7201a8\"], [0.3333333333333333, \"#9c179e\"], [0.4444444444444444, \"#bd3786\"], [0.5555555555555556, \"#d8576b\"], [0.6666666666666666, \"#ed7953\"], [0.7777777777777778, \"#fb9f3a\"], [0.8888888888888888, \"#fdca26\"], [1.0, \"#f0f921\"]], \"type\": \"heatmapgl\"}], \"histogram\": [{\"marker\": {\"colorbar\": {\"outlinewidth\": 0, \"ticks\": \"\"}}, \"type\": \"histogram\"}], \"histogram2d\": [{\"colorbar\": {\"outlinewidth\": 0, \"ticks\": \"\"}, \"colorscale\": [[0.0, \"#0d0887\"], [0.1111111111111111, \"#46039f\"], [0.2222222222222222, \"#7201a8\"], [0.3333333333333333, \"#9c179e\"], [0.4444444444444444, \"#bd3786\"], [0.5555555555555556, \"#d8576b\"], [0.6666666666666666, \"#ed7953\"], [0.7777777777777778, \"#fb9f3a\"], [0.8888888888888888, \"#fdca26\"], [1.0, \"#f0f921\"]], \"type\": \"histogram2d\"}], \"histogram2dcontour\": [{\"colorbar\": {\"outlinewidth\": 0, \"ticks\": \"\"}, \"colorscale\": [[0.0, \"#0d0887\"], [0.1111111111111111, \"#46039f\"], [0.2222222222222222, \"#7201a8\"], [0.3333333333333333, \"#9c179e\"], [0.4444444444444444, \"#bd3786\"], [0.5555555555555556, \"#d8576b\"], [0.6666666666666666, \"#ed7953\"], [0.7777777777777778, \"#fb9f3a\"], [0.8888888888888888, \"#fdca26\"], [1.0, \"#f0f921\"]], \"type\": \"histogram2dcontour\"}], \"mesh3d\": [{\"colorbar\": {\"outlinewidth\": 0, \"ticks\": \"\"}, \"type\": \"mesh3d\"}], \"parcoords\": [{\"line\": {\"colorbar\": {\"outlinewidth\": 0, \"ticks\": \"\"}}, \"type\": \"parcoords\"}], \"pie\": [{\"automargin\": true, \"type\": \"pie\"}], \"scatter\": [{\"marker\": {\"colorbar\": {\"outlinewidth\": 0, \"ticks\": \"\"}}, \"type\": \"scatter\"}], \"scatter3d\": [{\"line\": {\"colorbar\": {\"outlinewidth\": 0, \"ticks\": \"\"}}, \"marker\": {\"colorbar\": {\"outlinewidth\": 0, \"ticks\": \"\"}}, \"type\": \"scatter3d\"}], \"scattercarpet\": [{\"marker\": {\"colorbar\": {\"outlinewidth\": 0, \"ticks\": \"\"}}, \"type\": \"scattercarpet\"}], \"scattergeo\": [{\"marker\": {\"colorbar\": {\"outlinewidth\": 0, \"ticks\": \"\"}}, \"type\": \"scattergeo\"}], \"scattergl\": [{\"marker\": {\"colorbar\": {\"outlinewidth\": 0, \"ticks\": \"\"}}, \"type\": \"scattergl\"}], \"scattermapbox\": [{\"marker\": {\"colorbar\": {\"outlinewidth\": 0, \"ticks\": \"\"}}, \"type\": \"scattermapbox\"}], \"scatterpolar\": [{\"marker\": {\"colorbar\": {\"outlinewidth\": 0, \"ticks\": \"\"}}, \"type\": \"scatterpolar\"}], \"scatterpolargl\": [{\"marker\": {\"colorbar\": {\"outlinewidth\": 0, \"ticks\": \"\"}}, \"type\": \"scatterpolargl\"}], \"scatterternary\": [{\"marker\": {\"colorbar\": {\"outlinewidth\": 0, \"ticks\": \"\"}}, \"type\": \"scatterternary\"}], \"surface\": [{\"colorbar\": {\"outlinewidth\": 0, \"ticks\": \"\"}, \"colorscale\": [[0.0, \"#0d0887\"], [0.1111111111111111, \"#46039f\"], [0.2222222222222222, \"#7201a8\"], [0.3333333333333333, \"#9c179e\"], [0.4444444444444444, \"#bd3786\"], [0.5555555555555556, \"#d8576b\"], [0.6666666666666666, \"#ed7953\"], [0.7777777777777778, \"#fb9f3a\"], [0.8888888888888888, \"#fdca26\"], [1.0, \"#f0f921\"]], \"type\": \"surface\"}], \"table\": [{\"cells\": {\"fill\": {\"color\": \"#EBF0F8\"}, \"line\": {\"color\": \"white\"}}, \"header\": {\"fill\": {\"color\": \"#C8D4E3\"}, \"line\": {\"color\": \"white\"}}, \"type\": \"table\"}]}, \"layout\": {\"annotationdefaults\": {\"arrowcolor\": \"#2a3f5f\", \"arrowhead\": 0, \"arrowwidth\": 1}, \"coloraxis\": {\"colorbar\": {\"outlinewidth\": 0, \"ticks\": \"\"}}, \"colorscale\": {\"diverging\": [[0, \"#8e0152\"], [0.1, \"#c51b7d\"], [0.2, \"#de77ae\"], [0.3, \"#f1b6da\"], [0.4, \"#fde0ef\"], [0.5, \"#f7f7f7\"], [0.6, \"#e6f5d0\"], [0.7, \"#b8e186\"], [0.8, \"#7fbc41\"], [0.9, \"#4d9221\"], [1, \"#276419\"]], \"sequential\": [[0.0, \"#0d0887\"], [0.1111111111111111, \"#46039f\"], [0.2222222222222222, \"#7201a8\"], [0.3333333333333333, \"#9c179e\"], [0.4444444444444444, \"#bd3786\"], [0.5555555555555556, \"#d8576b\"], [0.6666666666666666, \"#ed7953\"], [0.7777777777777778, \"#fb9f3a\"], [0.8888888888888888, \"#fdca26\"], [1.0, \"#f0f921\"]], \"sequentialminus\": [[0.0, \"#0d0887\"], [0.1111111111111111, \"#46039f\"], [0.2222222222222222, \"#7201a8\"], [0.3333333333333333, \"#9c179e\"], [0.4444444444444444, \"#bd3786\"], [0.5555555555555556, \"#d8576b\"], [0.6666666666666666, \"#ed7953\"], [0.7777777777777778, \"#fb9f3a\"], [0.8888888888888888, \"#fdca26\"], [1.0, \"#f0f921\"]]}, \"colorway\": [\"#636efa\", \"#EF553B\", \"#00cc96\", \"#ab63fa\", \"#FFA15A\", \"#19d3f3\", \"#FF6692\", \"#B6E880\", \"#FF97FF\", \"#FECB52\"], \"font\": {\"color\": \"#2a3f5f\"}, \"geo\": {\"bgcolor\": \"white\", \"lakecolor\": \"white\", \"landcolor\": \"#E5ECF6\", \"showlakes\": true, \"showland\": true, \"subunitcolor\": \"white\"}, \"hoverlabel\": {\"align\": \"left\"}, \"hovermode\": \"closest\", \"mapbox\": {\"style\": \"light\"}, \"paper_bgcolor\": \"white\", \"plot_bgcolor\": \"#E5ECF6\", \"polar\": {\"angularaxis\": {\"gridcolor\": \"white\", \"linecolor\": \"white\", \"ticks\": \"\"}, \"bgcolor\": \"#E5ECF6\", \"radialaxis\": {\"gridcolor\": \"white\", \"linecolor\": \"white\", \"ticks\": \"\"}}, \"scene\": {\"xaxis\": {\"backgroundcolor\": \"#E5ECF6\", \"gridcolor\": \"white\", \"gridwidth\": 2, \"linecolor\": \"white\", \"showbackground\": true, \"ticks\": \"\", \"zerolinecolor\": \"white\"}, \"yaxis\": {\"backgroundcolor\": \"#E5ECF6\", \"gridcolor\": \"white\", \"gridwidth\": 2, \"linecolor\": \"white\", \"showbackground\": true, \"ticks\": \"\", \"zerolinecolor\": \"white\"}, \"zaxis\": {\"backgroundcolor\": \"#E5ECF6\", \"gridcolor\": \"white\", \"gridwidth\": 2, \"linecolor\": \"white\", \"showbackground\": true, \"ticks\": \"\", \"zerolinecolor\": \"white\"}}, \"shapedefaults\": {\"line\": {\"color\": \"#2a3f5f\"}}, \"ternary\": {\"aaxis\": {\"gridcolor\": \"white\", \"linecolor\": \"white\", \"ticks\": \"\"}, \"baxis\": {\"gridcolor\": \"white\", \"linecolor\": \"white\", \"ticks\": \"\"}, \"bgcolor\": \"#E5ECF6\", \"caxis\": {\"gridcolor\": \"white\", \"linecolor\": \"white\", \"ticks\": \"\"}}, \"title\": {\"x\": 0.05}, \"xaxis\": {\"automargin\": true, \"gridcolor\": \"white\", \"linecolor\": \"white\", \"ticks\": \"\", \"title\": {\"standoff\": 15}, \"zerolinecolor\": \"white\", \"zerolinewidth\": 2}, \"yaxis\": {\"automargin\": true, \"gridcolor\": \"white\", \"linecolor\": \"white\", \"ticks\": \"\", \"title\": {\"standoff\": 15}, \"zerolinecolor\": \"white\", \"zerolinewidth\": 2}}}, \"title\": {\"text\": \"Fish Heat Map\"}},                        {\"responsive\": true}                    ).then(function(){\n",
       "                            \n",
       "var gd = document.getElementById('6c209518-5cd0-4a36-a23c-f66d60bad811');\n",
       "var x = new MutationObserver(function (mutations, observer) {{\n",
       "        var display = window.getComputedStyle(gd).display;\n",
       "        if (!display || display === 'none') {{\n",
       "            console.log([gd, 'removed!']);\n",
       "            Plotly.purge(gd);\n",
       "            observer.disconnect();\n",
       "        }}\n",
       "}});\n",
       "\n",
       "// Listen for the removal of the full notebook cells\n",
       "var notebookContainer = gd.closest('#notebook-container');\n",
       "if (notebookContainer) {{\n",
       "    x.observe(notebookContainer, {childList: true});\n",
       "}}\n",
       "\n",
       "// Listen for the clearing of the current output cell\n",
       "var outputEl = gd.closest('.output');\n",
       "if (outputEl) {{\n",
       "    x.observe(outputEl, {childList: true});\n",
       "}}\n",
       "\n",
       "                        })                };                });            </script>        </div>"
      ]
     },
     "metadata": {},
     "output_type": "display_data"
    },
    {
     "data": {
      "image/png": "[encoded data removed]",
      "text/plain": [
       "<Figure size 432x288 with 1 Axes>"
      ]
     },
     "metadata": {
      "needs_background": "light"
     },
     "output_type": "display_data"
    }
   ],
   "source": [
    "import requests, json, datetime, matplotlib.pyplot as plt, plotly.express as px, pandas as pd, IPython.core.display as ip\n",
    "\n",
    "def getEntries(uri):\n",
    "    request = requests.get(url = uri)\n",
    "    df = pd.DataFrame(pd.json_normalize(request.json()['data']['entries']))\n",
    "    while request.json()['links']['next'] is not None:\n",
    "        nextURL = request.json()['links']['next']\n",
    "        request = requests.get(url = nextURL)\n",
    "        df = df.append(pd.json_normalize(request.json()['data']['entries']))\n",
    "    return df\n",
    "\n",
    "def addStats(survey, salmonDf):\n",
    "    surveyUUID = survey['ec5_uuid']\n",
    "    todaySalmonDf = salmonDf[salmonDf['ec5_parent_uuid'] == surveyUUID] \n",
    "    deadChum = (todaySalmonDf.loc[((todaySalmonDf['12_Species'] == 'Chum') & (todaySalmonDf['16_Status'] == 'Dead'))].shape[0]) \n",
    "    deadCoho = (todaySalmonDf.loc[((todaySalmonDf['12_Species'] == 'Coho') & (todaySalmonDf['16_Status'] == 'Dead'))].shape[0])\n",
    "    liveChum = (todaySalmonDf.loc[((todaySalmonDf['12_Species'] == 'Chum') & (todaySalmonDf['16_Status'] == 'Live'))].shape[0])\n",
    "    liveCoho = (todaySalmonDf.loc[((todaySalmonDf['12_Species'] == 'Coho') & (todaySalmonDf['16_Status'] == 'Live'))].shape[0])\n",
    "    remnant =  todaySalmonDf.loc[(todaySalmonDf['16_Status'] == 'Remnant')].shape[0]\n",
    "    cutthroat = todaySalmonDf.loc[(todaySalmonDf['12_Species'] == 'Cutthroat')].shape[0]\n",
    "    totalDead = todaySalmonDf.loc[(todaySalmonDf['16_Status'] == 'Dead')].shape[0]\n",
    "    totalLiveSalmon = liveChum + liveCoho\n",
    "    total = (todaySalmonDf.shape[0])\n",
    "    statsRow = pd.Series({'Survey Date': datetime.datetime.strptime(survey['1_Survey_Date'], '%m/%d/%Y').date(), 'Dead Chum': deadChum, 'Dead Coho': deadCoho, 'Live Chum': liveChum, 'Live Coho': liveCoho, 'Total Dead': totalDead, 'Total Live Salmon': totalLiveSalmon, 'Total': total, 'Remnant': remnant, 'Cutthroat': cutthroat})\n",
    "    global statsDf\n",
    "    statsDf = statsDf.append(statsRow, ignore_index = True)\n",
    "\n",
    "def printYearlyTotals(statsDf):\n",
    "    max = (statsDf['Dead to Date']+statsDf['Total Live Salmon']).max()\n",
    "    idxmax = (statsDf['Dead to Date']+statsDf['Total Live Salmon']).idxmax()\n",
    "    print('Yearly salmon total is:', int(max))\n",
    "    print('Yearly total of Chum is:', int((statsDf['Dead Chum to Date']+statsDf['Live Chum']).max()))\n",
    "    print('Yearly total of Coho is:', int((statsDf['Dead Coho to Date']+statsDf['Live Coho']).max()))\n",
    "    print('Calculated based on date:', statsDf.iloc[idxmax]['Survey Date'])\n",
    "    print('Based on total dead count:', int(statsDf.iloc[idxmax]['Dead to Date']), '|', 'plus total live count:', int(statsDf.iloc[idxmax]['Total Live Salmon']))\n",
    "    \n",
    "pd.set_option('display.precision', 0)\n",
    "salmonFormURI = 'https://five.epicollect.net/api/export/entries/salmon-survey-2020?form_ref=f550ab6c4dab44f49bcc33b7c1904be9_5d6f509867795'\n",
    "surveyFormURI = 'https://five.epicollect.net/api/export/entries/salmon-survey-2020?form_ref=f550ab6c4dab44f49bcc33b7c1904be9_5d6f454667a28'\n",
    "salmonDf = getEntries(salmonFormURI)\n",
    "surveyDf = getEntries(surveyFormURI)\n",
    "statsDf = pd.DataFrame()\n",
    "surveyDf.apply(addStats, axis=1, args=[salmonDf])\n",
    "statsDf= statsDf.groupby(['Survey Date']).sum().reset_index()\n",
    "columnOrder =  ['Survey Date', 'Total', 'Total Live Salmon', 'Total Dead', 'Live Chum', 'Live Coho', 'Dead Chum', 'Dead Coho', 'Remnant', 'Cutthroat']\n",
    "statsDf = statsDf.sort_values(by=['Survey Date'])[columnOrder]\n",
    "kwargs = {'Dead to Date' : statsDf['Total Dead'].cumsum(), 'Dead Chum to Date' : statsDf['Dead Chum'].cumsum(), 'Dead Coho to Date' : statsDf['Dead Coho'].cumsum()}\n",
    "statsDf = statsDf.assign(**kwargs)\n",
    "display(ip.HTML(statsDf[['Survey Date', 'Total', 'Total Live Salmon', 'Total Dead', 'Live Chum', 'Live Coho', 'Dead Chum', 'Dead Coho', 'Remnant', 'Cutthroat']].to_html()))\n",
    "printYearlyTotals(statsDf)\n",
    "plot = statsDf.plot(ylabel = 'Count', title = 'Fish Count', rot=45, y=['Total', 'Total Dead', 'Live Chum', 'Dead Chum', 'Live Coho', 'Dead Coho'], x='Survey Date')\n",
    "fig = px.density_mapbox(salmonDf, lat='15_Location.latitude', lon='15_Location.longitude', radius=15,\n",
    "                        center=dict(lat=47.71157, lon=-122.3759), zoom=15, hover_name = 'title', hover_data = ['15_Location.accuracy'],\n",
    "                        mapbox_style='stamen-terrain', title='Fish Heat Map')\n",
    "\n",
    "fig.layout.coloraxis.showscale = False\n",
    "fig.show()"
   ]
  },
  {
   "cell_type": "code",
   "execution_count": null,
   "metadata": {},
   "outputs": [],
   "source": []
  },
  {
   "cell_type": "code",
   "execution_count": null,
   "metadata": {},
   "outputs": [],
   "source": []
  },
  {
   "cell_type": "code",
   "execution_count": null,
   "metadata": {},
   "outputs": [],
   "source": []
  },
  {
   "cell_type": "code",
   "execution_count": null,
   "metadata": {},
   "outputs": [],
   "source": []
  }
 ],
 "metadata": {
  "kernelspec": {
   "display_name": "Python 3",
   "language": "python",
   "name": "python3"
  },
  "language_info": {
   "codemirror_mode": {
    "name": "ipython",
    "version": 3
   },
   "file_extension": ".py",
   "mimetype": "text/x-python",
   "name": "python",
   "nbconvert_exporter": "python",
   "pygments_lexer": "ipython3",
   "version": "3.8.5"
  }
 },
 "nbformat": 4,
 "nbformat_minor": 4
}
