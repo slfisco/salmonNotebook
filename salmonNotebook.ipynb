{
 "cells": [
  {
   "cell_type": "markdown",
   "metadata": {},
   "source": [
    "<p><img src=\"https://www.carkeekwatershed.org/wp-content/uploads/CWCAPlogo-1.png\" width=\"213\" height=\"72\"></p>\n",
    "\n",
    "# CWCAP Salmon Survey Analysis\n",
    "Press run all to create all figures and generate a report"
   ]
  },
  {
   "cell_type": "code",
   "execution_count": 19,
   "metadata": {
    "hide_input": true,
    "tags": []
   },
   "outputs": [],
   "source": [
    "###ENTER SURVEY YEAR###\n",
    "surveyYear = '2021'\n",
    "\n",
    "##INITIALIZATION\n",
    "import matplotlib.pyplot as plt, plotly.express as px, pandas as pd, sys, pytz, io, base64, matplotlib.dates as mdates\n",
    "from jinja2 import Environment, FileSystemLoader\n",
    "from datetime import datetime\n",
    "\n",
    "reportFileName = currentTimePacific + '_salmonReport.html'\n",
    "\n",
    "currentTimePacific = datetime.now(pytz.timezone('America/Los_Angeles')).strftime('%Y-%m-%d_%H-%M-%S') #cannot use system time due to colab\n",
    "\n",
    "surveyURIs = {'2019':'https://five.epicollect.net/api/export/entries/salmon-survey-2019?form_ref=397fba6ecc674b74836efc190840c42d_5d6f454667a28',\n",
    "              '2020':'https://five.epicollect.net/api/export/entries/salmon-survey-2020?form_ref=f550ab6c4dab44f49bcc33b7c1904be9_5d6f454667a28',\n",
    "              '2021':'https://five.epicollect.net/api/export/entries/salmon-survey-2021?form_ref=ad5ffedf0a3246a18934e6ec36ed9569_5d6f454667a28'}\n",
    "salmonURIs = {'2019':'https://five.epicollect.net/api/export/entries/salmon-survey-2019?form_ref=397fba6ecc674b74836efc190840c42d_5d6f509867795',\n",
    "              '2020':'https://five.epicollect.net/api/export/entries/salmon-survey-2020?form_ref=f550ab6c4dab44f49bcc33b7c1904be9_5d6f509867795',\n",
    "              '2021':'https://five.epicollect.net/api/export/entries/salmon-survey-2021?form_ref=ad5ffedf0a3246a18934e6ec36ed9569_5d6f509867795'}\n",
    "IN_COLAB = 'google.colab' in sys.modules\n",
    "\n",
    "def filterSalmonDf(salmonDf, *filters):\n",
    "    for filter in filters:\n",
    "        field, value = filter\n",
    "        salmonDf = salmonDf.loc[(salmonDf[field] == value)]\n",
    "    return salmonDf\n",
    "\n",
    "def getCountWithFilters(salmonDf, *filters):\n",
    "    return filterSalmonDf(salmonDf, *filters).shape[0]"
   ]
  },
  {
   "cell_type": "code",
   "execution_count": 20,
   "metadata": {},
   "outputs": [
    {
     "name": "stdout",
     "output_type": "stream",
     "text": [
      "Previous report file exists. Deleting 2022-06-05_11-55-19_salmonReport.html\n"
     ]
    }
   ],
   "source": [
    "###REPORT\n",
    "reportHeader = '<p><h2>CWCAP Salmon Survey Report</h2></p><p><h5>generated {}</h5></p>'.format(currentTimePacific)\n",
    "    \n",
    "def addHTMLToReport(html):\n",
    "    with open(reportFileName, 'a') as f:\n",
    "      f.write(html)\n",
    "\n",
    "def initializeReport():\n",
    "    addHTMLToReport(reportHeader)\n",
    "    \n",
    "def addFigureToReport():\n",
    "    IObytes = io.BytesIO()\n",
    "    plt.savefig(IObytes, format = 'png')\n",
    "    IObytes.seek(0)\n",
    "    encodedPlot = base64.b64encode(IObytes.read()).decode(\"utf-8\")\n",
    "    html = '<img src=\\'data:image/png;base64,{}\\'>'.format(encodedPlot)\n",
    "    addHTMLToReport(html)\n",
    "    \n",
    "def clearPreviousReports():\n",
    "    if (not IN_COLAB):\n",
    "        import os, glob\n",
    "        from os.path import exists\n",
    "        for name in glob.glob('*salmonReport.html'):\n",
    "            print(\"Previous report file exists. Deleting \" + name)\n",
    "            os.remove(name)\n",
    "clearPreviousReports()\n",
    "initializeReport()"
   ]
  },
  {
   "cell_type": "code",
   "execution_count": 21,
   "metadata": {},
   "outputs": [],
   "source": [
    "###DATA FETCHING\n",
    "import requests, json\n",
    "def getEntries(uri):\n",
    "    request = requests.get(url = uri  + '&per_page=1000')\n",
    "    df = pd.DataFrame(pd.json_normalize(request.json()['data']['entries']))\n",
    "    while request.json()['links']['next'] is not None:\n",
    "        nextURL = request.json()['links']['next']\n",
    "        request = requests.get(url = nextURL)\n",
    "        df = df.append(pd.json_normalize(request.json()['data']['entries']))\n",
    "    return df\n",
    "\n",
    "def addStats(survey, salmonDf):\n",
    "    surveyUUID = survey['ec5_uuid']\n",
    "    todaySalmonDf = salmonDf[salmonDf['ec5_parent_uuid'] == surveyUUID]\n",
    "    remnantChum = getCountWithFilters(todaySalmonDf, ('Species', 'Chum'), ('Type', 'Remnant'))\n",
    "    deadChum = getCountWithFilters(todaySalmonDf, ('Species', 'Chum'), ('Type', 'Dead')) + remnantChum\n",
    "    remnantCoho = getCountWithFilters(todaySalmonDf, ('Species', 'Coho'), ('Type', 'Remnant'))\n",
    "    deadCoho = getCountWithFilters(todaySalmonDf, ('Species', 'Coho'), ('Type', 'Dead')) + remnantCoho\n",
    "    unknownRemnant = getCountWithFilters(todaySalmonDf, ('Species', 'Unknown'), ('Type', 'Remnant'))\n",
    "    deadUnknown = getCountWithFilters(todaySalmonDf, ('Species', 'Unknown'), ('Type', 'Dead')) + unknownRemnant\n",
    "    liveChum = getCountWithFilters(todaySalmonDf, ('Species', 'Chum'), ('Type', 'Live'))\n",
    "    liveCoho = getCountWithFilters(todaySalmonDf, ('Species', 'Coho'), ('Type', 'Live'))\n",
    "    liveUnknown = getCountWithFilters(todaySalmonDf, ('Species', 'Unknown'), ('Type', 'Live'))\n",
    "    liveSeaRunCutthroat = getCountWithFilters(todaySalmonDf, ('Species', 'Sea-run Cutthroat'), ('Type', 'Live'))\n",
    "    liveResidentCutthroat = getCountWithFilters(todaySalmonDf, ('Species', 'Resident Cutthroat'), ('Type', 'Live'))\n",
    "    liveCutthroat = liveSeaRunCutthroat + liveResidentCutthroat\n",
    "    remnantSeaRunCutthroat = getCountWithFilters(todaySalmonDf, ('Species', 'Sea-run Cutthroat'), ('Type', 'Remnant'))\n",
    "    deadSeaRunCutthroat = getCountWithFilters(todaySalmonDf, ('Species', 'Sea-run Cutthroat'), ('Type', 'Dead')) + remnantSeaRunCutthroat\n",
    "    remnantResidentCutthroat = getCountWithFilters(todaySalmonDf, ('Species', 'Resident Cutthroat'), ('Type', 'Remnant'))\n",
    "    deadResidentCutthroat = getCountWithFilters(todaySalmonDf, ('Species', 'Resident Cutthroat'), ('Type', 'Dead'))\n",
    "    deadCutthroat = deadSeaRunCutthroat + deadResidentCutthroat\n",
    "    redds = getCountWithFilters(todaySalmonDf, ('Type', 'Redd'))\n",
    "    #totals include sea run cutthroat but not resident or redds\n",
    "    totalDeadSalmon = deadChum + deadCoho + deadSeaRunCutthroat + deadUnknown\n",
    "    totalLiveSalmon = liveChum + liveCoho + liveUnknown + liveSeaRunCutthroat\n",
    "    total = totalDeadSalmon + totalLiveSalmon\n",
    "    return pd.Series({'Survey Date': pd.Timestamp(survey['Survey_Date']), 'Dead Chum': deadChum, 'Dead Coho': deadCoho, 'Live Chum': liveChum, 'Live Coho': liveCoho, 'Live Cutthroat': liveCutthroat, 'Dead Cutthroat': deadCutthroat, 'Redds': redds, 'Total Dead Salmon' : totalDeadSalmon, 'Total Live Salmon': totalLiveSalmon, 'Total': total})\n",
    "\n",
    "def getSurveyEntries():\n",
    "    surveyDfs = {}\n",
    "    for year in surveyURIs:\n",
    "        surveyDfs[year] = getEntries(surveyURIs[year])\n",
    "    return surveyDfs\n",
    "\n",
    "def getSalmonEntries():\n",
    "    salmonDfs = {}\n",
    "    for year in salmonURIs:\n",
    "        salmonDfs[year] = getEntries(salmonURIs[year])\n",
    "    return salmonDfs\n",
    "    \n",
    "def getStats(surveyDfs, salmonDfs):\n",
    "    statsDfs = {}\n",
    "    for year in surveyDfs:\n",
    "        if not salmonDfs[year].empty:\n",
    "            statsDfs[year] = surveyDfs[year].apply(addStats, axis=1, args=[salmonDfs[year]]).groupby(['Survey Date']).sum().reset_index() \n",
    "            kwargs = {'Dead to Date' : statsDfs[year]['Total Dead Salmon'].cumsum(), 'Dead Chum to Date' : statsDfs[year]['Dead Chum'].cumsum(), 'Dead Coho to Date' : statsDfs[year]['Dead Coho'].cumsum()}\n",
    "            statsDfs[year] = statsDfs[year].assign(**kwargs)\n",
    "    return statsDfs\n",
    "\n",
    "surveyDfs = getSurveyEntries()\n",
    "salmonDfs = getSalmonEntries()\n",
    "statsDfs = getStats(surveyDfs, salmonDfs)\n",
    "salmonDf = salmonDfs[surveyYear]\n",
    "surveyDf = surveyDfs[surveyYear]\n",
    "statsDf = statsDfs[surveyYear]"
   ]
  },
  {
   "cell_type": "markdown",
   "metadata": {},
   "source": [
    "### Survey Stats Table"
   ]
  },
  {
   "cell_type": "code",
   "execution_count": 22,
   "metadata": {
    "tags": []
   },
   "outputs": [
    {
     "data": {
      "text/html": [
       "<h3>Survey Totals</h3><style  type=\"text/css\" >\n",
       "</style><table id=\"T_60515f12_e504_11ec_b737_00d861dc5558\" ><caption>Note: Total live salmon includes Sea-Run Cutthroat and Unknowns - entries where surveyors were unable to determine the species. Remnants are included in dead counts.</caption><thead>    <tr>        <th class=\"col_heading level0 col0\" >Survey Date</th>        <th class=\"col_heading level0 col1\" >Total Live Salmon</th>        <th class=\"col_heading level0 col2\" >Total Dead Salmon</th>        <th class=\"col_heading level0 col3\" >Live Chum</th>        <th class=\"col_heading level0 col4\" >Dead Chum</th>        <th class=\"col_heading level0 col5\" >Live Coho</th>        <th class=\"col_heading level0 col6\" >Dead Coho</th>        <th class=\"col_heading level0 col7\" >Live Cutthroat</th>        <th class=\"col_heading level0 col8\" >Dead Cutthroat</th>        <th class=\"col_heading level0 col9\" >Redds</th>    </tr></thead><tbody>\n",
       "                <tr>\n",
       "                                <td id=\"T_60515f12_e504_11ec_b737_00d861dc5558row0_col0\" class=\"data row0 col0\" >2021-10-23</td>\n",
       "                        <td id=\"T_60515f12_e504_11ec_b737_00d861dc5558row0_col1\" class=\"data row0 col1\" >8</td>\n",
       "                        <td id=\"T_60515f12_e504_11ec_b737_00d861dc5558row0_col2\" class=\"data row0 col2\" >0</td>\n",
       "                        <td id=\"T_60515f12_e504_11ec_b737_00d861dc5558row0_col3\" class=\"data row0 col3\" >6</td>\n",
       "                        <td id=\"T_60515f12_e504_11ec_b737_00d861dc5558row0_col4\" class=\"data row0 col4\" >0</td>\n",
       "                        <td id=\"T_60515f12_e504_11ec_b737_00d861dc5558row0_col5\" class=\"data row0 col5\" >1</td>\n",
       "                        <td id=\"T_60515f12_e504_11ec_b737_00d861dc5558row0_col6\" class=\"data row0 col6\" >0</td>\n",
       "                        <td id=\"T_60515f12_e504_11ec_b737_00d861dc5558row0_col7\" class=\"data row0 col7\" >0</td>\n",
       "                        <td id=\"T_60515f12_e504_11ec_b737_00d861dc5558row0_col8\" class=\"data row0 col8\" >0</td>\n",
       "                        <td id=\"T_60515f12_e504_11ec_b737_00d861dc5558row0_col9\" class=\"data row0 col9\" >0</td>\n",
       "            </tr>\n",
       "            <tr>\n",
       "                                <td id=\"T_60515f12_e504_11ec_b737_00d861dc5558row1_col0\" class=\"data row1 col0\" >2021-10-26</td>\n",
       "                        <td id=\"T_60515f12_e504_11ec_b737_00d861dc5558row1_col1\" class=\"data row1 col1\" >33</td>\n",
       "                        <td id=\"T_60515f12_e504_11ec_b737_00d861dc5558row1_col2\" class=\"data row1 col2\" >3</td>\n",
       "                        <td id=\"T_60515f12_e504_11ec_b737_00d861dc5558row1_col3\" class=\"data row1 col3\" >27</td>\n",
       "                        <td id=\"T_60515f12_e504_11ec_b737_00d861dc5558row1_col4\" class=\"data row1 col4\" >0</td>\n",
       "                        <td id=\"T_60515f12_e504_11ec_b737_00d861dc5558row1_col5\" class=\"data row1 col5\" >4</td>\n",
       "                        <td id=\"T_60515f12_e504_11ec_b737_00d861dc5558row1_col6\" class=\"data row1 col6\" >3</td>\n",
       "                        <td id=\"T_60515f12_e504_11ec_b737_00d861dc5558row1_col7\" class=\"data row1 col7\" >1</td>\n",
       "                        <td id=\"T_60515f12_e504_11ec_b737_00d861dc5558row1_col8\" class=\"data row1 col8\" >0</td>\n",
       "                        <td id=\"T_60515f12_e504_11ec_b737_00d861dc5558row1_col9\" class=\"data row1 col9\" >3</td>\n",
       "            </tr>\n",
       "            <tr>\n",
       "                                <td id=\"T_60515f12_e504_11ec_b737_00d861dc5558row2_col0\" class=\"data row2 col0\" >2021-10-30</td>\n",
       "                        <td id=\"T_60515f12_e504_11ec_b737_00d861dc5558row2_col1\" class=\"data row2 col1\" >56</td>\n",
       "                        <td id=\"T_60515f12_e504_11ec_b737_00d861dc5558row2_col2\" class=\"data row2 col2\" >15</td>\n",
       "                        <td id=\"T_60515f12_e504_11ec_b737_00d861dc5558row2_col3\" class=\"data row2 col3\" >44</td>\n",
       "                        <td id=\"T_60515f12_e504_11ec_b737_00d861dc5558row2_col4\" class=\"data row2 col4\" >9</td>\n",
       "                        <td id=\"T_60515f12_e504_11ec_b737_00d861dc5558row2_col5\" class=\"data row2 col5\" >1</td>\n",
       "                        <td id=\"T_60515f12_e504_11ec_b737_00d861dc5558row2_col6\" class=\"data row2 col6\" >5</td>\n",
       "                        <td id=\"T_60515f12_e504_11ec_b737_00d861dc5558row2_col7\" class=\"data row2 col7\" >0</td>\n",
       "                        <td id=\"T_60515f12_e504_11ec_b737_00d861dc5558row2_col8\" class=\"data row2 col8\" >0</td>\n",
       "                        <td id=\"T_60515f12_e504_11ec_b737_00d861dc5558row2_col9\" class=\"data row2 col9\" >2</td>\n",
       "            </tr>\n",
       "            <tr>\n",
       "                                <td id=\"T_60515f12_e504_11ec_b737_00d861dc5558row3_col0\" class=\"data row3 col0\" >2021-11-02</td>\n",
       "                        <td id=\"T_60515f12_e504_11ec_b737_00d861dc5558row3_col1\" class=\"data row3 col1\" >95</td>\n",
       "                        <td id=\"T_60515f12_e504_11ec_b737_00d861dc5558row3_col2\" class=\"data row3 col2\" >16</td>\n",
       "                        <td id=\"T_60515f12_e504_11ec_b737_00d861dc5558row3_col3\" class=\"data row3 col3\" >91</td>\n",
       "                        <td id=\"T_60515f12_e504_11ec_b737_00d861dc5558row3_col4\" class=\"data row3 col4\" >12</td>\n",
       "                        <td id=\"T_60515f12_e504_11ec_b737_00d861dc5558row3_col5\" class=\"data row3 col5\" >1</td>\n",
       "                        <td id=\"T_60515f12_e504_11ec_b737_00d861dc5558row3_col6\" class=\"data row3 col6\" >4</td>\n",
       "                        <td id=\"T_60515f12_e504_11ec_b737_00d861dc5558row3_col7\" class=\"data row3 col7\" >1</td>\n",
       "                        <td id=\"T_60515f12_e504_11ec_b737_00d861dc5558row3_col8\" class=\"data row3 col8\" >0</td>\n",
       "                        <td id=\"T_60515f12_e504_11ec_b737_00d861dc5558row3_col9\" class=\"data row3 col9\" >14</td>\n",
       "            </tr>\n",
       "            <tr>\n",
       "                                <td id=\"T_60515f12_e504_11ec_b737_00d861dc5558row4_col0\" class=\"data row4 col0\" >2021-11-10</td>\n",
       "                        <td id=\"T_60515f12_e504_11ec_b737_00d861dc5558row4_col1\" class=\"data row4 col1\" >471</td>\n",
       "                        <td id=\"T_60515f12_e504_11ec_b737_00d861dc5558row4_col2\" class=\"data row4 col2\" >54</td>\n",
       "                        <td id=\"T_60515f12_e504_11ec_b737_00d861dc5558row4_col3\" class=\"data row4 col3\" >471</td>\n",
       "                        <td id=\"T_60515f12_e504_11ec_b737_00d861dc5558row4_col4\" class=\"data row4 col4\" >44</td>\n",
       "                        <td id=\"T_60515f12_e504_11ec_b737_00d861dc5558row4_col5\" class=\"data row4 col5\" >0</td>\n",
       "                        <td id=\"T_60515f12_e504_11ec_b737_00d861dc5558row4_col6\" class=\"data row4 col6\" >10</td>\n",
       "                        <td id=\"T_60515f12_e504_11ec_b737_00d861dc5558row4_col7\" class=\"data row4 col7\" >1</td>\n",
       "                        <td id=\"T_60515f12_e504_11ec_b737_00d861dc5558row4_col8\" class=\"data row4 col8\" >0</td>\n",
       "                        <td id=\"T_60515f12_e504_11ec_b737_00d861dc5558row4_col9\" class=\"data row4 col9\" >34</td>\n",
       "            </tr>\n",
       "            <tr>\n",
       "                                <td id=\"T_60515f12_e504_11ec_b737_00d861dc5558row5_col0\" class=\"data row5 col0\" >2021-11-13</td>\n",
       "                        <td id=\"T_60515f12_e504_11ec_b737_00d861dc5558row5_col1\" class=\"data row5 col1\" >497</td>\n",
       "                        <td id=\"T_60515f12_e504_11ec_b737_00d861dc5558row5_col2\" class=\"data row5 col2\" >46</td>\n",
       "                        <td id=\"T_60515f12_e504_11ec_b737_00d861dc5558row5_col3\" class=\"data row5 col3\" >496</td>\n",
       "                        <td id=\"T_60515f12_e504_11ec_b737_00d861dc5558row5_col4\" class=\"data row5 col4\" >43</td>\n",
       "                        <td id=\"T_60515f12_e504_11ec_b737_00d861dc5558row5_col5\" class=\"data row5 col5\" >1</td>\n",
       "                        <td id=\"T_60515f12_e504_11ec_b737_00d861dc5558row5_col6\" class=\"data row5 col6\" >1</td>\n",
       "                        <td id=\"T_60515f12_e504_11ec_b737_00d861dc5558row5_col7\" class=\"data row5 col7\" >0</td>\n",
       "                        <td id=\"T_60515f12_e504_11ec_b737_00d861dc5558row5_col8\" class=\"data row5 col8\" >0</td>\n",
       "                        <td id=\"T_60515f12_e504_11ec_b737_00d861dc5558row5_col9\" class=\"data row5 col9\" >11</td>\n",
       "            </tr>\n",
       "            <tr>\n",
       "                                <td id=\"T_60515f12_e504_11ec_b737_00d861dc5558row6_col0\" class=\"data row6 col0\" >2021-11-16</td>\n",
       "                        <td id=\"T_60515f12_e504_11ec_b737_00d861dc5558row6_col1\" class=\"data row6 col1\" >451</td>\n",
       "                        <td id=\"T_60515f12_e504_11ec_b737_00d861dc5558row6_col2\" class=\"data row6 col2\" >143</td>\n",
       "                        <td id=\"T_60515f12_e504_11ec_b737_00d861dc5558row6_col3\" class=\"data row6 col3\" >447</td>\n",
       "                        <td id=\"T_60515f12_e504_11ec_b737_00d861dc5558row6_col4\" class=\"data row6 col4\" >114</td>\n",
       "                        <td id=\"T_60515f12_e504_11ec_b737_00d861dc5558row6_col5\" class=\"data row6 col5\" >2</td>\n",
       "                        <td id=\"T_60515f12_e504_11ec_b737_00d861dc5558row6_col6\" class=\"data row6 col6\" >29</td>\n",
       "                        <td id=\"T_60515f12_e504_11ec_b737_00d861dc5558row6_col7\" class=\"data row6 col7\" >2</td>\n",
       "                        <td id=\"T_60515f12_e504_11ec_b737_00d861dc5558row6_col8\" class=\"data row6 col8\" >0</td>\n",
       "                        <td id=\"T_60515f12_e504_11ec_b737_00d861dc5558row6_col9\" class=\"data row6 col9\" >39</td>\n",
       "            </tr>\n",
       "            <tr>\n",
       "                                <td id=\"T_60515f12_e504_11ec_b737_00d861dc5558row7_col0\" class=\"data row7 col0\" >2021-11-20</td>\n",
       "                        <td id=\"T_60515f12_e504_11ec_b737_00d861dc5558row7_col1\" class=\"data row7 col1\" >287</td>\n",
       "                        <td id=\"T_60515f12_e504_11ec_b737_00d861dc5558row7_col2\" class=\"data row7 col2\" >269</td>\n",
       "                        <td id=\"T_60515f12_e504_11ec_b737_00d861dc5558row7_col3\" class=\"data row7 col3\" >285</td>\n",
       "                        <td id=\"T_60515f12_e504_11ec_b737_00d861dc5558row7_col4\" class=\"data row7 col4\" >263</td>\n",
       "                        <td id=\"T_60515f12_e504_11ec_b737_00d861dc5558row7_col5\" class=\"data row7 col5\" >2</td>\n",
       "                        <td id=\"T_60515f12_e504_11ec_b737_00d861dc5558row7_col6\" class=\"data row7 col6\" >6</td>\n",
       "                        <td id=\"T_60515f12_e504_11ec_b737_00d861dc5558row7_col7\" class=\"data row7 col7\" >1</td>\n",
       "                        <td id=\"T_60515f12_e504_11ec_b737_00d861dc5558row7_col8\" class=\"data row7 col8\" >0</td>\n",
       "                        <td id=\"T_60515f12_e504_11ec_b737_00d861dc5558row7_col9\" class=\"data row7 col9\" >2</td>\n",
       "            </tr>\n",
       "            <tr>\n",
       "                                <td id=\"T_60515f12_e504_11ec_b737_00d861dc5558row8_col0\" class=\"data row8 col0\" >2021-11-23</td>\n",
       "                        <td id=\"T_60515f12_e504_11ec_b737_00d861dc5558row8_col1\" class=\"data row8 col1\" >201</td>\n",
       "                        <td id=\"T_60515f12_e504_11ec_b737_00d861dc5558row8_col2\" class=\"data row8 col2\" >164</td>\n",
       "                        <td id=\"T_60515f12_e504_11ec_b737_00d861dc5558row8_col3\" class=\"data row8 col3\" >197</td>\n",
       "                        <td id=\"T_60515f12_e504_11ec_b737_00d861dc5558row8_col4\" class=\"data row8 col4\" >162</td>\n",
       "                        <td id=\"T_60515f12_e504_11ec_b737_00d861dc5558row8_col5\" class=\"data row8 col5\" >2</td>\n",
       "                        <td id=\"T_60515f12_e504_11ec_b737_00d861dc5558row8_col6\" class=\"data row8 col6\" >2</td>\n",
       "                        <td id=\"T_60515f12_e504_11ec_b737_00d861dc5558row8_col7\" class=\"data row8 col7\" >0</td>\n",
       "                        <td id=\"T_60515f12_e504_11ec_b737_00d861dc5558row8_col8\" class=\"data row8 col8\" >0</td>\n",
       "                        <td id=\"T_60515f12_e504_11ec_b737_00d861dc5558row8_col9\" class=\"data row8 col9\" >1</td>\n",
       "            </tr>\n",
       "            <tr>\n",
       "                                <td id=\"T_60515f12_e504_11ec_b737_00d861dc5558row9_col0\" class=\"data row9 col0\" >2021-11-27</td>\n",
       "                        <td id=\"T_60515f12_e504_11ec_b737_00d861dc5558row9_col1\" class=\"data row9 col1\" >85</td>\n",
       "                        <td id=\"T_60515f12_e504_11ec_b737_00d861dc5558row9_col2\" class=\"data row9 col2\" >155</td>\n",
       "                        <td id=\"T_60515f12_e504_11ec_b737_00d861dc5558row9_col3\" class=\"data row9 col3\" >85</td>\n",
       "                        <td id=\"T_60515f12_e504_11ec_b737_00d861dc5558row9_col4\" class=\"data row9 col4\" >153</td>\n",
       "                        <td id=\"T_60515f12_e504_11ec_b737_00d861dc5558row9_col5\" class=\"data row9 col5\" >0</td>\n",
       "                        <td id=\"T_60515f12_e504_11ec_b737_00d861dc5558row9_col6\" class=\"data row9 col6\" >2</td>\n",
       "                        <td id=\"T_60515f12_e504_11ec_b737_00d861dc5558row9_col7\" class=\"data row9 col7\" >0</td>\n",
       "                        <td id=\"T_60515f12_e504_11ec_b737_00d861dc5558row9_col8\" class=\"data row9 col8\" >0</td>\n",
       "                        <td id=\"T_60515f12_e504_11ec_b737_00d861dc5558row9_col9\" class=\"data row9 col9\" >2</td>\n",
       "            </tr>\n",
       "            <tr>\n",
       "                                <td id=\"T_60515f12_e504_11ec_b737_00d861dc5558row10_col0\" class=\"data row10 col0\" >2021-11-30</td>\n",
       "                        <td id=\"T_60515f12_e504_11ec_b737_00d861dc5558row10_col1\" class=\"data row10 col1\" >42</td>\n",
       "                        <td id=\"T_60515f12_e504_11ec_b737_00d861dc5558row10_col2\" class=\"data row10 col2\" >77</td>\n",
       "                        <td id=\"T_60515f12_e504_11ec_b737_00d861dc5558row10_col3\" class=\"data row10 col3\" >42</td>\n",
       "                        <td id=\"T_60515f12_e504_11ec_b737_00d861dc5558row10_col4\" class=\"data row10 col4\" >76</td>\n",
       "                        <td id=\"T_60515f12_e504_11ec_b737_00d861dc5558row10_col5\" class=\"data row10 col5\" >0</td>\n",
       "                        <td id=\"T_60515f12_e504_11ec_b737_00d861dc5558row10_col6\" class=\"data row10 col6\" >1</td>\n",
       "                        <td id=\"T_60515f12_e504_11ec_b737_00d861dc5558row10_col7\" class=\"data row10 col7\" >0</td>\n",
       "                        <td id=\"T_60515f12_e504_11ec_b737_00d861dc5558row10_col8\" class=\"data row10 col8\" >0</td>\n",
       "                        <td id=\"T_60515f12_e504_11ec_b737_00d861dc5558row10_col9\" class=\"data row10 col9\" >0</td>\n",
       "            </tr>\n",
       "            <tr>\n",
       "                                <td id=\"T_60515f12_e504_11ec_b737_00d861dc5558row11_col0\" class=\"data row11 col0\" >2021-12-04</td>\n",
       "                        <td id=\"T_60515f12_e504_11ec_b737_00d861dc5558row11_col1\" class=\"data row11 col1\" >8</td>\n",
       "                        <td id=\"T_60515f12_e504_11ec_b737_00d861dc5558row11_col2\" class=\"data row11 col2\" >39</td>\n",
       "                        <td id=\"T_60515f12_e504_11ec_b737_00d861dc5558row11_col3\" class=\"data row11 col3\" >8</td>\n",
       "                        <td id=\"T_60515f12_e504_11ec_b737_00d861dc5558row11_col4\" class=\"data row11 col4\" >38</td>\n",
       "                        <td id=\"T_60515f12_e504_11ec_b737_00d861dc5558row11_col5\" class=\"data row11 col5\" >0</td>\n",
       "                        <td id=\"T_60515f12_e504_11ec_b737_00d861dc5558row11_col6\" class=\"data row11 col6\" >1</td>\n",
       "                        <td id=\"T_60515f12_e504_11ec_b737_00d861dc5558row11_col7\" class=\"data row11 col7\" >0</td>\n",
       "                        <td id=\"T_60515f12_e504_11ec_b737_00d861dc5558row11_col8\" class=\"data row11 col8\" >0</td>\n",
       "                        <td id=\"T_60515f12_e504_11ec_b737_00d861dc5558row11_col9\" class=\"data row11 col9\" >0</td>\n",
       "            </tr>\n",
       "            <tr>\n",
       "                                <td id=\"T_60515f12_e504_11ec_b737_00d861dc5558row12_col0\" class=\"data row12 col0\" >2021-12-07</td>\n",
       "                        <td id=\"T_60515f12_e504_11ec_b737_00d861dc5558row12_col1\" class=\"data row12 col1\" >3</td>\n",
       "                        <td id=\"T_60515f12_e504_11ec_b737_00d861dc5558row12_col2\" class=\"data row12 col2\" >24</td>\n",
       "                        <td id=\"T_60515f12_e504_11ec_b737_00d861dc5558row12_col3\" class=\"data row12 col3\" >3</td>\n",
       "                        <td id=\"T_60515f12_e504_11ec_b737_00d861dc5558row12_col4\" class=\"data row12 col4\" >22</td>\n",
       "                        <td id=\"T_60515f12_e504_11ec_b737_00d861dc5558row12_col5\" class=\"data row12 col5\" >0</td>\n",
       "                        <td id=\"T_60515f12_e504_11ec_b737_00d861dc5558row12_col6\" class=\"data row12 col6\" >2</td>\n",
       "                        <td id=\"T_60515f12_e504_11ec_b737_00d861dc5558row12_col7\" class=\"data row12 col7\" >0</td>\n",
       "                        <td id=\"T_60515f12_e504_11ec_b737_00d861dc5558row12_col8\" class=\"data row12 col8\" >0</td>\n",
       "                        <td id=\"T_60515f12_e504_11ec_b737_00d861dc5558row12_col9\" class=\"data row12 col9\" >0</td>\n",
       "            </tr>\n",
       "    </tbody></table>"
      ],
      "text/plain": [
       "<IPython.core.display.HTML object>"
      ]
     },
     "metadata": {},
     "output_type": "display_data"
    },
    {
     "data": {
      "text/html": [
       "<h3>Yearly Totals</h3><style  type=\"text/css\" >\n",
       "</style><table id=\"T_60533446_e504_11ec_84f9_00d861dc5558\" ><caption>Note: Yearly total is the survey date where (day's live + dead up to date) is max</caption><thead>    <tr>        <th class=\"col_heading level0 col0\" >Salmon</th>        <th class=\"col_heading level0 col1\" >Chum</th>        <th class=\"col_heading level0 col2\" >Coho</th>        <th class=\"col_heading level0 col3\" >Based on survey</th>    </tr></thead><tbody>\n",
       "                <tr>\n",
       "                                <td id=\"T_60533446_e504_11ec_84f9_00d861dc5558row0_col0\" class=\"data row0 col0\" >1008</td>\n",
       "                        <td id=\"T_60533446_e504_11ec_84f9_00d861dc5558row0_col1\" class=\"data row0 col1\" >939</td>\n",
       "                        <td id=\"T_60533446_e504_11ec_84f9_00d861dc5558row0_col2\" class=\"data row0 col2\" >66</td>\n",
       "                        <td id=\"T_60533446_e504_11ec_84f9_00d861dc5558row0_col3\" class=\"data row0 col3\" >2021-12-07</td>\n",
       "            </tr>\n",
       "    </tbody></table>"
      ],
      "text/plain": [
       "<IPython.core.display.HTML object>"
      ]
     },
     "metadata": {},
     "output_type": "display_data"
    },
    {
     "data": {
      "text/html": [
       "<h3>Redds by location</h3><style  type=\"text/css\" >\n",
       "</style><table id=\"T_605445fc_e504_11ec_af73_00d861dc5558\" ><thead>    <tr>        <th class=\"col_heading level0 col0\" >Stream</th>        <th class=\"col_heading level0 col1\" >Distance</th>        <th class=\"col_heading level0 col2\" >Survey_Date</th>    </tr></thead><tbody>\n",
       "                <tr>\n",
       "                                <td id=\"T_605445fc_e504_11ec_af73_00d861dc5558row0_col0\" class=\"data row0 col0\" >Mohlendorph Creek</td>\n",
       "                        <td id=\"T_605445fc_e504_11ec_af73_00d861dc5558row0_col1\" class=\"data row0 col1\" >40</td>\n",
       "                        <td id=\"T_605445fc_e504_11ec_af73_00d861dc5558row0_col2\" class=\"data row0 col2\" >11/16/2021</td>\n",
       "            </tr>\n",
       "            <tr>\n",
       "                                <td id=\"T_605445fc_e504_11ec_af73_00d861dc5558row1_col0\" class=\"data row1 col0\" >Piper's Creek</td>\n",
       "                        <td id=\"T_605445fc_e504_11ec_af73_00d861dc5558row1_col1\" class=\"data row1 col1\" >290</td>\n",
       "                        <td id=\"T_605445fc_e504_11ec_af73_00d861dc5558row1_col2\" class=\"data row1 col2\" >11/02/2021</td>\n",
       "            </tr>\n",
       "            <tr>\n",
       "                                <td id=\"T_605445fc_e504_11ec_af73_00d861dc5558row2_col0\" class=\"data row2 col0\" >Piper's Creek</td>\n",
       "                        <td id=\"T_605445fc_e504_11ec_af73_00d861dc5558row2_col1\" class=\"data row2 col1\" >460</td>\n",
       "                        <td id=\"T_605445fc_e504_11ec_af73_00d861dc5558row2_col2\" class=\"data row2 col2\" >11/16/2021</td>\n",
       "            </tr>\n",
       "            <tr>\n",
       "                                <td id=\"T_605445fc_e504_11ec_af73_00d861dc5558row3_col0\" class=\"data row3 col0\" >Piper's Creek</td>\n",
       "                        <td id=\"T_605445fc_e504_11ec_af73_00d861dc5558row3_col1\" class=\"data row3 col1\" >500</td>\n",
       "                        <td id=\"T_605445fc_e504_11ec_af73_00d861dc5558row3_col2\" class=\"data row3 col2\" >11/02/2021</td>\n",
       "            </tr>\n",
       "            <tr>\n",
       "                                <td id=\"T_605445fc_e504_11ec_af73_00d861dc5558row4_col0\" class=\"data row4 col0\" >Piper's Creek</td>\n",
       "                        <td id=\"T_605445fc_e504_11ec_af73_00d861dc5558row4_col1\" class=\"data row4 col1\" >535</td>\n",
       "                        <td id=\"T_605445fc_e504_11ec_af73_00d861dc5558row4_col2\" class=\"data row4 col2\" >11/02/2021</td>\n",
       "            </tr>\n",
       "            <tr>\n",
       "                                <td id=\"T_605445fc_e504_11ec_af73_00d861dc5558row5_col0\" class=\"data row5 col0\" >Piper's Creek</td>\n",
       "                        <td id=\"T_605445fc_e504_11ec_af73_00d861dc5558row5_col1\" class=\"data row5 col1\" >550</td>\n",
       "                        <td id=\"T_605445fc_e504_11ec_af73_00d861dc5558row5_col2\" class=\"data row5 col2\" >11/23/2021</td>\n",
       "            </tr>\n",
       "            <tr>\n",
       "                                <td id=\"T_605445fc_e504_11ec_af73_00d861dc5558row6_col0\" class=\"data row6 col0\" >Piper's Creek</td>\n",
       "                        <td id=\"T_605445fc_e504_11ec_af73_00d861dc5558row6_col1\" class=\"data row6 col1\" >570</td>\n",
       "                        <td id=\"T_605445fc_e504_11ec_af73_00d861dc5558row6_col2\" class=\"data row6 col2\" >11/13/2021</td>\n",
       "            </tr>\n",
       "            <tr>\n",
       "                                <td id=\"T_605445fc_e504_11ec_af73_00d861dc5558row7_col0\" class=\"data row7 col0\" >Piper's Creek</td>\n",
       "                        <td id=\"T_605445fc_e504_11ec_af73_00d861dc5558row7_col1\" class=\"data row7 col1\" >660</td>\n",
       "                        <td id=\"T_605445fc_e504_11ec_af73_00d861dc5558row7_col2\" class=\"data row7 col2\" >11/02/2021</td>\n",
       "            </tr>\n",
       "            <tr>\n",
       "                                <td id=\"T_605445fc_e504_11ec_af73_00d861dc5558row8_col0\" class=\"data row8 col0\" >Piper's Creek</td>\n",
       "                        <td id=\"T_605445fc_e504_11ec_af73_00d861dc5558row8_col1\" class=\"data row8 col1\" >675</td>\n",
       "                        <td id=\"T_605445fc_e504_11ec_af73_00d861dc5558row8_col2\" class=\"data row8 col2\" >11/27/2021</td>\n",
       "            </tr>\n",
       "            <tr>\n",
       "                                <td id=\"T_605445fc_e504_11ec_af73_00d861dc5558row9_col0\" class=\"data row9 col0\" >Piper's Creek</td>\n",
       "                        <td id=\"T_605445fc_e504_11ec_af73_00d861dc5558row9_col1\" class=\"data row9 col1\" >690</td>\n",
       "                        <td id=\"T_605445fc_e504_11ec_af73_00d861dc5558row9_col2\" class=\"data row9 col2\" >11/02/2021</td>\n",
       "            </tr>\n",
       "            <tr>\n",
       "                                <td id=\"T_605445fc_e504_11ec_af73_00d861dc5558row10_col0\" class=\"data row10 col0\" >Piper's Creek</td>\n",
       "                        <td id=\"T_605445fc_e504_11ec_af73_00d861dc5558row10_col1\" class=\"data row10 col1\" >715</td>\n",
       "                        <td id=\"T_605445fc_e504_11ec_af73_00d861dc5558row10_col2\" class=\"data row10 col2\" >10/26/2021</td>\n",
       "            </tr>\n",
       "            <tr>\n",
       "                                <td id=\"T_605445fc_e504_11ec_af73_00d861dc5558row11_col0\" class=\"data row11 col0\" >Piper's Creek</td>\n",
       "                        <td id=\"T_605445fc_e504_11ec_af73_00d861dc5558row11_col1\" class=\"data row11 col1\" >780</td>\n",
       "                        <td id=\"T_605445fc_e504_11ec_af73_00d861dc5558row11_col2\" class=\"data row11 col2\" >11/10/2021</td>\n",
       "            </tr>\n",
       "            <tr>\n",
       "                                <td id=\"T_605445fc_e504_11ec_af73_00d861dc5558row12_col0\" class=\"data row12 col0\" >Piper's Creek</td>\n",
       "                        <td id=\"T_605445fc_e504_11ec_af73_00d861dc5558row12_col1\" class=\"data row12 col1\" >785</td>\n",
       "                        <td id=\"T_605445fc_e504_11ec_af73_00d861dc5558row12_col2\" class=\"data row12 col2\" >11/10/2021</td>\n",
       "            </tr>\n",
       "            <tr>\n",
       "                                <td id=\"T_605445fc_e504_11ec_af73_00d861dc5558row13_col0\" class=\"data row13 col0\" >Piper's Creek</td>\n",
       "                        <td id=\"T_605445fc_e504_11ec_af73_00d861dc5558row13_col1\" class=\"data row13 col1\" >795</td>\n",
       "                        <td id=\"T_605445fc_e504_11ec_af73_00d861dc5558row13_col2\" class=\"data row13 col2\" >11/10/2021</td>\n",
       "            </tr>\n",
       "            <tr>\n",
       "                                <td id=\"T_605445fc_e504_11ec_af73_00d861dc5558row14_col0\" class=\"data row14 col0\" >Piper's Creek</td>\n",
       "                        <td id=\"T_605445fc_e504_11ec_af73_00d861dc5558row14_col1\" class=\"data row14 col1\" >795</td>\n",
       "                        <td id=\"T_605445fc_e504_11ec_af73_00d861dc5558row14_col2\" class=\"data row14 col2\" >11/10/2021</td>\n",
       "            </tr>\n",
       "            <tr>\n",
       "                                <td id=\"T_605445fc_e504_11ec_af73_00d861dc5558row15_col0\" class=\"data row15 col0\" >Piper's Creek</td>\n",
       "                        <td id=\"T_605445fc_e504_11ec_af73_00d861dc5558row15_col1\" class=\"data row15 col1\" >800</td>\n",
       "                        <td id=\"T_605445fc_e504_11ec_af73_00d861dc5558row15_col2\" class=\"data row15 col2\" >11/02/2021</td>\n",
       "            </tr>\n",
       "            <tr>\n",
       "                                <td id=\"T_605445fc_e504_11ec_af73_00d861dc5558row16_col0\" class=\"data row16 col0\" >Piper's Creek</td>\n",
       "                        <td id=\"T_605445fc_e504_11ec_af73_00d861dc5558row16_col1\" class=\"data row16 col1\" >815</td>\n",
       "                        <td id=\"T_605445fc_e504_11ec_af73_00d861dc5558row16_col2\" class=\"data row16 col2\" >10/26/2021</td>\n",
       "            </tr>\n",
       "            <tr>\n",
       "                                <td id=\"T_605445fc_e504_11ec_af73_00d861dc5558row17_col0\" class=\"data row17 col0\" >Piper's Creek</td>\n",
       "                        <td id=\"T_605445fc_e504_11ec_af73_00d861dc5558row17_col1\" class=\"data row17 col1\" >945</td>\n",
       "                        <td id=\"T_605445fc_e504_11ec_af73_00d861dc5558row17_col2\" class=\"data row17 col2\" >10/26/2021</td>\n",
       "            </tr>\n",
       "            <tr>\n",
       "                                <td id=\"T_605445fc_e504_11ec_af73_00d861dc5558row18_col0\" class=\"data row18 col0\" >Piper's Creek</td>\n",
       "                        <td id=\"T_605445fc_e504_11ec_af73_00d861dc5558row18_col1\" class=\"data row18 col1\" >950</td>\n",
       "                        <td id=\"T_605445fc_e504_11ec_af73_00d861dc5558row18_col2\" class=\"data row18 col2\" >11/13/2021</td>\n",
       "            </tr>\n",
       "            <tr>\n",
       "                                <td id=\"T_605445fc_e504_11ec_af73_00d861dc5558row19_col0\" class=\"data row19 col0\" >Piper's Creek</td>\n",
       "                        <td id=\"T_605445fc_e504_11ec_af73_00d861dc5558row19_col1\" class=\"data row19 col1\" >950</td>\n",
       "                        <td id=\"T_605445fc_e504_11ec_af73_00d861dc5558row19_col2\" class=\"data row19 col2\" >11/10/2021</td>\n",
       "            </tr>\n",
       "            <tr>\n",
       "                                <td id=\"T_605445fc_e504_11ec_af73_00d861dc5558row20_col0\" class=\"data row20 col0\" >Piper's Creek</td>\n",
       "                        <td id=\"T_605445fc_e504_11ec_af73_00d861dc5558row20_col1\" class=\"data row20 col1\" >990</td>\n",
       "                        <td id=\"T_605445fc_e504_11ec_af73_00d861dc5558row20_col2\" class=\"data row20 col2\" >11/10/2021</td>\n",
       "            </tr>\n",
       "            <tr>\n",
       "                                <td id=\"T_605445fc_e504_11ec_af73_00d861dc5558row21_col0\" class=\"data row21 col0\" >Piper's Creek</td>\n",
       "                        <td id=\"T_605445fc_e504_11ec_af73_00d861dc5558row21_col1\" class=\"data row21 col1\" >1000</td>\n",
       "                        <td id=\"T_605445fc_e504_11ec_af73_00d861dc5558row21_col2\" class=\"data row21 col2\" >11/02/2021</td>\n",
       "            </tr>\n",
       "            <tr>\n",
       "                                <td id=\"T_605445fc_e504_11ec_af73_00d861dc5558row22_col0\" class=\"data row22 col0\" >Piper's Creek</td>\n",
       "                        <td id=\"T_605445fc_e504_11ec_af73_00d861dc5558row22_col1\" class=\"data row22 col1\" >1010</td>\n",
       "                        <td id=\"T_605445fc_e504_11ec_af73_00d861dc5558row22_col2\" class=\"data row22 col2\" >11/16/2021</td>\n",
       "            </tr>\n",
       "            <tr>\n",
       "                                <td id=\"T_605445fc_e504_11ec_af73_00d861dc5558row23_col0\" class=\"data row23 col0\" >Piper's Creek</td>\n",
       "                        <td id=\"T_605445fc_e504_11ec_af73_00d861dc5558row23_col1\" class=\"data row23 col1\" >1010</td>\n",
       "                        <td id=\"T_605445fc_e504_11ec_af73_00d861dc5558row23_col2\" class=\"data row23 col2\" >11/10/2021</td>\n",
       "            </tr>\n",
       "            <tr>\n",
       "                                <td id=\"T_605445fc_e504_11ec_af73_00d861dc5558row24_col0\" class=\"data row24 col0\" >Piper's Creek</td>\n",
       "                        <td id=\"T_605445fc_e504_11ec_af73_00d861dc5558row24_col1\" class=\"data row24 col1\" >1030</td>\n",
       "                        <td id=\"T_605445fc_e504_11ec_af73_00d861dc5558row24_col2\" class=\"data row24 col2\" >11/20/2021</td>\n",
       "            </tr>\n",
       "            <tr>\n",
       "                                <td id=\"T_605445fc_e504_11ec_af73_00d861dc5558row25_col0\" class=\"data row25 col0\" >Piper's Creek</td>\n",
       "                        <td id=\"T_605445fc_e504_11ec_af73_00d861dc5558row25_col1\" class=\"data row25 col1\" >1050</td>\n",
       "                        <td id=\"T_605445fc_e504_11ec_af73_00d861dc5558row25_col2\" class=\"data row25 col2\" >11/10/2021</td>\n",
       "            </tr>\n",
       "            <tr>\n",
       "                                <td id=\"T_605445fc_e504_11ec_af73_00d861dc5558row26_col0\" class=\"data row26 col0\" >Piper's Creek</td>\n",
       "                        <td id=\"T_605445fc_e504_11ec_af73_00d861dc5558row26_col1\" class=\"data row26 col1\" >1055</td>\n",
       "                        <td id=\"T_605445fc_e504_11ec_af73_00d861dc5558row26_col2\" class=\"data row26 col2\" >11/10/2021</td>\n",
       "            </tr>\n",
       "            <tr>\n",
       "                                <td id=\"T_605445fc_e504_11ec_af73_00d861dc5558row27_col0\" class=\"data row27 col0\" >Piper's Creek</td>\n",
       "                        <td id=\"T_605445fc_e504_11ec_af73_00d861dc5558row27_col1\" class=\"data row27 col1\" >1060</td>\n",
       "                        <td id=\"T_605445fc_e504_11ec_af73_00d861dc5558row27_col2\" class=\"data row27 col2\" >11/02/2021</td>\n",
       "            </tr>\n",
       "            <tr>\n",
       "                                <td id=\"T_605445fc_e504_11ec_af73_00d861dc5558row28_col0\" class=\"data row28 col0\" >Piper's Creek</td>\n",
       "                        <td id=\"T_605445fc_e504_11ec_af73_00d861dc5558row28_col1\" class=\"data row28 col1\" >1100</td>\n",
       "                        <td id=\"T_605445fc_e504_11ec_af73_00d861dc5558row28_col2\" class=\"data row28 col2\" >11/10/2021</td>\n",
       "            </tr>\n",
       "            <tr>\n",
       "                                <td id=\"T_605445fc_e504_11ec_af73_00d861dc5558row29_col0\" class=\"data row29 col0\" >Piper's Creek</td>\n",
       "                        <td id=\"T_605445fc_e504_11ec_af73_00d861dc5558row29_col1\" class=\"data row29 col1\" >1125</td>\n",
       "                        <td id=\"T_605445fc_e504_11ec_af73_00d861dc5558row29_col2\" class=\"data row29 col2\" >11/02/2021</td>\n",
       "            </tr>\n",
       "            <tr>\n",
       "                                <td id=\"T_605445fc_e504_11ec_af73_00d861dc5558row30_col0\" class=\"data row30 col0\" >Piper's Creek</td>\n",
       "                        <td id=\"T_605445fc_e504_11ec_af73_00d861dc5558row30_col1\" class=\"data row30 col1\" >1160</td>\n",
       "                        <td id=\"T_605445fc_e504_11ec_af73_00d861dc5558row30_col2\" class=\"data row30 col2\" >11/27/2021</td>\n",
       "            </tr>\n",
       "            <tr>\n",
       "                                <td id=\"T_605445fc_e504_11ec_af73_00d861dc5558row31_col0\" class=\"data row31 col0\" >Piper's Creek</td>\n",
       "                        <td id=\"T_605445fc_e504_11ec_af73_00d861dc5558row31_col1\" class=\"data row31 col1\" >1160</td>\n",
       "                        <td id=\"T_605445fc_e504_11ec_af73_00d861dc5558row31_col2\" class=\"data row31 col2\" >11/10/2021</td>\n",
       "            </tr>\n",
       "            <tr>\n",
       "                                <td id=\"T_605445fc_e504_11ec_af73_00d861dc5558row32_col0\" class=\"data row32 col0\" >Piper's Creek</td>\n",
       "                        <td id=\"T_605445fc_e504_11ec_af73_00d861dc5558row32_col1\" class=\"data row32 col1\" >1180</td>\n",
       "                        <td id=\"T_605445fc_e504_11ec_af73_00d861dc5558row32_col2\" class=\"data row32 col2\" >11/10/2021</td>\n",
       "            </tr>\n",
       "            <tr>\n",
       "                                <td id=\"T_605445fc_e504_11ec_af73_00d861dc5558row33_col0\" class=\"data row33 col0\" >Piper's Creek</td>\n",
       "                        <td id=\"T_605445fc_e504_11ec_af73_00d861dc5558row33_col1\" class=\"data row33 col1\" >1200</td>\n",
       "                        <td id=\"T_605445fc_e504_11ec_af73_00d861dc5558row33_col2\" class=\"data row33 col2\" >11/13/2021</td>\n",
       "            </tr>\n",
       "            <tr>\n",
       "                                <td id=\"T_605445fc_e504_11ec_af73_00d861dc5558row34_col0\" class=\"data row34 col0\" >Piper's Creek</td>\n",
       "                        <td id=\"T_605445fc_e504_11ec_af73_00d861dc5558row34_col1\" class=\"data row34 col1\" >1240</td>\n",
       "                        <td id=\"T_605445fc_e504_11ec_af73_00d861dc5558row34_col2\" class=\"data row34 col2\" >11/10/2021</td>\n",
       "            </tr>\n",
       "            <tr>\n",
       "                                <td id=\"T_605445fc_e504_11ec_af73_00d861dc5558row35_col0\" class=\"data row35 col0\" >Piper's Creek</td>\n",
       "                        <td id=\"T_605445fc_e504_11ec_af73_00d861dc5558row35_col1\" class=\"data row35 col1\" >1245</td>\n",
       "                        <td id=\"T_605445fc_e504_11ec_af73_00d861dc5558row35_col2\" class=\"data row35 col2\" >11/16/2021</td>\n",
       "            </tr>\n",
       "            <tr>\n",
       "                                <td id=\"T_605445fc_e504_11ec_af73_00d861dc5558row36_col0\" class=\"data row36 col0\" >Piper's Creek</td>\n",
       "                        <td id=\"T_605445fc_e504_11ec_af73_00d861dc5558row36_col1\" class=\"data row36 col1\" >1260</td>\n",
       "                        <td id=\"T_605445fc_e504_11ec_af73_00d861dc5558row36_col2\" class=\"data row36 col2\" >11/20/2021</td>\n",
       "            </tr>\n",
       "            <tr>\n",
       "                                <td id=\"T_605445fc_e504_11ec_af73_00d861dc5558row37_col0\" class=\"data row37 col0\" >Piper's Creek</td>\n",
       "                        <td id=\"T_605445fc_e504_11ec_af73_00d861dc5558row37_col1\" class=\"data row37 col1\" >1260</td>\n",
       "                        <td id=\"T_605445fc_e504_11ec_af73_00d861dc5558row37_col2\" class=\"data row37 col2\" >11/16/2021</td>\n",
       "            </tr>\n",
       "            <tr>\n",
       "                                <td id=\"T_605445fc_e504_11ec_af73_00d861dc5558row38_col0\" class=\"data row38 col0\" >Piper's Creek</td>\n",
       "                        <td id=\"T_605445fc_e504_11ec_af73_00d861dc5558row38_col1\" class=\"data row38 col1\" >1260</td>\n",
       "                        <td id=\"T_605445fc_e504_11ec_af73_00d861dc5558row38_col2\" class=\"data row38 col2\" >11/13/2021</td>\n",
       "            </tr>\n",
       "            <tr>\n",
       "                                <td id=\"T_605445fc_e504_11ec_af73_00d861dc5558row39_col0\" class=\"data row39 col0\" >Piper's Creek</td>\n",
       "                        <td id=\"T_605445fc_e504_11ec_af73_00d861dc5558row39_col1\" class=\"data row39 col1\" >1260</td>\n",
       "                        <td id=\"T_605445fc_e504_11ec_af73_00d861dc5558row39_col2\" class=\"data row39 col2\" >11/10/2021</td>\n",
       "            </tr>\n",
       "            <tr>\n",
       "                                <td id=\"T_605445fc_e504_11ec_af73_00d861dc5558row40_col0\" class=\"data row40 col0\" >Piper's Creek</td>\n",
       "                        <td id=\"T_605445fc_e504_11ec_af73_00d861dc5558row40_col1\" class=\"data row40 col1\" >1265</td>\n",
       "                        <td id=\"T_605445fc_e504_11ec_af73_00d861dc5558row40_col2\" class=\"data row40 col2\" >11/13/2021</td>\n",
       "            </tr>\n",
       "            <tr>\n",
       "                                <td id=\"T_605445fc_e504_11ec_af73_00d861dc5558row41_col0\" class=\"data row41 col0\" >Piper's Creek</td>\n",
       "                        <td id=\"T_605445fc_e504_11ec_af73_00d861dc5558row41_col1\" class=\"data row41 col1\" >1270</td>\n",
       "                        <td id=\"T_605445fc_e504_11ec_af73_00d861dc5558row41_col2\" class=\"data row41 col2\" >11/16/2021</td>\n",
       "            </tr>\n",
       "            <tr>\n",
       "                                <td id=\"T_605445fc_e504_11ec_af73_00d861dc5558row42_col0\" class=\"data row42 col0\" >Piper's Creek</td>\n",
       "                        <td id=\"T_605445fc_e504_11ec_af73_00d861dc5558row42_col1\" class=\"data row42 col1\" >1270</td>\n",
       "                        <td id=\"T_605445fc_e504_11ec_af73_00d861dc5558row42_col2\" class=\"data row42 col2\" >11/10/2021</td>\n",
       "            </tr>\n",
       "            <tr>\n",
       "                                <td id=\"T_605445fc_e504_11ec_af73_00d861dc5558row43_col0\" class=\"data row43 col0\" >Piper's Creek</td>\n",
       "                        <td id=\"T_605445fc_e504_11ec_af73_00d861dc5558row43_col1\" class=\"data row43 col1\" >1270</td>\n",
       "                        <td id=\"T_605445fc_e504_11ec_af73_00d861dc5558row43_col2\" class=\"data row43 col2\" >11/10/2021</td>\n",
       "            </tr>\n",
       "            <tr>\n",
       "                                <td id=\"T_605445fc_e504_11ec_af73_00d861dc5558row44_col0\" class=\"data row44 col0\" >Piper's Creek</td>\n",
       "                        <td id=\"T_605445fc_e504_11ec_af73_00d861dc5558row44_col1\" class=\"data row44 col1\" >1275</td>\n",
       "                        <td id=\"T_605445fc_e504_11ec_af73_00d861dc5558row44_col2\" class=\"data row44 col2\" >11/16/2021</td>\n",
       "            </tr>\n",
       "            <tr>\n",
       "                                <td id=\"T_605445fc_e504_11ec_af73_00d861dc5558row45_col0\" class=\"data row45 col0\" >Piper's Creek</td>\n",
       "                        <td id=\"T_605445fc_e504_11ec_af73_00d861dc5558row45_col1\" class=\"data row45 col1\" >1280</td>\n",
       "                        <td id=\"T_605445fc_e504_11ec_af73_00d861dc5558row45_col2\" class=\"data row45 col2\" >11/16/2021</td>\n",
       "            </tr>\n",
       "            <tr>\n",
       "                                <td id=\"T_605445fc_e504_11ec_af73_00d861dc5558row46_col0\" class=\"data row46 col0\" >Piper's Creek</td>\n",
       "                        <td id=\"T_605445fc_e504_11ec_af73_00d861dc5558row46_col1\" class=\"data row46 col1\" >1283</td>\n",
       "                        <td id=\"T_605445fc_e504_11ec_af73_00d861dc5558row46_col2\" class=\"data row46 col2\" >11/16/2021</td>\n",
       "            </tr>\n",
       "            <tr>\n",
       "                                <td id=\"T_605445fc_e504_11ec_af73_00d861dc5558row47_col0\" class=\"data row47 col0\" >Piper's Creek</td>\n",
       "                        <td id=\"T_605445fc_e504_11ec_af73_00d861dc5558row47_col1\" class=\"data row47 col1\" >1300</td>\n",
       "                        <td id=\"T_605445fc_e504_11ec_af73_00d861dc5558row47_col2\" class=\"data row47 col2\" >11/13/2021</td>\n",
       "            </tr>\n",
       "            <tr>\n",
       "                                <td id=\"T_605445fc_e504_11ec_af73_00d861dc5558row48_col0\" class=\"data row48 col0\" >Piper's Creek</td>\n",
       "                        <td id=\"T_605445fc_e504_11ec_af73_00d861dc5558row48_col1\" class=\"data row48 col1\" >1300</td>\n",
       "                        <td id=\"T_605445fc_e504_11ec_af73_00d861dc5558row48_col2\" class=\"data row48 col2\" >11/10/2021</td>\n",
       "            </tr>\n",
       "            <tr>\n",
       "                                <td id=\"T_605445fc_e504_11ec_af73_00d861dc5558row49_col0\" class=\"data row49 col0\" >Piper's Creek</td>\n",
       "                        <td id=\"T_605445fc_e504_11ec_af73_00d861dc5558row49_col1\" class=\"data row49 col1\" >1348</td>\n",
       "                        <td id=\"T_605445fc_e504_11ec_af73_00d861dc5558row49_col2\" class=\"data row49 col2\" >11/16/2021</td>\n",
       "            </tr>\n",
       "            <tr>\n",
       "                                <td id=\"T_605445fc_e504_11ec_af73_00d861dc5558row50_col0\" class=\"data row50 col0\" >Piper's Creek</td>\n",
       "                        <td id=\"T_605445fc_e504_11ec_af73_00d861dc5558row50_col1\" class=\"data row50 col1\" >1348</td>\n",
       "                        <td id=\"T_605445fc_e504_11ec_af73_00d861dc5558row50_col2\" class=\"data row50 col2\" >11/16/2021</td>\n",
       "            </tr>\n",
       "            <tr>\n",
       "                                <td id=\"T_605445fc_e504_11ec_af73_00d861dc5558row51_col0\" class=\"data row51 col0\" >Piper's Creek</td>\n",
       "                        <td id=\"T_605445fc_e504_11ec_af73_00d861dc5558row51_col1\" class=\"data row51 col1\" >1360</td>\n",
       "                        <td id=\"T_605445fc_e504_11ec_af73_00d861dc5558row51_col2\" class=\"data row51 col2\" >11/16/2021</td>\n",
       "            </tr>\n",
       "            <tr>\n",
       "                                <td id=\"T_605445fc_e504_11ec_af73_00d861dc5558row52_col0\" class=\"data row52 col0\" >Piper's Creek</td>\n",
       "                        <td id=\"T_605445fc_e504_11ec_af73_00d861dc5558row52_col1\" class=\"data row52 col1\" >1362</td>\n",
       "                        <td id=\"T_605445fc_e504_11ec_af73_00d861dc5558row52_col2\" class=\"data row52 col2\" >11/16/2021</td>\n",
       "            </tr>\n",
       "            <tr>\n",
       "                                <td id=\"T_605445fc_e504_11ec_af73_00d861dc5558row53_col0\" class=\"data row53 col0\" >Piper's Creek</td>\n",
       "                        <td id=\"T_605445fc_e504_11ec_af73_00d861dc5558row53_col1\" class=\"data row53 col1\" >1375</td>\n",
       "                        <td id=\"T_605445fc_e504_11ec_af73_00d861dc5558row53_col2\" class=\"data row53 col2\" >10/30/2021</td>\n",
       "            </tr>\n",
       "            <tr>\n",
       "                                <td id=\"T_605445fc_e504_11ec_af73_00d861dc5558row54_col0\" class=\"data row54 col0\" >Piper's Creek</td>\n",
       "                        <td id=\"T_605445fc_e504_11ec_af73_00d861dc5558row54_col1\" class=\"data row54 col1\" >1400</td>\n",
       "                        <td id=\"T_605445fc_e504_11ec_af73_00d861dc5558row54_col2\" class=\"data row54 col2\" >11/02/2021</td>\n",
       "            </tr>\n",
       "            <tr>\n",
       "                                <td id=\"T_605445fc_e504_11ec_af73_00d861dc5558row55_col0\" class=\"data row55 col0\" >Piper's Creek</td>\n",
       "                        <td id=\"T_605445fc_e504_11ec_af73_00d861dc5558row55_col1\" class=\"data row55 col1\" >1420</td>\n",
       "                        <td id=\"T_605445fc_e504_11ec_af73_00d861dc5558row55_col2\" class=\"data row55 col2\" >11/10/2021</td>\n",
       "            </tr>\n",
       "            <tr>\n",
       "                                <td id=\"T_605445fc_e504_11ec_af73_00d861dc5558row56_col0\" class=\"data row56 col0\" >Piper's Creek</td>\n",
       "                        <td id=\"T_605445fc_e504_11ec_af73_00d861dc5558row56_col1\" class=\"data row56 col1\" >1425</td>\n",
       "                        <td id=\"T_605445fc_e504_11ec_af73_00d861dc5558row56_col2\" class=\"data row56 col2\" >11/10/2021</td>\n",
       "            </tr>\n",
       "            <tr>\n",
       "                                <td id=\"T_605445fc_e504_11ec_af73_00d861dc5558row57_col0\" class=\"data row57 col0\" >Piper's Creek</td>\n",
       "                        <td id=\"T_605445fc_e504_11ec_af73_00d861dc5558row57_col1\" class=\"data row57 col1\" >1450</td>\n",
       "                        <td id=\"T_605445fc_e504_11ec_af73_00d861dc5558row57_col2\" class=\"data row57 col2\" >10/30/2021</td>\n",
       "            </tr>\n",
       "            <tr>\n",
       "                                <td id=\"T_605445fc_e504_11ec_af73_00d861dc5558row58_col0\" class=\"data row58 col0\" >Piper's Creek</td>\n",
       "                        <td id=\"T_605445fc_e504_11ec_af73_00d861dc5558row58_col1\" class=\"data row58 col1\" >1515</td>\n",
       "                        <td id=\"T_605445fc_e504_11ec_af73_00d861dc5558row58_col2\" class=\"data row58 col2\" >11/16/2021</td>\n",
       "            </tr>\n",
       "            <tr>\n",
       "                                <td id=\"T_605445fc_e504_11ec_af73_00d861dc5558row59_col0\" class=\"data row59 col0\" >Piper's Creek</td>\n",
       "                        <td id=\"T_605445fc_e504_11ec_af73_00d861dc5558row59_col1\" class=\"data row59 col1\" >1550</td>\n",
       "                        <td id=\"T_605445fc_e504_11ec_af73_00d861dc5558row59_col2\" class=\"data row59 col2\" >11/16/2021</td>\n",
       "            </tr>\n",
       "            <tr>\n",
       "                                <td id=\"T_605445fc_e504_11ec_af73_00d861dc5558row60_col0\" class=\"data row60 col0\" >Piper's Creek</td>\n",
       "                        <td id=\"T_605445fc_e504_11ec_af73_00d861dc5558row60_col1\" class=\"data row60 col1\" >1550</td>\n",
       "                        <td id=\"T_605445fc_e504_11ec_af73_00d861dc5558row60_col2\" class=\"data row60 col2\" >11/13/2021</td>\n",
       "            </tr>\n",
       "            <tr>\n",
       "                                <td id=\"T_605445fc_e504_11ec_af73_00d861dc5558row61_col0\" class=\"data row61 col0\" >Piper's Creek</td>\n",
       "                        <td id=\"T_605445fc_e504_11ec_af73_00d861dc5558row61_col1\" class=\"data row61 col1\" >1550</td>\n",
       "                        <td id=\"T_605445fc_e504_11ec_af73_00d861dc5558row61_col2\" class=\"data row61 col2\" >11/13/2021</td>\n",
       "            </tr>\n",
       "            <tr>\n",
       "                                <td id=\"T_605445fc_e504_11ec_af73_00d861dc5558row62_col0\" class=\"data row62 col0\" >Piper's Creek</td>\n",
       "                        <td id=\"T_605445fc_e504_11ec_af73_00d861dc5558row62_col1\" class=\"data row62 col1\" >1550</td>\n",
       "                        <td id=\"T_605445fc_e504_11ec_af73_00d861dc5558row62_col2\" class=\"data row62 col2\" >11/02/2021</td>\n",
       "            </tr>\n",
       "            <tr>\n",
       "                                <td id=\"T_605445fc_e504_11ec_af73_00d861dc5558row63_col0\" class=\"data row63 col0\" >Piper's Creek</td>\n",
       "                        <td id=\"T_605445fc_e504_11ec_af73_00d861dc5558row63_col1\" class=\"data row63 col1\" >1570</td>\n",
       "                        <td id=\"T_605445fc_e504_11ec_af73_00d861dc5558row63_col2\" class=\"data row63 col2\" >11/16/2021</td>\n",
       "            </tr>\n",
       "            <tr>\n",
       "                                <td id=\"T_605445fc_e504_11ec_af73_00d861dc5558row64_col0\" class=\"data row64 col0\" >Piper's Creek</td>\n",
       "                        <td id=\"T_605445fc_e504_11ec_af73_00d861dc5558row64_col1\" class=\"data row64 col1\" >1570</td>\n",
       "                        <td id=\"T_605445fc_e504_11ec_af73_00d861dc5558row64_col2\" class=\"data row64 col2\" >11/10/2021</td>\n",
       "            </tr>\n",
       "            <tr>\n",
       "                                <td id=\"T_605445fc_e504_11ec_af73_00d861dc5558row65_col0\" class=\"data row65 col0\" >Piper's Creek</td>\n",
       "                        <td id=\"T_605445fc_e504_11ec_af73_00d861dc5558row65_col1\" class=\"data row65 col1\" >1615</td>\n",
       "                        <td id=\"T_605445fc_e504_11ec_af73_00d861dc5558row65_col2\" class=\"data row65 col2\" >11/10/2021</td>\n",
       "            </tr>\n",
       "            <tr>\n",
       "                                <td id=\"T_605445fc_e504_11ec_af73_00d861dc5558row66_col0\" class=\"data row66 col0\" >Piper's Creek</td>\n",
       "                        <td id=\"T_605445fc_e504_11ec_af73_00d861dc5558row66_col1\" class=\"data row66 col1\" >1625</td>\n",
       "                        <td id=\"T_605445fc_e504_11ec_af73_00d861dc5558row66_col2\" class=\"data row66 col2\" >11/10/2021</td>\n",
       "            </tr>\n",
       "            <tr>\n",
       "                                <td id=\"T_605445fc_e504_11ec_af73_00d861dc5558row67_col0\" class=\"data row67 col0\" >Piper's Creek</td>\n",
       "                        <td id=\"T_605445fc_e504_11ec_af73_00d861dc5558row67_col1\" class=\"data row67 col1\" >1650</td>\n",
       "                        <td id=\"T_605445fc_e504_11ec_af73_00d861dc5558row67_col2\" class=\"data row67 col2\" >11/13/2021</td>\n",
       "            </tr>\n",
       "            <tr>\n",
       "                                <td id=\"T_605445fc_e504_11ec_af73_00d861dc5558row68_col0\" class=\"data row68 col0\" >Piper's Creek</td>\n",
       "                        <td id=\"T_605445fc_e504_11ec_af73_00d861dc5558row68_col1\" class=\"data row68 col1\" >1660</td>\n",
       "                        <td id=\"T_605445fc_e504_11ec_af73_00d861dc5558row68_col2\" class=\"data row68 col2\" >11/10/2021</td>\n",
       "            </tr>\n",
       "            <tr>\n",
       "                                <td id=\"T_605445fc_e504_11ec_af73_00d861dc5558row69_col0\" class=\"data row69 col0\" >Piper's Creek</td>\n",
       "                        <td id=\"T_605445fc_e504_11ec_af73_00d861dc5558row69_col1\" class=\"data row69 col1\" >1660</td>\n",
       "                        <td id=\"T_605445fc_e504_11ec_af73_00d861dc5558row69_col2\" class=\"data row69 col2\" >11/10/2021</td>\n",
       "            </tr>\n",
       "            <tr>\n",
       "                                <td id=\"T_605445fc_e504_11ec_af73_00d861dc5558row70_col0\" class=\"data row70 col0\" >Piper's Creek</td>\n",
       "                        <td id=\"T_605445fc_e504_11ec_af73_00d861dc5558row70_col1\" class=\"data row70 col1\" >1670</td>\n",
       "                        <td id=\"T_605445fc_e504_11ec_af73_00d861dc5558row70_col2\" class=\"data row70 col2\" >11/10/2021</td>\n",
       "            </tr>\n",
       "            <tr>\n",
       "                                <td id=\"T_605445fc_e504_11ec_af73_00d861dc5558row71_col0\" class=\"data row71 col0\" >Piper's Creek</td>\n",
       "                        <td id=\"T_605445fc_e504_11ec_af73_00d861dc5558row71_col1\" class=\"data row71 col1\" >1675</td>\n",
       "                        <td id=\"T_605445fc_e504_11ec_af73_00d861dc5558row71_col2\" class=\"data row71 col2\" >11/02/2021</td>\n",
       "            </tr>\n",
       "            <tr>\n",
       "                                <td id=\"T_605445fc_e504_11ec_af73_00d861dc5558row72_col0\" class=\"data row72 col0\" >Piper's Creek</td>\n",
       "                        <td id=\"T_605445fc_e504_11ec_af73_00d861dc5558row72_col1\" class=\"data row72 col1\" >1735</td>\n",
       "                        <td id=\"T_605445fc_e504_11ec_af73_00d861dc5558row72_col2\" class=\"data row72 col2\" >11/16/2021</td>\n",
       "            </tr>\n",
       "            <tr>\n",
       "                                <td id=\"T_605445fc_e504_11ec_af73_00d861dc5558row73_col0\" class=\"data row73 col0\" >Piper's Creek</td>\n",
       "                        <td id=\"T_605445fc_e504_11ec_af73_00d861dc5558row73_col1\" class=\"data row73 col1\" >1740</td>\n",
       "                        <td id=\"T_605445fc_e504_11ec_af73_00d861dc5558row73_col2\" class=\"data row73 col2\" >11/16/2021</td>\n",
       "            </tr>\n",
       "            <tr>\n",
       "                                <td id=\"T_605445fc_e504_11ec_af73_00d861dc5558row74_col0\" class=\"data row74 col0\" >Piper's Creek</td>\n",
       "                        <td id=\"T_605445fc_e504_11ec_af73_00d861dc5558row74_col1\" class=\"data row74 col1\" >1740</td>\n",
       "                        <td id=\"T_605445fc_e504_11ec_af73_00d861dc5558row74_col2\" class=\"data row74 col2\" >11/16/2021</td>\n",
       "            </tr>\n",
       "            <tr>\n",
       "                                <td id=\"T_605445fc_e504_11ec_af73_00d861dc5558row75_col0\" class=\"data row75 col0\" >Piper's Creek</td>\n",
       "                        <td id=\"T_605445fc_e504_11ec_af73_00d861dc5558row75_col1\" class=\"data row75 col1\" >1742</td>\n",
       "                        <td id=\"T_605445fc_e504_11ec_af73_00d861dc5558row75_col2\" class=\"data row75 col2\" >11/16/2021</td>\n",
       "            </tr>\n",
       "            <tr>\n",
       "                                <td id=\"T_605445fc_e504_11ec_af73_00d861dc5558row76_col0\" class=\"data row76 col0\" >Piper's Creek</td>\n",
       "                        <td id=\"T_605445fc_e504_11ec_af73_00d861dc5558row76_col1\" class=\"data row76 col1\" >1750</td>\n",
       "                        <td id=\"T_605445fc_e504_11ec_af73_00d861dc5558row76_col2\" class=\"data row76 col2\" >11/02/2021</td>\n",
       "            </tr>\n",
       "            <tr>\n",
       "                                <td id=\"T_605445fc_e504_11ec_af73_00d861dc5558row77_col0\" class=\"data row77 col0\" >Piper's Creek</td>\n",
       "                        <td id=\"T_605445fc_e504_11ec_af73_00d861dc5558row77_col1\" class=\"data row77 col1\" >1755</td>\n",
       "                        <td id=\"T_605445fc_e504_11ec_af73_00d861dc5558row77_col2\" class=\"data row77 col2\" >11/10/2021</td>\n",
       "            </tr>\n",
       "            <tr>\n",
       "                                <td id=\"T_605445fc_e504_11ec_af73_00d861dc5558row78_col0\" class=\"data row78 col0\" >Piper's Creek</td>\n",
       "                        <td id=\"T_605445fc_e504_11ec_af73_00d861dc5558row78_col1\" class=\"data row78 col1\" >1760</td>\n",
       "                        <td id=\"T_605445fc_e504_11ec_af73_00d861dc5558row78_col2\" class=\"data row78 col2\" >11/10/2021</td>\n",
       "            </tr>\n",
       "            <tr>\n",
       "                                <td id=\"T_605445fc_e504_11ec_af73_00d861dc5558row79_col0\" class=\"data row79 col0\" >Piper's Creek</td>\n",
       "                        <td id=\"T_605445fc_e504_11ec_af73_00d861dc5558row79_col1\" class=\"data row79 col1\" >1765</td>\n",
       "                        <td id=\"T_605445fc_e504_11ec_af73_00d861dc5558row79_col2\" class=\"data row79 col2\" >11/10/2021</td>\n",
       "            </tr>\n",
       "            <tr>\n",
       "                                <td id=\"T_605445fc_e504_11ec_af73_00d861dc5558row80_col0\" class=\"data row80 col0\" >Piper's Creek</td>\n",
       "                        <td id=\"T_605445fc_e504_11ec_af73_00d861dc5558row80_col1\" class=\"data row80 col1\" >1775</td>\n",
       "                        <td id=\"T_605445fc_e504_11ec_af73_00d861dc5558row80_col2\" class=\"data row80 col2\" >11/16/2021</td>\n",
       "            </tr>\n",
       "            <tr>\n",
       "                                <td id=\"T_605445fc_e504_11ec_af73_00d861dc5558row81_col0\" class=\"data row81 col0\" >Piper's Creek</td>\n",
       "                        <td id=\"T_605445fc_e504_11ec_af73_00d861dc5558row81_col1\" class=\"data row81 col1\" >1780</td>\n",
       "                        <td id=\"T_605445fc_e504_11ec_af73_00d861dc5558row81_col2\" class=\"data row81 col2\" >11/10/2021</td>\n",
       "            </tr>\n",
       "            <tr>\n",
       "                                <td id=\"T_605445fc_e504_11ec_af73_00d861dc5558row82_col0\" class=\"data row82 col0\" >Piper's Creek</td>\n",
       "                        <td id=\"T_605445fc_e504_11ec_af73_00d861dc5558row82_col1\" class=\"data row82 col1\" >1810</td>\n",
       "                        <td id=\"T_605445fc_e504_11ec_af73_00d861dc5558row82_col2\" class=\"data row82 col2\" >11/16/2021</td>\n",
       "            </tr>\n",
       "            <tr>\n",
       "                                <td id=\"T_605445fc_e504_11ec_af73_00d861dc5558row83_col0\" class=\"data row83 col0\" >Piper's Creek</td>\n",
       "                        <td id=\"T_605445fc_e504_11ec_af73_00d861dc5558row83_col1\" class=\"data row83 col1\" >1820</td>\n",
       "                        <td id=\"T_605445fc_e504_11ec_af73_00d861dc5558row83_col2\" class=\"data row83 col2\" >11/16/2021</td>\n",
       "            </tr>\n",
       "            <tr>\n",
       "                                <td id=\"T_605445fc_e504_11ec_af73_00d861dc5558row84_col0\" class=\"data row84 col0\" >Piper's Creek</td>\n",
       "                        <td id=\"T_605445fc_e504_11ec_af73_00d861dc5558row84_col1\" class=\"data row84 col1\" >1845</td>\n",
       "                        <td id=\"T_605445fc_e504_11ec_af73_00d861dc5558row84_col2\" class=\"data row84 col2\" >11/16/2021</td>\n",
       "            </tr>\n",
       "            <tr>\n",
       "                                <td id=\"T_605445fc_e504_11ec_af73_00d861dc5558row85_col0\" class=\"data row85 col0\" >Piper's Creek</td>\n",
       "                        <td id=\"T_605445fc_e504_11ec_af73_00d861dc5558row85_col1\" class=\"data row85 col1\" >1895</td>\n",
       "                        <td id=\"T_605445fc_e504_11ec_af73_00d861dc5558row85_col2\" class=\"data row85 col2\" >11/10/2021</td>\n",
       "            </tr>\n",
       "            <tr>\n",
       "                                <td id=\"T_605445fc_e504_11ec_af73_00d861dc5558row86_col0\" class=\"data row86 col0\" >Piper's Creek</td>\n",
       "                        <td id=\"T_605445fc_e504_11ec_af73_00d861dc5558row86_col1\" class=\"data row86 col1\" >1905</td>\n",
       "                        <td id=\"T_605445fc_e504_11ec_af73_00d861dc5558row86_col2\" class=\"data row86 col2\" >11/16/2021</td>\n",
       "            </tr>\n",
       "            <tr>\n",
       "                                <td id=\"T_605445fc_e504_11ec_af73_00d861dc5558row87_col0\" class=\"data row87 col0\" >Piper's Creek</td>\n",
       "                        <td id=\"T_605445fc_e504_11ec_af73_00d861dc5558row87_col1\" class=\"data row87 col1\" >1910</td>\n",
       "                        <td id=\"T_605445fc_e504_11ec_af73_00d861dc5558row87_col2\" class=\"data row87 col2\" >11/10/2021</td>\n",
       "            </tr>\n",
       "            <tr>\n",
       "                                <td id=\"T_605445fc_e504_11ec_af73_00d861dc5558row88_col0\" class=\"data row88 col0\" >Piper's Creek</td>\n",
       "                        <td id=\"T_605445fc_e504_11ec_af73_00d861dc5558row88_col1\" class=\"data row88 col1\" >1950</td>\n",
       "                        <td id=\"T_605445fc_e504_11ec_af73_00d861dc5558row88_col2\" class=\"data row88 col2\" >11/16/2021</td>\n",
       "            </tr>\n",
       "            <tr>\n",
       "                                <td id=\"T_605445fc_e504_11ec_af73_00d861dc5558row89_col0\" class=\"data row89 col0\" >Piper's Creek</td>\n",
       "                        <td id=\"T_605445fc_e504_11ec_af73_00d861dc5558row89_col1\" class=\"data row89 col1\" >1960</td>\n",
       "                        <td id=\"T_605445fc_e504_11ec_af73_00d861dc5558row89_col2\" class=\"data row89 col2\" >11/16/2021</td>\n",
       "            </tr>\n",
       "            <tr>\n",
       "                                <td id=\"T_605445fc_e504_11ec_af73_00d861dc5558row90_col0\" class=\"data row90 col0\" >Piper's Creek</td>\n",
       "                        <td id=\"T_605445fc_e504_11ec_af73_00d861dc5558row90_col1\" class=\"data row90 col1\" >1970</td>\n",
       "                        <td id=\"T_605445fc_e504_11ec_af73_00d861dc5558row90_col2\" class=\"data row90 col2\" >11/02/2021</td>\n",
       "            </tr>\n",
       "            <tr>\n",
       "                                <td id=\"T_605445fc_e504_11ec_af73_00d861dc5558row91_col0\" class=\"data row91 col0\" >Piper's Creek</td>\n",
       "                        <td id=\"T_605445fc_e504_11ec_af73_00d861dc5558row91_col1\" class=\"data row91 col1\" >1975</td>\n",
       "                        <td id=\"T_605445fc_e504_11ec_af73_00d861dc5558row91_col2\" class=\"data row91 col2\" >11/16/2021</td>\n",
       "            </tr>\n",
       "            <tr>\n",
       "                                <td id=\"T_605445fc_e504_11ec_af73_00d861dc5558row92_col0\" class=\"data row92 col0\" >Piper's Creek</td>\n",
       "                        <td id=\"T_605445fc_e504_11ec_af73_00d861dc5558row92_col1\" class=\"data row92 col1\" >1975</td>\n",
       "                        <td id=\"T_605445fc_e504_11ec_af73_00d861dc5558row92_col2\" class=\"data row92 col2\" >11/10/2021</td>\n",
       "            </tr>\n",
       "            <tr>\n",
       "                                <td id=\"T_605445fc_e504_11ec_af73_00d861dc5558row93_col0\" class=\"data row93 col0\" >Piper's Creek</td>\n",
       "                        <td id=\"T_605445fc_e504_11ec_af73_00d861dc5558row93_col1\" class=\"data row93 col1\" >1980</td>\n",
       "                        <td id=\"T_605445fc_e504_11ec_af73_00d861dc5558row93_col2\" class=\"data row93 col2\" >11/16/2021</td>\n",
       "            </tr>\n",
       "            <tr>\n",
       "                                <td id=\"T_605445fc_e504_11ec_af73_00d861dc5558row94_col0\" class=\"data row94 col0\" >Piper's Creek</td>\n",
       "                        <td id=\"T_605445fc_e504_11ec_af73_00d861dc5558row94_col1\" class=\"data row94 col1\" >1980</td>\n",
       "                        <td id=\"T_605445fc_e504_11ec_af73_00d861dc5558row94_col2\" class=\"data row94 col2\" >11/10/2021</td>\n",
       "            </tr>\n",
       "            <tr>\n",
       "                                <td id=\"T_605445fc_e504_11ec_af73_00d861dc5558row95_col0\" class=\"data row95 col0\" >Piper's Creek</td>\n",
       "                        <td id=\"T_605445fc_e504_11ec_af73_00d861dc5558row95_col1\" class=\"data row95 col1\" >1990</td>\n",
       "                        <td id=\"T_605445fc_e504_11ec_af73_00d861dc5558row95_col2\" class=\"data row95 col2\" >11/10/2021</td>\n",
       "            </tr>\n",
       "            <tr>\n",
       "                                <td id=\"T_605445fc_e504_11ec_af73_00d861dc5558row96_col0\" class=\"data row96 col0\" >Venema Creek</td>\n",
       "                        <td id=\"T_605445fc_e504_11ec_af73_00d861dc5558row96_col1\" class=\"data row96 col1\" >180</td>\n",
       "                        <td id=\"T_605445fc_e504_11ec_af73_00d861dc5558row96_col2\" class=\"data row96 col2\" >11/16/2021</td>\n",
       "            </tr>\n",
       "            <tr>\n",
       "                                <td id=\"T_605445fc_e504_11ec_af73_00d861dc5558row97_col0\" class=\"data row97 col0\" >Venema Creek</td>\n",
       "                        <td id=\"T_605445fc_e504_11ec_af73_00d861dc5558row97_col1\" class=\"data row97 col1\" >185</td>\n",
       "                        <td id=\"T_605445fc_e504_11ec_af73_00d861dc5558row97_col2\" class=\"data row97 col2\" >11/16/2021</td>\n",
       "            </tr>\n",
       "            <tr>\n",
       "                                <td id=\"T_605445fc_e504_11ec_af73_00d861dc5558row98_col0\" class=\"data row98 col0\" >Venema Creek</td>\n",
       "                        <td id=\"T_605445fc_e504_11ec_af73_00d861dc5558row98_col1\" class=\"data row98 col1\" >250</td>\n",
       "                        <td id=\"T_605445fc_e504_11ec_af73_00d861dc5558row98_col2\" class=\"data row98 col2\" >11/13/2021</td>\n",
       "            </tr>\n",
       "            <tr>\n",
       "                                <td id=\"T_605445fc_e504_11ec_af73_00d861dc5558row99_col0\" class=\"data row99 col0\" >Venema Creek</td>\n",
       "                        <td id=\"T_605445fc_e504_11ec_af73_00d861dc5558row99_col1\" class=\"data row99 col1\" >340</td>\n",
       "                        <td id=\"T_605445fc_e504_11ec_af73_00d861dc5558row99_col2\" class=\"data row99 col2\" >11/16/2021</td>\n",
       "            </tr>\n",
       "            <tr>\n",
       "                                <td id=\"T_605445fc_e504_11ec_af73_00d861dc5558row100_col0\" class=\"data row100 col0\" >Venema Creek</td>\n",
       "                        <td id=\"T_605445fc_e504_11ec_af73_00d861dc5558row100_col1\" class=\"data row100 col1\" >355</td>\n",
       "                        <td id=\"T_605445fc_e504_11ec_af73_00d861dc5558row100_col2\" class=\"data row100 col2\" >11/16/2021</td>\n",
       "            </tr>\n",
       "            <tr>\n",
       "                                <td id=\"T_605445fc_e504_11ec_af73_00d861dc5558row101_col0\" class=\"data row101 col0\" >Venema Creek</td>\n",
       "                        <td id=\"T_605445fc_e504_11ec_af73_00d861dc5558row101_col1\" class=\"data row101 col1\" >358</td>\n",
       "                        <td id=\"T_605445fc_e504_11ec_af73_00d861dc5558row101_col2\" class=\"data row101 col2\" >11/16/2021</td>\n",
       "            </tr>\n",
       "            <tr>\n",
       "                                <td id=\"T_605445fc_e504_11ec_af73_00d861dc5558row102_col0\" class=\"data row102 col0\" >Venema Creek</td>\n",
       "                        <td id=\"T_605445fc_e504_11ec_af73_00d861dc5558row102_col1\" class=\"data row102 col1\" >370</td>\n",
       "                        <td id=\"T_605445fc_e504_11ec_af73_00d861dc5558row102_col2\" class=\"data row102 col2\" >11/16/2021</td>\n",
       "            </tr>\n",
       "            <tr>\n",
       "                                <td id=\"T_605445fc_e504_11ec_af73_00d861dc5558row103_col0\" class=\"data row103 col0\" >Venema Creek</td>\n",
       "                        <td id=\"T_605445fc_e504_11ec_af73_00d861dc5558row103_col1\" class=\"data row103 col1\" >450</td>\n",
       "                        <td id=\"T_605445fc_e504_11ec_af73_00d861dc5558row103_col2\" class=\"data row103 col2\" >11/16/2021</td>\n",
       "            </tr>\n",
       "            <tr>\n",
       "                                <td id=\"T_605445fc_e504_11ec_af73_00d861dc5558row104_col0\" class=\"data row104 col0\" >Venema Creek</td>\n",
       "                        <td id=\"T_605445fc_e504_11ec_af73_00d861dc5558row104_col1\" class=\"data row104 col1\" >450</td>\n",
       "                        <td id=\"T_605445fc_e504_11ec_af73_00d861dc5558row104_col2\" class=\"data row104 col2\" >11/13/2021</td>\n",
       "            </tr>\n",
       "            <tr>\n",
       "                                <td id=\"T_605445fc_e504_11ec_af73_00d861dc5558row105_col0\" class=\"data row105 col0\" >Venema Creek</td>\n",
       "                        <td id=\"T_605445fc_e504_11ec_af73_00d861dc5558row105_col1\" class=\"data row105 col1\" >515</td>\n",
       "                        <td id=\"T_605445fc_e504_11ec_af73_00d861dc5558row105_col2\" class=\"data row105 col2\" >11/16/2021</td>\n",
       "            </tr>\n",
       "            <tr>\n",
       "                                <td id=\"T_605445fc_e504_11ec_af73_00d861dc5558row106_col0\" class=\"data row106 col0\" >Venema Creek</td>\n",
       "                        <td id=\"T_605445fc_e504_11ec_af73_00d861dc5558row106_col1\" class=\"data row106 col1\" >528</td>\n",
       "                        <td id=\"T_605445fc_e504_11ec_af73_00d861dc5558row106_col2\" class=\"data row106 col2\" >11/16/2021</td>\n",
       "            </tr>\n",
       "            <tr>\n",
       "                                <td id=\"T_605445fc_e504_11ec_af73_00d861dc5558row107_col0\" class=\"data row107 col0\" >Venema Creek</td>\n",
       "                        <td id=\"T_605445fc_e504_11ec_af73_00d861dc5558row107_col1\" class=\"data row107 col1\" >820</td>\n",
       "                        <td id=\"T_605445fc_e504_11ec_af73_00d861dc5558row107_col2\" class=\"data row107 col2\" >11/16/2021</td>\n",
       "            </tr>\n",
       "    </tbody></table>"
      ],
      "text/plain": [
       "<IPython.core.display.HTML object>"
      ]
     },
     "metadata": {},
     "output_type": "display_data"
    }
   ],
   "source": [
    "###TABLES\n",
    "import IPython.core.display as ip\n",
    "\n",
    "def displayTable(title, table):\n",
    "    html = title + table\n",
    "    display(ip.HTML(html))\n",
    "    addHTMLToReport(html)\n",
    "    \n",
    "def displaySurveyStatsTable():\n",
    "    title = '<h3>Survey Totals</h3>'\n",
    "    statsTable = statsDf[['Survey Date', 'Total Live Salmon', 'Total Dead Salmon', 'Live Chum', 'Dead Chum', 'Live Coho', 'Dead Coho', 'Live Cutthroat', 'Dead Cutthroat', 'Redds']].style.format({'Survey Date': \"{:%Y-%m-%d}\"}).hide_index().set_caption(\"Note: Total live salmon includes Sea-Run Cutthroat and Unknowns - entries where surveyors were unable to determine the species. Remnants are included in dead counts.\").render()\n",
    "    displayTable(title, statsTable)\n",
    "    \n",
    "def getYearlyTotals():\n",
    "    max = (statsDf['Dead to Date']+statsDf['Total Live Salmon']).max()\n",
    "    idxmax = (statsDf['Dead to Date']+statsDf['Total Live Salmon']).idxmax()\n",
    "    yearlySalmonTotal = int(max)\n",
    "    yearlyChumTotal = int((statsDf['Dead Chum to Date']+statsDf['Live Chum']).max())\n",
    "    yearlyCohoTotal = int((statsDf['Dead Coho to Date']+statsDf['Live Coho']).max())\n",
    "    surveyOfCalculation = statsDf.iloc[idxmax]['Survey Date']\n",
    "    ### DEBUGGING\n",
    "    #print('Based on total dead count:', int(statsDf.iloc[idxmax]['Dead to Date']), '|', 'plus total live count:', int(statsDf.iloc[idxmax]['Total Live Salmon']))\n",
    "    return pd.DataFrame({'Salmon': yearlySalmonTotal, 'Chum': yearlyChumTotal, 'Coho': yearlyCohoTotal, 'Based on survey': surveyOfCalculation}, index=[0])\n",
    "    \n",
    "def displayYearlyTotalsTable():\n",
    "    title='<h3>Yearly Totals</h3>'\n",
    "    yearlyTotals = getYearlyTotals()\n",
    "    yearlyTotalsTable=yearlyTotals[['Salmon', 'Chum', 'Coho', 'Based on survey']].style.format({'Based on survey': \"{:%Y-%m-%d}\"}).hide_index().set_caption(\"Note: Yearly total is the survey date where (day\\'s live + dead up to date) is max\").render()\n",
    "    displayTable(title, yearlyTotalsTable)\n",
    "    \n",
    "def displayReddsTable():\n",
    "    mergedDf = pd.merge(salmonDf, surveyDf, how='inner', left_on = 'ec5_parent_uuid', right_on = 'ec5_uuid')\n",
    "    title = '<h3>Redds by location</h3>'\n",
    "    reddsTable = filterSalmonDf(mergedDf, ('Type', 'Redd'))[['Stream', 'Distance', 'Survey_Date']].sort_values(by=['Stream', 'Distance']).style.hide_index().render()\n",
    "    displayTable(title, reddsTable)\n",
    "    \n",
    "displaySurveyStatsTable()\n",
    "displayYearlyTotalsTable()\n",
    "displayReddsTable()\n",
    "\n",
    "surveyTotals = statsDf[['Survey Date', 'Total Live Salmon', 'Total Dead Salmon', 'Live Chum', 'Dead Chum', 'Live Coho', 'Dead Coho', 'Live Cutthroat', 'Dead Cutthroat', 'Redds']].style.format({'Survey Date': \"{:%Y-%m-%d}\"}).hide_index().set_caption(\"Note: Total live salmon includes Sea-Run Cutthroat and Unknowns - entries where surveyors were unable to determine the species. Remnants are included in dead counts.\").render()\n",
    "\n",
    "env = Environment(loader=FileSystemLoader('templates'))\n",
    "template = env.get_template('report_template.html')\n",
    "html = template.render(reportGenTime=currentTimePacific,surveyTotals=surveyTotals)\n",
    "with open('html_report_jinja.html', 'w') as f:\n",
    "    f.write(html)"
   ]
  },
  {
   "cell_type": "markdown",
   "metadata": {},
   "source": [
    "### Count Plot"
   ]
  },
  {
   "cell_type": "code",
   "execution_count": 23,
   "metadata": {
    "tags": []
   },
   "outputs": [
    {
     "data": {
      "image/png": "[encoded data removed]",
      "text/plain": [
       "<Figure size 432x288 with 1 Axes>"
      ]
     },
     "metadata": {
      "needs_background": "light"
     },
     "output_type": "display_data"
    }
   ],
   "source": [
    "def displayCountPlot(statsDf):\n",
    "    plot = statsDf.plot(ylabel = 'Count', title = surveyYear + ' Fish Count', rot=45, xticks=statsDf['Survey Date'], y=['Total Dead Salmon', 'Total Live Salmon', 'Live Chum', 'Dead Chum', 'Live Coho', 'Dead Coho'], x='Survey Date')\n",
    "    plot.xaxis.set_major_formatter(mdates.DateFormatter(\"%m-%d\"))\n",
    "    addFigureToReport()\n",
    "displayCountPlot(statsDf)"
   ]
  },
  {
   "cell_type": "markdown",
   "metadata": {},
   "source": [
    "### Scatter Map"
   ]
  },
  {
   "cell_type": "code",
   "execution_count": 24,
   "metadata": {
    "tags": []
   },
   "outputs": [
    {
     "data": {
      "application/vnd.plotly.v1+json": {
       "config": {
        "plotlyServerURL": "https://plot.ly"
       },
       "data": [
        {
         "customdata": [
          [
           14
          ],
          [
           10
          ],
          [
           10
          ],
          [
           10
          ],
          [
           5
          ],
          [
           5
          ],
          [
           10
          ],
          [
           12
          ],
          [
           5
          ],
          [
           10
          ],
          [
           20
          ],
          [
           10
          ],
          [
           10
          ],
          [
           9
          ],
          [
           37
          ],
          [
           19
          ],
          [
           9
          ],
          [
           5
          ],
          [
           5
          ],
          [
           16
          ]
         ],
         "hovertemplate": "<b>%{hovertext}</b><br><br>Type=Dead<br>Location.latitude=%{lat}<br>Location.longitude=%{lon}<br>Location.accuracy=%{customdata[0]}<extra></extra>",
         "hovertext": [
          "1825 Dead Chum",
          "1700 Dead Chum",
          "1670 Dead Chum",
          "1560 Dead Chum",
          "1940 Dead Chum",
          "1800 Dead Chum",
          "1545 Dead Chum",
          "1800 Dead Chum",
          "1805 Dead Chum",
          "1525 Dead Chum",
          "1805 Dead Chum",
          "1500 Dead Chum",
          "1500 Dead Chum",
          "350 Dead Chum",
          "915 Dead Chum",
          "948 Dead Chum",
          "1095 Dead Chum",
          "435 Dead Chum",
          "1245 Dead Chum",
          "1250 Dead Chum"
         ],
         "lat": [
          47.711029,
          47.711026,
          47.711106,
          47.711069,
          47.71091,
          47.711049,
          47.711061,
          47.711046,
          47.711059,
          47.711083,
          47.711046,
          47.711093,
          47.711116,
          47.711652,
          47.711437,
          47.711268,
          47.711314,
          47.711606,
          47.711177,
          47.711316
         ],
         "legendgroup": "Dead",
         "lon": [
          -122.37211,
          -122.372882,
          -122.372803,
          -122.373215,
          -122.371827,
          -122.372438,
          -122.373313,
          -122.372438,
          -122.372331,
          -122.373412,
          -122.372273,
          -122.373411,
          -122.373458,
          -122.371374,
          -122.375834,
          -122.375668,
          -122.375046,
          -122.377753,
          -122.374459,
          -122.374572
         ],
         "marker": {
          "color": "black"
         },
         "mode": "markers",
         "name": "Dead",
         "showlegend": true,
         "subplot": "mapbox",
         "type": "scattermapbox"
        },
        {
         "customdata": [
          [
           9
          ]
         ],
         "hovertemplate": "<b>%{hovertext}</b><br><br>Type=Remnant<br>Location.latitude=%{lat}<br>Location.longitude=%{lon}<br>Location.accuracy=%{customdata[0]}<extra></extra>",
         "hovertext": [
          "1850 Remnant Coho"
         ],
         "lat": [
          47.710979
         ],
         "legendgroup": "Remnant",
         "lon": [
          -122.37208
         ],
         "marker": {
          "color": "#ab63fa"
         },
         "mode": "markers",
         "name": "Remnant",
         "showlegend": true,
         "subplot": "mapbox",
         "type": "scattermapbox"
        },
        {
         "customdata": [
          [
           11
          ],
          [
           4
          ],
          [
           13
          ]
         ],
         "hovertemplate": "<b>%{hovertext}</b><br><br>Type=Live<br>Location.latitude=%{lat}<br>Location.longitude=%{lon}<br>Location.accuracy=%{customdata[0]}<extra></extra>",
         "hovertext": [
          "1950 Live Chum",
          "1925 Live Chum",
          "1600 Live Chum"
         ],
         "lat": [
          47.710872,
          47.710932,
          47.710958
         ],
         "legendgroup": "Live",
         "lon": [
          -122.371748,
          -122.371817,
          -122.371926
         ],
         "marker": {
          "color": "green"
         },
         "mode": "markers",
         "name": "Live",
         "showlegend": true,
         "subplot": "mapbox",
         "type": "scattermapbox"
        }
       ],
       "layout": {
        "coloraxis": {
         "showscale": false
        },
        "legend": {
         "title": {
          "text": "Type"
         },
         "tracegroupgap": 0
        },
        "mapbox": {
         "center": {
          "lat": 47.71157,
          "lon": -122.3759
         },
         "domain": {
          "x": [
           0,
           1
          ],
          "y": [
           0,
           1
          ]
         },
         "style": "stamen-terrain",
         "zoom": 15
        },
        "template": {
         "data": {
          "bar": [
           {
            "error_x": {
             "color": "#2a3f5f"
            },
            "error_y": {
             "color": "#2a3f5f"
            },
            "marker": {
             "line": {
              "color": "#E5ECF6",
              "width": 0.5
             }
            },
            "type": "bar"
           }
          ],
          "barpolar": [
           {
            "marker": {
             "line": {
              "color": "#E5ECF6",
              "width": 0.5
             }
            },
            "type": "barpolar"
           }
          ],
          "carpet": [
           {
            "aaxis": {
             "endlinecolor": "#2a3f5f",
             "gridcolor": "white",
             "linecolor": "white",
             "minorgridcolor": "white",
             "startlinecolor": "#2a3f5f"
            },
            "baxis": {
             "endlinecolor": "#2a3f5f",
             "gridcolor": "white",
             "linecolor": "white",
             "minorgridcolor": "white",
             "startlinecolor": "#2a3f5f"
            },
            "type": "carpet"
           }
          ],
          "choropleth": [
           {
            "colorbar": {
             "outlinewidth": 0,
             "ticks": ""
            },
            "type": "choropleth"
           }
          ],
          "contour": [
           {
            "colorbar": {
             "outlinewidth": 0,
             "ticks": ""
            },
            "colorscale": [
             [
              0,
              "#0d0887"
             ],
             [
              0.1111111111111111,
              "#46039f"
             ],
             [
              0.2222222222222222,
              "#7201a8"
             ],
             [
              0.3333333333333333,
              "#9c179e"
             ],
             [
              0.4444444444444444,
              "#bd3786"
             ],
             [
              0.5555555555555556,
              "#d8576b"
             ],
             [
              0.6666666666666666,
              "#ed7953"
             ],
             [
              0.7777777777777778,
              "#fb9f3a"
             ],
             [
              0.8888888888888888,
              "#fdca26"
             ],
             [
              1,
              "#f0f921"
             ]
            ],
            "type": "contour"
           }
          ],
          "contourcarpet": [
           {
            "colorbar": {
             "outlinewidth": 0,
             "ticks": ""
            },
            "type": "contourcarpet"
           }
          ],
          "heatmap": [
           {
            "colorbar": {
             "outlinewidth": 0,
             "ticks": ""
            },
            "colorscale": [
             [
              0,
              "#0d0887"
             ],
             [
              0.1111111111111111,
              "#46039f"
             ],
             [
              0.2222222222222222,
              "#7201a8"
             ],
             [
              0.3333333333333333,
              "#9c179e"
             ],
             [
              0.4444444444444444,
              "#bd3786"
             ],
             [
              0.5555555555555556,
              "#d8576b"
             ],
             [
              0.6666666666666666,
              "#ed7953"
             ],
             [
              0.7777777777777778,
              "#fb9f3a"
             ],
             [
              0.8888888888888888,
              "#fdca26"
             ],
             [
              1,
              "#f0f921"
             ]
            ],
            "type": "heatmap"
           }
          ],
          "heatmapgl": [
           {
            "colorbar": {
             "outlinewidth": 0,
             "ticks": ""
            },
            "colorscale": [
             [
              0,
              "#0d0887"
             ],
             [
              0.1111111111111111,
              "#46039f"
             ],
             [
              0.2222222222222222,
              "#7201a8"
             ],
             [
              0.3333333333333333,
              "#9c179e"
             ],
             [
              0.4444444444444444,
              "#bd3786"
             ],
             [
              0.5555555555555556,
              "#d8576b"
             ],
             [
              0.6666666666666666,
              "#ed7953"
             ],
             [
              0.7777777777777778,
              "#fb9f3a"
             ],
             [
              0.8888888888888888,
              "#fdca26"
             ],
             [
              1,
              "#f0f921"
             ]
            ],
            "type": "heatmapgl"
           }
          ],
          "histogram": [
           {
            "marker": {
             "colorbar": {
              "outlinewidth": 0,
              "ticks": ""
             }
            },
            "type": "histogram"
           }
          ],
          "histogram2d": [
           {
            "colorbar": {
             "outlinewidth": 0,
             "ticks": ""
            },
            "colorscale": [
             [
              0,
              "#0d0887"
             ],
             [
              0.1111111111111111,
              "#46039f"
             ],
             [
              0.2222222222222222,
              "#7201a8"
             ],
             [
              0.3333333333333333,
              "#9c179e"
             ],
             [
              0.4444444444444444,
              "#bd3786"
             ],
             [
              0.5555555555555556,
              "#d8576b"
             ],
             [
              0.6666666666666666,
              "#ed7953"
             ],
             [
              0.7777777777777778,
              "#fb9f3a"
             ],
             [
              0.8888888888888888,
              "#fdca26"
             ],
             [
              1,
              "#f0f921"
             ]
            ],
            "type": "histogram2d"
           }
          ],
          "histogram2dcontour": [
           {
            "colorbar": {
             "outlinewidth": 0,
             "ticks": ""
            },
            "colorscale": [
             [
              0,
              "#0d0887"
             ],
             [
              0.1111111111111111,
              "#46039f"
             ],
             [
              0.2222222222222222,
              "#7201a8"
             ],
             [
              0.3333333333333333,
              "#9c179e"
             ],
             [
              0.4444444444444444,
              "#bd3786"
             ],
             [
              0.5555555555555556,
              "#d8576b"
             ],
             [
              0.6666666666666666,
              "#ed7953"
             ],
             [
              0.7777777777777778,
              "#fb9f3a"
             ],
             [
              0.8888888888888888,
              "#fdca26"
             ],
             [
              1,
              "#f0f921"
             ]
            ],
            "type": "histogram2dcontour"
           }
          ],
          "mesh3d": [
           {
            "colorbar": {
             "outlinewidth": 0,
             "ticks": ""
            },
            "type": "mesh3d"
           }
          ],
          "parcoords": [
           {
            "line": {
             "colorbar": {
              "outlinewidth": 0,
              "ticks": ""
             }
            },
            "type": "parcoords"
           }
          ],
          "pie": [
           {
            "automargin": true,
            "type": "pie"
           }
          ],
          "scatter": [
           {
            "marker": {
             "colorbar": {
              "outlinewidth": 0,
              "ticks": ""
             }
            },
            "type": "scatter"
           }
          ],
          "scatter3d": [
           {
            "line": {
             "colorbar": {
              "outlinewidth": 0,
              "ticks": ""
             }
            },
            "marker": {
             "colorbar": {
              "outlinewidth": 0,
              "ticks": ""
             }
            },
            "type": "scatter3d"
           }
          ],
          "scattercarpet": [
           {
            "marker": {
             "colorbar": {
              "outlinewidth": 0,
              "ticks": ""
             }
            },
            "type": "scattercarpet"
           }
          ],
          "scattergeo": [
           {
            "marker": {
             "colorbar": {
              "outlinewidth": 0,
              "ticks": ""
             }
            },
            "type": "scattergeo"
           }
          ],
          "scattergl": [
           {
            "marker": {
             "colorbar": {
              "outlinewidth": 0,
              "ticks": ""
             }
            },
            "type": "scattergl"
           }
          ],
          "scattermapbox": [
           {
            "marker": {
             "colorbar": {
              "outlinewidth": 0,
              "ticks": ""
             }
            },
            "type": "scattermapbox"
           }
          ],
          "scatterpolar": [
           {
            "marker": {
             "colorbar": {
              "outlinewidth": 0,
              "ticks": ""
             }
            },
            "type": "scatterpolar"
           }
          ],
          "scatterpolargl": [
           {
            "marker": {
             "colorbar": {
              "outlinewidth": 0,
              "ticks": ""
             }
            },
            "type": "scatterpolargl"
           }
          ],
          "scatterternary": [
           {
            "marker": {
             "colorbar": {
              "outlinewidth": 0,
              "ticks": ""
             }
            },
            "type": "scatterternary"
           }
          ],
          "surface": [
           {
            "colorbar": {
             "outlinewidth": 0,
             "ticks": ""
            },
            "colorscale": [
             [
              0,
              "#0d0887"
             ],
             [
              0.1111111111111111,
              "#46039f"
             ],
             [
              0.2222222222222222,
              "#7201a8"
             ],
             [
              0.3333333333333333,
              "#9c179e"
             ],
             [
              0.4444444444444444,
              "#bd3786"
             ],
             [
              0.5555555555555556,
              "#d8576b"
             ],
             [
              0.6666666666666666,
              "#ed7953"
             ],
             [
              0.7777777777777778,
              "#fb9f3a"
             ],
             [
              0.8888888888888888,
              "#fdca26"
             ],
             [
              1,
              "#f0f921"
             ]
            ],
            "type": "surface"
           }
          ],
          "table": [
           {
            "cells": {
             "fill": {
              "color": "#EBF0F8"
             },
             "line": {
              "color": "white"
             }
            },
            "header": {
             "fill": {
              "color": "#C8D4E3"
             },
             "line": {
              "color": "white"
             }
            },
            "type": "table"
           }
          ]
         },
         "layout": {
          "annotationdefaults": {
           "arrowcolor": "#2a3f5f",
           "arrowhead": 0,
           "arrowwidth": 1
          },
          "coloraxis": {
           "colorbar": {
            "outlinewidth": 0,
            "ticks": ""
           }
          },
          "colorscale": {
           "diverging": [
            [
             0,
             "#8e0152"
            ],
            [
             0.1,
             "#c51b7d"
            ],
            [
             0.2,
             "#de77ae"
            ],
            [
             0.3,
             "#f1b6da"
            ],
            [
             0.4,
             "#fde0ef"
            ],
            [
             0.5,
             "#f7f7f7"
            ],
            [
             0.6,
             "#e6f5d0"
            ],
            [
             0.7,
             "#b8e186"
            ],
            [
             0.8,
             "#7fbc41"
            ],
            [
             0.9,
             "#4d9221"
            ],
            [
             1,
             "#276419"
            ]
           ],
           "sequential": [
            [
             0,
             "#0d0887"
            ],
            [
             0.1111111111111111,
             "#46039f"
            ],
            [
             0.2222222222222222,
             "#7201a8"
            ],
            [
             0.3333333333333333,
             "#9c179e"
            ],
            [
             0.4444444444444444,
             "#bd3786"
            ],
            [
             0.5555555555555556,
             "#d8576b"
            ],
            [
             0.6666666666666666,
             "#ed7953"
            ],
            [
             0.7777777777777778,
             "#fb9f3a"
            ],
            [
             0.8888888888888888,
             "#fdca26"
            ],
            [
             1,
             "#f0f921"
            ]
           ],
           "sequentialminus": [
            [
             0,
             "#0d0887"
            ],
            [
             0.1111111111111111,
             "#46039f"
            ],
            [
             0.2222222222222222,
             "#7201a8"
            ],
            [
             0.3333333333333333,
             "#9c179e"
            ],
            [
             0.4444444444444444,
             "#bd3786"
            ],
            [
             0.5555555555555556,
             "#d8576b"
            ],
            [
             0.6666666666666666,
             "#ed7953"
            ],
            [
             0.7777777777777778,
             "#fb9f3a"
            ],
            [
             0.8888888888888888,
             "#fdca26"
            ],
            [
             1,
             "#f0f921"
            ]
           ]
          },
          "colorway": [
           "#636efa",
           "#EF553B",
           "#00cc96",
           "#ab63fa",
           "#FFA15A",
           "#19d3f3",
           "#FF6692",
           "#B6E880",
           "#FF97FF",
           "#FECB52"
          ],
          "font": {
           "color": "#2a3f5f"
          },
          "geo": {
           "bgcolor": "white",
           "lakecolor": "white",
           "landcolor": "#E5ECF6",
           "showlakes": true,
           "showland": true,
           "subunitcolor": "white"
          },
          "hoverlabel": {
           "align": "left"
          },
          "hovermode": "closest",
          "mapbox": {
           "style": "light"
          },
          "paper_bgcolor": "white",
          "plot_bgcolor": "#E5ECF6",
          "polar": {
           "angularaxis": {
            "gridcolor": "white",
            "linecolor": "white",
            "ticks": ""
           },
           "bgcolor": "#E5ECF6",
           "radialaxis": {
            "gridcolor": "white",
            "linecolor": "white",
            "ticks": ""
           }
          },
          "scene": {
           "xaxis": {
            "backgroundcolor": "#E5ECF6",
            "gridcolor": "white",
            "gridwidth": 2,
            "linecolor": "white",
            "showbackground": true,
            "ticks": "",
            "zerolinecolor": "white"
           },
           "yaxis": {
            "backgroundcolor": "#E5ECF6",
            "gridcolor": "white",
            "gridwidth": 2,
            "linecolor": "white",
            "showbackground": true,
            "ticks": "",
            "zerolinecolor": "white"
           },
           "zaxis": {
            "backgroundcolor": "#E5ECF6",
            "gridcolor": "white",
            "gridwidth": 2,
            "linecolor": "white",
            "showbackground": true,
            "ticks": "",
            "zerolinecolor": "white"
           }
          },
          "shapedefaults": {
           "line": {
            "color": "#2a3f5f"
           }
          },
          "ternary": {
           "aaxis": {
            "gridcolor": "white",
            "linecolor": "white",
            "ticks": ""
           },
           "baxis": {
            "gridcolor": "white",
            "linecolor": "white",
            "ticks": ""
           },
           "bgcolor": "#E5ECF6",
           "caxis": {
            "gridcolor": "white",
            "linecolor": "white",
            "ticks": ""
           }
          },
          "title": {
           "x": 0.05
          },
          "xaxis": {
           "automargin": true,
           "gridcolor": "white",
           "linecolor": "white",
           "ticks": "",
           "title": {
            "standoff": 15
           },
           "zerolinecolor": "white",
           "zerolinewidth": 2
          },
          "yaxis": {
           "automargin": true,
           "gridcolor": "white",
           "linecolor": "white",
           "ticks": "",
           "title": {
            "standoff": 15
           },
           "zerolinecolor": "white",
           "zerolinewidth": 2
          }
         }
        },
        "title": {
         "text": "12/07/2021 Fish Scatter Map"
        }
       }
      },
      "text/html": [
       "<div>                            <div id=\"11cfe2e2-32ea-482f-b3fa-a03556dd2cd6\" class=\"plotly-graph-div\" style=\"height:525px; width:100%;\"></div>            <script type=\"text/javascript\">                require([\"plotly\"], function(Plotly) {                    window.PLOTLYENV=window.PLOTLYENV || {};                                    if (document.getElementById(\"11cfe2e2-32ea-482f-b3fa-a03556dd2cd6\")) {                    Plotly.newPlot(                        \"11cfe2e2-32ea-482f-b3fa-a03556dd2cd6\",                        [{\"customdata\": [[14], [10], [10], [10], [5], [5], [10], [12], [5], [10], [20], [10], [10], [9], [37], [19], [9], [5], [5], [16]], \"hovertemplate\": \"<b>%{hovertext}</b><br><br>Type=Dead<br>Location.latitude=%{lat}<br>Location.longitude=%{lon}<br>Location.accuracy=%{customdata[0]}<extra></extra>\", \"hovertext\": [\"1825 Dead Chum\", \"1700 Dead Chum\", \"1670 Dead Chum\", \"1560 Dead Chum\", \"1940 Dead Chum\", \"1800 Dead Chum\", \"1545 Dead Chum\", \"1800 Dead Chum\", \"1805 Dead Chum\", \"1525 Dead Chum\", \"1805 Dead Chum\", \"1500 Dead Chum\", \"1500 Dead Chum\", \"350 Dead Chum\", \"915 Dead Chum\", \"948 Dead Chum\", \"1095 Dead Chum\", \"435 Dead Chum\", \"1245 Dead Chum\", \"1250 Dead Chum\"], \"lat\": [47.711029, 47.711026, 47.711106, 47.711069, 47.71091, 47.711049, 47.711061, 47.711046, 47.711059, 47.711083, 47.711046, 47.711093, 47.711116, 47.711652, 47.711437, 47.711268, 47.711314, 47.711606, 47.711177, 47.711316], \"legendgroup\": \"Dead\", \"lon\": [-122.37211, -122.372882, -122.372803, -122.373215, -122.371827, -122.372438, -122.373313, -122.372438, -122.372331, -122.373412, -122.372273, -122.373411, -122.373458, -122.371374, -122.375834, -122.375668, -122.375046, -122.377753, -122.374459, -122.374572], \"marker\": {\"color\": \"black\"}, \"mode\": \"markers\", \"name\": \"Dead\", \"showlegend\": true, \"subplot\": \"mapbox\", \"type\": \"scattermapbox\"}, {\"customdata\": [[9]], \"hovertemplate\": \"<b>%{hovertext}</b><br><br>Type=Remnant<br>Location.latitude=%{lat}<br>Location.longitude=%{lon}<br>Location.accuracy=%{customdata[0]}<extra></extra>\", \"hovertext\": [\"1850 Remnant Coho\"], \"lat\": [47.710979], \"legendgroup\": \"Remnant\", \"lon\": [-122.37208], \"marker\": {\"color\": \"#ab63fa\"}, \"mode\": \"markers\", \"name\": \"Remnant\", \"showlegend\": true, \"subplot\": \"mapbox\", \"type\": \"scattermapbox\"}, {\"customdata\": [[11], [4], [13]], \"hovertemplate\": \"<b>%{hovertext}</b><br><br>Type=Live<br>Location.latitude=%{lat}<br>Location.longitude=%{lon}<br>Location.accuracy=%{customdata[0]}<extra></extra>\", \"hovertext\": [\"1950 Live Chum\", \"1925 Live Chum\", \"1600 Live Chum\"], \"lat\": [47.710872, 47.710932, 47.710958], \"legendgroup\": \"Live\", \"lon\": [-122.371748, -122.371817, -122.371926], \"marker\": {\"color\": \"green\"}, \"mode\": \"markers\", \"name\": \"Live\", \"showlegend\": true, \"subplot\": \"mapbox\", \"type\": \"scattermapbox\"}],                        {\"coloraxis\": {\"showscale\": false}, \"legend\": {\"title\": {\"text\": \"Type\"}, \"tracegroupgap\": 0}, \"mapbox\": {\"center\": {\"lat\": 47.71157, \"lon\": -122.3759}, \"domain\": {\"x\": [0.0, 1.0], \"y\": [0.0, 1.0]}, \"style\": \"stamen-terrain\", \"zoom\": 15}, \"template\": {\"data\": {\"bar\": [{\"error_x\": {\"color\": \"#2a3f5f\"}, \"error_y\": {\"color\": \"#2a3f5f\"}, \"marker\": {\"line\": {\"color\": \"#E5ECF6\", \"width\": 0.5}}, \"type\": \"bar\"}], \"barpolar\": [{\"marker\": {\"line\": {\"color\": \"#E5ECF6\", \"width\": 0.5}}, \"type\": \"barpolar\"}], \"carpet\": [{\"aaxis\": {\"endlinecolor\": \"#2a3f5f\", \"gridcolor\": \"white\", \"linecolor\": \"white\", \"minorgridcolor\": \"white\", \"startlinecolor\": \"#2a3f5f\"}, \"baxis\": {\"endlinecolor\": \"#2a3f5f\", \"gridcolor\": \"white\", \"linecolor\": \"white\", \"minorgridcolor\": \"white\", \"startlinecolor\": \"#2a3f5f\"}, \"type\": \"carpet\"}], \"choropleth\": [{\"colorbar\": {\"outlinewidth\": 0, \"ticks\": \"\"}, \"type\": \"choropleth\"}], \"contour\": [{\"colorbar\": {\"outlinewidth\": 0, \"ticks\": \"\"}, \"colorscale\": [[0.0, \"#0d0887\"], [0.1111111111111111, \"#46039f\"], [0.2222222222222222, \"#7201a8\"], [0.3333333333333333, \"#9c179e\"], [0.4444444444444444, \"#bd3786\"], [0.5555555555555556, \"#d8576b\"], [0.6666666666666666, \"#ed7953\"], [0.7777777777777778, \"#fb9f3a\"], [0.8888888888888888, \"#fdca26\"], [1.0, \"#f0f921\"]], \"type\": \"contour\"}], \"contourcarpet\": [{\"colorbar\": {\"outlinewidth\": 0, \"ticks\": \"\"}, \"type\": \"contourcarpet\"}], \"heatmap\": [{\"colorbar\": {\"outlinewidth\": 0, \"ticks\": \"\"}, \"colorscale\": [[0.0, \"#0d0887\"], [0.1111111111111111, \"#46039f\"], [0.2222222222222222, \"#7201a8\"], [0.3333333333333333, \"#9c179e\"], [0.4444444444444444, \"#bd3786\"], [0.5555555555555556, \"#d8576b\"], [0.6666666666666666, \"#ed7953\"], [0.7777777777777778, \"#fb9f3a\"], [0.8888888888888888, \"#fdca26\"], [1.0, \"#f0f921\"]], \"type\": \"heatmap\"}], \"heatmapgl\": [{\"colorbar\": {\"outlinewidth\": 0, \"ticks\": \"\"}, \"colorscale\": [[0.0, \"#0d0887\"], [0.1111111111111111, \"#46039f\"], [0.2222222222222222, \"#7201a8\"], [0.3333333333333333, \"#9c179e\"], [0.4444444444444444, \"#bd3786\"], [0.5555555555555556, \"#d8576b\"], [0.6666666666666666, \"#ed7953\"], [0.7777777777777778, \"#fb9f3a\"], [0.8888888888888888, \"#fdca26\"], [1.0, \"#f0f921\"]], \"type\": \"heatmapgl\"}], \"histogram\": [{\"marker\": {\"colorbar\": {\"outlinewidth\": 0, \"ticks\": \"\"}}, \"type\": \"histogram\"}], \"histogram2d\": [{\"colorbar\": {\"outlinewidth\": 0, \"ticks\": \"\"}, \"colorscale\": [[0.0, \"#0d0887\"], [0.1111111111111111, \"#46039f\"], [0.2222222222222222, \"#7201a8\"], [0.3333333333333333, \"#9c179e\"], [0.4444444444444444, \"#bd3786\"], [0.5555555555555556, \"#d8576b\"], [0.6666666666666666, \"#ed7953\"], [0.7777777777777778, \"#fb9f3a\"], [0.8888888888888888, \"#fdca26\"], [1.0, \"#f0f921\"]], \"type\": \"histogram2d\"}], \"histogram2dcontour\": [{\"colorbar\": {\"outlinewidth\": 0, \"ticks\": \"\"}, \"colorscale\": [[0.0, \"#0d0887\"], [0.1111111111111111, \"#46039f\"], [0.2222222222222222, \"#7201a8\"], [0.3333333333333333, \"#9c179e\"], [0.4444444444444444, \"#bd3786\"], [0.5555555555555556, \"#d8576b\"], [0.6666666666666666, \"#ed7953\"], [0.7777777777777778, \"#fb9f3a\"], [0.8888888888888888, \"#fdca26\"], [1.0, \"#f0f921\"]], \"type\": \"histogram2dcontour\"}], \"mesh3d\": [{\"colorbar\": {\"outlinewidth\": 0, \"ticks\": \"\"}, \"type\": \"mesh3d\"}], \"parcoords\": [{\"line\": {\"colorbar\": {\"outlinewidth\": 0, \"ticks\": \"\"}}, \"type\": \"parcoords\"}], \"pie\": [{\"automargin\": true, \"type\": \"pie\"}], \"scatter\": [{\"marker\": {\"colorbar\": {\"outlinewidth\": 0, \"ticks\": \"\"}}, \"type\": \"scatter\"}], \"scatter3d\": [{\"line\": {\"colorbar\": {\"outlinewidth\": 0, \"ticks\": \"\"}}, \"marker\": {\"colorbar\": {\"outlinewidth\": 0, \"ticks\": \"\"}}, \"type\": \"scatter3d\"}], \"scattercarpet\": [{\"marker\": {\"colorbar\": {\"outlinewidth\": 0, \"ticks\": \"\"}}, \"type\": \"scattercarpet\"}], \"scattergeo\": [{\"marker\": {\"colorbar\": {\"outlinewidth\": 0, \"ticks\": \"\"}}, \"type\": \"scattergeo\"}], \"scattergl\": [{\"marker\": {\"colorbar\": {\"outlinewidth\": 0, \"ticks\": \"\"}}, \"type\": \"scattergl\"}], \"scattermapbox\": [{\"marker\": {\"colorbar\": {\"outlinewidth\": 0, \"ticks\": \"\"}}, \"type\": \"scattermapbox\"}], \"scatterpolar\": [{\"marker\": {\"colorbar\": {\"outlinewidth\": 0, \"ticks\": \"\"}}, \"type\": \"scatterpolar\"}], \"scatterpolargl\": [{\"marker\": {\"colorbar\": {\"outlinewidth\": 0, \"ticks\": \"\"}}, \"type\": \"scatterpolargl\"}], \"scatterternary\": [{\"marker\": {\"colorbar\": {\"outlinewidth\": 0, \"ticks\": \"\"}}, \"type\": \"scatterternary\"}], \"surface\": [{\"colorbar\": {\"outlinewidth\": 0, \"ticks\": \"\"}, \"colorscale\": [[0.0, \"#0d0887\"], [0.1111111111111111, \"#46039f\"], [0.2222222222222222, \"#7201a8\"], [0.3333333333333333, \"#9c179e\"], [0.4444444444444444, \"#bd3786\"], [0.5555555555555556, \"#d8576b\"], [0.6666666666666666, \"#ed7953\"], [0.7777777777777778, \"#fb9f3a\"], [0.8888888888888888, \"#fdca26\"], [1.0, \"#f0f921\"]], \"type\": \"surface\"}], \"table\": [{\"cells\": {\"fill\": {\"color\": \"#EBF0F8\"}, \"line\": {\"color\": \"white\"}}, \"header\": {\"fill\": {\"color\": \"#C8D4E3\"}, \"line\": {\"color\": \"white\"}}, \"type\": \"table\"}]}, \"layout\": {\"annotationdefaults\": {\"arrowcolor\": \"#2a3f5f\", \"arrowhead\": 0, \"arrowwidth\": 1}, \"coloraxis\": {\"colorbar\": {\"outlinewidth\": 0, \"ticks\": \"\"}}, \"colorscale\": {\"diverging\": [[0, \"#8e0152\"], [0.1, \"#c51b7d\"], [0.2, \"#de77ae\"], [0.3, \"#f1b6da\"], [0.4, \"#fde0ef\"], [0.5, \"#f7f7f7\"], [0.6, \"#e6f5d0\"], [0.7, \"#b8e186\"], [0.8, \"#7fbc41\"], [0.9, \"#4d9221\"], [1, \"#276419\"]], \"sequential\": [[0.0, \"#0d0887\"], [0.1111111111111111, \"#46039f\"], [0.2222222222222222, \"#7201a8\"], [0.3333333333333333, \"#9c179e\"], [0.4444444444444444, \"#bd3786\"], [0.5555555555555556, \"#d8576b\"], [0.6666666666666666, \"#ed7953\"], [0.7777777777777778, \"#fb9f3a\"], [0.8888888888888888, \"#fdca26\"], [1.0, \"#f0f921\"]], \"sequentialminus\": [[0.0, \"#0d0887\"], [0.1111111111111111, \"#46039f\"], [0.2222222222222222, \"#7201a8\"], [0.3333333333333333, \"#9c179e\"], [0.4444444444444444, \"#bd3786\"], [0.5555555555555556, \"#d8576b\"], [0.6666666666666666, \"#ed7953\"], [0.7777777777777778, \"#fb9f3a\"], [0.8888888888888888, \"#fdca26\"], [1.0, \"#f0f921\"]]}, \"colorway\": [\"#636efa\", \"#EF553B\", \"#00cc96\", \"#ab63fa\", \"#FFA15A\", \"#19d3f3\", \"#FF6692\", \"#B6E880\", \"#FF97FF\", \"#FECB52\"], \"font\": {\"color\": \"#2a3f5f\"}, \"geo\": {\"bgcolor\": \"white\", \"lakecolor\": \"white\", \"landcolor\": \"#E5ECF6\", \"showlakes\": true, \"showland\": true, \"subunitcolor\": \"white\"}, \"hoverlabel\": {\"align\": \"left\"}, \"hovermode\": \"closest\", \"mapbox\": {\"style\": \"light\"}, \"paper_bgcolor\": \"white\", \"plot_bgcolor\": \"#E5ECF6\", \"polar\": {\"angularaxis\": {\"gridcolor\": \"white\", \"linecolor\": \"white\", \"ticks\": \"\"}, \"bgcolor\": \"#E5ECF6\", \"radialaxis\": {\"gridcolor\": \"white\", \"linecolor\": \"white\", \"ticks\": \"\"}}, \"scene\": {\"xaxis\": {\"backgroundcolor\": \"#E5ECF6\", \"gridcolor\": \"white\", \"gridwidth\": 2, \"linecolor\": \"white\", \"showbackground\": true, \"ticks\": \"\", \"zerolinecolor\": \"white\"}, \"yaxis\": {\"backgroundcolor\": \"#E5ECF6\", \"gridcolor\": \"white\", \"gridwidth\": 2, \"linecolor\": \"white\", \"showbackground\": true, \"ticks\": \"\", \"zerolinecolor\": \"white\"}, \"zaxis\": {\"backgroundcolor\": \"#E5ECF6\", \"gridcolor\": \"white\", \"gridwidth\": 2, \"linecolor\": \"white\", \"showbackground\": true, \"ticks\": \"\", \"zerolinecolor\": \"white\"}}, \"shapedefaults\": {\"line\": {\"color\": \"#2a3f5f\"}}, \"ternary\": {\"aaxis\": {\"gridcolor\": \"white\", \"linecolor\": \"white\", \"ticks\": \"\"}, \"baxis\": {\"gridcolor\": \"white\", \"linecolor\": \"white\", \"ticks\": \"\"}, \"bgcolor\": \"#E5ECF6\", \"caxis\": {\"gridcolor\": \"white\", \"linecolor\": \"white\", \"ticks\": \"\"}}, \"title\": {\"x\": 0.05}, \"xaxis\": {\"automargin\": true, \"gridcolor\": \"white\", \"linecolor\": \"white\", \"ticks\": \"\", \"title\": {\"standoff\": 15}, \"zerolinecolor\": \"white\", \"zerolinewidth\": 2}, \"yaxis\": {\"automargin\": true, \"gridcolor\": \"white\", \"linecolor\": \"white\", \"ticks\": \"\", \"title\": {\"standoff\": 15}, \"zerolinecolor\": \"white\", \"zerolinewidth\": 2}}}, \"title\": {\"text\": \"12/07/2021 Fish Scatter Map\"}},                        {\"responsive\": true}                    ).then(function(){\n",
       "                            \n",
       "var gd = document.getElementById('11cfe2e2-32ea-482f-b3fa-a03556dd2cd6');\n",
       "var x = new MutationObserver(function (mutations, observer) {{\n",
       "        var display = window.getComputedStyle(gd).display;\n",
       "        if (!display || display === 'none') {{\n",
       "            console.log([gd, 'removed!']);\n",
       "            Plotly.purge(gd);\n",
       "            observer.disconnect();\n",
       "        }}\n",
       "}});\n",
       "\n",
       "// Listen for the removal of the full notebook cells\n",
       "var notebookContainer = gd.closest('#notebook-container');\n",
       "if (notebookContainer) {{\n",
       "    x.observe(notebookContainer, {childList: true});\n",
       "}}\n",
       "\n",
       "// Listen for the clearing of the current output cell\n",
       "var outputEl = gd.closest('.output');\n",
       "if (outputEl) {{\n",
       "    x.observe(outputEl, {childList: true});\n",
       "}}\n",
       "\n",
       "                        })                };                });            </script>        </div>"
      ]
     },
     "metadata": {},
     "output_type": "display_data"
    },
    {
     "data": {
      "application/vnd.plotly.v1+json": {
       "config": {
        "plotlyServerURL": "https://plot.ly"
       },
       "data": [
        {
         "customdata": [
          [
           14
          ],
          [
           10
          ],
          [
           10
          ],
          [
           10
          ],
          [
           5
          ],
          [
           5
          ],
          [
           10
          ],
          [
           12
          ],
          [
           5
          ],
          [
           10
          ],
          [
           20
          ],
          [
           10
          ],
          [
           10
          ],
          [
           9
          ],
          [
           37
          ],
          [
           19
          ],
          [
           9
          ],
          [
           5
          ],
          [
           5
          ],
          [
           16
          ],
          [
           23
          ],
          [
           9
          ],
          [
           8
          ],
          [
           5
          ],
          [
           8
          ],
          [
           34
          ],
          [
           7
          ],
          [
           8
          ],
          [
           5
          ],
          [
           5
          ],
          [
           5
          ],
          [
           6
          ],
          [
           8
          ],
          [
           5
          ],
          [
           5
          ],
          [
           6
          ],
          [
           40
          ],
          [
           17
          ],
          [
           7
          ],
          [
           14
          ],
          [
           6
          ],
          [
           17
          ],
          [
           9
          ],
          [
           5
          ],
          [
           6
          ],
          [
           5
          ],
          [
           24
          ],
          [
           23
          ],
          [
           29
          ],
          [
           26
          ],
          [
           8
          ],
          [
           35
          ],
          [
           5
          ],
          [
           19
          ],
          [
           19
          ],
          [
           20
          ],
          [
           47
          ],
          [
           5
          ],
          [
           18
          ],
          [
           15
          ],
          [
           13
          ],
          [
           12
          ],
          [
           5
          ],
          [
           19
          ],
          [
           20
          ],
          [
           7
          ],
          [
           22
          ],
          [
           15
          ],
          [
           20
          ],
          [
           9
          ],
          [
           8
          ],
          [
           16
          ],
          [
           16
          ],
          [
           8
          ],
          [
           21
          ],
          [
           18
          ],
          [
           15
          ],
          [
           18
          ],
          [
           8
          ],
          [
           10
          ],
          [
           21
          ],
          [
           7
          ],
          [
           28
          ],
          [
           37
          ],
          [
           13
          ],
          [
           21
          ],
          [
           7
          ],
          [
           8
          ],
          [
           9
          ],
          [
           6
          ],
          [
           9
          ],
          [
           20
          ],
          [
           10
          ],
          [
           29
          ],
          [
           12
          ],
          [
           9
          ],
          [
           9
          ],
          [
           11
          ],
          [
           6
          ],
          [
           8
          ],
          [
           18
          ],
          [
           13
          ],
          [
           6
          ],
          [
           5
          ],
          [
           4
          ],
          [
           6
          ],
          [
           5
          ],
          [
           10
          ],
          [
           25
          ],
          [
           8
          ],
          [
           24
          ],
          [
           8
          ],
          [
           8
          ],
          [
           6
          ],
          [
           8
          ],
          [
           10
          ],
          [
           10
          ],
          [
           8
          ],
          [
           8
          ],
          [
           33
          ],
          [
           10
          ],
          [
           10
          ],
          [
           5
          ],
          [
           10
          ],
          [
           12
          ],
          [
           5
          ],
          [
           30
          ],
          [
           18
          ],
          [
           9
          ],
          [
           6
          ],
          [
           6
          ],
          [
           6
          ],
          [
           10
          ],
          [
           4
          ],
          [
           8
          ],
          [
           21
          ],
          [
           7
          ],
          [
           10
          ],
          [
           6
          ],
          [
           5
          ],
          [
           11
          ],
          [
           7
          ],
          [
           10
          ],
          [
           6
          ],
          [
           7
          ],
          [
           8
          ],
          [
           10
          ],
          [
           5
          ],
          [
           10
          ],
          [
           10
          ],
          [
           6
          ],
          [
           10
          ],
          [
           6
          ],
          [
           10
          ],
          [
           10
          ],
          [
           5
          ],
          [
           10
          ],
          [
           20
          ],
          [
           10
          ],
          [
           14
          ],
          [
           10
          ],
          [
           10
          ],
          [
           11
          ],
          [
           10
          ],
          [
           10
          ],
          [
           11
          ],
          [
           10
          ],
          [
           8
          ],
          [
           10
          ],
          [
           8
          ],
          [
           5
          ],
          [
           9
          ],
          [
           5
          ],
          [
           10
          ],
          [
           10
          ],
          [
           5
          ],
          [
           5
          ],
          [
           5
          ],
          [
           5
          ],
          [
           10
          ],
          [
           6
          ],
          [
           21
          ],
          [
           5
          ],
          [
           10
          ],
          [
           5
          ],
          [
           5
          ],
          [
           10
          ],
          [
           12
          ],
          [
           9
          ],
          [
           5
          ],
          [
           3
          ],
          [
           10
          ],
          [
           5
          ],
          [
           5
          ],
          [
           10
          ],
          [
           9
          ],
          [
           5
          ],
          [
           5
          ],
          [
           11
          ],
          [
           10
          ],
          [
           10
          ],
          [
           5
          ],
          [
           16
          ],
          [
           5
          ],
          [
           10
          ],
          [
           12
          ],
          [
           10
          ],
          [
           10
          ],
          [
           4
          ],
          [
           4
          ],
          [
           12
          ],
          [
           6
          ],
          [
           5
          ],
          [
           10
          ],
          [
           11
          ],
          [
           5
          ],
          [
           14
          ],
          [
           10
          ],
          [
           5
          ],
          [
           10
          ],
          [
           6
          ],
          [
           11
          ],
          [
           6
          ],
          [
           5
          ],
          [
           6
          ],
          [
           7
          ],
          [
           12
          ],
          [
           10
          ],
          [
           6
          ],
          [
           10
          ],
          [
           9
          ],
          [
           10
          ],
          [
           5
          ],
          [
           4
          ],
          [
           5
          ],
          [
           5
          ],
          [
           7
          ],
          [
           7
          ],
          [
           5
          ],
          [
           5
          ],
          [
           5
          ],
          [
           5
          ],
          [
           5
          ],
          [
           8
          ],
          [
           8
          ],
          [
           5
          ],
          [
           5
          ],
          [
           5
          ],
          [
           6
          ],
          [
           10
          ],
          [
           9
          ],
          [
           10
          ],
          [
           4
          ],
          [
           3
          ],
          [
           4
          ],
          [
           4
          ],
          [
           9
          ],
          [
           22
          ],
          [
           6
          ],
          [
           9
          ],
          [
           5
          ],
          [
           6
          ],
          [
           13
          ],
          [
           6
          ],
          [
           14
          ],
          [
           5
          ],
          [
           4
          ],
          [
           6
          ],
          [
           10
          ],
          [
           10
          ],
          [
           9
          ],
          [
           10
          ],
          [
           8
          ],
          [
           6
          ],
          [
           20
          ],
          [
           11
          ],
          [
           5
          ],
          [
           6
          ],
          [
           8
          ],
          [
           16
          ],
          [
           9
          ],
          [
           5
          ],
          [
           5
          ],
          [
           18
          ],
          [
           18
          ],
          [
           11
          ],
          [
           5
          ],
          [
           17
          ],
          [
           8
          ],
          [
           5
          ],
          [
           22
          ],
          [
           7
          ],
          [
           12
          ],
          [
           5
          ],
          [
           10
          ],
          [
           21
          ],
          [
           8
          ],
          [
           5
          ],
          [
           16
          ],
          [
           9
          ],
          [
           5
          ],
          [
           13
          ],
          [
           46
          ],
          [
           16
          ],
          [
           11
          ],
          [
           5
          ],
          [
           6
          ],
          [
           5
          ],
          [
           15
          ],
          [
           5
          ],
          [
           13
          ],
          [
           5
          ],
          [
           16
          ],
          [
           31
          ],
          [
           5
          ],
          [
           14
          ],
          [
           12
          ],
          [
           5
          ],
          [
           12
          ],
          [
           5
          ],
          [
           13
          ],
          [
           5
          ],
          [
           8
          ],
          [
           5
          ],
          [
           8
          ],
          [
           5
          ],
          [
           12
          ],
          [
           5
          ],
          [
           20
          ],
          [
           11
          ],
          [
           5
          ],
          [
           5
          ],
          [
           9
          ],
          [
           6
          ],
          [
           8
          ],
          [
           14
          ],
          [
           17
          ],
          [
           9
          ],
          [
           5
          ],
          [
           5
          ],
          [
           5
          ],
          [
           6
          ],
          [
           11
          ],
          [
           11
          ],
          [
           5
          ],
          [
           15
          ],
          [
           6
          ],
          [
           7
          ],
          [
           12
          ],
          [
           4
          ],
          [
           9
          ],
          [
           17
          ],
          [
           5
          ],
          [
           4
          ],
          [
           6
          ],
          [
           14
          ],
          [
           7
          ],
          [
           12
          ],
          [
           11
          ],
          [
           24
          ],
          [
           9
          ],
          [
           5
          ],
          [
           7
          ],
          [
           8
          ],
          [
           4
          ],
          [
           19
          ],
          [
           9
          ],
          [
           15
          ],
          [
           6
          ],
          [
           5
          ],
          [
           7
          ],
          [
           6
          ],
          [
           5
          ],
          [
           10
          ],
          [
           35
          ],
          [
           10
          ],
          [
           11
          ],
          [
           9
          ],
          [
           14
          ],
          [
           10
          ],
          [
           12
          ],
          [
           8
          ],
          [
           6
          ],
          [
           10
          ],
          [
           5
          ],
          [
           9
          ],
          [
           7
          ],
          [
           6
          ],
          [
           9
          ],
          [
           9
          ],
          [
           4
          ],
          [
           4
          ],
          [
           15
          ],
          [
           11
          ],
          [
           9
          ],
          [
           5
          ],
          [
           5
          ],
          [
           11
          ],
          [
           17
          ],
          [
           10
          ],
          [
           15
          ],
          [
           10
          ],
          [
           10
          ],
          [
           5
          ],
          [
           9
          ],
          [
           6
          ],
          [
           6
          ],
          [
           5
          ],
          [
           7
          ],
          [
           8
          ],
          [
           6
          ],
          [
           5
          ],
          [
           5
          ],
          [
           5
          ],
          [
           5
          ],
          [
           5
          ],
          [
           5
          ],
          [
           5
          ],
          [
           17
          ],
          [
           7
          ],
          [
           5
          ],
          [
           7
          ],
          [
           9
          ],
          [
           5
          ],
          [
           9
          ],
          [
           5
          ],
          [
           6
          ],
          [
           5
          ],
          [
           16
          ],
          [
           5
          ],
          [
           5
          ],
          [
           10
          ],
          [
           13
          ],
          [
           5
          ],
          [
           7
          ],
          [
           12
          ],
          [
           9
          ],
          [
           10
          ],
          [
           5
          ],
          [
           7
          ],
          [
           7
          ],
          [
           11
          ],
          [
           10
          ],
          [
           4
          ],
          [
           11
          ],
          [
           5
          ],
          [
           5
          ],
          [
           18
          ],
          [
           5
          ],
          [
           5
          ],
          [
           5
          ],
          [
           8
          ],
          [
           5
          ],
          [
           5
          ],
          [
           13
          ],
          [
           19
          ],
          [
           6
          ],
          [
           6
          ],
          [
           5
          ],
          [
           4
          ],
          [
           5
          ],
          [
           15
          ],
          [
           5
          ],
          [
           5
          ],
          [
           12
          ],
          [
           5
          ],
          [
           17
          ],
          [
           5
          ],
          [
           5
          ],
          [
           7
          ],
          [
           5
          ],
          [
           14
          ],
          [
           5
          ],
          [
           11
          ],
          [
           14
          ],
          [
           5
          ],
          [
           5
          ],
          [
           7
          ],
          [
           4
          ],
          [
           5
          ],
          [
           18
          ],
          [
           5
          ],
          [
           15
          ],
          [
           16
          ],
          [
           13
          ],
          [
           12
          ],
          [
           22
          ],
          [
           8
          ],
          [
           9
          ],
          [
           31
          ],
          [
           6
          ],
          [
           19
          ],
          [
           4
          ],
          [
           9
          ],
          [
           4
          ],
          [
           11
          ],
          [
           5
          ],
          [
           5
          ],
          [
           5
          ],
          [
           5
          ],
          [
           15
          ],
          [
           5
          ],
          [
           5
          ],
          [
           5
          ],
          [
           5
          ],
          [
           8
          ],
          [
           5
          ],
          [
           9
          ],
          [
           5
          ],
          [
           17
          ],
          [
           5
          ],
          [
           5
          ],
          [
           5
          ],
          [
           6
          ],
          [
           5
          ],
          [
           10
          ],
          [
           5
          ],
          [
           5
          ],
          [
           9
          ],
          [
           5
          ],
          [
           5
          ],
          [
           12
          ],
          [
           14
          ],
          [
           6
          ],
          [
           6
          ],
          [
           10
          ],
          [
           5
          ],
          [
           18
          ],
          [
           6
          ],
          [
           10
          ],
          [
           8
          ],
          [
           5
          ],
          [
           9
          ],
          [
           17
          ],
          [
           6
          ],
          [
           6
          ],
          [
           7
          ],
          [
           6
          ],
          [
           4
          ],
          [
           21
          ],
          [
           10
          ],
          [
           12
          ],
          [
           4
          ],
          [
           7
          ],
          [
           11
          ],
          [
           10
          ],
          [
           9
          ],
          [
           5
          ],
          [
           5
          ],
          [
           8
          ],
          [
           5
          ],
          [
           5
          ],
          [
           5
          ],
          [
           10
          ],
          [
           12
          ],
          [
           5
          ],
          [
           7
          ],
          [
           5
          ],
          [
           15
          ],
          [
           5
          ],
          [
           4
          ],
          [
           4
          ],
          [
           24
          ],
          [
           5
          ],
          [
           30
          ],
          [
           5
          ],
          [
           10
          ],
          [
           5
          ],
          [
           5
          ],
          [
           5
          ],
          [
           5
          ],
          [
           5
          ],
          [
           5
          ],
          [
           9
          ],
          [
           5
          ],
          [
           5
          ],
          [
           5
          ],
          [
           5
          ],
          [
           5
          ],
          [
           5
          ],
          [
           5
          ],
          [
           4
          ],
          [
           7
          ],
          [
           6
          ],
          [
           5
          ],
          [
           5
          ],
          [
           4
          ],
          [
           5
          ],
          [
           8
          ],
          [
           25
          ],
          [
           6
          ],
          [
           5
          ],
          [
           4
          ],
          [
           5
          ],
          [
           7
          ],
          [
           5
          ],
          [
           9
          ],
          [
           9
          ],
          [
           10
          ],
          [
           5
          ],
          [
           15
          ],
          [
           11
          ],
          [
           4
          ],
          [
           5
          ],
          [
           10
          ],
          [
           5
          ],
          [
           8
          ],
          [
           29
          ],
          [
           5
          ],
          [
           8
          ],
          [
           5
          ],
          [
           8
          ],
          [
           5
          ],
          [
           15
          ],
          [
           4
          ],
          [
           5
          ],
          [
           4
          ],
          [
           15
          ],
          [
           5
          ],
          [
           3
          ],
          [
           5
          ],
          [
           3
          ],
          [
           6
          ],
          [
           9
          ],
          [
           8
          ],
          [
           3
          ],
          [
           5
          ],
          [
           5
          ],
          [
           4
          ],
          [
           17
          ],
          [
           11
          ],
          [
           9
          ],
          [
           9
          ],
          [
           10
          ],
          [
           8
          ],
          [
           6
          ],
          [
           6
          ],
          [
           6
          ],
          [
           10
          ],
          [
           10
          ],
          [
           10
          ],
          [
           4
          ],
          [
           11
          ],
          [
           5
          ],
          [
           9
          ],
          [
           3
          ],
          [
           4
          ],
          [
           4
          ],
          [
           15
          ],
          [
           6
          ],
          [
           11
          ],
          [
           5
          ],
          [
           13
          ],
          [
           18
          ],
          [
           4
          ],
          [
           4
          ],
          [
           24
          ],
          [
           4
          ],
          [
           17
          ],
          [
           11
          ],
          [
           10
          ],
          [
           4
          ],
          [
           9
          ],
          [
           8
          ],
          [
           6
          ],
          [
           28
          ],
          [
           5
          ],
          [
           24
          ],
          [
           30
          ],
          [
           23
          ],
          [
           5
          ],
          [
           5
          ],
          [
           5
          ],
          [
           12
          ],
          [
           8
          ],
          [
           20
          ],
          [
           13
          ],
          [
           10
          ],
          [
           21
          ],
          [
           5
          ],
          [
           5
          ],
          [
           13
          ],
          [
           15
          ],
          [
           20
          ],
          [
           27
          ],
          [
           20
          ],
          [
           5
          ],
          [
           27
          ],
          [
           5
          ],
          [
           5
          ],
          [
           18
          ],
          [
           20
          ],
          [
           6
          ],
          [
           5
          ],
          [
           9
          ],
          [
           37
          ],
          [
           5
          ],
          [
           5
          ],
          [
           18
          ],
          [
           13
          ],
          [
           5
          ],
          [
           14
          ],
          [
           20
          ],
          [
           35
          ],
          [
           16
          ],
          [
           5
          ],
          [
           26
          ],
          [
           11
          ],
          [
           5
          ],
          [
           19
          ],
          [
           43
          ],
          [
           23
          ],
          [
           5
          ],
          [
           22
          ],
          [
           37
          ],
          [
           34
          ],
          [
           34
          ],
          [
           5
          ],
          [
           20
          ],
          [
           16
          ],
          [
           29
          ],
          [
           15
          ],
          [
           5
          ],
          [
           16
          ],
          [
           5
          ],
          [
           5
          ],
          [
           5
          ],
          [
           5
          ],
          [
           6
          ],
          [
           15
          ],
          [
           5
          ],
          [
           8
          ],
          [
           26
          ],
          [
           5
          ],
          [
           5
          ],
          [
           5
          ],
          [
           34
          ],
          [
           5
          ],
          [
           8
          ],
          [
           16
          ],
          [
           5
          ],
          [
           9
          ],
          [
           16
          ],
          [
           20
          ],
          [
           49
          ],
          [
           32
          ],
          [
           5
          ],
          [
           34
          ],
          [
           17
          ],
          [
           9
          ],
          [
           19
          ],
          [
           5
          ],
          [
           5
          ],
          [
           9
          ],
          [
           5
          ],
          [
           5
          ],
          [
           13
          ],
          [
           6
          ],
          [
           23
          ],
          [
           5
          ],
          [
           5
          ],
          [
           5
          ],
          [
           5
          ],
          [
           15
          ],
          [
           5
          ],
          [
           5
          ],
          [
           5
          ],
          [
           5
          ],
          [
           5
          ],
          [
           5
          ],
          [
           5
          ],
          [
           5
          ],
          [
           5
          ],
          [
           5
          ],
          [
           12
          ],
          [
           5
          ],
          [
           5
          ],
          [
           15
          ],
          [
           19
          ],
          [
           5
          ],
          [
           5
          ],
          [
           5
          ],
          [
           5
          ],
          [
           5
          ],
          [
           5
          ],
          [
           5
          ],
          [
           7
          ],
          [
           15
          ],
          [
           15
          ],
          [
           10
          ],
          [
           32
          ],
          [
           8
          ],
          [
           6
          ],
          [
           4
          ],
          [
           13
          ],
          [
           11
          ],
          [
           9
          ],
          [
           8
          ],
          [
           6
          ],
          [
           15
          ],
          [
           8
          ],
          [
           8
          ],
          [
           10
          ],
          [
           10
          ],
          [
           9
          ],
          [
           12
          ],
          [
           12
          ],
          [
           5
          ],
          [
           12
          ],
          [
           4
          ],
          [
           6
          ],
          [
           4
          ],
          [
           6
          ],
          [
           4
          ],
          [
           8
          ],
          [
           8
          ],
          [
           4
          ],
          [
           12
          ],
          [
           10
          ],
          [
           5
          ],
          [
           7
          ],
          [
           4
          ],
          [
           6
          ],
          [
           6
          ],
          [
           25
          ],
          [
           29
          ],
          [
           5
          ],
          [
           22
          ],
          [
           12
          ],
          [
           5
          ],
          [
           4
          ],
          [
           5
          ],
          [
           5
          ],
          [
           5
          ],
          [
           5
          ],
          [
           5
          ],
          [
           5
          ],
          [
           5
          ],
          [
           5
          ],
          [
           5
          ],
          [
           6
          ],
          [
           5
          ],
          [
           5
          ],
          [
           8
          ],
          [
           4
          ],
          [
           5
          ],
          [
           4
          ],
          [
           5
          ],
          [
           5
          ],
          [
           5
          ],
          [
           12
          ],
          [
           8
          ],
          [
           5
          ],
          [
           5
          ],
          [
           5
          ],
          [
           5
          ],
          [
           5
          ],
          [
           5
          ],
          [
           5
          ],
          [
           10
          ],
          [
           5
          ],
          [
           5
          ],
          [
           5
          ],
          [
           5
          ],
          [
           5
          ],
          [
           5
          ],
          [
           5
          ],
          [
           4
          ],
          [
           5
          ],
          [
           5
          ],
          [
           5
          ],
          [
           5
          ],
          [
           5
          ],
          [
           4
          ],
          [
           5
          ],
          [
           5
          ],
          [
           5
          ],
          [
           10
          ],
          [
           40
          ],
          [
           16
          ],
          [
           10
          ],
          [
           17
          ],
          [
           8
          ],
          [
           16
          ],
          [
           13
          ],
          [
           9
          ],
          [
           40
          ],
          [
           20
          ],
          [
           10
          ],
          [
           4
          ],
          [
           4
          ],
          [
           11
          ],
          [
           23
          ],
          [
           12
          ],
          [
           9
          ],
          [
           12
          ],
          [
           34
          ],
          [
           14
          ],
          [
           8
          ],
          [
           7
          ],
          [
           15
          ],
          [
           27
          ],
          [
           12
          ]
         ],
         "hovertemplate": "<b>%{hovertext}</b><br><br>Type=Dead<br>Location.latitude=%{lat}<br>Location.longitude=%{lon}<br>Location.accuracy=%{customdata[0]}<extra></extra>",
         "hovertext": [
          "1825 Dead Chum",
          "1700 Dead Chum",
          "1670 Dead Chum",
          "1560 Dead Chum",
          "1940 Dead Chum",
          "1800 Dead Chum",
          "1545 Dead Chum",
          "1800 Dead Chum",
          "1805 Dead Chum",
          "1525 Dead Chum",
          "1805 Dead Chum",
          "1500 Dead Chum",
          "1500 Dead Chum",
          "350 Dead Chum",
          "915 Dead Chum",
          "948 Dead Chum",
          "1095 Dead Chum",
          "435 Dead Chum",
          "1245 Dead Chum",
          "1250 Dead Chum",
          "730 Dead Chum",
          "1730 Dead Chum",
          "1730 Dead Chum",
          "1650 Dead Chum",
          "1715 Dead Chum",
          "1650 Dead Chum",
          "1700 Dead Chum",
          "1760 Dead Chum",
          "1600 Dead Coho",
          "1600 Dead Chum",
          "1600 Dead Chum",
          "1850 Dead Chum",
          "1850 Dead Chum",
          "1560 Dead Chum",
          "1560 Dead Chum",
          "1560 Dead Chum",
          "1560 Dead Chum",
          "625 Dead Chum",
          "1450 Dead Chum",
          "1460 Dead Chum",
          "1460 Dead Chum",
          "510 Dead Chum",
          "1300 Dead Chum",
          "1290 Dead Chum",
          "450 Dead Chum",
          "1250 Dead Chum",
          "1020 Dead Chum",
          "1250 Dead Chum",
          "1250 Dead Chum",
          "1250 Dead Chum",
          "1020 Dead Chum",
          "705 Dead Chum",
          "405 Dead Chum",
          "500 Dead Chum",
          "250 Dead Chum",
          "1915 Dead Chum",
          "330 Dead Chum",
          "330 Dead Chum",
          "340 Dead Chum",
          "1900 Dead Chum",
          "1870 Dead Chum",
          "1855 Dead Chum",
          "270 Dead Chum",
          "1812 Dead Chum",
          "1805 Dead Chum",
          "1800 Dead Chum",
          "1800 Dead Chum",
          "1780 Dead Chum",
          "1765 Dead Chum",
          "1760 Dead Chum",
          "1750 Dead Chum",
          "1540 Dead Chum",
          "1460 Dead Chum",
          "1460 Dead Chum",
          "1460 Dead Chum",
          "Dead Chum",
          "1350 Dead Chum",
          "1310 Dead Chum",
          "1280 Dead Chum",
          "1275 Dead Chum",
          "1270 Dead Chum",
          "1200 Dead Chum",
          "1195 Dead Chum",
          "1140 Dead Chum",
          "1155 Dead Chum",
          "1160 Dead Chum",
          "753 Dead Chum",
          "735 Dead Chum",
          "705 Dead Chum",
          "660 Dead Chum",
          "645 Dead Chum",
          "630 Dead Chum",
          "580 Dead Chum",
          "570 Dead Chum",
          "565 Dead Chum",
          "460 Dead Chum",
          "460 Dead Chum",
          "460 Dead Chum",
          "475 Dead Chum",
          "325 Dead Chum",
          "290 Dead Chum",
          "430 Dead Chum",
          "250 Dead Coho",
          "430 Dead Chum",
          "205 Dead Chum",
          "70 Dead Chum",
          "350 Dead Chum",
          "350 Dead Chum",
          "325 Dead Chum",
          "325 Dead Chum",
          "450 Dead Chum",
          "340 Dead Chum",
          "470 Dead Chum",
          "300 Dead Chum",
          "300 Dead Chum",
          "470 Dead Chum",
          "300 Dead Chum",
          "300 Dead Chum",
          "340 Dead Chum",
          "550 Dead Chum",
          "650 Dead Coho",
          "200 Dead Chum",
          "200 Dead Chum",
          "200 Dead Chum",
          "20 Dead Chum",
          "1300 Dead Chum",
          "1310 Dead Chum",
          "1315 Dead Chum",
          "1290 Dead Chum",
          "1290 Dead Chum",
          "1290 Dead Chum",
          "1275 Dead Chum",
          "1330 Dead Chum",
          "1290 Dead Chum",
          "1275 Dead Chum",
          "1100 Dead Chum",
          "1100 Dead Chum",
          "1350 Dead Chum",
          "1100 Dead Chum",
          "1350 Dead Chum",
          "1100 Dead Chum",
          "1100 Dead Chum",
          "1350 Dead Chum",
          "1100 Dead Chum",
          "1100 Dead Chum",
          "1100 Dead Chum",
          "1080 Dead Chum",
          "1400 Dead Chum",
          "1400 Dead Chum",
          "1400 Dead Chum",
          "1075 Dead Chum",
          "1400 Dead Chum",
          "1075 Dead Chum",
          "1140 Dead Chum",
          "1050 Dead Chum",
          "1450 Dead Chum",
          "1450 Dead Chum",
          "1050 Dead Chum",
          "1450 Dead Chum",
          "1200 Dead Chum",
          "1450 Dead Chum",
          "1450 Dead Chum",
          "1200 Dead Chum",
          "1000 Dead Chum",
          "1450 Dead Chum",
          "1000 Dead Chum",
          "1450 Dead Chum",
          "1200 Dead Chum",
          "1450 Dead Chum",
          "960 Dead Chum",
          "1230 Dead Chum",
          "950 Dead Chum",
          "1490 Dead Chum",
          "1490 Dead Chum",
          "900 Dead Chum",
          "1490 Dead Chum",
          "1490 Dead Chum",
          "1490 Dead Chum",
          "1490 Dead Chum",
          "1490 Dead Chum",
          "850 Dead Chum",
          "900 Dead Chum",
          "850 Dead Chum",
          "1540 Dead Chum",
          "1540 Dead Chum",
          "1540 Dead Chum",
          "1540 Dead Chum",
          "750 Dead Chum",
          "720 Dead Chum",
          "1570 Dead Chum",
          "705 Dead Chum",
          "1570 Dead Chum",
          "705 Dead Chum",
          "1570 Dead Chum",
          "1570 Dead Chum",
          "705 Dead Chum",
          "600 Dead Chum",
          "1570 Dead Chum",
          "600 Dead Chum",
          "1570 Dead Chum",
          "1600 Dead Chum",
          "1600 Dead Chum",
          "450 Dead Chum",
          "1600 Dead Chum",
          "1600 Dead Chum",
          "490 Dead Chum",
          "1600 Dead Chum",
          "1600 Dead Chum",
          "490 Dead Chum",
          "515 Dead Chum",
          "650 Dead Chum",
          "530 Dead Chum",
          "1710 Dead Chum",
          "1710 Dead Chum",
          "625 Dead Chum",
          "1710 Dead Chum",
          "440 Dead Chum",
          "1710 Dead Chum",
          "440 Dead Chum",
          "1710 Dead Chum",
          "440 Dead Chum",
          "440 Dead Chum",
          "440 Dead Chum",
          "610 Dead Chum",
          "440 Dead Chum",
          "440 Dead Coho",
          "605 Dead Chum",
          "1740 Dead Chum",
          "610 Dead Chum",
          "1750 Dead Chum",
          "610 Dead Chum",
          "1800 Dead Chum",
          "605 Dead Chum",
          "605 Dead Chum",
          "1840 Dead Chum",
          "1840 Dead Chum",
          "405 Dead Chum",
          "405 Dead Chum",
          "1890 Dead Chum",
          "1890 Dead Chum",
          "355 Dead Chum",
          "1890 Dead Chum",
          "1890 Dead Chum",
          "560 Dead Chum",
          "355 Dead Chum",
          "1890 Dead Chum",
          "1890 Dead Chum",
          "350 Dead Chum",
          "350 Dead Chum",
          "1940 Dead Chum",
          "300 Dead Chum",
          "1975 Dead Chum",
          "300 Dead Chum",
          "240 Dead Chum",
          "100 Dead Chum",
          "0 Dead Chum",
          "0 Dead Chum",
          "1720 Dead Chum",
          "1600 Dead Coho",
          "1600 Dead Chum",
          "1685 Dead Chum",
          "1600 Dead Chum",
          "1600 Dead Chum",
          "1600 Dead Chum",
          "345 Dead Chum",
          "1600 Dead Chum",
          "325 Dead Chum",
          "345 Dead Chum",
          "345 Dead Chum",
          "325 Dead Chum",
          "1530 Dead Chum",
          "1535 Dead Chum",
          "1530 Dead Chum",
          "325 Dead Chum",
          "1570 Dead Chum",
          "325 Dead Chum",
          "1530 Dead Chum",
          "350 Dead Chum",
          "325 Dead Chum",
          "350 Dead Chum",
          "350 Dead Chum",
          "1495 Dead Chum",
          "350 Dead Chum",
          "1500 Dead Chum",
          "310 Dead Chum",
          "1485 Dead Chum",
          "400 Dead Chum",
          "1460 Dead Chum",
          "255 Dead Chum",
          "1460 Dead Chum",
          "1450 Dead Chum",
          "255 Dead Chum",
          "1430 Dead Chum",
          "260 Dead Chum",
          "260 Dead Chum",
          "1430 Dead Chum",
          "260 Dead Chum",
          "1400 Dead Chum",
          "255 Dead Chum",
          "1375 Dead Chum",
          "1395 Dead Chum",
          "1370 Dead Chum",
          "1390 Dead Chum",
          "1375 Dead Chum",
          "225 Dead Chum",
          "1310 Dead Chum",
          "225 Dead Chum",
          "1310 Dead Chum",
          "1315 Dead Chum",
          "1300 Dead Chum",
          "1310 Dead Chum",
          "1300 Dead Chum",
          "150 Dead Chum",
          "1295 Dead Chum",
          "150 Dead Chum",
          "1200 Dead Chum",
          "1185 Dead Chum",
          "1155 Dead Chum",
          "1160 Dead Chum",
          "1155 Dead Chum",
          "1107 Dead Chum",
          "1075 Dead Chum",
          "1080 Dead Chum",
          "1075 Dead Chum",
          "1080 Dead Chum",
          "1075 Dead Chum",
          "1080 Dead Chum",
          "1075 Dead Chum",
          "1900 Dead Chum",
          "1080 Dead Chum",
          "1075 Dead Chum",
          "1080 Dead Chum",
          "1800 Dead Chum",
          "1055 Dead Chum",
          "1050 Dead Chum",
          "1050 Dead Chum",
          "1775 Dead Chum",
          "950 Dead Chum",
          "995 Dead Chum",
          "995 Dead Chum",
          "890 Dead Chum",
          "870 Dead Chum",
          "890 Dead Chum",
          "870 Dead Chum",
          "830 Dead Chum",
          "825 Dead Chum",
          "830 Dead Chum",
          "775 Dead Chum",
          "770 Dead Chum",
          "425 Dead Chum",
          "425 Dead Chum",
          "425 Dead Chum",
          "708 Dead Chum",
          "425 Dead Chum",
          "425 Dead Chum",
          "750 Dead Chum",
          "425 Dead Chum",
          "425 Dead Chum",
          "730 Dead Chum",
          "425 Dead Chum",
          "730 Dead Chum",
          "730 Dead Chum",
          "405 Dead Chum",
          "705 Dead Chum",
          "405 Dead Chum",
          "705 Dead Chum",
          "405 Dead Chum",
          "640 Dead Chum",
          "635 Dead Chum",
          "630 Dead Chum",
          "400 Dead Chum",
          "630 Dead Chum",
          "595 Dead Chum",
          "400 Dead Chum",
          "630 Dead Chum",
          "1250 Dead Chum",
          "600 Dead Chum",
          "350 Dead Chum",
          "590 Dead Chum",
          "350 Dead Chum",
          "590 Dead Chum",
          "575 Dead Coho",
          "275 Dead Chum",
          "250 Dead Chum",
          "250 Dead Chum",
          "250 Dead Chum",
          "565 Dead Chum",
          "200 Dead Chum",
          "545 Dead Chum",
          "200 Dead Chum",
          "200 Dead Chum",
          "545 Dead Chum",
          "540 Dead Chum",
          "515 Dead Chum",
          "145 Dead Chum",
          "500 Dead Chum",
          "500 Dead Chum",
          "90 Dead Chum",
          "480 Dead Chum",
          "90 Dead Chum",
          "480 Dead Chum",
          "50 Dead Chum",
          "0 Dead Chum",
          "0 Dead Chum",
          "0 Dead Chum",
          "1510 Dead Chum",
          "1508 Dead Chum",
          "1510 Dead Chum",
          "1507 Dead Chum",
          "1510 Dead Chum",
          "1502 Dead Chum",
          "1500 Dead Chum",
          "1450 Dead Chum",
          "1450 Dead Chum",
          "1450 Dead Chum",
          "1450 Dead Chum",
          "1450 Dead Chum",
          "1450 Dead Chum",
          "1592 Dead Chum",
          "1575 Dead Chum",
          "1450 Dead Coho",
          "1575 Dead Chum",
          "1595 Dead Chum",
          "1450 Dead Chum",
          "1575 Dead Chum",
          "1450 Dead Chum",
          "1575 Dead Chum",
          "1450 Dead Chum",
          "1610 Dead Chum",
          "1450 Dead Chum",
          "1450 Dead Chum",
          "1608 Dead Chum",
          "1605 Dead Chum",
          "1450 Dead Chum",
          "1450 Dead Coho",
          "1620 Dead Chum",
          "1550 Dead Chum",
          "1620 Dead Chum",
          "1620 Dead Chum",
          "1400 Dead Chum",
          "1540 Dead Chum",
          "1635 Dead Chum",
          "1400 Dead Chum",
          "1540 Dead Chum",
          "1656 Dead Chum",
          "1400 Dead Chum",
          "1400 Dead Chum",
          "1655 Dead Chum",
          "1400 Dead Chum",
          "1400 Dead Chum",
          "1400 Dead Chum",
          "1654 Dead Chum",
          "1400 Dead Chum",
          "1400 Dead Chum",
          "1653 Dead Chum",
          "1652 Dead Chum",
          "1400 Dead Chum",
          "1651 Dead Chum",
          "1650 Dead Chum",
          "1210 Dead Chum",
          "1310 Dead Chum",
          "1680 Dead Coho",
          "1310 Dead Chum",
          "1310 Dead Chum",
          "1682 Dead Chum",
          "1310 Dead Chum",
          "1685 Dead Chum",
          "1310 Dead Chum",
          "1310 Dead Chum",
          "1684 Dead Chum",
          "1310 Dead Chum",
          "1686 Dead Chum",
          "1310 Dead Chum",
          "1190 Dead Chum",
          "1680 Dead Chum",
          "1310 Dead Chum",
          "1310 Dead Chum",
          "1688 Dead Chum",
          "1190 Dead Chum",
          "1310 Dead Chum",
          "1690 Dead Chum",
          "1310 Dead Chum",
          "1692 Dead Chum",
          "1695 Dead Chum",
          "1200 Dead Chum",
          "1860 Dead Chum",
          "1860 Dead Chum",
          "1155 Dead Chum",
          "1290 Dead Chum",
          "1860 Dead Chum",
          "1140 Dead Chum",
          "1855 Dead Chum",
          "1140 Dead Chum",
          "1855 Dead Chum",
          "1140 Dead Chum",
          "1655 Dead Chum",
          "1250 Dead Chum",
          "1250 Dead Chum",
          "1250 Dead Chum",
          "1250 Dead Chum",
          "1680 Dead Chum",
          "1250 Dead Chum",
          "1250 Dead Chum",
          "1250 Dead Chum",
          "1250 Dead Chum",
          "1708 Dead Chum",
          "1250 Dead Chum",
          "1710 Dead Chum",
          "1250 Dead Chum",
          "1705 Dead Chum",
          "1762 Dead Chum",
          "1250 Dead Chum",
          "1250 Dead Chum",
          "1090 Dead Chum",
          "1250 Dead Chum",
          "1995 Dead Chum",
          "1090 Dead Coho",
          "1250 Dead Chum",
          "1798 Dead Chum",
          "1250 Dead Chum",
          "1250 Dead Chum",
          "1800 Dead Chum",
          "1802 Dead Chum",
          "1090 Dead Chum",
          "1090 Dead Chum",
          "1806 Dead Chum",
          "1090 Dead Chum",
          "1810 Dead Chum",
          "1090 Dead Chum",
          "1810 Dead Chum",
          "1090 Dead Chum",
          "1090 Dead Chum",
          "1940 Dead Chum",
          "1835 Dead Chum",
          "1090 Dead Chum",
          "1090 Dead Chum",
          "1090 Dead Chum",
          "1850 Dead Chum",
          "1090 Dead Chum",
          "1850 Dead Chum",
          "1860 Dead Chum",
          "1860 Dead Chum",
          "200 Dead Chum",
          "250 Dead Chum",
          "1075 Dead Chum",
          "1875 Dead Chum",
          "1075 Dead Chum",
          "260 Dead Chum",
          "260 Dead Chum",
          "1885 Dead Chum",
          "300 Dead Chum",
          "300 Dead Chum",
          "300 Dead Chum",
          "1055 Dead Chum",
          "1930 Dead Chum",
          "300 Dead Chum",
          "1055 Dead Chum",
          "300 Dead Chum",
          "1930 Dead Chum",
          "300 Dead Chum",
          "300 Dead Chum",
          "1055 Dead Chum",
          "1935 Dead Chum",
          "300 Dead Chum",
          "1050 Dead Chum",
          "290 Dead Chum",
          "1990 Dead Chum",
          "290 Dead Chum",
          "290 Dead Chum",
          "300 Dead Chum",
          "300 Dead Chum",
          "300 Dead Chum",
          "300 Dead Chum",
          "1025 Dead Chum",
          "300 Dead Chum",
          "1025 Dead Chum",
          "350 Dead Chum",
          "350 Dead Chum",
          "350 Dead Chum",
          "350 Dead Chum",
          "350 Dead Chum",
          "350 Dead Chum",
          "1010 Dead Chum",
          "1010 Dead Chum",
          "390 Dead Chum",
          "400 Dead Chum",
          "975 Dead Chum",
          "400 Dead Chum",
          "400 Dead Chum",
          "950 Dead Chum",
          "940 Dead Chum",
          "450 Dead Chum",
          "450 Dead Chum",
          "450 Dead Chum",
          "925 Dead Chum",
          "470 Dead Chum",
          "925 Dead Chum",
          "470 Dead Chum",
          "925 Dead Chum",
          "925 Dead Chum",
          "500 Dead Chum",
          "890 Dead Chum",
          "890 Dead Chum",
          "0 Dead Chum",
          "875 Dead Chum",
          "0 Dead Chum",
          "0 Dead Chum",
          "875 Dead Chum",
          "875 Dead Chum",
          "875 Dead Chum",
          "140 Dead Chum",
          "100 Dead Chum",
          "800 Dead Chum",
          "800 Dead Chum",
          "775 Dead Chum",
          "775 Dead Chum",
          "775 Dead Chum",
          "775 Dead Chum",
          "760 Dead Chum",
          "750 Dead Chum",
          "750 Dead Chum",
          "750 Dead Chum",
          "750 Dead Chum",
          "720 Dead Chum",
          "720 Dead Chum",
          "720 Dead Chum",
          "700 Dead Chum",
          "700 Dead Chum",
          "650 Dead Chum",
          "650 Dead Chum",
          "625 Dead Chum",
          "625 Dead Chum",
          "625 Dead Chum",
          "625 Dead Chum",
          "615 Dead Chum",
          "615 Dead Chum",
          "590 Dead Chum",
          "595 Dead Chum",
          "590 Dead Chum",
          "590 Dead Chum",
          "590 Dead Chum",
          "580 Dead Chum",
          "580 Dead Chum",
          "565 Dead Chum",
          "565 Dead Chum",
          "565 Dead Chum",
          "525 Dead Coho",
          "475 Dead Chum",
          "475 Dead Chum",
          "450 Dead Chum",
          "445 Dead Chum",
          "415 Dead Chum",
          "400 Dead Chum",
          "355 Dead Chum",
          "355 Dead Chum",
          "300 Dead Chum",
          "200 Dead Chum",
          "50 Dead Chum",
          "0 Dead Chum",
          "0 Dead Chum",
          "0 Dead Chum",
          "0 Dead Chum",
          "436 Dead Chum",
          "430 Dead Coho",
          "420 Dead Chum",
          "770 Dead Chum",
          "475 Dead Chum",
          "735 Dead Chum",
          "475 Dead Chum",
          "460 Dead Chum",
          "450 Dead Chum",
          "450 Dead Chum",
          "450 Dead Chum",
          "300 Dead Chum",
          "200 Dead Chum",
          "1745 Dead Chum",
          "1700 Dead Chum",
          "1660 Dead Chum",
          "1700 Dead Chum",
          "1655 Dead Chum",
          "1650 Dead Chum",
          "1650 Dead Chum",
          "1590 Dead Chum",
          "1640 Dead Chum",
          "1550 Dead Chum",
          "1630 Dead Chum",
          "1540 Dead Chum",
          "1545 Dead Chum",
          "1540 Dead Chum",
          "1490 Dead Chum",
          "1540 Dead Chum",
          "1500 Dead Chum",
          "1460 Dead Chum",
          "1480 Dead Chum",
          "11480 Dead Chum",
          "1460 Dead Chum",
          "1400 Dead Chum",
          "1400 Dead Chum",
          "1400 Dead Chum",
          "1375 Dead Chum",
          "1325 Dead Chum",
          "1230 Dead Chum",
          "1215 Dead Chum",
          "1160 Dead Chum",
          "1155 Dead Chum",
          "1050 Dead Chum",
          "1055 Dead Chum",
          "1050 Dead Chum",
          "950 Dead Coho",
          "950 Dead Chum",
          "900 Dead Chum",
          "845 Dead Chum",
          "800 Dead Chum",
          "775 Dead Coho",
          "610 Dead Chum",
          "750 Dead Chum",
          "750 Dead Chum",
          "750 Dead Chum",
          "750 Dead Chum",
          "588 Dead Chum",
          "750 Dead Chum",
          "590 Dead Chum",
          "715 Dead Coho",
          "715 Dead Chum",
          "600 Dead Chum",
          "635 Dead Chum",
          "595 Dead Chum",
          "635 Dead Chum",
          "635 Dead Chum",
          "575 Dead Chum",
          "540 Dead Chum",
          "540 Dead Chum",
          "550 Dead Chum",
          "475 Dead Chum",
          "475 Dead Chum",
          "435 Dead Chum",
          "465 Dead Chum",
          "435 Dead Chum",
          "425 Dead Chum",
          "375 Dead Chum",
          "360 Dead Chum",
          "365 Dead Coho",
          "360 Dead Chum",
          "305 Dead Chum",
          "305 Dead Coho",
          "255 Dead Chum",
          "195 Dead Chum",
          "195 Dead Chum",
          "200 Dead Coho",
          "185 Dead Chum",
          "175 Dead Chum",
          "138 Dead Chum",
          "130 Dead Chum",
          "130 Dead Chum",
          "105 Dead Chum",
          "105 Dead Chum",
          "100 Dead Coho",
          "55 Dead Chum",
          "70 Dead Chum",
          "45 Dead Chum",
          "45 Dead Chum",
          "0 Dead Chum",
          "0 Dead Coho",
          "0 Dead Chum",
          "0 Dead Coho",
          "0 Dead Coho",
          "0 Dead Chum",
          "0 Dead Chum",
          "0 Dead Chum",
          "0 Dead Coho",
          "0 Dead Coho",
          "0 Dead Chum",
          "0 Dead Chum",
          "0 Dead Chum",
          "0 Dead Coho",
          "0 Dead Chum",
          "0 Dead Coho",
          "0 Dead Chum",
          "0 Dead Coho",
          "0 Dead Coho",
          "0 Dead Coho",
          "0 Dead Coho",
          "0 Dead Coho",
          "0 Dead Coho",
          "0 Dead Coho",
          "0 Dead Chum",
          "0 Dead Coho",
          "310 Dead Chum",
          "310 Dead Chum",
          "310 Dead Chum",
          "300 Dead Chum",
          "200 Dead Chum",
          "2000 Dead Coho",
          "1900 Dead Chum",
          "1750 Dead Chum",
          "1550 Dead Chum",
          "1600 Dead Chum",
          "1550 Dead Chum",
          "1460 Dead Chum",
          "1320 Dead Chum",
          "1250 Dead Chum",
          "1130 Dead Chum",
          "1075 Dead Chum",
          "1075 Dead Chum",
          "1075 Dead Chum",
          "1050 Dead Chum",
          "1000 Dead Chum",
          "850 Dead Chum",
          "705 Dead Chum",
          "615 Dead Chum",
          "575 Dead Chum",
          "530 Dead Chum",
          "550 Dead Chum",
          "310 Dead Chum",
          "375 Dead Chum",
          "300 Dead Chum",
          "225 Dead Chum",
          "200 Dead Chum",
          "160 Dead Chum",
          "0 Dead Chum",
          "0 Dead Unknown",
          "0 Dead Chum",
          "0 Dead Chum",
          "0 Dead Chum",
          "725 Dead Chum",
          "720 Dead Chum",
          "700 Dead Chum",
          "690 Dead Chum",
          "670 Dead Chum",
          "500 Dead Chum",
          "485 Dead Chum",
          "455 Dead Chum",
          "395 Dead Chum",
          "395 Dead Chum",
          "395 Dead Chum",
          "355 Dead Chum",
          "355 Dead Chum",
          "165 Dead Chum",
          "65 Dead Chum",
          "60 Dead Chum",
          "1850 Dead Coho",
          "1765 Dead Chum",
          "1750 Dead Chum",
          "1700 Dead Coho",
          "1600 Dead Chum",
          "1500 Dead Chum",
          "1475 Dead Chum",
          "1450 Dead Chum",
          "1450 Dead Chum",
          "1450 Dead Chum",
          "1450 Dead Chum",
          "1250 Dead Chum",
          "1075 Dead Coho",
          "920 Dead Coho",
          "875 Dead Coho",
          "800 Dead Coho",
          "775 Dead Chum",
          "660 Dead Chum",
          "840 Dead Chum",
          "850 Dead Chum",
          "655 Dead Chum",
          "660 Dead Chum",
          "640 Dead Chum",
          "620 Dead Coho",
          "610 Dead Coho",
          "605 Dead Chum",
          "600 Dead Chum",
          "600 Dead Chum",
          "600 Dead Chum",
          "440 Dead Coho",
          "420 Dead Chum",
          "425 Dead Chum",
          "400 Dead Chum",
          "210 Dead Chum",
          "155 Dead Chum",
          "0 Dead Coho",
          "190 Dead Chum",
          "90 Dead Chum",
          "1985 Dead Coho",
          "1885 Dead Chum",
          "1810 Dead Chum",
          "1710 Dead Chum",
          "1690 Dead Chum",
          "1320 Dead Coho",
          "895 Dead Chum",
          "775 Dead Chum",
          "650 Dead Chum",
          "610 Dead Chum",
          "0 Dead Coho",
          "675 Dead Chum",
          "750 Dead Chum",
          "770 Dead Chum",
          "1490 Dead Chum",
          "1400 Dead Coho",
          "1325 Dead Chum",
          "575 Dead Coho",
          "575 Dead Coho",
          "525 Dead Coho",
          "0 Dead Chum",
          "0 Dead Chum",
          "175 Dead Coho",
          "1875 Dead Coho",
          "60 Dead Coho"
         ],
         "lat": [
          47.711029,
          47.711026,
          47.711106,
          47.711069,
          47.71091,
          47.711049,
          47.711061,
          47.711046,
          47.711059,
          47.711083,
          47.711046,
          47.711093,
          47.711116,
          47.711652,
          47.711437,
          47.711268,
          47.711314,
          47.711606,
          47.711177,
          47.711316,
          47.711164,
          47.711095,
          47.711098,
          47.711239,
          47.711097,
          47.7113,
          47.711099,
          47.710994,
          47.711324,
          47.711458,
          47.711344,
          47.711011,
          47.711011,
          47.711389,
          47.711497,
          47.711459,
          47.711984,
          47.711931,
          47.711236,
          47.711288,
          47.711189,
          47.711487,
          47.711138,
          47.71122,
          47.711645,
          47.71116,
          47.711298,
          47.711228,
          47.710891,
          47.711294,
          47.711446,
          47.711639,
          47.711717,
          47.711728,
          47.711785,
          47.710881,
          47.711522,
          47.711653,
          47.711765,
          47.710914,
          47.710865,
          47.71094,
          47.711457,
          47.710973,
          47.710911,
          47.710957,
          47.711153,
          47.711361,
          47.711013,
          47.711034,
          47.711185,
          47.711239,
          47.711238,
          47.711142,
          47.711123,
          47.711329,
          47.71124,
          47.711109,
          47.711314,
          47.711257,
          47.711412,
          47.711266,
          47.711631,
          47.71137,
          47.711269,
          47.711196,
          47.711545,
          47.711452,
          47.711521,
          47.711528,
          47.711553,
          47.711471,
          47.711324,
          47.71161,
          47.711745,
          47.71164,
          47.711638,
          47.711592,
          47.711668,
          47.711667,
          47.711554,
          47.711666,
          47.711733,
          47.71157,
          47.711735,
          47.712033,
          47.711642,
          47.711633,
          47.711671,
          47.711647,
          47.711849,
          47.711625,
          47.711882,
          47.711625,
          47.711626,
          47.712015,
          47.711681,
          47.711839,
          47.711807,
          47.711905,
          47.712117,
          47.711538,
          47.711487,
          47.71149,
          47.710969,
          47.711252,
          47.710946,
          47.711025,
          47.711213,
          47.71123,
          47.711237,
          47.71121,
          47.711272,
          47.711261,
          47.711233,
          47.71139,
          47.711367,
          47.711236,
          47.711341,
          47.71106,
          47.71167,
          47.711403,
          47.71106,
          47.711335,
          47.711373,
          47.711397,
          47.71143,
          47.711139,
          47.711139,
          47.711233,
          47.711436,
          47.711382,
          47.711458,
          47.711264,
          47.71143,
          47.71117,
          47.711238,
          47.711451,
          47.711242,
          47.711286,
          47.71122,
          47.71121,
          47.71115,
          47.711446,
          47.711113,
          47.7114,
          47.711211,
          47.711174,
          47.711279,
          47.711372,
          47.711227,
          47.711433,
          47.71113,
          47.71113,
          47.711446,
          47.71113,
          47.71113,
          47.711123,
          47.711123,
          47.711175,
          47.711396,
          47.711752,
          47.711514,
          47.711085,
          47.711291,
          47.711291,
          47.711473,
          47.7115,
          47.711501,
          47.711249,
          47.711547,
          47.711192,
          47.711473,
          47.711201,
          47.711229,
          47.711438,
          47.711524,
          47.711229,
          47.711614,
          47.711414,
          47.711237,
          47.711258,
          47.711499,
          47.711258,
          47.711321,
          47.71137,
          47.711213,
          47.711234,
          47.711604,
          47.711601,
          47.711877,
          47.711592,
          47.711023,
          47.711013,
          47.711514,
          47.711052,
          47.711569,
          47.711052,
          47.711568,
          47.711127,
          47.711517,
          47.711503,
          47.711403,
          47.711505,
          47.711417,
          47.711549,
          47.711571,
          47.711344,
          47.711562,
          47.710807,
          47.711541,
          47.710824,
          47.711555,
          47.711611,
          47.711041,
          47.711049,
          47.711718,
          47.71168,
          47.711094,
          47.71103,
          47.711678,
          47.711024,
          47.710983,
          47.711593,
          47.711754,
          47.710983,
          47.710921,
          47.711675,
          47.711641,
          47.711046,
          47.711658,
          47.711113,
          47.711579,
          47.711747,
          47.711853,
          47.71205,
          47.711321,
          47.711027,
          47.711149,
          47.711182,
          47.711004,
          47.711234,
          47.711176,
          47.71118,
          47.711689,
          47.711232,
          47.711628,
          47.711694,
          47.711654,
          47.711637,
          47.711206,
          47.711242,
          47.711247,
          47.711652,
          47.711029,
          47.711588,
          47.711332,
          47.711675,
          47.711638,
          47.711655,
          47.711663,
          47.711072,
          47.711507,
          47.711134,
          47.711682,
          47.711122,
          47.711693,
          47.711277,
          47.7115,
          47.711192,
          47.711382,
          47.711556,
          47.711388,
          47.711504,
          47.711496,
          47.711404,
          47.711489,
          47.711105,
          47.711456,
          47.711271,
          47.711195,
          47.711281,
          47.710912,
          47.711124,
          47.711374,
          47.711248,
          47.711398,
          47.711195,
          47.71121,
          47.711228,
          47.711364,
          47.711176,
          47.711242,
          47.711062,
          47.711247,
          47.71134,
          47.711242,
          47.711404,
          47.711436,
          47.711417,
          47.711289,
          47.711319,
          47.711348,
          47.711269,
          47.711343,
          47.711364,
          47.711319,
          47.711271,
          47.710987,
          47.711326,
          47.711333,
          47.711322,
          47.711047,
          47.711317,
          47.71132,
          47.711449,
          47.711089,
          47.711398,
          47.711372,
          47.711293,
          47.711406,
          47.711405,
          47.71136,
          47.711294,
          47.711395,
          47.711326,
          47.711374,
          47.711462,
          47.7114,
          47.711621,
          47.711623,
          47.711594,
          47.711608,
          47.711598,
          47.711566,
          47.711736,
          47.711639,
          47.711616,
          47.71155,
          47.711684,
          47.711614,
          47.711627,
          47.711652,
          47.71157,
          47.711624,
          47.711457,
          47.711599,
          47.711609,
          47.711537,
          47.711574,
          47.711539,
          47.711488,
          47.711585,
          47.711462,
          47.711645,
          47.711301,
          47.711589,
          47.71169,
          47.711576,
          47.711658,
          47.711518,
          47.711519,
          47.711766,
          47.711782,
          47.711781,
          47.711817,
          47.711611,
          47.711729,
          47.711571,
          47.711754,
          47.71168,
          47.711527,
          47.711662,
          47.711679,
          47.711778,
          47.711638,
          47.71167,
          47.71186,
          47.711695,
          47.711852,
          47.711576,
          47.711827,
          47.711942,
          47.712025,
          47.711945,
          47.711155,
          47.71121,
          47.711134,
          47.711204,
          47.711176,
          47.711287,
          47.711291,
          47.711228,
          47.711216,
          47.711206,
          47.7112,
          47.711201,
          47.711206,
          47.711256,
          47.711213,
          47.711126,
          47.71121,
          47.711359,
          47.71119,
          47.711185,
          47.711164,
          47.71115,
          47.711167,
          47.711395,
          47.711135,
          47.711221,
          47.711388,
          47.711342,
          47.711172,
          47.711256,
          47.711331,
          47.711136,
          47.711331,
          47.711226,
          47.711233,
          47.711149,
          47.711226,
          47.711237,
          47.711147,
          47.711134,
          47.711201,
          47.711233,
          47.711235,
          47.711208,
          47.711265,
          47.711211,
          47.711155,
          47.711249,
          47.711244,
          47.71109,
          47.711104,
          47.711216,
          47.711162,
          47.711217,
          47.71131,
          47.711209,
          47.711218,
          47.711203,
          47.711238,
          47.711168,
          47.711221,
          47.711197,
          47.711174,
          47.711252,
          47.711166,
          47.711288,
          47.711117,
          47.711301,
          47.711289,
          47.711074,
          47.711287,
          47.711244,
          47.711087,
          47.711283,
          47.711261,
          47.711158,
          47.711204,
          47.711137,
          47.711056,
          47.710909,
          47.711267,
          47.711125,
          47.711397,
          47.711274,
          47.710997,
          47.711411,
          47.711052,
          47.711366,
          47.710962,
          47.711435,
          47.710915,
          47.711224,
          47.711251,
          47.71122,
          47.711223,
          47.711376,
          47.711253,
          47.711285,
          47.71124,
          47.71127,
          47.711066,
          47.711293,
          47.711132,
          47.711272,
          47.711244,
          47.71112,
          47.711268,
          47.711261,
          47.711408,
          47.71124,
          47.711066,
          47.711402,
          47.711266,
          47.71107,
          47.711232,
          47.711258,
          47.711239,
          47.711223,
          47.711387,
          47.711388,
          47.711188,
          47.711389,
          47.711169,
          47.711389,
          47.710984,
          47.711376,
          47.711373,
          47.710937,
          47.711053,
          47.711374,
          47.711405,
          47.711431,
          47.710942,
          47.711432,
          47.710956,
          47.710958,
          47.710902,
          47.711403,
          47.711512,
          47.7114,
          47.711016,
          47.71139,
          47.711552,
          47.711464,
          47.710975,
          47.711644,
          47.711653,
          47.711643,
          47.711423,
          47.710941,
          47.711684,
          47.711413,
          47.711696,
          47.710933,
          47.711769,
          47.711692,
          47.711328,
          47.71066,
          47.711607,
          47.711714,
          47.711675,
          47.710952,
          47.711679,
          47.711643,
          47.711648,
          47.711643,
          47.711676,
          47.711669,
          47.711413,
          47.711704,
          47.711398,
          47.711671,
          47.711622,
          47.711617,
          47.711645,
          47.711633,
          47.71156,
          47.711441,
          47.711365,
          47.71162,
          47.711719,
          47.711348,
          47.711703,
          47.711691,
          47.711349,
          47.711478,
          47.711806,
          47.71184,
          47.711851,
          47.711368,
          47.711854,
          47.711322,
          47.711778,
          47.711286,
          47.711486,
          47.711874,
          47.711497,
          47.711514,
          47.712143,
          47.711355,
          47.712185,
          47.712131,
          47.711437,
          47.71144,
          47.711502,
          47.712434,
          47.712373,
          47.711605,
          47.71161,
          47.711428,
          47.711423,
          47.711417,
          47.711441,
          47.711462,
          47.711484,
          47.711465,
          47.711419,
          47.711503,
          47.711486,
          47.711469,
          47.711494,
          47.711512,
          47.711505,
          47.711487,
          47.711545,
          47.71155,
          47.711553,
          47.711582,
          47.711583,
          47.711567,
          47.71161,
          47.711614,
          47.71163,
          47.711582,
          47.711579,
          47.711578,
          47.711569,
          47.711582,
          47.711615,
          47.71161,
          47.711571,
          47.711497,
          47.711588,
          47.711521,
          47.71153,
          47.711496,
          47.711567,
          47.71163,
          47.711639,
          47.711675,
          47.711652,
          47.711671,
          47.711726,
          47.711445,
          47.711309,
          47.711742,
          47.71181,
          47.711682,
          47.711721,
          47.711599,
          47.712422,
          47.711916,
          47.712255,
          47.711924,
          47.711929,
          47.711746,
          47.711786,
          47.711793,
          47.711699,
          47.711303,
          47.711295,
          47.711239,
          47.711085,
          47.711215,
          47.711174,
          47.711142,
          47.711115,
          47.711138,
          47.711232,
          47.711093,
          47.711089,
          47.711189,
          47.71132,
          47.71117,
          47.711189,
          47.71118,
          47.711216,
          47.71115,
          47.711181,
          47.711255,
          47.711225,
          47.711159,
          47.711151,
          47.711154,
          47.71119,
          47.711225,
          47.711208,
          47.711119,
          47.711394,
          47.71124,
          47.711186,
          47.711161,
          47.711365,
          47.711352,
          47.711289,
          47.711393,
          47.711428,
          47.711435,
          47.711367,
          47.711368,
          47.711558,
          47.711522,
          47.711526,
          47.711462,
          47.711513,
          47.711497,
          47.711444,
          47.711512,
          47.711485,
          47.711538,
          47.711569,
          47.711474,
          47.711551,
          47.711443,
          47.711522,
          47.711605,
          47.711581,
          47.71161,
          47.711541,
          47.71159,
          47.711585,
          47.711303,
          47.711577,
          47.711571,
          47.711714,
          47.711609,
          47.711602,
          47.71157,
          47.711581,
          47.711555,
          47.711707,
          47.711827,
          47.71177,
          47.711711,
          47.711769,
          47.711772,
          47.711766,
          47.711794,
          47.7118,
          47.711795,
          47.711763,
          47.711799,
          47.711783,
          47.711765,
          47.711871,
          47.711883,
          47.711013,
          47.711022,
          47.711024,
          47.71128,
          47.7113,
          47.711307,
          47.711289,
          47.711285,
          47.711288,
          47.711284,
          47.711281,
          47.711281,
          47.711289,
          47.71126,
          47.711554,
          47.711546,
          47.711489,
          47.71216,
          47.712167,
          47.712186,
          47.712186,
          47.712185,
          47.712189,
          47.712212,
          47.712194,
          47.712183,
          47.711588,
          47.711579,
          47.711536,
          47.711479,
          47.711389,
          47.711032,
          47.711021,
          47.711107,
          47.711219,
          47.711174,
          47.711194,
          47.711221,
          47.711561,
          47.711202,
          47.71145,
          47.711464,
          47.711467,
          47.71146,
          47.711391,
          47.711537,
          47.711543,
          47.711604,
          47.711522,
          47.711524,
          47.711602,
          47.711608,
          47.711583,
          47.711383,
          47.711682,
          47.711719,
          47.711575,
          47.711641,
          47.711401,
          47.711669,
          47.711797,
          47.711812,
          47.711885,
          47.712284,
          47.712272,
          47.712269,
          47.712186,
          47.712185,
          47.711812,
          47.711901,
          47.711763,
          47.711754,
          47.711755,
          47.711756,
          47.71167,
          47.711638,
          47.711499,
          47.71118,
          47.711138,
          47.710858,
          47.711073,
          47.711157,
          47.711169,
          47.711341,
          47.711169,
          47.711305,
          47.711198,
          47.71116,
          47.711196,
          47.710997,
          47.711256,
          47.711353,
          47.711423,
          47.711275,
          47.711413,
          47.711413,
          47.711521,
          47.71144,
          47.711585,
          47.711518,
          47.711588,
          47.71157,
          47.711557,
          47.711509,
          47.711572,
          47.711514,
          47.711539,
          47.71153,
          47.711678,
          47.711601,
          47.711647,
          47.711708,
          47.711751,
          47.711752,
          47.711864,
          47.711289,
          47.711115,
          47.710878,
          47.710902,
          47.711054,
          47.711114,
          47.711162,
          47.711338,
          47.711414,
          47.711346,
          47.71162,
          47.711474,
          47.710343,
          47.711951,
          47.711319,
          47.712336,
          47.711285,
          47.711229,
          47.711299,
          47.711595,
          47.711465,
          47.711568,
          47.711134,
          47.711595,
          47.711146,
          47.710884,
          47.711843
         ],
         "legendgroup": "Dead",
         "lon": [
          -122.37211,
          -122.372882,
          -122.372803,
          -122.373215,
          -122.371827,
          -122.372438,
          -122.373313,
          -122.372438,
          -122.372331,
          -122.373412,
          -122.372273,
          -122.373411,
          -122.373458,
          -122.371374,
          -122.375834,
          -122.375668,
          -122.375046,
          -122.377753,
          -122.374459,
          -122.374572,
          -122.376263,
          -122.372677,
          -122.372673,
          -122.372908,
          -122.372667,
          -122.372859,
          -122.372667,
          -122.372467,
          -122.373124,
          -122.373122,
          -122.373133,
          -122.372182,
          -122.371976,
          -122.373163,
          -122.373194,
          -122.373173,
          -122.373109,
          -122.370478,
          -122.373935,
          -122.373659,
          -122.373576,
          -122.371069,
          -122.374436,
          -122.374488,
          -122.371566,
          -122.374402,
          -122.375157,
          -122.374515,
          -122.374053,
          -122.374928,
          -122.374981,
          -122.376579,
          -122.378292,
          -122.377314,
          -122.378547,
          -122.372243,
          -122.371415,
          -122.371429,
          -122.371368,
          -122.371965,
          -122.372287,
          -122.372554,
          -122.37166,
          -122.372253,
          -122.372208,
          -122.372404,
          -122.37238,
          -122.372286,
          -122.372492,
          -122.372501,
          -122.372574,
          -122.373674,
          -122.373665,
          -122.373695,
          -122.373634,
          -122.373892,
          -122.374367,
          -122.374389,
          -122.374307,
          -122.374393,
          -122.374783,
          -122.374645,
          -122.374698,
          -122.374823,
          -122.374741,
          -122.374765,
          -122.376448,
          -122.376452,
          -122.376737,
          -122.376734,
          -122.376824,
          -122.376949,
          -122.376996,
          -122.377039,
          -122.377045,
          -122.377617,
          -122.377662,
          -122.377522,
          -122.377555,
          -122.378208,
          -122.378135,
          -122.377534,
          -122.37851,
          -122.377767,
          -122.378511,
          -122.379256,
          -122.37116,
          -122.371138,
          -122.371248,
          -122.371314,
          -122.370992,
          -122.371339,
          -122.370916,
          -122.371338,
          -122.371337,
          -122.370818,
          -122.371289,
          -122.371247,
          -122.371267,
          -122.370428,
          -122.370643,
          -122.371592,
          -122.371376,
          -122.37146,
          -122.371717,
          -122.37419,
          -122.374126,
          -122.374239,
          -122.374232,
          -122.374215,
          -122.374235,
          -122.374467,
          -122.374039,
          -122.374231,
          -122.374516,
          -122.374854,
          -122.374999,
          -122.374073,
          -122.375052,
          -122.374311,
          -122.375039,
          -122.3749,
          -122.374311,
          -122.374913,
          -122.374973,
          -122.37477,
          -122.375053,
          -122.374052,
          -122.374052,
          -122.374073,
          -122.375056,
          -122.374036,
          -122.375076,
          -122.374902,
          -122.375098,
          -122.373795,
          -122.373747,
          -122.375137,
          -122.373818,
          -122.374688,
          -122.373708,
          -122.37381,
          -122.374656,
          -122.375401,
          -122.373815,
          -122.375449,
          -122.373789,
          -122.374753,
          -122.373766,
          -122.375521,
          -122.374639,
          -122.375562,
          -122.373544,
          -122.373544,
          -122.375874,
          -122.373544,
          -122.373544,
          -122.373563,
          -122.373563,
          -122.373655,
          -122.375932,
          -122.375753,
          -122.375907,
          -122.373257,
          -122.373306,
          -122.373306,
          -122.37337,
          -122.376441,
          -122.376531,
          -122.373277,
          -122.376546,
          -122.37317,
          -122.376554,
          -122.373244,
          -122.373262,
          -122.376474,
          -122.376954,
          -122.373262,
          -122.377103,
          -122.373237,
          -122.373038,
          -122.37304,
          -122.377166,
          -122.37304,
          -122.373014,
          -122.377209,
          -122.373035,
          -122.373016,
          -122.377405,
          -122.377223,
          -122.377034,
          -122.377178,
          -122.372803,
          -122.3728,
          -122.376951,
          -122.372734,
          -122.377722,
          -122.372894,
          -122.377732,
          -122.372763,
          -122.377694,
          -122.377612,
          -122.377652,
          -122.376961,
          -122.377611,
          -122.377694,
          -122.376947,
          -122.372758,
          -122.376977,
          -122.372897,
          -122.376981,
          -122.37252,
          -122.376989,
          -122.37718,
          -122.372179,
          -122.372186,
          -122.37767,
          -122.37758,
          -122.37208,
          -122.372023,
          -122.377948,
          -122.372056,
          -122.37203,
          -122.377218,
          -122.377992,
          -122.37203,
          -122.372146,
          -122.377941,
          -122.377949,
          -122.371763,
          -122.378145,
          -122.371854,
          -122.378146,
          -122.378411,
          -122.37901,
          -122.379885,
          -122.38029,
          -122.372918,
          -122.372995,
          -122.373031,
          -122.37286,
          -122.37313,
          -122.373088,
          -122.373074,
          -122.371452,
          -122.373166,
          -122.371324,
          -122.371452,
          -122.371509,
          -122.371219,
          -122.373353,
          -122.373368,
          -122.373399,
          -122.371325,
          -122.373201,
          -122.371174,
          -122.373467,
          -122.371272,
          -122.371256,
          -122.371213,
          -122.37129,
          -122.373617,
          -122.371195,
          -122.373503,
          -122.371407,
          -122.37354,
          -122.370975,
          -122.373791,
          -122.371351,
          -122.373708,
          -122.373792,
          -122.371495,
          -122.373735,
          -122.371532,
          -122.371507,
          -122.373486,
          -122.371423,
          -122.373972,
          -122.371519,
          -122.374052,
          -122.373882,
          -122.374053,
          -122.374034,
          -122.374238,
          -122.37165,
          -122.374337,
          -122.371677,
          -122.374329,
          -122.374368,
          -122.374387,
          -122.374411,
          -122.374329,
          -122.371768,
          -122.374354,
          -122.37177,
          -122.374677,
          -122.374696,
          -122.374822,
          -122.374964,
          -122.374868,
          -122.375073,
          -122.375062,
          -122.375092,
          -122.37513,
          -122.375055,
          -122.375129,
          -122.37512,
          -122.375012,
          -122.372276,
          -122.375089,
          -122.375113,
          -122.375088,
          -122.372723,
          -122.37515,
          -122.375173,
          -122.374979,
          -122.372771,
          -122.375516,
          -122.375521,
          -122.375454,
          -122.375982,
          -122.37601,
          -122.375802,
          -122.375974,
          -122.376117,
          -122.37611,
          -122.376035,
          -122.376238,
          -122.376514,
          -122.377665,
          -122.377645,
          -122.377605,
          -122.376398,
          -122.377601,
          -122.377647,
          -122.376362,
          -122.377663,
          -122.377701,
          -122.376425,
          -122.377791,
          -122.376487,
          -122.376524,
          -122.377784,
          -122.376735,
          -122.377803,
          -122.376625,
          -122.377839,
          -122.376817,
          -122.376746,
          -122.376933,
          -122.377931,
          -122.376934,
          -122.376944,
          -122.378113,
          -122.377006,
          -122.374557,
          -122.37698,
          -122.377982,
          -122.377052,
          -122.377886,
          -122.377078,
          -122.377106,
          -122.378348,
          -122.378452,
          -122.378425,
          -122.378408,
          -122.377211,
          -122.378524,
          -122.377217,
          -122.378549,
          -122.37856,
          -122.3772,
          -122.377315,
          -122.37733,
          -122.378834,
          -122.37731,
          -122.377403,
          -122.379178,
          -122.377396,
          -122.379232,
          -122.377264,
          -122.379266,
          -122.379876,
          -122.380266,
          -122.380281,
          -122.373458,
          -122.37349,
          -122.373411,
          -122.373431,
          -122.373383,
          -122.373425,
          -122.373422,
          -122.373653,
          -122.373601,
          -122.373604,
          -122.373615,
          -122.373638,
          -122.373589,
          -122.373115,
          -122.373217,
          -122.373706,
          -122.373237,
          -122.373174,
          -122.373722,
          -122.373234,
          -122.373739,
          -122.373286,
          -122.373756,
          -122.373046,
          -122.373753,
          -122.373757,
          -122.373068,
          -122.373064,
          -122.373763,
          -122.373822,
          -122.373065,
          -122.373425,
          -122.373045,
          -122.373007,
          -122.37387,
          -122.373424,
          -122.373002,
          -122.373897,
          -122.373365,
          -122.372986,
          -122.373848,
          -122.373836,
          -122.373121,
          -122.373915,
          -122.373843,
          -122.373944,
          -122.373028,
          -122.373843,
          -122.373937,
          -122.372901,
          -122.372882,
          -122.373977,
          -122.372916,
          -122.372888,
          -122.374602,
          -122.374442,
          -122.372674,
          -122.37442,
          -122.374445,
          -122.372666,
          -122.374435,
          -122.372642,
          -122.374464,
          -122.374397,
          -122.372612,
          -122.374354,
          -122.372686,
          -122.374404,
          -122.374721,
          -122.372663,
          -122.374398,
          -122.374424,
          -122.372729,
          -122.374743,
          -122.374404,
          -122.372646,
          -122.374419,
          -122.372681,
          -122.372733,
          -122.374657,
          -122.37279,
          -122.372816,
          -122.374903,
          -122.374339,
          -122.372909,
          -122.374881,
          -122.372674,
          -122.374856,
          -122.372738,
          -122.374835,
          -122.372645,
          -122.374605,
          -122.374636,
          -122.37457,
          -122.374651,
          -122.372714,
          -122.374649,
          -122.374572,
          -122.374583,
          -122.374631,
          -122.372547,
          -122.374593,
          -122.372576,
          -122.37462,
          -122.372465,
          -122.372485,
          -122.374606,
          -122.374589,
          -122.375113,
          -122.37464,
          -122.372464,
          -122.375126,
          -122.374547,
          -122.372468,
          -122.374595,
          -122.374479,
          -122.372306,
          -122.372355,
          -122.375155,
          -122.375155,
          -122.372303,
          -122.375152,
          -122.372333,
          -122.37515,
          -122.372346,
          -122.375119,
          -122.375113,
          -122.37191,
          -122.372281,
          -122.375128,
          -122.375146,
          -122.375136,
          -122.372168,
          -122.375138,
          -122.372384,
          -122.372238,
          -122.372177,
          -122.371749,
          -122.371677,
          -122.375118,
          -122.372013,
          -122.375142,
          -122.371749,
          -122.371732,
          -122.372048,
          -122.371372,
          -122.371446,
          -122.371403,
          -122.375137,
          -122.371872,
          -122.371432,
          -122.375146,
          -122.371481,
          -122.371902,
          -122.37148,
          -122.371505,
          -122.375133,
          -122.372004,
          -122.371531,
          -122.374483,
          -122.371382,
          -122.371692,
          -122.371381,
          -122.371404,
          -122.371405,
          -122.371438,
          -122.37139,
          -122.371396,
          -122.375381,
          -122.371344,
          -122.375375,
          -122.371269,
          -122.371294,
          -122.371272,
          -122.371183,
          -122.371162,
          -122.371309,
          -122.375649,
          -122.375617,
          -122.371138,
          -122.37114,
          -122.375673,
          -122.371072,
          -122.371019,
          -122.375538,
          -122.375807,
          -122.370909,
          -122.371016,
          -122.371005,
          -122.375832,
          -122.371105,
          -122.375832,
          -122.371173,
          -122.375799,
          -122.375691,
          -122.370901,
          -122.375848,
          -122.37583,
          -122.370535,
          -122.375957,
          -122.370549,
          -122.370632,
          -122.375775,
          -122.375771,
          -122.375811,
          -122.370624,
          -122.370317,
          -122.376313,
          -122.376511,
          -122.376131,
          -122.37613,
          -122.376142,
          -122.376111,
          -122.376097,
          -122.376402,
          -122.376426,
          -122.376483,
          -122.376448,
          -122.376442,
          -122.376457,
          -122.376479,
          -122.376786,
          -122.376752,
          -122.376733,
          -122.376973,
          -122.376899,
          -122.376899,
          -122.376923,
          -122.376923,
          -122.376941,
          -122.376921,
          -122.376898,
          -122.376895,
          -122.376906,
          -122.376908,
          -122.376907,
          -122.376929,
          -122.376925,
          -122.37698,
          -122.376986,
          -122.376998,
          -122.377187,
          -122.377575,
          -122.377611,
          -122.37772,
          -122.377768,
          -122.377689,
          -122.377766,
          -122.378064,
          -122.37803,
          -122.378162,
          -122.378531,
          -122.378592,
          -122.37997,
          -122.380095,
          -122.380336,
          -122.380346,
          -122.377743,
          -122.377655,
          -122.377835,
          -122.370305,
          -122.37093,
          -122.37032,
          -122.370837,
          -122.371217,
          -122.371043,
          -122.371104,
          -122.371025,
          -122.371431,
          -122.371705,
          -122.372642,
          -122.372755,
          -122.372915,
          -122.372917,
          -122.372934,
          -122.372859,
          -122.372874,
          -122.372999,
          -122.373072,
          -122.373632,
          -122.372965,
          -122.373508,
          -122.373539,
          -122.373473,
          -122.373568,
          -122.373422,
          -122.373585,
          -122.373772,
          -122.373597,
          -122.373677,
          -122.373718,
          -122.374036,
          -122.374041,
          -122.374018,
          -122.374177,
          -122.374185,
          -122.3745,
          -122.374668,
          -122.374776,
          -122.374686,
          -122.375134,
          -122.375121,
          -122.375123,
          -122.375575,
          -122.375611,
          -122.375526,
          -122.37597,
          -122.376124,
          -122.376185,
          -122.376928,
          -122.376326,
          -122.376403,
          -122.376327,
          -122.376342,
          -122.377015,
          -122.376349,
          -122.376897,
          -122.376501,
          -122.37648,
          -122.376968,
          -122.376881,
          -122.376991,
          -122.376836,
          -122.376788,
          -122.377015,
          -122.377236,
          -122.377217,
          -122.377203,
          -122.37746,
          -122.377496,
          -122.377698,
          -122.377615,
          -122.377745,
          -122.377548,
          -122.377892,
          -122.377991,
          -122.377989,
          -122.378003,
          -122.378138,
          -122.378214,
          -122.378291,
          -122.378591,
          -122.378619,
          -122.378501,
          -122.378542,
          -122.378627,
          -122.378812,
          -122.378891,
          -122.378859,
          -122.378979,
          -122.378825,
          -122.378975,
          -122.379099,
          -122.379098,
          -122.379211,
          -122.379178,
          -122.380013,
          -122.380012,
          -122.380039,
          -122.380231,
          -122.380235,
          -122.380225,
          -122.38024,
          -122.380243,
          -122.380255,
          -122.380265,
          -122.380278,
          -122.380283,
          -122.380282,
          -122.38026,
          -122.380173,
          -122.380179,
          -122.380184,
          -122.380102,
          -122.380048,
          -122.380076,
          -122.380075,
          -122.380078,
          -122.380069,
          -122.380066,
          -122.38008,
          -122.380033,
          -122.371329,
          -122.371328,
          -122.371192,
          -122.371555,
          -122.371532,
          -122.371998,
          -122.371995,
          -122.37238,
          -122.373517,
          -122.373626,
          -122.373698,
          -122.373748,
          -122.374064,
          -122.37453,
          -122.374836,
          -122.37512,
          -122.375124,
          -122.375131,
          -122.375159,
          -122.375446,
          -122.376041,
          -122.376545,
          -122.37682,
          -122.376759,
          -122.377228,
          -122.377192,
          -122.3777,
          -122.377736,
          -122.378174,
          -122.378473,
          -122.378426,
          -122.37888,
          -122.380466,
          -122.380415,
          -122.380249,
          -122.380197,
          -122.380283,
          -122.370236,
          -122.370462,
          -122.370454,
          -122.370415,
          -122.370633,
          -122.370893,
          -122.370969,
          -122.371092,
          -122.37125,
          -122.371301,
          -122.371318,
          -122.371341,
          -122.371279,
          -122.371665,
          -122.371639,
          -122.371667,
          -122.372208,
          -122.37256,
          -122.372563,
          -122.372717,
          -122.372984,
          -122.373506,
          -122.373514,
          -122.373597,
          -122.373626,
          -122.373583,
          -122.373546,
          -122.374541,
          -122.375042,
          -122.375669,
          -122.375759,
          -122.376074,
          -122.37622,
          -122.376477,
          -122.375955,
          -122.375964,
          -122.376768,
          -122.376817,
          -122.376814,
          -122.376923,
          -122.376944,
          -122.376893,
          -122.376913,
          -122.376951,
          -122.376991,
          -122.377698,
          -122.377636,
          -122.377668,
          -122.377757,
          -122.378492,
          -122.378663,
          -122.379394,
          -122.371657,
          -122.371797,
          -122.371621,
          -122.372164,
          -122.372384,
          -122.372663,
          -122.372883,
          -122.374358,
          -122.37595,
          -122.376287,
          -122.376875,
          -122.377032,
          -122.380988,
          -122.370519,
          -122.376502,
          -122.369986,
          -122.37359,
          -122.373978,
          -122.374233,
          -122.377001,
          -122.376942,
          -122.377243,
          -122.380493,
          -122.380298,
          -122.371832,
          -122.371999,
          -122.379118
         ],
         "marker": {
          "color": "black"
         },
         "mode": "markers",
         "name": "Dead",
         "showlegend": true,
         "subplot": "mapbox",
         "type": "scattermapbox"
        },
        {
         "customdata": [
          [
           9
          ],
          [
           18
          ],
          [
           7
          ],
          [
           14
          ],
          [
           11
          ],
          [
           3
          ],
          [
           5
          ],
          [
           4
          ],
          [
           8
          ]
         ],
         "hovertemplate": "<b>%{hovertext}</b><br><br>Type=Remnant<br>Location.latitude=%{lat}<br>Location.longitude=%{lon}<br>Location.accuracy=%{customdata[0]}<extra></extra>",
         "hovertext": [
          "1850 Remnant Coho",
          "585 Remnant Chum",
          "470 Remnant Chum",
          "470 Remnant Chum",
          "240 Remnant Chum",
          "0 Remnant Chum",
          "615 Remnant Unknown",
          "0 Remnant Chum",
          "0 Remnant Chum"
         ],
         "lat": [
          47.710979,
          47.711415,
          47.711771,
          47.711892,
          47.711706,
          47.711355,
          47.711516,
          47.711812,
          47.712011
         ],
         "legendgroup": "Remnant",
         "lon": [
          -122.37208,
          -122.377021,
          -122.370886,
          -122.370878,
          -122.378503,
          -122.380102,
          -122.376796,
          -122.380267,
          -122.380352
         ],
         "marker": {
          "color": "#ab63fa"
         },
         "mode": "markers",
         "name": "Remnant",
         "showlegend": true,
         "subplot": "mapbox",
         "type": "scattermapbox"
        },
        {
         "customdata": [
          [
           11
          ],
          [
           4
          ],
          [
           13
          ],
          [
           11
          ],
          [
           5
          ],
          [
           8
          ],
          [
           11
          ],
          [
           23
          ],
          [
           15
          ],
          [
           10
          ],
          [
           20
          ],
          [
           16
          ],
          [
           13
          ],
          [
           12
          ],
          [
           19
          ],
          [
           11
          ],
          [
           23
          ],
          [
           17
          ],
          [
           6
          ],
          [
           6
          ],
          [
           9
          ],
          [
           7
          ],
          [
           19
          ],
          [
           11
          ],
          [
           5
          ],
          [
           16
          ],
          [
           11
          ],
          [
           19
          ],
          [
           5
          ],
          [
           5
          ],
          [
           8
          ],
          [
           5
          ],
          [
           5
          ],
          [
           5
          ],
          [
           5
          ],
          [
           6
          ],
          [
           24
          ],
          [
           19
          ],
          [
           29
          ],
          [
           34
          ],
          [
           44
          ],
          [
           5
          ],
          [
           22
          ],
          [
           5
          ],
          [
           38
          ],
          [
           18
          ],
          [
           22
          ],
          [
           9
          ],
          [
           10
          ],
          [
           9
          ],
          [
           9
          ],
          [
           14
          ],
          [
           7
          ],
          [
           22
          ],
          [
           43
          ],
          [
           12
          ],
          [
           12
          ],
          [
           8
          ],
          [
           11
          ],
          [
           5
          ],
          [
           5
          ],
          [
           4
          ],
          [
           11
          ],
          [
           7
          ],
          [
           5
          ],
          [
           6
          ],
          [
           6
          ],
          [
           5
          ],
          [
           5
          ],
          [
           7
          ],
          [
           5
          ],
          [
           12
          ],
          [
           8
          ],
          [
           8
          ],
          [
           11
          ],
          [
           7
          ],
          [
           5
          ],
          [
           5
          ],
          [
           9
          ],
          [
           9
          ],
          [
           9
          ],
          [
           7
          ],
          [
           8
          ],
          [
           9
          ],
          [
           17
          ],
          [
           8
          ],
          [
           7
          ],
          [
           7
          ],
          [
           7
          ],
          [
           17
          ],
          [
           7
          ],
          [
           7
          ],
          [
           9
          ],
          [
           5
          ],
          [
           7
          ],
          [
           7
          ],
          [
           5
          ],
          [
           29
          ],
          [
           8
          ],
          [
           8
          ],
          [
           9
          ],
          [
           9
          ],
          [
           6
          ],
          [
           6
          ],
          [
           8
          ],
          [
           9
          ],
          [
           32
          ],
          [
           5
          ],
          [
           7
          ],
          [
           4
          ],
          [
           11
          ],
          [
           6
          ],
          [
           4
          ],
          [
           28
          ],
          [
           6
          ],
          [
           11
          ],
          [
           5
          ],
          [
           7
          ],
          [
           8
          ],
          [
           8
          ],
          [
           17
          ],
          [
           13
          ],
          [
           16
          ],
          [
           6
          ],
          [
           24
          ],
          [
           5
          ],
          [
           10
          ],
          [
           5
          ],
          [
           10
          ],
          [
           30
          ],
          [
           10
          ],
          [
           10
          ],
          [
           10
          ],
          [
           5
          ],
          [
           5
          ],
          [
           5
          ],
          [
           10
          ],
          [
           5
          ],
          [
           10
          ],
          [
           10
          ],
          [
           10
          ],
          [
           10
          ],
          [
           30
          ],
          [
           10
          ],
          [
           10
          ],
          [
           10
          ],
          [
           5
          ],
          [
           10
          ],
          [
           5
          ],
          [
           10
          ],
          [
           30
          ],
          [
           10
          ],
          [
           30
          ],
          [
           5
          ],
          [
           5
          ],
          [
           5
          ],
          [
           5
          ],
          [
           5
          ],
          [
           5
          ],
          [
           10
          ],
          [
           10
          ],
          [
           5
          ],
          [
           5
          ],
          [
           10
          ],
          [
           10
          ],
          [
           10
          ],
          [
           10
          ],
          [
           5
          ],
          [
           5
          ],
          [
           5
          ],
          [
           5
          ],
          [
           10
          ],
          [
           10
          ],
          [
           5
          ],
          [
           10
          ],
          [
           30
          ],
          [
           10
          ],
          [
           10
          ],
          [
           5
          ],
          [
           5
          ],
          [
           5
          ],
          [
           10
          ],
          [
           10
          ],
          [
           10
          ],
          [
           5
          ],
          [
           5
          ],
          [
           10
          ],
          [
           10
          ],
          [
           30
          ],
          [
           5
          ],
          [
           10
          ],
          [
           30
          ],
          [
           30
          ],
          [
           5
          ],
          [
           5
          ],
          [
           5
          ],
          [
           5
          ],
          [
           5
          ],
          [
           5
          ],
          [
           5
          ],
          [
           5
          ],
          [
           5
          ],
          [
           5
          ],
          [
           5
          ],
          [
           30
          ],
          [
           5
          ],
          [
           10
          ],
          [
           10
          ],
          [
           10
          ],
          [
           10
          ],
          [
           5
          ],
          [
           10
          ],
          [
           10
          ],
          [
           10
          ],
          [
           5
          ],
          [
           5
          ],
          [
           5
          ],
          [
           10
          ],
          [
           30
          ],
          [
           5
          ],
          [
           10
          ],
          [
           30
          ],
          [
           10
          ],
          [
           10
          ],
          [
           10
          ],
          [
           10
          ],
          [
           10
          ],
          [
           10
          ],
          [
           5
          ],
          [
           5
          ],
          [
           5
          ],
          [
           5
          ],
          [
           5
          ],
          [
           10
          ],
          [
           10
          ],
          [
           5
          ],
          [
           10
          ],
          [
           10
          ],
          [
           30
          ],
          [
           5
          ],
          [
           5
          ],
          [
           5
          ],
          [
           5
          ],
          [
           10
          ],
          [
           10
          ],
          [
           30
          ],
          [
           10
          ],
          [
           30
          ],
          [
           5
          ],
          [
           5
          ],
          [
           5
          ],
          [
           5
          ],
          [
           5
          ],
          [
           5
          ],
          [
           10
          ],
          [
           5
          ],
          [
           10
          ],
          [
           10
          ],
          [
           5
          ],
          [
           5
          ],
          [
           5
          ],
          [
           10
          ],
          [
           10
          ],
          [
           5
          ],
          [
           5
          ],
          [
           5
          ],
          [
           10
          ],
          [
           10
          ],
          [
           30
          ],
          [
           10
          ],
          [
           10
          ],
          [
           10
          ],
          [
           5
          ],
          [
           5
          ],
          [
           10
          ],
          [
           30
          ],
          [
           30
          ],
          [
           30
          ],
          [
           5
          ],
          [
           5
          ],
          [
           5
          ],
          [
           5
          ],
          [
           5
          ],
          [
           10
          ],
          [
           10
          ],
          [
           30
          ],
          [
           5
          ],
          [
           10
          ],
          [
           5
          ],
          [
           5
          ],
          [
           5
          ],
          [
           30
          ],
          [
           5
          ],
          [
           10
          ],
          [
           10
          ],
          [
           5
          ],
          [
           10
          ],
          [
           30
          ],
          [
           30
          ],
          [
           10
          ],
          [
           10
          ],
          [
           30
          ],
          [
           5
          ],
          [
           10
          ],
          [
           5
          ],
          [
           10
          ],
          [
           10
          ],
          [
           30
          ],
          [
           5
          ],
          [
           5
          ],
          [
           10
          ],
          [
           10
          ],
          [
           5
          ],
          [
           10
          ],
          [
           5
          ],
          [
           10
          ],
          [
           30
          ],
          [
           10
          ],
          [
           5
          ],
          [
           5
          ],
          [
           5
          ],
          [
           10
          ],
          [
           10
          ],
          [
           30
          ],
          [
           5
          ],
          [
           10
          ],
          [
           10
          ],
          [
           5
          ],
          [
           5
          ],
          [
           10
          ],
          [
           30
          ],
          [
           5
          ],
          [
           5
          ],
          [
           5
          ],
          [
           5
          ],
          [
           5
          ],
          [
           5
          ],
          [
           5
          ],
          [
           5
          ],
          [
           5
          ],
          [
           5
          ],
          [
           5
          ],
          [
           5
          ],
          [
           5
          ],
          [
           5
          ],
          [
           5
          ],
          [
           5
          ],
          [
           10
          ],
          [
           30
          ],
          [
           5
          ],
          [
           10
          ],
          [
           10
          ],
          [
           30
          ],
          [
           5
          ],
          [
           10
          ],
          [
           5
          ],
          [
           5
          ],
          [
           5
          ],
          [
           5
          ],
          [
           5
          ],
          [
           30
          ],
          [
           5
          ],
          [
           5
          ],
          [
           10
          ],
          [
           5
          ],
          [
           5
          ],
          [
           5
          ],
          [
           5
          ],
          [
           10
          ],
          [
           5
          ],
          [
           10
          ],
          [
           5
          ],
          [
           5
          ],
          [
           5
          ],
          [
           5
          ],
          [
           5
          ],
          [
           10
          ],
          [
           5
          ],
          [
           5
          ],
          [
           5
          ],
          [
           5
          ],
          [
           5
          ],
          [
           12
          ],
          [
           43
          ],
          [
           5
          ],
          [
           5
          ],
          [
           5
          ],
          [
           33
          ],
          [
           19
          ],
          [
           30
          ],
          [
           6
          ],
          [
           8
          ],
          [
           15
          ],
          [
           26
          ],
          [
           13
          ],
          [
           20
          ],
          [
           34
          ],
          [
           5
          ],
          [
           5
          ],
          [
           5
          ],
          [
           5
          ],
          [
           5
          ],
          [
           10
          ],
          [
           5
          ],
          [
           5
          ],
          [
           5
          ],
          [
           10
          ],
          [
           27
          ],
          [
           5
          ],
          [
           5
          ],
          [
           5
          ],
          [
           5
          ],
          [
           5
          ],
          [
           5
          ],
          [
           5
          ],
          [
           10
          ],
          [
           24
          ],
          [
           20
          ],
          [
           5
          ],
          [
           5
          ],
          [
           11
          ],
          [
           5
          ],
          [
           5
          ],
          [
           5
          ],
          [
           14
          ],
          [
           18
          ],
          [
           5
          ],
          [
           5
          ],
          [
           6
          ],
          [
           12
          ],
          [
           17
          ],
          [
           38
          ],
          [
           7
          ],
          [
           9
          ],
          [
           19
          ],
          [
           25
          ],
          [
           14
          ],
          [
           5
          ],
          [
           5
          ],
          [
           11
          ],
          [
           12
          ],
          [
           46
          ],
          [
           5
          ],
          [
           5
          ],
          [
           5
          ],
          [
           5
          ],
          [
           5
          ],
          [
           5
          ],
          [
           5
          ],
          [
           5
          ],
          [
           5
          ],
          [
           5
          ],
          [
           5
          ],
          [
           5
          ],
          [
           9
          ],
          [
           13
          ],
          [
           21
          ],
          [
           5
          ],
          [
           5
          ],
          [
           12
          ],
          [
           10
          ],
          [
           37
          ],
          [
           5
          ],
          [
           13
          ],
          [
           10
          ],
          [
           20
          ],
          [
           12
          ],
          [
           5
          ],
          [
           5
          ],
          [
           5
          ],
          [
           6
          ],
          [
           8
          ],
          [
           31
          ],
          [
           19
          ],
          [
           14
          ],
          [
           5
          ],
          [
           5
          ],
          [
           5
          ],
          [
           5
          ],
          [
           25
          ],
          [
           36
          ],
          [
           12
          ],
          [
           5
          ],
          [
           5
          ],
          [
           6
          ],
          [
           8
          ],
          [
           19
          ],
          [
           5
          ],
          [
           10
          ],
          [
           13
          ],
          [
           13
          ],
          [
           11
          ],
          [
           20
          ],
          [
           13
          ],
          [
           5
          ],
          [
           5
          ],
          [
           24
          ],
          [
           5
          ],
          [
           5
          ],
          [
           5
          ],
          [
           5
          ],
          [
           5
          ],
          [
           13
          ],
          [
           41
          ],
          [
           5
          ],
          [
           5
          ],
          [
           5
          ],
          [
           8
          ],
          [
           12
          ],
          [
           5
          ],
          [
           5
          ],
          [
           5
          ],
          [
           5
          ],
          [
           5
          ],
          [
           15
          ],
          [
           5
          ],
          [
           5
          ],
          [
           5
          ],
          [
           5
          ],
          [
           5
          ],
          [
           5
          ],
          [
           5
          ],
          [
           5
          ],
          [
           5
          ],
          [
           5
          ],
          [
           5
          ],
          [
           5
          ],
          [
           5
          ],
          [
           10
          ],
          [
           37
          ],
          [
           5
          ],
          [
           18
          ],
          [
           11
          ],
          [
           5
          ],
          [
           16
          ],
          [
           10
          ],
          [
           30
          ],
          [
           5
          ],
          [
           5
          ],
          [
           5
          ],
          [
           5
          ],
          [
           5
          ],
          [
           5
          ],
          [
           5
          ],
          [
           5
          ],
          [
           5
          ],
          [
           15
          ],
          [
           13
          ],
          [
           5
          ],
          [
           5
          ],
          [
           5
          ],
          [
           5
          ],
          [
           5
          ],
          [
           25
          ],
          [
           5
          ],
          [
           5
          ],
          [
           5
          ],
          [
           5
          ],
          [
           5
          ],
          [
           8
          ],
          [
           10
          ],
          [
           5
          ],
          [
           5
          ],
          [
           5
          ],
          [
           10
          ],
          [
           20
          ],
          [
           5
          ],
          [
           7
          ],
          [
           8
          ],
          [
           5
          ],
          [
           5
          ],
          [
           5
          ],
          [
           5
          ],
          [
           8
          ],
          [
           10
          ],
          [
           5
          ],
          [
           5
          ],
          [
           5
          ],
          [
           5
          ],
          [
           5
          ],
          [
           5
          ],
          [
           5
          ],
          [
           5
          ],
          [
           14
          ],
          [
           10
          ],
          [
           12
          ],
          [
           27
          ],
          [
           5
          ],
          [
           5
          ],
          [
           5
          ],
          [
           5
          ],
          [
           5
          ],
          [
           5
          ],
          [
           5
          ],
          [
           5
          ],
          [
           5
          ],
          [
           5
          ],
          [
           5
          ],
          [
           5
          ],
          [
           24
          ],
          [
           5
          ],
          [
           5
          ],
          [
           6
          ],
          [
           7
          ],
          [
           13
          ],
          [
           17
          ],
          [
           32
          ],
          [
           5
          ],
          [
           5
          ],
          [
           5
          ],
          [
           5
          ],
          [
           5
          ],
          [
           7
          ],
          [
           12
          ],
          [
           5
          ],
          [
           5
          ],
          [
           5
          ],
          [
           5
          ],
          [
           5
          ],
          [
           5
          ],
          [
           5
          ],
          [
           5
          ],
          [
           5
          ],
          [
           5
          ],
          [
           5
          ],
          [
           5
          ],
          [
           5
          ],
          [
           14
          ],
          [
           15
          ],
          [
           5
          ],
          [
           7
          ],
          [
           8
          ],
          [
           10
          ],
          [
           16
          ],
          [
           10
          ],
          [
           28
          ],
          [
           7
          ],
          [
           11
          ],
          [
           8
          ],
          [
           21
          ],
          [
           5
          ],
          [
           5
          ],
          [
           5
          ],
          [
           5
          ],
          [
           5
          ],
          [
           5
          ],
          [
           6
          ],
          [
           9
          ],
          [
           5
          ],
          [
           15
          ],
          [
           13
          ],
          [
           5
          ],
          [
           5
          ],
          [
           5
          ],
          [
           5
          ],
          [
           5
          ],
          [
           5
          ],
          [
           5
          ],
          [
           16
          ],
          [
           22
          ],
          [
           17
          ],
          [
           24
          ],
          [
           5
          ],
          [
           6
          ],
          [
           17
          ],
          [
           14
          ],
          [
           5
          ],
          [
           5
          ],
          [
           5
          ],
          [
           5
          ],
          [
           5
          ],
          [
           5
          ],
          [
           10
          ],
          [
           13
          ],
          [
           22
          ],
          [
           13
          ],
          [
           9
          ],
          [
           19
          ],
          [
           41
          ],
          [
           5
          ],
          [
           5
          ],
          [
           14
          ],
          [
           27
          ],
          [
           30
          ],
          [
           5
          ],
          [
           5
          ],
          [
           5
          ],
          [
           5
          ],
          [
           5
          ],
          [
           5
          ],
          [
           8
          ],
          [
           11
          ],
          [
           27
          ],
          [
           5
          ],
          [
           9
          ],
          [
           20
          ],
          [
           14
          ],
          [
           16
          ],
          [
           5
          ],
          [
           5
          ],
          [
           13
          ],
          [
           27
          ],
          [
           5
          ],
          [
           5
          ],
          [
           5
          ],
          [
           5
          ],
          [
           5
          ],
          [
           9
          ],
          [
           21
          ],
          [
           19
          ],
          [
           5
          ],
          [
           9
          ],
          [
           5
          ],
          [
           12
          ],
          [
           5
          ],
          [
           5
          ],
          [
           5
          ],
          [
           5
          ],
          [
           5
          ],
          [
           5
          ],
          [
           13
          ],
          [
           5
          ],
          [
           14
          ],
          [
           21
          ],
          [
           5
          ],
          [
           10
          ],
          [
           13
          ],
          [
           23
          ],
          [
           10
          ],
          [
           9
          ],
          [
           11
          ],
          [
           15
          ],
          [
           14
          ],
          [
           10
          ],
          [
           20
          ],
          [
           5
          ],
          [
           5
          ],
          [
           5
          ],
          [
           5
          ],
          [
           6
          ],
          [
           15
          ],
          [
           26
          ],
          [
           11
          ],
          [
           31
          ],
          [
           5
          ],
          [
           10
          ],
          [
           9
          ],
          [
           35
          ],
          [
           5
          ],
          [
           5
          ],
          [
           7
          ],
          [
           27
          ],
          [
           5
          ],
          [
           5
          ],
          [
           12
          ],
          [
           9
          ],
          [
           20
          ],
          [
           7
          ],
          [
           14
          ],
          [
           5
          ],
          [
           5
          ],
          [
           15
          ],
          [
           14
          ],
          [
           5
          ],
          [
           5
          ],
          [
           5
          ],
          [
           14
          ],
          [
           18
          ],
          [
           12
          ],
          [
           16
          ],
          [
           5
          ],
          [
           10
          ],
          [
           37
          ],
          [
           5
          ],
          [
           6
          ],
          [
           13
          ],
          [
           22
          ],
          [
           24
          ],
          [
           5
          ],
          [
           5
          ],
          [
           8
          ],
          [
           22
          ],
          [
           7
          ],
          [
           13
          ],
          [
           17
          ],
          [
           14
          ],
          [
           13
          ],
          [
           20
          ],
          [
           5
          ],
          [
           7
          ],
          [
           14
          ],
          [
           5
          ],
          [
           6
          ],
          [
           25
          ],
          [
           5
          ],
          [
           7
          ],
          [
           5
          ],
          [
           5
          ],
          [
           23
          ],
          [
           17
          ],
          [
           5
          ],
          [
           5
          ],
          [
           21
          ],
          [
           5
          ],
          [
           9
          ],
          [
           24
          ],
          [
           19
          ],
          [
           7
          ],
          [
           5
          ],
          [
           18
          ],
          [
           33
          ],
          [
           16
          ],
          [
           17
          ],
          [
           5
          ],
          [
           5
          ],
          [
           9
          ],
          [
           30
          ],
          [
           5
          ],
          [
           5
          ],
          [
           10
          ],
          [
           46
          ],
          [
           5
          ],
          [
           5
          ],
          [
           15
          ],
          [
           6
          ],
          [
           9
          ],
          [
           16
          ],
          [
           31
          ],
          [
           5
          ],
          [
           6
          ],
          [
           7
          ],
          [
           9
          ],
          [
           25
          ],
          [
           16
          ],
          [
           17
          ],
          [
           5
          ],
          [
           5
          ],
          [
           5
          ],
          [
           5
          ],
          [
           5
          ],
          [
           5
          ],
          [
           5
          ],
          [
           5
          ],
          [
           16
          ],
          [
           5
          ],
          [
           11
          ],
          [
           10
          ],
          [
           13
          ],
          [
           5
          ],
          [
           5
          ],
          [
           5
          ],
          [
           5
          ],
          [
           5
          ],
          [
           5
          ],
          [
           5
          ],
          [
           5
          ],
          [
           19
          ],
          [
           8
          ],
          [
           22
          ],
          [
           47
          ],
          [
           28
          ],
          [
           5
          ],
          [
           5
          ],
          [
           5
          ],
          [
           5
          ],
          [
           5
          ],
          [
           5
          ],
          [
           15
          ],
          [
           9
          ],
          [
           29
          ],
          [
           8
          ],
          [
           46
          ],
          [
           5
          ],
          [
           5
          ],
          [
           5
          ],
          [
           6
          ],
          [
           5
          ],
          [
           6
          ],
          [
           5
          ],
          [
           8
          ],
          [
           5
          ],
          [
           12
          ],
          [
           5
          ],
          [
           45
          ],
          [
           13
          ],
          [
           5
          ],
          [
           5
          ],
          [
           5
          ],
          [
           5
          ],
          [
           28
          ],
          [
           5
          ],
          [
           5
          ],
          [
           5
          ],
          [
           5
          ],
          [
           7
          ],
          [
           5
          ],
          [
           5
          ],
          [
           8
          ],
          [
           24
          ],
          [
           11
          ],
          [
           8
          ],
          [
           12
          ],
          [
           36
          ],
          [
           5
          ],
          [
           6
          ],
          [
           5
          ],
          [
           12
          ],
          [
           6
          ],
          [
           22
          ],
          [
           7
          ],
          [
           5
          ],
          [
           16
          ],
          [
           5
          ],
          [
           7
          ],
          [
           9
          ],
          [
           18
          ],
          [
           5
          ],
          [
           5
          ],
          [
           5
          ],
          [
           5
          ],
          [
           5
          ],
          [
           5
          ],
          [
           10
          ],
          [
           10
          ],
          [
           5
          ],
          [
           5
          ],
          [
           6
          ],
          [
           5
          ],
          [
           5
          ],
          [
           5
          ],
          [
           11
          ],
          [
           5
          ],
          [
           14
          ],
          [
           11
          ],
          [
           45
          ],
          [
           12
          ],
          [
           37
          ],
          [
           5
          ],
          [
           5
          ],
          [
           5
          ],
          [
           11
          ],
          [
           5
          ],
          [
           11
          ],
          [
           5
          ],
          [
           5
          ],
          [
           5
          ],
          [
           6
          ],
          [
           6
          ],
          [
           7
          ],
          [
           11
          ],
          [
           6
          ],
          [
           6
          ],
          [
           6
          ],
          [
           11
          ],
          [
           10
          ],
          [
           47
          ],
          [
           5
          ],
          [
           11
          ],
          [
           14
          ],
          [
           15
          ],
          [
           8
          ],
          [
           5
          ],
          [
           5
          ],
          [
           12
          ],
          [
           12
          ],
          [
           5
          ],
          [
           5
          ],
          [
           5
          ],
          [
           5
          ],
          [
           5
          ],
          [
           5
          ],
          [
           5
          ],
          [
           5
          ],
          [
           5
          ],
          [
           5
          ],
          [
           5
          ],
          [
           5
          ],
          [
           5
          ],
          [
           5
          ],
          [
           5
          ],
          [
           14
          ],
          [
           5
          ],
          [
           23
          ],
          [
           7
          ],
          [
           7
          ],
          [
           13
          ],
          [
           5
          ],
          [
           7
          ],
          [
           14
          ],
          [
           5
          ],
          [
           5
          ],
          [
           5
          ],
          [
           37
          ],
          [
           4
          ],
          [
           5
          ],
          [
           5
          ],
          [
           12
          ],
          [
           5
          ],
          [
           5
          ],
          [
           5
          ],
          [
           5
          ],
          [
           17
          ],
          [
           17
          ],
          [
           5
          ],
          [
           5
          ],
          [
           5
          ],
          [
           5
          ],
          [
           5
          ],
          [
           5
          ],
          [
           5
          ],
          [
           12
          ],
          [
           6
          ],
          [
           10
          ],
          [
           5
          ],
          [
           9
          ],
          [
           11
          ],
          [
           5
          ],
          [
           13
          ],
          [
           5
          ],
          [
           28
          ],
          [
           4
          ],
          [
           6
          ],
          [
           9
          ],
          [
           17
          ],
          [
           5
          ],
          [
           5
          ],
          [
           5
          ],
          [
           5
          ],
          [
           5
          ],
          [
           5
          ],
          [
           5
          ],
          [
           5
          ],
          [
           5
          ],
          [
           5
          ],
          [
           5
          ],
          [
           5
          ],
          [
           5
          ],
          [
           5
          ],
          [
           11
          ],
          [
           8
          ],
          [
           23
          ],
          [
           22
          ],
          [
           5
          ],
          [
           5
          ],
          [
           5
          ],
          [
           5
          ],
          [
           5
          ],
          [
           5
          ],
          [
           12
          ],
          [
           27
          ],
          [
           5
          ],
          [
           5
          ],
          [
           5
          ],
          [
           5
          ],
          [
           5
          ],
          [
           5
          ],
          [
           5
          ],
          [
           5
          ],
          [
           5
          ],
          [
           5
          ],
          [
           5
          ],
          [
           5
          ],
          [
           5
          ],
          [
           5
          ],
          [
           5
          ],
          [
           5
          ],
          [
           6
          ],
          [
           5
          ],
          [
           12
          ],
          [
           5
          ],
          [
           5
          ],
          [
           5
          ],
          [
           5
          ],
          [
           5
          ],
          [
           4
          ],
          [
           6
          ],
          [
           8
          ],
          [
           31
          ],
          [
           5
          ],
          [
           6
          ],
          [
           5
          ],
          [
           5
          ],
          [
           10
          ],
          [
           5
          ],
          [
           17
          ],
          [
           30
          ],
          [
           5
          ],
          [
           22
          ],
          [
           5
          ],
          [
           8
          ],
          [
           16
          ],
          [
           6
          ],
          [
           7
          ],
          [
           5
          ],
          [
           17
          ],
          [
           5
          ],
          [
           6
          ],
          [
           5
          ],
          [
           11
          ],
          [
           6
          ],
          [
           5
          ],
          [
           13
          ],
          [
           5
          ],
          [
           5
          ],
          [
           11
          ],
          [
           14
          ],
          [
           5
          ],
          [
           5
          ],
          [
           5
          ],
          [
           4
          ],
          [
           5
          ],
          [
           8
          ],
          [
           11
          ],
          [
           12
          ],
          [
           5
          ],
          [
           5
          ],
          [
           4
          ],
          [
           5
          ],
          [
           5
          ],
          [
           5
          ],
          [
           12
          ],
          [
           10
          ],
          [
           5
          ],
          [
           5
          ],
          [
           5
          ],
          [
           5
          ],
          [
           5
          ],
          [
           5
          ],
          [
           5
          ],
          [
           5
          ],
          [
           5
          ],
          [
           5
          ],
          [
           5
          ],
          [
           5
          ],
          [
           5
          ],
          [
           5
          ],
          [
           5
          ],
          [
           15
          ],
          [
           7
          ],
          [
           27
          ],
          [
           5
          ],
          [
           5
          ],
          [
           5
          ],
          [
           5
          ],
          [
           12
          ],
          [
           30
          ],
          [
           7
          ],
          [
           8
          ],
          [
           10
          ],
          [
           14
          ],
          [
           5
          ],
          [
           5
          ],
          [
           9
          ],
          [
           18
          ],
          [
           20
          ],
          [
           5
          ],
          [
           5
          ],
          [
           15
          ],
          [
           5
          ],
          [
           5
          ],
          [
           5
          ],
          [
           16
          ],
          [
           5
          ],
          [
           5
          ],
          [
           5
          ],
          [
           5
          ],
          [
           5
          ],
          [
           5
          ],
          [
           5
          ],
          [
           5
          ],
          [
           5
          ],
          [
           5
          ],
          [
           5
          ],
          [
           5
          ],
          [
           5
          ],
          [
           4
          ],
          [
           5
          ],
          [
           15
          ],
          [
           5
          ],
          [
           5
          ],
          [
           5
          ],
          [
           5
          ],
          [
           5
          ],
          [
           5
          ],
          [
           6
          ],
          [
           5
          ],
          [
           5
          ],
          [
           5
          ],
          [
           5
          ],
          [
           10
          ],
          [
           11
          ],
          [
           5
          ],
          [
           5
          ],
          [
           5
          ],
          [
           5
          ],
          [
           5
          ],
          [
           12
          ],
          [
           26
          ],
          [
           16
          ],
          [
           26
          ],
          [
           5
          ],
          [
           5
          ],
          [
           5
          ],
          [
           5
          ],
          [
           6
          ],
          [
           11
          ],
          [
           5
          ],
          [
           11
          ],
          [
           5
          ],
          [
           11
          ],
          [
           4
          ],
          [
           8
          ],
          [
           4
          ],
          [
           5
          ],
          [
           5
          ],
          [
           9
          ],
          [
           5
          ],
          [
           22
          ],
          [
           5
          ],
          [
           5
          ],
          [
           5
          ],
          [
           5
          ],
          [
           5
          ],
          [
           5
          ],
          [
           5
          ],
          [
           5
          ],
          [
           7
          ],
          [
           5
          ],
          [
           11
          ],
          [
           5
          ],
          [
           5
          ],
          [
           5
          ],
          [
           26
          ],
          [
           5
          ],
          [
           25
          ],
          [
           5
          ],
          [
           5
          ],
          [
           9
          ],
          [
           5
          ],
          [
           13
          ],
          [
           8
          ],
          [
           45
          ],
          [
           7
          ],
          [
           5
          ],
          [
           5
          ],
          [
           10
          ],
          [
           5
          ],
          [
           20
          ],
          [
           5
          ],
          [
           6
          ],
          [
           10
          ],
          [
           18
          ],
          [
           5
          ],
          [
           6
          ],
          [
           17
          ],
          [
           7
          ],
          [
           16
          ],
          [
           5
          ],
          [
           5
          ],
          [
           7
          ],
          [
           5
          ],
          [
           5
          ],
          [
           5
          ],
          [
           7
          ],
          [
           5
          ],
          [
           8
          ],
          [
           3
          ],
          [
           9
          ],
          [
           20
          ],
          [
           3
          ],
          [
           40
          ],
          [
           5
          ],
          [
           5
          ],
          [
           5
          ],
          [
           9
          ],
          [
           5
          ],
          [
           11
          ],
          [
           10
          ],
          [
           24
          ],
          [
           5
          ],
          [
           6
          ],
          [
           5
          ],
          [
           5
          ],
          [
           5
          ],
          [
           36
          ],
          [
           5
          ],
          [
           8
          ],
          [
           13
          ],
          [
           5
          ],
          [
           5
          ],
          [
           5
          ],
          [
           5
          ],
          [
           35
          ],
          [
           16
          ],
          [
           5
          ],
          [
           16
          ],
          [
           17
          ],
          [
           34
          ],
          [
           34
          ],
          [
           38
          ],
          [
           5
          ],
          [
           5
          ],
          [
           16
          ],
          [
           4
          ],
          [
           5
          ],
          [
           5
          ],
          [
           5
          ],
          [
           7
          ],
          [
           6
          ],
          [
           5
          ],
          [
           4
          ],
          [
           5
          ],
          [
           5
          ],
          [
           5
          ],
          [
           14
          ],
          [
           4
          ],
          [
           7
          ],
          [
           5
          ],
          [
           4
          ],
          [
           5
          ],
          [
           5
          ],
          [
           5
          ],
          [
           29
          ],
          [
           27
          ],
          [
           5
          ],
          [
           5
          ],
          [
           5
          ],
          [
           5
          ],
          [
           4
          ],
          [
           4
          ],
          [
           6
          ],
          [
           4
          ],
          [
           10
          ],
          [
           5
          ],
          [
           5
          ],
          [
           5
          ],
          [
           5
          ],
          [
           5
          ],
          [
           5
          ],
          [
           12
          ],
          [
           5
          ],
          [
           5
          ],
          [
           5
          ],
          [
           5
          ],
          [
           5
          ],
          [
           5
          ],
          [
           5
          ],
          [
           5
          ],
          [
           5
          ],
          [
           5
          ],
          [
           5
          ],
          [
           5
          ],
          [
           5
          ],
          [
           5
          ],
          [
           5
          ],
          [
           5
          ],
          [
           5
          ],
          [
           5
          ],
          [
           5
          ],
          [
           5
          ],
          [
           5
          ],
          [
           5
          ],
          [
           5
          ],
          [
           5
          ],
          [
           5
          ],
          [
           5
          ],
          [
           5
          ],
          [
           5
          ],
          [
           5
          ],
          [
           5
          ],
          [
           5
          ],
          [
           5
          ],
          [
           5
          ],
          [
           5
          ],
          [
           16
          ],
          [
           16
          ],
          [
           5
          ],
          [
           5
          ],
          [
           5
          ],
          [
           5
          ],
          [
           5
          ],
          [
           5
          ],
          [
           5
          ],
          [
           5
          ],
          [
           5
          ],
          [
           5
          ],
          [
           5
          ],
          [
           10
          ],
          [
           5
          ],
          [
           5
          ],
          [
           5
          ],
          [
           5
          ],
          [
           5
          ],
          [
           5
          ],
          [
           5
          ],
          [
           5
          ],
          [
           4
          ],
          [
           13
          ],
          [
           31
          ],
          [
           5
          ],
          [
           5
          ],
          [
           13
          ],
          [
           5
          ],
          [
           5
          ],
          [
           5
          ],
          [
           5
          ],
          [
           5
          ],
          [
           5
          ],
          [
           5
          ],
          [
           5
          ],
          [
           5
          ],
          [
           5
          ],
          [
           5
          ],
          [
           5
          ],
          [
           5
          ],
          [
           5
          ],
          [
           5
          ],
          [
           5
          ],
          [
           5
          ],
          [
           5
          ],
          [
           5
          ],
          [
           5
          ],
          [
           5
          ],
          [
           5
          ],
          [
           5
          ],
          [
           5
          ],
          [
           5
          ],
          [
           5
          ],
          [
           5
          ],
          [
           10
          ],
          [
           11
          ],
          [
           5
          ],
          [
           5
          ],
          [
           5
          ],
          [
           5
          ],
          [
           5
          ],
          [
           15
          ],
          [
           5
          ],
          [
           17
          ],
          [
           5
          ],
          [
           5
          ],
          [
           5
          ],
          [
           5
          ],
          [
           5
          ],
          [
           5
          ],
          [
           22
          ],
          [
           5
          ],
          [
           5
          ],
          [
           7
          ],
          [
           17
          ],
          [
           14
          ],
          [
           5
          ],
          [
           5
          ],
          [
           5
          ],
          [
           5
          ],
          [
           5
          ],
          [
           8
          ],
          [
           8
          ],
          [
           13
          ],
          [
           22
          ],
          [
           10
          ],
          [
           19
          ],
          [
           5
          ],
          [
           5
          ],
          [
           5
          ],
          [
           5
          ],
          [
           5
          ],
          [
           6
          ],
          [
           13
          ],
          [
           20
          ],
          [
           5
          ],
          [
           5
          ],
          [
           5
          ],
          [
           5
          ],
          [
           5
          ],
          [
           5
          ],
          [
           5
          ],
          [
           13
          ],
          [
           25
          ],
          [
           5
          ],
          [
           5
          ],
          [
           5
          ],
          [
           5
          ],
          [
           5
          ],
          [
           5
          ],
          [
           19
          ],
          [
           27
          ],
          [
           15
          ],
          [
           5
          ],
          [
           5
          ],
          [
           5
          ],
          [
           5
          ],
          [
           5
          ],
          [
           5
          ],
          [
           5
          ],
          [
           5
          ],
          [
           22
          ],
          [
           32
          ],
          [
           5
          ],
          [
           8
          ],
          [
           14
          ],
          [
           5
          ],
          [
           5
          ],
          [
           5
          ],
          [
           5
          ],
          [
           5
          ],
          [
           5
          ],
          [
           5
          ],
          [
           5
          ],
          [
           5
          ],
          [
           5
          ],
          [
           18
          ],
          [
           13
          ],
          [
           31
          ],
          [
           5
          ],
          [
           5
          ],
          [
           5
          ],
          [
           5
          ],
          [
           19
          ],
          [
           5
          ],
          [
           17
          ],
          [
           5
          ],
          [
           5
          ],
          [
           5
          ],
          [
           19
          ],
          [
           14
          ],
          [
           49
          ],
          [
           17
          ],
          [
           18
          ],
          [
           5
          ],
          [
           9
          ],
          [
           27
          ],
          [
           9
          ],
          [
           5
          ],
          [
           10
          ],
          [
           5
          ],
          [
           6
          ],
          [
           5
          ],
          [
           5
          ],
          [
           5
          ],
          [
           16
          ],
          [
           10
          ],
          [
           5
          ],
          [
           20
          ],
          [
           17
          ],
          [
           5
          ],
          [
           42
          ],
          [
           6
          ],
          [
           20
          ],
          [
           6
          ],
          [
           5
          ],
          [
           5
          ],
          [
           5
          ],
          [
           5
          ],
          [
           9
          ],
          [
           5
          ],
          [
           5
          ],
          [
           5
          ],
          [
           5
          ],
          [
           5
          ],
          [
           5
          ],
          [
           5
          ],
          [
           5
          ],
          [
           6
          ],
          [
           8
          ],
          [
           6
          ],
          [
           5
          ],
          [
           5
          ],
          [
           9
          ],
          [
           5
          ],
          [
           5
          ],
          [
           5
          ],
          [
           8
          ],
          [
           11
          ],
          [
           18
          ],
          [
           12
          ],
          [
           23
          ],
          [
           8
          ],
          [
           11
          ],
          [
           5
          ],
          [
           5
          ],
          [
           6
          ],
          [
           16
          ],
          [
           5
          ],
          [
           11
          ],
          [
           16
          ],
          [
           5
          ],
          [
           5
          ],
          [
           5
          ],
          [
           9
          ],
          [
           5
          ],
          [
           5
          ],
          [
           5
          ],
          [
           5
          ],
          [
           13
          ],
          [
           8
          ],
          [
           41
          ],
          [
           5
          ],
          [
           17
          ],
          [
           5
          ],
          [
           17
          ],
          [
           5
          ],
          [
           5
          ],
          [
           11
          ],
          [
           12
          ],
          [
           19
          ],
          [
           5
          ],
          [
           12
          ],
          [
           6
          ],
          [
           5
          ],
          [
           18
          ],
          [
           8
          ],
          [
           5
          ],
          [
           5
          ],
          [
           13
          ],
          [
           9
          ],
          [
           5
          ],
          [
           4
          ],
          [
           13
          ],
          [
           7
          ],
          [
           8
          ],
          [
           5
          ],
          [
           5
          ],
          [
           5
          ],
          [
           5
          ],
          [
           5
          ],
          [
           5
          ],
          [
           5
          ],
          [
           5
          ],
          [
           5
          ],
          [
           5
          ],
          [
           5
          ],
          [
           5
          ],
          [
           5
          ],
          [
           5
          ],
          [
           5
          ],
          [
           5
          ],
          [
           5
          ],
          [
           5
          ],
          [
           5
          ],
          [
           5
          ],
          [
           5
          ],
          [
           5
          ],
          [
           5
          ],
          [
           5
          ],
          [
           5
          ],
          [
           4
          ],
          [
           6
          ],
          [
           5
          ],
          [
           5
          ],
          [
           5
          ],
          [
           5
          ],
          [
           5
          ],
          [
           5
          ],
          [
           5
          ],
          [
           5
          ],
          [
           5
          ],
          [
           5
          ],
          [
           5
          ],
          [
           5
          ],
          [
           5
          ],
          [
           5
          ],
          [
           5
          ],
          [
           5
          ],
          [
           5
          ],
          [
           5
          ],
          [
           5
          ],
          [
           5
          ],
          [
           5
          ],
          [
           6
          ],
          [
           5
          ],
          [
           5
          ],
          [
           5
          ],
          [
           5
          ],
          [
           5
          ],
          [
           5
          ],
          [
           5
          ],
          [
           5
          ],
          [
           5
          ],
          [
           5
          ],
          [
           5
          ],
          [
           5
          ],
          [
           5
          ],
          [
           4
          ],
          [
           5
          ],
          [
           5
          ],
          [
           15
          ],
          [
           29
          ],
          [
           5
          ],
          [
           11
          ],
          [
           5
          ],
          [
           30
          ],
          [
           6
          ],
          [
           6
          ],
          [
           7
          ],
          [
           23
          ],
          [
           25
          ],
          [
           5
          ],
          [
           17
          ],
          [
           24
          ],
          [
           25
          ],
          [
           18
          ],
          [
           15
          ],
          [
           23
          ],
          [
           5
          ],
          [
           13
          ],
          [
           21
          ],
          [
           5
          ],
          [
           5
          ],
          [
           12
          ],
          [
           20
          ],
          [
           17
          ],
          [
           22
          ],
          [
           6
          ],
          [
           5
          ],
          [
           5
          ],
          [
           5
          ],
          [
           10
          ],
          [
           5
          ],
          [
           5
          ],
          [
           14
          ],
          [
           8
          ],
          [
           5
          ],
          [
           9
          ],
          [
           17
          ],
          [
           23
          ],
          [
           33
          ],
          [
           5
          ],
          [
           8
          ],
          [
           7
          ],
          [
           36
          ],
          [
           11
          ],
          [
           5
          ],
          [
           5
          ],
          [
           5
          ],
          [
           5
          ],
          [
           5
          ],
          [
           16
          ],
          [
           9
          ],
          [
           25
          ],
          [
           22
          ],
          [
           15
          ],
          [
           18
          ],
          [
           9
          ],
          [
           26
          ],
          [
           9
          ],
          [
           18
          ],
          [
           20
          ],
          [
           6
          ],
          [
           11
          ],
          [
           35
          ],
          [
           27
          ],
          [
           19
          ],
          [
           8
          ],
          [
           10
          ],
          [
           12
          ],
          [
           12
          ],
          [
           11
          ],
          [
           9
          ],
          [
           18
          ],
          [
           5
          ],
          [
           5
          ],
          [
           5
          ],
          [
           5
          ],
          [
           12
          ],
          [
           6
          ],
          [
           9
          ],
          [
           16
          ],
          [
           6
          ]
         ],
         "hovertemplate": "<b>%{hovertext}</b><br><br>Type=Live<br>Location.latitude=%{lat}<br>Location.longitude=%{lon}<br>Location.accuracy=%{customdata[0]}<extra></extra>",
         "hovertext": [
          "1950 Live Chum",
          "1925 Live Chum",
          "1600 Live Chum",
          "1900 Live Chum",
          "1750 Live Chum",
          "1730 Live Chum",
          "1540 Live Chum",
          "1470 Live Chum",
          "1370 Live Chum",
          "1305 Live Chum",
          "915 Live Chum",
          "555 Live Chum",
          "320 Live Chum",
          "2000 Live Chum",
          "2000 Live Chum",
          "2000 Live Chum",
          "2000 Live Chum",
          "2000 Live Chum",
          "2000 Live Chum",
          "1990 Live Chum",
          "1990 Live Chum",
          "1980 Live Chum",
          "1980 Live Chum",
          "1910 Live Chum",
          "1905 Live Chum",
          "1905 Live Chum",
          "1900 Live Chum",
          "1855 Live Chum",
          "1800 Live Chum",
          "1800 Live Chum",
          "1800 Live Chum",
          "1800 Live Chum",
          "1800 Live Chum",
          "1800 Live Chum",
          "1750 Live Chum",
          "1750 Live Chum",
          "1735 Live Chum",
          "1730 Live Chum",
          "1700 Live Chum",
          "1610 Live Chum",
          "1520 Live Chum",
          "1475 Live Chum",
          "1405 Live Chum",
          "1400 Live Chum",
          "1360 Live Chum",
          "950 Live Chum",
          "775 Live Chum",
          "708 Live Chum",
          "665 Live Chum",
          "315 Live Chum",
          "740 Live Chum",
          "740 Live Chum",
          "625 Live Chum",
          "560 Live Chum",
          "560 Live Chum",
          "370 Live Chum",
          "340 Live Chum",
          "340 Live Chum",
          "340 Live Chum",
          "230 Live Chum",
          "220 Live Chum",
          "220 Live Chum",
          "1990 Live Chum",
          "1990 Live Chum",
          "1990 Live Chum",
          "1990 Live Chum",
          "1975 Live Chum",
          "1975 Live Chum",
          "1975 Live Chum",
          "1975 Live Chum",
          "1975 Live Chum",
          "1950 Live Chum",
          "1925 Live Chum",
          "1925 Live Chum",
          "1925 Live Chum",
          "1925 Live Chum",
          "1925 Live Chum",
          "1925 Live Chum",
          "1925 Live Chum",
          "1875 Live Chum",
          "1855 Live Chum",
          "1855 Live Chum",
          "1855 Live Chum",
          "1855 Live Chum",
          "1840 Live Chum",
          "1820 Live Chum",
          "1820 Live Chum",
          "1820 Live Chum",
          "1805 Live Chum",
          "1750 Live Chum",
          "1750 Live Chum",
          "1710 Live Chum",
          "1710 Live Chum",
          "1675 Live Chum",
          "1675 Live Chum",
          "1675 Live Chum",
          "1675 Live Chum",
          "1575 Live Chum",
          "1510 Live Chum",
          "1510 Live Chum",
          "1510 Live Chum",
          "1450 Live Chum",
          "1450 Live Chum",
          "1450 Live Chum",
          "1450 Live Chum",
          "1375 Live Chum",
          "1375 Live Chum",
          "1225 Live Chum",
          "1200 Live Chum",
          "1120 Live Chum",
          "1040 Live Chum",
          "850 Live Chum",
          "850 Live Chum",
          "780 Live Chum",
          "675 Live Chum",
          "675 Live Chum",
          "625 Live Chum",
          "575 Live Chum",
          "550 Live Chum",
          "550 Live Chum",
          "1675 Live Chum",
          "1355 Live Chum",
          "1050 Live Chum",
          "405 Live Chum",
          "Live Coho",
          "0 Live Chum",
          "600 Live Chum",
          "600 Live Chum",
          "600 Live Chum",
          "600 Live Chum",
          "560 Live Chum",
          "560 Live Resident Cutthroat",
          "560 Live Chum",
          "520 Live Chum",
          "520 Live Chum",
          "520 Live Chum",
          "520 Live Chum",
          "500 Live Chum",
          "500 Live Chum",
          "460 Live Chum",
          "460 Live Chum",
          "460 Live Chum",
          "460 Live Chum",
          "450 Live Chum",
          "450 Live Chum",
          "420 Live Chum",
          "400 Live Chum",
          "360 Live Chum",
          "360 Live Chum",
          "350 Live Chum",
          "350 Live Chum",
          "330 Live Chum",
          "330 Live Chum",
          "330 Live Chum",
          "330 Live Chum",
          "330 Live Chum",
          "330 Live Chum",
          "330 Live Chum",
          "300 Live Chum",
          "300 Live Chum",
          "300 Live Chum",
          "300 Live Chum",
          "300 Live Chum",
          "250 Live Chum",
          "220 Live Chum",
          "220 Live Chum",
          "220 Live Chum",
          "220 Live Chum",
          "210 Live Chum",
          "180 Live Chum",
          "150 Live Chum",
          "70 Live Coho",
          "70 Live Chum",
          "70 Live Chum",
          "30 Live Chum",
          "30 Live Chum",
          "30 Live Chum",
          "20 Live Chum",
          "2020 Live Chum",
          "2020 Live Chum",
          "2020 Live Chum",
          "2020 Live Chum",
          "2010 Live Chum",
          "2010 Live Chum",
          "2000 Live Chum",
          "2000 Live Chum",
          "2000 Live Chum",
          "2000 Live Chum",
          "2000 Live Chum",
          "1970 Live Chum",
          "1950 Live Chum",
          "1950 Live Chum",
          "1930 Live Chum",
          "1930 Live Chum",
          "1930 Live Chum",
          "1930 Live Chum",
          "1930 Live Chum",
          "1930 Live Chum",
          "1930 Live Chum",
          "1930 Live Chum",
          "1930 Live Chum",
          "1930 Live Chum",
          "1910 Live Chum",
          "1910 Live Chum",
          "1910 Live Chum",
          "1900 Live Chum",
          "1900 Live Chum",
          "1900 Live Chum",
          "1900 Live Chum",
          "1900 Live Chum",
          "1900 Live Chum",
          "1900 Live Chum",
          "1900 Live Chum",
          "1900 Live Chum",
          "1870 Live Chum",
          "1870 Live Chum",
          "1870 Live Chum",
          "1870 Live Chum",
          "1870 Live Chum",
          "1860 Live Chum",
          "1860 Live Chum",
          "1860 Live Chum",
          "1850 Live Chum",
          "1850 Live Chum",
          "1850 Live Chum",
          "1850 Live Chum",
          "1830 Live Chum",
          "1830 Live Chum",
          "1820 Live Chum",
          "1820 Live Chum",
          "1820 Live Chum",
          "1820 Live Chum",
          "1820 Live Chum",
          "1820 Live Chum",
          "1820 Live Chum",
          "1820 Live Chum",
          "1820 Live Chum",
          "1820 Live Chum",
          "1800 Live Chum",
          "1790 Live Chum",
          "1790 Live Chum",
          "1790 Live Chum",
          "1770 Live Chum",
          "1770 Live Chum",
          "1770 Live Chum",
          "1770 Live Chum",
          "1760 Live Chum",
          "1760 Live Chum",
          "1750 Live Chum",
          "1750 Live Chum",
          "1750 Live Chum",
          "1750 Live Chum",
          "1740 Live Chum",
          "1740 Live Chum",
          "1740 Live Chum",
          "1720 Live Chum",
          "1690 Live Chum",
          "1690 Live Chum",
          "1690 Live Chum",
          "1690 Live Chum",
          "1690 Live Chum",
          "1680 Live Chum",
          "1680 Live Chum",
          "1650 Live Chum",
          "1650 Live Chum",
          "1650 Live Chum",
          "1650 Live Chum",
          "1650 Live Chum",
          "1650 Live Chum",
          "1630 Live Chum",
          "1630 Live Chum",
          "1610 Live Chum",
          "1610 Live Chum",
          "1610 Live Chum",
          "1610 Live Chum",
          "1610 Live Chum",
          "1600 Live Chum",
          "1600 Live Chum",
          "1600 Live Chum",
          "1600 Live Chum",
          "1600 Live Chum",
          "1600 Live Chum",
          "1600 Live Chum",
          "1600 Live Chum",
          "1600 Live Chum",
          "1580 Live Chum",
          "1580 Live Chum",
          "1590 Live Coho",
          "1540 Live Chum",
          "1540 Live Chum",
          "1540 Live Chum",
          "1540 Live Chum",
          "1540 Live Chum",
          "1510 Live Chum",
          "1510 Live Chum",
          "1500 Live Chum",
          "1500 Live Chum",
          "1500 Live Chum",
          "1460 Live Chum",
          "1450 Live Chum",
          "1450 Live Chum",
          "1450 Live Chum",
          "1400 Live Chum",
          "1400 Live Chum",
          "1400 Live Chum",
          "1400 Live Chum",
          "1400 Live Chum",
          "1400 Live Chum",
          "1370 Live Chum",
          "1370 Live Chum",
          "1370 Live Chum",
          "1370 Live Chum",
          "1370 Live Chum",
          "1370 Live Chum",
          "1370 Live Chum",
          "1370 Live Chum",
          "1350 Live Chum",
          "1350 Live Chum",
          "1310 Live Chum",
          "1310 Live Chum",
          "1310 Live Chum",
          "1310 Live Chum",
          "1310 Live Chum",
          "1310 Live Chum",
          "1260 Live Chum",
          "1260 Live Chum",
          "1260 Live Chum",
          "1250 Live Chum",
          "1250 Live Chum",
          "1250 Live Chum",
          "1250 Live Chum",
          "1210 Live Chum",
          "1210 Live Chum",
          "1210 Live Chum",
          "1210 Live Chum",
          "1210 Live Chum",
          "1210 Live Chum",
          "1210 Live Chum",
          "1210 Live Chum",
          "1200 Live Chum",
          "1170 Live Chum",
          "1160 Live Chum",
          "1160 Live Chum",
          "1160 Live Chum",
          "1160 Live Chum",
          "1150 Live Chum",
          "1150 Live Chum",
          "1150 Live Chum",
          "1100 Live Chum",
          "1070 Live Chum",
          "1070 Live Chum",
          "1070 Live Chum",
          "1060 Live Chum",
          "1050 Live Chum",
          "1050 Live Chum",
          "1030 Live Chum",
          "1030 Live Chum",
          "1030 Live Chum",
          "1030 Live Chum",
          "1030 Live Chum",
          "990 Live Chum",
          "950 Live Chum",
          "920 Live Chum",
          "920 Live Chum",
          "830 Live Chum",
          "830 Live Chum",
          "830 Live Chum",
          "830 Live Chum",
          "830 Live Chum",
          "760 Live Chum",
          "760 Live Chum",
          "705 Live Chum",
          "705 Live Chum",
          "570 Live Chum",
          "570 Live Chum",
          "570 Live Chum",
          "550 Live Chum",
          "470 Live Chum",
          "470 Live Chum",
          "440 Live Chum",
          "340 Live Chum",
          "260 Live Chum",
          "40 Live Chum",
          "30 Live Chum",
          "820 Live Chum",
          "820 Live Chum",
          "720 Live Resident Cutthroat",
          "720 Live Coho",
          "640 Live Chum",
          "640 Live Chum",
          "20 Live Chum",
          "20 Live Chum",
          "20 Live Chum",
          "20 Live Chum",
          "10 Live Chum",
          "595 Live Chum",
          "595 Live Chum",
          "560 Live Chum",
          "560 Live Chum",
          "560 Live Chum",
          "560 Live Chum",
          "560 Live Chum",
          "560 Live Chum",
          "560 Live Chum",
          "560 Live Chum",
          "560 Live Chum",
          "560 Live Chum",
          "550 Live Chum",
          "536 Live Chum",
          "534 Live Chum",
          "528 Live Chum",
          "528 Live Chum",
          "520 Live Chum",
          "520 Live Chum",
          "520 Live Chum",
          "520 Live Chum",
          "520 Live Chum",
          "520 Live Chum",
          "515 Live Chum",
          "515 Live Chum",
          "510 Live Chum",
          "510 Live Chum",
          "500 Live Chum",
          "500 Live Chum",
          "500 Live Chum",
          "500 Live Chum",
          "455 Live Chum",
          "455 Live Chum",
          "455 Live Chum",
          "450 Live Chum",
          "450 Live Chum",
          "400 Live Chum",
          "400 Live Chum",
          "400 Live Chum",
          "400 Live Chum",
          "370 Live Chum",
          "370 Live Chum",
          "358 Live Chum",
          "358 Live Chum",
          "355 Live Chum",
          "355 Live Chum",
          "345 Live Chum",
          "345 Live Sea-run Cutthroat",
          "345 Live Chum",
          "345 Live Chum",
          "345 Live Chum",
          "345 Live Chum",
          "345 Live Chum",
          "345 Live Chum",
          "345 Live Chum",
          "340 Live Chum",
          "340 Live Chum",
          "340 Live Chum",
          "340 Live Chum",
          "340 Live Chum",
          "340 Live Chum",
          "340 Live Chum",
          "330 Live Chum",
          "330 Live Chum",
          "330 Live Chum",
          "325 Live Chum",
          "310 Live Chum",
          "290 Live Chum",
          "300 Live Chum",
          "300 Live Chum",
          "290 Live Chum",
          "250 Live Chum",
          "220 Live Chum",
          "215 Live Chum",
          "215 Live Chum",
          "215 Live Chum",
          "215 Live Chum",
          "215 Live Chum",
          "203 Live Chum",
          "203 Live Chum",
          "203 Live Chum",
          "185 Live Chum",
          "180 Live Chum",
          "180 Live Chum",
          "180 Live Chum",
          "180 Live Chum",
          "140 Live Chum",
          "100 Live Chum",
          "65 Live Chum",
          "65 Live Chum",
          "60 Live Chum",
          "50 Live Chum",
          "35 Live Chum",
          "35 Live Chum",
          "30 Live Chum",
          "15 Live Chum",
          "1995 Live Chum",
          "1995 Live Chum",
          "1995 Live Chum",
          "1995 Live Chum",
          "1995 Live Chum",
          "1995 Live Chum",
          "1995 Live Chum",
          "1990 Live Chum",
          "1990 Live Chum",
          "1990 Live Chum",
          "1990 Live Chum",
          "1990 Live Chum",
          "1990 Live Chum",
          "1980 Live Chum",
          "1975 Live Chum",
          "1975 Live Chum",
          "1975 Live Chum",
          "1975 Live Chum",
          "1960 Live Chum",
          "1960 Live Chum",
          "1960 Live Chum",
          "1960 Live Chum",
          "1960 Live Chum",
          "1950 Live Chum",
          "1945 Live Chum",
          "1945 Live Chum",
          "1945 Live Chum",
          "1945 Live Chum",
          "1945 Live Chum",
          "1945 Live Chum",
          "1945 Live Chum",
          "1945 Live Chum",
          "1945 Live Chum",
          "1945 Live Chum",
          "1945 Live Chum",
          "1945 Live Chum",
          "1945 Live Chum",
          "1945 Live Chum",
          "1945 Live Chum",
          "1915 Live Chum",
          "1915 Live Chum",
          "1915 Live Chum",
          "1905 Live Chum",
          "1905 Live Chum",
          "1905 Live Chum",
          "1905 Live Chum",
          "1905 Live Chum",
          "1905 Live Chum",
          "1905 Live Chum",
          "1905 Live Chum",
          "1905 Live Chum",
          "1905 Live Chum",
          "1905 Live Chum",
          "1905 Live Chum",
          "1905 Live Chum",
          "1905 Live Chum",
          "1905 Live Chum",
          "1905 Live Chum",
          "1905 Live Chum",
          "1905 Live Chum",
          "1905 Live Chum",
          "1905 Live Chum",
          "1905 Live Chum",
          "1895 Live Chum",
          "1895 Live Chum",
          "1895 Live Chum",
          "1895 Live Chum",
          "1895 Live Chum",
          "1895 Live Chum",
          "1895 Live Chum",
          "1895 Live Chum",
          "1875 Live Chum",
          "1875 Live Chum",
          "1875 Live Chum",
          "1875 Live Chum",
          "1860 Live Chum",
          "1860 Live Chum",
          "1855 Live Chum",
          "1855 Live Chum",
          "1820 Live Chum",
          "1850 Live Chum",
          "1845 Live Chum",
          "1845 Live Chum",
          "1845 Live Chum",
          "1820 Live Chum",
          "1820 Live Chum",
          "1820 Live Chum",
          "1820 Live Chum",
          "1820 Live Chum",
          "1820 Live Chum",
          "1820 Live Chum",
          "1820 Live Chum",
          "1820 Live Chum",
          "1820 Live Chum",
          "1810 Live Chum",
          "1810 Live Chum",
          "1805 Live Chum",
          "1805 Live Chum",
          "1805 Live Chum",
          "1805 Live Chum",
          "1805 Live Chum",
          "1805 Live Chum",
          "1805 Live Chum",
          "1800 Live Chum",
          "1795 Live Chum",
          "1795 Live Chum",
          "1795 Live Chum",
          "1795 Live Chum",
          "1795 Live Chum",
          "1775 Live Chum",
          "1775 Live Chum",
          "1775 Live Chum",
          "1775 Live Chum",
          "1775 Live Chum",
          "1742 Live Chum",
          "1738 Live Chum",
          "1740 Live Chum",
          "1740 Live Chum",
          "1740 Live Chum",
          "1740 Live Chum",
          "1740 Live Chum",
          "1735 Live Chum",
          "1735 Live Chum",
          "1725 Live Chum",
          "1725 Live Chum",
          "1720 Live Chum",
          "1702 Live Chum",
          "1701 Live Chum",
          "1710 Live Chum",
          "1705 Live Chum",
          "1690 Live Chum",
          "1690 Live Chum",
          "1690 Live Chum",
          "1690 Live Chum",
          "1690 Live Chum",
          "1690 Live Chum",
          "1690 Live Chum",
          "1690 Live Chum",
          "1675 Live Chum",
          "1670 Live Chum",
          "1670 Live Chum",
          "1670 Live Chum",
          "1670 Live Chum",
          "1653 Live Chum",
          "1650 Live Chum",
          "1625 Live Chum",
          "1625 Live Chum",
          "1625 Live Chum",
          "1610 Live Chum",
          "1610 Live Chum",
          "1610 Live Chum",
          "1610 Live Chum",
          "1610 Live Chum",
          "1610 Live Chum",
          "1610 Live Chum",
          "1610 Live Chum",
          "1610 Live Chum",
          "1610 Live Chum",
          "1610 Live Chum",
          "1610 Live Chum",
          "1597 Live Chum",
          "1595 Live Chum",
          "1594 Live Chum",
          "1593 Live Chum",
          "1593 Live Chum",
          "1592 Live Chum",
          "1592 Live Chum",
          "1590 Live Chum",
          "1590 Live Chum",
          "1585 Live Chum",
          "1585 Live Chum",
          "1575 Live Chum",
          "1575 Live Chum",
          "1570 Live Chum",
          "1560 Live Chum",
          "1570 Live Chum",
          "1560 Live Chum",
          "1550 Live Chum",
          "1515 Live Chum",
          "1515 Live Chum",
          "1515 Live Chum",
          "1510 Live Chum",
          "1510 Live Chum",
          "1510 Live Chum",
          "1500 Live Chum",
          "1500 Live Chum",
          "1465 Live Chum",
          "1465 Live Chum",
          "1455 Live Chum",
          "1455 Live Chum",
          "1455 Live Chum",
          "1455 Live Chum",
          "1410 Live Chum",
          "1380 Live Chum",
          "1380 Live Chum",
          "1380 Live Chum",
          "1380 Live Chum",
          "1390 Live Coho",
          "1390 Live Chum",
          "1390 Live Chum",
          "1390 Live Chum",
          "1390 Live Chum",
          "1360 Live Chum",
          "1360 Live Chum",
          "1360 Live Chum",
          "1360 Live Chum",
          "1360 Live Chum",
          "1348 Live Chum",
          "1348 Live Chum",
          "1348 Live Chum",
          "1348 Live Chum",
          "1305 Live Chum",
          "1305 Live Chum",
          "1305 Live Chum",
          "1305 Live Chum",
          "1300 Live Chum",
          "1300 Live Chum",
          "1300 Live Chum",
          "1283 Live Chum",
          "1280 Live Chum",
          "1280 Live Chum",
          "1275 Live Chum",
          "1275 Live Chum",
          "1270 Live Chum",
          "1260 Live Chum",
          "1260 Live Chum",
          "1260 Live Chum",
          "1260 Live Chum",
          "1260 Live Chum",
          "1260 Live Chum",
          "1250 Live Chum",
          "1250 Live Chum",
          "1250 Live Chum",
          "1245 Live Unknown",
          "1240 Live Chum",
          "1240 Live Chum",
          "1240 Live Chum",
          "1210 Live Chum",
          "1210 Live Chum",
          "1210 Live Chum",
          "1210 Live Chum",
          "1210 Live Chum",
          "1210 Live Chum",
          "1210 Live Chum",
          "1205 Live Chum",
          "1205 Live Chum",
          "1205 Live Chum",
          "1205 Live Chum",
          "1205 Live Chum",
          "1205 Live Chum",
          "1205 Live Chum",
          "1200 Live Chum",
          "1200 Live Chum",
          "1185 Live Chum",
          "1170 Live Chum",
          "1170 Live Chum",
          "1170 Live Chum",
          "1170 Live Chum",
          "1170 Live Chum",
          "1165 Live Chum",
          "1160 Live Chum",
          "1155 Live Chum",
          "1155 Live Chum",
          "1155 Live Chum",
          "1155 Live Chum",
          "1135 Live Chum",
          "1130 Live Chum",
          "1130 Live Chum",
          "1090 Live Chum",
          "1080 Live Chum",
          "1080 Live Chum",
          "1080 Live Chum",
          "1080 Live Chum",
          "1075 Live Chum",
          "1075 Live Chum",
          "1075 Live Chum",
          "1075 Live Chum",
          "1060 Live Chum",
          "1060 Live Chum",
          "1035 Live Chum",
          "1035 Live Chum",
          "1015 Live Chum",
          "1010 Live Chum",
          "1010 Live Chum",
          "1010 Live Chum",
          "1010 Live Chum",
          "960 Live Chum",
          "960 Live Chum",
          "960 Live Chum",
          "960 Live Chum",
          "960 Live Chum",
          "955 Live Chum",
          "955 Live Chum",
          "950 Live Chum",
          "940 Live Chum",
          "940 Live Chum",
          "920 Live Chum",
          "860 Live Chum",
          "860 Live Chum",
          "860 Live Chum",
          "845 Live Chum",
          "845 Live Chum",
          "810 Live Chum",
          "810 Live Chum",
          "810 Live Chum",
          "810 Live Chum",
          "810 Live Chum",
          "800 Live Chum",
          "750 Live Chum",
          "720 Live Chum",
          "710 Live Chum",
          "625 Live Chum",
          "600 Live Chum",
          "600 Live Chum",
          "600 Live Chum",
          "560 Live Chum",
          "550 Live Chum",
          "500 Live Chum",
          "500 Live Chum",
          "500 Live Chum",
          "460 Live Chum",
          "50 Live Chum",
          "30 Live Chum",
          "0 Live Chum",
          "0 Live Chum",
          "0 Live Chum",
          "0 Live Chum",
          "0 Live Chum",
          "525 Live Chum",
          "625 Live Chum",
          "150 Live Chum",
          "100 Live Chum",
          "50 Live Chum",
          "600 Live Chum",
          "600 Live Chum",
          "600 Live Chum",
          "600 Live Chum",
          "600 Live Chum",
          "600 Live Chum",
          "600 Live Chum",
          "600 Live Chum",
          "600 Live Chum",
          "575 Live Chum",
          "575 Live Chum",
          "555 Live Chum",
          "555 Live Chum",
          "555 Live Chum",
          "555 Live Chum",
          "555 Live Chum",
          "555 Live Chum",
          "555 Live Chum",
          "555 Live Chum",
          "555 Live Chum",
          "550 Live Chum",
          "550 Live Chum",
          "550 Live Chum",
          "550 Live Chum",
          "505 Live Chum",
          "505 Live Chum",
          "500 Live Chum",
          "505 Live Chum",
          "500 Live Chum",
          "505 Live Chum",
          "500 Live Chum",
          "500 Live Chum",
          "505 Live Chum",
          "500 Live Chum",
          "500 Live Chum",
          "500 Live Chum",
          "500 Live Chum",
          "450 Live Chum",
          "450 Live Chum",
          "450 Live Chum",
          "450 Live Chum",
          "450 Live Chum",
          "450 Live Chum",
          "450 Live Chum",
          "450 Live Chum",
          "450 Live Chum",
          "450 Live Chum",
          "450 Live Chum",
          "400 Live Chum",
          "400 Live Chum",
          "400 Live Chum",
          "400 Live Chum",
          "400 Live Chum",
          "400 Live Chum",
          "400 Live Chum",
          "400 Live Chum",
          "400 Live Chum",
          "400 Live Chum",
          "400 Live Chum",
          "400 Live Chum",
          "400 Live Chum",
          "350 Live Chum",
          "350 Live Chum",
          "350 Live Chum",
          "350 Live Chum",
          "350 Live Chum",
          "280 Live Chum",
          "280 Live Chum",
          "280 Live Chum",
          "280 Live Chum",
          "280 Live Chum",
          "275 Live Chum",
          "275 Live Chum",
          "275 Live Chum",
          "275 Live Chum",
          "260 Live Chum",
          "275 Live Chum",
          "260 Live Chum",
          "260 Live Chum",
          "275 Live Chum",
          "250 Live Chum",
          "250 Live Chum",
          "250 Live Chum",
          "250 Live Chum",
          "250 Live Chum",
          "250 Live Chum",
          "250 Live Chum",
          "250 Live Chum",
          "175 Live Chum",
          "175 Live Chum",
          "175 Live Chum",
          "175 Live Chum",
          "200 Live Chum",
          "220 Live Chum",
          "200 Live Chum",
          "220 Live Chum",
          "200 Live Chum",
          "220 Live Chum",
          "200 Live Chum",
          "200 Live Chum",
          "220 Live Chum",
          "220 Live Chum",
          "220 Live Chum",
          "115 Live Chum",
          "115 Live Chum",
          "115 Live Chum",
          "125 Live Chum",
          "115 Live Chum",
          "125 Live Chum",
          "115 Live Chum",
          "125 Live Chum",
          "100 Live Chum",
          "100 Live Chum",
          "75 Live Chum",
          "75 Live Chum",
          "75 Live Chum",
          "75 Live Chum",
          "10 Live Chum",
          "50 Live Chum",
          "10 Live Chum",
          "50 Live Chum",
          "10 Live Chum",
          "10 Live Chum",
          "25 Live Chum",
          "10 Live Chum",
          "25 Live Chum",
          "2000 Live Chum",
          "2000 Live Chum",
          "2000 Live Chum",
          "2000 Live Chum",
          "2000 Live Chum",
          "2000 Live Chum",
          "2000 Live Chum",
          "2000 Live Chum",
          "2000 Live Chum",
          "2000 Live Chum",
          "2000 Live Chum",
          "2000 Live Chum",
          "2000 Live Chum",
          "2000 Live Chum",
          "2000 Live Chum",
          "2000 Live Chum",
          "2000 Live Chum",
          "2000 Live Chum",
          "1905 Live Chum",
          "2000 Live Chum",
          "1905 Live Chum",
          "1905 Live Chum",
          "1905 Live Chum",
          "1905 Live Chum",
          "1905 Live Chum",
          "1905 Live Chum",
          "1905 Live Chum",
          "1905 Live Chum",
          "1905 Live Chum",
          "1905 Live Chum",
          "1950 Live Chum",
          "1905 Live Chum",
          "1950 Live Chum",
          "1905 Live Chum",
          "1950 Live Chum",
          "1950 Live Chum",
          "1950 Live Chum",
          "1950 Live Chum",
          "1950 Live Chum",
          "1950 Live Chum",
          "1950 Live Chum",
          "1950 Live Chum",
          "1950 Live Chum",
          "1900 Live Chum",
          "1900 Live Chum",
          "1900 Live Chum",
          "1900 Live Chum",
          "1900 Live Chum",
          "1900 Live Chum",
          "1900 Live Chum",
          "1900 Live Chum",
          "1900 Live Chum",
          "1900 Live Chum",
          "1900 Live Chum",
          "1900 Live Chum",
          "1900 Live Chum",
          "1900 Live Chum",
          "1900 Live Chum",
          "1900 Live Chum",
          "1900 Live Chum",
          "1900 Live Chum",
          "1900 Live Chum",
          "1900 Live Chum",
          "1900 Live Chum",
          "1900 Live Chum",
          "1860 Live Chum",
          "1875 Live Chum",
          "1860 Live Chum",
          "1875 Live Chum",
          "1860 Live Chum",
          "1875 Live Chum",
          "1875 Live Chum",
          "1850 Live Chum",
          "1850 Live Chum",
          "1850 Live Chum",
          "1850 Live Chum",
          "1850 Live Chum",
          "1850 Live Chum",
          "1850 Live Chum",
          "1850 Live Chum",
          "1850 Live Chum",
          "1850 Live Chum",
          "1850 Live Chum",
          "1850 Live Chum",
          "1850 Live Chum",
          "1850 Live Chum",
          "1850 Live Chum",
          "1850 Live Chum",
          "1850 Live Chum",
          "1850 Live Chum",
          "1850 Live Chum",
          "1850 Live Chum",
          "1825 Live Chum",
          "1825 Live Chum",
          "1825 Live Chum",
          "1825 Live Chum",
          "1825 Live Chum",
          "1825 Live Chum",
          "1825 Live Chum",
          "1825 Live Chum",
          "1800 Live Chum",
          "1800 Live Chum",
          "1800 Live Chum",
          "1800 Live Chum",
          "1800 Live Chum",
          "1800 Live Chum",
          "1800 Live Chum",
          "1800 Live Chum",
          "1800 Live Chum",
          "1800 Live Chum",
          "1800 Live Chum",
          "1800 Live Chum",
          "1800 Live Chum",
          "1800 Live Chum",
          "1800 Live Chum",
          "1800 Live Chum",
          "1800 Live Chum",
          "1800 Live Chum",
          "1800 Live Chum",
          "1800 Live Chum",
          "1775 Live Chum",
          "1775 Live Chum",
          "1775 Live Chum",
          "1775 Live Chum",
          "1775 Live Chum",
          "1775 Live Chum",
          "1775 Live Chum",
          "1750 Live Chum",
          "1750 Live Chum",
          "1750 Live Chum",
          "1750 Live Chum",
          "1750 Live Chum",
          "1750 Live Chum",
          "1750 Live Chum",
          "1750 Live Chum",
          "1750 Live Chum",
          "1750 Live Chum",
          "1750 Live Chum",
          "1750 Live Chum",
          "1750 Live Chum",
          "1700 Live Chum",
          "1700 Live Chum",
          "1700 Live Chum",
          "1700 Live Chum",
          "1700 Live Chum",
          "1700 Live Chum",
          "1700 Live Chum",
          "1700 Live Chum",
          "1700 Live Chum",
          "1700 Live Chum",
          "1700 Live Chum",
          "1700 Live Chum",
          "1700 Live Chum",
          "1700 Live Chum",
          "1700 Live Chum",
          "1700 Live Chum",
          "1650 Live Chum",
          "1650 Live Chum",
          "1650 Live Chum",
          "1650 Live Chum",
          "1650 Live Chum",
          "1650 Live Chum",
          "1650 Live Chum",
          "1650 Live Chum",
          "1650 Live Chum",
          "1650 Live Chum",
          "1650 Live Coho",
          "1658 Live Chum",
          "1650 Live Chum",
          "1650 Live Chum",
          "1650 Live Chum",
          "1650 Live Chum",
          "1625 Live Chum",
          "1625 Live Chum",
          "1625 Live Chum",
          "1625 Live Chum",
          "1625 Live Chum",
          "1625 Live Chum",
          "1625 Live Chum",
          "1625 Live Chum",
          "1625 Live Chum",
          "1625 Live Chum",
          "1625 Live Chum",
          "1625 Live Chum",
          "1625 Live Chum",
          "1625 Live Chum",
          "1625 Live Chum",
          "1625 Live Chum",
          "1625 Live Chum",
          "1560 Live Chum",
          "1560 Live Chum",
          "1560 Live Chum",
          "1560 Live Chum",
          "1560 Live Chum",
          "1560 Live Chum",
          "1560 Live Chum",
          "1550 Live Chum",
          "1550 Live Chum",
          "1550 Live Chum",
          "1550 Live Chum",
          "1500 Live Chum",
          "1500 Live Chum",
          "1500 Live Chum",
          "1500 Live Chum",
          "1500 Live Chum",
          "1500 Live Chum",
          "1500 Live Chum",
          "1500 Live Chum",
          "1450 Live Chum",
          "1450 Live Chum",
          "1450 Live Chum",
          "1450 Live Chum",
          "1450 Live Chum",
          "1425 Live Chum",
          "1450 Live Chum",
          "1450 Live Chum",
          "1450 Live Chum",
          "1450 Live Chum",
          "1450 Live Chum",
          "1400 Live Chum",
          "1400 Live Chum",
          "1400 Live Chum",
          "1400 Live Chum",
          "1400 Live Chum",
          "1400 Live Chum",
          "1400 Live Chum",
          "1400 Live Chum",
          "1400 Live Chum",
          "1375 Live Chum",
          "1375 Live Chum",
          "1375 Live Chum",
          "1375 Live Chum",
          "1375 Live Chum",
          "1375 Live Chum",
          "1375 Live Chum",
          "1350 Live Chum",
          "1350 Live Chum",
          "1350 Live Chum",
          "1350 Live Chum",
          "1300 Live Chum",
          "1300 Live Chum",
          "1300 Live Chum",
          "1300 Live Chum",
          "1300 Live Chum",
          "1300 Live Chum",
          "1300 Live Chum",
          "1300 Live Chum",
          "1265 Live Chum",
          "1265 Live Chum",
          "1250 Live Chum",
          "1260 Live Chum",
          "1260 Live Chum",
          "1260 Live Chum",
          "1260 Live Chum",
          "1260 Live Chum",
          "1260 Live Chum",
          "1225 Live Chum",
          "1225 Live Chum",
          "1225 Live Chum",
          "1225 Live Chum",
          "1225 Live Chum",
          "1225 Live Chum",
          "1225 Live Chum",
          "1250 Live Chum",
          "1250 Live Chum",
          "1250 Live Chum",
          "1250 Live Chum",
          "1250 Live Chum",
          "1200 Live Chum",
          "1200 Live Chum",
          "1200 Live Chum",
          "1200 Live Chum",
          "1200 Live Chum",
          "1200 Live Chum",
          "1200 Live Chum",
          "1200 Live Chum",
          "1200 Live Chum",
          "1200 Live Chum",
          "1200 Live Chum",
          "1150 Live Chum",
          "1150 Live Chum",
          "1150 Live Chum",
          "1150 Live Chum",
          "1150 Live Chum",
          "1150 Live Chum",
          "1100 Live Chum",
          "1100 Live Chum",
          "1100 Live Chum",
          "1100 Live Chum",
          "1100 Live Chum",
          "1075 Live Chum",
          "1075 Live Chum",
          "1075 Live Chum",
          "1050 Live Chum",
          "1050 Live Chum",
          "1050 Live Chum",
          "1050 Live Chum",
          "1050 Live Chum",
          "1050 Live Chum",
          "1050 Live Chum",
          "1050 Live Chum",
          "1050 Live Chum",
          "1025 Live Chum",
          "1025 Live Chum",
          "1000 Live Chum",
          "950 Live Chum",
          "950 Live Chum",
          "950 Live Chum",
          "925 Live Chum",
          "925 Live Chum",
          "900 Live Chum",
          "900 Live Chum",
          "900 Live Chum",
          "900 Live Chum",
          "875 Live Chum",
          "875 Live Chum",
          "0 Live Chum",
          "850 Live Chum",
          "850 Live Chum",
          "0 Live Chum",
          "805 Live Chum",
          "705 Live Chum",
          "705 Live Chum",
          "705 Live Chum",
          "705 Live Chum",
          "705 Live Chum",
          "665 Live Chum",
          "650 Live Chum",
          "650 Live Chum",
          "625 Live Chum",
          "625 Live Chum",
          "560 Live Chum",
          "560 Live Chum",
          "560 Live Chum",
          "550 Live Chum",
          "525 Live Chum",
          "525 Live Chum",
          "550 Live Chum",
          "465 Live Chum",
          "450 Live Chum",
          "450 Live Chum",
          "460 Live Chum",
          "460 Live Chum",
          "440 Live Chum",
          "440 Live Chum",
          "440 Live Chum",
          "315 Live Chum",
          "300 Live Chum",
          "200 Live Chum",
          "100 Live Chum",
          "0 Live Chum",
          "0 Live Chum",
          "0 Live Chum",
          "595 Live Resident Cutthroat",
          "570 Live Chum",
          "570 Live Chum",
          "570 Live Chum",
          "570 Live Chum",
          "550 Live Chum",
          "550 Live Chum",
          "550 Live Chum",
          "550 Live Chum",
          "540 Live Chum",
          "540 Live Chum",
          "530 Live Chum",
          "530 Live Chum",
          "530 Live Chum",
          "530 Live Chum",
          "530 Live Chum",
          "530 Live Chum",
          "530 Live Chum",
          "530 Live Chum",
          "680 Live Chum",
          "655 Live Chum",
          "450 Live Chum",
          "450 Live Chum",
          "450 Live Chum",
          "450 Live Chum",
          "450 Live Chum",
          "430 Live Chum",
          "425 Live Chum",
          "400 Live Chum",
          "475 Live Chum",
          "395 Live Chum",
          "395 Live Chum",
          "395 Live Chum",
          "395 Live Chum",
          "25 Live Chum",
          "375 Live Chum",
          "20 Live Chum",
          "375 Live Chum",
          "355 Live Chum",
          "2011 Live Chum",
          "355 Live Chum",
          "2011 Live Chum",
          "355 Live Chum",
          "2011 Live Chum",
          "355 Live Chum",
          "2011 Live Chum",
          "355 Live Chum",
          "2011 Live Chum",
          "2011 Live Chum",
          "355 Live Chum",
          "2011 Live Chum",
          "355 Live Chum",
          "2011 Live Chum",
          "355 Live Chum",
          "2011 Live Chum",
          "355 Live Chum",
          "2011 Live Chum",
          "355 Live Chum",
          "2011 Live Chum",
          "2011 Live Chum",
          "355 Live Chum",
          "2011 Live Chum",
          "2011 Live Chum",
          "355 Live Chum",
          "2011 Live Chum",
          "2011 Live Chum",
          "340 Live Chum",
          "2011 Live Chum",
          "2011 Live Chum",
          "2011 Live Chum",
          "2011 Live Chum",
          "2011 Live Chum",
          "2011 Live Chum",
          "310 Live Chum",
          "310 Live Chum",
          "310 Live Chum",
          "270 Live Chum",
          "1990 Live Chum",
          "255 Live Chum",
          "1990 Live Chum",
          "1990 Live Chum",
          "255 Live Chum",
          "1990 Live Chum",
          "1990 Live Chum",
          "1990 Live Chum",
          "175 Live Chum",
          "175 Live Chum",
          "165 Live Chum",
          "135 Live Chum",
          "160 Live Chum",
          "160 Live Chum",
          "160 Live Chum",
          "160 Live Chum",
          "150 Live Chum",
          "1980 Live Chum",
          "1975 Live Chum",
          "1960 Live Chum",
          "1960 Live Chum",
          "1960 Live Chum",
          "1935 Live Chum",
          "1935 Live Chum",
          "1935 Live Chum",
          "1935 Live Chum",
          "1935 Live Chum",
          "1935 Live Chum",
          "1935 Live Chum",
          "1935 Live Chum",
          "1935 Live Chum",
          "75 Live Chum",
          "1935 Live Chum",
          "75 Live Chum",
          "1935 Live Chum",
          "75 Live Chum",
          "1935 Live Chum",
          "1935 Live Chum",
          "75 Live Chum",
          "1935 Live Chum",
          "1935 Live Chum",
          "75 Live Chum",
          "1935 Live Chum",
          "50 Live Chum",
          "1935 Live Chum",
          "50 Live Chum",
          "1935 Live Chum",
          "50 Live Chum",
          "1935 Live Chum",
          "1935 Live Chum",
          "1930 Live Chum",
          "50 Live Chum",
          "50 Live Chum",
          "35 Live Chum",
          "25 Live Chum",
          "25 Live Chum",
          "1910 Live Chum",
          "25 Live Chum",
          "1910 Live Chum",
          "1900 Live Chum",
          "1900 Live Chum",
          "1900 Live Chum",
          "1900 Live Chum",
          "1900 Live Chum",
          "1900 Live Chum",
          "1900 Live Chum",
          "1895 Live Chum",
          "1895 Live Chum",
          "1895 Live Chum",
          "1895 Live Chum",
          "1895 Live Chum",
          "1880 Live Chum",
          "1880 Live Chum",
          "1880 Live Chum",
          "1880 Live Chum",
          "1880 Live Chum",
          "1880 Live Chum",
          "1880 Live Chum",
          "1880 Live Chum",
          "1880 Live Chum",
          "1875 Live Chum",
          "1870 Live Chum",
          "1865 Live Chum",
          "1865 Live Chum",
          "1865 Live Chum",
          "1865 Live Chum",
          "1865 Live Chum",
          "1865 Live Chum",
          "1865 Live Chum",
          "1865 Live Chum",
          "1860 Live Chum",
          "1860 Live Chum",
          "1860 Live Chum",
          "1860 Live Chum",
          "1860 Live Chum",
          "1860 Live Chum",
          "1860 Live Chum",
          "1860 Live Chum",
          "1860 Live Chum",
          "1825 Live Chum",
          "1825 Live Chum",
          "1825 Live Chum",
          "1825 Live Chum",
          "1825 Live Chum",
          "1825 Live Chum",
          "1825 Live Chum",
          "1825 Live Chum",
          "1825 Live Chum",
          "1810 Live Chum",
          "1810 Live Chum",
          "1810 Live Chum",
          "1810 Live Chum",
          "1810 Live Chum",
          "1810 Live Chum",
          "1810 Live Chum",
          "1810 Live Chum",
          "1810 Live Chum",
          "1810 Live Chum",
          "1805 Live Chum",
          "1805 Live Chum",
          "1805 Live Chum",
          "1790 Live Chum",
          "1785 Live Chum",
          "1785 Live Chum",
          "1780 Live Chum",
          "1780 Live Chum",
          "1780 Live Chum",
          "1780 Live Chum",
          "1780 Live Chum",
          "1780 Live Chum",
          "1780 Live Chum",
          "1780 Live Chum",
          "1780 Live Chum",
          "1780 Live Chum",
          "1765 Live Chum",
          "1765 Live Chum",
          "1760 Live Chum",
          "1760 Live Chum",
          "1760 Live Chum",
          "1760 Live Chum",
          "1755 Live Chum",
          "1755 Live Chum",
          "1755 Live Chum",
          "1755 Live Chum",
          "1755 Live Chum",
          "1750 Live Chum",
          "1750 Live Chum",
          "1747 Live Chum",
          "1735 Live Chum",
          "1725 Live Chum",
          "1715 Live Chum",
          "1710 Live Chum",
          "1670 Live Chum",
          "1625 Live Chum",
          "1620 Live Chum",
          "1610 Live Chum",
          "1610 Live Chum",
          "1570 Live Chum",
          "1555 Live Chum",
          "1555 Live Chum",
          "1550 Live Chum",
          "1550 Live Chum",
          "1540 Live Chum",
          "1530 Live Chum",
          "1530 Live Chum",
          "1468 Live Chum",
          "1465 Live Chum",
          "1425 Live Chum",
          "1420 Live Chum",
          "1410 Live Chum",
          "1400 Live Chum",
          "1370 Live Chum",
          "1365 Live Chum",
          "1325 Live Chum",
          "1315 Live Chum",
          "1295 Live Chum",
          "1270 Live Chum",
          "1240 Live Chum",
          "1240 Live Chum",
          "1235 Live Chum",
          "1205 Live Chum",
          "1180 Live Chum",
          "1155 Live Chum",
          "1147 Live Chum",
          "1135 Live Chum",
          "1100 Live Chum",
          "1080 Live Chum",
          "1080 Live Chum",
          "1080 Live Chum",
          "1080 Live Chum",
          "1080 Live Chum",
          "1070 Live Chum",
          "1070 Live Chum",
          "1070 Live Chum",
          "1070 Live Chum",
          "1060 Live Chum",
          "1055 Live Chum",
          "1050 Live Chum",
          "1050 Live Chum",
          "1025 Live Chum",
          "1025 Live Chum",
          "1025 Live Chum",
          "1015 Live Chum",
          "1015 Live Chum",
          "990 Live Chum",
          "980 Live Chum",
          "980 Live Chum",
          "980 Live Chum",
          "980 Live Chum",
          "975 Live Chum",
          "960 Live Chum",
          "960 Live Chum",
          "960 Live Chum",
          "960 Live Chum",
          "950 Live Chum",
          "920 Live Chum",
          "920 Live Chum",
          "875 Live Chum",
          "875 Live Chum",
          "850 Live Chum",
          "805 Live Chum",
          "795 Live Chum",
          "795 Live Chum",
          "795 Live Chum",
          "795 Live Chum",
          "785 Live Chum",
          "785 Live Chum",
          "785 Live Chum",
          "780 Live Chum",
          "770 Live Chum",
          "735 Live Chum",
          "735 Live Chum",
          "735 Live Chum",
          "735 Live Chum",
          "735 Live Chum",
          "735 Live Chum",
          "735 Live Chum",
          "725 Live Chum",
          "710 Live Chum",
          "710 Live Chum",
          "700 Live Chum",
          "625 Live Chum",
          "600 Live Chum",
          "590 Live Chum",
          "580 Live Chum",
          "580 Live Chum",
          "580 Live Chum",
          "580 Live Chum",
          "580 Live Chum",
          "580 Live Chum",
          "550 Live Chum",
          "550 Live Chum",
          "550 Live Chum",
          "470 Live Chum",
          "475 Live Chum",
          "450 Live Chum",
          "450 Live Chum",
          "420 Live Chum",
          "400 Live Chum",
          "350 Live Chum",
          "325 Live Chum",
          "250 Live Chum",
          "206 Live Chum",
          "0 Live Chum",
          "0 Live Chum",
          "0 Live Chum",
          "0 Live Chum",
          "2010 Live Coho",
          "100 Live Chum",
          "2000 Live Chum",
          "2000 Live Resident Cutthroat",
          "1960 Live Chum",
          "1950 Live Chum",
          "1900 Live Chum",
          "1875 Live Chum",
          "1850 Live Chum",
          "1780 Live Chum",
          "1700 Live Chum",
          "1675 Live Chum",
          "1620 Live Chum",
          "1610 Live Chum",
          "1450 Live Chum",
          "1450 Live Chum",
          "1475 Live Chum",
          "1450 Live Chum",
          "1450 Live Chum",
          "1400 Live Chum",
          "1350 Live Chum",
          "1250 Live Chum",
          "1210 Live Chum",
          "1155 Live Chum",
          "1125 Live Chum",
          "1100 Live Chum",
          "1060 Live Chum",
          "1050 Live Chum",
          "600 Live Unknown",
          "600 Live Chum",
          "565 Live Chum",
          "425 Live Chum",
          "425 Live Chum",
          "415 Live Chum",
          "415 Live Chum",
          "350 Live Chum",
          "0 Live Chum",
          "0 Live Unknown",
          "0 Live Unknown",
          "525 Live Chum",
          "100 Live Chum",
          "10 Live Unknown",
          "2000 Live Chum",
          "1910 Live Unknown",
          "1910 Live Chum",
          "1908 Live Chum",
          "1900 Live Chum",
          "1875 Live Chum",
          "1800 Live Chum",
          "1750 Live Chum",
          "1700 Live Coho",
          "1650 Live Chum",
          "1650 Live Chum",
          "1600 Live Chum",
          "1605 Live Chum",
          "1605 Live Chum",
          "1600 Live Chum",
          "1500 Live Chum",
          "1500 Live Chum",
          "1500 Live Chum",
          "1405 Live Chum",
          "1405 Live Chum",
          "1400 Live Unknown",
          "1375 Live Chum",
          "1375 Live Chum",
          "1245 Live Chum",
          "1210 Live Chum",
          "1210 Live Chum",
          "1200 Live Chum",
          "1200 Live Chum",
          "1200 Live Chum",
          "1150 Live Chum",
          "1150 Live Chum",
          "1150 Live Chum",
          "1060 Live Chum",
          "1060 Live Chum",
          "1060 Live Chum",
          "1060 Live Chum",
          "950 Live Chum",
          "950 Live Chum",
          "705 Live Unknown",
          "705 Live Unknown",
          "600 Live Unknown",
          "600 Live Unknown",
          "600 Live Chum",
          "550 Live Chum",
          "Live Chum",
          "375 Live Unknown",
          "400 Live Chum",
          "300 Live Chum",
          "300 Live Chum",
          "250 Live Unknown",
          "1695 Live Coho",
          "1470 Live Unknown",
          "1125 Live Chum",
          "980 Live Chum",
          "815 Live Chum",
          "815 Live Chum",
          "945 Live Chum",
          "945 Live Chum",
          "945 Live Chum",
          "715 Live Chum",
          "715 Live Chum",
          "715 Live Chum",
          "695 Live Chum",
          "415 Live Chum",
          "410 Live Chum",
          "410 Live Chum",
          "375 Live Chum",
          "345 Live Chum",
          "300 Live Chum",
          "70 Live Coho",
          "50 Live Chum",
          "0 Live Coho",
          "0 Live Chum",
          "0 Live Chum",
          "0 Live Chum",
          "0 Live Chum",
          "0 Live Chum",
          "0 Live Chum",
          "0 Live Chum",
          "0 Live Chum"
         ],
         "lat": [
          47.710872,
          47.710932,
          47.710958,
          47.711116,
          47.71118,
          47.711156,
          47.71116,
          47.711152,
          47.711042,
          47.711132,
          47.711518,
          47.712168,
          47.711572,
          47.710983,
          47.710942,
          47.710807,
          47.710789,
          47.710836,
          47.71081,
          47.710795,
          47.710776,
          47.71081,
          47.710808,
          47.710884,
          47.710927,
          47.710884,
          47.71094,
          47.710967,
          47.711142,
          47.71126,
          47.71118,
          47.711168,
          47.711165,
          47.71125,
          47.711146,
          47.711159,
          47.711066,
          47.711204,
          47.711276,
          47.711126,
          47.711009,
          47.711181,
          47.711178,
          47.711171,
          47.711061,
          47.711373,
          47.711363,
          47.711435,
          47.711492,
          47.711666,
          47.71231,
          47.712339,
          47.712141,
          47.711953,
          47.712365,
          47.711779,
          47.711567,
          47.711569,
          47.711542,
          47.711385,
          47.711387,
          47.711391,
          47.710659,
          47.710651,
          47.710652,
          47.710654,
          47.710649,
          47.710645,
          47.710614,
          47.710613,
          47.710611,
          47.710902,
          47.7109,
          47.7109,
          47.710879,
          47.710878,
          47.710877,
          47.710897,
          47.71088,
          47.710746,
          47.710829,
          47.710831,
          47.710835,
          47.710846,
          47.711019,
          47.711025,
          47.711028,
          47.711034,
          47.711053,
          47.711023,
          47.711047,
          47.711045,
          47.711071,
          47.71106,
          47.711067,
          47.71106,
          47.711066,
          47.711173,
          47.711145,
          47.711153,
          47.711169,
          47.711189,
          47.711197,
          47.711224,
          47.711193,
          47.711249,
          47.711582,
          47.711173,
          47.711292,
          47.711394,
          47.711523,
          47.7115,
          47.7115,
          47.711177,
          47.711486,
          47.711478,
          47.711501,
          47.711642,
          47.711629,
          47.71159,
          47.711222,
          47.7113,
          47.7115,
          47.71179,
          47.711597,
          47.712126,
          47.71221,
          47.71221,
          47.712255,
          47.711779,
          47.712056,
          47.71199,
          47.712035,
          47.7119,
          47.711901,
          47.711858,
          47.711824,
          47.711784,
          47.712043,
          47.711749,
          47.711749,
          47.711749,
          47.711722,
          47.71181,
          47.71181,
          47.7118,
          47.711754,
          47.711867,
          47.711668,
          47.711634,
          47.711342,
          47.711588,
          47.711632,
          47.711601,
          47.711601,
          47.711601,
          47.711622,
          47.711622,
          47.711571,
          47.711569,
          47.711569,
          47.711634,
          47.711634,
          47.711465,
          47.711507,
          47.711507,
          47.711472,
          47.711408,
          47.711537,
          47.711279,
          47.711178,
          47.711163,
          47.711116,
          47.711116,
          47.711018,
          47.710693,
          47.711054,
          47.711013,
          47.71083,
          47.710853,
          47.710775,
          47.710658,
          47.710799,
          47.710778,
          47.71077,
          47.71078,
          47.710829,
          47.710926,
          47.710742,
          47.710998,
          47.710944,
          47.710752,
          47.710768,
          47.710993,
          47.710979,
          47.710877,
          47.710914,
          47.710925,
          47.710921,
          47.710893,
          47.710879,
          47.710922,
          47.710939,
          47.710942,
          47.711066,
          47.710922,
          47.71091,
          47.710976,
          47.710976,
          47.711233,
          47.710977,
          47.710977,
          47.710893,
          47.710927,
          47.710849,
          47.710816,
          47.710822,
          47.710863,
          47.710904,
          47.710824,
          47.710658,
          47.710837,
          47.711184,
          47.711264,
          47.71143,
          47.711494,
          47.711101,
          47.711205,
          47.711205,
          47.71122,
          47.71122,
          47.711148,
          47.711143,
          47.711234,
          47.711251,
          47.711258,
          47.711232,
          47.711267,
          47.711211,
          47.711103,
          47.711103,
          47.711103,
          47.711099,
          47.711086,
          47.711103,
          47.711583,
          47.711093,
          47.711045,
          47.711002,
          47.711002,
          47.710985,
          47.710951,
          47.710951,
          47.710951,
          47.710951,
          47.711181,
          47.711063,
          47.711063,
          47.711127,
          47.711128,
          47.711122,
          47.711122,
          47.7111,
          47.711176,
          47.711204,
          47.711186,
          47.711161,
          47.711118,
          47.711292,
          47.711093,
          47.711093,
          47.711325,
          47.711325,
          47.711325,
          47.711272,
          47.711537,
          47.711236,
          47.711381,
          47.711317,
          47.711338,
          47.711377,
          47.711377,
          47.711377,
          47.711398,
          47.711024,
          47.711617,
          47.711072,
          47.711253,
          47.711133,
          47.711131,
          47.711162,
          47.710713,
          47.711131,
          47.711068,
          47.711073,
          47.711074,
          47.711074,
          47.710924,
          47.711036,
          47.71112,
          47.71112,
          47.71098,
          47.711289,
          47.711223,
          47.71126,
          47.71126,
          47.711195,
          47.711214,
          47.711084,
          47.711058,
          47.711058,
          47.711,
          47.710941,
          47.710905,
          47.711022,
          47.71109,
          47.711429,
          47.711218,
          47.711196,
          47.711236,
          47.711234,
          47.711206,
          47.711176,
          47.711461,
          47.711235,
          47.711235,
          47.711017,
          47.711205,
          47.711233,
          47.711191,
          47.710408,
          47.711236,
          47.711213,
          47.711231,
          47.711231,
          47.711231,
          47.711231,
          47.711253,
          47.711222,
          47.711232,
          47.711224,
          47.711224,
          47.711224,
          47.711224,
          47.711224,
          47.7113,
          47.711256,
          47.711153,
          47.711363,
          47.711268,
          47.711221,
          47.711235,
          47.711396,
          47.711263,
          47.71147,
          47.711218,
          47.711218,
          47.711218,
          47.711218,
          47.71129,
          47.71113,
          47.711418,
          47.711394,
          47.711394,
          47.711353,
          47.711383,
          47.711383,
          47.711383,
          47.711276,
          47.711442,
          47.71145,
          47.711538,
          47.711584,
          47.71159,
          47.711554,
          47.71159,
          47.711587,
          47.711734,
          47.711734,
          47.711492,
          47.711726,
          47.711671,
          47.712241,
          47.712177,
          47.712365,
          47.712337,
          47.712142,
          47.712122,
          47.712243,
          47.712304,
          47.712135,
          47.712215,
          47.712345,
          47.712379,
          47.712305,
          47.71215,
          47.712032,
          47.712191,
          47.712173,
          47.712087,
          47.712069,
          47.712082,
          47.712031,
          47.712052,
          47.712038,
          47.712056,
          47.711982,
          47.711964,
          47.711947,
          47.711876,
          47.711824,
          47.711824,
          47.711998,
          47.712,
          47.711851,
          47.711829,
          47.711792,
          47.711896,
          47.711847,
          47.71188,
          47.711872,
          47.711813,
          47.711819,
          47.7119,
          47.711852,
          47.71182,
          47.711863,
          47.711732,
          47.71167,
          47.711696,
          47.711655,
          47.71165,
          47.711711,
          47.711715,
          47.711774,
          47.711941,
          47.711995,
          47.711737,
          47.711743,
          47.711642,
          47.711684,
          47.711631,
          47.711755,
          47.711749,
          47.711661,
          47.711648,
          47.711699,
          47.711674,
          47.711584,
          47.711549,
          47.711576,
          47.711625,
          47.711631,
          47.711616,
          47.711689,
          47.711814,
          47.711785,
          47.711623,
          47.711612,
          47.71163,
          47.711652,
          47.711573,
          47.71164,
          47.71173,
          47.711627,
          47.711625,
          47.711526,
          47.711512,
          47.711548,
          47.711539,
          47.711541,
          47.711536,
          47.711519,
          47.711296,
          47.711356,
          47.711335,
          47.711382,
          47.711421,
          47.711383,
          47.711502,
          47.711282,
          47.711222,
          47.711189,
          47.71122,
          47.711216,
          47.711194,
          47.711228,
          47.710921,
          47.710975,
          47.710919,
          47.711059,
          47.710937,
          47.710873,
          47.710905,
          47.710853,
          47.710727,
          47.710807,
          47.710855,
          47.710845,
          47.710875,
          47.710902,
          47.710945,
          47.710899,
          47.710813,
          47.710877,
          47.710849,
          47.710835,
          47.710846,
          47.710781,
          47.710797,
          47.710817,
          47.710857,
          47.710824,
          47.710867,
          47.710684,
          47.711019,
          47.710972,
          47.710956,
          47.711022,
          47.710973,
          47.710974,
          47.710975,
          47.711005,
          47.710996,
          47.710969,
          47.710884,
          47.710826,
          47.7108,
          47.710925,
          47.711163,
          47.710847,
          47.710833,
          47.710869,
          47.710968,
          47.710965,
          47.710976,
          47.710842,
          47.710881,
          47.710923,
          47.710924,
          47.710921,
          47.710925,
          47.710925,
          47.710879,
          47.710873,
          47.71086,
          47.710905,
          47.710976,
          47.710983,
          47.710915,
          47.71093,
          47.710895,
          47.71099,
          47.711106,
          47.710908,
          47.710918,
          47.710974,
          47.711056,
          47.710951,
          47.710965,
          47.710897,
          47.71093,
          47.710926,
          47.710843,
          47.710835,
          47.710859,
          47.711027,
          47.711004,
          47.710974,
          47.710974,
          47.71105,
          47.711084,
          47.711034,
          47.711004,
          47.711063,
          47.711129,
          47.711097,
          47.711095,
          47.711102,
          47.711069,
          47.711108,
          47.711178,
          47.711236,
          47.711163,
          47.711215,
          47.711152,
          47.711181,
          47.711233,
          47.711257,
          47.711228,
          47.711245,
          47.71119,
          47.711165,
          47.711172,
          47.711095,
          47.711196,
          47.711209,
          47.711168,
          47.711114,
          47.711124,
          47.711276,
          47.71128,
          47.71126,
          47.711321,
          47.711158,
          47.7112,
          47.710915,
          47.711201,
          47.711182,
          47.711121,
          47.711141,
          47.711085,
          47.711054,
          47.71102,
          47.711214,
          47.711182,
          47.711215,
          47.711206,
          47.711145,
          47.711126,
          47.711075,
          47.71107,
          47.711039,
          47.711037,
          47.711061,
          47.711021,
          47.710878,
          47.710845,
          47.711011,
          47.711228,
          47.711146,
          47.711202,
          47.711222,
          47.711146,
          47.711198,
          47.71113,
          47.711045,
          47.711068,
          47.711272,
          47.711259,
          47.711203,
          47.711241,
          47.71121,
          47.711231,
          47.711235,
          47.711207,
          47.711158,
          47.71113,
          47.711094,
          47.711116,
          47.71114,
          47.711289,
          47.711227,
          47.711205,
          47.711233,
          47.711262,
          47.711244,
          47.711316,
          47.711228,
          47.711086,
          47.711348,
          47.711222,
          47.711234,
          47.711166,
          47.711132,
          47.711103,
          47.711094,
          47.711086,
          47.711263,
          47.711269,
          47.711285,
          47.71119,
          47.711104,
          47.711183,
          47.711174,
          47.711242,
          47.711291,
          47.711263,
          47.71113,
          47.711068,
          47.711046,
          47.710999,
          47.711111,
          47.711026,
          47.71134,
          47.711308,
          47.711278,
          47.71124,
          47.711281,
          47.711267,
          47.711233,
          47.711227,
          47.711235,
          47.711446,
          47.711488,
          47.711384,
          47.711372,
          47.711353,
          47.711325,
          47.711391,
          47.711303,
          47.711264,
          47.711151,
          47.71112,
          47.711138,
          47.71113,
          47.711143,
          47.711114,
          47.711133,
          47.711263,
          47.711217,
          47.711266,
          47.711217,
          47.711221,
          47.711332,
          47.711243,
          47.711266,
          47.711177,
          47.711237,
          47.711343,
          47.711133,
          47.711195,
          47.711189,
          47.711276,
          47.711174,
          47.711245,
          47.711242,
          47.711292,
          47.711232,
          47.711259,
          47.711218,
          47.711247,
          47.711292,
          47.711339,
          47.711353,
          47.711336,
          47.711358,
          47.711439,
          47.711412,
          47.71141,
          47.711364,
          47.711447,
          47.711389,
          47.711288,
          47.711187,
          47.711185,
          47.711252,
          47.711276,
          47.71123,
          47.711254,
          47.71125,
          47.711332,
          47.711384,
          47.711417,
          47.711405,
          47.711366,
          47.711367,
          47.711413,
          47.711349,
          47.711419,
          47.711397,
          47.711478,
          47.711458,
          47.711492,
          47.711419,
          47.711402,
          47.711439,
          47.711345,
          47.711365,
          47.71132,
          47.711352,
          47.711166,
          47.711276,
          47.711339,
          47.71136,
          47.711464,
          47.711496,
          47.711372,
          47.71134,
          47.711381,
          47.711427,
          47.711425,
          47.711421,
          47.711362,
          47.711258,
          47.711311,
          47.711376,
          47.711345,
          47.711448,
          47.711453,
          47.711495,
          47.711402,
          47.711393,
          47.711495,
          47.7114,
          47.711413,
          47.71147,
          47.711455,
          47.711396,
          47.711518,
          47.711504,
          47.71149,
          47.711741,
          47.711509,
          47.711477,
          47.711488,
          47.711578,
          47.711524,
          47.711587,
          47.711598,
          47.7115,
          47.71162,
          47.71183,
          47.711861,
          47.711861,
          47.711881,
          47.711847,
          47.711896,
          47.711893,
          47.711708,
          47.712195,
          47.712295,
          47.712266,
          47.712268,
          47.712194,
          47.712112,
          47.712099,
          47.712106,
          47.712214,
          47.712141,
          47.712112,
          47.71214,
          47.712052,
          47.712214,
          47.712099,
          47.71205,
          47.712031,
          47.712007,
          47.712034,
          47.712093,
          47.712089,
          47.712086,
          47.712161,
          47.711972,
          47.711903,
          47.711958,
          47.711877,
          47.711939,
          47.712074,
          47.712079,
          47.71195,
          47.71194,
          47.711944,
          47.711956,
          47.711923,
          47.711933,
          47.711901,
          47.711881,
          47.711814,
          47.711712,
          47.711941,
          47.711806,
          47.711816,
          47.71182,
          47.711739,
          47.711869,
          47.711841,
          47.711819,
          47.711809,
          47.711769,
          47.711916,
          47.711737,
          47.711767,
          47.71158,
          47.711763,
          47.711555,
          47.711787,
          47.711554,
          47.711758,
          47.711621,
          47.711774,
          47.711658,
          47.711734,
          47.711587,
          47.711491,
          47.711823,
          47.711887,
          47.711908,
          47.711908,
          47.711662,
          47.711655,
          47.711678,
          47.711736,
          47.711734,
          47.711717,
          47.711654,
          47.711675,
          47.711535,
          47.711651,
          47.711546,
          47.711678,
          47.711549,
          47.711432,
          47.711663,
          47.711446,
          47.711762,
          47.711533,
          47.711676,
          47.711479,
          47.711666,
          47.711621,
          47.711559,
          47.711467,
          47.711482,
          47.711476,
          47.711486,
          47.711555,
          47.711487,
          47.711581,
          47.711487,
          47.711567,
          47.711487,
          47.711504,
          47.711501,
          47.711518,
          47.711555,
          47.711492,
          47.711168,
          47.71118,
          47.711201,
          47.711277,
          47.711206,
          47.711317,
          47.711095,
          47.711383,
          47.711129,
          47.710953,
          47.711152,
          47.711115,
          47.711084,
          47.711129,
          47.711,
          47.711013,
          47.710978,
          47.711186,
          47.71095,
          47.711035,
          47.711161,
          47.711082,
          47.711116,
          47.710859,
          47.710861,
          47.710881,
          47.710921,
          47.710945,
          47.710821,
          47.710939,
          47.710973,
          47.710935,
          47.710848,
          47.710863,
          47.710826,
          47.710799,
          47.71082,
          47.710844,
          47.710884,
          47.71094,
          47.710893,
          47.710878,
          47.710823,
          47.710885,
          47.710912,
          47.710929,
          47.710892,
          47.710892,
          47.710892,
          47.710846,
          47.71088,
          47.71088,
          47.710915,
          47.710877,
          47.710975,
          47.710891,
          47.710999,
          47.710946,
          47.710952,
          47.710907,
          47.710952,
          47.710989,
          47.710981,
          47.710945,
          47.710907,
          47.710904,
          47.71086,
          47.710817,
          47.710834,
          47.710849,
          47.710953,
          47.710919,
          47.710915,
          47.710767,
          47.710628,
          47.71105,
          47.711073,
          47.710982,
          47.711082,
          47.710968,
          47.710906,
          47.711033,
          47.710893,
          47.711126,
          47.710984,
          47.710924,
          47.710975,
          47.710968,
          47.711023,
          47.710912,
          47.710938,
          47.710917,
          47.710827,
          47.710878,
          47.710871,
          47.710881,
          47.710886,
          47.710919,
          47.710906,
          47.710908,
          47.710887,
          47.710915,
          47.710892,
          47.710929,
          47.710916,
          47.710956,
          47.710862,
          47.710926,
          47.710833,
          47.710899,
          47.710764,
          47.710843,
          47.710835,
          47.710814,
          47.710879,
          47.711035,
          47.711016,
          47.710958,
          47.710958,
          47.710963,
          47.710963,
          47.710872,
          47.711215,
          47.711044,
          47.710912,
          47.710989,
          47.710952,
          47.710972,
          47.711047,
          47.710972,
          47.711014,
          47.710938,
          47.711056,
          47.710953,
          47.711092,
          47.710942,
          47.711046,
          47.711004,
          47.711072,
          47.71096,
          47.71101,
          47.711087,
          47.711021,
          47.711091,
          47.711074,
          47.71106,
          47.711041,
          47.710997,
          47.710981,
          47.710944,
          47.711245,
          47.7112,
          47.711153,
          47.711257,
          47.711129,
          47.711243,
          47.711123,
          47.711171,
          47.711286,
          47.711145,
          47.711095,
          47.711063,
          47.711086,
          47.711059,
          47.711035,
          47.711095,
          47.710986,
          47.711144,
          47.711018,
          47.711041,
          47.711085,
          47.710987,
          47.711031,
          47.710999,
          47.711104,
          47.71099,
          47.710949,
          47.711026,
          47.711026,
          47.711101,
          47.711113,
          47.711135,
          47.711104,
          47.711118,
          47.711127,
          47.711115,
          47.711101,
          47.711107,
          47.711072,
          47.711171,
          47.711138,
          47.711102,
          47.711096,
          47.711229,
          47.711154,
          47.711141,
          47.711099,
          47.711153,
          47.711044,
          47.711114,
          47.711073,
          47.711096,
          47.711108,
          47.711075,
          47.711108,
          47.711109,
          47.711095,
          47.711128,
          47.711096,
          47.711117,
          47.710945,
          47.711234,
          47.711269,
          47.711443,
          47.71149,
          47.71156,
          47.711531,
          47.711382,
          47.711395,
          47.711344,
          47.711339,
          47.711471,
          47.711346,
          47.711412,
          47.711371,
          47.71133,
          47.711338,
          47.711227,
          47.711091,
          47.711072,
          47.711109,
          47.711073,
          47.711172,
          47.711196,
          47.711204,
          47.711235,
          47.711118,
          47.711272,
          47.711235,
          47.711216,
          47.711194,
          47.711197,
          47.711262,
          47.711224,
          47.711298,
          47.711287,
          47.711245,
          47.711211,
          47.711182,
          47.711162,
          47.711011,
          47.711208,
          47.7112,
          47.711192,
          47.711187,
          47.711188,
          47.711189,
          47.711194,
          47.711203,
          47.711224,
          47.711259,
          47.71131,
          47.711304,
          47.711354,
          47.711332,
          47.711324,
          47.711244,
          47.71122,
          47.711212,
          47.711241,
          47.711212,
          47.711229,
          47.711199,
          47.7112,
          47.711234,
          47.711176,
          47.711187,
          47.711035,
          47.71095,
          47.711244,
          47.711296,
          47.711216,
          47.711384,
          47.711281,
          47.711257,
          47.711284,
          47.711346,
          47.71127,
          47.711326,
          47.711271,
          47.711262,
          47.711268,
          47.711147,
          47.711245,
          47.711157,
          47.71126,
          47.711134,
          47.711277,
          47.711159,
          47.711218,
          47.711136,
          47.711197,
          47.711351,
          47.711322,
          47.711321,
          47.711205,
          47.711317,
          47.711248,
          47.711695,
          47.711647,
          47.711436,
          47.711645,
          47.711709,
          47.711474,
          47.711614,
          47.711472,
          47.711416,
          47.711446,
          47.711247,
          47.711479,
          47.711303,
          47.711473,
          47.711498,
          47.711501,
          47.71154,
          47.711396,
          47.711381,
          47.711396,
          47.711428,
          47.711418,
          47.711444,
          47.711426,
          47.71147,
          47.711318,
          47.711331,
          47.711358,
          47.711344,
          47.711422,
          47.711356,
          47.711933,
          47.711309,
          47.71126,
          47.711925,
          47.711536,
          47.711654,
          47.711571,
          47.711495,
          47.711599,
          47.711515,
          47.711407,
          47.711487,
          47.711426,
          47.711515,
          47.711441,
          47.711621,
          47.711599,
          47.711552,
          47.711476,
          47.711488,
          47.71156,
          47.711521,
          47.711526,
          47.711558,
          47.711507,
          47.711511,
          47.711578,
          47.711537,
          47.711509,
          47.711596,
          47.711571,
          47.711636,
          47.711514,
          47.711673,
          47.711851,
          47.711952,
          47.711942,
          47.712097,
          47.712063,
          47.712083,
          47.712017,
          47.712026,
          47.712026,
          47.71202,
          47.71202,
          47.712035,
          47.711955,
          47.712008,
          47.71189,
          47.711891,
          47.711809,
          47.711875,
          47.711876,
          47.711929,
          47.711928,
          47.712,
          47.712175,
          47.712021,
          47.7118,
          47.711734,
          47.711748,
          47.71173,
          47.711763,
          47.711767,
          47.711819,
          47.711662,
          47.711907,
          47.711721,
          47.711736,
          47.71171,
          47.711708,
          47.710998,
          47.711732,
          47.710892,
          47.711715,
          47.711673,
          47.71084,
          47.711654,
          47.71082,
          47.711607,
          47.710821,
          47.711621,
          47.710864,
          47.711603,
          47.710871,
          47.710879,
          47.711606,
          47.710831,
          47.711572,
          47.710756,
          47.711582,
          47.710723,
          47.711586,
          47.710698,
          47.711564,
          47.71064,
          47.71066,
          47.711586,
          47.710691,
          47.710705,
          47.711633,
          47.710722,
          47.710707,
          47.711604,
          47.710743,
          47.710861,
          47.710812,
          47.710809,
          47.710799,
          47.710817,
          47.711535,
          47.71156,
          47.711566,
          47.711501,
          47.710749,
          47.711526,
          47.710722,
          47.710749,
          47.711528,
          47.710787,
          47.710825,
          47.710885,
          47.711424,
          47.71147,
          47.711459,
          47.711463,
          47.711452,
          47.711424,
          47.71148,
          47.711517,
          47.711496,
          47.710781,
          47.71094,
          47.710785,
          47.710832,
          47.710817,
          47.710901,
          47.71092,
          47.710895,
          47.710897,
          47.710863,
          47.710847,
          47.710852,
          47.710922,
          47.710912,
          47.711162,
          47.710899,
          47.71115,
          47.710903,
          47.711174,
          47.710861,
          47.710882,
          47.711152,
          47.710868,
          47.710853,
          47.711168,
          47.710879,
          47.711169,
          47.710889,
          47.711165,
          47.710892,
          47.71115,
          47.710878,
          47.710898,
          47.710861,
          47.711172,
          47.711239,
          47.711091,
          47.711035,
          47.711028,
          47.710917,
          47.711008,
          47.710978,
          47.710877,
          47.710873,
          47.710902,
          47.710904,
          47.710938,
          47.710884,
          47.710975,
          47.710969,
          47.710983,
          47.710997,
          47.711007,
          47.710997,
          47.711012,
          47.710941,
          47.710959,
          47.710946,
          47.710948,
          47.71094,
          47.710872,
          47.710881,
          47.711032,
          47.710967,
          47.710989,
          47.710917,
          47.710911,
          47.710936,
          47.711,
          47.710982,
          47.710951,
          47.710996,
          47.710954,
          47.711004,
          47.71099,
          47.711017,
          47.710959,
          47.710959,
          47.710976,
          47.710957,
          47.710947,
          47.710966,
          47.711116,
          47.711153,
          47.711045,
          47.711027,
          47.710977,
          47.710948,
          47.710992,
          47.711093,
          47.711127,
          47.711164,
          47.711155,
          47.711158,
          47.711123,
          47.71111,
          47.711114,
          47.711105,
          47.711092,
          47.710969,
          47.710951,
          47.711258,
          47.711214,
          47.711235,
          47.711183,
          47.711144,
          47.711134,
          47.711126,
          47.71113,
          47.711159,
          47.71115,
          47.711156,
          47.711176,
          47.71119,
          47.711138,
          47.711218,
          47.711148,
          47.711123,
          47.711148,
          47.711149,
          47.711164,
          47.711207,
          47.711148,
          47.711111,
          47.711151,
          47.711197,
          47.711173,
          47.711069,
          47.711091,
          47.711465,
          47.711161,
          47.711092,
          47.711154,
          47.711131,
          47.710945,
          47.711162,
          47.711353,
          47.711294,
          47.71125,
          47.711216,
          47.711183,
          47.711169,
          47.711136,
          47.711195,
          47.711229,
          47.71116,
          47.7111,
          47.711227,
          47.711272,
          47.711316,
          47.711177,
          47.711269,
          47.711203,
          47.711235,
          47.711188,
          47.711332,
          47.711222,
          47.711249,
          47.711076,
          47.711191,
          47.711157,
          47.711193,
          47.711231,
          47.711212,
          47.71119,
          47.711243,
          47.711227,
          47.711362,
          47.711498,
          47.711546,
          47.711512,
          47.711414,
          47.711412,
          47.711391,
          47.711419,
          47.711382,
          47.711367,
          47.711399,
          47.711256,
          47.711419,
          47.711425,
          47.711444,
          47.711328,
          47.711341,
          47.711312,
          47.711431,
          47.7114,
          47.711415,
          47.711433,
          47.711331,
          47.711327,
          47.711373,
          47.711346,
          47.711408,
          47.711375,
          47.711361,
          47.711362,
          47.711441,
          47.711317,
          47.711268,
          47.71141,
          47.711372,
          47.711364,
          47.711406,
          47.711324,
          47.711342,
          47.711368,
          47.711377,
          47.711461,
          47.711405,
          47.711387,
          47.711424,
          47.711429,
          47.711447,
          47.711447,
          47.711436,
          47.711483,
          47.711509,
          47.711494,
          47.711519,
          47.711504,
          47.71142,
          47.71137,
          47.711464,
          47.711529,
          47.711461,
          47.711469,
          47.711483,
          47.711487,
          47.711503,
          47.711487,
          47.711483,
          47.711516,
          47.711572,
          47.711555,
          47.711612,
          47.711668,
          47.711711,
          47.711708,
          47.711605,
          47.711607,
          47.71164,
          47.711701,
          47.711717,
          47.711746,
          47.7118,
          47.711813,
          47.711818,
          47.711892,
          47.712102,
          47.710734,
          47.711175,
          47.710796,
          47.710799,
          47.710857,
          47.710874,
          47.710828,
          47.710883,
          47.710973,
          47.710922,
          47.71113,
          47.711112,
          47.711161,
          47.7112,
          47.711228,
          47.711161,
          47.711199,
          47.711239,
          47.711189,
          47.711317,
          47.711315,
          47.711244,
          47.711266,
          47.711317,
          47.711348,
          47.711378,
          47.7114,
          47.711416,
          47.711502,
          47.711495,
          47.71163,
          47.711636,
          47.71161,
          47.71161,
          47.711587,
          47.711711,
          47.711723,
          47.711968,
          47.711605,
          47.711927,
          47.711364,
          47.71113,
          47.710797,
          47.710951,
          47.710837,
          47.710974,
          47.71096,
          47.710968,
          47.71115,
          47.711149,
          47.711105,
          47.711217,
          47.711285,
          47.711243,
          47.71123,
          47.711262,
          47.711283,
          47.71113,
          47.711134,
          47.711159,
          47.711364,
          47.711219,
          47.711114,
          47.71124,
          47.711267,
          47.711116,
          47.711172,
          47.711136,
          47.711165,
          47.71121,
          47.711156,
          47.711362,
          47.711312,
          47.711424,
          47.711353,
          47.711377,
          47.711406,
          47.711451,
          47.711406,
          47.71139,
          47.711456,
          47.711473,
          47.71151,
          47.711561,
          47.711519,
          47.711633,
          47.711587,
          47.711641,
          47.711633,
          47.71171,
          47.71167,
          47.711699,
          47.711059,
          47.71135,
          47.711365,
          47.711442,
          47.711307,
          47.711333,
          47.711315,
          47.711344,
          47.711356,
          47.711448,
          47.711423,
          47.711612,
          47.711594,
          47.711618,
          47.711653,
          47.711597,
          47.711706,
          47.711703,
          47.711643,
          47.71181,
          47.711898,
          47.711836,
          47.711867,
          47.711822,
          47.711866,
          47.711855,
          47.711831,
          47.711824,
          47.711778,
          47.711845
         ],
         "legendgroup": "Live",
         "lon": [
          -122.371748,
          -122.371817,
          -122.371926,
          -122.371859,
          -122.372617,
          -122.372639,
          -122.373452,
          -122.373469,
          -122.374041,
          -122.374248,
          -122.375645,
          -122.370948,
          -122.371256,
          -122.371912,
          -122.372015,
          -122.371622,
          -122.371753,
          -122.371667,
          -122.371717,
          -122.371737,
          -122.371711,
          -122.371739,
          -122.3717,
          -122.371923,
          -122.371899,
          -122.371949,
          -122.371857,
          -122.371969,
          -122.372349,
          -122.372282,
          -122.372331,
          -122.372351,
          -122.372357,
          -122.372294,
          -122.372644,
          -122.372676,
          -122.372656,
          -122.372739,
          -122.372909,
          -122.373236,
          -122.37336,
          -122.373642,
          -122.374011,
          -122.373971,
          -122.374049,
          -122.375611,
          -122.376243,
          -122.376671,
          -122.376758,
          -122.378134,
          -122.37024,
          -122.370283,
          -122.370456,
          -122.370699,
          -122.371307,
          -122.371062,
          -122.371163,
          -122.371117,
          -122.371051,
          -122.371671,
          -122.371671,
          -122.371672,
          -122.371596,
          -122.371595,
          -122.371595,
          -122.371597,
          -122.37159,
          -122.371583,
          -122.371553,
          -122.371552,
          -122.371552,
          -122.371849,
          -122.371855,
          -122.371855,
          -122.371831,
          -122.371847,
          -122.371847,
          -122.371854,
          -122.371863,
          -122.371937,
          -122.372103,
          -122.372104,
          -122.372104,
          -122.372115,
          -122.372301,
          -122.372348,
          -122.372349,
          -122.372364,
          -122.372388,
          -122.37259,
          -122.37251,
          -122.372512,
          -122.372518,
          -122.372728,
          -122.372738,
          -122.372752,
          -122.372741,
          -122.373374,
          -122.373379,
          -122.373383,
          -122.373362,
          -122.373698,
          -122.373706,
          -122.373716,
          -122.373672,
          -122.37402,
          -122.374043,
          -122.374505,
          -122.374785,
          -122.374878,
          -122.375035,
          -122.376023,
          -122.376022,
          -122.375835,
          -122.376775,
          -122.376792,
          -122.37689,
          -122.377146,
          -122.377201,
          -122.377197,
          -122.373185,
          -122.374064,
          -122.375027,
          -122.378334,
          -122.379259,
          -122.370912,
          -122.370713,
          -122.370713,
          -122.370734,
          -122.369948,
          -122.370681,
          -122.370771,
          -122.370739,
          -122.370882,
          -122.370912,
          -122.370885,
          -122.370937,
          -122.371016,
          -122.371344,
          -122.37109,
          -122.37109,
          -122.37109,
          -122.371122,
          -122.37114,
          -122.37114,
          -122.371122,
          -122.371136,
          -122.370858,
          -122.371175,
          -122.37125,
          -122.371351,
          -122.371432,
          -122.371516,
          -122.371398,
          -122.371398,
          -122.371398,
          -122.371443,
          -122.371443,
          -122.37122,
          -122.371089,
          -122.371135,
          -122.371269,
          -122.371269,
          -122.37163,
          -122.371651,
          -122.371651,
          -122.371607,
          -122.371502,
          -122.371449,
          -122.371746,
          -122.371849,
          -122.371763,
          -122.371785,
          -122.371785,
          -122.371861,
          -122.372007,
          -122.371871,
          -122.371901,
          -122.371551,
          -122.371511,
          -122.3715,
          -122.37154,
          -122.371606,
          -122.371657,
          -122.37166,
          -122.371561,
          -122.371554,
          -122.371561,
          -122.371667,
          -122.371476,
          -122.37195,
          -122.371719,
          -122.371843,
          -122.371863,
          -122.371892,
          -122.371928,
          -122.371912,
          -122.371916,
          -122.37194,
          -122.371993,
          -122.371984,
          -122.371926,
          -122.371927,
          -122.371935,
          -122.371953,
          -122.372009,
          -122.371942,
          -122.371974,
          -122.371974,
          -122.371925,
          -122.372004,
          -122.372004,
          -122.372113,
          -122.371927,
          -122.372073,
          -122.372116,
          -122.372107,
          -122.372129,
          -122.371875,
          -122.372236,
          -122.372121,
          -122.372088,
          -122.372346,
          -122.37241,
          -122.372474,
          -122.372572,
          -122.372357,
          -122.372396,
          -122.372396,
          -122.372397,
          -122.372397,
          -122.37238,
          -122.372411,
          -122.37241,
          -122.372428,
          -122.372389,
          -122.372371,
          -122.372451,
          -122.372246,
          -122.372393,
          -122.372393,
          -122.372393,
          -122.372503,
          -122.372551,
          -122.372469,
          -122.372389,
          -122.372664,
          -122.372799,
          -122.372657,
          -122.372657,
          -122.372721,
          -122.372764,
          -122.372764,
          -122.372764,
          -122.372764,
          -122.372873,
          -122.372769,
          -122.372769,
          -122.372773,
          -122.372755,
          -122.372764,
          -122.372764,
          -122.372697,
          -122.373012,
          -122.373008,
          -122.372986,
          -122.372987,
          -122.373046,
          -122.373069,
          -122.373052,
          -122.373052,
          -122.373177,
          -122.373177,
          -122.373177,
          -122.373184,
          -122.37343,
          -122.373189,
          -122.373118,
          -122.37319,
          -122.373208,
          -122.373206,
          -122.373206,
          -122.373206,
          -122.37321,
          -122.372894,
          -122.372639,
          -122.373176,
          -122.373066,
          -122.373429,
          -122.373428,
          -122.3734,
          -122.373058,
          -122.373328,
          -122.373599,
          -122.373656,
          -122.373693,
          -122.373693,
          -122.373538,
          -122.373677,
          -122.373728,
          -122.373728,
          -122.373733,
          -122.373948,
          -122.373911,
          -122.373952,
          -122.373952,
          -122.373997,
          -122.373908,
          -122.37393,
          -122.373892,
          -122.373892,
          -122.373849,
          -122.373947,
          -122.373903,
          -122.373751,
          -122.373649,
          -122.373976,
          -122.374225,
          -122.374235,
          -122.374205,
          -122.374211,
          -122.374276,
          -122.374283,
          -122.374184,
          -122.374373,
          -122.374373,
          -122.374205,
          -122.374394,
          -122.374384,
          -122.374358,
          -122.374251,
          -122.374665,
          -122.37465,
          -122.374704,
          -122.374704,
          -122.374704,
          -122.374704,
          -122.374703,
          -122.374738,
          -122.374831,
          -122.374884,
          -122.374884,
          -122.374884,
          -122.374884,
          -122.374884,
          -122.374807,
          -122.374825,
          -122.374802,
          -122.375195,
          -122.375203,
          -122.375275,
          -122.37497,
          -122.374914,
          -122.37525,
          -122.374858,
          -122.375257,
          -122.375257,
          -122.375257,
          -122.375257,
          -122.375382,
          -122.375361,
          -122.375586,
          -122.375685,
          -122.375685,
          -122.376153,
          -122.376165,
          -122.376165,
          -122.376165,
          -122.376247,
          -122.37617,
          -122.376033,
          -122.376552,
          -122.376536,
          -122.377277,
          -122.377227,
          -122.377277,
          -122.377215,
          -122.37753,
          -122.37753,
          -122.377842,
          -122.378072,
          -122.378469,
          -122.370516,
          -122.370599,
          -122.369972,
          -122.370052,
          -122.370318,
          -122.370184,
          -122.370617,
          -122.370552,
          -122.370882,
          -122.370794,
          -122.370918,
          -122.370736,
          -122.37081,
          -122.370641,
          -122.370558,
          -122.370671,
          -122.370625,
          -122.370585,
          -122.370607,
          -122.370582,
          -122.370664,
          -122.370582,
          -122.37069,
          -122.370718,
          -122.370764,
          -122.370674,
          -122.370699,
          -122.370661,
          -122.37058,
          -122.37056,
          -122.370734,
          -122.370743,
          -122.370687,
          -122.370685,
          -122.37065,
          -122.370661,
          -122.370662,
          -122.370752,
          -122.370679,
          -122.370646,
          -122.370644,
          -122.370747,
          -122.370763,
          -122.370727,
          -122.370938,
          -122.370985,
          -122.371013,
          -122.37092,
          -122.370883,
          -122.371141,
          -122.37123,
          -122.371259,
          -122.371127,
          -122.371181,
          -122.371284,
          -122.371228,
          -122.371243,
          -122.371312,
          -122.371199,
          -122.371146,
          -122.371169,
          -122.37133,
          -122.371343,
          -122.371297,
          -122.371285,
          -122.371205,
          -122.371225,
          -122.371202,
          -122.371283,
          -122.371266,
          -122.371205,
          -122.371206,
          -122.37123,
          -122.371277,
          -122.371271,
          -122.371282,
          -122.371303,
          -122.371358,
          -122.371419,
          -122.371186,
          -122.371366,
          -122.371441,
          -122.371262,
          -122.371329,
          -122.371567,
          -122.371657,
          -122.371623,
          -122.371729,
          -122.371699,
          -122.371724,
          -122.371675,
          -122.371755,
          -122.371754,
          -122.371686,
          -122.371713,
          -122.371651,
          -122.371665,
          -122.37153,
          -122.371237,
          -122.371715,
          -122.371658,
          -122.37173,
          -122.371753,
          -122.371767,
          -122.371639,
          -122.371873,
          -122.371851,
          -122.371766,
          -122.371891,
          -122.371565,
          -122.371507,
          -122.371493,
          -122.37152,
          -122.371493,
          -122.371387,
          -122.371538,
          -122.371519,
          -122.371613,
          -122.371574,
          -122.371505,
          -122.371489,
          -122.371652,
          -122.37174,
          -122.371718,
          -122.371778,
          -122.37174,
          -122.371742,
          -122.371809,
          -122.371798,
          -122.371819,
          -122.37191,
          -122.37193,
          -122.371944,
          -122.371805,
          -122.371827,
          -122.371849,
          -122.371865,
          -122.371793,
          -122.371743,
          -122.371788,
          -122.371794,
          -122.371761,
          -122.371762,
          -122.371811,
          -122.371821,
          -122.371851,
          -122.371773,
          -122.371252,
          -122.371854,
          -122.371771,
          -122.371765,
          -122.371768,
          -122.371814,
          -122.371864,
          -122.371898,
          -122.371893,
          -122.371864,
          -122.371823,
          -122.371845,
          -122.371831,
          -122.371756,
          -122.371806,
          -122.371856,
          -122.371835,
          -122.371864,
          -122.371867,
          -122.371864,
          -122.371842,
          -122.371814,
          -122.371847,
          -122.371849,
          -122.371667,
          -122.372019,
          -122.371984,
          -122.37189,
          -122.371864,
          -122.37198,
          -122.371983,
          -122.372028,
          -122.372012,
          -122.372004,
          -122.372,
          -122.371959,
          -122.372049,
          -122.372103,
          -122.372069,
          -122.372003,
          -122.372118,
          -122.372107,
          -122.37204,
          -122.372068,
          -122.37208,
          -122.37206,
          -122.372198,
          -122.372161,
          -122.372139,
          -122.372154,
          -122.372192,
          -122.372163,
          -122.372094,
          -122.372091,
          -122.372147,
          -122.372071,
          -122.372208,
          -122.372376,
          -122.372211,
          -122.372274,
          -122.372274,
          -122.372225,
          -122.372296,
          -122.372295,
          -122.372279,
          -122.372239,
          -122.372224,
          -122.372249,
          -122.37224,
          -122.372197,
          -122.372211,
          -122.372164,
          -122.372174,
          -122.372257,
          -122.37217,
          -122.372159,
          -122.372552,
          -122.372684,
          -122.372535,
          -122.372566,
          -122.372575,
          -122.372573,
          -122.372617,
          -122.372582,
          -122.372601,
          -122.372836,
          -122.372781,
          -122.372761,
          -122.372767,
          -122.372751,
          -122.372727,
          -122.372742,
          -122.372807,
          -122.372859,
          -122.37285,
          -122.372804,
          -122.372829,
          -122.37286,
          -122.37272,
          -122.372761,
          -122.372903,
          -122.372946,
          -122.372938,
          -122.37296,
          -122.373019,
          -122.372988,
          -122.372963,
          -122.373065,
          -122.373089,
          -122.373087,
          -122.373215,
          -122.3732,
          -122.373126,
          -122.37315,
          -122.373141,
          -122.373125,
          -122.37312,
          -122.373119,
          -122.373057,
          -122.37318,
          -122.373204,
          -122.373184,
          -122.373105,
          -122.373175,
          -122.373239,
          -122.373232,
          -122.373227,
          -122.373199,
          -122.373186,
          -122.373176,
          -122.373014,
          -122.373085,
          -122.373131,
          -122.373233,
          -122.37321,
          -122.373177,
          -122.373318,
          -122.373359,
          -122.373413,
          -122.373451,
          -122.373473,
          -122.373365,
          -122.373372,
          -122.373506,
          -122.373425,
          -122.373444,
          -122.373561,
          -122.373572,
          -122.37362,
          -122.373597,
          -122.373753,
          -122.373764,
          -122.373707,
          -122.373718,
          -122.373835,
          -122.373924,
          -122.373945,
          -122.373975,
          -122.373944,
          -122.373964,
          -122.373969,
          -122.373909,
          -122.373838,
          -122.373891,
          -122.374051,
          -122.374156,
          -122.374189,
          -122.37429,
          -122.374193,
          -122.37413,
          -122.374107,
          -122.374198,
          -122.374153,
          -122.374374,
          -122.374358,
          -122.374342,
          -122.374359,
          -122.374333,
          -122.374285,
          -122.374394,
          -122.374309,
          -122.374397,
          -122.374365,
          -122.374291,
          -122.374279,
          -122.374327,
          -122.374353,
          -122.374309,
          -122.3743,
          -122.374297,
          -122.374418,
          -122.374369,
          -122.374492,
          -122.374462,
          -122.374502,
          -122.374595,
          -122.374549,
          -122.374605,
          -122.374571,
          -122.374642,
          -122.374633,
          -122.3746,
          -122.374687,
          -122.374706,
          -122.374747,
          -122.37465,
          -122.374725,
          -122.374737,
          -122.374687,
          -122.374628,
          -122.374624,
          -122.374664,
          -122.374596,
          -122.374655,
          -122.374757,
          -122.374842,
          -122.374974,
          -122.374913,
          -122.37483,
          -122.37484,
          -122.374854,
          -122.374851,
          -122.374589,
          -122.374778,
          -122.374714,
          -122.374719,
          -122.374683,
          -122.374738,
          -122.37489,
          -122.37486,
          -122.375081,
          -122.375131,
          -122.375057,
          -122.374987,
          -122.375083,
          -122.375156,
          -122.375131,
          -122.375117,
          -122.375237,
          -122.375227,
          -122.375163,
          -122.375292,
          -122.375307,
          -122.375559,
          -122.375376,
          -122.37531,
          -122.375307,
          -122.375327,
          -122.375514,
          -122.375612,
          -122.375571,
          -122.375596,
          -122.37564,
          -122.375636,
          -122.375593,
          -122.375561,
          -122.375632,
          -122.37555,
          -122.37576,
          -122.375957,
          -122.375982,
          -122.375925,
          -122.37601,
          -122.376096,
          -122.376143,
          -122.376144,
          -122.376082,
          -122.376141,
          -122.376124,
          -122.376223,
          -122.376285,
          -122.376492,
          -122.376473,
          -122.376971,
          -122.377002,
          -122.377023,
          -122.376921,
          -122.37725,
          -122.377275,
          -122.377435,
          -122.377371,
          -122.377391,
          -122.377598,
          -122.379174,
          -122.379411,
          -122.379405,
          -122.379355,
          -122.379387,
          -122.379754,
          -122.379774,
          -122.377757,
          -122.370401,
          -122.370697,
          -122.370558,
          -122.370679,
          -122.370794,
          -122.370767,
          -122.370848,
          -122.370744,
          -122.370659,
          -122.370749,
          -122.370779,
          -122.370873,
          -122.370673,
          -122.370673,
          -122.370721,
          -122.370644,
          -122.370654,
          -122.370691,
          -122.370719,
          -122.370732,
          -122.370704,
          -122.370728,
          -122.370653,
          -122.370662,
          -122.370664,
          -122.370742,
          -122.370671,
          -122.370723,
          -122.370644,
          -122.370683,
          -122.370782,
          -122.370674,
          -122.370718,
          -122.370593,
          -122.370767,
          -122.370787,
          -122.370483,
          -122.370564,
          -122.370769,
          -122.370664,
          -122.370797,
          -122.370893,
          -122.371036,
          -122.371029,
          -122.370907,
          -122.371041,
          -122.370968,
          -122.371123,
          -122.370844,
          -122.37101,
          -122.370915,
          -122.370999,
          -122.370993,
          -122.371102,
          -122.370974,
          -122.37102,
          -122.370964,
          -122.370986,
          -122.371019,
          -122.37113,
          -122.371059,
          -122.371081,
          -122.371089,
          -122.370885,
          -122.370996,
          -122.371117,
          -122.371254,
          -122.371284,
          -122.371274,
          -122.371157,
          -122.371244,
          -122.371271,
          -122.371267,
          -122.37123,
          -122.371401,
          -122.371273,
          -122.371301,
          -122.371259,
          -122.371326,
          -122.371387,
          -122.371306,
          -122.371403,
          -122.371469,
          -122.371382,
          -122.371392,
          -122.37139,
          -122.371399,
          -122.371326,
          -122.371204,
          -122.371317,
          -122.37124,
          -122.371034,
          -122.371708,
          -122.3717,
          -122.371718,
          -122.371569,
          -122.371595,
          -122.371542,
          -122.371574,
          -122.371542,
          -122.371593,
          -122.371542,
          -122.371585,
          -122.371616,
          -122.371529,
          -122.37153,
          -122.371572,
          -122.371734,
          -122.371723,
          -122.371731,
          -122.371858,
          -122.371712,
          -122.371995,
          -122.371459,
          -122.372184,
          -122.371949,
          -122.371939,
          -122.371784,
          -122.371759,
          -122.371771,
          -122.371824,
          -122.371768,
          -122.37186,
          -122.37175,
          -122.371748,
          -122.371761,
          -122.371747,
          -122.371786,
          -122.371772,
          -122.371796,
          -122.371818,
          -122.371821,
          -122.371784,
          -122.371731,
          -122.371728,
          -122.371693,
          -122.371611,
          -122.371497,
          -122.371507,
          -122.371664,
          -122.371656,
          -122.371657,
          -122.371595,
          -122.371634,
          -122.371617,
          -122.371655,
          -122.37165,
          -122.371686,
          -122.371843,
          -122.371726,
          -122.371805,
          -122.371794,
          -122.371796,
          -122.371832,
          -122.371832,
          -122.371832,
          -122.371833,
          -122.371836,
          -122.371836,
          -122.371843,
          -122.371806,
          -122.371863,
          -122.371862,
          -122.37188,
          -122.371808,
          -122.371732,
          -122.371827,
          -122.371775,
          -122.371707,
          -122.371735,
          -122.371855,
          -122.371814,
          -122.371767,
          -122.371948,
          -122.37196,
          -122.371946,
          -122.371974,
          -122.371891,
          -122.371938,
          -122.371933,
          -122.372008,
          -122.372141,
          -122.371819,
          -122.371831,
          -122.372022,
          -122.37185,
          -122.372,
          -122.372041,
          -122.371995,
          -122.372007,
          -122.371915,
          -122.371943,
          -122.371883,
          -122.371956,
          -122.37193,
          -122.372081,
          -122.372188,
          -122.372145,
          -122.372185,
          -122.372137,
          -122.372079,
          -122.372084,
          -122.372176,
          -122.372197,
          -122.372121,
          -122.372244,
          -122.372098,
          -122.372099,
          -122.37214,
          -122.372112,
          -122.372121,
          -122.37221,
          -122.372123,
          -122.372235,
          -122.37212,
          -122.372289,
          -122.372154,
          -122.372288,
          -122.372087,
          -122.372246,
          -122.372015,
          -122.372197,
          -122.372279,
          -122.372286,
          -122.372306,
          -122.372306,
          -122.372307,
          -122.372295,
          -122.372186,
          -122.372187,
          -122.372534,
          -122.372429,
          -122.372514,
          -122.372398,
          -122.372498,
          -122.372352,
          -122.372488,
          -122.372372,
          -122.372482,
          -122.372391,
          -122.372449,
          -122.372404,
          -122.372403,
          -122.372372,
          -122.372394,
          -122.372358,
          -122.372376,
          -122.372281,
          -122.37238,
          -122.372298,
          -122.372537,
          -122.37255,
          -122.372526,
          -122.372516,
          -122.372504,
          -122.372478,
          -122.372473,
          -122.372525,
          -122.372673,
          -122.372596,
          -122.372631,
          -122.372589,
          -122.372624,
          -122.372594,
          -122.37252,
          -122.372543,
          -122.372601,
          -122.372688,
          -122.372694,
          -122.372792,
          -122.372731,
          -122.372725,
          -122.37271,
          -122.372777,
          -122.372776,
          -122.372751,
          -122.372768,
          -122.372778,
          -122.372818,
          -122.372912,
          -122.372769,
          -122.37295,
          -122.372721,
          -122.372789,
          -122.372835,
          -122.372752,
          -122.372921,
          -122.372929,
          -122.372933,
          -122.372968,
          -122.372972,
          -122.372935,
          -122.372966,
          -122.372782,
          -122.373008,
          -122.372974,
          -122.373042,
          -122.372919,
          -122.372851,
          -122.37295,
          -122.37296,
          -122.37292,
          -122.373069,
          -122.373065,
          -122.373054,
          -122.373104,
          -122.373058,
          -122.373102,
          -122.373069,
          -122.373061,
          -122.373072,
          -122.373052,
          -122.373014,
          -122.373052,
          -122.373011,
          -122.373056,
          -122.373053,
          -122.373159,
          -122.372997,
          -122.373403,
          -122.373262,
          -122.373313,
          -122.373288,
          -122.373244,
          -122.373337,
          -122.37312,
          -122.373296,
          -122.373346,
          -122.373353,
          -122.37344,
          -122.37341,
          -122.373479,
          -122.373467,
          -122.373484,
          -122.373575,
          -122.373707,
          -122.373738,
          -122.373722,
          -122.373491,
          -122.373513,
          -122.373587,
          -122.373669,
          -122.37373,
          -122.37373,
          -122.373782,
          -122.373816,
          -122.373764,
          -122.373719,
          -122.373735,
          -122.373868,
          -122.373832,
          -122.373921,
          -122.373974,
          -122.373938,
          -122.373954,
          -122.37396,
          -122.373954,
          -122.373947,
          -122.373967,
          -122.374009,
          -122.374026,
          -122.373968,
          -122.373964,
          -122.373951,
          -122.373946,
          -122.37426,
          -122.374187,
          -122.374234,
          -122.374205,
          -122.374365,
          -122.374389,
          -122.374385,
          -122.374384,
          -122.374389,
          -122.374412,
          -122.374407,
          -122.374429,
          -122.374334,
          -122.374419,
          -122.374323,
          -122.374478,
          -122.374519,
          -122.374458,
          -122.37445,
          -122.374385,
          -122.374343,
          -122.374501,
          -122.374298,
          -122.374437,
          -122.374416,
          -122.374458,
          -122.374389,
          -122.374459,
          -122.374281,
          -122.374448,
          -122.3744,
          -122.374513,
          -122.374368,
          -122.374518,
          -122.374399,
          -122.3746,
          -122.374352,
          -122.374589,
          -122.374427,
          -122.374596,
          -122.374441,
          -122.374619,
          -122.374461,
          -122.374535,
          -122.37486,
          -122.374813,
          -122.374832,
          -122.374951,
          -122.374832,
          -122.374868,
          -122.37484,
          -122.374812,
          -122.374892,
          -122.374812,
          -122.374848,
          -122.375045,
          -122.375049,
          -122.375016,
          -122.375095,
          -122.375055,
          -122.375118,
          -122.375072,
          -122.375132,
          -122.375024,
          -122.375059,
          -122.37501,
          -122.375016,
          -122.375337,
          -122.375321,
          -122.375407,
          -122.375598,
          -122.37551,
          -122.375579,
          -122.375524,
          -122.37556,
          -122.375633,
          -122.375667,
          -122.375692,
          -122.375722,
          -122.375767,
          -122.375799,
          -122.379468,
          -122.375944,
          -122.375918,
          -122.379521,
          -122.376338,
          -122.376503,
          -122.376512,
          -122.376558,
          -122.376494,
          -122.37663,
          -122.376654,
          -122.376817,
          -122.376686,
          -122.376655,
          -122.376678,
          -122.377181,
          -122.377149,
          -122.377231,
          -122.37734,
          -122.377216,
          -122.377356,
          -122.377259,
          -122.377584,
          -122.377575,
          -122.377606,
          -122.377709,
          -122.377637,
          -122.377726,
          -122.377677,
          -122.377717,
          -122.378158,
          -122.37817,
          -122.378505,
          -122.37836,
          -122.379441,
          -122.379468,
          -122.379537,
          -122.370562,
          -122.37072,
          -122.370829,
          -122.37082,
          -122.370706,
          -122.370603,
          -122.370749,
          -122.37075,
          -122.37074,
          -122.370774,
          -122.370687,
          -122.37085,
          -122.370849,
          -122.370659,
          -122.370852,
          -122.370851,
          -122.370854,
          -122.370882,
          -122.370934,
          -122.370268,
          -122.370548,
          -122.371028,
          -122.370944,
          -122.370867,
          -122.370893,
          -122.370956,
          -122.371213,
          -122.37122,
          -122.371267,
          -122.37094,
          -122.371341,
          -122.371362,
          -122.37132,
          -122.371248,
          -122.371844,
          -122.371245,
          -122.371895,
          -122.371233,
          -122.371305,
          -122.371641,
          -122.371293,
          -122.371624,
          -122.371304,
          -122.371623,
          -122.371291,
          -122.371605,
          -122.371328,
          -122.371571,
          -122.371622,
          -122.371353,
          -122.371637,
          -122.371389,
          -122.371679,
          -122.371318,
          -122.371699,
          -122.371325,
          -122.371708,
          -122.371283,
          -122.371752,
          -122.371713,
          -122.371318,
          -122.371695,
          -122.37174,
          -122.371297,
          -122.371728,
          -122.371752,
          -122.37128,
          -122.37172,
          -122.3716,
          -122.371723,
          -122.371692,
          -122.371627,
          -122.3715,
          -122.371295,
          -122.371291,
          -122.371265,
          -122.371418,
          -122.371663,
          -122.371589,
          -122.371648,
          -122.371726,
          -122.3716,
          -122.37178,
          -122.371738,
          -122.371712,
          -122.371734,
          -122.371723,
          -122.371676,
          -122.371709,
          -122.371729,
          -122.371764,
          -122.371756,
          -122.371788,
          -122.371746,
          -122.37186,
          -122.371772,
          -122.371861,
          -122.371829,
          -122.37187,
          -122.371856,
          -122.371896,
          -122.371892,
          -122.371846,
          -122.371851,
          -122.37188,
          -122.371848,
          -122.371839,
          -122.371843,
          -122.371684,
          -122.371863,
          -122.371686,
          -122.371883,
          -122.371706,
          -122.371859,
          -122.371878,
          -122.371693,
          -122.371897,
          -122.371849,
          -122.371673,
          -122.371853,
          -122.371664,
          -122.371862,
          -122.371675,
          -122.371851,
          -122.371708,
          -122.371864,
          -122.371872,
          -122.371926,
          -122.371717,
          -122.37177,
          -122.371876,
          -122.371885,
          -122.371845,
          -122.372234,
          -122.371903,
          -122.371946,
          -122.372103,
          -122.37204,
          -122.372034,
          -122.372005,
          -122.371941,
          -122.371936,
          -122.371797,
          -122.37194,
          -122.371922,
          -122.371931,
          -122.371918,
          -122.371924,
          -122.371982,
          -122.371986,
          -122.371975,
          -122.372025,
          -122.37202,
          -122.372056,
          -122.372119,
          -122.372121,
          -122.371985,
          -122.372133,
          -122.372262,
          -122.372157,
          -122.372151,
          -122.37217,
          -122.372157,
          -122.372136,
          -122.372088,
          -122.372139,
          -122.37205,
          -122.37209,
          -122.372077,
          -122.372056,
          -122.372089,
          -122.372069,
          -122.372061,
          -122.372003,
          -122.371995,
          -122.371787,
          -122.37221,
          -122.372213,
          -122.372231,
          -122.372132,
          -122.372113,
          -122.372201,
          -122.372176,
          -122.372095,
          -122.372069,
          -122.372221,
          -122.372191,
          -122.372219,
          -122.372266,
          -122.372255,
          -122.372263,
          -122.372253,
          -122.372227,
          -122.372094,
          -122.371973,
          -122.372351,
          -122.372287,
          -122.372386,
          -122.372495,
          -122.37249,
          -122.372477,
          -122.372445,
          -122.372503,
          -122.372491,
          -122.37251,
          -122.372498,
          -122.372528,
          -122.372513,
          -122.372462,
          -122.372381,
          -122.372383,
          -122.37258,
          -122.3726,
          -122.372565,
          -122.372548,
          -122.372555,
          -122.372511,
          -122.372437,
          -122.372545,
          -122.372533,
          -122.372526,
          -122.372595,
          -122.372587,
          -122.372703,
          -122.372533,
          -122.372474,
          -122.372492,
          -122.372729,
          -122.372819,
          -122.372896,
          -122.373186,
          -122.373153,
          -122.373177,
          -122.373171,
          -122.373293,
          -122.373285,
          -122.373297,
          -122.373311,
          -122.373348,
          -122.373338,
          -122.37345,
          -122.373393,
          -122.373753,
          -122.373743,
          -122.373926,
          -122.373912,
          -122.373892,
          -122.374046,
          -122.374006,
          -122.373955,
          -122.374292,
          -122.374258,
          -122.374345,
          -122.374406,
          -122.374474,
          -122.37451,
          -122.37458,
          -122.374657,
          -122.374666,
          -122.374707,
          -122.374699,
          -122.374679,
          -122.374943,
          -122.375008,
          -122.375073,
          -122.375208,
          -122.375002,
          -122.374982,
          -122.374999,
          -122.37501,
          -122.375025,
          -122.375086,
          -122.375075,
          -122.375145,
          -122.37521,
          -122.375174,
          -122.375226,
          -122.375202,
          -122.375286,
          -122.375325,
          -122.375346,
          -122.375506,
          -122.3755,
          -122.375468,
          -122.375451,
          -122.375474,
          -122.375531,
          -122.375554,
          -122.375602,
          -122.375581,
          -122.375617,
          -122.375557,
          -122.375644,
          -122.375643,
          -122.375937,
          -122.375903,
          -122.375957,
          -122.376171,
          -122.37622,
          -122.376232,
          -122.376187,
          -122.376206,
          -122.376223,
          -122.376272,
          -122.376328,
          -122.376366,
          -122.376492,
          -122.376723,
          -122.376438,
          -122.376504,
          -122.3765,
          -122.376518,
          -122.376485,
          -122.376472,
          -122.376468,
          -122.376491,
          -122.376486,
          -122.376339,
          -122.376886,
          -122.376973,
          -122.376957,
          -122.376958,
          -122.37698,
          -122.376933,
          -122.376932,
          -122.376922,
          -122.376957,
          -122.376916,
          -122.37718,
          -122.377226,
          -122.377654,
          -122.377646,
          -122.377639,
          -122.377623,
          -122.377706,
          -122.377745,
          -122.377928,
          -122.378119,
          -122.3784,
          -122.3784,
          -122.379356,
          -122.379364,
          -122.379407,
          -122.379881,
          -122.371542,
          -122.371726,
          -122.371619,
          -122.3716,
          -122.371725,
          -122.37179,
          -122.372031,
          -122.37196,
          -122.37221,
          -122.372227,
          -122.37274,
          -122.37276,
          -122.372955,
          -122.372967,
          -122.373489,
          -122.373545,
          -122.373485,
          -122.373686,
          -122.373831,
          -122.373942,
          -122.374106,
          -122.374496,
          -122.374694,
          -122.374889,
          -122.374923,
          -122.374968,
          -122.375114,
          -122.375097,
          -122.37683,
          -122.376788,
          -122.377147,
          -122.37757,
          -122.377583,
          -122.377667,
          -122.377746,
          -122.378047,
          -122.378442,
          -122.379486,
          -122.380359,
          -122.370713,
          -122.371711,
          -122.371838,
          -122.371694,
          -122.371851,
          -122.371881,
          -122.371951,
          -122.371995,
          -122.371972,
          -122.372381,
          -122.372335,
          -122.372816,
          -122.372932,
          -122.372874,
          -122.372994,
          -122.373082,
          -122.373094,
          -122.373133,
          -122.373421,
          -122.373408,
          -122.373432,
          -122.373626,
          -122.373914,
          -122.374047,
          -122.374098,
          -122.373905,
          -122.374306,
          -122.374641,
          -122.374622,
          -122.374628,
          -122.374622,
          -122.374637,
          -122.374838,
          -122.374855,
          -122.374787,
          -122.375217,
          -122.375117,
          -122.375121,
          -122.375157,
          -122.375425,
          -122.375669,
          -122.376436,
          -122.376533,
          -122.376845,
          -122.376933,
          -122.377013,
          -122.377165,
          -122.377303,
          -122.377708,
          -122.377762,
          -122.378056,
          -122.37807,
          -122.378304,
          -122.372689,
          -122.373632,
          -122.374991,
          -122.375452,
          -122.375757,
          -122.375703,
          -122.375774,
          -122.37578,
          -122.375782,
          -122.376443,
          -122.376425,
          -122.376468,
          -122.376731,
          -122.377639,
          -122.377605,
          -122.377626,
          -122.377922,
          -122.378183,
          -122.378239,
          -122.37914,
          -122.379193,
          -122.379368,
          -122.379405,
          -122.379365,
          -122.379382,
          -122.379366,
          -122.379357,
          -122.379378,
          -122.37941,
          -122.379334
         ],
         "marker": {
          "color": "green"
         },
         "mode": "markers",
         "name": "Live",
         "showlegend": true,
         "subplot": "mapbox",
         "type": "scattermapbox"
        },
        {
         "customdata": [
          [
           4
          ],
          [
           7
          ],
          [
           5
          ],
          [
           5
          ],
          [
           25
          ],
          [
           17
          ],
          [
           5
          ],
          [
           5
          ],
          [
           5
          ],
          [
           34
          ],
          [
           5
          ],
          [
           5
          ],
          [
           5
          ],
          [
           5
          ],
          [
           20
          ],
          [
           5
          ],
          [
           26
          ],
          [
           5
          ],
          [
           5
          ],
          [
           23
          ],
          [
           5
          ],
          [
           20
          ],
          [
           23
          ],
          [
           5
          ],
          [
           5
          ],
          [
           5
          ],
          [
           24
          ],
          [
           5
          ],
          [
           5
          ],
          [
           19
          ],
          [
           5
          ],
          [
           5
          ],
          [
           5
          ],
          [
           5
          ],
          [
           17
          ],
          [
           5
          ],
          [
           5
          ],
          [
           5
          ],
          [
           6
          ],
          [
           26
          ],
          [
           8
          ],
          [
           5
          ],
          [
           5
          ],
          [
           5
          ],
          [
           4
          ],
          [
           4
          ],
          [
           5
          ],
          [
           15
          ],
          [
           23
          ],
          [
           5
          ],
          [
           33
          ],
          [
           5
          ],
          [
           19
          ],
          [
           5
          ],
          [
           5
          ],
          [
           5
          ],
          [
           5
          ],
          [
           5
          ],
          [
           5
          ],
          [
           12
          ],
          [
           5
          ],
          [
           5
          ],
          [
           5
          ],
          [
           5
          ],
          [
           13
          ],
          [
           5
          ],
          [
           5
          ],
          [
           7
          ],
          [
           5
          ],
          [
           5
          ],
          [
           5
          ],
          [
           13
          ],
          [
           34
          ],
          [
           5
          ],
          [
           13
          ],
          [
           25
          ],
          [
           6
          ],
          [
           9
          ],
          [
           5
          ],
          [
           5
          ],
          [
           5
          ],
          [
           5
          ],
          [
           5
          ],
          [
           5
          ],
          [
           5
          ],
          [
           5
          ],
          [
           15
          ],
          [
           5
          ],
          [
           5
          ],
          [
           5
          ],
          [
           5
          ]
         ],
         "hovertemplate": "<b>%{hovertext}</b><br><br>Type=Redd<br>Location.latitude=%{lat}<br>Location.longitude=%{lon}<br>Location.accuracy=%{customdata[0]}<extra></extra>",
         "hovertext": [
          "1160 Redd Unknown",
          "675 Redd Unknown",
          "1260 Redd Unknown",
          "1030 Redd Unknown",
          "40 Redd Unknown",
          "820 Redd Unknown",
          "528 Redd Unknown",
          "515 Redd Unknown",
          "358 Redd Unknown",
          "355 Redd Unknown",
          "340 Redd Unknown",
          "180 Redd Unknown",
          "185 Redd Unknown",
          "1980 Redd Unknown",
          "1975 Redd Unknown",
          "1960 Redd Unknown",
          "1950 Redd Unknown",
          "1905 Redd Unknown",
          "1845 Redd Unknown",
          "1820 Redd Chum",
          "1810 Redd Unknown",
          "1775 Redd Unknown",
          "1742 Redd Unknown",
          "1740 Redd Unknown",
          "1740 Redd Unknown",
          "1735 Redd Unknown",
          "1570 Redd Unknown",
          "1550 Redd Unknown",
          "1515 Redd Unknown",
          "1362 Redd Unknown",
          "1360 Redd Unknown",
          "1348 Redd Unknown",
          "1348 Redd Unknown",
          "1283 Redd Unknown",
          "1280 Redd Unknown",
          "1275 Redd Unknown",
          "1270 Redd Unknown",
          "1260 Redd Unknown",
          "1245 Redd Unknown",
          "1010 Redd Unknown",
          "460 Redd Unknown",
          "450 Redd Unknown",
          "250 Redd Unknown",
          "1650 Redd Unknown",
          "1550 Redd Unknown",
          "1550 Redd Unknown",
          "1300 Redd Unknown",
          "1265 Redd Unknown",
          "1260 Redd Unknown",
          "1200 Redd Unknown",
          "950 Redd Unknown",
          "570 Redd Unknown",
          "1990 Redd Unknown",
          "1980 Redd Unknown",
          "1975 Redd Unknown",
          "1910 Redd Unknown",
          "1895 Redd Unknown",
          "1780 Redd Unknown",
          "1765 Redd Unknown",
          "1760 Redd Unknown",
          "1625 Redd Unknown",
          "1615 Redd Unknown",
          "1570 Redd Unknown",
          "1425 Redd Unknown",
          "1420 Redd Unknown",
          "1270 Redd Unknown",
          "1270 Redd Unknown",
          "1260 Redd Unknown",
          "1240 Redd Unknown",
          "1180 Redd Unknown",
          "1160 Redd Unknown",
          "1055 Redd Unknown",
          "1050 Redd Unknown",
          "1010 Redd Unknown",
          "990 Redd Unknown",
          "950 Redd Unknown",
          "795 Redd Unknown",
          "795 Redd Unknown",
          "785 Redd Unknown",
          "1970 Redd Unknown",
          "1550 Redd Unknown",
          "1000 Redd Unknown",
          "660 Redd Unknown",
          "535 Redd Unknown",
          "500 Redd Unknown",
          "290 Redd Chum",
          "1450 Redd Unknown",
          "1375 Redd Unknown",
          "815 Redd Unknown",
          "945 Redd Unknown",
          "715 Redd Unknown"
         ],
         "lat": [
          47.711308,
          47.711485,
          47.7112,
          47.711218,
          47.712269,
          47.712451,
          47.711887,
          47.711876,
          47.711719,
          47.711633,
          47.711582,
          47.711412,
          47.711423,
          47.710874,
          47.710802,
          47.710828,
          47.710723,
          47.710953,
          47.71116,
          47.711095,
          47.711178,
          47.711201,
          47.711102,
          47.711125,
          47.711052,
          47.711069,
          47.711199,
          47.711223,
          47.711106,
          47.711768,
          47.711455,
          47.711395,
          47.711435,
          47.71123,
          47.711244,
          47.711255,
          47.711326,
          47.71129,
          47.711188,
          47.711492,
          47.711593,
          47.711815,
          47.711437,
          47.711111,
          47.711291,
          47.711298,
          47.711279,
          47.711228,
          47.711229,
          47.711179,
          47.711325,
          47.711581,
          47.710849,
          47.710807,
          47.710896,
          47.71101,
          47.710872,
          47.711098,
          47.711186,
          47.711179,
          47.711262,
          47.711377,
          47.711182,
          47.711247,
          47.711288,
          47.711137,
          47.71114,
          47.711265,
          47.711168,
          47.711231,
          47.711294,
          47.7115,
          47.711317,
          47.711408,
          47.711309,
          47.711311,
          47.711346,
          47.711353,
          47.711403,
          47.710668,
          47.711205,
          47.711402,
          47.711534,
          47.711563,
          47.711604,
          47.711704,
          47.711109,
          47.711149,
          47.711336,
          47.711358,
          47.711452
         ],
         "legendgroup": "Redd",
         "lon": [
          -122.374909,
          -122.376774,
          -122.374332,
          -122.375257,
          -122.370515,
          -122.370077,
          -122.370623,
          -122.370689,
          -122.37123,
          -122.37121,
          -122.371259,
          -122.371637,
          -122.371614,
          -122.371726,
          -122.371736,
          -122.371945,
          -122.371897,
          -122.371827,
          -122.372065,
          -122.372211,
          -122.372241,
          -122.372053,
          -122.372546,
          -122.372632,
          -122.372627,
          -122.372572,
          -122.373225,
          -122.373375,
          -122.373417,
          -122.373937,
          -122.374029,
          -122.374059,
          -122.374044,
          -122.374394,
          -122.374372,
          -122.374327,
          -122.374375,
          -122.374341,
          -122.374446,
          -122.375427,
          -122.377623,
          -122.370996,
          -122.371356,
          -122.372899,
          -122.373337,
          -122.373343,
          -122.374373,
          -122.374413,
          -122.374328,
          -122.374562,
          -122.3755,
          -122.377188,
          -122.371704,
          -122.371918,
          -122.371799,
          -122.37212,
          -122.371909,
          -122.37251,
          -122.372562,
          -122.372442,
          -122.3732,
          -122.373078,
          -122.373313,
          -122.373995,
          -122.373987,
          -122.374415,
          -122.374371,
          -122.374406,
          -122.374432,
          -122.374642,
          -122.37472,
          -122.375105,
          -122.37521,
          -122.37536,
          -122.375439,
          -122.375549,
          -122.376179,
          -122.376149,
          -122.376305,
          -122.371529,
          -122.373354,
          -122.375324,
          -122.376601,
          -122.377164,
          -122.377251,
          -122.37803,
          -122.373722,
          -122.373958,
          -122.375792,
          -122.375746,
          -122.376451
         ],
         "marker": {
          "color": "red"
         },
         "mode": "markers",
         "name": "Redd",
         "showlegend": true,
         "subplot": "mapbox",
         "type": "scattermapbox"
        }
       ],
       "layout": {
        "coloraxis": {
         "showscale": false
        },
        "legend": {
         "title": {
          "text": "Type"
         },
         "tracegroupgap": 0
        },
        "mapbox": {
         "center": {
          "lat": 47.71157,
          "lon": -122.3759
         },
         "domain": {
          "x": [
           0,
           1
          ],
          "y": [
           0,
           1
          ]
         },
         "style": "stamen-terrain",
         "zoom": 15
        },
        "template": {
         "data": {
          "bar": [
           {
            "error_x": {
             "color": "#2a3f5f"
            },
            "error_y": {
             "color": "#2a3f5f"
            },
            "marker": {
             "line": {
              "color": "#E5ECF6",
              "width": 0.5
             }
            },
            "type": "bar"
           }
          ],
          "barpolar": [
           {
            "marker": {
             "line": {
              "color": "#E5ECF6",
              "width": 0.5
             }
            },
            "type": "barpolar"
           }
          ],
          "carpet": [
           {
            "aaxis": {
             "endlinecolor": "#2a3f5f",
             "gridcolor": "white",
             "linecolor": "white",
             "minorgridcolor": "white",
             "startlinecolor": "#2a3f5f"
            },
            "baxis": {
             "endlinecolor": "#2a3f5f",
             "gridcolor": "white",
             "linecolor": "white",
             "minorgridcolor": "white",
             "startlinecolor": "#2a3f5f"
            },
            "type": "carpet"
           }
          ],
          "choropleth": [
           {
            "colorbar": {
             "outlinewidth": 0,
             "ticks": ""
            },
            "type": "choropleth"
           }
          ],
          "contour": [
           {
            "colorbar": {
             "outlinewidth": 0,
             "ticks": ""
            },
            "colorscale": [
             [
              0,
              "#0d0887"
             ],
             [
              0.1111111111111111,
              "#46039f"
             ],
             [
              0.2222222222222222,
              "#7201a8"
             ],
             [
              0.3333333333333333,
              "#9c179e"
             ],
             [
              0.4444444444444444,
              "#bd3786"
             ],
             [
              0.5555555555555556,
              "#d8576b"
             ],
             [
              0.6666666666666666,
              "#ed7953"
             ],
             [
              0.7777777777777778,
              "#fb9f3a"
             ],
             [
              0.8888888888888888,
              "#fdca26"
             ],
             [
              1,
              "#f0f921"
             ]
            ],
            "type": "contour"
           }
          ],
          "contourcarpet": [
           {
            "colorbar": {
             "outlinewidth": 0,
             "ticks": ""
            },
            "type": "contourcarpet"
           }
          ],
          "heatmap": [
           {
            "colorbar": {
             "outlinewidth": 0,
             "ticks": ""
            },
            "colorscale": [
             [
              0,
              "#0d0887"
             ],
             [
              0.1111111111111111,
              "#46039f"
             ],
             [
              0.2222222222222222,
              "#7201a8"
             ],
             [
              0.3333333333333333,
              "#9c179e"
             ],
             [
              0.4444444444444444,
              "#bd3786"
             ],
             [
              0.5555555555555556,
              "#d8576b"
             ],
             [
              0.6666666666666666,
              "#ed7953"
             ],
             [
              0.7777777777777778,
              "#fb9f3a"
             ],
             [
              0.8888888888888888,
              "#fdca26"
             ],
             [
              1,
              "#f0f921"
             ]
            ],
            "type": "heatmap"
           }
          ],
          "heatmapgl": [
           {
            "colorbar": {
             "outlinewidth": 0,
             "ticks": ""
            },
            "colorscale": [
             [
              0,
              "#0d0887"
             ],
             [
              0.1111111111111111,
              "#46039f"
             ],
             [
              0.2222222222222222,
              "#7201a8"
             ],
             [
              0.3333333333333333,
              "#9c179e"
             ],
             [
              0.4444444444444444,
              "#bd3786"
             ],
             [
              0.5555555555555556,
              "#d8576b"
             ],
             [
              0.6666666666666666,
              "#ed7953"
             ],
             [
              0.7777777777777778,
              "#fb9f3a"
             ],
             [
              0.8888888888888888,
              "#fdca26"
             ],
             [
              1,
              "#f0f921"
             ]
            ],
            "type": "heatmapgl"
           }
          ],
          "histogram": [
           {
            "marker": {
             "colorbar": {
              "outlinewidth": 0,
              "ticks": ""
             }
            },
            "type": "histogram"
           }
          ],
          "histogram2d": [
           {
            "colorbar": {
             "outlinewidth": 0,
             "ticks": ""
            },
            "colorscale": [
             [
              0,
              "#0d0887"
             ],
             [
              0.1111111111111111,
              "#46039f"
             ],
             [
              0.2222222222222222,
              "#7201a8"
             ],
             [
              0.3333333333333333,
              "#9c179e"
             ],
             [
              0.4444444444444444,
              "#bd3786"
             ],
             [
              0.5555555555555556,
              "#d8576b"
             ],
             [
              0.6666666666666666,
              "#ed7953"
             ],
             [
              0.7777777777777778,
              "#fb9f3a"
             ],
             [
              0.8888888888888888,
              "#fdca26"
             ],
             [
              1,
              "#f0f921"
             ]
            ],
            "type": "histogram2d"
           }
          ],
          "histogram2dcontour": [
           {
            "colorbar": {
             "outlinewidth": 0,
             "ticks": ""
            },
            "colorscale": [
             [
              0,
              "#0d0887"
             ],
             [
              0.1111111111111111,
              "#46039f"
             ],
             [
              0.2222222222222222,
              "#7201a8"
             ],
             [
              0.3333333333333333,
              "#9c179e"
             ],
             [
              0.4444444444444444,
              "#bd3786"
             ],
             [
              0.5555555555555556,
              "#d8576b"
             ],
             [
              0.6666666666666666,
              "#ed7953"
             ],
             [
              0.7777777777777778,
              "#fb9f3a"
             ],
             [
              0.8888888888888888,
              "#fdca26"
             ],
             [
              1,
              "#f0f921"
             ]
            ],
            "type": "histogram2dcontour"
           }
          ],
          "mesh3d": [
           {
            "colorbar": {
             "outlinewidth": 0,
             "ticks": ""
            },
            "type": "mesh3d"
           }
          ],
          "parcoords": [
           {
            "line": {
             "colorbar": {
              "outlinewidth": 0,
              "ticks": ""
             }
            },
            "type": "parcoords"
           }
          ],
          "pie": [
           {
            "automargin": true,
            "type": "pie"
           }
          ],
          "scatter": [
           {
            "marker": {
             "colorbar": {
              "outlinewidth": 0,
              "ticks": ""
             }
            },
            "type": "scatter"
           }
          ],
          "scatter3d": [
           {
            "line": {
             "colorbar": {
              "outlinewidth": 0,
              "ticks": ""
             }
            },
            "marker": {
             "colorbar": {
              "outlinewidth": 0,
              "ticks": ""
             }
            },
            "type": "scatter3d"
           }
          ],
          "scattercarpet": [
           {
            "marker": {
             "colorbar": {
              "outlinewidth": 0,
              "ticks": ""
             }
            },
            "type": "scattercarpet"
           }
          ],
          "scattergeo": [
           {
            "marker": {
             "colorbar": {
              "outlinewidth": 0,
              "ticks": ""
             }
            },
            "type": "scattergeo"
           }
          ],
          "scattergl": [
           {
            "marker": {
             "colorbar": {
              "outlinewidth": 0,
              "ticks": ""
             }
            },
            "type": "scattergl"
           }
          ],
          "scattermapbox": [
           {
            "marker": {
             "colorbar": {
              "outlinewidth": 0,
              "ticks": ""
             }
            },
            "type": "scattermapbox"
           }
          ],
          "scatterpolar": [
           {
            "marker": {
             "colorbar": {
              "outlinewidth": 0,
              "ticks": ""
             }
            },
            "type": "scatterpolar"
           }
          ],
          "scatterpolargl": [
           {
            "marker": {
             "colorbar": {
              "outlinewidth": 0,
              "ticks": ""
             }
            },
            "type": "scatterpolargl"
           }
          ],
          "scatterternary": [
           {
            "marker": {
             "colorbar": {
              "outlinewidth": 0,
              "ticks": ""
             }
            },
            "type": "scatterternary"
           }
          ],
          "surface": [
           {
            "colorbar": {
             "outlinewidth": 0,
             "ticks": ""
            },
            "colorscale": [
             [
              0,
              "#0d0887"
             ],
             [
              0.1111111111111111,
              "#46039f"
             ],
             [
              0.2222222222222222,
              "#7201a8"
             ],
             [
              0.3333333333333333,
              "#9c179e"
             ],
             [
              0.4444444444444444,
              "#bd3786"
             ],
             [
              0.5555555555555556,
              "#d8576b"
             ],
             [
              0.6666666666666666,
              "#ed7953"
             ],
             [
              0.7777777777777778,
              "#fb9f3a"
             ],
             [
              0.8888888888888888,
              "#fdca26"
             ],
             [
              1,
              "#f0f921"
             ]
            ],
            "type": "surface"
           }
          ],
          "table": [
           {
            "cells": {
             "fill": {
              "color": "#EBF0F8"
             },
             "line": {
              "color": "white"
             }
            },
            "header": {
             "fill": {
              "color": "#C8D4E3"
             },
             "line": {
              "color": "white"
             }
            },
            "type": "table"
           }
          ]
         },
         "layout": {
          "annotationdefaults": {
           "arrowcolor": "#2a3f5f",
           "arrowhead": 0,
           "arrowwidth": 1
          },
          "coloraxis": {
           "colorbar": {
            "outlinewidth": 0,
            "ticks": ""
           }
          },
          "colorscale": {
           "diverging": [
            [
             0,
             "#8e0152"
            ],
            [
             0.1,
             "#c51b7d"
            ],
            [
             0.2,
             "#de77ae"
            ],
            [
             0.3,
             "#f1b6da"
            ],
            [
             0.4,
             "#fde0ef"
            ],
            [
             0.5,
             "#f7f7f7"
            ],
            [
             0.6,
             "#e6f5d0"
            ],
            [
             0.7,
             "#b8e186"
            ],
            [
             0.8,
             "#7fbc41"
            ],
            [
             0.9,
             "#4d9221"
            ],
            [
             1,
             "#276419"
            ]
           ],
           "sequential": [
            [
             0,
             "#0d0887"
            ],
            [
             0.1111111111111111,
             "#46039f"
            ],
            [
             0.2222222222222222,
             "#7201a8"
            ],
            [
             0.3333333333333333,
             "#9c179e"
            ],
            [
             0.4444444444444444,
             "#bd3786"
            ],
            [
             0.5555555555555556,
             "#d8576b"
            ],
            [
             0.6666666666666666,
             "#ed7953"
            ],
            [
             0.7777777777777778,
             "#fb9f3a"
            ],
            [
             0.8888888888888888,
             "#fdca26"
            ],
            [
             1,
             "#f0f921"
            ]
           ],
           "sequentialminus": [
            [
             0,
             "#0d0887"
            ],
            [
             0.1111111111111111,
             "#46039f"
            ],
            [
             0.2222222222222222,
             "#7201a8"
            ],
            [
             0.3333333333333333,
             "#9c179e"
            ],
            [
             0.4444444444444444,
             "#bd3786"
            ],
            [
             0.5555555555555556,
             "#d8576b"
            ],
            [
             0.6666666666666666,
             "#ed7953"
            ],
            [
             0.7777777777777778,
             "#fb9f3a"
            ],
            [
             0.8888888888888888,
             "#fdca26"
            ],
            [
             1,
             "#f0f921"
            ]
           ]
          },
          "colorway": [
           "#636efa",
           "#EF553B",
           "#00cc96",
           "#ab63fa",
           "#FFA15A",
           "#19d3f3",
           "#FF6692",
           "#B6E880",
           "#FF97FF",
           "#FECB52"
          ],
          "font": {
           "color": "#2a3f5f"
          },
          "geo": {
           "bgcolor": "white",
           "lakecolor": "white",
           "landcolor": "#E5ECF6",
           "showlakes": true,
           "showland": true,
           "subunitcolor": "white"
          },
          "hoverlabel": {
           "align": "left"
          },
          "hovermode": "closest",
          "mapbox": {
           "style": "light"
          },
          "paper_bgcolor": "white",
          "plot_bgcolor": "#E5ECF6",
          "polar": {
           "angularaxis": {
            "gridcolor": "white",
            "linecolor": "white",
            "ticks": ""
           },
           "bgcolor": "#E5ECF6",
           "radialaxis": {
            "gridcolor": "white",
            "linecolor": "white",
            "ticks": ""
           }
          },
          "scene": {
           "xaxis": {
            "backgroundcolor": "#E5ECF6",
            "gridcolor": "white",
            "gridwidth": 2,
            "linecolor": "white",
            "showbackground": true,
            "ticks": "",
            "zerolinecolor": "white"
           },
           "yaxis": {
            "backgroundcolor": "#E5ECF6",
            "gridcolor": "white",
            "gridwidth": 2,
            "linecolor": "white",
            "showbackground": true,
            "ticks": "",
            "zerolinecolor": "white"
           },
           "zaxis": {
            "backgroundcolor": "#E5ECF6",
            "gridcolor": "white",
            "gridwidth": 2,
            "linecolor": "white",
            "showbackground": true,
            "ticks": "",
            "zerolinecolor": "white"
           }
          },
          "shapedefaults": {
           "line": {
            "color": "#2a3f5f"
           }
          },
          "ternary": {
           "aaxis": {
            "gridcolor": "white",
            "linecolor": "white",
            "ticks": ""
           },
           "baxis": {
            "gridcolor": "white",
            "linecolor": "white",
            "ticks": ""
           },
           "bgcolor": "#E5ECF6",
           "caxis": {
            "gridcolor": "white",
            "linecolor": "white",
            "ticks": ""
           }
          },
          "title": {
           "x": 0.05
          },
          "xaxis": {
           "automargin": true,
           "gridcolor": "white",
           "linecolor": "white",
           "ticks": "",
           "title": {
            "standoff": 15
           },
           "zerolinecolor": "white",
           "zerolinewidth": 2
          },
          "yaxis": {
           "automargin": true,
           "gridcolor": "white",
           "linecolor": "white",
           "ticks": "",
           "title": {
            "standoff": 15
           },
           "zerolinecolor": "white",
           "zerolinewidth": 2
          }
         }
        },
        "title": {
         "text": "2021 Fish Scatter Map"
        }
       }
      },
      "text/html": [
       "<div>                            <div id=\"0cb44141-0ba6-44d0-92fc-f6aac344fb65\" class=\"plotly-graph-div\" style=\"height:525px; width:100%;\"></div>            <script type=\"text/javascript\">                require([\"plotly\"], function(Plotly) {                    window.PLOTLYENV=window.PLOTLYENV || {};                                    if (document.getElementById(\"0cb44141-0ba6-44d0-92fc-f6aac344fb65\")) {                    Plotly.newPlot(                        \"0cb44141-0ba6-44d0-92fc-f6aac344fb65\",                        [{\"customdata\": [[14], [10], [10], [10], [5], [5], [10], [12], [5], [10], [20], [10], [10], [9], [37], [19], [9], [5], [5], [16], [23], [9], [8], [5], [8], [34], [7], [8], [5], [5], [5], [6], [8], [5], [5], [6], [40], [17], [7], [14], [6], [17], [9], [5], [6], [5], [24], [23], [29], [26], [8], [35], [5], [19], [19], [20], [47], [5], [18], [15], [13], [12], [5], [19], [20], [7], [22], [15], [20], [9], [8], [16], [16], [8], [21], [18], [15], [18], [8], [10], [21], [7], [28], [37], [13], [21], [7], [8], [9], [6], [9], [20], [10], [29], [12], [9], [9], [11], [6], [8], [18], [13], [6], [5], [4], [6], [5], [10], [25], [8], [24], [8], [8], [6], [8], [10], [10], [8], [8], [33], [10], [10], [5], [10], [12], [5], [30], [18], [9], [6], [6], [6], [10], [4], [8], [21], [7], [10], [6], [5], [11], [7], [10], [6], [7], [8], [10], [5], [10], [10], [6], [10], [6], [10], [10], [5], [10], [20], [10], [14], [10], [10], [11], [10], [10], [11], [10], [8], [10], [8], [5], [9], [5], [10], [10], [5], [5], [5], [5], [10], [6], [21], [5], [10], [5], [5], [10], [12], [9], [5], [3], [10], [5], [5], [10], [9], [5], [5], [11], [10], [10], [5], [16], [5], [10], [12], [10], [10], [4], [4], [12], [6], [5], [10], [11], [5], [14], [10], [5], [10], [6], [11], [6], [5], [6], [7], [12], [10], [6], [10], [9], [10], [5], [4], [5], [5], [7], [7], [5], [5], [5], [5], [5], [8], [8], [5], [5], [5], [6], [10], [9], [10], [4], [3], [4], [4], [9], [22], [6], [9], [5], [6], [13], [6], [14], [5], [4], [6], [10], [10], [9], [10], [8], [6], [20], [11], [5], [6], [8], [16], [9], [5], [5], [18], [18], [11], [5], [17], [8], [5], [22], [7], [12], [5], [10], [21], [8], [5], [16], [9], [5], [13], [46], [16], [11], [5], [6], [5], [15], [5], [13], [5], [16], [31], [5], [14], [12], [5], [12], [5], [13], [5], [8], [5], [8], [5], [12], [5], [20], [11], [5], [5], [9], [6], [8], [14], [17], [9], [5], [5], [5], [6], [11], [11], [5], [15], [6], [7], [12], [4], [9], [17], [5], [4], [6], [14], [7], [12], [11], [24], [9], [5], [7], [8], [4], [19], [9], [15], [6], [5], [7], [6], [5], [10], [35], [10], [11], [9], [14], [10], [12], [8], [6], [10], [5], [9], [7], [6], [9], [9], [4], [4], [15], [11], [9], [5], [5], [11], [17], [10], [15], [10], [10], [5], [9], [6], [6], [5], [7], [8], [6], [5], [5], [5], [5], [5], [5], [5], [17], [7], [5], [7], [9], [5], [9], [5], [6], [5], [16], [5], [5], [10], [13], [5], [7], [12], [9], [10], [5], [7], [7], [11], [10], [4], [11], [5], [5], [18], [5], [5], [5], [8], [5], [5], [13], [19], [6], [6], [5], [4], [5], [15], [5], [5], [12], [5], [17], [5], [5], [7], [5], [14], [5], [11], [14], [5], [5], [7], [4], [5], [18], [5], [15], [16], [13], [12], [22], [8], [9], [31], [6], [19], [4], [9], [4], [11], [5], [5], [5], [5], [15], [5], [5], [5], [5], [8], [5], [9], [5], [17], [5], [5], [5], [6], [5], [10], [5], [5], [9], [5], [5], [12], [14], [6], [6], [10], [5], [18], [6], [10], [8], [5], [9], [17], [6], [6], [7], [6], [4], [21], [10], [12], [4], [7], [11], [10], [9], [5], [5], [8], [5], [5], [5], [10], [12], [5], [7], [5], [15], [5], [4], [4], [24], [5], [30], [5], [10], [5], [5], [5], [5], [5], [5], [9], [5], [5], [5], [5], [5], [5], [5], [4], [7], [6], [5], [5], [4], [5], [8], [25], [6], [5], [4], [5], [7], [5], [9], [9], [10], [5], [15], [11], [4], [5], [10], [5], [8], [29], [5], [8], [5], [8], [5], [15], [4], [5], [4], [15], [5], [3], [5], [3], [6], [9], [8], [3], [5], [5], [4], [17], [11], [9], [9], [10], [8], [6], [6], [6], [10], [10], [10], [4], [11], [5], [9], [3], [4], [4], [15], [6], [11], [5], [13], [18], [4], [4], [24], [4], [17], [11], [10], [4], [9], [8], [6], [28], [5], [24], [30], [23], [5], [5], [5], [12], [8], [20], [13], [10], [21], [5], [5], [13], [15], [20], [27], [20], [5], [27], [5], [5], [18], [20], [6], [5], [9], [37], [5], [5], [18], [13], [5], [14], [20], [35], [16], [5], [26], [11], [5], [19], [43], [23], [5], [22], [37], [34], [34], [5], [20], [16], [29], [15], [5], [16], [5], [5], [5], [5], [6], [15], [5], [8], [26], [5], [5], [5], [34], [5], [8], [16], [5], [9], [16], [20], [49], [32], [5], [34], [17], [9], [19], [5], [5], [9], [5], [5], [13], [6], [23], [5], [5], [5], [5], [15], [5], [5], [5], [5], [5], [5], [5], [5], [5], [5], [12], [5], [5], [15], [19], [5], [5], [5], [5], [5], [5], [5], [7], [15], [15], [10], [32], [8], [6], [4], [13], [11], [9], [8], [6], [15], [8], [8], [10], [10], [9], [12], [12], [5], [12], [4], [6], [4], [6], [4], [8], [8], [4], [12], [10], [5], [7], [4], [6], [6], [25], [29], [5], [22], [12], [5], [4], [5], [5], [5], [5], [5], [5], [5], [5], [5], [6], [5], [5], [8], [4], [5], [4], [5], [5], [5], [12], [8], [5], [5], [5], [5], [5], [5], [5], [10], [5], [5], [5], [5], [5], [5], [5], [4], [5], [5], [5], [5], [5], [4], [5], [5], [5], [10], [40], [16], [10], [17], [8], [16], [13], [9], [40], [20], [10], [4], [4], [11], [23], [12], [9], [12], [34], [14], [8], [7], [15], [27], [12]], \"hovertemplate\": \"<b>%{hovertext}</b><br><br>Type=Dead<br>Location.latitude=%{lat}<br>Location.longitude=%{lon}<br>Location.accuracy=%{customdata[0]}<extra></extra>\", \"hovertext\": [\"1825 Dead Chum\", \"1700 Dead Chum\", \"1670 Dead Chum\", \"1560 Dead Chum\", \"1940 Dead Chum\", \"1800 Dead Chum\", \"1545 Dead Chum\", \"1800 Dead Chum\", \"1805 Dead Chum\", \"1525 Dead Chum\", \"1805 Dead Chum\", \"1500 Dead Chum\", \"1500 Dead Chum\", \"350 Dead Chum\", \"915 Dead Chum\", \"948 Dead Chum\", \"1095 Dead Chum\", \"435 Dead Chum\", \"1245 Dead Chum\", \"1250 Dead Chum\", \"730 Dead Chum\", \"1730 Dead Chum\", \"1730 Dead Chum\", \"1650 Dead Chum\", \"1715 Dead Chum\", \"1650 Dead Chum\", \"1700 Dead Chum\", \"1760 Dead Chum\", \"1600 Dead Coho\", \"1600 Dead Chum\", \"1600 Dead Chum\", \"1850 Dead Chum\", \"1850 Dead Chum\", \"1560 Dead Chum\", \"1560 Dead Chum\", \"1560 Dead Chum\", \"1560 Dead Chum\", \"625 Dead Chum\", \"1450 Dead Chum\", \"1460 Dead Chum\", \"1460 Dead Chum\", \"510 Dead Chum\", \"1300 Dead Chum\", \"1290 Dead Chum\", \"450 Dead Chum\", \"1250 Dead Chum\", \"1020 Dead Chum\", \"1250 Dead Chum\", \"1250 Dead Chum\", \"1250 Dead Chum\", \"1020 Dead Chum\", \"705 Dead Chum\", \"405 Dead Chum\", \"500 Dead Chum\", \"250 Dead Chum\", \"1915 Dead Chum\", \"330 Dead Chum\", \"330 Dead Chum\", \"340 Dead Chum\", \"1900 Dead Chum\", \"1870 Dead Chum\", \"1855 Dead Chum\", \"270 Dead Chum\", \"1812 Dead Chum\", \"1805 Dead Chum\", \"1800 Dead Chum\", \"1800 Dead Chum\", \"1780 Dead Chum\", \"1765 Dead Chum\", \"1760 Dead Chum\", \"1750 Dead Chum\", \"1540 Dead Chum\", \"1460 Dead Chum\", \"1460 Dead Chum\", \"1460 Dead Chum\", \"Dead Chum\", \"1350 Dead Chum\", \"1310 Dead Chum\", \"1280 Dead Chum\", \"1275 Dead Chum\", \"1270 Dead Chum\", \"1200 Dead Chum\", \"1195 Dead Chum\", \"1140 Dead Chum\", \"1155 Dead Chum\", \"1160 Dead Chum\", \"753 Dead Chum\", \"735 Dead Chum\", \"705 Dead Chum\", \"660 Dead Chum\", \"645 Dead Chum\", \"630 Dead Chum\", \"580 Dead Chum\", \"570 Dead Chum\", \"565 Dead Chum\", \"460 Dead Chum\", \"460 Dead Chum\", \"460 Dead Chum\", \"475 Dead Chum\", \"325 Dead Chum\", \"290 Dead Chum\", \"430 Dead Chum\", \"250 Dead Coho\", \"430 Dead Chum\", \"205 Dead Chum\", \"70 Dead Chum\", \"350 Dead Chum\", \"350 Dead Chum\", \"325 Dead Chum\", \"325 Dead Chum\", \"450 Dead Chum\", \"340 Dead Chum\", \"470 Dead Chum\", \"300 Dead Chum\", \"300 Dead Chum\", \"470 Dead Chum\", \"300 Dead Chum\", \"300 Dead Chum\", \"340 Dead Chum\", \"550 Dead Chum\", \"650 Dead Coho\", \"200 Dead Chum\", \"200 Dead Chum\", \"200 Dead Chum\", \"20 Dead Chum\", \"1300 Dead Chum\", \"1310 Dead Chum\", \"1315 Dead Chum\", \"1290 Dead Chum\", \"1290 Dead Chum\", \"1290 Dead Chum\", \"1275 Dead Chum\", \"1330 Dead Chum\", \"1290 Dead Chum\", \"1275 Dead Chum\", \"1100 Dead Chum\", \"1100 Dead Chum\", \"1350 Dead Chum\", \"1100 Dead Chum\", \"1350 Dead Chum\", \"1100 Dead Chum\", \"1100 Dead Chum\", \"1350 Dead Chum\", \"1100 Dead Chum\", \"1100 Dead Chum\", \"1100 Dead Chum\", \"1080 Dead Chum\", \"1400 Dead Chum\", \"1400 Dead Chum\", \"1400 Dead Chum\", \"1075 Dead Chum\", \"1400 Dead Chum\", \"1075 Dead Chum\", \"1140 Dead Chum\", \"1050 Dead Chum\", \"1450 Dead Chum\", \"1450 Dead Chum\", \"1050 Dead Chum\", \"1450 Dead Chum\", \"1200 Dead Chum\", \"1450 Dead Chum\", \"1450 Dead Chum\", \"1200 Dead Chum\", \"1000 Dead Chum\", \"1450 Dead Chum\", \"1000 Dead Chum\", \"1450 Dead Chum\", \"1200 Dead Chum\", \"1450 Dead Chum\", \"960 Dead Chum\", \"1230 Dead Chum\", \"950 Dead Chum\", \"1490 Dead Chum\", \"1490 Dead Chum\", \"900 Dead Chum\", \"1490 Dead Chum\", \"1490 Dead Chum\", \"1490 Dead Chum\", \"1490 Dead Chum\", \"1490 Dead Chum\", \"850 Dead Chum\", \"900 Dead Chum\", \"850 Dead Chum\", \"1540 Dead Chum\", \"1540 Dead Chum\", \"1540 Dead Chum\", \"1540 Dead Chum\", \"750 Dead Chum\", \"720 Dead Chum\", \"1570 Dead Chum\", \"705 Dead Chum\", \"1570 Dead Chum\", \"705 Dead Chum\", \"1570 Dead Chum\", \"1570 Dead Chum\", \"705 Dead Chum\", \"600 Dead Chum\", \"1570 Dead Chum\", \"600 Dead Chum\", \"1570 Dead Chum\", \"1600 Dead Chum\", \"1600 Dead Chum\", \"450 Dead Chum\", \"1600 Dead Chum\", \"1600 Dead Chum\", \"490 Dead Chum\", \"1600 Dead Chum\", \"1600 Dead Chum\", \"490 Dead Chum\", \"515 Dead Chum\", \"650 Dead Chum\", \"530 Dead Chum\", \"1710 Dead Chum\", \"1710 Dead Chum\", \"625 Dead Chum\", \"1710 Dead Chum\", \"440 Dead Chum\", \"1710 Dead Chum\", \"440 Dead Chum\", \"1710 Dead Chum\", \"440 Dead Chum\", \"440 Dead Chum\", \"440 Dead Chum\", \"610 Dead Chum\", \"440 Dead Chum\", \"440 Dead Coho\", \"605 Dead Chum\", \"1740 Dead Chum\", \"610 Dead Chum\", \"1750 Dead Chum\", \"610 Dead Chum\", \"1800 Dead Chum\", \"605 Dead Chum\", \"605 Dead Chum\", \"1840 Dead Chum\", \"1840 Dead Chum\", \"405 Dead Chum\", \"405 Dead Chum\", \"1890 Dead Chum\", \"1890 Dead Chum\", \"355 Dead Chum\", \"1890 Dead Chum\", \"1890 Dead Chum\", \"560 Dead Chum\", \"355 Dead Chum\", \"1890 Dead Chum\", \"1890 Dead Chum\", \"350 Dead Chum\", \"350 Dead Chum\", \"1940 Dead Chum\", \"300 Dead Chum\", \"1975 Dead Chum\", \"300 Dead Chum\", \"240 Dead Chum\", \"100 Dead Chum\", \"0 Dead Chum\", \"0 Dead Chum\", \"1720 Dead Chum\", \"1600 Dead Coho\", \"1600 Dead Chum\", \"1685 Dead Chum\", \"1600 Dead Chum\", \"1600 Dead Chum\", \"1600 Dead Chum\", \"345 Dead Chum\", \"1600 Dead Chum\", \"325 Dead Chum\", \"345 Dead Chum\", \"345 Dead Chum\", \"325 Dead Chum\", \"1530 Dead Chum\", \"1535 Dead Chum\", \"1530 Dead Chum\", \"325 Dead Chum\", \"1570 Dead Chum\", \"325 Dead Chum\", \"1530 Dead Chum\", \"350 Dead Chum\", \"325 Dead Chum\", \"350 Dead Chum\", \"350 Dead Chum\", \"1495 Dead Chum\", \"350 Dead Chum\", \"1500 Dead Chum\", \"310 Dead Chum\", \"1485 Dead Chum\", \"400 Dead Chum\", \"1460 Dead Chum\", \"255 Dead Chum\", \"1460 Dead Chum\", \"1450 Dead Chum\", \"255 Dead Chum\", \"1430 Dead Chum\", \"260 Dead Chum\", \"260 Dead Chum\", \"1430 Dead Chum\", \"260 Dead Chum\", \"1400 Dead Chum\", \"255 Dead Chum\", \"1375 Dead Chum\", \"1395 Dead Chum\", \"1370 Dead Chum\", \"1390 Dead Chum\", \"1375 Dead Chum\", \"225 Dead Chum\", \"1310 Dead Chum\", \"225 Dead Chum\", \"1310 Dead Chum\", \"1315 Dead Chum\", \"1300 Dead Chum\", \"1310 Dead Chum\", \"1300 Dead Chum\", \"150 Dead Chum\", \"1295 Dead Chum\", \"150 Dead Chum\", \"1200 Dead Chum\", \"1185 Dead Chum\", \"1155 Dead Chum\", \"1160 Dead Chum\", \"1155 Dead Chum\", \"1107 Dead Chum\", \"1075 Dead Chum\", \"1080 Dead Chum\", \"1075 Dead Chum\", \"1080 Dead Chum\", \"1075 Dead Chum\", \"1080 Dead Chum\", \"1075 Dead Chum\", \"1900 Dead Chum\", \"1080 Dead Chum\", \"1075 Dead Chum\", \"1080 Dead Chum\", \"1800 Dead Chum\", \"1055 Dead Chum\", \"1050 Dead Chum\", \"1050 Dead Chum\", \"1775 Dead Chum\", \"950 Dead Chum\", \"995 Dead Chum\", \"995 Dead Chum\", \"890 Dead Chum\", \"870 Dead Chum\", \"890 Dead Chum\", \"870 Dead Chum\", \"830 Dead Chum\", \"825 Dead Chum\", \"830 Dead Chum\", \"775 Dead Chum\", \"770 Dead Chum\", \"425 Dead Chum\", \"425 Dead Chum\", \"425 Dead Chum\", \"708 Dead Chum\", \"425 Dead Chum\", \"425 Dead Chum\", \"750 Dead Chum\", \"425 Dead Chum\", \"425 Dead Chum\", \"730 Dead Chum\", \"425 Dead Chum\", \"730 Dead Chum\", \"730 Dead Chum\", \"405 Dead Chum\", \"705 Dead Chum\", \"405 Dead Chum\", \"705 Dead Chum\", \"405 Dead Chum\", \"640 Dead Chum\", \"635 Dead Chum\", \"630 Dead Chum\", \"400 Dead Chum\", \"630 Dead Chum\", \"595 Dead Chum\", \"400 Dead Chum\", \"630 Dead Chum\", \"1250 Dead Chum\", \"600 Dead Chum\", \"350 Dead Chum\", \"590 Dead Chum\", \"350 Dead Chum\", \"590 Dead Chum\", \"575 Dead Coho\", \"275 Dead Chum\", \"250 Dead Chum\", \"250 Dead Chum\", \"250 Dead Chum\", \"565 Dead Chum\", \"200 Dead Chum\", \"545 Dead Chum\", \"200 Dead Chum\", \"200 Dead Chum\", \"545 Dead Chum\", \"540 Dead Chum\", \"515 Dead Chum\", \"145 Dead Chum\", \"500 Dead Chum\", \"500 Dead Chum\", \"90 Dead Chum\", \"480 Dead Chum\", \"90 Dead Chum\", \"480 Dead Chum\", \"50 Dead Chum\", \"0 Dead Chum\", \"0 Dead Chum\", \"0 Dead Chum\", \"1510 Dead Chum\", \"1508 Dead Chum\", \"1510 Dead Chum\", \"1507 Dead Chum\", \"1510 Dead Chum\", \"1502 Dead Chum\", \"1500 Dead Chum\", \"1450 Dead Chum\", \"1450 Dead Chum\", \"1450 Dead Chum\", \"1450 Dead Chum\", \"1450 Dead Chum\", \"1450 Dead Chum\", \"1592 Dead Chum\", \"1575 Dead Chum\", \"1450 Dead Coho\", \"1575 Dead Chum\", \"1595 Dead Chum\", \"1450 Dead Chum\", \"1575 Dead Chum\", \"1450 Dead Chum\", \"1575 Dead Chum\", \"1450 Dead Chum\", \"1610 Dead Chum\", \"1450 Dead Chum\", \"1450 Dead Chum\", \"1608 Dead Chum\", \"1605 Dead Chum\", \"1450 Dead Chum\", \"1450 Dead Coho\", \"1620 Dead Chum\", \"1550 Dead Chum\", \"1620 Dead Chum\", \"1620 Dead Chum\", \"1400 Dead Chum\", \"1540 Dead Chum\", \"1635 Dead Chum\", \"1400 Dead Chum\", \"1540 Dead Chum\", \"1656 Dead Chum\", \"1400 Dead Chum\", \"1400 Dead Chum\", \"1655 Dead Chum\", \"1400 Dead Chum\", \"1400 Dead Chum\", \"1400 Dead Chum\", \"1654 Dead Chum\", \"1400 Dead Chum\", \"1400 Dead Chum\", \"1653 Dead Chum\", \"1652 Dead Chum\", \"1400 Dead Chum\", \"1651 Dead Chum\", \"1650 Dead Chum\", \"1210 Dead Chum\", \"1310 Dead Chum\", \"1680 Dead Coho\", \"1310 Dead Chum\", \"1310 Dead Chum\", \"1682 Dead Chum\", \"1310 Dead Chum\", \"1685 Dead Chum\", \"1310 Dead Chum\", \"1310 Dead Chum\", \"1684 Dead Chum\", \"1310 Dead Chum\", \"1686 Dead Chum\", \"1310 Dead Chum\", \"1190 Dead Chum\", \"1680 Dead Chum\", \"1310 Dead Chum\", \"1310 Dead Chum\", \"1688 Dead Chum\", \"1190 Dead Chum\", \"1310 Dead Chum\", \"1690 Dead Chum\", \"1310 Dead Chum\", \"1692 Dead Chum\", \"1695 Dead Chum\", \"1200 Dead Chum\", \"1860 Dead Chum\", \"1860 Dead Chum\", \"1155 Dead Chum\", \"1290 Dead Chum\", \"1860 Dead Chum\", \"1140 Dead Chum\", \"1855 Dead Chum\", \"1140 Dead Chum\", \"1855 Dead Chum\", \"1140 Dead Chum\", \"1655 Dead Chum\", \"1250 Dead Chum\", \"1250 Dead Chum\", \"1250 Dead Chum\", \"1250 Dead Chum\", \"1680 Dead Chum\", \"1250 Dead Chum\", \"1250 Dead Chum\", \"1250 Dead Chum\", \"1250 Dead Chum\", \"1708 Dead Chum\", \"1250 Dead Chum\", \"1710 Dead Chum\", \"1250 Dead Chum\", \"1705 Dead Chum\", \"1762 Dead Chum\", \"1250 Dead Chum\", \"1250 Dead Chum\", \"1090 Dead Chum\", \"1250 Dead Chum\", \"1995 Dead Chum\", \"1090 Dead Coho\", \"1250 Dead Chum\", \"1798 Dead Chum\", \"1250 Dead Chum\", \"1250 Dead Chum\", \"1800 Dead Chum\", \"1802 Dead Chum\", \"1090 Dead Chum\", \"1090 Dead Chum\", \"1806 Dead Chum\", \"1090 Dead Chum\", \"1810 Dead Chum\", \"1090 Dead Chum\", \"1810 Dead Chum\", \"1090 Dead Chum\", \"1090 Dead Chum\", \"1940 Dead Chum\", \"1835 Dead Chum\", \"1090 Dead Chum\", \"1090 Dead Chum\", \"1090 Dead Chum\", \"1850 Dead Chum\", \"1090 Dead Chum\", \"1850 Dead Chum\", \"1860 Dead Chum\", \"1860 Dead Chum\", \"200 Dead Chum\", \"250 Dead Chum\", \"1075 Dead Chum\", \"1875 Dead Chum\", \"1075 Dead Chum\", \"260 Dead Chum\", \"260 Dead Chum\", \"1885 Dead Chum\", \"300 Dead Chum\", \"300 Dead Chum\", \"300 Dead Chum\", \"1055 Dead Chum\", \"1930 Dead Chum\", \"300 Dead Chum\", \"1055 Dead Chum\", \"300 Dead Chum\", \"1930 Dead Chum\", \"300 Dead Chum\", \"300 Dead Chum\", \"1055 Dead Chum\", \"1935 Dead Chum\", \"300 Dead Chum\", \"1050 Dead Chum\", \"290 Dead Chum\", \"1990 Dead Chum\", \"290 Dead Chum\", \"290 Dead Chum\", \"300 Dead Chum\", \"300 Dead Chum\", \"300 Dead Chum\", \"300 Dead Chum\", \"1025 Dead Chum\", \"300 Dead Chum\", \"1025 Dead Chum\", \"350 Dead Chum\", \"350 Dead Chum\", \"350 Dead Chum\", \"350 Dead Chum\", \"350 Dead Chum\", \"350 Dead Chum\", \"1010 Dead Chum\", \"1010 Dead Chum\", \"390 Dead Chum\", \"400 Dead Chum\", \"975 Dead Chum\", \"400 Dead Chum\", \"400 Dead Chum\", \"950 Dead Chum\", \"940 Dead Chum\", \"450 Dead Chum\", \"450 Dead Chum\", \"450 Dead Chum\", \"925 Dead Chum\", \"470 Dead Chum\", \"925 Dead Chum\", \"470 Dead Chum\", \"925 Dead Chum\", \"925 Dead Chum\", \"500 Dead Chum\", \"890 Dead Chum\", \"890 Dead Chum\", \"0 Dead Chum\", \"875 Dead Chum\", \"0 Dead Chum\", \"0 Dead Chum\", \"875 Dead Chum\", \"875 Dead Chum\", \"875 Dead Chum\", \"140 Dead Chum\", \"100 Dead Chum\", \"800 Dead Chum\", \"800 Dead Chum\", \"775 Dead Chum\", \"775 Dead Chum\", \"775 Dead Chum\", \"775 Dead Chum\", \"760 Dead Chum\", \"750 Dead Chum\", \"750 Dead Chum\", \"750 Dead Chum\", \"750 Dead Chum\", \"720 Dead Chum\", \"720 Dead Chum\", \"720 Dead Chum\", \"700 Dead Chum\", \"700 Dead Chum\", \"650 Dead Chum\", \"650 Dead Chum\", \"625 Dead Chum\", \"625 Dead Chum\", \"625 Dead Chum\", \"625 Dead Chum\", \"615 Dead Chum\", \"615 Dead Chum\", \"590 Dead Chum\", \"595 Dead Chum\", \"590 Dead Chum\", \"590 Dead Chum\", \"590 Dead Chum\", \"580 Dead Chum\", \"580 Dead Chum\", \"565 Dead Chum\", \"565 Dead Chum\", \"565 Dead Chum\", \"525 Dead Coho\", \"475 Dead Chum\", \"475 Dead Chum\", \"450 Dead Chum\", \"445 Dead Chum\", \"415 Dead Chum\", \"400 Dead Chum\", \"355 Dead Chum\", \"355 Dead Chum\", \"300 Dead Chum\", \"200 Dead Chum\", \"50 Dead Chum\", \"0 Dead Chum\", \"0 Dead Chum\", \"0 Dead Chum\", \"0 Dead Chum\", \"436 Dead Chum\", \"430 Dead Coho\", \"420 Dead Chum\", \"770 Dead Chum\", \"475 Dead Chum\", \"735 Dead Chum\", \"475 Dead Chum\", \"460 Dead Chum\", \"450 Dead Chum\", \"450 Dead Chum\", \"450 Dead Chum\", \"300 Dead Chum\", \"200 Dead Chum\", \"1745 Dead Chum\", \"1700 Dead Chum\", \"1660 Dead Chum\", \"1700 Dead Chum\", \"1655 Dead Chum\", \"1650 Dead Chum\", \"1650 Dead Chum\", \"1590 Dead Chum\", \"1640 Dead Chum\", \"1550 Dead Chum\", \"1630 Dead Chum\", \"1540 Dead Chum\", \"1545 Dead Chum\", \"1540 Dead Chum\", \"1490 Dead Chum\", \"1540 Dead Chum\", \"1500 Dead Chum\", \"1460 Dead Chum\", \"1480 Dead Chum\", \"11480 Dead Chum\", \"1460 Dead Chum\", \"1400 Dead Chum\", \"1400 Dead Chum\", \"1400 Dead Chum\", \"1375 Dead Chum\", \"1325 Dead Chum\", \"1230 Dead Chum\", \"1215 Dead Chum\", \"1160 Dead Chum\", \"1155 Dead Chum\", \"1050 Dead Chum\", \"1055 Dead Chum\", \"1050 Dead Chum\", \"950 Dead Coho\", \"950 Dead Chum\", \"900 Dead Chum\", \"845 Dead Chum\", \"800 Dead Chum\", \"775 Dead Coho\", \"610 Dead Chum\", \"750 Dead Chum\", \"750 Dead Chum\", \"750 Dead Chum\", \"750 Dead Chum\", \"588 Dead Chum\", \"750 Dead Chum\", \"590 Dead Chum\", \"715 Dead Coho\", \"715 Dead Chum\", \"600 Dead Chum\", \"635 Dead Chum\", \"595 Dead Chum\", \"635 Dead Chum\", \"635 Dead Chum\", \"575 Dead Chum\", \"540 Dead Chum\", \"540 Dead Chum\", \"550 Dead Chum\", \"475 Dead Chum\", \"475 Dead Chum\", \"435 Dead Chum\", \"465 Dead Chum\", \"435 Dead Chum\", \"425 Dead Chum\", \"375 Dead Chum\", \"360 Dead Chum\", \"365 Dead Coho\", \"360 Dead Chum\", \"305 Dead Chum\", \"305 Dead Coho\", \"255 Dead Chum\", \"195 Dead Chum\", \"195 Dead Chum\", \"200 Dead Coho\", \"185 Dead Chum\", \"175 Dead Chum\", \"138 Dead Chum\", \"130 Dead Chum\", \"130 Dead Chum\", \"105 Dead Chum\", \"105 Dead Chum\", \"100 Dead Coho\", \"55 Dead Chum\", \"70 Dead Chum\", \"45 Dead Chum\", \"45 Dead Chum\", \"0 Dead Chum\", \"0 Dead Coho\", \"0 Dead Chum\", \"0 Dead Coho\", \"0 Dead Coho\", \"0 Dead Chum\", \"0 Dead Chum\", \"0 Dead Chum\", \"0 Dead Coho\", \"0 Dead Coho\", \"0 Dead Chum\", \"0 Dead Chum\", \"0 Dead Chum\", \"0 Dead Coho\", \"0 Dead Chum\", \"0 Dead Coho\", \"0 Dead Chum\", \"0 Dead Coho\", \"0 Dead Coho\", \"0 Dead Coho\", \"0 Dead Coho\", \"0 Dead Coho\", \"0 Dead Coho\", \"0 Dead Coho\", \"0 Dead Chum\", \"0 Dead Coho\", \"310 Dead Chum\", \"310 Dead Chum\", \"310 Dead Chum\", \"300 Dead Chum\", \"200 Dead Chum\", \"2000 Dead Coho\", \"1900 Dead Chum\", \"1750 Dead Chum\", \"1550 Dead Chum\", \"1600 Dead Chum\", \"1550 Dead Chum\", \"1460 Dead Chum\", \"1320 Dead Chum\", \"1250 Dead Chum\", \"1130 Dead Chum\", \"1075 Dead Chum\", \"1075 Dead Chum\", \"1075 Dead Chum\", \"1050 Dead Chum\", \"1000 Dead Chum\", \"850 Dead Chum\", \"705 Dead Chum\", \"615 Dead Chum\", \"575 Dead Chum\", \"530 Dead Chum\", \"550 Dead Chum\", \"310 Dead Chum\", \"375 Dead Chum\", \"300 Dead Chum\", \"225 Dead Chum\", \"200 Dead Chum\", \"160 Dead Chum\", \"0 Dead Chum\", \"0 Dead Unknown\", \"0 Dead Chum\", \"0 Dead Chum\", \"0 Dead Chum\", \"725 Dead Chum\", \"720 Dead Chum\", \"700 Dead Chum\", \"690 Dead Chum\", \"670 Dead Chum\", \"500 Dead Chum\", \"485 Dead Chum\", \"455 Dead Chum\", \"395 Dead Chum\", \"395 Dead Chum\", \"395 Dead Chum\", \"355 Dead Chum\", \"355 Dead Chum\", \"165 Dead Chum\", \"65 Dead Chum\", \"60 Dead Chum\", \"1850 Dead Coho\", \"1765 Dead Chum\", \"1750 Dead Chum\", \"1700 Dead Coho\", \"1600 Dead Chum\", \"1500 Dead Chum\", \"1475 Dead Chum\", \"1450 Dead Chum\", \"1450 Dead Chum\", \"1450 Dead Chum\", \"1450 Dead Chum\", \"1250 Dead Chum\", \"1075 Dead Coho\", \"920 Dead Coho\", \"875 Dead Coho\", \"800 Dead Coho\", \"775 Dead Chum\", \"660 Dead Chum\", \"840 Dead Chum\", \"850 Dead Chum\", \"655 Dead Chum\", \"660 Dead Chum\", \"640 Dead Chum\", \"620 Dead Coho\", \"610 Dead Coho\", \"605 Dead Chum\", \"600 Dead Chum\", \"600 Dead Chum\", \"600 Dead Chum\", \"440 Dead Coho\", \"420 Dead Chum\", \"425 Dead Chum\", \"400 Dead Chum\", \"210 Dead Chum\", \"155 Dead Chum\", \"0 Dead Coho\", \"190 Dead Chum\", \"90 Dead Chum\", \"1985 Dead Coho\", \"1885 Dead Chum\", \"1810 Dead Chum\", \"1710 Dead Chum\", \"1690 Dead Chum\", \"1320 Dead Coho\", \"895 Dead Chum\", \"775 Dead Chum\", \"650 Dead Chum\", \"610 Dead Chum\", \"0 Dead Coho\", \"675 Dead Chum\", \"750 Dead Chum\", \"770 Dead Chum\", \"1490 Dead Chum\", \"1400 Dead Coho\", \"1325 Dead Chum\", \"575 Dead Coho\", \"575 Dead Coho\", \"525 Dead Coho\", \"0 Dead Chum\", \"0 Dead Chum\", \"175 Dead Coho\", \"1875 Dead Coho\", \"60 Dead Coho\"], \"lat\": [47.711029, 47.711026, 47.711106, 47.711069, 47.71091, 47.711049, 47.711061, 47.711046, 47.711059, 47.711083, 47.711046, 47.711093, 47.711116, 47.711652, 47.711437, 47.711268, 47.711314, 47.711606, 47.711177, 47.711316, 47.711164, 47.711095, 47.711098, 47.711239, 47.711097, 47.7113, 47.711099, 47.710994, 47.711324, 47.711458, 47.711344, 47.711011, 47.711011, 47.711389, 47.711497, 47.711459, 47.711984, 47.711931, 47.711236, 47.711288, 47.711189, 47.711487, 47.711138, 47.71122, 47.711645, 47.71116, 47.711298, 47.711228, 47.710891, 47.711294, 47.711446, 47.711639, 47.711717, 47.711728, 47.711785, 47.710881, 47.711522, 47.711653, 47.711765, 47.710914, 47.710865, 47.71094, 47.711457, 47.710973, 47.710911, 47.710957, 47.711153, 47.711361, 47.711013, 47.711034, 47.711185, 47.711239, 47.711238, 47.711142, 47.711123, 47.711329, 47.71124, 47.711109, 47.711314, 47.711257, 47.711412, 47.711266, 47.711631, 47.71137, 47.711269, 47.711196, 47.711545, 47.711452, 47.711521, 47.711528, 47.711553, 47.711471, 47.711324, 47.71161, 47.711745, 47.71164, 47.711638, 47.711592, 47.711668, 47.711667, 47.711554, 47.711666, 47.711733, 47.71157, 47.711735, 47.712033, 47.711642, 47.711633, 47.711671, 47.711647, 47.711849, 47.711625, 47.711882, 47.711625, 47.711626, 47.712015, 47.711681, 47.711839, 47.711807, 47.711905, 47.712117, 47.711538, 47.711487, 47.71149, 47.710969, 47.711252, 47.710946, 47.711025, 47.711213, 47.71123, 47.711237, 47.71121, 47.711272, 47.711261, 47.711233, 47.71139, 47.711367, 47.711236, 47.711341, 47.71106, 47.71167, 47.711403, 47.71106, 47.711335, 47.711373, 47.711397, 47.71143, 47.711139, 47.711139, 47.711233, 47.711436, 47.711382, 47.711458, 47.711264, 47.71143, 47.71117, 47.711238, 47.711451, 47.711242, 47.711286, 47.71122, 47.71121, 47.71115, 47.711446, 47.711113, 47.7114, 47.711211, 47.711174, 47.711279, 47.711372, 47.711227, 47.711433, 47.71113, 47.71113, 47.711446, 47.71113, 47.71113, 47.711123, 47.711123, 47.711175, 47.711396, 47.711752, 47.711514, 47.711085, 47.711291, 47.711291, 47.711473, 47.7115, 47.711501, 47.711249, 47.711547, 47.711192, 47.711473, 47.711201, 47.711229, 47.711438, 47.711524, 47.711229, 47.711614, 47.711414, 47.711237, 47.711258, 47.711499, 47.711258, 47.711321, 47.71137, 47.711213, 47.711234, 47.711604, 47.711601, 47.711877, 47.711592, 47.711023, 47.711013, 47.711514, 47.711052, 47.711569, 47.711052, 47.711568, 47.711127, 47.711517, 47.711503, 47.711403, 47.711505, 47.711417, 47.711549, 47.711571, 47.711344, 47.711562, 47.710807, 47.711541, 47.710824, 47.711555, 47.711611, 47.711041, 47.711049, 47.711718, 47.71168, 47.711094, 47.71103, 47.711678, 47.711024, 47.710983, 47.711593, 47.711754, 47.710983, 47.710921, 47.711675, 47.711641, 47.711046, 47.711658, 47.711113, 47.711579, 47.711747, 47.711853, 47.71205, 47.711321, 47.711027, 47.711149, 47.711182, 47.711004, 47.711234, 47.711176, 47.71118, 47.711689, 47.711232, 47.711628, 47.711694, 47.711654, 47.711637, 47.711206, 47.711242, 47.711247, 47.711652, 47.711029, 47.711588, 47.711332, 47.711675, 47.711638, 47.711655, 47.711663, 47.711072, 47.711507, 47.711134, 47.711682, 47.711122, 47.711693, 47.711277, 47.7115, 47.711192, 47.711382, 47.711556, 47.711388, 47.711504, 47.711496, 47.711404, 47.711489, 47.711105, 47.711456, 47.711271, 47.711195, 47.711281, 47.710912, 47.711124, 47.711374, 47.711248, 47.711398, 47.711195, 47.71121, 47.711228, 47.711364, 47.711176, 47.711242, 47.711062, 47.711247, 47.71134, 47.711242, 47.711404, 47.711436, 47.711417, 47.711289, 47.711319, 47.711348, 47.711269, 47.711343, 47.711364, 47.711319, 47.711271, 47.710987, 47.711326, 47.711333, 47.711322, 47.711047, 47.711317, 47.71132, 47.711449, 47.711089, 47.711398, 47.711372, 47.711293, 47.711406, 47.711405, 47.71136, 47.711294, 47.711395, 47.711326, 47.711374, 47.711462, 47.7114, 47.711621, 47.711623, 47.711594, 47.711608, 47.711598, 47.711566, 47.711736, 47.711639, 47.711616, 47.71155, 47.711684, 47.711614, 47.711627, 47.711652, 47.71157, 47.711624, 47.711457, 47.711599, 47.711609, 47.711537, 47.711574, 47.711539, 47.711488, 47.711585, 47.711462, 47.711645, 47.711301, 47.711589, 47.71169, 47.711576, 47.711658, 47.711518, 47.711519, 47.711766, 47.711782, 47.711781, 47.711817, 47.711611, 47.711729, 47.711571, 47.711754, 47.71168, 47.711527, 47.711662, 47.711679, 47.711778, 47.711638, 47.71167, 47.71186, 47.711695, 47.711852, 47.711576, 47.711827, 47.711942, 47.712025, 47.711945, 47.711155, 47.71121, 47.711134, 47.711204, 47.711176, 47.711287, 47.711291, 47.711228, 47.711216, 47.711206, 47.7112, 47.711201, 47.711206, 47.711256, 47.711213, 47.711126, 47.71121, 47.711359, 47.71119, 47.711185, 47.711164, 47.71115, 47.711167, 47.711395, 47.711135, 47.711221, 47.711388, 47.711342, 47.711172, 47.711256, 47.711331, 47.711136, 47.711331, 47.711226, 47.711233, 47.711149, 47.711226, 47.711237, 47.711147, 47.711134, 47.711201, 47.711233, 47.711235, 47.711208, 47.711265, 47.711211, 47.711155, 47.711249, 47.711244, 47.71109, 47.711104, 47.711216, 47.711162, 47.711217, 47.71131, 47.711209, 47.711218, 47.711203, 47.711238, 47.711168, 47.711221, 47.711197, 47.711174, 47.711252, 47.711166, 47.711288, 47.711117, 47.711301, 47.711289, 47.711074, 47.711287, 47.711244, 47.711087, 47.711283, 47.711261, 47.711158, 47.711204, 47.711137, 47.711056, 47.710909, 47.711267, 47.711125, 47.711397, 47.711274, 47.710997, 47.711411, 47.711052, 47.711366, 47.710962, 47.711435, 47.710915, 47.711224, 47.711251, 47.71122, 47.711223, 47.711376, 47.711253, 47.711285, 47.71124, 47.71127, 47.711066, 47.711293, 47.711132, 47.711272, 47.711244, 47.71112, 47.711268, 47.711261, 47.711408, 47.71124, 47.711066, 47.711402, 47.711266, 47.71107, 47.711232, 47.711258, 47.711239, 47.711223, 47.711387, 47.711388, 47.711188, 47.711389, 47.711169, 47.711389, 47.710984, 47.711376, 47.711373, 47.710937, 47.711053, 47.711374, 47.711405, 47.711431, 47.710942, 47.711432, 47.710956, 47.710958, 47.710902, 47.711403, 47.711512, 47.7114, 47.711016, 47.71139, 47.711552, 47.711464, 47.710975, 47.711644, 47.711653, 47.711643, 47.711423, 47.710941, 47.711684, 47.711413, 47.711696, 47.710933, 47.711769, 47.711692, 47.711328, 47.71066, 47.711607, 47.711714, 47.711675, 47.710952, 47.711679, 47.711643, 47.711648, 47.711643, 47.711676, 47.711669, 47.711413, 47.711704, 47.711398, 47.711671, 47.711622, 47.711617, 47.711645, 47.711633, 47.71156, 47.711441, 47.711365, 47.71162, 47.711719, 47.711348, 47.711703, 47.711691, 47.711349, 47.711478, 47.711806, 47.71184, 47.711851, 47.711368, 47.711854, 47.711322, 47.711778, 47.711286, 47.711486, 47.711874, 47.711497, 47.711514, 47.712143, 47.711355, 47.712185, 47.712131, 47.711437, 47.71144, 47.711502, 47.712434, 47.712373, 47.711605, 47.71161, 47.711428, 47.711423, 47.711417, 47.711441, 47.711462, 47.711484, 47.711465, 47.711419, 47.711503, 47.711486, 47.711469, 47.711494, 47.711512, 47.711505, 47.711487, 47.711545, 47.71155, 47.711553, 47.711582, 47.711583, 47.711567, 47.71161, 47.711614, 47.71163, 47.711582, 47.711579, 47.711578, 47.711569, 47.711582, 47.711615, 47.71161, 47.711571, 47.711497, 47.711588, 47.711521, 47.71153, 47.711496, 47.711567, 47.71163, 47.711639, 47.711675, 47.711652, 47.711671, 47.711726, 47.711445, 47.711309, 47.711742, 47.71181, 47.711682, 47.711721, 47.711599, 47.712422, 47.711916, 47.712255, 47.711924, 47.711929, 47.711746, 47.711786, 47.711793, 47.711699, 47.711303, 47.711295, 47.711239, 47.711085, 47.711215, 47.711174, 47.711142, 47.711115, 47.711138, 47.711232, 47.711093, 47.711089, 47.711189, 47.71132, 47.71117, 47.711189, 47.71118, 47.711216, 47.71115, 47.711181, 47.711255, 47.711225, 47.711159, 47.711151, 47.711154, 47.71119, 47.711225, 47.711208, 47.711119, 47.711394, 47.71124, 47.711186, 47.711161, 47.711365, 47.711352, 47.711289, 47.711393, 47.711428, 47.711435, 47.711367, 47.711368, 47.711558, 47.711522, 47.711526, 47.711462, 47.711513, 47.711497, 47.711444, 47.711512, 47.711485, 47.711538, 47.711569, 47.711474, 47.711551, 47.711443, 47.711522, 47.711605, 47.711581, 47.71161, 47.711541, 47.71159, 47.711585, 47.711303, 47.711577, 47.711571, 47.711714, 47.711609, 47.711602, 47.71157, 47.711581, 47.711555, 47.711707, 47.711827, 47.71177, 47.711711, 47.711769, 47.711772, 47.711766, 47.711794, 47.7118, 47.711795, 47.711763, 47.711799, 47.711783, 47.711765, 47.711871, 47.711883, 47.711013, 47.711022, 47.711024, 47.71128, 47.7113, 47.711307, 47.711289, 47.711285, 47.711288, 47.711284, 47.711281, 47.711281, 47.711289, 47.71126, 47.711554, 47.711546, 47.711489, 47.71216, 47.712167, 47.712186, 47.712186, 47.712185, 47.712189, 47.712212, 47.712194, 47.712183, 47.711588, 47.711579, 47.711536, 47.711479, 47.711389, 47.711032, 47.711021, 47.711107, 47.711219, 47.711174, 47.711194, 47.711221, 47.711561, 47.711202, 47.71145, 47.711464, 47.711467, 47.71146, 47.711391, 47.711537, 47.711543, 47.711604, 47.711522, 47.711524, 47.711602, 47.711608, 47.711583, 47.711383, 47.711682, 47.711719, 47.711575, 47.711641, 47.711401, 47.711669, 47.711797, 47.711812, 47.711885, 47.712284, 47.712272, 47.712269, 47.712186, 47.712185, 47.711812, 47.711901, 47.711763, 47.711754, 47.711755, 47.711756, 47.71167, 47.711638, 47.711499, 47.71118, 47.711138, 47.710858, 47.711073, 47.711157, 47.711169, 47.711341, 47.711169, 47.711305, 47.711198, 47.71116, 47.711196, 47.710997, 47.711256, 47.711353, 47.711423, 47.711275, 47.711413, 47.711413, 47.711521, 47.71144, 47.711585, 47.711518, 47.711588, 47.71157, 47.711557, 47.711509, 47.711572, 47.711514, 47.711539, 47.71153, 47.711678, 47.711601, 47.711647, 47.711708, 47.711751, 47.711752, 47.711864, 47.711289, 47.711115, 47.710878, 47.710902, 47.711054, 47.711114, 47.711162, 47.711338, 47.711414, 47.711346, 47.71162, 47.711474, 47.710343, 47.711951, 47.711319, 47.712336, 47.711285, 47.711229, 47.711299, 47.711595, 47.711465, 47.711568, 47.711134, 47.711595, 47.711146, 47.710884, 47.711843], \"legendgroup\": \"Dead\", \"lon\": [-122.37211, -122.372882, -122.372803, -122.373215, -122.371827, -122.372438, -122.373313, -122.372438, -122.372331, -122.373412, -122.372273, -122.373411, -122.373458, -122.371374, -122.375834, -122.375668, -122.375046, -122.377753, -122.374459, -122.374572, -122.376263, -122.372677, -122.372673, -122.372908, -122.372667, -122.372859, -122.372667, -122.372467, -122.373124, -122.373122, -122.373133, -122.372182, -122.371976, -122.373163, -122.373194, -122.373173, -122.373109, -122.370478, -122.373935, -122.373659, -122.373576, -122.371069, -122.374436, -122.374488, -122.371566, -122.374402, -122.375157, -122.374515, -122.374053, -122.374928, -122.374981, -122.376579, -122.378292, -122.377314, -122.378547, -122.372243, -122.371415, -122.371429, -122.371368, -122.371965, -122.372287, -122.372554, -122.37166, -122.372253, -122.372208, -122.372404, -122.37238, -122.372286, -122.372492, -122.372501, -122.372574, -122.373674, -122.373665, -122.373695, -122.373634, -122.373892, -122.374367, -122.374389, -122.374307, -122.374393, -122.374783, -122.374645, -122.374698, -122.374823, -122.374741, -122.374765, -122.376448, -122.376452, -122.376737, -122.376734, -122.376824, -122.376949, -122.376996, -122.377039, -122.377045, -122.377617, -122.377662, -122.377522, -122.377555, -122.378208, -122.378135, -122.377534, -122.37851, -122.377767, -122.378511, -122.379256, -122.37116, -122.371138, -122.371248, -122.371314, -122.370992, -122.371339, -122.370916, -122.371338, -122.371337, -122.370818, -122.371289, -122.371247, -122.371267, -122.370428, -122.370643, -122.371592, -122.371376, -122.37146, -122.371717, -122.37419, -122.374126, -122.374239, -122.374232, -122.374215, -122.374235, -122.374467, -122.374039, -122.374231, -122.374516, -122.374854, -122.374999, -122.374073, -122.375052, -122.374311, -122.375039, -122.3749, -122.374311, -122.374913, -122.374973, -122.37477, -122.375053, -122.374052, -122.374052, -122.374073, -122.375056, -122.374036, -122.375076, -122.374902, -122.375098, -122.373795, -122.373747, -122.375137, -122.373818, -122.374688, -122.373708, -122.37381, -122.374656, -122.375401, -122.373815, -122.375449, -122.373789, -122.374753, -122.373766, -122.375521, -122.374639, -122.375562, -122.373544, -122.373544, -122.375874, -122.373544, -122.373544, -122.373563, -122.373563, -122.373655, -122.375932, -122.375753, -122.375907, -122.373257, -122.373306, -122.373306, -122.37337, -122.376441, -122.376531, -122.373277, -122.376546, -122.37317, -122.376554, -122.373244, -122.373262, -122.376474, -122.376954, -122.373262, -122.377103, -122.373237, -122.373038, -122.37304, -122.377166, -122.37304, -122.373014, -122.377209, -122.373035, -122.373016, -122.377405, -122.377223, -122.377034, -122.377178, -122.372803, -122.3728, -122.376951, -122.372734, -122.377722, -122.372894, -122.377732, -122.372763, -122.377694, -122.377612, -122.377652, -122.376961, -122.377611, -122.377694, -122.376947, -122.372758, -122.376977, -122.372897, -122.376981, -122.37252, -122.376989, -122.37718, -122.372179, -122.372186, -122.37767, -122.37758, -122.37208, -122.372023, -122.377948, -122.372056, -122.37203, -122.377218, -122.377992, -122.37203, -122.372146, -122.377941, -122.377949, -122.371763, -122.378145, -122.371854, -122.378146, -122.378411, -122.37901, -122.379885, -122.38029, -122.372918, -122.372995, -122.373031, -122.37286, -122.37313, -122.373088, -122.373074, -122.371452, -122.373166, -122.371324, -122.371452, -122.371509, -122.371219, -122.373353, -122.373368, -122.373399, -122.371325, -122.373201, -122.371174, -122.373467, -122.371272, -122.371256, -122.371213, -122.37129, -122.373617, -122.371195, -122.373503, -122.371407, -122.37354, -122.370975, -122.373791, -122.371351, -122.373708, -122.373792, -122.371495, -122.373735, -122.371532, -122.371507, -122.373486, -122.371423, -122.373972, -122.371519, -122.374052, -122.373882, -122.374053, -122.374034, -122.374238, -122.37165, -122.374337, -122.371677, -122.374329, -122.374368, -122.374387, -122.374411, -122.374329, -122.371768, -122.374354, -122.37177, -122.374677, -122.374696, -122.374822, -122.374964, -122.374868, -122.375073, -122.375062, -122.375092, -122.37513, -122.375055, -122.375129, -122.37512, -122.375012, -122.372276, -122.375089, -122.375113, -122.375088, -122.372723, -122.37515, -122.375173, -122.374979, -122.372771, -122.375516, -122.375521, -122.375454, -122.375982, -122.37601, -122.375802, -122.375974, -122.376117, -122.37611, -122.376035, -122.376238, -122.376514, -122.377665, -122.377645, -122.377605, -122.376398, -122.377601, -122.377647, -122.376362, -122.377663, -122.377701, -122.376425, -122.377791, -122.376487, -122.376524, -122.377784, -122.376735, -122.377803, -122.376625, -122.377839, -122.376817, -122.376746, -122.376933, -122.377931, -122.376934, -122.376944, -122.378113, -122.377006, -122.374557, -122.37698, -122.377982, -122.377052, -122.377886, -122.377078, -122.377106, -122.378348, -122.378452, -122.378425, -122.378408, -122.377211, -122.378524, -122.377217, -122.378549, -122.37856, -122.3772, -122.377315, -122.37733, -122.378834, -122.37731, -122.377403, -122.379178, -122.377396, -122.379232, -122.377264, -122.379266, -122.379876, -122.380266, -122.380281, -122.373458, -122.37349, -122.373411, -122.373431, -122.373383, -122.373425, -122.373422, -122.373653, -122.373601, -122.373604, -122.373615, -122.373638, -122.373589, -122.373115, -122.373217, -122.373706, -122.373237, -122.373174, -122.373722, -122.373234, -122.373739, -122.373286, -122.373756, -122.373046, -122.373753, -122.373757, -122.373068, -122.373064, -122.373763, -122.373822, -122.373065, -122.373425, -122.373045, -122.373007, -122.37387, -122.373424, -122.373002, -122.373897, -122.373365, -122.372986, -122.373848, -122.373836, -122.373121, -122.373915, -122.373843, -122.373944, -122.373028, -122.373843, -122.373937, -122.372901, -122.372882, -122.373977, -122.372916, -122.372888, -122.374602, -122.374442, -122.372674, -122.37442, -122.374445, -122.372666, -122.374435, -122.372642, -122.374464, -122.374397, -122.372612, -122.374354, -122.372686, -122.374404, -122.374721, -122.372663, -122.374398, -122.374424, -122.372729, -122.374743, -122.374404, -122.372646, -122.374419, -122.372681, -122.372733, -122.374657, -122.37279, -122.372816, -122.374903, -122.374339, -122.372909, -122.374881, -122.372674, -122.374856, -122.372738, -122.374835, -122.372645, -122.374605, -122.374636, -122.37457, -122.374651, -122.372714, -122.374649, -122.374572, -122.374583, -122.374631, -122.372547, -122.374593, -122.372576, -122.37462, -122.372465, -122.372485, -122.374606, -122.374589, -122.375113, -122.37464, -122.372464, -122.375126, -122.374547, -122.372468, -122.374595, -122.374479, -122.372306, -122.372355, -122.375155, -122.375155, -122.372303, -122.375152, -122.372333, -122.37515, -122.372346, -122.375119, -122.375113, -122.37191, -122.372281, -122.375128, -122.375146, -122.375136, -122.372168, -122.375138, -122.372384, -122.372238, -122.372177, -122.371749, -122.371677, -122.375118, -122.372013, -122.375142, -122.371749, -122.371732, -122.372048, -122.371372, -122.371446, -122.371403, -122.375137, -122.371872, -122.371432, -122.375146, -122.371481, -122.371902, -122.37148, -122.371505, -122.375133, -122.372004, -122.371531, -122.374483, -122.371382, -122.371692, -122.371381, -122.371404, -122.371405, -122.371438, -122.37139, -122.371396, -122.375381, -122.371344, -122.375375, -122.371269, -122.371294, -122.371272, -122.371183, -122.371162, -122.371309, -122.375649, -122.375617, -122.371138, -122.37114, -122.375673, -122.371072, -122.371019, -122.375538, -122.375807, -122.370909, -122.371016, -122.371005, -122.375832, -122.371105, -122.375832, -122.371173, -122.375799, -122.375691, -122.370901, -122.375848, -122.37583, -122.370535, -122.375957, -122.370549, -122.370632, -122.375775, -122.375771, -122.375811, -122.370624, -122.370317, -122.376313, -122.376511, -122.376131, -122.37613, -122.376142, -122.376111, -122.376097, -122.376402, -122.376426, -122.376483, -122.376448, -122.376442, -122.376457, -122.376479, -122.376786, -122.376752, -122.376733, -122.376973, -122.376899, -122.376899, -122.376923, -122.376923, -122.376941, -122.376921, -122.376898, -122.376895, -122.376906, -122.376908, -122.376907, -122.376929, -122.376925, -122.37698, -122.376986, -122.376998, -122.377187, -122.377575, -122.377611, -122.37772, -122.377768, -122.377689, -122.377766, -122.378064, -122.37803, -122.378162, -122.378531, -122.378592, -122.37997, -122.380095, -122.380336, -122.380346, -122.377743, -122.377655, -122.377835, -122.370305, -122.37093, -122.37032, -122.370837, -122.371217, -122.371043, -122.371104, -122.371025, -122.371431, -122.371705, -122.372642, -122.372755, -122.372915, -122.372917, -122.372934, -122.372859, -122.372874, -122.372999, -122.373072, -122.373632, -122.372965, -122.373508, -122.373539, -122.373473, -122.373568, -122.373422, -122.373585, -122.373772, -122.373597, -122.373677, -122.373718, -122.374036, -122.374041, -122.374018, -122.374177, -122.374185, -122.3745, -122.374668, -122.374776, -122.374686, -122.375134, -122.375121, -122.375123, -122.375575, -122.375611, -122.375526, -122.37597, -122.376124, -122.376185, -122.376928, -122.376326, -122.376403, -122.376327, -122.376342, -122.377015, -122.376349, -122.376897, -122.376501, -122.37648, -122.376968, -122.376881, -122.376991, -122.376836, -122.376788, -122.377015, -122.377236, -122.377217, -122.377203, -122.37746, -122.377496, -122.377698, -122.377615, -122.377745, -122.377548, -122.377892, -122.377991, -122.377989, -122.378003, -122.378138, -122.378214, -122.378291, -122.378591, -122.378619, -122.378501, -122.378542, -122.378627, -122.378812, -122.378891, -122.378859, -122.378979, -122.378825, -122.378975, -122.379099, -122.379098, -122.379211, -122.379178, -122.380013, -122.380012, -122.380039, -122.380231, -122.380235, -122.380225, -122.38024, -122.380243, -122.380255, -122.380265, -122.380278, -122.380283, -122.380282, -122.38026, -122.380173, -122.380179, -122.380184, -122.380102, -122.380048, -122.380076, -122.380075, -122.380078, -122.380069, -122.380066, -122.38008, -122.380033, -122.371329, -122.371328, -122.371192, -122.371555, -122.371532, -122.371998, -122.371995, -122.37238, -122.373517, -122.373626, -122.373698, -122.373748, -122.374064, -122.37453, -122.374836, -122.37512, -122.375124, -122.375131, -122.375159, -122.375446, -122.376041, -122.376545, -122.37682, -122.376759, -122.377228, -122.377192, -122.3777, -122.377736, -122.378174, -122.378473, -122.378426, -122.37888, -122.380466, -122.380415, -122.380249, -122.380197, -122.380283, -122.370236, -122.370462, -122.370454, -122.370415, -122.370633, -122.370893, -122.370969, -122.371092, -122.37125, -122.371301, -122.371318, -122.371341, -122.371279, -122.371665, -122.371639, -122.371667, -122.372208, -122.37256, -122.372563, -122.372717, -122.372984, -122.373506, -122.373514, -122.373597, -122.373626, -122.373583, -122.373546, -122.374541, -122.375042, -122.375669, -122.375759, -122.376074, -122.37622, -122.376477, -122.375955, -122.375964, -122.376768, -122.376817, -122.376814, -122.376923, -122.376944, -122.376893, -122.376913, -122.376951, -122.376991, -122.377698, -122.377636, -122.377668, -122.377757, -122.378492, -122.378663, -122.379394, -122.371657, -122.371797, -122.371621, -122.372164, -122.372384, -122.372663, -122.372883, -122.374358, -122.37595, -122.376287, -122.376875, -122.377032, -122.380988, -122.370519, -122.376502, -122.369986, -122.37359, -122.373978, -122.374233, -122.377001, -122.376942, -122.377243, -122.380493, -122.380298, -122.371832, -122.371999, -122.379118], \"marker\": {\"color\": \"black\"}, \"mode\": \"markers\", \"name\": \"Dead\", \"showlegend\": true, \"subplot\": \"mapbox\", \"type\": \"scattermapbox\"}, {\"customdata\": [[9], [18], [7], [14], [11], [3], [5], [4], [8]], \"hovertemplate\": \"<b>%{hovertext}</b><br><br>Type=Remnant<br>Location.latitude=%{lat}<br>Location.longitude=%{lon}<br>Location.accuracy=%{customdata[0]}<extra></extra>\", \"hovertext\": [\"1850 Remnant Coho\", \"585 Remnant Chum\", \"470 Remnant Chum\", \"470 Remnant Chum\", \"240 Remnant Chum\", \"0 Remnant Chum\", \"615 Remnant Unknown\", \"0 Remnant Chum\", \"0 Remnant Chum\"], \"lat\": [47.710979, 47.711415, 47.711771, 47.711892, 47.711706, 47.711355, 47.711516, 47.711812, 47.712011], \"legendgroup\": \"Remnant\", \"lon\": [-122.37208, -122.377021, -122.370886, -122.370878, -122.378503, -122.380102, -122.376796, -122.380267, -122.380352], \"marker\": {\"color\": \"#ab63fa\"}, \"mode\": \"markers\", \"name\": \"Remnant\", \"showlegend\": true, \"subplot\": \"mapbox\", \"type\": \"scattermapbox\"}, {\"customdata\": [[11], [4], [13], [11], [5], [8], [11], [23], [15], [10], [20], [16], [13], [12], [19], [11], [23], [17], [6], [6], [9], [7], [19], [11], [5], [16], [11], [19], [5], [5], [8], [5], [5], [5], [5], [6], [24], [19], [29], [34], [44], [5], [22], [5], [38], [18], [22], [9], [10], [9], [9], [14], [7], [22], [43], [12], [12], [8], [11], [5], [5], [4], [11], [7], [5], [6], [6], [5], [5], [7], [5], [12], [8], [8], [11], [7], [5], [5], [9], [9], [9], [7], [8], [9], [17], [8], [7], [7], [7], [17], [7], [7], [9], [5], [7], [7], [5], [29], [8], [8], [9], [9], [6], [6], [8], [9], [32], [5], [7], [4], [11], [6], [4], [28], [6], [11], [5], [7], [8], [8], [17], [13], [16], [6], [24], [5], [10], [5], [10], [30], [10], [10], [10], [5], [5], [5], [10], [5], [10], [10], [10], [10], [30], [10], [10], [10], [5], [10], [5], [10], [30], [10], [30], [5], [5], [5], [5], [5], [5], [10], [10], [5], [5], [10], [10], [10], [10], [5], [5], [5], [5], [10], [10], [5], [10], [30], [10], [10], [5], [5], [5], [10], [10], [10], [5], [5], [10], [10], [30], [5], [10], [30], [30], [5], [5], [5], [5], [5], [5], [5], [5], [5], [5], [5], [30], [5], [10], [10], [10], [10], [5], [10], [10], [10], [5], [5], [5], [10], [30], [5], [10], [30], [10], [10], [10], [10], [10], [10], [5], [5], [5], [5], [5], [10], [10], [5], [10], [10], [30], [5], [5], [5], [5], [10], [10], [30], [10], [30], [5], [5], [5], [5], [5], [5], [10], [5], [10], [10], [5], [5], [5], [10], [10], [5], [5], [5], [10], [10], [30], [10], [10], [10], [5], [5], [10], [30], [30], [30], [5], [5], [5], [5], [5], [10], [10], [30], [5], [10], [5], [5], [5], [30], [5], [10], [10], [5], [10], [30], [30], [10], [10], [30], [5], [10], [5], [10], [10], [30], [5], [5], [10], [10], [5], [10], [5], [10], [30], [10], [5], [5], [5], [10], [10], [30], [5], [10], [10], [5], [5], [10], [30], [5], [5], [5], [5], [5], [5], [5], [5], [5], [5], [5], [5], [5], [5], [5], [5], [10], [30], [5], [10], [10], [30], [5], [10], [5], [5], [5], [5], [5], [30], [5], [5], [10], [5], [5], [5], [5], [10], [5], [10], [5], [5], [5], [5], [5], [10], [5], [5], [5], [5], [5], [12], [43], [5], [5], [5], [33], [19], [30], [6], [8], [15], [26], [13], [20], [34], [5], [5], [5], [5], [5], [10], [5], [5], [5], [10], [27], [5], [5], [5], [5], [5], [5], [5], [10], [24], [20], [5], [5], [11], [5], [5], [5], [14], [18], [5], [5], [6], [12], [17], [38], [7], [9], [19], [25], [14], [5], [5], [11], [12], [46], [5], [5], [5], [5], [5], [5], [5], [5], [5], [5], [5], [5], [9], [13], [21], [5], [5], [12], [10], [37], [5], [13], [10], [20], [12], [5], [5], [5], [6], [8], [31], [19], [14], [5], [5], [5], [5], [25], [36], [12], [5], [5], [6], [8], [19], [5], [10], [13], [13], [11], [20], [13], [5], [5], [24], [5], [5], [5], [5], [5], [13], [41], [5], [5], [5], [8], [12], [5], [5], [5], [5], [5], [15], [5], [5], [5], [5], [5], [5], [5], [5], [5], [5], [5], [5], [5], [10], [37], [5], [18], [11], [5], [16], [10], [30], [5], [5], [5], [5], [5], [5], [5], [5], [5], [15], [13], [5], [5], [5], [5], [5], [25], [5], [5], [5], [5], [5], [8], [10], [5], [5], [5], [10], [20], [5], [7], [8], [5], [5], [5], [5], [8], [10], [5], [5], [5], [5], [5], [5], [5], [5], [14], [10], [12], [27], [5], [5], [5], [5], [5], [5], [5], [5], [5], [5], [5], [5], [24], [5], [5], [6], [7], [13], [17], [32], [5], [5], [5], [5], [5], [7], [12], [5], [5], [5], [5], [5], [5], [5], [5], [5], [5], [5], [5], [5], [14], [15], [5], [7], [8], [10], [16], [10], [28], [7], [11], [8], [21], [5], [5], [5], [5], [5], [5], [6], [9], [5], [15], [13], [5], [5], [5], [5], [5], [5], [5], [16], [22], [17], [24], [5], [6], [17], [14], [5], [5], [5], [5], [5], [5], [10], [13], [22], [13], [9], [19], [41], [5], [5], [14], [27], [30], [5], [5], [5], [5], [5], [5], [8], [11], [27], [5], [9], [20], [14], [16], [5], [5], [13], [27], [5], [5], [5], [5], [5], [9], [21], [19], [5], [9], [5], [12], [5], [5], [5], [5], [5], [5], [13], [5], [14], [21], [5], [10], [13], [23], [10], [9], [11], [15], [14], [10], [20], [5], [5], [5], [5], [6], [15], [26], [11], [31], [5], [10], [9], [35], [5], [5], [7], [27], [5], [5], [12], [9], [20], [7], [14], [5], [5], [15], [14], [5], [5], [5], [14], [18], [12], [16], [5], [10], [37], [5], [6], [13], [22], [24], [5], [5], [8], [22], [7], [13], [17], [14], [13], [20], [5], [7], [14], [5], [6], [25], [5], [7], [5], [5], [23], [17], [5], [5], [21], [5], [9], [24], [19], [7], [5], [18], [33], [16], [17], [5], [5], [9], [30], [5], [5], [10], [46], [5], [5], [15], [6], [9], [16], [31], [5], [6], [7], [9], [25], [16], [17], [5], [5], [5], [5], [5], [5], [5], [5], [16], [5], [11], [10], [13], [5], [5], [5], [5], [5], [5], [5], [5], [19], [8], [22], [47], [28], [5], [5], [5], [5], [5], [5], [15], [9], [29], [8], [46], [5], [5], [5], [6], [5], [6], [5], [8], [5], [12], [5], [45], [13], [5], [5], [5], [5], [28], [5], [5], [5], [5], [7], [5], [5], [8], [24], [11], [8], [12], [36], [5], [6], [5], [12], [6], [22], [7], [5], [16], [5], [7], [9], [18], [5], [5], [5], [5], [5], [5], [10], [10], [5], [5], [6], [5], [5], [5], [11], [5], [14], [11], [45], [12], [37], [5], [5], [5], [11], [5], [11], [5], [5], [5], [6], [6], [7], [11], [6], [6], [6], [11], [10], [47], [5], [11], [14], [15], [8], [5], [5], [12], [12], [5], [5], [5], [5], [5], [5], [5], [5], [5], [5], [5], [5], [5], [5], [5], [14], [5], [23], [7], [7], [13], [5], [7], [14], [5], [5], [5], [37], [4], [5], [5], [12], [5], [5], [5], [5], [17], [17], [5], [5], [5], [5], [5], [5], [5], [12], [6], [10], [5], [9], [11], [5], [13], [5], [28], [4], [6], [9], [17], [5], [5], [5], [5], [5], [5], [5], [5], [5], [5], [5], [5], [5], [5], [11], [8], [23], [22], [5], [5], [5], [5], [5], [5], [12], [27], [5], [5], [5], [5], [5], [5], [5], [5], [5], [5], [5], [5], [5], [5], [5], [5], [6], [5], [12], [5], [5], [5], [5], [5], [4], [6], [8], [31], [5], [6], [5], [5], [10], [5], [17], [30], [5], [22], [5], [8], [16], [6], [7], [5], [17], [5], [6], [5], [11], [6], [5], [13], [5], [5], [11], [14], [5], [5], [5], [4], [5], [8], [11], [12], [5], [5], [4], [5], [5], [5], [12], [10], [5], [5], [5], [5], [5], [5], [5], [5], [5], [5], [5], [5], [5], [5], [5], [15], [7], [27], [5], [5], [5], [5], [12], [30], [7], [8], [10], [14], [5], [5], [9], [18], [20], [5], [5], [15], [5], [5], [5], [16], [5], [5], [5], [5], [5], [5], [5], [5], [5], [5], [5], [5], [5], [4], [5], [15], [5], [5], [5], [5], [5], [5], [6], [5], [5], [5], [5], [10], [11], [5], [5], [5], [5], [5], [12], [26], [16], [26], [5], [5], [5], [5], [6], [11], [5], [11], [5], [11], [4], [8], [4], [5], [5], [9], [5], [22], [5], [5], [5], [5], [5], [5], [5], [5], [7], [5], [11], [5], [5], [5], [26], [5], [25], [5], [5], [9], [5], [13], [8], [45], [7], [5], [5], [10], [5], [20], [5], [6], [10], [18], [5], [6], [17], [7], [16], [5], [5], [7], [5], [5], [5], [7], [5], [8], [3], [9], [20], [3], [40], [5], [5], [5], [9], [5], [11], [10], [24], [5], [6], [5], [5], [5], [36], [5], [8], [13], [5], [5], [5], [5], [35], [16], [5], [16], [17], [34], [34], [38], [5], [5], [16], [4], [5], [5], [5], [7], [6], [5], [4], [5], [5], [5], [14], [4], [7], [5], [4], [5], [5], [5], [29], [27], [5], [5], [5], [5], [4], [4], [6], [4], [10], [5], [5], [5], [5], [5], [5], [12], [5], [5], [5], [5], [5], [5], [5], [5], [5], [5], [5], [5], [5], [5], [5], [5], [5], [5], [5], [5], [5], [5], [5], [5], [5], [5], [5], [5], [5], [5], [5], [5], [5], [5], [16], [16], [5], [5], [5], [5], [5], [5], [5], [5], [5], [5], [5], [10], [5], [5], [5], [5], [5], [5], [5], [5], [4], [13], [31], [5], [5], [13], [5], [5], [5], [5], [5], [5], [5], [5], [5], [5], [5], [5], [5], [5], [5], [5], [5], [5], [5], [5], [5], [5], [5], [5], [5], [5], [5], [10], [11], [5], [5], [5], [5], [5], [15], [5], [17], [5], [5], [5], [5], [5], [5], [22], [5], [5], [7], [17], [14], [5], [5], [5], [5], [5], [8], [8], [13], [22], [10], [19], [5], [5], [5], [5], [5], [6], [13], [20], [5], [5], [5], [5], [5], [5], [5], [13], [25], [5], [5], [5], [5], [5], [5], [19], [27], [15], [5], [5], [5], [5], [5], [5], [5], [5], [22], [32], [5], [8], [14], [5], [5], [5], [5], [5], [5], [5], [5], [5], [5], [18], [13], [31], [5], [5], [5], [5], [19], [5], [17], [5], [5], [5], [19], [14], [49], [17], [18], [5], [9], [27], [9], [5], [10], [5], [6], [5], [5], [5], [16], [10], [5], [20], [17], [5], [42], [6], [20], [6], [5], [5], [5], [5], [9], [5], [5], [5], [5], [5], [5], [5], [5], [6], [8], [6], [5], [5], [9], [5], [5], [5], [8], [11], [18], [12], [23], [8], [11], [5], [5], [6], [16], [5], [11], [16], [5], [5], [5], [9], [5], [5], [5], [5], [13], [8], [41], [5], [17], [5], [17], [5], [5], [11], [12], [19], [5], [12], [6], [5], [18], [8], [5], [5], [13], [9], [5], [4], [13], [7], [8], [5], [5], [5], [5], [5], [5], [5], [5], [5], [5], [5], [5], [5], [5], [5], [5], [5], [5], [5], [5], [5], [5], [5], [5], [5], [4], [6], [5], [5], [5], [5], [5], [5], [5], [5], [5], [5], [5], [5], [5], [5], [5], [5], [5], [5], [5], [5], [5], [6], [5], [5], [5], [5], [5], [5], [5], [5], [5], [5], [5], [5], [5], [4], [5], [5], [15], [29], [5], [11], [5], [30], [6], [6], [7], [23], [25], [5], [17], [24], [25], [18], [15], [23], [5], [13], [21], [5], [5], [12], [20], [17], [22], [6], [5], [5], [5], [10], [5], [5], [14], [8], [5], [9], [17], [23], [33], [5], [8], [7], [36], [11], [5], [5], [5], [5], [5], [16], [9], [25], [22], [15], [18], [9], [26], [9], [18], [20], [6], [11], [35], [27], [19], [8], [10], [12], [12], [11], [9], [18], [5], [5], [5], [5], [12], [6], [9], [16], [6]], \"hovertemplate\": \"<b>%{hovertext}</b><br><br>Type=Live<br>Location.latitude=%{lat}<br>Location.longitude=%{lon}<br>Location.accuracy=%{customdata[0]}<extra></extra>\", \"hovertext\": [\"1950 Live Chum\", \"1925 Live Chum\", \"1600 Live Chum\", \"1900 Live Chum\", \"1750 Live Chum\", \"1730 Live Chum\", \"1540 Live Chum\", \"1470 Live Chum\", \"1370 Live Chum\", \"1305 Live Chum\", \"915 Live Chum\", \"555 Live Chum\", \"320 Live Chum\", \"2000 Live Chum\", \"2000 Live Chum\", \"2000 Live Chum\", \"2000 Live Chum\", \"2000 Live Chum\", \"2000 Live Chum\", \"1990 Live Chum\", \"1990 Live Chum\", \"1980 Live Chum\", \"1980 Live Chum\", \"1910 Live Chum\", \"1905 Live Chum\", \"1905 Live Chum\", \"1900 Live Chum\", \"1855 Live Chum\", \"1800 Live Chum\", \"1800 Live Chum\", \"1800 Live Chum\", \"1800 Live Chum\", \"1800 Live Chum\", \"1800 Live Chum\", \"1750 Live Chum\", \"1750 Live Chum\", \"1735 Live Chum\", \"1730 Live Chum\", \"1700 Live Chum\", \"1610 Live Chum\", \"1520 Live Chum\", \"1475 Live Chum\", \"1405 Live Chum\", \"1400 Live Chum\", \"1360 Live Chum\", \"950 Live Chum\", \"775 Live Chum\", \"708 Live Chum\", \"665 Live Chum\", \"315 Live Chum\", \"740 Live Chum\", \"740 Live Chum\", \"625 Live Chum\", \"560 Live Chum\", \"560 Live Chum\", \"370 Live Chum\", \"340 Live Chum\", \"340 Live Chum\", \"340 Live Chum\", \"230 Live Chum\", \"220 Live Chum\", \"220 Live Chum\", \"1990 Live Chum\", \"1990 Live Chum\", \"1990 Live Chum\", \"1990 Live Chum\", \"1975 Live Chum\", \"1975 Live Chum\", \"1975 Live Chum\", \"1975 Live Chum\", \"1975 Live Chum\", \"1950 Live Chum\", \"1925 Live Chum\", \"1925 Live Chum\", \"1925 Live Chum\", \"1925 Live Chum\", \"1925 Live Chum\", \"1925 Live Chum\", \"1925 Live Chum\", \"1875 Live Chum\", \"1855 Live Chum\", \"1855 Live Chum\", \"1855 Live Chum\", \"1855 Live Chum\", \"1840 Live Chum\", \"1820 Live Chum\", \"1820 Live Chum\", \"1820 Live Chum\", \"1805 Live Chum\", \"1750 Live Chum\", \"1750 Live Chum\", \"1710 Live Chum\", \"1710 Live Chum\", \"1675 Live Chum\", \"1675 Live Chum\", \"1675 Live Chum\", \"1675 Live Chum\", \"1575 Live Chum\", \"1510 Live Chum\", \"1510 Live Chum\", \"1510 Live Chum\", \"1450 Live Chum\", \"1450 Live Chum\", \"1450 Live Chum\", \"1450 Live Chum\", \"1375 Live Chum\", \"1375 Live Chum\", \"1225 Live Chum\", \"1200 Live Chum\", \"1120 Live Chum\", \"1040 Live Chum\", \"850 Live Chum\", \"850 Live Chum\", \"780 Live Chum\", \"675 Live Chum\", \"675 Live Chum\", \"625 Live Chum\", \"575 Live Chum\", \"550 Live Chum\", \"550 Live Chum\", \"1675 Live Chum\", \"1355 Live Chum\", \"1050 Live Chum\", \"405 Live Chum\", \"Live Coho\", \"0 Live Chum\", \"600 Live Chum\", \"600 Live Chum\", \"600 Live Chum\", \"600 Live Chum\", \"560 Live Chum\", \"560 Live Resident Cutthroat\", \"560 Live Chum\", \"520 Live Chum\", \"520 Live Chum\", \"520 Live Chum\", \"520 Live Chum\", \"500 Live Chum\", \"500 Live Chum\", \"460 Live Chum\", \"460 Live Chum\", \"460 Live Chum\", \"460 Live Chum\", \"450 Live Chum\", \"450 Live Chum\", \"420 Live Chum\", \"400 Live Chum\", \"360 Live Chum\", \"360 Live Chum\", \"350 Live Chum\", \"350 Live Chum\", \"330 Live Chum\", \"330 Live Chum\", \"330 Live Chum\", \"330 Live Chum\", \"330 Live Chum\", \"330 Live Chum\", \"330 Live Chum\", \"300 Live Chum\", \"300 Live Chum\", \"300 Live Chum\", \"300 Live Chum\", \"300 Live Chum\", \"250 Live Chum\", \"220 Live Chum\", \"220 Live Chum\", \"220 Live Chum\", \"220 Live Chum\", \"210 Live Chum\", \"180 Live Chum\", \"150 Live Chum\", \"70 Live Coho\", \"70 Live Chum\", \"70 Live Chum\", \"30 Live Chum\", \"30 Live Chum\", \"30 Live Chum\", \"20 Live Chum\", \"2020 Live Chum\", \"2020 Live Chum\", \"2020 Live Chum\", \"2020 Live Chum\", \"2010 Live Chum\", \"2010 Live Chum\", \"2000 Live Chum\", \"2000 Live Chum\", \"2000 Live Chum\", \"2000 Live Chum\", \"2000 Live Chum\", \"1970 Live Chum\", \"1950 Live Chum\", \"1950 Live Chum\", \"1930 Live Chum\", \"1930 Live Chum\", \"1930 Live Chum\", \"1930 Live Chum\", \"1930 Live Chum\", \"1930 Live Chum\", \"1930 Live Chum\", \"1930 Live Chum\", \"1930 Live Chum\", \"1930 Live Chum\", \"1910 Live Chum\", \"1910 Live Chum\", \"1910 Live Chum\", \"1900 Live Chum\", \"1900 Live Chum\", \"1900 Live Chum\", \"1900 Live Chum\", \"1900 Live Chum\", \"1900 Live Chum\", \"1900 Live Chum\", \"1900 Live Chum\", \"1900 Live Chum\", \"1870 Live Chum\", \"1870 Live Chum\", \"1870 Live Chum\", \"1870 Live Chum\", \"1870 Live Chum\", \"1860 Live Chum\", \"1860 Live Chum\", \"1860 Live Chum\", \"1850 Live Chum\", \"1850 Live Chum\", \"1850 Live Chum\", \"1850 Live Chum\", \"1830 Live Chum\", \"1830 Live Chum\", \"1820 Live Chum\", \"1820 Live Chum\", \"1820 Live Chum\", \"1820 Live Chum\", \"1820 Live Chum\", \"1820 Live Chum\", \"1820 Live Chum\", \"1820 Live Chum\", \"1820 Live Chum\", \"1820 Live Chum\", \"1800 Live Chum\", \"1790 Live Chum\", \"1790 Live Chum\", \"1790 Live Chum\", \"1770 Live Chum\", \"1770 Live Chum\", \"1770 Live Chum\", \"1770 Live Chum\", \"1760 Live Chum\", \"1760 Live Chum\", \"1750 Live Chum\", \"1750 Live Chum\", \"1750 Live Chum\", \"1750 Live Chum\", \"1740 Live Chum\", \"1740 Live Chum\", \"1740 Live Chum\", \"1720 Live Chum\", \"1690 Live Chum\", \"1690 Live Chum\", \"1690 Live Chum\", \"1690 Live Chum\", \"1690 Live Chum\", \"1680 Live Chum\", \"1680 Live Chum\", \"1650 Live Chum\", \"1650 Live Chum\", \"1650 Live Chum\", \"1650 Live Chum\", \"1650 Live Chum\", \"1650 Live Chum\", \"1630 Live Chum\", \"1630 Live Chum\", \"1610 Live Chum\", \"1610 Live Chum\", \"1610 Live Chum\", \"1610 Live Chum\", \"1610 Live Chum\", \"1600 Live Chum\", \"1600 Live Chum\", \"1600 Live Chum\", \"1600 Live Chum\", \"1600 Live Chum\", \"1600 Live Chum\", \"1600 Live Chum\", \"1600 Live Chum\", \"1600 Live Chum\", \"1580 Live Chum\", \"1580 Live Chum\", \"1590 Live Coho\", \"1540 Live Chum\", \"1540 Live Chum\", \"1540 Live Chum\", \"1540 Live Chum\", \"1540 Live Chum\", \"1510 Live Chum\", \"1510 Live Chum\", \"1500 Live Chum\", \"1500 Live Chum\", \"1500 Live Chum\", \"1460 Live Chum\", \"1450 Live Chum\", \"1450 Live Chum\", \"1450 Live Chum\", \"1400 Live Chum\", \"1400 Live Chum\", \"1400 Live Chum\", \"1400 Live Chum\", \"1400 Live Chum\", \"1400 Live Chum\", \"1370 Live Chum\", \"1370 Live Chum\", \"1370 Live Chum\", \"1370 Live Chum\", \"1370 Live Chum\", \"1370 Live Chum\", \"1370 Live Chum\", \"1370 Live Chum\", \"1350 Live Chum\", \"1350 Live Chum\", \"1310 Live Chum\", \"1310 Live Chum\", \"1310 Live Chum\", \"1310 Live Chum\", \"1310 Live Chum\", \"1310 Live Chum\", \"1260 Live Chum\", \"1260 Live Chum\", \"1260 Live Chum\", \"1250 Live Chum\", \"1250 Live Chum\", \"1250 Live Chum\", \"1250 Live Chum\", \"1210 Live Chum\", \"1210 Live Chum\", \"1210 Live Chum\", \"1210 Live Chum\", \"1210 Live Chum\", \"1210 Live Chum\", \"1210 Live Chum\", \"1210 Live Chum\", \"1200 Live Chum\", \"1170 Live Chum\", \"1160 Live Chum\", \"1160 Live Chum\", \"1160 Live Chum\", \"1160 Live Chum\", \"1150 Live Chum\", \"1150 Live Chum\", \"1150 Live Chum\", \"1100 Live Chum\", \"1070 Live Chum\", \"1070 Live Chum\", \"1070 Live Chum\", \"1060 Live Chum\", \"1050 Live Chum\", \"1050 Live Chum\", \"1030 Live Chum\", \"1030 Live Chum\", \"1030 Live Chum\", \"1030 Live Chum\", \"1030 Live Chum\", \"990 Live Chum\", \"950 Live Chum\", \"920 Live Chum\", \"920 Live Chum\", \"830 Live Chum\", \"830 Live Chum\", \"830 Live Chum\", \"830 Live Chum\", \"830 Live Chum\", \"760 Live Chum\", \"760 Live Chum\", \"705 Live Chum\", \"705 Live Chum\", \"570 Live Chum\", \"570 Live Chum\", \"570 Live Chum\", \"550 Live Chum\", \"470 Live Chum\", \"470 Live Chum\", \"440 Live Chum\", \"340 Live Chum\", \"260 Live Chum\", \"40 Live Chum\", \"30 Live Chum\", \"820 Live Chum\", \"820 Live Chum\", \"720 Live Resident Cutthroat\", \"720 Live Coho\", \"640 Live Chum\", \"640 Live Chum\", \"20 Live Chum\", \"20 Live Chum\", \"20 Live Chum\", \"20 Live Chum\", \"10 Live Chum\", \"595 Live Chum\", \"595 Live Chum\", \"560 Live Chum\", \"560 Live Chum\", \"560 Live Chum\", \"560 Live Chum\", \"560 Live Chum\", \"560 Live Chum\", \"560 Live Chum\", \"560 Live Chum\", \"560 Live Chum\", \"560 Live Chum\", \"550 Live Chum\", \"536 Live Chum\", \"534 Live Chum\", \"528 Live Chum\", \"528 Live Chum\", \"520 Live Chum\", \"520 Live Chum\", \"520 Live Chum\", \"520 Live Chum\", \"520 Live Chum\", \"520 Live Chum\", \"515 Live Chum\", \"515 Live Chum\", \"510 Live Chum\", \"510 Live Chum\", \"500 Live Chum\", \"500 Live Chum\", \"500 Live Chum\", \"500 Live Chum\", \"455 Live Chum\", \"455 Live Chum\", \"455 Live Chum\", \"450 Live Chum\", \"450 Live Chum\", \"400 Live Chum\", \"400 Live Chum\", \"400 Live Chum\", \"400 Live Chum\", \"370 Live Chum\", \"370 Live Chum\", \"358 Live Chum\", \"358 Live Chum\", \"355 Live Chum\", \"355 Live Chum\", \"345 Live Chum\", \"345 Live Sea-run Cutthroat\", \"345 Live Chum\", \"345 Live Chum\", \"345 Live Chum\", \"345 Live Chum\", \"345 Live Chum\", \"345 Live Chum\", \"345 Live Chum\", \"340 Live Chum\", \"340 Live Chum\", \"340 Live Chum\", \"340 Live Chum\", \"340 Live Chum\", \"340 Live Chum\", \"340 Live Chum\", \"330 Live Chum\", \"330 Live Chum\", \"330 Live Chum\", \"325 Live Chum\", \"310 Live Chum\", \"290 Live Chum\", \"300 Live Chum\", \"300 Live Chum\", \"290 Live Chum\", \"250 Live Chum\", \"220 Live Chum\", \"215 Live Chum\", \"215 Live Chum\", \"215 Live Chum\", \"215 Live Chum\", \"215 Live Chum\", \"203 Live Chum\", \"203 Live Chum\", \"203 Live Chum\", \"185 Live Chum\", \"180 Live Chum\", \"180 Live Chum\", \"180 Live Chum\", \"180 Live Chum\", \"140 Live Chum\", \"100 Live Chum\", \"65 Live Chum\", \"65 Live Chum\", \"60 Live Chum\", \"50 Live Chum\", \"35 Live Chum\", \"35 Live Chum\", \"30 Live Chum\", \"15 Live Chum\", \"1995 Live Chum\", \"1995 Live Chum\", \"1995 Live Chum\", \"1995 Live Chum\", \"1995 Live Chum\", \"1995 Live Chum\", \"1995 Live Chum\", \"1990 Live Chum\", \"1990 Live Chum\", \"1990 Live Chum\", \"1990 Live Chum\", \"1990 Live Chum\", \"1990 Live Chum\", \"1980 Live Chum\", \"1975 Live Chum\", \"1975 Live Chum\", \"1975 Live Chum\", \"1975 Live Chum\", \"1960 Live Chum\", \"1960 Live Chum\", \"1960 Live Chum\", \"1960 Live Chum\", \"1960 Live Chum\", \"1950 Live Chum\", \"1945 Live Chum\", \"1945 Live Chum\", \"1945 Live Chum\", \"1945 Live Chum\", \"1945 Live Chum\", \"1945 Live Chum\", \"1945 Live Chum\", \"1945 Live Chum\", \"1945 Live Chum\", \"1945 Live Chum\", \"1945 Live Chum\", \"1945 Live Chum\", \"1945 Live Chum\", \"1945 Live Chum\", \"1945 Live Chum\", \"1915 Live Chum\", \"1915 Live Chum\", \"1915 Live Chum\", \"1905 Live Chum\", \"1905 Live Chum\", \"1905 Live Chum\", \"1905 Live Chum\", \"1905 Live Chum\", \"1905 Live Chum\", \"1905 Live Chum\", \"1905 Live Chum\", \"1905 Live Chum\", \"1905 Live Chum\", \"1905 Live Chum\", \"1905 Live Chum\", \"1905 Live Chum\", \"1905 Live Chum\", \"1905 Live Chum\", \"1905 Live Chum\", \"1905 Live Chum\", \"1905 Live Chum\", \"1905 Live Chum\", \"1905 Live Chum\", \"1905 Live Chum\", \"1895 Live Chum\", \"1895 Live Chum\", \"1895 Live Chum\", \"1895 Live Chum\", \"1895 Live Chum\", \"1895 Live Chum\", \"1895 Live Chum\", \"1895 Live Chum\", \"1875 Live Chum\", \"1875 Live Chum\", \"1875 Live Chum\", \"1875 Live Chum\", \"1860 Live Chum\", \"1860 Live Chum\", \"1855 Live Chum\", \"1855 Live Chum\", \"1820 Live Chum\", \"1850 Live Chum\", \"1845 Live Chum\", \"1845 Live Chum\", \"1845 Live Chum\", \"1820 Live Chum\", \"1820 Live Chum\", \"1820 Live Chum\", \"1820 Live Chum\", \"1820 Live Chum\", \"1820 Live Chum\", \"1820 Live Chum\", \"1820 Live Chum\", \"1820 Live Chum\", \"1820 Live Chum\", \"1810 Live Chum\", \"1810 Live Chum\", \"1805 Live Chum\", \"1805 Live Chum\", \"1805 Live Chum\", \"1805 Live Chum\", \"1805 Live Chum\", \"1805 Live Chum\", \"1805 Live Chum\", \"1800 Live Chum\", \"1795 Live Chum\", \"1795 Live Chum\", \"1795 Live Chum\", \"1795 Live Chum\", \"1795 Live Chum\", \"1775 Live Chum\", \"1775 Live Chum\", \"1775 Live Chum\", \"1775 Live Chum\", \"1775 Live Chum\", \"1742 Live Chum\", \"1738 Live Chum\", \"1740 Live Chum\", \"1740 Live Chum\", \"1740 Live Chum\", \"1740 Live Chum\", \"1740 Live Chum\", \"1735 Live Chum\", \"1735 Live Chum\", \"1725 Live Chum\", \"1725 Live Chum\", \"1720 Live Chum\", \"1702 Live Chum\", \"1701 Live Chum\", \"1710 Live Chum\", \"1705 Live Chum\", \"1690 Live Chum\", \"1690 Live Chum\", \"1690 Live Chum\", \"1690 Live Chum\", \"1690 Live Chum\", \"1690 Live Chum\", \"1690 Live Chum\", \"1690 Live Chum\", \"1675 Live Chum\", \"1670 Live Chum\", \"1670 Live Chum\", \"1670 Live Chum\", \"1670 Live Chum\", \"1653 Live Chum\", \"1650 Live Chum\", \"1625 Live Chum\", \"1625 Live Chum\", \"1625 Live Chum\", \"1610 Live Chum\", \"1610 Live Chum\", \"1610 Live Chum\", \"1610 Live Chum\", \"1610 Live Chum\", \"1610 Live Chum\", \"1610 Live Chum\", \"1610 Live Chum\", \"1610 Live Chum\", \"1610 Live Chum\", \"1610 Live Chum\", \"1610 Live Chum\", \"1597 Live Chum\", \"1595 Live Chum\", \"1594 Live Chum\", \"1593 Live Chum\", \"1593 Live Chum\", \"1592 Live Chum\", \"1592 Live Chum\", \"1590 Live Chum\", \"1590 Live Chum\", \"1585 Live Chum\", \"1585 Live Chum\", \"1575 Live Chum\", \"1575 Live Chum\", \"1570 Live Chum\", \"1560 Live Chum\", \"1570 Live Chum\", \"1560 Live Chum\", \"1550 Live Chum\", \"1515 Live Chum\", \"1515 Live Chum\", \"1515 Live Chum\", \"1510 Live Chum\", \"1510 Live Chum\", \"1510 Live Chum\", \"1500 Live Chum\", \"1500 Live Chum\", \"1465 Live Chum\", \"1465 Live Chum\", \"1455 Live Chum\", \"1455 Live Chum\", \"1455 Live Chum\", \"1455 Live Chum\", \"1410 Live Chum\", \"1380 Live Chum\", \"1380 Live Chum\", \"1380 Live Chum\", \"1380 Live Chum\", \"1390 Live Coho\", \"1390 Live Chum\", \"1390 Live Chum\", \"1390 Live Chum\", \"1390 Live Chum\", \"1360 Live Chum\", \"1360 Live Chum\", \"1360 Live Chum\", \"1360 Live Chum\", \"1360 Live Chum\", \"1348 Live Chum\", \"1348 Live Chum\", \"1348 Live Chum\", \"1348 Live Chum\", \"1305 Live Chum\", \"1305 Live Chum\", \"1305 Live Chum\", \"1305 Live Chum\", \"1300 Live Chum\", \"1300 Live Chum\", \"1300 Live Chum\", \"1283 Live Chum\", \"1280 Live Chum\", \"1280 Live Chum\", \"1275 Live Chum\", \"1275 Live Chum\", \"1270 Live Chum\", \"1260 Live Chum\", \"1260 Live Chum\", \"1260 Live Chum\", \"1260 Live Chum\", \"1260 Live Chum\", \"1260 Live Chum\", \"1250 Live Chum\", \"1250 Live Chum\", \"1250 Live Chum\", \"1245 Live Unknown\", \"1240 Live Chum\", \"1240 Live Chum\", \"1240 Live Chum\", \"1210 Live Chum\", \"1210 Live Chum\", \"1210 Live Chum\", \"1210 Live Chum\", \"1210 Live Chum\", \"1210 Live Chum\", \"1210 Live Chum\", \"1205 Live Chum\", \"1205 Live Chum\", \"1205 Live Chum\", \"1205 Live Chum\", \"1205 Live Chum\", \"1205 Live Chum\", \"1205 Live Chum\", \"1200 Live Chum\", \"1200 Live Chum\", \"1185 Live Chum\", \"1170 Live Chum\", \"1170 Live Chum\", \"1170 Live Chum\", \"1170 Live Chum\", \"1170 Live Chum\", \"1165 Live Chum\", \"1160 Live Chum\", \"1155 Live Chum\", \"1155 Live Chum\", \"1155 Live Chum\", \"1155 Live Chum\", \"1135 Live Chum\", \"1130 Live Chum\", \"1130 Live Chum\", \"1090 Live Chum\", \"1080 Live Chum\", \"1080 Live Chum\", \"1080 Live Chum\", \"1080 Live Chum\", \"1075 Live Chum\", \"1075 Live Chum\", \"1075 Live Chum\", \"1075 Live Chum\", \"1060 Live Chum\", \"1060 Live Chum\", \"1035 Live Chum\", \"1035 Live Chum\", \"1015 Live Chum\", \"1010 Live Chum\", \"1010 Live Chum\", \"1010 Live Chum\", \"1010 Live Chum\", \"960 Live Chum\", \"960 Live Chum\", \"960 Live Chum\", \"960 Live Chum\", \"960 Live Chum\", \"955 Live Chum\", \"955 Live Chum\", \"950 Live Chum\", \"940 Live Chum\", \"940 Live Chum\", \"920 Live Chum\", \"860 Live Chum\", \"860 Live Chum\", \"860 Live Chum\", \"845 Live Chum\", \"845 Live Chum\", \"810 Live Chum\", \"810 Live Chum\", \"810 Live Chum\", \"810 Live Chum\", \"810 Live Chum\", \"800 Live Chum\", \"750 Live Chum\", \"720 Live Chum\", \"710 Live Chum\", \"625 Live Chum\", \"600 Live Chum\", \"600 Live Chum\", \"600 Live Chum\", \"560 Live Chum\", \"550 Live Chum\", \"500 Live Chum\", \"500 Live Chum\", \"500 Live Chum\", \"460 Live Chum\", \"50 Live Chum\", \"30 Live Chum\", \"0 Live Chum\", \"0 Live Chum\", \"0 Live Chum\", \"0 Live Chum\", \"0 Live Chum\", \"525 Live Chum\", \"625 Live Chum\", \"150 Live Chum\", \"100 Live Chum\", \"50 Live Chum\", \"600 Live Chum\", \"600 Live Chum\", \"600 Live Chum\", \"600 Live Chum\", \"600 Live Chum\", \"600 Live Chum\", \"600 Live Chum\", \"600 Live Chum\", \"600 Live Chum\", \"575 Live Chum\", \"575 Live Chum\", \"555 Live Chum\", \"555 Live Chum\", \"555 Live Chum\", \"555 Live Chum\", \"555 Live Chum\", \"555 Live Chum\", \"555 Live Chum\", \"555 Live Chum\", \"555 Live Chum\", \"550 Live Chum\", \"550 Live Chum\", \"550 Live Chum\", \"550 Live Chum\", \"505 Live Chum\", \"505 Live Chum\", \"500 Live Chum\", \"505 Live Chum\", \"500 Live Chum\", \"505 Live Chum\", \"500 Live Chum\", \"500 Live Chum\", \"505 Live Chum\", \"500 Live Chum\", \"500 Live Chum\", \"500 Live Chum\", \"500 Live Chum\", \"450 Live Chum\", \"450 Live Chum\", \"450 Live Chum\", \"450 Live Chum\", \"450 Live Chum\", \"450 Live Chum\", \"450 Live Chum\", \"450 Live Chum\", \"450 Live Chum\", \"450 Live Chum\", \"450 Live Chum\", \"400 Live Chum\", \"400 Live Chum\", \"400 Live Chum\", \"400 Live Chum\", \"400 Live Chum\", \"400 Live Chum\", \"400 Live Chum\", \"400 Live Chum\", \"400 Live Chum\", \"400 Live Chum\", \"400 Live Chum\", \"400 Live Chum\", \"400 Live Chum\", \"350 Live Chum\", \"350 Live Chum\", \"350 Live Chum\", \"350 Live Chum\", \"350 Live Chum\", \"280 Live Chum\", \"280 Live Chum\", \"280 Live Chum\", \"280 Live Chum\", \"280 Live Chum\", \"275 Live Chum\", \"275 Live Chum\", \"275 Live Chum\", \"275 Live Chum\", \"260 Live Chum\", \"275 Live Chum\", \"260 Live Chum\", \"260 Live Chum\", \"275 Live Chum\", \"250 Live Chum\", \"250 Live Chum\", \"250 Live Chum\", \"250 Live Chum\", \"250 Live Chum\", \"250 Live Chum\", \"250 Live Chum\", \"250 Live Chum\", \"175 Live Chum\", \"175 Live Chum\", \"175 Live Chum\", \"175 Live Chum\", \"200 Live Chum\", \"220 Live Chum\", \"200 Live Chum\", \"220 Live Chum\", \"200 Live Chum\", \"220 Live Chum\", \"200 Live Chum\", \"200 Live Chum\", \"220 Live Chum\", \"220 Live Chum\", \"220 Live Chum\", \"115 Live Chum\", \"115 Live Chum\", \"115 Live Chum\", \"125 Live Chum\", \"115 Live Chum\", \"125 Live Chum\", \"115 Live Chum\", \"125 Live Chum\", \"100 Live Chum\", \"100 Live Chum\", \"75 Live Chum\", \"75 Live Chum\", \"75 Live Chum\", \"75 Live Chum\", \"10 Live Chum\", \"50 Live Chum\", \"10 Live Chum\", \"50 Live Chum\", \"10 Live Chum\", \"10 Live Chum\", \"25 Live Chum\", \"10 Live Chum\", \"25 Live Chum\", \"2000 Live Chum\", \"2000 Live Chum\", \"2000 Live Chum\", \"2000 Live Chum\", \"2000 Live Chum\", \"2000 Live Chum\", \"2000 Live Chum\", \"2000 Live Chum\", \"2000 Live Chum\", \"2000 Live Chum\", \"2000 Live Chum\", \"2000 Live Chum\", \"2000 Live Chum\", \"2000 Live Chum\", \"2000 Live Chum\", \"2000 Live Chum\", \"2000 Live Chum\", \"2000 Live Chum\", \"1905 Live Chum\", \"2000 Live Chum\", \"1905 Live Chum\", \"1905 Live Chum\", \"1905 Live Chum\", \"1905 Live Chum\", \"1905 Live Chum\", \"1905 Live Chum\", \"1905 Live Chum\", \"1905 Live Chum\", \"1905 Live Chum\", \"1905 Live Chum\", \"1950 Live Chum\", \"1905 Live Chum\", \"1950 Live Chum\", \"1905 Live Chum\", \"1950 Live Chum\", \"1950 Live Chum\", \"1950 Live Chum\", \"1950 Live Chum\", \"1950 Live Chum\", \"1950 Live Chum\", \"1950 Live Chum\", \"1950 Live Chum\", \"1950 Live Chum\", \"1900 Live Chum\", \"1900 Live Chum\", \"1900 Live Chum\", \"1900 Live Chum\", \"1900 Live Chum\", \"1900 Live Chum\", \"1900 Live Chum\", \"1900 Live Chum\", \"1900 Live Chum\", \"1900 Live Chum\", \"1900 Live Chum\", \"1900 Live Chum\", \"1900 Live Chum\", \"1900 Live Chum\", \"1900 Live Chum\", \"1900 Live Chum\", \"1900 Live Chum\", \"1900 Live Chum\", \"1900 Live Chum\", \"1900 Live Chum\", \"1900 Live Chum\", \"1900 Live Chum\", \"1860 Live Chum\", \"1875 Live Chum\", \"1860 Live Chum\", \"1875 Live Chum\", \"1860 Live Chum\", \"1875 Live Chum\", \"1875 Live Chum\", \"1850 Live Chum\", \"1850 Live Chum\", \"1850 Live Chum\", \"1850 Live Chum\", \"1850 Live Chum\", \"1850 Live Chum\", \"1850 Live Chum\", \"1850 Live Chum\", \"1850 Live Chum\", \"1850 Live Chum\", \"1850 Live Chum\", \"1850 Live Chum\", \"1850 Live Chum\", \"1850 Live Chum\", \"1850 Live Chum\", \"1850 Live Chum\", \"1850 Live Chum\", \"1850 Live Chum\", \"1850 Live Chum\", \"1850 Live Chum\", \"1825 Live Chum\", \"1825 Live Chum\", \"1825 Live Chum\", \"1825 Live Chum\", \"1825 Live Chum\", \"1825 Live Chum\", \"1825 Live Chum\", \"1825 Live Chum\", \"1800 Live Chum\", \"1800 Live Chum\", \"1800 Live Chum\", \"1800 Live Chum\", \"1800 Live Chum\", \"1800 Live Chum\", \"1800 Live Chum\", \"1800 Live Chum\", \"1800 Live Chum\", \"1800 Live Chum\", \"1800 Live Chum\", \"1800 Live Chum\", \"1800 Live Chum\", \"1800 Live Chum\", \"1800 Live Chum\", \"1800 Live Chum\", \"1800 Live Chum\", \"1800 Live Chum\", \"1800 Live Chum\", \"1800 Live Chum\", \"1775 Live Chum\", \"1775 Live Chum\", \"1775 Live Chum\", \"1775 Live Chum\", \"1775 Live Chum\", \"1775 Live Chum\", \"1775 Live Chum\", \"1750 Live Chum\", \"1750 Live Chum\", \"1750 Live Chum\", \"1750 Live Chum\", \"1750 Live Chum\", \"1750 Live Chum\", \"1750 Live Chum\", \"1750 Live Chum\", \"1750 Live Chum\", \"1750 Live Chum\", \"1750 Live Chum\", \"1750 Live Chum\", \"1750 Live Chum\", \"1700 Live Chum\", \"1700 Live Chum\", \"1700 Live Chum\", \"1700 Live Chum\", \"1700 Live Chum\", \"1700 Live Chum\", \"1700 Live Chum\", \"1700 Live Chum\", \"1700 Live Chum\", \"1700 Live Chum\", \"1700 Live Chum\", \"1700 Live Chum\", \"1700 Live Chum\", \"1700 Live Chum\", \"1700 Live Chum\", \"1700 Live Chum\", \"1650 Live Chum\", \"1650 Live Chum\", \"1650 Live Chum\", \"1650 Live Chum\", \"1650 Live Chum\", \"1650 Live Chum\", \"1650 Live Chum\", \"1650 Live Chum\", \"1650 Live Chum\", \"1650 Live Chum\", \"1650 Live Coho\", \"1658 Live Chum\", \"1650 Live Chum\", \"1650 Live Chum\", \"1650 Live Chum\", \"1650 Live Chum\", \"1625 Live Chum\", \"1625 Live Chum\", \"1625 Live Chum\", \"1625 Live Chum\", \"1625 Live Chum\", \"1625 Live Chum\", \"1625 Live Chum\", \"1625 Live Chum\", \"1625 Live Chum\", \"1625 Live Chum\", \"1625 Live Chum\", \"1625 Live Chum\", \"1625 Live Chum\", \"1625 Live Chum\", \"1625 Live Chum\", \"1625 Live Chum\", \"1625 Live Chum\", \"1560 Live Chum\", \"1560 Live Chum\", \"1560 Live Chum\", \"1560 Live Chum\", \"1560 Live Chum\", \"1560 Live Chum\", \"1560 Live Chum\", \"1550 Live Chum\", \"1550 Live Chum\", \"1550 Live Chum\", \"1550 Live Chum\", \"1500 Live Chum\", \"1500 Live Chum\", \"1500 Live Chum\", \"1500 Live Chum\", \"1500 Live Chum\", \"1500 Live Chum\", \"1500 Live Chum\", \"1500 Live Chum\", \"1450 Live Chum\", \"1450 Live Chum\", \"1450 Live Chum\", \"1450 Live Chum\", \"1450 Live Chum\", \"1425 Live Chum\", \"1450 Live Chum\", \"1450 Live Chum\", \"1450 Live Chum\", \"1450 Live Chum\", \"1450 Live Chum\", \"1400 Live Chum\", \"1400 Live Chum\", \"1400 Live Chum\", \"1400 Live Chum\", \"1400 Live Chum\", \"1400 Live Chum\", \"1400 Live Chum\", \"1400 Live Chum\", \"1400 Live Chum\", \"1375 Live Chum\", \"1375 Live Chum\", \"1375 Live Chum\", \"1375 Live Chum\", \"1375 Live Chum\", \"1375 Live Chum\", \"1375 Live Chum\", \"1350 Live Chum\", \"1350 Live Chum\", \"1350 Live Chum\", \"1350 Live Chum\", \"1300 Live Chum\", \"1300 Live Chum\", \"1300 Live Chum\", \"1300 Live Chum\", \"1300 Live Chum\", \"1300 Live Chum\", \"1300 Live Chum\", \"1300 Live Chum\", \"1265 Live Chum\", \"1265 Live Chum\", \"1250 Live Chum\", \"1260 Live Chum\", \"1260 Live Chum\", \"1260 Live Chum\", \"1260 Live Chum\", \"1260 Live Chum\", \"1260 Live Chum\", \"1225 Live Chum\", \"1225 Live Chum\", \"1225 Live Chum\", \"1225 Live Chum\", \"1225 Live Chum\", \"1225 Live Chum\", \"1225 Live Chum\", \"1250 Live Chum\", \"1250 Live Chum\", \"1250 Live Chum\", \"1250 Live Chum\", \"1250 Live Chum\", \"1200 Live Chum\", \"1200 Live Chum\", \"1200 Live Chum\", \"1200 Live Chum\", \"1200 Live Chum\", \"1200 Live Chum\", \"1200 Live Chum\", \"1200 Live Chum\", \"1200 Live Chum\", \"1200 Live Chum\", \"1200 Live Chum\", \"1150 Live Chum\", \"1150 Live Chum\", \"1150 Live Chum\", \"1150 Live Chum\", \"1150 Live Chum\", \"1150 Live Chum\", \"1100 Live Chum\", \"1100 Live Chum\", \"1100 Live Chum\", \"1100 Live Chum\", \"1100 Live Chum\", \"1075 Live Chum\", \"1075 Live Chum\", \"1075 Live Chum\", \"1050 Live Chum\", \"1050 Live Chum\", \"1050 Live Chum\", \"1050 Live Chum\", \"1050 Live Chum\", \"1050 Live Chum\", \"1050 Live Chum\", \"1050 Live Chum\", \"1050 Live Chum\", \"1025 Live Chum\", \"1025 Live Chum\", \"1000 Live Chum\", \"950 Live Chum\", \"950 Live Chum\", \"950 Live Chum\", \"925 Live Chum\", \"925 Live Chum\", \"900 Live Chum\", \"900 Live Chum\", \"900 Live Chum\", \"900 Live Chum\", \"875 Live Chum\", \"875 Live Chum\", \"0 Live Chum\", \"850 Live Chum\", \"850 Live Chum\", \"0 Live Chum\", \"805 Live Chum\", \"705 Live Chum\", \"705 Live Chum\", \"705 Live Chum\", \"705 Live Chum\", \"705 Live Chum\", \"665 Live Chum\", \"650 Live Chum\", \"650 Live Chum\", \"625 Live Chum\", \"625 Live Chum\", \"560 Live Chum\", \"560 Live Chum\", \"560 Live Chum\", \"550 Live Chum\", \"525 Live Chum\", \"525 Live Chum\", \"550 Live Chum\", \"465 Live Chum\", \"450 Live Chum\", \"450 Live Chum\", \"460 Live Chum\", \"460 Live Chum\", \"440 Live Chum\", \"440 Live Chum\", \"440 Live Chum\", \"315 Live Chum\", \"300 Live Chum\", \"200 Live Chum\", \"100 Live Chum\", \"0 Live Chum\", \"0 Live Chum\", \"0 Live Chum\", \"595 Live Resident Cutthroat\", \"570 Live Chum\", \"570 Live Chum\", \"570 Live Chum\", \"570 Live Chum\", \"550 Live Chum\", \"550 Live Chum\", \"550 Live Chum\", \"550 Live Chum\", \"540 Live Chum\", \"540 Live Chum\", \"530 Live Chum\", \"530 Live Chum\", \"530 Live Chum\", \"530 Live Chum\", \"530 Live Chum\", \"530 Live Chum\", \"530 Live Chum\", \"530 Live Chum\", \"680 Live Chum\", \"655 Live Chum\", \"450 Live Chum\", \"450 Live Chum\", \"450 Live Chum\", \"450 Live Chum\", \"450 Live Chum\", \"430 Live Chum\", \"425 Live Chum\", \"400 Live Chum\", \"475 Live Chum\", \"395 Live Chum\", \"395 Live Chum\", \"395 Live Chum\", \"395 Live Chum\", \"25 Live Chum\", \"375 Live Chum\", \"20 Live Chum\", \"375 Live Chum\", \"355 Live Chum\", \"2011 Live Chum\", \"355 Live Chum\", \"2011 Live Chum\", \"355 Live Chum\", \"2011 Live Chum\", \"355 Live Chum\", \"2011 Live Chum\", \"355 Live Chum\", \"2011 Live Chum\", \"2011 Live Chum\", \"355 Live Chum\", \"2011 Live Chum\", \"355 Live Chum\", \"2011 Live Chum\", \"355 Live Chum\", \"2011 Live Chum\", \"355 Live Chum\", \"2011 Live Chum\", \"355 Live Chum\", \"2011 Live Chum\", \"2011 Live Chum\", \"355 Live Chum\", \"2011 Live Chum\", \"2011 Live Chum\", \"355 Live Chum\", \"2011 Live Chum\", \"2011 Live Chum\", \"340 Live Chum\", \"2011 Live Chum\", \"2011 Live Chum\", \"2011 Live Chum\", \"2011 Live Chum\", \"2011 Live Chum\", \"2011 Live Chum\", \"310 Live Chum\", \"310 Live Chum\", \"310 Live Chum\", \"270 Live Chum\", \"1990 Live Chum\", \"255 Live Chum\", \"1990 Live Chum\", \"1990 Live Chum\", \"255 Live Chum\", \"1990 Live Chum\", \"1990 Live Chum\", \"1990 Live Chum\", \"175 Live Chum\", \"175 Live Chum\", \"165 Live Chum\", \"135 Live Chum\", \"160 Live Chum\", \"160 Live Chum\", \"160 Live Chum\", \"160 Live Chum\", \"150 Live Chum\", \"1980 Live Chum\", \"1975 Live Chum\", \"1960 Live Chum\", \"1960 Live Chum\", \"1960 Live Chum\", \"1935 Live Chum\", \"1935 Live Chum\", \"1935 Live Chum\", \"1935 Live Chum\", \"1935 Live Chum\", \"1935 Live Chum\", \"1935 Live Chum\", \"1935 Live Chum\", \"1935 Live Chum\", \"75 Live Chum\", \"1935 Live Chum\", \"75 Live Chum\", \"1935 Live Chum\", \"75 Live Chum\", \"1935 Live Chum\", \"1935 Live Chum\", \"75 Live Chum\", \"1935 Live Chum\", \"1935 Live Chum\", \"75 Live Chum\", \"1935 Live Chum\", \"50 Live Chum\", \"1935 Live Chum\", \"50 Live Chum\", \"1935 Live Chum\", \"50 Live Chum\", \"1935 Live Chum\", \"1935 Live Chum\", \"1930 Live Chum\", \"50 Live Chum\", \"50 Live Chum\", \"35 Live Chum\", \"25 Live Chum\", \"25 Live Chum\", \"1910 Live Chum\", \"25 Live Chum\", \"1910 Live Chum\", \"1900 Live Chum\", \"1900 Live Chum\", \"1900 Live Chum\", \"1900 Live Chum\", \"1900 Live Chum\", \"1900 Live Chum\", \"1900 Live Chum\", \"1895 Live Chum\", \"1895 Live Chum\", \"1895 Live Chum\", \"1895 Live Chum\", \"1895 Live Chum\", \"1880 Live Chum\", \"1880 Live Chum\", \"1880 Live Chum\", \"1880 Live Chum\", \"1880 Live Chum\", \"1880 Live Chum\", \"1880 Live Chum\", \"1880 Live Chum\", \"1880 Live Chum\", \"1875 Live Chum\", \"1870 Live Chum\", \"1865 Live Chum\", \"1865 Live Chum\", \"1865 Live Chum\", \"1865 Live Chum\", \"1865 Live Chum\", \"1865 Live Chum\", \"1865 Live Chum\", \"1865 Live Chum\", \"1860 Live Chum\", \"1860 Live Chum\", \"1860 Live Chum\", \"1860 Live Chum\", \"1860 Live Chum\", \"1860 Live Chum\", \"1860 Live Chum\", \"1860 Live Chum\", \"1860 Live Chum\", \"1825 Live Chum\", \"1825 Live Chum\", \"1825 Live Chum\", \"1825 Live Chum\", \"1825 Live Chum\", \"1825 Live Chum\", \"1825 Live Chum\", \"1825 Live Chum\", \"1825 Live Chum\", \"1810 Live Chum\", \"1810 Live Chum\", \"1810 Live Chum\", \"1810 Live Chum\", \"1810 Live Chum\", \"1810 Live Chum\", \"1810 Live Chum\", \"1810 Live Chum\", \"1810 Live Chum\", \"1810 Live Chum\", \"1805 Live Chum\", \"1805 Live Chum\", \"1805 Live Chum\", \"1790 Live Chum\", \"1785 Live Chum\", \"1785 Live Chum\", \"1780 Live Chum\", \"1780 Live Chum\", \"1780 Live Chum\", \"1780 Live Chum\", \"1780 Live Chum\", \"1780 Live Chum\", \"1780 Live Chum\", \"1780 Live Chum\", \"1780 Live Chum\", \"1780 Live Chum\", \"1765 Live Chum\", \"1765 Live Chum\", \"1760 Live Chum\", \"1760 Live Chum\", \"1760 Live Chum\", \"1760 Live Chum\", \"1755 Live Chum\", \"1755 Live Chum\", \"1755 Live Chum\", \"1755 Live Chum\", \"1755 Live Chum\", \"1750 Live Chum\", \"1750 Live Chum\", \"1747 Live Chum\", \"1735 Live Chum\", \"1725 Live Chum\", \"1715 Live Chum\", \"1710 Live Chum\", \"1670 Live Chum\", \"1625 Live Chum\", \"1620 Live Chum\", \"1610 Live Chum\", \"1610 Live Chum\", \"1570 Live Chum\", \"1555 Live Chum\", \"1555 Live Chum\", \"1550 Live Chum\", \"1550 Live Chum\", \"1540 Live Chum\", \"1530 Live Chum\", \"1530 Live Chum\", \"1468 Live Chum\", \"1465 Live Chum\", \"1425 Live Chum\", \"1420 Live Chum\", \"1410 Live Chum\", \"1400 Live Chum\", \"1370 Live Chum\", \"1365 Live Chum\", \"1325 Live Chum\", \"1315 Live Chum\", \"1295 Live Chum\", \"1270 Live Chum\", \"1240 Live Chum\", \"1240 Live Chum\", \"1235 Live Chum\", \"1205 Live Chum\", \"1180 Live Chum\", \"1155 Live Chum\", \"1147 Live Chum\", \"1135 Live Chum\", \"1100 Live Chum\", \"1080 Live Chum\", \"1080 Live Chum\", \"1080 Live Chum\", \"1080 Live Chum\", \"1080 Live Chum\", \"1070 Live Chum\", \"1070 Live Chum\", \"1070 Live Chum\", \"1070 Live Chum\", \"1060 Live Chum\", \"1055 Live Chum\", \"1050 Live Chum\", \"1050 Live Chum\", \"1025 Live Chum\", \"1025 Live Chum\", \"1025 Live Chum\", \"1015 Live Chum\", \"1015 Live Chum\", \"990 Live Chum\", \"980 Live Chum\", \"980 Live Chum\", \"980 Live Chum\", \"980 Live Chum\", \"975 Live Chum\", \"960 Live Chum\", \"960 Live Chum\", \"960 Live Chum\", \"960 Live Chum\", \"950 Live Chum\", \"920 Live Chum\", \"920 Live Chum\", \"875 Live Chum\", \"875 Live Chum\", \"850 Live Chum\", \"805 Live Chum\", \"795 Live Chum\", \"795 Live Chum\", \"795 Live Chum\", \"795 Live Chum\", \"785 Live Chum\", \"785 Live Chum\", \"785 Live Chum\", \"780 Live Chum\", \"770 Live Chum\", \"735 Live Chum\", \"735 Live Chum\", \"735 Live Chum\", \"735 Live Chum\", \"735 Live Chum\", \"735 Live Chum\", \"735 Live Chum\", \"725 Live Chum\", \"710 Live Chum\", \"710 Live Chum\", \"700 Live Chum\", \"625 Live Chum\", \"600 Live Chum\", \"590 Live Chum\", \"580 Live Chum\", \"580 Live Chum\", \"580 Live Chum\", \"580 Live Chum\", \"580 Live Chum\", \"580 Live Chum\", \"550 Live Chum\", \"550 Live Chum\", \"550 Live Chum\", \"470 Live Chum\", \"475 Live Chum\", \"450 Live Chum\", \"450 Live Chum\", \"420 Live Chum\", \"400 Live Chum\", \"350 Live Chum\", \"325 Live Chum\", \"250 Live Chum\", \"206 Live Chum\", \"0 Live Chum\", \"0 Live Chum\", \"0 Live Chum\", \"0 Live Chum\", \"2010 Live Coho\", \"100 Live Chum\", \"2000 Live Chum\", \"2000 Live Resident Cutthroat\", \"1960 Live Chum\", \"1950 Live Chum\", \"1900 Live Chum\", \"1875 Live Chum\", \"1850 Live Chum\", \"1780 Live Chum\", \"1700 Live Chum\", \"1675 Live Chum\", \"1620 Live Chum\", \"1610 Live Chum\", \"1450 Live Chum\", \"1450 Live Chum\", \"1475 Live Chum\", \"1450 Live Chum\", \"1450 Live Chum\", \"1400 Live Chum\", \"1350 Live Chum\", \"1250 Live Chum\", \"1210 Live Chum\", \"1155 Live Chum\", \"1125 Live Chum\", \"1100 Live Chum\", \"1060 Live Chum\", \"1050 Live Chum\", \"600 Live Unknown\", \"600 Live Chum\", \"565 Live Chum\", \"425 Live Chum\", \"425 Live Chum\", \"415 Live Chum\", \"415 Live Chum\", \"350 Live Chum\", \"0 Live Chum\", \"0 Live Unknown\", \"0 Live Unknown\", \"525 Live Chum\", \"100 Live Chum\", \"10 Live Unknown\", \"2000 Live Chum\", \"1910 Live Unknown\", \"1910 Live Chum\", \"1908 Live Chum\", \"1900 Live Chum\", \"1875 Live Chum\", \"1800 Live Chum\", \"1750 Live Chum\", \"1700 Live Coho\", \"1650 Live Chum\", \"1650 Live Chum\", \"1600 Live Chum\", \"1605 Live Chum\", \"1605 Live Chum\", \"1600 Live Chum\", \"1500 Live Chum\", \"1500 Live Chum\", \"1500 Live Chum\", \"1405 Live Chum\", \"1405 Live Chum\", \"1400 Live Unknown\", \"1375 Live Chum\", \"1375 Live Chum\", \"1245 Live Chum\", \"1210 Live Chum\", \"1210 Live Chum\", \"1200 Live Chum\", \"1200 Live Chum\", \"1200 Live Chum\", \"1150 Live Chum\", \"1150 Live Chum\", \"1150 Live Chum\", \"1060 Live Chum\", \"1060 Live Chum\", \"1060 Live Chum\", \"1060 Live Chum\", \"950 Live Chum\", \"950 Live Chum\", \"705 Live Unknown\", \"705 Live Unknown\", \"600 Live Unknown\", \"600 Live Unknown\", \"600 Live Chum\", \"550 Live Chum\", \"Live Chum\", \"375 Live Unknown\", \"400 Live Chum\", \"300 Live Chum\", \"300 Live Chum\", \"250 Live Unknown\", \"1695 Live Coho\", \"1470 Live Unknown\", \"1125 Live Chum\", \"980 Live Chum\", \"815 Live Chum\", \"815 Live Chum\", \"945 Live Chum\", \"945 Live Chum\", \"945 Live Chum\", \"715 Live Chum\", \"715 Live Chum\", \"715 Live Chum\", \"695 Live Chum\", \"415 Live Chum\", \"410 Live Chum\", \"410 Live Chum\", \"375 Live Chum\", \"345 Live Chum\", \"300 Live Chum\", \"70 Live Coho\", \"50 Live Chum\", \"0 Live Coho\", \"0 Live Chum\", \"0 Live Chum\", \"0 Live Chum\", \"0 Live Chum\", \"0 Live Chum\", \"0 Live Chum\", \"0 Live Chum\", \"0 Live Chum\"], \"lat\": [47.710872, 47.710932, 47.710958, 47.711116, 47.71118, 47.711156, 47.71116, 47.711152, 47.711042, 47.711132, 47.711518, 47.712168, 47.711572, 47.710983, 47.710942, 47.710807, 47.710789, 47.710836, 47.71081, 47.710795, 47.710776, 47.71081, 47.710808, 47.710884, 47.710927, 47.710884, 47.71094, 47.710967, 47.711142, 47.71126, 47.71118, 47.711168, 47.711165, 47.71125, 47.711146, 47.711159, 47.711066, 47.711204, 47.711276, 47.711126, 47.711009, 47.711181, 47.711178, 47.711171, 47.711061, 47.711373, 47.711363, 47.711435, 47.711492, 47.711666, 47.71231, 47.712339, 47.712141, 47.711953, 47.712365, 47.711779, 47.711567, 47.711569, 47.711542, 47.711385, 47.711387, 47.711391, 47.710659, 47.710651, 47.710652, 47.710654, 47.710649, 47.710645, 47.710614, 47.710613, 47.710611, 47.710902, 47.7109, 47.7109, 47.710879, 47.710878, 47.710877, 47.710897, 47.71088, 47.710746, 47.710829, 47.710831, 47.710835, 47.710846, 47.711019, 47.711025, 47.711028, 47.711034, 47.711053, 47.711023, 47.711047, 47.711045, 47.711071, 47.71106, 47.711067, 47.71106, 47.711066, 47.711173, 47.711145, 47.711153, 47.711169, 47.711189, 47.711197, 47.711224, 47.711193, 47.711249, 47.711582, 47.711173, 47.711292, 47.711394, 47.711523, 47.7115, 47.7115, 47.711177, 47.711486, 47.711478, 47.711501, 47.711642, 47.711629, 47.71159, 47.711222, 47.7113, 47.7115, 47.71179, 47.711597, 47.712126, 47.71221, 47.71221, 47.712255, 47.711779, 47.712056, 47.71199, 47.712035, 47.7119, 47.711901, 47.711858, 47.711824, 47.711784, 47.712043, 47.711749, 47.711749, 47.711749, 47.711722, 47.71181, 47.71181, 47.7118, 47.711754, 47.711867, 47.711668, 47.711634, 47.711342, 47.711588, 47.711632, 47.711601, 47.711601, 47.711601, 47.711622, 47.711622, 47.711571, 47.711569, 47.711569, 47.711634, 47.711634, 47.711465, 47.711507, 47.711507, 47.711472, 47.711408, 47.711537, 47.711279, 47.711178, 47.711163, 47.711116, 47.711116, 47.711018, 47.710693, 47.711054, 47.711013, 47.71083, 47.710853, 47.710775, 47.710658, 47.710799, 47.710778, 47.71077, 47.71078, 47.710829, 47.710926, 47.710742, 47.710998, 47.710944, 47.710752, 47.710768, 47.710993, 47.710979, 47.710877, 47.710914, 47.710925, 47.710921, 47.710893, 47.710879, 47.710922, 47.710939, 47.710942, 47.711066, 47.710922, 47.71091, 47.710976, 47.710976, 47.711233, 47.710977, 47.710977, 47.710893, 47.710927, 47.710849, 47.710816, 47.710822, 47.710863, 47.710904, 47.710824, 47.710658, 47.710837, 47.711184, 47.711264, 47.71143, 47.711494, 47.711101, 47.711205, 47.711205, 47.71122, 47.71122, 47.711148, 47.711143, 47.711234, 47.711251, 47.711258, 47.711232, 47.711267, 47.711211, 47.711103, 47.711103, 47.711103, 47.711099, 47.711086, 47.711103, 47.711583, 47.711093, 47.711045, 47.711002, 47.711002, 47.710985, 47.710951, 47.710951, 47.710951, 47.710951, 47.711181, 47.711063, 47.711063, 47.711127, 47.711128, 47.711122, 47.711122, 47.7111, 47.711176, 47.711204, 47.711186, 47.711161, 47.711118, 47.711292, 47.711093, 47.711093, 47.711325, 47.711325, 47.711325, 47.711272, 47.711537, 47.711236, 47.711381, 47.711317, 47.711338, 47.711377, 47.711377, 47.711377, 47.711398, 47.711024, 47.711617, 47.711072, 47.711253, 47.711133, 47.711131, 47.711162, 47.710713, 47.711131, 47.711068, 47.711073, 47.711074, 47.711074, 47.710924, 47.711036, 47.71112, 47.71112, 47.71098, 47.711289, 47.711223, 47.71126, 47.71126, 47.711195, 47.711214, 47.711084, 47.711058, 47.711058, 47.711, 47.710941, 47.710905, 47.711022, 47.71109, 47.711429, 47.711218, 47.711196, 47.711236, 47.711234, 47.711206, 47.711176, 47.711461, 47.711235, 47.711235, 47.711017, 47.711205, 47.711233, 47.711191, 47.710408, 47.711236, 47.711213, 47.711231, 47.711231, 47.711231, 47.711231, 47.711253, 47.711222, 47.711232, 47.711224, 47.711224, 47.711224, 47.711224, 47.711224, 47.7113, 47.711256, 47.711153, 47.711363, 47.711268, 47.711221, 47.711235, 47.711396, 47.711263, 47.71147, 47.711218, 47.711218, 47.711218, 47.711218, 47.71129, 47.71113, 47.711418, 47.711394, 47.711394, 47.711353, 47.711383, 47.711383, 47.711383, 47.711276, 47.711442, 47.71145, 47.711538, 47.711584, 47.71159, 47.711554, 47.71159, 47.711587, 47.711734, 47.711734, 47.711492, 47.711726, 47.711671, 47.712241, 47.712177, 47.712365, 47.712337, 47.712142, 47.712122, 47.712243, 47.712304, 47.712135, 47.712215, 47.712345, 47.712379, 47.712305, 47.71215, 47.712032, 47.712191, 47.712173, 47.712087, 47.712069, 47.712082, 47.712031, 47.712052, 47.712038, 47.712056, 47.711982, 47.711964, 47.711947, 47.711876, 47.711824, 47.711824, 47.711998, 47.712, 47.711851, 47.711829, 47.711792, 47.711896, 47.711847, 47.71188, 47.711872, 47.711813, 47.711819, 47.7119, 47.711852, 47.71182, 47.711863, 47.711732, 47.71167, 47.711696, 47.711655, 47.71165, 47.711711, 47.711715, 47.711774, 47.711941, 47.711995, 47.711737, 47.711743, 47.711642, 47.711684, 47.711631, 47.711755, 47.711749, 47.711661, 47.711648, 47.711699, 47.711674, 47.711584, 47.711549, 47.711576, 47.711625, 47.711631, 47.711616, 47.711689, 47.711814, 47.711785, 47.711623, 47.711612, 47.71163, 47.711652, 47.711573, 47.71164, 47.71173, 47.711627, 47.711625, 47.711526, 47.711512, 47.711548, 47.711539, 47.711541, 47.711536, 47.711519, 47.711296, 47.711356, 47.711335, 47.711382, 47.711421, 47.711383, 47.711502, 47.711282, 47.711222, 47.711189, 47.71122, 47.711216, 47.711194, 47.711228, 47.710921, 47.710975, 47.710919, 47.711059, 47.710937, 47.710873, 47.710905, 47.710853, 47.710727, 47.710807, 47.710855, 47.710845, 47.710875, 47.710902, 47.710945, 47.710899, 47.710813, 47.710877, 47.710849, 47.710835, 47.710846, 47.710781, 47.710797, 47.710817, 47.710857, 47.710824, 47.710867, 47.710684, 47.711019, 47.710972, 47.710956, 47.711022, 47.710973, 47.710974, 47.710975, 47.711005, 47.710996, 47.710969, 47.710884, 47.710826, 47.7108, 47.710925, 47.711163, 47.710847, 47.710833, 47.710869, 47.710968, 47.710965, 47.710976, 47.710842, 47.710881, 47.710923, 47.710924, 47.710921, 47.710925, 47.710925, 47.710879, 47.710873, 47.71086, 47.710905, 47.710976, 47.710983, 47.710915, 47.71093, 47.710895, 47.71099, 47.711106, 47.710908, 47.710918, 47.710974, 47.711056, 47.710951, 47.710965, 47.710897, 47.71093, 47.710926, 47.710843, 47.710835, 47.710859, 47.711027, 47.711004, 47.710974, 47.710974, 47.71105, 47.711084, 47.711034, 47.711004, 47.711063, 47.711129, 47.711097, 47.711095, 47.711102, 47.711069, 47.711108, 47.711178, 47.711236, 47.711163, 47.711215, 47.711152, 47.711181, 47.711233, 47.711257, 47.711228, 47.711245, 47.71119, 47.711165, 47.711172, 47.711095, 47.711196, 47.711209, 47.711168, 47.711114, 47.711124, 47.711276, 47.71128, 47.71126, 47.711321, 47.711158, 47.7112, 47.710915, 47.711201, 47.711182, 47.711121, 47.711141, 47.711085, 47.711054, 47.71102, 47.711214, 47.711182, 47.711215, 47.711206, 47.711145, 47.711126, 47.711075, 47.71107, 47.711039, 47.711037, 47.711061, 47.711021, 47.710878, 47.710845, 47.711011, 47.711228, 47.711146, 47.711202, 47.711222, 47.711146, 47.711198, 47.71113, 47.711045, 47.711068, 47.711272, 47.711259, 47.711203, 47.711241, 47.71121, 47.711231, 47.711235, 47.711207, 47.711158, 47.71113, 47.711094, 47.711116, 47.71114, 47.711289, 47.711227, 47.711205, 47.711233, 47.711262, 47.711244, 47.711316, 47.711228, 47.711086, 47.711348, 47.711222, 47.711234, 47.711166, 47.711132, 47.711103, 47.711094, 47.711086, 47.711263, 47.711269, 47.711285, 47.71119, 47.711104, 47.711183, 47.711174, 47.711242, 47.711291, 47.711263, 47.71113, 47.711068, 47.711046, 47.710999, 47.711111, 47.711026, 47.71134, 47.711308, 47.711278, 47.71124, 47.711281, 47.711267, 47.711233, 47.711227, 47.711235, 47.711446, 47.711488, 47.711384, 47.711372, 47.711353, 47.711325, 47.711391, 47.711303, 47.711264, 47.711151, 47.71112, 47.711138, 47.71113, 47.711143, 47.711114, 47.711133, 47.711263, 47.711217, 47.711266, 47.711217, 47.711221, 47.711332, 47.711243, 47.711266, 47.711177, 47.711237, 47.711343, 47.711133, 47.711195, 47.711189, 47.711276, 47.711174, 47.711245, 47.711242, 47.711292, 47.711232, 47.711259, 47.711218, 47.711247, 47.711292, 47.711339, 47.711353, 47.711336, 47.711358, 47.711439, 47.711412, 47.71141, 47.711364, 47.711447, 47.711389, 47.711288, 47.711187, 47.711185, 47.711252, 47.711276, 47.71123, 47.711254, 47.71125, 47.711332, 47.711384, 47.711417, 47.711405, 47.711366, 47.711367, 47.711413, 47.711349, 47.711419, 47.711397, 47.711478, 47.711458, 47.711492, 47.711419, 47.711402, 47.711439, 47.711345, 47.711365, 47.71132, 47.711352, 47.711166, 47.711276, 47.711339, 47.71136, 47.711464, 47.711496, 47.711372, 47.71134, 47.711381, 47.711427, 47.711425, 47.711421, 47.711362, 47.711258, 47.711311, 47.711376, 47.711345, 47.711448, 47.711453, 47.711495, 47.711402, 47.711393, 47.711495, 47.7114, 47.711413, 47.71147, 47.711455, 47.711396, 47.711518, 47.711504, 47.71149, 47.711741, 47.711509, 47.711477, 47.711488, 47.711578, 47.711524, 47.711587, 47.711598, 47.7115, 47.71162, 47.71183, 47.711861, 47.711861, 47.711881, 47.711847, 47.711896, 47.711893, 47.711708, 47.712195, 47.712295, 47.712266, 47.712268, 47.712194, 47.712112, 47.712099, 47.712106, 47.712214, 47.712141, 47.712112, 47.71214, 47.712052, 47.712214, 47.712099, 47.71205, 47.712031, 47.712007, 47.712034, 47.712093, 47.712089, 47.712086, 47.712161, 47.711972, 47.711903, 47.711958, 47.711877, 47.711939, 47.712074, 47.712079, 47.71195, 47.71194, 47.711944, 47.711956, 47.711923, 47.711933, 47.711901, 47.711881, 47.711814, 47.711712, 47.711941, 47.711806, 47.711816, 47.71182, 47.711739, 47.711869, 47.711841, 47.711819, 47.711809, 47.711769, 47.711916, 47.711737, 47.711767, 47.71158, 47.711763, 47.711555, 47.711787, 47.711554, 47.711758, 47.711621, 47.711774, 47.711658, 47.711734, 47.711587, 47.711491, 47.711823, 47.711887, 47.711908, 47.711908, 47.711662, 47.711655, 47.711678, 47.711736, 47.711734, 47.711717, 47.711654, 47.711675, 47.711535, 47.711651, 47.711546, 47.711678, 47.711549, 47.711432, 47.711663, 47.711446, 47.711762, 47.711533, 47.711676, 47.711479, 47.711666, 47.711621, 47.711559, 47.711467, 47.711482, 47.711476, 47.711486, 47.711555, 47.711487, 47.711581, 47.711487, 47.711567, 47.711487, 47.711504, 47.711501, 47.711518, 47.711555, 47.711492, 47.711168, 47.71118, 47.711201, 47.711277, 47.711206, 47.711317, 47.711095, 47.711383, 47.711129, 47.710953, 47.711152, 47.711115, 47.711084, 47.711129, 47.711, 47.711013, 47.710978, 47.711186, 47.71095, 47.711035, 47.711161, 47.711082, 47.711116, 47.710859, 47.710861, 47.710881, 47.710921, 47.710945, 47.710821, 47.710939, 47.710973, 47.710935, 47.710848, 47.710863, 47.710826, 47.710799, 47.71082, 47.710844, 47.710884, 47.71094, 47.710893, 47.710878, 47.710823, 47.710885, 47.710912, 47.710929, 47.710892, 47.710892, 47.710892, 47.710846, 47.71088, 47.71088, 47.710915, 47.710877, 47.710975, 47.710891, 47.710999, 47.710946, 47.710952, 47.710907, 47.710952, 47.710989, 47.710981, 47.710945, 47.710907, 47.710904, 47.71086, 47.710817, 47.710834, 47.710849, 47.710953, 47.710919, 47.710915, 47.710767, 47.710628, 47.71105, 47.711073, 47.710982, 47.711082, 47.710968, 47.710906, 47.711033, 47.710893, 47.711126, 47.710984, 47.710924, 47.710975, 47.710968, 47.711023, 47.710912, 47.710938, 47.710917, 47.710827, 47.710878, 47.710871, 47.710881, 47.710886, 47.710919, 47.710906, 47.710908, 47.710887, 47.710915, 47.710892, 47.710929, 47.710916, 47.710956, 47.710862, 47.710926, 47.710833, 47.710899, 47.710764, 47.710843, 47.710835, 47.710814, 47.710879, 47.711035, 47.711016, 47.710958, 47.710958, 47.710963, 47.710963, 47.710872, 47.711215, 47.711044, 47.710912, 47.710989, 47.710952, 47.710972, 47.711047, 47.710972, 47.711014, 47.710938, 47.711056, 47.710953, 47.711092, 47.710942, 47.711046, 47.711004, 47.711072, 47.71096, 47.71101, 47.711087, 47.711021, 47.711091, 47.711074, 47.71106, 47.711041, 47.710997, 47.710981, 47.710944, 47.711245, 47.7112, 47.711153, 47.711257, 47.711129, 47.711243, 47.711123, 47.711171, 47.711286, 47.711145, 47.711095, 47.711063, 47.711086, 47.711059, 47.711035, 47.711095, 47.710986, 47.711144, 47.711018, 47.711041, 47.711085, 47.710987, 47.711031, 47.710999, 47.711104, 47.71099, 47.710949, 47.711026, 47.711026, 47.711101, 47.711113, 47.711135, 47.711104, 47.711118, 47.711127, 47.711115, 47.711101, 47.711107, 47.711072, 47.711171, 47.711138, 47.711102, 47.711096, 47.711229, 47.711154, 47.711141, 47.711099, 47.711153, 47.711044, 47.711114, 47.711073, 47.711096, 47.711108, 47.711075, 47.711108, 47.711109, 47.711095, 47.711128, 47.711096, 47.711117, 47.710945, 47.711234, 47.711269, 47.711443, 47.71149, 47.71156, 47.711531, 47.711382, 47.711395, 47.711344, 47.711339, 47.711471, 47.711346, 47.711412, 47.711371, 47.71133, 47.711338, 47.711227, 47.711091, 47.711072, 47.711109, 47.711073, 47.711172, 47.711196, 47.711204, 47.711235, 47.711118, 47.711272, 47.711235, 47.711216, 47.711194, 47.711197, 47.711262, 47.711224, 47.711298, 47.711287, 47.711245, 47.711211, 47.711182, 47.711162, 47.711011, 47.711208, 47.7112, 47.711192, 47.711187, 47.711188, 47.711189, 47.711194, 47.711203, 47.711224, 47.711259, 47.71131, 47.711304, 47.711354, 47.711332, 47.711324, 47.711244, 47.71122, 47.711212, 47.711241, 47.711212, 47.711229, 47.711199, 47.7112, 47.711234, 47.711176, 47.711187, 47.711035, 47.71095, 47.711244, 47.711296, 47.711216, 47.711384, 47.711281, 47.711257, 47.711284, 47.711346, 47.71127, 47.711326, 47.711271, 47.711262, 47.711268, 47.711147, 47.711245, 47.711157, 47.71126, 47.711134, 47.711277, 47.711159, 47.711218, 47.711136, 47.711197, 47.711351, 47.711322, 47.711321, 47.711205, 47.711317, 47.711248, 47.711695, 47.711647, 47.711436, 47.711645, 47.711709, 47.711474, 47.711614, 47.711472, 47.711416, 47.711446, 47.711247, 47.711479, 47.711303, 47.711473, 47.711498, 47.711501, 47.71154, 47.711396, 47.711381, 47.711396, 47.711428, 47.711418, 47.711444, 47.711426, 47.71147, 47.711318, 47.711331, 47.711358, 47.711344, 47.711422, 47.711356, 47.711933, 47.711309, 47.71126, 47.711925, 47.711536, 47.711654, 47.711571, 47.711495, 47.711599, 47.711515, 47.711407, 47.711487, 47.711426, 47.711515, 47.711441, 47.711621, 47.711599, 47.711552, 47.711476, 47.711488, 47.71156, 47.711521, 47.711526, 47.711558, 47.711507, 47.711511, 47.711578, 47.711537, 47.711509, 47.711596, 47.711571, 47.711636, 47.711514, 47.711673, 47.711851, 47.711952, 47.711942, 47.712097, 47.712063, 47.712083, 47.712017, 47.712026, 47.712026, 47.71202, 47.71202, 47.712035, 47.711955, 47.712008, 47.71189, 47.711891, 47.711809, 47.711875, 47.711876, 47.711929, 47.711928, 47.712, 47.712175, 47.712021, 47.7118, 47.711734, 47.711748, 47.71173, 47.711763, 47.711767, 47.711819, 47.711662, 47.711907, 47.711721, 47.711736, 47.71171, 47.711708, 47.710998, 47.711732, 47.710892, 47.711715, 47.711673, 47.71084, 47.711654, 47.71082, 47.711607, 47.710821, 47.711621, 47.710864, 47.711603, 47.710871, 47.710879, 47.711606, 47.710831, 47.711572, 47.710756, 47.711582, 47.710723, 47.711586, 47.710698, 47.711564, 47.71064, 47.71066, 47.711586, 47.710691, 47.710705, 47.711633, 47.710722, 47.710707, 47.711604, 47.710743, 47.710861, 47.710812, 47.710809, 47.710799, 47.710817, 47.711535, 47.71156, 47.711566, 47.711501, 47.710749, 47.711526, 47.710722, 47.710749, 47.711528, 47.710787, 47.710825, 47.710885, 47.711424, 47.71147, 47.711459, 47.711463, 47.711452, 47.711424, 47.71148, 47.711517, 47.711496, 47.710781, 47.71094, 47.710785, 47.710832, 47.710817, 47.710901, 47.71092, 47.710895, 47.710897, 47.710863, 47.710847, 47.710852, 47.710922, 47.710912, 47.711162, 47.710899, 47.71115, 47.710903, 47.711174, 47.710861, 47.710882, 47.711152, 47.710868, 47.710853, 47.711168, 47.710879, 47.711169, 47.710889, 47.711165, 47.710892, 47.71115, 47.710878, 47.710898, 47.710861, 47.711172, 47.711239, 47.711091, 47.711035, 47.711028, 47.710917, 47.711008, 47.710978, 47.710877, 47.710873, 47.710902, 47.710904, 47.710938, 47.710884, 47.710975, 47.710969, 47.710983, 47.710997, 47.711007, 47.710997, 47.711012, 47.710941, 47.710959, 47.710946, 47.710948, 47.71094, 47.710872, 47.710881, 47.711032, 47.710967, 47.710989, 47.710917, 47.710911, 47.710936, 47.711, 47.710982, 47.710951, 47.710996, 47.710954, 47.711004, 47.71099, 47.711017, 47.710959, 47.710959, 47.710976, 47.710957, 47.710947, 47.710966, 47.711116, 47.711153, 47.711045, 47.711027, 47.710977, 47.710948, 47.710992, 47.711093, 47.711127, 47.711164, 47.711155, 47.711158, 47.711123, 47.71111, 47.711114, 47.711105, 47.711092, 47.710969, 47.710951, 47.711258, 47.711214, 47.711235, 47.711183, 47.711144, 47.711134, 47.711126, 47.71113, 47.711159, 47.71115, 47.711156, 47.711176, 47.71119, 47.711138, 47.711218, 47.711148, 47.711123, 47.711148, 47.711149, 47.711164, 47.711207, 47.711148, 47.711111, 47.711151, 47.711197, 47.711173, 47.711069, 47.711091, 47.711465, 47.711161, 47.711092, 47.711154, 47.711131, 47.710945, 47.711162, 47.711353, 47.711294, 47.71125, 47.711216, 47.711183, 47.711169, 47.711136, 47.711195, 47.711229, 47.71116, 47.7111, 47.711227, 47.711272, 47.711316, 47.711177, 47.711269, 47.711203, 47.711235, 47.711188, 47.711332, 47.711222, 47.711249, 47.711076, 47.711191, 47.711157, 47.711193, 47.711231, 47.711212, 47.71119, 47.711243, 47.711227, 47.711362, 47.711498, 47.711546, 47.711512, 47.711414, 47.711412, 47.711391, 47.711419, 47.711382, 47.711367, 47.711399, 47.711256, 47.711419, 47.711425, 47.711444, 47.711328, 47.711341, 47.711312, 47.711431, 47.7114, 47.711415, 47.711433, 47.711331, 47.711327, 47.711373, 47.711346, 47.711408, 47.711375, 47.711361, 47.711362, 47.711441, 47.711317, 47.711268, 47.71141, 47.711372, 47.711364, 47.711406, 47.711324, 47.711342, 47.711368, 47.711377, 47.711461, 47.711405, 47.711387, 47.711424, 47.711429, 47.711447, 47.711447, 47.711436, 47.711483, 47.711509, 47.711494, 47.711519, 47.711504, 47.71142, 47.71137, 47.711464, 47.711529, 47.711461, 47.711469, 47.711483, 47.711487, 47.711503, 47.711487, 47.711483, 47.711516, 47.711572, 47.711555, 47.711612, 47.711668, 47.711711, 47.711708, 47.711605, 47.711607, 47.71164, 47.711701, 47.711717, 47.711746, 47.7118, 47.711813, 47.711818, 47.711892, 47.712102, 47.710734, 47.711175, 47.710796, 47.710799, 47.710857, 47.710874, 47.710828, 47.710883, 47.710973, 47.710922, 47.71113, 47.711112, 47.711161, 47.7112, 47.711228, 47.711161, 47.711199, 47.711239, 47.711189, 47.711317, 47.711315, 47.711244, 47.711266, 47.711317, 47.711348, 47.711378, 47.7114, 47.711416, 47.711502, 47.711495, 47.71163, 47.711636, 47.71161, 47.71161, 47.711587, 47.711711, 47.711723, 47.711968, 47.711605, 47.711927, 47.711364, 47.71113, 47.710797, 47.710951, 47.710837, 47.710974, 47.71096, 47.710968, 47.71115, 47.711149, 47.711105, 47.711217, 47.711285, 47.711243, 47.71123, 47.711262, 47.711283, 47.71113, 47.711134, 47.711159, 47.711364, 47.711219, 47.711114, 47.71124, 47.711267, 47.711116, 47.711172, 47.711136, 47.711165, 47.71121, 47.711156, 47.711362, 47.711312, 47.711424, 47.711353, 47.711377, 47.711406, 47.711451, 47.711406, 47.71139, 47.711456, 47.711473, 47.71151, 47.711561, 47.711519, 47.711633, 47.711587, 47.711641, 47.711633, 47.71171, 47.71167, 47.711699, 47.711059, 47.71135, 47.711365, 47.711442, 47.711307, 47.711333, 47.711315, 47.711344, 47.711356, 47.711448, 47.711423, 47.711612, 47.711594, 47.711618, 47.711653, 47.711597, 47.711706, 47.711703, 47.711643, 47.71181, 47.711898, 47.711836, 47.711867, 47.711822, 47.711866, 47.711855, 47.711831, 47.711824, 47.711778, 47.711845], \"legendgroup\": \"Live\", \"lon\": [-122.371748, -122.371817, -122.371926, -122.371859, -122.372617, -122.372639, -122.373452, -122.373469, -122.374041, -122.374248, -122.375645, -122.370948, -122.371256, -122.371912, -122.372015, -122.371622, -122.371753, -122.371667, -122.371717, -122.371737, -122.371711, -122.371739, -122.3717, -122.371923, -122.371899, -122.371949, -122.371857, -122.371969, -122.372349, -122.372282, -122.372331, -122.372351, -122.372357, -122.372294, -122.372644, -122.372676, -122.372656, -122.372739, -122.372909, -122.373236, -122.37336, -122.373642, -122.374011, -122.373971, -122.374049, -122.375611, -122.376243, -122.376671, -122.376758, -122.378134, -122.37024, -122.370283, -122.370456, -122.370699, -122.371307, -122.371062, -122.371163, -122.371117, -122.371051, -122.371671, -122.371671, -122.371672, -122.371596, -122.371595, -122.371595, -122.371597, -122.37159, -122.371583, -122.371553, -122.371552, -122.371552, -122.371849, -122.371855, -122.371855, -122.371831, -122.371847, -122.371847, -122.371854, -122.371863, -122.371937, -122.372103, -122.372104, -122.372104, -122.372115, -122.372301, -122.372348, -122.372349, -122.372364, -122.372388, -122.37259, -122.37251, -122.372512, -122.372518, -122.372728, -122.372738, -122.372752, -122.372741, -122.373374, -122.373379, -122.373383, -122.373362, -122.373698, -122.373706, -122.373716, -122.373672, -122.37402, -122.374043, -122.374505, -122.374785, -122.374878, -122.375035, -122.376023, -122.376022, -122.375835, -122.376775, -122.376792, -122.37689, -122.377146, -122.377201, -122.377197, -122.373185, -122.374064, -122.375027, -122.378334, -122.379259, -122.370912, -122.370713, -122.370713, -122.370734, -122.369948, -122.370681, -122.370771, -122.370739, -122.370882, -122.370912, -122.370885, -122.370937, -122.371016, -122.371344, -122.37109, -122.37109, -122.37109, -122.371122, -122.37114, -122.37114, -122.371122, -122.371136, -122.370858, -122.371175, -122.37125, -122.371351, -122.371432, -122.371516, -122.371398, -122.371398, -122.371398, -122.371443, -122.371443, -122.37122, -122.371089, -122.371135, -122.371269, -122.371269, -122.37163, -122.371651, -122.371651, -122.371607, -122.371502, -122.371449, -122.371746, -122.371849, -122.371763, -122.371785, -122.371785, -122.371861, -122.372007, -122.371871, -122.371901, -122.371551, -122.371511, -122.3715, -122.37154, -122.371606, -122.371657, -122.37166, -122.371561, -122.371554, -122.371561, -122.371667, -122.371476, -122.37195, -122.371719, -122.371843, -122.371863, -122.371892, -122.371928, -122.371912, -122.371916, -122.37194, -122.371993, -122.371984, -122.371926, -122.371927, -122.371935, -122.371953, -122.372009, -122.371942, -122.371974, -122.371974, -122.371925, -122.372004, -122.372004, -122.372113, -122.371927, -122.372073, -122.372116, -122.372107, -122.372129, -122.371875, -122.372236, -122.372121, -122.372088, -122.372346, -122.37241, -122.372474, -122.372572, -122.372357, -122.372396, -122.372396, -122.372397, -122.372397, -122.37238, -122.372411, -122.37241, -122.372428, -122.372389, -122.372371, -122.372451, -122.372246, -122.372393, -122.372393, -122.372393, -122.372503, -122.372551, -122.372469, -122.372389, -122.372664, -122.372799, -122.372657, -122.372657, -122.372721, -122.372764, -122.372764, -122.372764, -122.372764, -122.372873, -122.372769, -122.372769, -122.372773, -122.372755, -122.372764, -122.372764, -122.372697, -122.373012, -122.373008, -122.372986, -122.372987, -122.373046, -122.373069, -122.373052, -122.373052, -122.373177, -122.373177, -122.373177, -122.373184, -122.37343, -122.373189, -122.373118, -122.37319, -122.373208, -122.373206, -122.373206, -122.373206, -122.37321, -122.372894, -122.372639, -122.373176, -122.373066, -122.373429, -122.373428, -122.3734, -122.373058, -122.373328, -122.373599, -122.373656, -122.373693, -122.373693, -122.373538, -122.373677, -122.373728, -122.373728, -122.373733, -122.373948, -122.373911, -122.373952, -122.373952, -122.373997, -122.373908, -122.37393, -122.373892, -122.373892, -122.373849, -122.373947, -122.373903, -122.373751, -122.373649, -122.373976, -122.374225, -122.374235, -122.374205, -122.374211, -122.374276, -122.374283, -122.374184, -122.374373, -122.374373, -122.374205, -122.374394, -122.374384, -122.374358, -122.374251, -122.374665, -122.37465, -122.374704, -122.374704, -122.374704, -122.374704, -122.374703, -122.374738, -122.374831, -122.374884, -122.374884, -122.374884, -122.374884, -122.374884, -122.374807, -122.374825, -122.374802, -122.375195, -122.375203, -122.375275, -122.37497, -122.374914, -122.37525, -122.374858, -122.375257, -122.375257, -122.375257, -122.375257, -122.375382, -122.375361, -122.375586, -122.375685, -122.375685, -122.376153, -122.376165, -122.376165, -122.376165, -122.376247, -122.37617, -122.376033, -122.376552, -122.376536, -122.377277, -122.377227, -122.377277, -122.377215, -122.37753, -122.37753, -122.377842, -122.378072, -122.378469, -122.370516, -122.370599, -122.369972, -122.370052, -122.370318, -122.370184, -122.370617, -122.370552, -122.370882, -122.370794, -122.370918, -122.370736, -122.37081, -122.370641, -122.370558, -122.370671, -122.370625, -122.370585, -122.370607, -122.370582, -122.370664, -122.370582, -122.37069, -122.370718, -122.370764, -122.370674, -122.370699, -122.370661, -122.37058, -122.37056, -122.370734, -122.370743, -122.370687, -122.370685, -122.37065, -122.370661, -122.370662, -122.370752, -122.370679, -122.370646, -122.370644, -122.370747, -122.370763, -122.370727, -122.370938, -122.370985, -122.371013, -122.37092, -122.370883, -122.371141, -122.37123, -122.371259, -122.371127, -122.371181, -122.371284, -122.371228, -122.371243, -122.371312, -122.371199, -122.371146, -122.371169, -122.37133, -122.371343, -122.371297, -122.371285, -122.371205, -122.371225, -122.371202, -122.371283, -122.371266, -122.371205, -122.371206, -122.37123, -122.371277, -122.371271, -122.371282, -122.371303, -122.371358, -122.371419, -122.371186, -122.371366, -122.371441, -122.371262, -122.371329, -122.371567, -122.371657, -122.371623, -122.371729, -122.371699, -122.371724, -122.371675, -122.371755, -122.371754, -122.371686, -122.371713, -122.371651, -122.371665, -122.37153, -122.371237, -122.371715, -122.371658, -122.37173, -122.371753, -122.371767, -122.371639, -122.371873, -122.371851, -122.371766, -122.371891, -122.371565, -122.371507, -122.371493, -122.37152, -122.371493, -122.371387, -122.371538, -122.371519, -122.371613, -122.371574, -122.371505, -122.371489, -122.371652, -122.37174, -122.371718, -122.371778, -122.37174, -122.371742, -122.371809, -122.371798, -122.371819, -122.37191, -122.37193, -122.371944, -122.371805, -122.371827, -122.371849, -122.371865, -122.371793, -122.371743, -122.371788, -122.371794, -122.371761, -122.371762, -122.371811, -122.371821, -122.371851, -122.371773, -122.371252, -122.371854, -122.371771, -122.371765, -122.371768, -122.371814, -122.371864, -122.371898, -122.371893, -122.371864, -122.371823, -122.371845, -122.371831, -122.371756, -122.371806, -122.371856, -122.371835, -122.371864, -122.371867, -122.371864, -122.371842, -122.371814, -122.371847, -122.371849, -122.371667, -122.372019, -122.371984, -122.37189, -122.371864, -122.37198, -122.371983, -122.372028, -122.372012, -122.372004, -122.372, -122.371959, -122.372049, -122.372103, -122.372069, -122.372003, -122.372118, -122.372107, -122.37204, -122.372068, -122.37208, -122.37206, -122.372198, -122.372161, -122.372139, -122.372154, -122.372192, -122.372163, -122.372094, -122.372091, -122.372147, -122.372071, -122.372208, -122.372376, -122.372211, -122.372274, -122.372274, -122.372225, -122.372296, -122.372295, -122.372279, -122.372239, -122.372224, -122.372249, -122.37224, -122.372197, -122.372211, -122.372164, -122.372174, -122.372257, -122.37217, -122.372159, -122.372552, -122.372684, -122.372535, -122.372566, -122.372575, -122.372573, -122.372617, -122.372582, -122.372601, -122.372836, -122.372781, -122.372761, -122.372767, -122.372751, -122.372727, -122.372742, -122.372807, -122.372859, -122.37285, -122.372804, -122.372829, -122.37286, -122.37272, -122.372761, -122.372903, -122.372946, -122.372938, -122.37296, -122.373019, -122.372988, -122.372963, -122.373065, -122.373089, -122.373087, -122.373215, -122.3732, -122.373126, -122.37315, -122.373141, -122.373125, -122.37312, -122.373119, -122.373057, -122.37318, -122.373204, -122.373184, -122.373105, -122.373175, -122.373239, -122.373232, -122.373227, -122.373199, -122.373186, -122.373176, -122.373014, -122.373085, -122.373131, -122.373233, -122.37321, -122.373177, -122.373318, -122.373359, -122.373413, -122.373451, -122.373473, -122.373365, -122.373372, -122.373506, -122.373425, -122.373444, -122.373561, -122.373572, -122.37362, -122.373597, -122.373753, -122.373764, -122.373707, -122.373718, -122.373835, -122.373924, -122.373945, -122.373975, -122.373944, -122.373964, -122.373969, -122.373909, -122.373838, -122.373891, -122.374051, -122.374156, -122.374189, -122.37429, -122.374193, -122.37413, -122.374107, -122.374198, -122.374153, -122.374374, -122.374358, -122.374342, -122.374359, -122.374333, -122.374285, -122.374394, -122.374309, -122.374397, -122.374365, -122.374291, -122.374279, -122.374327, -122.374353, -122.374309, -122.3743, -122.374297, -122.374418, -122.374369, -122.374492, -122.374462, -122.374502, -122.374595, -122.374549, -122.374605, -122.374571, -122.374642, -122.374633, -122.3746, -122.374687, -122.374706, -122.374747, -122.37465, -122.374725, -122.374737, -122.374687, -122.374628, -122.374624, -122.374664, -122.374596, -122.374655, -122.374757, -122.374842, -122.374974, -122.374913, -122.37483, -122.37484, -122.374854, -122.374851, -122.374589, -122.374778, -122.374714, -122.374719, -122.374683, -122.374738, -122.37489, -122.37486, -122.375081, -122.375131, -122.375057, -122.374987, -122.375083, -122.375156, -122.375131, -122.375117, -122.375237, -122.375227, -122.375163, -122.375292, -122.375307, -122.375559, -122.375376, -122.37531, -122.375307, -122.375327, -122.375514, -122.375612, -122.375571, -122.375596, -122.37564, -122.375636, -122.375593, -122.375561, -122.375632, -122.37555, -122.37576, -122.375957, -122.375982, -122.375925, -122.37601, -122.376096, -122.376143, -122.376144, -122.376082, -122.376141, -122.376124, -122.376223, -122.376285, -122.376492, -122.376473, -122.376971, -122.377002, -122.377023, -122.376921, -122.37725, -122.377275, -122.377435, -122.377371, -122.377391, -122.377598, -122.379174, -122.379411, -122.379405, -122.379355, -122.379387, -122.379754, -122.379774, -122.377757, -122.370401, -122.370697, -122.370558, -122.370679, -122.370794, -122.370767, -122.370848, -122.370744, -122.370659, -122.370749, -122.370779, -122.370873, -122.370673, -122.370673, -122.370721, -122.370644, -122.370654, -122.370691, -122.370719, -122.370732, -122.370704, -122.370728, -122.370653, -122.370662, -122.370664, -122.370742, -122.370671, -122.370723, -122.370644, -122.370683, -122.370782, -122.370674, -122.370718, -122.370593, -122.370767, -122.370787, -122.370483, -122.370564, -122.370769, -122.370664, -122.370797, -122.370893, -122.371036, -122.371029, -122.370907, -122.371041, -122.370968, -122.371123, -122.370844, -122.37101, -122.370915, -122.370999, -122.370993, -122.371102, -122.370974, -122.37102, -122.370964, -122.370986, -122.371019, -122.37113, -122.371059, -122.371081, -122.371089, -122.370885, -122.370996, -122.371117, -122.371254, -122.371284, -122.371274, -122.371157, -122.371244, -122.371271, -122.371267, -122.37123, -122.371401, -122.371273, -122.371301, -122.371259, -122.371326, -122.371387, -122.371306, -122.371403, -122.371469, -122.371382, -122.371392, -122.37139, -122.371399, -122.371326, -122.371204, -122.371317, -122.37124, -122.371034, -122.371708, -122.3717, -122.371718, -122.371569, -122.371595, -122.371542, -122.371574, -122.371542, -122.371593, -122.371542, -122.371585, -122.371616, -122.371529, -122.37153, -122.371572, -122.371734, -122.371723, -122.371731, -122.371858, -122.371712, -122.371995, -122.371459, -122.372184, -122.371949, -122.371939, -122.371784, -122.371759, -122.371771, -122.371824, -122.371768, -122.37186, -122.37175, -122.371748, -122.371761, -122.371747, -122.371786, -122.371772, -122.371796, -122.371818, -122.371821, -122.371784, -122.371731, -122.371728, -122.371693, -122.371611, -122.371497, -122.371507, -122.371664, -122.371656, -122.371657, -122.371595, -122.371634, -122.371617, -122.371655, -122.37165, -122.371686, -122.371843, -122.371726, -122.371805, -122.371794, -122.371796, -122.371832, -122.371832, -122.371832, -122.371833, -122.371836, -122.371836, -122.371843, -122.371806, -122.371863, -122.371862, -122.37188, -122.371808, -122.371732, -122.371827, -122.371775, -122.371707, -122.371735, -122.371855, -122.371814, -122.371767, -122.371948, -122.37196, -122.371946, -122.371974, -122.371891, -122.371938, -122.371933, -122.372008, -122.372141, -122.371819, -122.371831, -122.372022, -122.37185, -122.372, -122.372041, -122.371995, -122.372007, -122.371915, -122.371943, -122.371883, -122.371956, -122.37193, -122.372081, -122.372188, -122.372145, -122.372185, -122.372137, -122.372079, -122.372084, -122.372176, -122.372197, -122.372121, -122.372244, -122.372098, -122.372099, -122.37214, -122.372112, -122.372121, -122.37221, -122.372123, -122.372235, -122.37212, -122.372289, -122.372154, -122.372288, -122.372087, -122.372246, -122.372015, -122.372197, -122.372279, -122.372286, -122.372306, -122.372306, -122.372307, -122.372295, -122.372186, -122.372187, -122.372534, -122.372429, -122.372514, -122.372398, -122.372498, -122.372352, -122.372488, -122.372372, -122.372482, -122.372391, -122.372449, -122.372404, -122.372403, -122.372372, -122.372394, -122.372358, -122.372376, -122.372281, -122.37238, -122.372298, -122.372537, -122.37255, -122.372526, -122.372516, -122.372504, -122.372478, -122.372473, -122.372525, -122.372673, -122.372596, -122.372631, -122.372589, -122.372624, -122.372594, -122.37252, -122.372543, -122.372601, -122.372688, -122.372694, -122.372792, -122.372731, -122.372725, -122.37271, -122.372777, -122.372776, -122.372751, -122.372768, -122.372778, -122.372818, -122.372912, -122.372769, -122.37295, -122.372721, -122.372789, -122.372835, -122.372752, -122.372921, -122.372929, -122.372933, -122.372968, -122.372972, -122.372935, -122.372966, -122.372782, -122.373008, -122.372974, -122.373042, -122.372919, -122.372851, -122.37295, -122.37296, -122.37292, -122.373069, -122.373065, -122.373054, -122.373104, -122.373058, -122.373102, -122.373069, -122.373061, -122.373072, -122.373052, -122.373014, -122.373052, -122.373011, -122.373056, -122.373053, -122.373159, -122.372997, -122.373403, -122.373262, -122.373313, -122.373288, -122.373244, -122.373337, -122.37312, -122.373296, -122.373346, -122.373353, -122.37344, -122.37341, -122.373479, -122.373467, -122.373484, -122.373575, -122.373707, -122.373738, -122.373722, -122.373491, -122.373513, -122.373587, -122.373669, -122.37373, -122.37373, -122.373782, -122.373816, -122.373764, -122.373719, -122.373735, -122.373868, -122.373832, -122.373921, -122.373974, -122.373938, -122.373954, -122.37396, -122.373954, -122.373947, -122.373967, -122.374009, -122.374026, -122.373968, -122.373964, -122.373951, -122.373946, -122.37426, -122.374187, -122.374234, -122.374205, -122.374365, -122.374389, -122.374385, -122.374384, -122.374389, -122.374412, -122.374407, -122.374429, -122.374334, -122.374419, -122.374323, -122.374478, -122.374519, -122.374458, -122.37445, -122.374385, -122.374343, -122.374501, -122.374298, -122.374437, -122.374416, -122.374458, -122.374389, -122.374459, -122.374281, -122.374448, -122.3744, -122.374513, -122.374368, -122.374518, -122.374399, -122.3746, -122.374352, -122.374589, -122.374427, -122.374596, -122.374441, -122.374619, -122.374461, -122.374535, -122.37486, -122.374813, -122.374832, -122.374951, -122.374832, -122.374868, -122.37484, -122.374812, -122.374892, -122.374812, -122.374848, -122.375045, -122.375049, -122.375016, -122.375095, -122.375055, -122.375118, -122.375072, -122.375132, -122.375024, -122.375059, -122.37501, -122.375016, -122.375337, -122.375321, -122.375407, -122.375598, -122.37551, -122.375579, -122.375524, -122.37556, -122.375633, -122.375667, -122.375692, -122.375722, -122.375767, -122.375799, -122.379468, -122.375944, -122.375918, -122.379521, -122.376338, -122.376503, -122.376512, -122.376558, -122.376494, -122.37663, -122.376654, -122.376817, -122.376686, -122.376655, -122.376678, -122.377181, -122.377149, -122.377231, -122.37734, -122.377216, -122.377356, -122.377259, -122.377584, -122.377575, -122.377606, -122.377709, -122.377637, -122.377726, -122.377677, -122.377717, -122.378158, -122.37817, -122.378505, -122.37836, -122.379441, -122.379468, -122.379537, -122.370562, -122.37072, -122.370829, -122.37082, -122.370706, -122.370603, -122.370749, -122.37075, -122.37074, -122.370774, -122.370687, -122.37085, -122.370849, -122.370659, -122.370852, -122.370851, -122.370854, -122.370882, -122.370934, -122.370268, -122.370548, -122.371028, -122.370944, -122.370867, -122.370893, -122.370956, -122.371213, -122.37122, -122.371267, -122.37094, -122.371341, -122.371362, -122.37132, -122.371248, -122.371844, -122.371245, -122.371895, -122.371233, -122.371305, -122.371641, -122.371293, -122.371624, -122.371304, -122.371623, -122.371291, -122.371605, -122.371328, -122.371571, -122.371622, -122.371353, -122.371637, -122.371389, -122.371679, -122.371318, -122.371699, -122.371325, -122.371708, -122.371283, -122.371752, -122.371713, -122.371318, -122.371695, -122.37174, -122.371297, -122.371728, -122.371752, -122.37128, -122.37172, -122.3716, -122.371723, -122.371692, -122.371627, -122.3715, -122.371295, -122.371291, -122.371265, -122.371418, -122.371663, -122.371589, -122.371648, -122.371726, -122.3716, -122.37178, -122.371738, -122.371712, -122.371734, -122.371723, -122.371676, -122.371709, -122.371729, -122.371764, -122.371756, -122.371788, -122.371746, -122.37186, -122.371772, -122.371861, -122.371829, -122.37187, -122.371856, -122.371896, -122.371892, -122.371846, -122.371851, -122.37188, -122.371848, -122.371839, -122.371843, -122.371684, -122.371863, -122.371686, -122.371883, -122.371706, -122.371859, -122.371878, -122.371693, -122.371897, -122.371849, -122.371673, -122.371853, -122.371664, -122.371862, -122.371675, -122.371851, -122.371708, -122.371864, -122.371872, -122.371926, -122.371717, -122.37177, -122.371876, -122.371885, -122.371845, -122.372234, -122.371903, -122.371946, -122.372103, -122.37204, -122.372034, -122.372005, -122.371941, -122.371936, -122.371797, -122.37194, -122.371922, -122.371931, -122.371918, -122.371924, -122.371982, -122.371986, -122.371975, -122.372025, -122.37202, -122.372056, -122.372119, -122.372121, -122.371985, -122.372133, -122.372262, -122.372157, -122.372151, -122.37217, -122.372157, -122.372136, -122.372088, -122.372139, -122.37205, -122.37209, -122.372077, -122.372056, -122.372089, -122.372069, -122.372061, -122.372003, -122.371995, -122.371787, -122.37221, -122.372213, -122.372231, -122.372132, -122.372113, -122.372201, -122.372176, -122.372095, -122.372069, -122.372221, -122.372191, -122.372219, -122.372266, -122.372255, -122.372263, -122.372253, -122.372227, -122.372094, -122.371973, -122.372351, -122.372287, -122.372386, -122.372495, -122.37249, -122.372477, -122.372445, -122.372503, -122.372491, -122.37251, -122.372498, -122.372528, -122.372513, -122.372462, -122.372381, -122.372383, -122.37258, -122.3726, -122.372565, -122.372548, -122.372555, -122.372511, -122.372437, -122.372545, -122.372533, -122.372526, -122.372595, -122.372587, -122.372703, -122.372533, -122.372474, -122.372492, -122.372729, -122.372819, -122.372896, -122.373186, -122.373153, -122.373177, -122.373171, -122.373293, -122.373285, -122.373297, -122.373311, -122.373348, -122.373338, -122.37345, -122.373393, -122.373753, -122.373743, -122.373926, -122.373912, -122.373892, -122.374046, -122.374006, -122.373955, -122.374292, -122.374258, -122.374345, -122.374406, -122.374474, -122.37451, -122.37458, -122.374657, -122.374666, -122.374707, -122.374699, -122.374679, -122.374943, -122.375008, -122.375073, -122.375208, -122.375002, -122.374982, -122.374999, -122.37501, -122.375025, -122.375086, -122.375075, -122.375145, -122.37521, -122.375174, -122.375226, -122.375202, -122.375286, -122.375325, -122.375346, -122.375506, -122.3755, -122.375468, -122.375451, -122.375474, -122.375531, -122.375554, -122.375602, -122.375581, -122.375617, -122.375557, -122.375644, -122.375643, -122.375937, -122.375903, -122.375957, -122.376171, -122.37622, -122.376232, -122.376187, -122.376206, -122.376223, -122.376272, -122.376328, -122.376366, -122.376492, -122.376723, -122.376438, -122.376504, -122.3765, -122.376518, -122.376485, -122.376472, -122.376468, -122.376491, -122.376486, -122.376339, -122.376886, -122.376973, -122.376957, -122.376958, -122.37698, -122.376933, -122.376932, -122.376922, -122.376957, -122.376916, -122.37718, -122.377226, -122.377654, -122.377646, -122.377639, -122.377623, -122.377706, -122.377745, -122.377928, -122.378119, -122.3784, -122.3784, -122.379356, -122.379364, -122.379407, -122.379881, -122.371542, -122.371726, -122.371619, -122.3716, -122.371725, -122.37179, -122.372031, -122.37196, -122.37221, -122.372227, -122.37274, -122.37276, -122.372955, -122.372967, -122.373489, -122.373545, -122.373485, -122.373686, -122.373831, -122.373942, -122.374106, -122.374496, -122.374694, -122.374889, -122.374923, -122.374968, -122.375114, -122.375097, -122.37683, -122.376788, -122.377147, -122.37757, -122.377583, -122.377667, -122.377746, -122.378047, -122.378442, -122.379486, -122.380359, -122.370713, -122.371711, -122.371838, -122.371694, -122.371851, -122.371881, -122.371951, -122.371995, -122.371972, -122.372381, -122.372335, -122.372816, -122.372932, -122.372874, -122.372994, -122.373082, -122.373094, -122.373133, -122.373421, -122.373408, -122.373432, -122.373626, -122.373914, -122.374047, -122.374098, -122.373905, -122.374306, -122.374641, -122.374622, -122.374628, -122.374622, -122.374637, -122.374838, -122.374855, -122.374787, -122.375217, -122.375117, -122.375121, -122.375157, -122.375425, -122.375669, -122.376436, -122.376533, -122.376845, -122.376933, -122.377013, -122.377165, -122.377303, -122.377708, -122.377762, -122.378056, -122.37807, -122.378304, -122.372689, -122.373632, -122.374991, -122.375452, -122.375757, -122.375703, -122.375774, -122.37578, -122.375782, -122.376443, -122.376425, -122.376468, -122.376731, -122.377639, -122.377605, -122.377626, -122.377922, -122.378183, -122.378239, -122.37914, -122.379193, -122.379368, -122.379405, -122.379365, -122.379382, -122.379366, -122.379357, -122.379378, -122.37941, -122.379334], \"marker\": {\"color\": \"green\"}, \"mode\": \"markers\", \"name\": \"Live\", \"showlegend\": true, \"subplot\": \"mapbox\", \"type\": \"scattermapbox\"}, {\"customdata\": [[4], [7], [5], [5], [25], [17], [5], [5], [5], [34], [5], [5], [5], [5], [20], [5], [26], [5], [5], [23], [5], [20], [23], [5], [5], [5], [24], [5], [5], [19], [5], [5], [5], [5], [17], [5], [5], [5], [6], [26], [8], [5], [5], [5], [4], [4], [5], [15], [23], [5], [33], [5], [19], [5], [5], [5], [5], [5], [5], [12], [5], [5], [5], [5], [13], [5], [5], [7], [5], [5], [5], [13], [34], [5], [13], [25], [6], [9], [5], [5], [5], [5], [5], [5], [5], [5], [15], [5], [5], [5], [5]], \"hovertemplate\": \"<b>%{hovertext}</b><br><br>Type=Redd<br>Location.latitude=%{lat}<br>Location.longitude=%{lon}<br>Location.accuracy=%{customdata[0]}<extra></extra>\", \"hovertext\": [\"1160 Redd Unknown\", \"675 Redd Unknown\", \"1260 Redd Unknown\", \"1030 Redd Unknown\", \"40 Redd Unknown\", \"820 Redd Unknown\", \"528 Redd Unknown\", \"515 Redd Unknown\", \"358 Redd Unknown\", \"355 Redd Unknown\", \"340 Redd Unknown\", \"180 Redd Unknown\", \"185 Redd Unknown\", \"1980 Redd Unknown\", \"1975 Redd Unknown\", \"1960 Redd Unknown\", \"1950 Redd Unknown\", \"1905 Redd Unknown\", \"1845 Redd Unknown\", \"1820 Redd Chum\", \"1810 Redd Unknown\", \"1775 Redd Unknown\", \"1742 Redd Unknown\", \"1740 Redd Unknown\", \"1740 Redd Unknown\", \"1735 Redd Unknown\", \"1570 Redd Unknown\", \"1550 Redd Unknown\", \"1515 Redd Unknown\", \"1362 Redd Unknown\", \"1360 Redd Unknown\", \"1348 Redd Unknown\", \"1348 Redd Unknown\", \"1283 Redd Unknown\", \"1280 Redd Unknown\", \"1275 Redd Unknown\", \"1270 Redd Unknown\", \"1260 Redd Unknown\", \"1245 Redd Unknown\", \"1010 Redd Unknown\", \"460 Redd Unknown\", \"450 Redd Unknown\", \"250 Redd Unknown\", \"1650 Redd Unknown\", \"1550 Redd Unknown\", \"1550 Redd Unknown\", \"1300 Redd Unknown\", \"1265 Redd Unknown\", \"1260 Redd Unknown\", \"1200 Redd Unknown\", \"950 Redd Unknown\", \"570 Redd Unknown\", \"1990 Redd Unknown\", \"1980 Redd Unknown\", \"1975 Redd Unknown\", \"1910 Redd Unknown\", \"1895 Redd Unknown\", \"1780 Redd Unknown\", \"1765 Redd Unknown\", \"1760 Redd Unknown\", \"1625 Redd Unknown\", \"1615 Redd Unknown\", \"1570 Redd Unknown\", \"1425 Redd Unknown\", \"1420 Redd Unknown\", \"1270 Redd Unknown\", \"1270 Redd Unknown\", \"1260 Redd Unknown\", \"1240 Redd Unknown\", \"1180 Redd Unknown\", \"1160 Redd Unknown\", \"1055 Redd Unknown\", \"1050 Redd Unknown\", \"1010 Redd Unknown\", \"990 Redd Unknown\", \"950 Redd Unknown\", \"795 Redd Unknown\", \"795 Redd Unknown\", \"785 Redd Unknown\", \"1970 Redd Unknown\", \"1550 Redd Unknown\", \"1000 Redd Unknown\", \"660 Redd Unknown\", \"535 Redd Unknown\", \"500 Redd Unknown\", \"290 Redd Chum\", \"1450 Redd Unknown\", \"1375 Redd Unknown\", \"815 Redd Unknown\", \"945 Redd Unknown\", \"715 Redd Unknown\"], \"lat\": [47.711308, 47.711485, 47.7112, 47.711218, 47.712269, 47.712451, 47.711887, 47.711876, 47.711719, 47.711633, 47.711582, 47.711412, 47.711423, 47.710874, 47.710802, 47.710828, 47.710723, 47.710953, 47.71116, 47.711095, 47.711178, 47.711201, 47.711102, 47.711125, 47.711052, 47.711069, 47.711199, 47.711223, 47.711106, 47.711768, 47.711455, 47.711395, 47.711435, 47.71123, 47.711244, 47.711255, 47.711326, 47.71129, 47.711188, 47.711492, 47.711593, 47.711815, 47.711437, 47.711111, 47.711291, 47.711298, 47.711279, 47.711228, 47.711229, 47.711179, 47.711325, 47.711581, 47.710849, 47.710807, 47.710896, 47.71101, 47.710872, 47.711098, 47.711186, 47.711179, 47.711262, 47.711377, 47.711182, 47.711247, 47.711288, 47.711137, 47.71114, 47.711265, 47.711168, 47.711231, 47.711294, 47.7115, 47.711317, 47.711408, 47.711309, 47.711311, 47.711346, 47.711353, 47.711403, 47.710668, 47.711205, 47.711402, 47.711534, 47.711563, 47.711604, 47.711704, 47.711109, 47.711149, 47.711336, 47.711358, 47.711452], \"legendgroup\": \"Redd\", \"lon\": [-122.374909, -122.376774, -122.374332, -122.375257, -122.370515, -122.370077, -122.370623, -122.370689, -122.37123, -122.37121, -122.371259, -122.371637, -122.371614, -122.371726, -122.371736, -122.371945, -122.371897, -122.371827, -122.372065, -122.372211, -122.372241, -122.372053, -122.372546, -122.372632, -122.372627, -122.372572, -122.373225, -122.373375, -122.373417, -122.373937, -122.374029, -122.374059, -122.374044, -122.374394, -122.374372, -122.374327, -122.374375, -122.374341, -122.374446, -122.375427, -122.377623, -122.370996, -122.371356, -122.372899, -122.373337, -122.373343, -122.374373, -122.374413, -122.374328, -122.374562, -122.3755, -122.377188, -122.371704, -122.371918, -122.371799, -122.37212, -122.371909, -122.37251, -122.372562, -122.372442, -122.3732, -122.373078, -122.373313, -122.373995, -122.373987, -122.374415, -122.374371, -122.374406, -122.374432, -122.374642, -122.37472, -122.375105, -122.37521, -122.37536, -122.375439, -122.375549, -122.376179, -122.376149, -122.376305, -122.371529, -122.373354, -122.375324, -122.376601, -122.377164, -122.377251, -122.37803, -122.373722, -122.373958, -122.375792, -122.375746, -122.376451], \"marker\": {\"color\": \"red\"}, \"mode\": \"markers\", \"name\": \"Redd\", \"showlegend\": true, \"subplot\": \"mapbox\", \"type\": \"scattermapbox\"}],                        {\"coloraxis\": {\"showscale\": false}, \"legend\": {\"title\": {\"text\": \"Type\"}, \"tracegroupgap\": 0}, \"mapbox\": {\"center\": {\"lat\": 47.71157, \"lon\": -122.3759}, \"domain\": {\"x\": [0.0, 1.0], \"y\": [0.0, 1.0]}, \"style\": \"stamen-terrain\", \"zoom\": 15}, \"template\": {\"data\": {\"bar\": [{\"error_x\": {\"color\": \"#2a3f5f\"}, \"error_y\": {\"color\": \"#2a3f5f\"}, \"marker\": {\"line\": {\"color\": \"#E5ECF6\", \"width\": 0.5}}, \"type\": \"bar\"}], \"barpolar\": [{\"marker\": {\"line\": {\"color\": \"#E5ECF6\", \"width\": 0.5}}, \"type\": \"barpolar\"}], \"carpet\": [{\"aaxis\": {\"endlinecolor\": \"#2a3f5f\", \"gridcolor\": \"white\", \"linecolor\": \"white\", \"minorgridcolor\": \"white\", \"startlinecolor\": \"#2a3f5f\"}, \"baxis\": {\"endlinecolor\": \"#2a3f5f\", \"gridcolor\": \"white\", \"linecolor\": \"white\", \"minorgridcolor\": \"white\", \"startlinecolor\": \"#2a3f5f\"}, \"type\": \"carpet\"}], \"choropleth\": [{\"colorbar\": {\"outlinewidth\": 0, \"ticks\": \"\"}, \"type\": \"choropleth\"}], \"contour\": [{\"colorbar\": {\"outlinewidth\": 0, \"ticks\": \"\"}, \"colorscale\": [[0.0, \"#0d0887\"], [0.1111111111111111, \"#46039f\"], [0.2222222222222222, \"#7201a8\"], [0.3333333333333333, \"#9c179e\"], [0.4444444444444444, \"#bd3786\"], [0.5555555555555556, \"#d8576b\"], [0.6666666666666666, \"#ed7953\"], [0.7777777777777778, \"#fb9f3a\"], [0.8888888888888888, \"#fdca26\"], [1.0, \"#f0f921\"]], \"type\": \"contour\"}], \"contourcarpet\": [{\"colorbar\": {\"outlinewidth\": 0, \"ticks\": \"\"}, \"type\": \"contourcarpet\"}], \"heatmap\": [{\"colorbar\": {\"outlinewidth\": 0, \"ticks\": \"\"}, \"colorscale\": [[0.0, \"#0d0887\"], [0.1111111111111111, \"#46039f\"], [0.2222222222222222, \"#7201a8\"], [0.3333333333333333, \"#9c179e\"], [0.4444444444444444, \"#bd3786\"], [0.5555555555555556, \"#d8576b\"], [0.6666666666666666, \"#ed7953\"], [0.7777777777777778, \"#fb9f3a\"], [0.8888888888888888, \"#fdca26\"], [1.0, \"#f0f921\"]], \"type\": \"heatmap\"}], \"heatmapgl\": [{\"colorbar\": {\"outlinewidth\": 0, \"ticks\": \"\"}, \"colorscale\": [[0.0, \"#0d0887\"], [0.1111111111111111, \"#46039f\"], [0.2222222222222222, \"#7201a8\"], [0.3333333333333333, \"#9c179e\"], [0.4444444444444444, \"#bd3786\"], [0.5555555555555556, \"#d8576b\"], [0.6666666666666666, \"#ed7953\"], [0.7777777777777778, \"#fb9f3a\"], [0.8888888888888888, \"#fdca26\"], [1.0, \"#f0f921\"]], \"type\": \"heatmapgl\"}], \"histogram\": [{\"marker\": {\"colorbar\": {\"outlinewidth\": 0, \"ticks\": \"\"}}, \"type\": \"histogram\"}], \"histogram2d\": [{\"colorbar\": {\"outlinewidth\": 0, \"ticks\": \"\"}, \"colorscale\": [[0.0, \"#0d0887\"], [0.1111111111111111, \"#46039f\"], [0.2222222222222222, \"#7201a8\"], [0.3333333333333333, \"#9c179e\"], [0.4444444444444444, \"#bd3786\"], [0.5555555555555556, \"#d8576b\"], [0.6666666666666666, \"#ed7953\"], [0.7777777777777778, \"#fb9f3a\"], [0.8888888888888888, \"#fdca26\"], [1.0, \"#f0f921\"]], \"type\": \"histogram2d\"}], \"histogram2dcontour\": [{\"colorbar\": {\"outlinewidth\": 0, \"ticks\": \"\"}, \"colorscale\": [[0.0, \"#0d0887\"], [0.1111111111111111, \"#46039f\"], [0.2222222222222222, \"#7201a8\"], [0.3333333333333333, \"#9c179e\"], [0.4444444444444444, \"#bd3786\"], [0.5555555555555556, \"#d8576b\"], [0.6666666666666666, \"#ed7953\"], [0.7777777777777778, \"#fb9f3a\"], [0.8888888888888888, \"#fdca26\"], [1.0, \"#f0f921\"]], \"type\": \"histogram2dcontour\"}], \"mesh3d\": [{\"colorbar\": {\"outlinewidth\": 0, \"ticks\": \"\"}, \"type\": \"mesh3d\"}], \"parcoords\": [{\"line\": {\"colorbar\": {\"outlinewidth\": 0, \"ticks\": \"\"}}, \"type\": \"parcoords\"}], \"pie\": [{\"automargin\": true, \"type\": \"pie\"}], \"scatter\": [{\"marker\": {\"colorbar\": {\"outlinewidth\": 0, \"ticks\": \"\"}}, \"type\": \"scatter\"}], \"scatter3d\": [{\"line\": {\"colorbar\": {\"outlinewidth\": 0, \"ticks\": \"\"}}, \"marker\": {\"colorbar\": {\"outlinewidth\": 0, \"ticks\": \"\"}}, \"type\": \"scatter3d\"}], \"scattercarpet\": [{\"marker\": {\"colorbar\": {\"outlinewidth\": 0, \"ticks\": \"\"}}, \"type\": \"scattercarpet\"}], \"scattergeo\": [{\"marker\": {\"colorbar\": {\"outlinewidth\": 0, \"ticks\": \"\"}}, \"type\": \"scattergeo\"}], \"scattergl\": [{\"marker\": {\"colorbar\": {\"outlinewidth\": 0, \"ticks\": \"\"}}, \"type\": \"scattergl\"}], \"scattermapbox\": [{\"marker\": {\"colorbar\": {\"outlinewidth\": 0, \"ticks\": \"\"}}, \"type\": \"scattermapbox\"}], \"scatterpolar\": [{\"marker\": {\"colorbar\": {\"outlinewidth\": 0, \"ticks\": \"\"}}, \"type\": \"scatterpolar\"}], \"scatterpolargl\": [{\"marker\": {\"colorbar\": {\"outlinewidth\": 0, \"ticks\": \"\"}}, \"type\": \"scatterpolargl\"}], \"scatterternary\": [{\"marker\": {\"colorbar\": {\"outlinewidth\": 0, \"ticks\": \"\"}}, \"type\": \"scatterternary\"}], \"surface\": [{\"colorbar\": {\"outlinewidth\": 0, \"ticks\": \"\"}, \"colorscale\": [[0.0, \"#0d0887\"], [0.1111111111111111, \"#46039f\"], [0.2222222222222222, \"#7201a8\"], [0.3333333333333333, \"#9c179e\"], [0.4444444444444444, \"#bd3786\"], [0.5555555555555556, \"#d8576b\"], [0.6666666666666666, \"#ed7953\"], [0.7777777777777778, \"#fb9f3a\"], [0.8888888888888888, \"#fdca26\"], [1.0, \"#f0f921\"]], \"type\": \"surface\"}], \"table\": [{\"cells\": {\"fill\": {\"color\": \"#EBF0F8\"}, \"line\": {\"color\": \"white\"}}, \"header\": {\"fill\": {\"color\": \"#C8D4E3\"}, \"line\": {\"color\": \"white\"}}, \"type\": \"table\"}]}, \"layout\": {\"annotationdefaults\": {\"arrowcolor\": \"#2a3f5f\", \"arrowhead\": 0, \"arrowwidth\": 1}, \"coloraxis\": {\"colorbar\": {\"outlinewidth\": 0, \"ticks\": \"\"}}, \"colorscale\": {\"diverging\": [[0, \"#8e0152\"], [0.1, \"#c51b7d\"], [0.2, \"#de77ae\"], [0.3, \"#f1b6da\"], [0.4, \"#fde0ef\"], [0.5, \"#f7f7f7\"], [0.6, \"#e6f5d0\"], [0.7, \"#b8e186\"], [0.8, \"#7fbc41\"], [0.9, \"#4d9221\"], [1, \"#276419\"]], \"sequential\": [[0.0, \"#0d0887\"], [0.1111111111111111, \"#46039f\"], [0.2222222222222222, \"#7201a8\"], [0.3333333333333333, \"#9c179e\"], [0.4444444444444444, \"#bd3786\"], [0.5555555555555556, \"#d8576b\"], [0.6666666666666666, \"#ed7953\"], [0.7777777777777778, \"#fb9f3a\"], [0.8888888888888888, \"#fdca26\"], [1.0, \"#f0f921\"]], \"sequentialminus\": [[0.0, \"#0d0887\"], [0.1111111111111111, \"#46039f\"], [0.2222222222222222, \"#7201a8\"], [0.3333333333333333, \"#9c179e\"], [0.4444444444444444, \"#bd3786\"], [0.5555555555555556, \"#d8576b\"], [0.6666666666666666, \"#ed7953\"], [0.7777777777777778, \"#fb9f3a\"], [0.8888888888888888, \"#fdca26\"], [1.0, \"#f0f921\"]]}, \"colorway\": [\"#636efa\", \"#EF553B\", \"#00cc96\", \"#ab63fa\", \"#FFA15A\", \"#19d3f3\", \"#FF6692\", \"#B6E880\", \"#FF97FF\", \"#FECB52\"], \"font\": {\"color\": \"#2a3f5f\"}, \"geo\": {\"bgcolor\": \"white\", \"lakecolor\": \"white\", \"landcolor\": \"#E5ECF6\", \"showlakes\": true, \"showland\": true, \"subunitcolor\": \"white\"}, \"hoverlabel\": {\"align\": \"left\"}, \"hovermode\": \"closest\", \"mapbox\": {\"style\": \"light\"}, \"paper_bgcolor\": \"white\", \"plot_bgcolor\": \"#E5ECF6\", \"polar\": {\"angularaxis\": {\"gridcolor\": \"white\", \"linecolor\": \"white\", \"ticks\": \"\"}, \"bgcolor\": \"#E5ECF6\", \"radialaxis\": {\"gridcolor\": \"white\", \"linecolor\": \"white\", \"ticks\": \"\"}}, \"scene\": {\"xaxis\": {\"backgroundcolor\": \"#E5ECF6\", \"gridcolor\": \"white\", \"gridwidth\": 2, \"linecolor\": \"white\", \"showbackground\": true, \"ticks\": \"\", \"zerolinecolor\": \"white\"}, \"yaxis\": {\"backgroundcolor\": \"#E5ECF6\", \"gridcolor\": \"white\", \"gridwidth\": 2, \"linecolor\": \"white\", \"showbackground\": true, \"ticks\": \"\", \"zerolinecolor\": \"white\"}, \"zaxis\": {\"backgroundcolor\": \"#E5ECF6\", \"gridcolor\": \"white\", \"gridwidth\": 2, \"linecolor\": \"white\", \"showbackground\": true, \"ticks\": \"\", \"zerolinecolor\": \"white\"}}, \"shapedefaults\": {\"line\": {\"color\": \"#2a3f5f\"}}, \"ternary\": {\"aaxis\": {\"gridcolor\": \"white\", \"linecolor\": \"white\", \"ticks\": \"\"}, \"baxis\": {\"gridcolor\": \"white\", \"linecolor\": \"white\", \"ticks\": \"\"}, \"bgcolor\": \"#E5ECF6\", \"caxis\": {\"gridcolor\": \"white\", \"linecolor\": \"white\", \"ticks\": \"\"}}, \"title\": {\"x\": 0.05}, \"xaxis\": {\"automargin\": true, \"gridcolor\": \"white\", \"linecolor\": \"white\", \"ticks\": \"\", \"title\": {\"standoff\": 15}, \"zerolinecolor\": \"white\", \"zerolinewidth\": 2}, \"yaxis\": {\"automargin\": true, \"gridcolor\": \"white\", \"linecolor\": \"white\", \"ticks\": \"\", \"title\": {\"standoff\": 15}, \"zerolinecolor\": \"white\", \"zerolinewidth\": 2}}}, \"title\": {\"text\": \"2021 Fish Scatter Map\"}},                        {\"responsive\": true}                    ).then(function(){\n",
       "                            \n",
       "var gd = document.getElementById('0cb44141-0ba6-44d0-92fc-f6aac344fb65');\n",
       "var x = new MutationObserver(function (mutations, observer) {{\n",
       "        var display = window.getComputedStyle(gd).display;\n",
       "        if (!display || display === 'none') {{\n",
       "            console.log([gd, 'removed!']);\n",
       "            Plotly.purge(gd);\n",
       "            observer.disconnect();\n",
       "        }}\n",
       "}});\n",
       "\n",
       "// Listen for the removal of the full notebook cells\n",
       "var notebookContainer = gd.closest('#notebook-container');\n",
       "if (notebookContainer) {{\n",
       "    x.observe(notebookContainer, {childList: true});\n",
       "}}\n",
       "\n",
       "// Listen for the clearing of the current output cell\n",
       "var outputEl = gd.closest('.output');\n",
       "if (outputEl) {{\n",
       "    x.observe(outputEl, {childList: true});\n",
       "}}\n",
       "\n",
       "                        })                };                });            </script>        </div>"
      ]
     },
     "metadata": {},
     "output_type": "display_data"
    }
   ],
   "source": [
    "def displayScatterMap(salmonDf, figureTitle):    \n",
    "    fig = px.scatter_mapbox(salmonDf, lat='Location.latitude', lon='Location.longitude', color='Type', labels={'Type':'Type'}, color_discrete_map={'Live': 'green', 'Redd': 'red', 'Dead': 'black'},\n",
    "                        center=dict(lat=47.71157, lon=-122.3759), zoom=15, hover_name = 'title', hover_data = ['Location.accuracy'],\n",
    "                        mapbox_style='stamen-terrain', title=figureTitle)\n",
    "    fig.layout.coloraxis.showscale = False\n",
    "    fig.show()\n",
    "    addHTMLToReport(fig.to_html(reportFileName))\n",
    "    \n",
    "def dropInaccurateLocations(salmonDf):\n",
    "    return salmonDf.loc[pd.to_numeric(salmonDf['Location.accuracy']) < 50]\n",
    "mergedDf = pd.merge(salmonDf, surveyDf, how='inner', left_on = 'ec5_parent_uuid', right_on = 'ec5_uuid', suffixes=(None, '_y'))\n",
    "mergedDf.sort_values(by=['Survey_Date'])\n",
    "mostRecentSurveyDate = mergedDf.iloc[0]['Survey_Date']\n",
    "lastSurveySalmon = filterSalmonDf(mergedDf, ('Survey_Date', mostRecentSurveyDate))\n",
    "displayScatterMap(dropInaccurateLocations(lastSurveySalmon), mostRecentSurveyDate + ' Fish Scatter Map')\n",
    "displayScatterMap(dropInaccurateLocations(salmonDf), surveyYear + ' Fish Scatter Map')  "
   ]
  },
  {
   "cell_type": "markdown",
   "metadata": {},
   "source": [
    "### Spawned Chart"
   ]
  },
  {
   "cell_type": "code",
   "execution_count": 25,
   "metadata": {
    "tags": []
   },
   "outputs": [
    {
     "data": {
      "image/png": "[encoded data removed]",
      "text/plain": [
       "<Figure size 432x288 with 1 Axes>"
      ]
     },
     "metadata": {},
     "output_type": "display_data"
    },
    {
     "data": {
      "image/png": "[encoded data removed]",
      "text/plain": [
       "<Figure size 432x288 with 1 Axes>"
      ]
     },
     "metadata": {},
     "output_type": "display_data"
    },
    {
     "data": {
      "image/png": "[encoded data removed]",
      "text/plain": [
       "<Figure size 432x288 with 1 Axes>"
      ]
     },
     "metadata": {},
     "output_type": "display_data"
    },
    {
     "data": {
      "image/png": "[encoded data removed]",
      "text/plain": [
       "<Figure size 432x288 with 1 Axes>"
      ]
     },
     "metadata": {},
     "output_type": "display_data"
    },
    {
     "data": {
      "image/png": "[encoded data removed]",
      "text/plain": [
       "<Figure size 432x288 with 1 Axes>"
      ]
     },
     "metadata": {},
     "output_type": "display_data"
    },
    {
     "data": {
      "image/png": "[encoded data removed]",
      "text/plain": [
       "<Figure size 432x288 with 1 Axes>"
      ]
     },
     "metadata": {},
     "output_type": "display_data"
    }
   ],
   "source": [
    "def displayPieChartOfColumn(df, column, colorsList, title):\n",
    "    if (df.shape[0] > 0):\n",
    "        value_counts = df.value_counts(column)\n",
    "        value_counts.drop(labels='', errors='ignore', inplace= True)\n",
    "        pie, ax1 = plt.subplots()\n",
    "        ax1.pie(pd.Series(value_counts), colors = [colorsList[p] for p in value_counts.index.values], labels= value_counts.index.values, autopct='%1.1f%%')\n",
    "        plt.title(title)\n",
    "        addFigureToReport()\n",
    "    else:\n",
    "        print('Unable to display spawned chart. No spawning data to display')\n",
    "    \n",
    "def displayPredationChart(df, title):\n",
    "    predationColors = {'Eye loss': 'teal', 'No':'pink', 'Unknown':'grey', 'Yes':'orange'}\n",
    "    displayPieChartOfColumn(df, 'Predation', predationColors, title)\n",
    "    \n",
    "def displaySpawningChart(df, title):\n",
    "    spawningColors = {'Partially spawned':'yellow', 'Spawned':'green', 'Unknown':'gray', 'Unspawned':'red'}\n",
    "    displayPieChartOfColumn(df, 'Spawning_Success', spawningColors, title)\n",
    "\n",
    "deadChumDf = filterSalmonDf(salmonDf, ('Type', 'Dead'), ('Species', 'Chum'))\n",
    "deadCohoDf = filterSalmonDf(salmonDf, ('Type', 'Dead'), ('Species', 'Coho'))\n",
    "deadChumFemaleDf = filterSalmonDf(deadChumDf, ('Sex', 'Female'))\n",
    "deadChumMaleDf = filterSalmonDf(deadChumDf, ('Sex', 'Male'))\n",
    "displayPredationChart(deadChumDf, surveyYear + ' Chum Predation')\n",
    "displayPredationChart(deadCohoDf, surveyYear + ' Coho Predation')\n",
    "displaySpawningChart(deadChumDf, surveyYear + ' Chum Spawn Percentage')\n",
    "displaySpawningChart(deadCohoDf, surveyYear + ' Coho Spawn Percentage')\n",
    "displaySpawningChart(deadChumFemaleDf, surveyYear + ' Chum Female Spawn Percentage')\n",
    "displaySpawningChart(deadChumMaleDf, surveyYear + ' Chum Male Spawn Percentage')"
   ]
  },
  {
   "cell_type": "markdown",
   "metadata": {},
   "source": [
    "### Year By Year Count"
   ]
  },
  {
   "cell_type": "code",
   "execution_count": 26,
   "metadata": {
    "tags": []
   },
   "outputs": [
    {
     "data": {
      "image/png": "[encoded data removed]",
      "text/plain": [
       "<Figure size 432x288 with 1 Axes>"
      ]
     },
     "metadata": {
      "needs_background": "light"
     },
     "output_type": "display_data"
    }
   ],
   "source": [
    "def displayYearByYearCount(surveyURIs, salmonURIs):\n",
    "#plot each series\n",
    "    strippedStatsDfs = statsDfs.copy()\n",
    "    for year in surveyDfs:\n",
    "        strippedStatsDfs[year]['Survey Date'] = statsDfs[year]['Survey Date'].apply(lambda x: datetime.strptime(x.strftime(\"%m-%d\"), \"%m-%d\")) \n",
    "    fig, ax = plt.subplots()\n",
    "    plt.plot('Survey Date', 'Total', data=strippedStatsDfs['2019'], label=\"2019\")\n",
    "    plt.plot('Survey Date', 'Total', data=strippedStatsDfs['2020'], label=\"2020\")\n",
    "    plt.plot('Survey Date', 'Total', data=strippedStatsDfs['2021'], label=\"2021\")\n",
    "    plt.title('Count by time of year')\n",
    "    plt.ylabel('Count')\n",
    "    plt.xlabel('Survey Date')\n",
    "    plt.xticks(rotation = 45)\n",
    "    plt.legend()\n",
    "    ax.xaxis.set_major_formatter(mdates.DateFormatter('%m-%d'))\n",
    "    addFigureToReport()\n",
    "displayYearByYearCount(surveyURIs, salmonURIs)"
   ]
  },
  {
   "cell_type": "code",
   "execution_count": 27,
   "metadata": {},
   "outputs": [],
   "source": [
    "#Generate HTML report if in google colab\n",
    "def generateReport():\n",
    "    if (IN_COLAB):\n",
    "      from google.colab import files\n",
    "      files.download(reportFileName)\n",
    "generateReport()"
   ]
  }
 ],
 "metadata": {
  "celltoolbar": "Edit Metadata",
  "kernelspec": {
   "display_name": "Python 3",
   "language": "python",
   "name": "python3"
  },
  "language_info": {
   "codemirror_mode": {
    "name": "ipython",
    "version": 3
   },
   "file_extension": ".py",
   "mimetype": "text/x-python",
   "name": "python",
   "nbconvert_exporter": "python",
   "pygments_lexer": "ipython3",
   "version": "3.8.5"
  }
 },
 "nbformat": 4,
 "nbformat_minor": 4
}
