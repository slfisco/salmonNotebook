{
 "cells": [
  {
   "cell_type": "code",
   "execution_count": 7,
   "metadata": {},
   "outputs": [
    {
     "name": "stdout",
     "output_type": "stream",
     "text": [
      "    Survey Date      Total    Total Live    Total Dead    Live Chum    Live Coho    Dead Chum    Dead Coho    Remnant\n",
      "--  -------------  -------  ------------  ------------  -----------  -----------  -----------  -----------  ---------\n",
      " 7  2019-10-26          23             5            18            0            1            1           17          0\n",
      " 9  2019-11-02           7             3             1            2            0            1            0          3\n",
      " 8  2019-11-09          11             5             1            4            0            1            0          5\n",
      " 6  2019-11-16          19            15             4            9            1            4            0          0\n",
      " 5  2019-11-19           1             0             1            0            0            1            0          0\n",
      " 4  2019-11-23          38            17            20           12            1           17            2          1\n",
      " 3  2019-11-30          24            19             5           19            0            4            0          0\n",
      " 2  2019-12-04          17             5            11            4            0           11            0          1\n",
      " 1  2019-12-07           3             1             2            1            0            2            0          0\n",
      " 0  2019-12-10           1             0             0            0            0            0            0          1\n"
     ]
    },
    {
     "data": {
      "application/vnd.plotly.v1+json": {
       "config": {
        "plotlyServerURL": "https://plot.ly"
       },
       "data": [
        {
         "coloraxis": "coloraxis",
         "customdata": [
          [
           ""
          ],
          [
           16
          ],
          [
           23
          ],
          [
           21
          ],
          [
           8
          ],
          [
           ""
          ],
          [
           ""
          ],
          [
           6
          ],
          [
           5
          ],
          [
           ""
          ],
          [
           ""
          ],
          [
           ""
          ],
          [
           ""
          ],
          [
           ""
          ],
          [
           ""
          ],
          [
           7
          ],
          [
           ""
          ],
          [
           ""
          ],
          [
           6
          ],
          [
           6
          ],
          [
           ""
          ],
          [
           15
          ],
          [
           11
          ],
          [
           7
          ],
          [
           5
          ],
          [
           ""
          ],
          [
           8
          ],
          [
           14
          ],
          [
           11
          ],
          [
           7
          ],
          [
           6
          ],
          [
           10
          ],
          [
           ""
          ],
          [
           ""
          ],
          [
           6
          ],
          [
           18
          ],
          [
           7
          ],
          [
           54
          ],
          [
           76
          ],
          [
           7
          ],
          [
           5
          ],
          [
           7
          ],
          [
           8
          ],
          [
           4
          ],
          [
           ""
          ],
          [
           14
          ],
          [
           5
          ],
          [
           11
          ],
          [
           9
          ],
          [
           6
          ],
          [
           17
          ],
          [
           8
          ],
          [
           ""
          ],
          [
           10
          ],
          [
           5
          ],
          [
           16
          ],
          [
           4
          ],
          [
           5
          ],
          [
           10
          ],
          [
           8
          ],
          [
           8
          ],
          [
           6
          ],
          [
           8
          ],
          [
           ""
          ],
          [
           15
          ],
          [
           10
          ],
          [
           17
          ],
          [
           27
          ],
          [
           ""
          ],
          [
           12
          ],
          [
           11
          ],
          [
           17
          ],
          [
           8
          ],
          [
           ""
          ],
          [
           10
          ],
          [
           11
          ],
          [
           5
          ],
          [
           10
          ],
          [
           5
          ],
          [
           5
          ],
          [
           5
          ],
          [
           5
          ],
          [
           ""
          ],
          [
           ""
          ],
          [
           4
          ],
          [
           4
          ],
          [
           4
          ],
          [
           4
          ],
          [
           4
          ],
          [
           4
          ],
          [
           4
          ],
          [
           4
          ],
          [
           4
          ],
          [
           4
          ],
          [
           4
          ],
          [
           4
          ],
          [
           4
          ],
          [
           4
          ],
          [
           4
          ],
          [
           4
          ],
          [
           4
          ],
          [
           4
          ],
          [
           4
          ],
          [
           ""
          ],
          [
           ""
          ],
          [
           ""
          ],
          [
           ""
          ],
          [
           ""
          ],
          [
           ""
          ],
          [
           ""
          ],
          [
           ""
          ],
          [
           ""
          ],
          [
           ""
          ],
          [
           ""
          ],
          [
           ""
          ],
          [
           ""
          ],
          [
           ""
          ],
          [
           ""
          ],
          [
           ""
          ],
          [
           ""
          ],
          [
           ""
          ],
          [
           ""
          ],
          [
           ""
          ],
          [
           ""
          ],
          [
           ""
          ],
          [
           ""
          ],
          [
           ""
          ],
          [
           ""
          ],
          [
           ""
          ],
          [
           ""
          ],
          [
           4
          ],
          [
           4
          ],
          [
           4
          ],
          [
           4
          ],
          [
           4
          ],
          [
           4
          ],
          [
           ""
          ],
          [
           4
          ],
          [
           4
          ],
          [
           4
          ],
          [
           4
          ],
          [
           4
          ],
          [
           4
          ],
          [
           4
          ]
         ],
         "hovertemplate": "<b>%{hovertext}</b><br><br>15_Location.latitude=%{lat}<br>15_Location.longitude=%{lon}<br>15_Location.accuracy=%{customdata[0]}<extra></extra>",
         "hovertext": [
          "1450 Chum Remnant",
          "1740 Chum Live",
          "1450 Chum Dead",
          "1200 Chum Dead",
          "2000 Chum Dead",
          "1990 Chum Dead",
          "1940 Chum Live",
          "1865 Chum Dead",
          "1865 Chum Dead",
          "1855 Chum Dead",
          "1690 Chum Dead",
          "1380 Chum Live",
          "1180 Chum Dead",
          "985 Chum Dead",
          "780 Chum Dead",
          "755 Chum Dead",
          "360 Chum Live",
          "360 Chum Live",
          "195 Chum Remnant",
          "90 Chum Dead",
          "0 Cutthroat Live",
          "1450 Chum Dead",
          "1450 Chum Dead",
          "2011 Chum Live",
          "2011 Chum Live",
          "2000 Chum Live",
          "1940 Chum Live",
          "1940 Chum Live",
          "1900 Chum Live",
          "1870 Cutthroat Dead",
          "1865 Chum Live",
          "1855 Chum Live",
          "1835 Chum Live",
          "1700 Chum Live",
          "1530 Chum Live",
          "1470 Chum Live",
          "1360 Chum Live",
          "1170 Chum Dead",
          "1075 Chum Live",
          "360 Chum Live",
          "350 Chum Live",
          "295 Chum Live",
          "200 Chum Dead",
          "0 Chum Live",
          "0 Chum Live",
          "120 Chum Dead",
          "30 Cutthroat Live",
          "50 Chum Dead",
          "2011 Unknown Live",
          "2011 Unknown Live",
          "1975 Chum Dead",
          "2011 Coho Live",
          "1935 Chum Live",
          "1900 Unknown Live",
          "1900 Chum Live",
          "1850 Chum Dead",
          "1900 Chum Live",
          "1850 Chum Live",
          "1808 Coho Dead",
          "1850 Chum Live",
          "1710 Chum Dead",
          "1720 Cutthroat Dead",
          "1720 Chum Dead",
          "1740 Chum Live",
          "1575 Chum Dead",
          "1500 Chum Dead",
          "1490 Chum Live",
          "1375 Chum Live",
          "875 Chum Live",
          "1220 Chum Dead",
          "1220 Chum Live",
          "1220 Chum Live",
          "1175 Chum Dead",
          "1050 Chum Dead",
          "890 Coho Dead",
          "575 Chum Dead",
          "65 Chum Dead",
          "0 Chum Live",
          "0 Chum Remnant",
          "0 Chum Dead",
          "0 Chum Dead",
          "0 Chum Dead",
          "0 Chum Dead",
          "150 Chum Dead",
          "1950 Cutthroat Live",
          "1950 Chum Live",
          "1600 Cutthroat Live",
          "1600 Cutthroat Live",
          "1220 Chum Live",
          "1220 Chum Live",
          "1200 Chum Dead",
          "1200 Chum Live",
          "915 Chum Dead",
          "850 Chum Dead",
          "750 Cutthroat Live",
          "715 Chum Dead",
          "580 Chum Live",
          "570 Chum Live",
          "470 Coho Live",
          "450 Chum Live",
          "450 Cutthroat Live",
          "350 Chum Live",
          "250 Chum Live",
          "450 Chum Live",
          "45 Chum Live",
          "45 Chum Live",
          "1875 Coho Dead",
          "1450 Cutthroat Live",
          "1450 Coho Dead",
          "1300 Coho Dead",
          "1300 Coho Dead",
          "1250 Coho Dead",
          "1590 Coho Dead",
          "1540 Coho Dead",
          "1320 Unknown Live",
          "1290 Coho Dead",
          "1190 Coho Dead",
          "1170 Coho Dead",
          "980 Coho Dead",
          "980 Coho Dead",
          "980 Coho Dead",
          "980 Coho Dead",
          "980 Coho Dead",
          "700 Coho Dead",
          "650 Coho Dead",
          "0 Cutthroat Live",
          "0 Cutthroat Live",
          "450 Coho Live",
          "500 Chum Dead",
          "170 Live",
          "150 Chum Remnant",
          "95 Chum Live",
          "65 Chum Remnant",
          "65 Chum Remnant",
          "65 Chum Remnant",
          "0 Chum Dead",
          "0 Chum Remnant",
          "300 Cutthroat Live",
          "2000 Remnant",
          "1250 Coho Remnant",
          "1050 Coho Remnant",
          "600 Chum Dead",
          "0 Chum Live",
          "0 Chum Live"
         ],
         "lat": [
          "",
          47.711008,
          47.711078,
          47.711394,
          47.710789,
          "",
          "",
          47.71092,
          47.710879,
          "",
          "",
          "",
          "",
          "",
          "",
          47.711452,
          "",
          "",
          47.711629,
          47.711794,
          "",
          47.711266,
          47.711333,
          47.710748,
          47.710842,
          "",
          47.710835,
          47.710946,
          47.710965,
          47.710915,
          47.710897,
          47.710793,
          "",
          "",
          47.711238,
          47.711299,
          47.71136,
          47.711449,
          47.71145,
          47.711763,
          47.71173,
          47.711657,
          47.711822,
          47.711858,
          "",
          47.711384,
          47.710905,
          47.710902,
          47.71078,
          47.710433,
          47.71083,
          47.710804,
          "",
          47.710742,
          47.710755,
          47.710958,
          47.710788,
          47.710896,
          47.711114,
          47.711018,
          47.711068,
          47.711119,
          47.711056,
          "",
          47.711231,
          47.711362,
          47.711433,
          47.71107,
          "",
          47.711272,
          47.711247,
          47.711388,
          47.711486,
          "",
          47.711492,
          47.711636,
          47.71198,
          47.712642,
          47.711226,
          47.711235,
          47.711198,
          47.711186,
          "",
          "",
          47.711092,
          47.710909,
          47.711366,
          47.711406,
          47.711299,
          47.711276,
          47.711268,
          47.711336,
          47.711493,
          47.711572,
          47.711493,
          47.711478,
          47.71148,
          47.711638,
          47.711667,
          47.711649,
          47.711694,
          47.711627,
          47.711748,
          "",
          "",
          "",
          "",
          "",
          "",
          "",
          "",
          "",
          "",
          "",
          "",
          "",
          "",
          "",
          "",
          "",
          "",
          "",
          "",
          "",
          "",
          "",
          "",
          "",
          "",
          "",
          47.711829,
          47.71188,
          47.711882,
          47.711877,
          47.711878,
          47.711177,
          "",
          47.711841,
          47.710828,
          47.711323,
          47.711509,
          47.711579,
          47.712024,
          47.711997
         ],
         "lon": [
          "",
          -122.372655,
          -122.37404,
          -122.374752,
          -122.371693,
          "",
          "",
          -122.3721,
          -122.372125,
          "",
          "",
          "",
          "",
          "",
          "",
          -122.376262,
          "",
          "",
          -122.378397,
          -122.379028,
          "",
          -122.37394,
          -122.374031,
          -122.371677,
          -122.37174,
          "",
          -122.371863,
          -122.371788,
          -122.371961,
          -122.372096,
          -122.372174,
          -122.372289,
          "",
          "",
          -122.373219,
          -122.373554,
          -122.374019,
          -122.374891,
          -122.374898,
          -122.378036,
          -122.378102,
          -122.378156,
          -122.378539,
          -122.379475,
          "",
          -122.371632,
          -122.371893,
          -122.371815,
          -122.371478,
          -122.371565,
          -122.371737,
          -122.37199,
          "",
          -122.371929,
          -122.371904,
          -122.372196,
          -122.371835,
          -122.372109,
          -122.372197,
          -122.372117,
          -122.372623,
          -122.372673,
          -122.372746,
          "",
          -122.373338,
          -122.373559,
          -122.373535,
          -122.373905,
          "",
          -122.37463,
          -122.374624,
          -122.374831,
          -122.374894,
          "",
          -122.37577,
          -122.377129,
          -122.379149,
          -122.37933,
          -122.380336,
          -122.380319,
          -122.380345,
          -122.380348,
          "",
          "",
          -122.37194,
          -122.372025,
          -122.373121,
          -122.37317,
          -122.374518,
          -122.374583,
          -122.374646,
          -122.374561,
          -122.37576,
          -122.375904,
          -122.37634,
          -122.376525,
          -122.377001,
          -122.377213,
          -122.377698,
          -122.377618,
          -122.377569,
          -122.377827,
          -122.378514,
          "",
          "",
          "",
          "",
          "",
          "",
          "",
          "",
          "",
          "",
          "",
          "",
          "",
          "",
          "",
          "",
          "",
          "",
          "",
          "",
          "",
          "",
          "",
          "",
          "",
          "",
          "",
          -122.37875,
          -122.379082,
          -122.379082,
          -122.379127,
          -122.379129,
          -122.380617,
          "",
          -122.37098,
          -122.371657,
          -122.374448,
          -122.375088,
          -122.376784,
          -122.379475,
          -122.379478
         ],
         "name": "",
         "radius": 15,
         "subplot": "mapbox",
         "type": "densitymapbox"
        }
       ],
       "layout": {
        "coloraxis": {
         "colorscale": [
          [
           0,
           "#0d0887"
          ],
          [
           0.1111111111111111,
           "#46039f"
          ],
          [
           0.2222222222222222,
           "#7201a8"
          ],
          [
           0.3333333333333333,
           "#9c179e"
          ],
          [
           0.4444444444444444,
           "#bd3786"
          ],
          [
           0.5555555555555556,
           "#d8576b"
          ],
          [
           0.6666666666666666,
           "#ed7953"
          ],
          [
           0.7777777777777778,
           "#fb9f3a"
          ],
          [
           0.8888888888888888,
           "#fdca26"
          ],
          [
           1,
           "#f0f921"
          ]
         ],
         "showscale": false
        },
        "legend": {
         "tracegroupgap": 0
        },
        "mapbox": {
         "center": {
          "lat": 47.71157,
          "lon": -122.3759
         },
         "domain": {
          "x": [
           0,
           1
          ],
          "y": [
           0,
           1
          ]
         },
         "style": "stamen-terrain",
         "zoom": 15
        },
        "template": {
         "data": {
          "bar": [
           {
            "error_x": {
             "color": "#2a3f5f"
            },
            "error_y": {
             "color": "#2a3f5f"
            },
            "marker": {
             "line": {
              "color": "#E5ECF6",
              "width": 0.5
             }
            },
            "type": "bar"
           }
          ],
          "barpolar": [
           {
            "marker": {
             "line": {
              "color": "#E5ECF6",
              "width": 0.5
             }
            },
            "type": "barpolar"
           }
          ],
          "carpet": [
           {
            "aaxis": {
             "endlinecolor": "#2a3f5f",
             "gridcolor": "white",
             "linecolor": "white",
             "minorgridcolor": "white",
             "startlinecolor": "#2a3f5f"
            },
            "baxis": {
             "endlinecolor": "#2a3f5f",
             "gridcolor": "white",
             "linecolor": "white",
             "minorgridcolor": "white",
             "startlinecolor": "#2a3f5f"
            },
            "type": "carpet"
           }
          ],
          "choropleth": [
           {
            "colorbar": {
             "outlinewidth": 0,
             "ticks": ""
            },
            "type": "choropleth"
           }
          ],
          "contour": [
           {
            "colorbar": {
             "outlinewidth": 0,
             "ticks": ""
            },
            "colorscale": [
             [
              0,
              "#0d0887"
             ],
             [
              0.1111111111111111,
              "#46039f"
             ],
             [
              0.2222222222222222,
              "#7201a8"
             ],
             [
              0.3333333333333333,
              "#9c179e"
             ],
             [
              0.4444444444444444,
              "#bd3786"
             ],
             [
              0.5555555555555556,
              "#d8576b"
             ],
             [
              0.6666666666666666,
              "#ed7953"
             ],
             [
              0.7777777777777778,
              "#fb9f3a"
             ],
             [
              0.8888888888888888,
              "#fdca26"
             ],
             [
              1,
              "#f0f921"
             ]
            ],
            "type": "contour"
           }
          ],
          "contourcarpet": [
           {
            "colorbar": {
             "outlinewidth": 0,
             "ticks": ""
            },
            "type": "contourcarpet"
           }
          ],
          "heatmap": [
           {
            "colorbar": {
             "outlinewidth": 0,
             "ticks": ""
            },
            "colorscale": [
             [
              0,
              "#0d0887"
             ],
             [
              0.1111111111111111,
              "#46039f"
             ],
             [
              0.2222222222222222,
              "#7201a8"
             ],
             [
              0.3333333333333333,
              "#9c179e"
             ],
             [
              0.4444444444444444,
              "#bd3786"
             ],
             [
              0.5555555555555556,
              "#d8576b"
             ],
             [
              0.6666666666666666,
              "#ed7953"
             ],
             [
              0.7777777777777778,
              "#fb9f3a"
             ],
             [
              0.8888888888888888,
              "#fdca26"
             ],
             [
              1,
              "#f0f921"
             ]
            ],
            "type": "heatmap"
           }
          ],
          "heatmapgl": [
           {
            "colorbar": {
             "outlinewidth": 0,
             "ticks": ""
            },
            "colorscale": [
             [
              0,
              "#0d0887"
             ],
             [
              0.1111111111111111,
              "#46039f"
             ],
             [
              0.2222222222222222,
              "#7201a8"
             ],
             [
              0.3333333333333333,
              "#9c179e"
             ],
             [
              0.4444444444444444,
              "#bd3786"
             ],
             [
              0.5555555555555556,
              "#d8576b"
             ],
             [
              0.6666666666666666,
              "#ed7953"
             ],
             [
              0.7777777777777778,
              "#fb9f3a"
             ],
             [
              0.8888888888888888,
              "#fdca26"
             ],
             [
              1,
              "#f0f921"
             ]
            ],
            "type": "heatmapgl"
           }
          ],
          "histogram": [
           {
            "marker": {
             "colorbar": {
              "outlinewidth": 0,
              "ticks": ""
             }
            },
            "type": "histogram"
           }
          ],
          "histogram2d": [
           {
            "colorbar": {
             "outlinewidth": 0,
             "ticks": ""
            },
            "colorscale": [
             [
              0,
              "#0d0887"
             ],
             [
              0.1111111111111111,
              "#46039f"
             ],
             [
              0.2222222222222222,
              "#7201a8"
             ],
             [
              0.3333333333333333,
              "#9c179e"
             ],
             [
              0.4444444444444444,
              "#bd3786"
             ],
             [
              0.5555555555555556,
              "#d8576b"
             ],
             [
              0.6666666666666666,
              "#ed7953"
             ],
             [
              0.7777777777777778,
              "#fb9f3a"
             ],
             [
              0.8888888888888888,
              "#fdca26"
             ],
             [
              1,
              "#f0f921"
             ]
            ],
            "type": "histogram2d"
           }
          ],
          "histogram2dcontour": [
           {
            "colorbar": {
             "outlinewidth": 0,
             "ticks": ""
            },
            "colorscale": [
             [
              0,
              "#0d0887"
             ],
             [
              0.1111111111111111,
              "#46039f"
             ],
             [
              0.2222222222222222,
              "#7201a8"
             ],
             [
              0.3333333333333333,
              "#9c179e"
             ],
             [
              0.4444444444444444,
              "#bd3786"
             ],
             [
              0.5555555555555556,
              "#d8576b"
             ],
             [
              0.6666666666666666,
              "#ed7953"
             ],
             [
              0.7777777777777778,
              "#fb9f3a"
             ],
             [
              0.8888888888888888,
              "#fdca26"
             ],
             [
              1,
              "#f0f921"
             ]
            ],
            "type": "histogram2dcontour"
           }
          ],
          "mesh3d": [
           {
            "colorbar": {
             "outlinewidth": 0,
             "ticks": ""
            },
            "type": "mesh3d"
           }
          ],
          "parcoords": [
           {
            "line": {
             "colorbar": {
              "outlinewidth": 0,
              "ticks": ""
             }
            },
            "type": "parcoords"
           }
          ],
          "pie": [
           {
            "automargin": true,
            "type": "pie"
           }
          ],
          "scatter": [
           {
            "marker": {
             "colorbar": {
              "outlinewidth": 0,
              "ticks": ""
             }
            },
            "type": "scatter"
           }
          ],
          "scatter3d": [
           {
            "line": {
             "colorbar": {
              "outlinewidth": 0,
              "ticks": ""
             }
            },
            "marker": {
             "colorbar": {
              "outlinewidth": 0,
              "ticks": ""
             }
            },
            "type": "scatter3d"
           }
          ],
          "scattercarpet": [
           {
            "marker": {
             "colorbar": {
              "outlinewidth": 0,
              "ticks": ""
             }
            },
            "type": "scattercarpet"
           }
          ],
          "scattergeo": [
           {
            "marker": {
             "colorbar": {
              "outlinewidth": 0,
              "ticks": ""
             }
            },
            "type": "scattergeo"
           }
          ],
          "scattergl": [
           {
            "marker": {
             "colorbar": {
              "outlinewidth": 0,
              "ticks": ""
             }
            },
            "type": "scattergl"
           }
          ],
          "scattermapbox": [
           {
            "marker": {
             "colorbar": {
              "outlinewidth": 0,
              "ticks": ""
             }
            },
            "type": "scattermapbox"
           }
          ],
          "scatterpolar": [
           {
            "marker": {
             "colorbar": {
              "outlinewidth": 0,
              "ticks": ""
             }
            },
            "type": "scatterpolar"
           }
          ],
          "scatterpolargl": [
           {
            "marker": {
             "colorbar": {
              "outlinewidth": 0,
              "ticks": ""
             }
            },
            "type": "scatterpolargl"
           }
          ],
          "scatterternary": [
           {
            "marker": {
             "colorbar": {
              "outlinewidth": 0,
              "ticks": ""
             }
            },
            "type": "scatterternary"
           }
          ],
          "surface": [
           {
            "colorbar": {
             "outlinewidth": 0,
             "ticks": ""
            },
            "colorscale": [
             [
              0,
              "#0d0887"
             ],
             [
              0.1111111111111111,
              "#46039f"
             ],
             [
              0.2222222222222222,
              "#7201a8"
             ],
             [
              0.3333333333333333,
              "#9c179e"
             ],
             [
              0.4444444444444444,
              "#bd3786"
             ],
             [
              0.5555555555555556,
              "#d8576b"
             ],
             [
              0.6666666666666666,
              "#ed7953"
             ],
             [
              0.7777777777777778,
              "#fb9f3a"
             ],
             [
              0.8888888888888888,
              "#fdca26"
             ],
             [
              1,
              "#f0f921"
             ]
            ],
            "type": "surface"
           }
          ],
          "table": [
           {
            "cells": {
             "fill": {
              "color": "#EBF0F8"
             },
             "line": {
              "color": "white"
             }
            },
            "header": {
             "fill": {
              "color": "#C8D4E3"
             },
             "line": {
              "color": "white"
             }
            },
            "type": "table"
           }
          ]
         },
         "layout": {
          "annotationdefaults": {
           "arrowcolor": "#2a3f5f",
           "arrowhead": 0,
           "arrowwidth": 1
          },
          "coloraxis": {
           "colorbar": {
            "outlinewidth": 0,
            "ticks": ""
           }
          },
          "colorscale": {
           "diverging": [
            [
             0,
             "#8e0152"
            ],
            [
             0.1,
             "#c51b7d"
            ],
            [
             0.2,
             "#de77ae"
            ],
            [
             0.3,
             "#f1b6da"
            ],
            [
             0.4,
             "#fde0ef"
            ],
            [
             0.5,
             "#f7f7f7"
            ],
            [
             0.6,
             "#e6f5d0"
            ],
            [
             0.7,
             "#b8e186"
            ],
            [
             0.8,
             "#7fbc41"
            ],
            [
             0.9,
             "#4d9221"
            ],
            [
             1,
             "#276419"
            ]
           ],
           "sequential": [
            [
             0,
             "#0d0887"
            ],
            [
             0.1111111111111111,
             "#46039f"
            ],
            [
             0.2222222222222222,
             "#7201a8"
            ],
            [
             0.3333333333333333,
             "#9c179e"
            ],
            [
             0.4444444444444444,
             "#bd3786"
            ],
            [
             0.5555555555555556,
             "#d8576b"
            ],
            [
             0.6666666666666666,
             "#ed7953"
            ],
            [
             0.7777777777777778,
             "#fb9f3a"
            ],
            [
             0.8888888888888888,
             "#fdca26"
            ],
            [
             1,
             "#f0f921"
            ]
           ],
           "sequentialminus": [
            [
             0,
             "#0d0887"
            ],
            [
             0.1111111111111111,
             "#46039f"
            ],
            [
             0.2222222222222222,
             "#7201a8"
            ],
            [
             0.3333333333333333,
             "#9c179e"
            ],
            [
             0.4444444444444444,
             "#bd3786"
            ],
            [
             0.5555555555555556,
             "#d8576b"
            ],
            [
             0.6666666666666666,
             "#ed7953"
            ],
            [
             0.7777777777777778,
             "#fb9f3a"
            ],
            [
             0.8888888888888888,
             "#fdca26"
            ],
            [
             1,
             "#f0f921"
            ]
           ]
          },
          "colorway": [
           "#636efa",
           "#EF553B",
           "#00cc96",
           "#ab63fa",
           "#FFA15A",
           "#19d3f3",
           "#FF6692",
           "#B6E880",
           "#FF97FF",
           "#FECB52"
          ],
          "font": {
           "color": "#2a3f5f"
          },
          "geo": {
           "bgcolor": "white",
           "lakecolor": "white",
           "landcolor": "#E5ECF6",
           "showlakes": true,
           "showland": true,
           "subunitcolor": "white"
          },
          "hoverlabel": {
           "align": "left"
          },
          "hovermode": "closest",
          "mapbox": {
           "style": "light"
          },
          "paper_bgcolor": "white",
          "plot_bgcolor": "#E5ECF6",
          "polar": {
           "angularaxis": {
            "gridcolor": "white",
            "linecolor": "white",
            "ticks": ""
           },
           "bgcolor": "#E5ECF6",
           "radialaxis": {
            "gridcolor": "white",
            "linecolor": "white",
            "ticks": ""
           }
          },
          "scene": {
           "xaxis": {
            "backgroundcolor": "#E5ECF6",
            "gridcolor": "white",
            "gridwidth": 2,
            "linecolor": "white",
            "showbackground": true,
            "ticks": "",
            "zerolinecolor": "white"
           },
           "yaxis": {
            "backgroundcolor": "#E5ECF6",
            "gridcolor": "white",
            "gridwidth": 2,
            "linecolor": "white",
            "showbackground": true,
            "ticks": "",
            "zerolinecolor": "white"
           },
           "zaxis": {
            "backgroundcolor": "#E5ECF6",
            "gridcolor": "white",
            "gridwidth": 2,
            "linecolor": "white",
            "showbackground": true,
            "ticks": "",
            "zerolinecolor": "white"
           }
          },
          "shapedefaults": {
           "line": {
            "color": "#2a3f5f"
           }
          },
          "ternary": {
           "aaxis": {
            "gridcolor": "white",
            "linecolor": "white",
            "ticks": ""
           },
           "baxis": {
            "gridcolor": "white",
            "linecolor": "white",
            "ticks": ""
           },
           "bgcolor": "#E5ECF6",
           "caxis": {
            "gridcolor": "white",
            "linecolor": "white",
            "ticks": ""
           }
          },
          "title": {
           "x": 0.05
          },
          "xaxis": {
           "automargin": true,
           "gridcolor": "white",
           "linecolor": "white",
           "ticks": "",
           "title": {
            "standoff": 15
           },
           "zerolinecolor": "white",
           "zerolinewidth": 2
          },
          "yaxis": {
           "automargin": true,
           "gridcolor": "white",
           "linecolor": "white",
           "ticks": "",
           "title": {
            "standoff": 15
           },
           "zerolinecolor": "white",
           "zerolinewidth": 2
          }
         }
        },
        "title": {
         "text": "Fish Heat Map"
        }
       }
      },
      "text/html": [
       "<div>                            <div id=\"b5915d96-47f1-4b3f-848e-48dbfaff1bbb\" class=\"plotly-graph-div\" style=\"height:525px; width:100%;\"></div>            <script type=\"text/javascript\">                require([\"plotly\"], function(Plotly) {                    window.PLOTLYENV=window.PLOTLYENV || {};                                    if (document.getElementById(\"b5915d96-47f1-4b3f-848e-48dbfaff1bbb\")) {                    Plotly.newPlot(                        \"b5915d96-47f1-4b3f-848e-48dbfaff1bbb\",                        [{\"coloraxis\": \"coloraxis\", \"customdata\": [[\"\"], [16], [23], [21], [8], [\"\"], [\"\"], [6], [5], [\"\"], [\"\"], [\"\"], [\"\"], [\"\"], [\"\"], [7], [\"\"], [\"\"], [6], [6], [\"\"], [15], [11], [7], [5], [\"\"], [8], [14], [11], [7], [6], [10], [\"\"], [\"\"], [6], [18], [7], [54], [76], [7], [5], [7], [8], [4], [\"\"], [14], [5], [11], [9], [6], [17], [8], [\"\"], [10], [5], [16], [4], [5], [10], [8], [8], [6], [8], [\"\"], [15], [10], [17], [27], [\"\"], [12], [11], [17], [8], [\"\"], [10], [11], [5], [10], [5], [5], [5], [5], [\"\"], [\"\"], [4], [4], [4], [4], [4], [4], [4], [4], [4], [4], [4], [4], [4], [4], [4], [4], [4], [4], [4], [\"\"], [\"\"], [\"\"], [\"\"], [\"\"], [\"\"], [\"\"], [\"\"], [\"\"], [\"\"], [\"\"], [\"\"], [\"\"], [\"\"], [\"\"], [\"\"], [\"\"], [\"\"], [\"\"], [\"\"], [\"\"], [\"\"], [\"\"], [\"\"], [\"\"], [\"\"], [\"\"], [4], [4], [4], [4], [4], [4], [\"\"], [4], [4], [4], [4], [4], [4], [4]], \"hovertemplate\": \"<b>%{hovertext}</b><br><br>15_Location.latitude=%{lat}<br>15_Location.longitude=%{lon}<br>15_Location.accuracy=%{customdata[0]}<extra></extra>\", \"hovertext\": [\"1450 Chum Remnant\", \"1740 Chum Live\", \"1450 Chum Dead\", \"1200 Chum Dead\", \"2000 Chum Dead\", \"1990 Chum Dead\", \"1940 Chum Live\", \"1865 Chum Dead\", \"1865 Chum Dead\", \"1855 Chum Dead\", \"1690 Chum Dead\", \"1380 Chum Live\", \"1180 Chum Dead\", \"985 Chum Dead\", \"780 Chum Dead\", \"755 Chum Dead\", \"360 Chum Live\", \"360 Chum Live\", \"195 Chum Remnant\", \"90 Chum Dead\", \"0 Cutthroat Live\", \"1450 Chum Dead\", \"1450 Chum Dead\", \"2011 Chum Live\", \"2011 Chum Live\", \"2000 Chum Live\", \"1940 Chum Live\", \"1940 Chum Live\", \"1900 Chum Live\", \"1870 Cutthroat Dead\", \"1865 Chum Live\", \"1855 Chum Live\", \"1835 Chum Live\", \"1700 Chum Live\", \"1530 Chum Live\", \"1470 Chum Live\", \"1360 Chum Live\", \"1170 Chum Dead\", \"1075 Chum Live\", \"360 Chum Live\", \"350 Chum Live\", \"295 Chum Live\", \"200 Chum Dead\", \"0 Chum Live\", \"0 Chum Live\", \"120 Chum Dead\", \"30 Cutthroat Live\", \"50 Chum Dead\", \"2011 Unknown Live\", \"2011 Unknown Live\", \"1975 Chum Dead\", \"2011 Coho Live\", \"1935 Chum Live\", \"1900 Unknown Live\", \"1900 Chum Live\", \"1850 Chum Dead\", \"1900 Chum Live\", \"1850 Chum Live\", \"1808 Coho Dead\", \"1850 Chum Live\", \"1710 Chum Dead\", \"1720 Cutthroat Dead\", \"1720 Chum Dead\", \"1740 Chum Live\", \"1575 Chum Dead\", \"1500 Chum Dead\", \"1490 Chum Live\", \"1375 Chum Live\", \"875 Chum Live\", \"1220 Chum Dead\", \"1220 Chum Live\", \"1220 Chum Live\", \"1175 Chum Dead\", \"1050 Chum Dead\", \"890 Coho Dead\", \"575 Chum Dead\", \"65 Chum Dead\", \"0 Chum Live\", \"0 Chum Remnant\", \"0 Chum Dead\", \"0 Chum Dead\", \"0 Chum Dead\", \"0 Chum Dead\", \"150 Chum Dead\", \"1950 Cutthroat Live\", \"1950 Chum Live\", \"1600 Cutthroat Live\", \"1600 Cutthroat Live\", \"1220 Chum Live\", \"1220 Chum Live\", \"1200 Chum Dead\", \"1200 Chum Live\", \"915 Chum Dead\", \"850 Chum Dead\", \"750 Cutthroat Live\", \"715 Chum Dead\", \"580 Chum Live\", \"570 Chum Live\", \"470 Coho Live\", \"450 Chum Live\", \"450 Cutthroat Live\", \"350 Chum Live\", \"250 Chum Live\", \"450 Chum Live\", \"45 Chum Live\", \"45 Chum Live\", \"1875 Coho Dead\", \"1450 Cutthroat Live\", \"1450 Coho Dead\", \"1300 Coho Dead\", \"1300 Coho Dead\", \"1250 Coho Dead\", \"1590 Coho Dead\", \"1540 Coho Dead\", \"1320 Unknown Live\", \"1290 Coho Dead\", \"1190 Coho Dead\", \"1170 Coho Dead\", \"980 Coho Dead\", \"980 Coho Dead\", \"980 Coho Dead\", \"980 Coho Dead\", \"980 Coho Dead\", \"700 Coho Dead\", \"650 Coho Dead\", \"0 Cutthroat Live\", \"0 Cutthroat Live\", \"450 Coho Live\", \"500 Chum Dead\", \"170 Live\", \"150 Chum Remnant\", \"95 Chum Live\", \"65 Chum Remnant\", \"65 Chum Remnant\", \"65 Chum Remnant\", \"0 Chum Dead\", \"0 Chum Remnant\", \"300 Cutthroat Live\", \"2000 Remnant\", \"1250 Coho Remnant\", \"1050 Coho Remnant\", \"600 Chum Dead\", \"0 Chum Live\", \"0 Chum Live\"], \"lat\": [\"\", 47.711008, 47.711078, 47.711394, 47.710789, \"\", \"\", 47.71092, 47.710879, \"\", \"\", \"\", \"\", \"\", \"\", 47.711452, \"\", \"\", 47.711629, 47.711794, \"\", 47.711266, 47.711333, 47.710748, 47.710842, \"\", 47.710835, 47.710946, 47.710965, 47.710915, 47.710897, 47.710793, \"\", \"\", 47.711238, 47.711299, 47.71136, 47.711449, 47.71145, 47.711763, 47.71173, 47.711657, 47.711822, 47.711858, \"\", 47.711384, 47.710905, 47.710902, 47.71078, 47.710433, 47.71083, 47.710804, \"\", 47.710742, 47.710755, 47.710958, 47.710788, 47.710896, 47.711114, 47.711018, 47.711068, 47.711119, 47.711056, \"\", 47.711231, 47.711362, 47.711433, 47.71107, \"\", 47.711272, 47.711247, 47.711388, 47.711486, \"\", 47.711492, 47.711636, 47.71198, 47.712642, 47.711226, 47.711235, 47.711198, 47.711186, \"\", \"\", 47.711092, 47.710909, 47.711366, 47.711406, 47.711299, 47.711276, 47.711268, 47.711336, 47.711493, 47.711572, 47.711493, 47.711478, 47.71148, 47.711638, 47.711667, 47.711649, 47.711694, 47.711627, 47.711748, \"\", \"\", \"\", \"\", \"\", \"\", \"\", \"\", \"\", \"\", \"\", \"\", \"\", \"\", \"\", \"\", \"\", \"\", \"\", \"\", \"\", \"\", \"\", \"\", \"\", \"\", \"\", 47.711829, 47.71188, 47.711882, 47.711877, 47.711878, 47.711177, \"\", 47.711841, 47.710828, 47.711323, 47.711509, 47.711579, 47.712024, 47.711997], \"lon\": [\"\", -122.372655, -122.37404, -122.374752, -122.371693, \"\", \"\", -122.3721, -122.372125, \"\", \"\", \"\", \"\", \"\", \"\", -122.376262, \"\", \"\", -122.378397, -122.379028, \"\", -122.37394, -122.374031, -122.371677, -122.37174, \"\", -122.371863, -122.371788, -122.371961, -122.372096, -122.372174, -122.372289, \"\", \"\", -122.373219, -122.373554, -122.374019, -122.374891, -122.374898, -122.378036, -122.378102, -122.378156, -122.378539, -122.379475, \"\", -122.371632, -122.371893, -122.371815, -122.371478, -122.371565, -122.371737, -122.37199, \"\", -122.371929, -122.371904, -122.372196, -122.371835, -122.372109, -122.372197, -122.372117, -122.372623, -122.372673, -122.372746, \"\", -122.373338, -122.373559, -122.373535, -122.373905, \"\", -122.37463, -122.374624, -122.374831, -122.374894, \"\", -122.37577, -122.377129, -122.379149, -122.37933, -122.380336, -122.380319, -122.380345, -122.380348, \"\", \"\", -122.37194, -122.372025, -122.373121, -122.37317, -122.374518, -122.374583, -122.374646, -122.374561, -122.37576, -122.375904, -122.37634, -122.376525, -122.377001, -122.377213, -122.377698, -122.377618, -122.377569, -122.377827, -122.378514, \"\", \"\", \"\", \"\", \"\", \"\", \"\", \"\", \"\", \"\", \"\", \"\", \"\", \"\", \"\", \"\", \"\", \"\", \"\", \"\", \"\", \"\", \"\", \"\", \"\", \"\", \"\", -122.37875, -122.379082, -122.379082, -122.379127, -122.379129, -122.380617, \"\", -122.37098, -122.371657, -122.374448, -122.375088, -122.376784, -122.379475, -122.379478], \"name\": \"\", \"radius\": 15, \"subplot\": \"mapbox\", \"type\": \"densitymapbox\"}],                        {\"coloraxis\": {\"colorscale\": [[0.0, \"#0d0887\"], [0.1111111111111111, \"#46039f\"], [0.2222222222222222, \"#7201a8\"], [0.3333333333333333, \"#9c179e\"], [0.4444444444444444, \"#bd3786\"], [0.5555555555555556, \"#d8576b\"], [0.6666666666666666, \"#ed7953\"], [0.7777777777777778, \"#fb9f3a\"], [0.8888888888888888, \"#fdca26\"], [1.0, \"#f0f921\"]], \"showscale\": false}, \"legend\": {\"tracegroupgap\": 0}, \"mapbox\": {\"center\": {\"lat\": 47.71157, \"lon\": -122.3759}, \"domain\": {\"x\": [0.0, 1.0], \"y\": [0.0, 1.0]}, \"style\": \"stamen-terrain\", \"zoom\": 15}, \"template\": {\"data\": {\"bar\": [{\"error_x\": {\"color\": \"#2a3f5f\"}, \"error_y\": {\"color\": \"#2a3f5f\"}, \"marker\": {\"line\": {\"color\": \"#E5ECF6\", \"width\": 0.5}}, \"type\": \"bar\"}], \"barpolar\": [{\"marker\": {\"line\": {\"color\": \"#E5ECF6\", \"width\": 0.5}}, \"type\": \"barpolar\"}], \"carpet\": [{\"aaxis\": {\"endlinecolor\": \"#2a3f5f\", \"gridcolor\": \"white\", \"linecolor\": \"white\", \"minorgridcolor\": \"white\", \"startlinecolor\": \"#2a3f5f\"}, \"baxis\": {\"endlinecolor\": \"#2a3f5f\", \"gridcolor\": \"white\", \"linecolor\": \"white\", \"minorgridcolor\": \"white\", \"startlinecolor\": \"#2a3f5f\"}, \"type\": \"carpet\"}], \"choropleth\": [{\"colorbar\": {\"outlinewidth\": 0, \"ticks\": \"\"}, \"type\": \"choropleth\"}], \"contour\": [{\"colorbar\": {\"outlinewidth\": 0, \"ticks\": \"\"}, \"colorscale\": [[0.0, \"#0d0887\"], [0.1111111111111111, \"#46039f\"], [0.2222222222222222, \"#7201a8\"], [0.3333333333333333, \"#9c179e\"], [0.4444444444444444, \"#bd3786\"], [0.5555555555555556, \"#d8576b\"], [0.6666666666666666, \"#ed7953\"], [0.7777777777777778, \"#fb9f3a\"], [0.8888888888888888, \"#fdca26\"], [1.0, \"#f0f921\"]], \"type\": \"contour\"}], \"contourcarpet\": [{\"colorbar\": {\"outlinewidth\": 0, \"ticks\": \"\"}, \"type\": \"contourcarpet\"}], \"heatmap\": [{\"colorbar\": {\"outlinewidth\": 0, \"ticks\": \"\"}, \"colorscale\": [[0.0, \"#0d0887\"], [0.1111111111111111, \"#46039f\"], [0.2222222222222222, \"#7201a8\"], [0.3333333333333333, \"#9c179e\"], [0.4444444444444444, \"#bd3786\"], [0.5555555555555556, \"#d8576b\"], [0.6666666666666666, \"#ed7953\"], [0.7777777777777778, \"#fb9f3a\"], [0.8888888888888888, \"#fdca26\"], [1.0, \"#f0f921\"]], \"type\": \"heatmap\"}], \"heatmapgl\": [{\"colorbar\": {\"outlinewidth\": 0, \"ticks\": \"\"}, \"colorscale\": [[0.0, \"#0d0887\"], [0.1111111111111111, \"#46039f\"], [0.2222222222222222, \"#7201a8\"], [0.3333333333333333, \"#9c179e\"], [0.4444444444444444, \"#bd3786\"], [0.5555555555555556, \"#d8576b\"], [0.6666666666666666, \"#ed7953\"], [0.7777777777777778, \"#fb9f3a\"], [0.8888888888888888, \"#fdca26\"], [1.0, \"#f0f921\"]], \"type\": \"heatmapgl\"}], \"histogram\": [{\"marker\": {\"colorbar\": {\"outlinewidth\": 0, \"ticks\": \"\"}}, \"type\": \"histogram\"}], \"histogram2d\": [{\"colorbar\": {\"outlinewidth\": 0, \"ticks\": \"\"}, \"colorscale\": [[0.0, \"#0d0887\"], [0.1111111111111111, \"#46039f\"], [0.2222222222222222, \"#7201a8\"], [0.3333333333333333, \"#9c179e\"], [0.4444444444444444, \"#bd3786\"], [0.5555555555555556, \"#d8576b\"], [0.6666666666666666, \"#ed7953\"], [0.7777777777777778, \"#fb9f3a\"], [0.8888888888888888, \"#fdca26\"], [1.0, \"#f0f921\"]], \"type\": \"histogram2d\"}], \"histogram2dcontour\": [{\"colorbar\": {\"outlinewidth\": 0, \"ticks\": \"\"}, \"colorscale\": [[0.0, \"#0d0887\"], [0.1111111111111111, \"#46039f\"], [0.2222222222222222, \"#7201a8\"], [0.3333333333333333, \"#9c179e\"], [0.4444444444444444, \"#bd3786\"], [0.5555555555555556, \"#d8576b\"], [0.6666666666666666, \"#ed7953\"], [0.7777777777777778, \"#fb9f3a\"], [0.8888888888888888, \"#fdca26\"], [1.0, \"#f0f921\"]], \"type\": \"histogram2dcontour\"}], \"mesh3d\": [{\"colorbar\": {\"outlinewidth\": 0, \"ticks\": \"\"}, \"type\": \"mesh3d\"}], \"parcoords\": [{\"line\": {\"colorbar\": {\"outlinewidth\": 0, \"ticks\": \"\"}}, \"type\": \"parcoords\"}], \"pie\": [{\"automargin\": true, \"type\": \"pie\"}], \"scatter\": [{\"marker\": {\"colorbar\": {\"outlinewidth\": 0, \"ticks\": \"\"}}, \"type\": \"scatter\"}], \"scatter3d\": [{\"line\": {\"colorbar\": {\"outlinewidth\": 0, \"ticks\": \"\"}}, \"marker\": {\"colorbar\": {\"outlinewidth\": 0, \"ticks\": \"\"}}, \"type\": \"scatter3d\"}], \"scattercarpet\": [{\"marker\": {\"colorbar\": {\"outlinewidth\": 0, \"ticks\": \"\"}}, \"type\": \"scattercarpet\"}], \"scattergeo\": [{\"marker\": {\"colorbar\": {\"outlinewidth\": 0, \"ticks\": \"\"}}, \"type\": \"scattergeo\"}], \"scattergl\": [{\"marker\": {\"colorbar\": {\"outlinewidth\": 0, \"ticks\": \"\"}}, \"type\": \"scattergl\"}], \"scattermapbox\": [{\"marker\": {\"colorbar\": {\"outlinewidth\": 0, \"ticks\": \"\"}}, \"type\": \"scattermapbox\"}], \"scatterpolar\": [{\"marker\": {\"colorbar\": {\"outlinewidth\": 0, \"ticks\": \"\"}}, \"type\": \"scatterpolar\"}], \"scatterpolargl\": [{\"marker\": {\"colorbar\": {\"outlinewidth\": 0, \"ticks\": \"\"}}, \"type\": \"scatterpolargl\"}], \"scatterternary\": [{\"marker\": {\"colorbar\": {\"outlinewidth\": 0, \"ticks\": \"\"}}, \"type\": \"scatterternary\"}], \"surface\": [{\"colorbar\": {\"outlinewidth\": 0, \"ticks\": \"\"}, \"colorscale\": [[0.0, \"#0d0887\"], [0.1111111111111111, \"#46039f\"], [0.2222222222222222, \"#7201a8\"], [0.3333333333333333, \"#9c179e\"], [0.4444444444444444, \"#bd3786\"], [0.5555555555555556, \"#d8576b\"], [0.6666666666666666, \"#ed7953\"], [0.7777777777777778, \"#fb9f3a\"], [0.8888888888888888, \"#fdca26\"], [1.0, \"#f0f921\"]], \"type\": \"surface\"}], \"table\": [{\"cells\": {\"fill\": {\"color\": \"#EBF0F8\"}, \"line\": {\"color\": \"white\"}}, \"header\": {\"fill\": {\"color\": \"#C8D4E3\"}, \"line\": {\"color\": \"white\"}}, \"type\": \"table\"}]}, \"layout\": {\"annotationdefaults\": {\"arrowcolor\": \"#2a3f5f\", \"arrowhead\": 0, \"arrowwidth\": 1}, \"coloraxis\": {\"colorbar\": {\"outlinewidth\": 0, \"ticks\": \"\"}}, \"colorscale\": {\"diverging\": [[0, \"#8e0152\"], [0.1, \"#c51b7d\"], [0.2, \"#de77ae\"], [0.3, \"#f1b6da\"], [0.4, \"#fde0ef\"], [0.5, \"#f7f7f7\"], [0.6, \"#e6f5d0\"], [0.7, \"#b8e186\"], [0.8, \"#7fbc41\"], [0.9, \"#4d9221\"], [1, \"#276419\"]], \"sequential\": [[0.0, \"#0d0887\"], [0.1111111111111111, \"#46039f\"], [0.2222222222222222, \"#7201a8\"], [0.3333333333333333, \"#9c179e\"], [0.4444444444444444, \"#bd3786\"], [0.5555555555555556, \"#d8576b\"], [0.6666666666666666, \"#ed7953\"], [0.7777777777777778, \"#fb9f3a\"], [0.8888888888888888, \"#fdca26\"], [1.0, \"#f0f921\"]], \"sequentialminus\": [[0.0, \"#0d0887\"], [0.1111111111111111, \"#46039f\"], [0.2222222222222222, \"#7201a8\"], [0.3333333333333333, \"#9c179e\"], [0.4444444444444444, \"#bd3786\"], [0.5555555555555556, \"#d8576b\"], [0.6666666666666666, \"#ed7953\"], [0.7777777777777778, \"#fb9f3a\"], [0.8888888888888888, \"#fdca26\"], [1.0, \"#f0f921\"]]}, \"colorway\": [\"#636efa\", \"#EF553B\", \"#00cc96\", \"#ab63fa\", \"#FFA15A\", \"#19d3f3\", \"#FF6692\", \"#B6E880\", \"#FF97FF\", \"#FECB52\"], \"font\": {\"color\": \"#2a3f5f\"}, \"geo\": {\"bgcolor\": \"white\", \"lakecolor\": \"white\", \"landcolor\": \"#E5ECF6\", \"showlakes\": true, \"showland\": true, \"subunitcolor\": \"white\"}, \"hoverlabel\": {\"align\": \"left\"}, \"hovermode\": \"closest\", \"mapbox\": {\"style\": \"light\"}, \"paper_bgcolor\": \"white\", \"plot_bgcolor\": \"#E5ECF6\", \"polar\": {\"angularaxis\": {\"gridcolor\": \"white\", \"linecolor\": \"white\", \"ticks\": \"\"}, \"bgcolor\": \"#E5ECF6\", \"radialaxis\": {\"gridcolor\": \"white\", \"linecolor\": \"white\", \"ticks\": \"\"}}, \"scene\": {\"xaxis\": {\"backgroundcolor\": \"#E5ECF6\", \"gridcolor\": \"white\", \"gridwidth\": 2, \"linecolor\": \"white\", \"showbackground\": true, \"ticks\": \"\", \"zerolinecolor\": \"white\"}, \"yaxis\": {\"backgroundcolor\": \"#E5ECF6\", \"gridcolor\": \"white\", \"gridwidth\": 2, \"linecolor\": \"white\", \"showbackground\": true, \"ticks\": \"\", \"zerolinecolor\": \"white\"}, \"zaxis\": {\"backgroundcolor\": \"#E5ECF6\", \"gridcolor\": \"white\", \"gridwidth\": 2, \"linecolor\": \"white\", \"showbackground\": true, \"ticks\": \"\", \"zerolinecolor\": \"white\"}}, \"shapedefaults\": {\"line\": {\"color\": \"#2a3f5f\"}}, \"ternary\": {\"aaxis\": {\"gridcolor\": \"white\", \"linecolor\": \"white\", \"ticks\": \"\"}, \"baxis\": {\"gridcolor\": \"white\", \"linecolor\": \"white\", \"ticks\": \"\"}, \"bgcolor\": \"#E5ECF6\", \"caxis\": {\"gridcolor\": \"white\", \"linecolor\": \"white\", \"ticks\": \"\"}}, \"title\": {\"x\": 0.05}, \"xaxis\": {\"automargin\": true, \"gridcolor\": \"white\", \"linecolor\": \"white\", \"ticks\": \"\", \"title\": {\"standoff\": 15}, \"zerolinecolor\": \"white\", \"zerolinewidth\": 2}, \"yaxis\": {\"automargin\": true, \"gridcolor\": \"white\", \"linecolor\": \"white\", \"ticks\": \"\", \"title\": {\"standoff\": 15}, \"zerolinecolor\": \"white\", \"zerolinewidth\": 2}}}, \"title\": {\"text\": \"Fish Heat Map\"}},                        {\"responsive\": true}                    ).then(function(){\n",
       "                            \n",
       "var gd = document.getElementById('b5915d96-47f1-4b3f-848e-48dbfaff1bbb');\n",
       "var x = new MutationObserver(function (mutations, observer) {{\n",
       "        var display = window.getComputedStyle(gd).display;\n",
       "        if (!display || display === 'none') {{\n",
       "            console.log([gd, 'removed!']);\n",
       "            Plotly.purge(gd);\n",
       "            observer.disconnect();\n",
       "        }}\n",
       "}});\n",
       "\n",
       "// Listen for the removal of the full notebook cells\n",
       "var notebookContainer = gd.closest('#notebook-container');\n",
       "if (notebookContainer) {{\n",
       "    x.observe(notebookContainer, {childList: true});\n",
       "}}\n",
       "\n",
       "// Listen for the clearing of the current output cell\n",
       "var outputEl = gd.closest('.output');\n",
       "if (outputEl) {{\n",
       "    x.observe(outputEl, {childList: true});\n",
       "}}\n",
       "\n",
       "                        })                };                });            </script>        </div>"
      ]
     },
     "metadata": {},
     "output_type": "display_data"
    },
    {
     "data": {
      "image/png": "[encoded data removed]",
      "text/plain": [
       "<Figure size 432x288 with 1 Axes>"
      ]
     },
     "metadata": {
      "needs_background": "light"
     },
     "output_type": "display_data"
    }
   ],
   "source": [
    "import requests, json, datetime, matplotlib.pyplot as plt, plotly.express as px, pandas as pd\n",
    "\n",
    "def getEntries(uri):\n",
    "    request = requests.get(url = uri)\n",
    "    df = pd.DataFrame(pd.json_normalize(request.json()['data']['entries']))\n",
    "    while request.json()['links']['next'] is not None:\n",
    "        nextURL = request.json()['links']['next']\n",
    "        request = requests.get(url = nextURL)\n",
    "        df = df.append(pd.json_normalize(request.json()['data']['entries']))\n",
    "    return df\n",
    "\n",
    "def addStats(survey, salmonDf):\n",
    "    surveyUUID = survey['ec5_uuid']\n",
    "    todaySalmonDf = salmonDf[salmonDf['ec5_parent_uuid'] == surveyUUID] \n",
    "    deadChum = (todaySalmonDf.loc[((todaySalmonDf['12_Species'] == 'Chum') & (todaySalmonDf['16_Status'] == 'Dead'))].shape[0]) \n",
    "    deadCoho = (todaySalmonDf.loc[((todaySalmonDf['12_Species'] == 'Coho') & (todaySalmonDf['16_Status'] == 'Dead'))].shape[0])\n",
    "    liveChum = (todaySalmonDf.loc[((todaySalmonDf['12_Species'] == 'Chum') & (todaySalmonDf['16_Status'] == 'Live'))].shape[0])\n",
    "    liveCoho = (todaySalmonDf.loc[((todaySalmonDf['12_Species'] == 'Coho') & (todaySalmonDf['16_Status'] == 'Live'))].shape[0])\n",
    "    remnant = todaySalmonDf.loc[(todaySalmonDf['16_Status'] == 'Remnant')].shape[0]\n",
    "    totalDead = todaySalmonDf.loc[(todaySalmonDf['16_Status'] == 'Dead')].shape[0]\n",
    "    totalLive = todaySalmonDf.loc[(todaySalmonDf['16_Status'] == 'Live')].shape[0]\n",
    "    total = (todaySalmonDf.shape[0])\n",
    "    statsRow = pd.Series({'Survey Date': datetime.datetime.strptime(survey['1_Survey_Date'], '%m/%d/%Y').date(), 'Dead Chum': deadChum, 'Dead Coho': deadCoho, 'Live Chum': liveChum, 'Live Coho': liveCoho, 'Remnant': remnant, 'Total Dead': totalDead, 'Total Live': totalLive, 'Total': total})\n",
    "    global statsDf\n",
    "    statsDf = statsDf.append(statsRow, ignore_index = True)\n",
    "    \n",
    "pd.set_option('display.precision', 0)\n",
    "salmonFormURI = 'https://five.epicollect.net/api/export/entries/salmon-survey-2019?form_ref=397fba6ecc674b74836efc190840c42d_5d6f509867795'\n",
    "surveyFormURI = 'https://five.epicollect.net/api/export/entries/salmon-survey-2019?form_ref=397fba6ecc674b74836efc190840c42d_5d6f454667a28'\n",
    "salmonDf = getEntries(salmonFormURI)\n",
    "surveyDf = getEntries(surveyFormURI)\n",
    "statsDf = pd.DataFrame()\n",
    "columnOrder =  ['Survey Date', 'Total', 'Total Live', 'Total Dead', 'Live Chum', 'Live Coho', 'Dead Chum', 'Dead Coho', 'Remnant']\n",
    "surveyDf.apply(addStats, axis=1, args=[salmonDf])\n",
    "statsDf = statsDf.sort_values(by=['Survey Date'])[columnOrder]\n",
    "print(statsDf.to_markdown(tablefmt='simple'))\n",
    "plot = statsDf.plot(ylabel = 'Count', title = 'Fish Count', rot=45, y=['Total', 'Total Live', 'Total Dead', 'Live Chum', 'Dead Chum', 'Live Coho', 'Dead Coho', 'Remnant'], x='Survey Date')\n",
    "fig = px.density_mapbox(salmonDf, lat='15_Location.latitude', lon='15_Location.longitude', radius=15,\n",
    "                        center=dict(lat=47.71157, lon=-122.3759), zoom=15, hover_name = 'title', hover_data = ['15_Location.accuracy'],\n",
    "                        mapbox_style='stamen-terrain', title='Fish Heat Map')\n",
    "fig.layout.coloraxis.showscale = False\n",
    "fig.show()"
   ]
  },
  {
   "cell_type": "code",
   "execution_count": null,
   "metadata": {},
   "outputs": [],
   "source": []
  },
  {
   "cell_type": "code",
   "execution_count": null,
   "metadata": {},
   "outputs": [],
   "source": []
  },
  {
   "cell_type": "code",
   "execution_count": null,
   "metadata": {},
   "outputs": [],
   "source": []
  },
  {
   "cell_type": "code",
   "execution_count": null,
   "metadata": {},
   "outputs": [],
   "source": []
  }
 ],
 "metadata": {
  "kernelspec": {
   "display_name": "Python 3",
   "language": "python",
   "name": "python3"
  },
  "language_info": {
   "codemirror_mode": {
    "name": "ipython",
    "version": 3
   },
   "file_extension": ".py",
   "mimetype": "text/x-python",
   "name": "python",
   "nbconvert_exporter": "python",
   "pygments_lexer": "ipython3",
   "version": "3.8.5"
  }
 },
 "nbformat": 4,
 "nbformat_minor": 4
}
